{
 "cells": [
  {
   "cell_type": "code",
   "execution_count": 1,
   "metadata": {
    "code_folding": [
     0
    ]
   },
   "outputs": [],
   "source": [
    "# execute to import notebook styling for tables and width etc.\n",
    "from IPython.core.display import HTML\n",
    "import urllib.request\n",
    "response = urllib.request.urlopen('https://raw.githubusercontent.com/DataScienceUWL/DS775v2/master/ds755.css')\n",
    "HTML(response.read().decode(\"utf-8\"));"
   ]
  },
  {
   "cell_type": "markdown",
   "metadata": {},
   "source": [
    "<font size=18>Lesson 08 - Self-Assessment Solutions</font>"
   ]
  },
  {
   "cell_type": "markdown",
   "metadata": {
    "heading_collapsed": true
   },
   "source": [
    "### <font color = \"blue\"> Self-Assessment: Simulation - Solution </font>"
   ]
  },
  {
   "cell_type": "markdown",
   "metadata": {
    "hidden": true
   },
   "source": [
    "Answer: True"
   ]
  },
  {
   "cell_type": "markdown",
   "metadata": {
    "heading_collapsed": true
   },
   "source": [
    "### <font color = \"blue\"> Self-Assessment: Simulating a System - Solution </font>"
   ]
  },
  {
   "cell_type": "markdown",
   "metadata": {
    "hidden": true
   },
   "source": [
    "Answer: True"
   ]
  },
  {
   "cell_type": "markdown",
   "metadata": {
    "heading_collapsed": true
   },
   "source": [
    "### <font color = \"blue\"> Self-Assessment: Type of Simulation - Solution </font>"
   ]
  },
  {
   "cell_type": "markdown",
   "metadata": {
    "hidden": true
   },
   "source": [
    "Answer: \n",
    "\n",
    "a. The number of products sold over time. (yes)\n",
    "\n",
    "b. The air pressure in submarine during its time under the water. (no)\n",
    "\n",
    "c. The arrival of customers to a queue.  (yes)\n",
    "\n",
    "d. Whether is rains or not in a day over a 10-year period. (yes)\n",
    "\n",
    "e. The temperature of an engine over a period of operation. (no)\n"
   ]
  },
  {
   "cell_type": "markdown",
   "metadata": {
    "heading_collapsed": true
   },
   "source": [
    "### <font color = \"blue\"> Self Assessment: Simulation and Time - Solution </font>"
   ]
  },
  {
   "cell_type": "markdown",
   "metadata": {
    "hidden": true
   },
   "source": [
    "Answer:  True"
   ]
  },
  {
   "cell_type": "markdown",
   "metadata": {
    "heading_collapsed": true
   },
   "source": [
    "### <font color = \"blue\"> Self-Assessment: Generalizing Simulation Results - Solution </font> "
   ]
  },
  {
   "cell_type": "markdown",
   "metadata": {
    "hidden": true
   },
   "source": [
    "Answer: False. Generalizing beyond he conditions of the simulation could lead to erroneous results."
   ]
  },
  {
   "cell_type": "markdown",
   "metadata": {
    "heading_collapsed": true
   },
   "source": [
    "### <font color = \"blue\"> Self-Assessment: Discrete-Event Simulation - Solution </font>"
   ]
  },
  {
   "cell_type": "markdown",
   "metadata": {
    "hidden": true
   },
   "source": [
    "(b) A baseball pitcher who throws a strike 60 percent of the time and a ball 40 percent of the time.\n",
    "\n",
    "Let 0 <= rand <= 0.6 correspond to strikes and 0.6 < rand <= 1 correspond to balls.\n",
    "\n",
    "Random observations: \n",
    "\n",
    "0.3039 = strike\n",
    "\n",
    "0.7914 = ball\n",
    "\n",
    "0.8543 = ball \n",
    "\n",
    "0.6902 = ball\n",
    "\n",
    "0.3004 = strike \n",
    "\n",
    "0.0383 = strike\n",
    "\n",
    "*Note that the results would be different if you make the arbitrary choice that 0 to 0.4 corresponds to balls and 0.4 to 1 correspond to strikes.*\n",
    "\n",
    "(c) The color of a traffic light found by a randomly arriving car when it is green 40 percent of the time, yellow 10 percent of the time, and red 50 percent of the time.\n",
    "\n",
    "One way is to let 0 <= rand <= 0.4 correspond to green lights, 0.4 < rand <= 0.5 correspond to yellow lights, and 0.5 < rand <=1 correspond to red lights.\n",
    "\n",
    "Random observations: \n",
    "\n",
    "0.3039 = green \n",
    "\n",
    "0.7914 = red \n",
    "\n",
    "0.8543 = red \n",
    "\n",
    "0.6902 = red\n",
    "\n",
    "0.3004 = green \n",
    "\n",
    "0.0383 = green"
   ]
  },
  {
   "cell_type": "markdown",
   "metadata": {
    "heading_collapsed": true
   },
   "source": [
    "### <font color = \"blue\"> Self-Assessment: Discrete-Event Simulation 2 - Solution </font>"
   ]
  },
  {
   "cell_type": "markdown",
   "metadata": {
    "hidden": true
   },
   "source": [
    "(a) Since the data for sales covers 25 days, the number of days for each number of sales can be used to estimate the probability of selling that number of stoves on any given day as \n",
    "\n",
    "$P(2)=\\frac{2}{25}$, $P(3)=\\frac{7}{25}$, $P(4)=\\frac{8}{25}$, $P(5)=\\frac{5}{25}$, $P(6)=\\frac{1}{25}$.\n",
    "\n",
    "(b) For a discrete random variable like this, the mean is computed analytically as\n",
    "\n",
    "$\\mu = 2 \\cdot \\frac{2}{25} + 3 \\cdot \\frac{7}{25} + 4 \\cdot \\frac{8}{25} + 5 \\cdot \\frac{5}{25} + 6 \\cdot \\frac{1}{25} = 3.68$.\n",
    "\n",
    "(e) See the following cell for the simulation.  How close is the simulated answer to the exact answer given in part (b)?"
   ]
  },
  {
   "cell_type": "code",
   "execution_count": 21,
   "metadata": {
    "hidden": true
   },
   "outputs": [
    {
     "name": "stdout",
     "output_type": "stream",
     "text": [
      "The average of daily sales over 300 days is 3.79.\n"
     ]
    }
   ],
   "source": [
    "# Simulation for Textbook Problem 20.3 (e)\n",
    "\n",
    "import numpy as np\n",
    "\n",
    "np.random.seed(seed=222)\n",
    "\n",
    "SimSize = 300\n",
    "dailySales = np.zeros(SimSize)\n",
    "\n",
    "for i in range(SimSize):\n",
    "    salesResult = np.random.uniform(low=0.0, high=1.0, size=1)\n",
    "    \n",
    "    if salesResult <= 2/25: \n",
    "        dailySales[i] = 2\n",
    "    elif  (salesResult > 2/25 and salesResult <= 0.44):\n",
    "        dailySales[i] = 3\n",
    "    elif  (salesResult > 0.44 and salesResult <=0.76):\n",
    "        dailySales[i] = 4    \n",
    "    elif  (salesResult > 0.76 and salesResult <=.96):\n",
    "        dailySales[i] = 5  \n",
    "    else:\n",
    "        dailySales[i] = 6\n",
    "\n",
    "print(\"The average of daily sales over 300 days is {:2.2f}\".format(np.mean(dailySales))+\".\")"
   ]
  },
  {
   "cell_type": "markdown",
   "metadata": {
    "heading_collapsed": true
   },
   "source": [
    "### <font color = \"blue\"> Self-Assessment: Simulation Results - Solution </font>"
   ]
  },
  {
   "cell_type": "markdown",
   "metadata": {
    "hidden": true
   },
   "source": [
    "Answer: False.  Simulations have inherent variability, so they provides only statistical estimates rather than exact results.\n"
   ]
  },
  {
   "cell_type": "markdown",
   "metadata": {
    "heading_collapsed": true
   },
   "source": [
    "### <font color = \"blue\"> Self-Assessment: Simulating Outcomes - Solution </font>"
   ]
  },
  {
   "cell_type": "markdown",
   "metadata": {
    "hidden": true
   },
   "source": [
    "Answer: random number generator."
   ]
  },
  {
   "cell_type": "markdown",
   "metadata": {
    "heading_collapsed": true
   },
   "source": [
    "### <font color = \"blue\"> Self-Assessment: Random Variables in Simulation - Solution </font>"
   ]
  },
  {
   "cell_type": "markdown",
   "metadata": {
    "hidden": true
   },
   "source": [
    "Answer: False.  An effort should be made to determine a distribution that most closely models the physical process."
   ]
  },
  {
   "cell_type": "markdown",
   "metadata": {
    "heading_collapsed": true
   },
   "source": [
    "### <font color = \"blue\"> Self-Assessment: Simulation Reproducibility - Solution </font>"
   ]
  },
  {
   "cell_type": "markdown",
   "metadata": {
    "hidden": true
   },
   "source": [
    "Answer: seed."
   ]
  },
  {
   "cell_type": "code",
   "execution_count": null,
   "metadata": {
    "hidden": true
   },
   "outputs": [],
   "source": []
  }
 ],
 "metadata": {
  "kernelspec": {
   "display_name": "Python 3",
   "language": "python",
   "name": "python3"
  },
  "language_info": {
   "codemirror_mode": {
    "name": "ipython",
    "version": 3
   },
   "file_extension": ".py",
   "mimetype": "text/x-python",
   "name": "python",
   "nbconvert_exporter": "python",
   "pygments_lexer": "ipython3",
   "version": "3.7.3"
  },
  "toc": {
   "base_numbering": 1,
   "nav_menu": {},
   "number_sections": true,
   "sideBar": true,
   "skip_h1_title": false,
   "title_cell": "Table of Contents",
   "title_sidebar": "Contents",
   "toc_cell": false,
   "toc_position": {},
   "toc_section_display": true,
   "toc_window_display": true
  }
 },
 "nbformat": 4,
 "nbformat_minor": 2
}
