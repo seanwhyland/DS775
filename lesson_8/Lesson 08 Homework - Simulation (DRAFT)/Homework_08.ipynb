{
 "cells": [
  {
   "cell_type": "code",
   "execution_count": 1,
   "metadata": {
    "code_folding": [
     0
    ]
   },
   "outputs": [],
   "source": [
    "# execute to import notebook styling for tables and width etc.\n",
    "from IPython.core.display import HTML\n",
    "import urllib.request\n",
    "response = urllib.request.urlopen('https://raw.githubusercontent.com/DataScienceUWL/DS775v2/master/ds755.css')\n",
    "HTML(response.read().decode(\"utf-8\"));"
   ]
  },
  {
   "cell_type": "code",
   "execution_count": 2,
   "metadata": {},
   "outputs": [],
   "source": [
    "import numpy as np\n",
    "import pandas as pd\n",
    "import matplotlib.pyplot as plt\n",
    "import babel.numbers as numbers\n",
    "from scipy.optimize import minimize_scalar"
   ]
  },
  {
   "cell_type": "markdown",
   "metadata": {},
   "source": [
    "<font size=18>Lesson 08 Homework</font>"
   ]
  },
  {
   "cell_type": "markdown",
   "metadata": {},
   "source": [
    "# Textbook Problem 20.2"
   ]
  },
  {
   "cell_type": "markdown",
   "metadata": {},
   "source": [
    "The weather can be considered a stochastic system, because it evolves in a probabilistic manner from one day to the next. Suppose for a certain location that this probabilistic series satisfies the following description:\n",
    "\n",
    "The probability of rain tomorrow is 0.6 if it is raining today. The probability of its being clear (no rain) tomorrow is 0.8 if it is clear today.\n",
    "\n",
    "We've modified the problem a bit from the text book:  use uniformly distributed random numbers to simulate a sequence of 1000 days starting from a clear day.  Your code should output the the approximate probability of a rainy day based on your simulation results.\n",
    "\n",
    "<font color = \"blue\"> *** 6 points -  answer in cell below *** (don't delete this cell) </font>"
   ]
  },
  {
   "cell_type": "code",
   "execution_count": null,
   "metadata": {},
   "outputs": [],
   "source": [
    "def predict_forecast(days):\n",
    "    np.random.seed(1)\n",
    "    forecast = {}\n",
    "    rain_today = 0\n",
    "\n",
    "    for i in range(days):\n",
    "        if i > 0:\n",
    "            rain_today = np.random.randint(2, size=1)[0]\n",
    "\n",
    "        if rain_today == 1:\n",
    "            rain_tomorrow = 0.6\n",
    "\n",
    "        elif rain_today == 0:\n",
    "            rain_tomorrow = 1 - 0.8\n",
    "\n",
    "        day = f\"day {i+1}\"\n",
    "        forecast[day] = round(rain_tomorrow,2)\n",
    "\n",
    "    prob_rain = round(np.mean(list(forecast.values())),2)*100\n",
    "    print(f\"Approximate probability of rain over {days} days: {prob_rain}%\")\n",
    "    return None\n",
    "\n",
    "\n",
    "predict_forecast(1000)"
   ]
  },
  {
   "cell_type": "markdown",
   "metadata": {},
   "source": [
    "# Textbook Problem 20.6-7"
   ]
  },
  {
   "cell_type": "markdown",
   "metadata": {},
   "source": [
    "Now that Jennifer is in middle school, her parents have decided that they really must start saving for her college education. They have \\\\$10,000 to invest right now. Furthermore, they plan to save another $4,000 each year until Jennifer starts college five years from now. They plan to split their investment evenly between a stock fund and a bond fund. Historically, the stock fund has had an average annual return of 8 percent with a standard deviation of 6 percent. The bond fund has had an average annual return of 4 percent with a standard deviation of 3 percent. (Assume a normal distribution for both.)\n",
    "Assume that the initial investment (\\\\$10,000) is made right now (year 0) and is split evenly between the two funds (i.e., \\\\$5,000 in each fund). The returns of each fund are allowed to accumulate (i.e., are reinvested) in the same fund and no redistribution will be done before Jennifer starts college. Furthermore, four additional investments of \\\\$4,000 will be made and split evenly between both funds (\\\\$2,000 each) at the end of year 1, year 2, year 3, and year 4, plus another \\\\$4,000 of savings will be available at the end of year 5, just in time for Jennifer to begin college. Use a 1000-trial simulation to estimate each of the following.\n",
    "\n",
    "**(a)** What will be the expected value (mean) of the college fund\n",
    "at the end of year 5?\n",
    "\n",
    "**(b)** What will be the standard deviation of the college fund at the\n",
    "end of year 5?\n",
    "\n",
    "**(c)** What is the probability that the college fund at the end of year\n",
    "5 will be at least \\\\$35,000?\n",
    "\n",
    "**(d)** What is the probability that the college fund at the end of year\n",
    "5 will be at least \\\\$40,000?\n",
    "\n",
    "You can put all your code in one cell and print out the answers to (a)-(d) in a nicely formatted fashion please.  Your answers should be formatted as currency to the nearest $0.01.\n",
    "\n",
    "<font color = \"blue\"> *** 12 points -  answer in cell below *** (don't delete this cell) </font>"
   ]
  },
  {
   "cell_type": "code",
   "execution_count": null,
   "metadata": {},
   "outputs": [],
   "source": [
    "%matplotlib notebook\n",
    "\n",
    "sim_size = 1000\n",
    "college_fund = np.zeros(sim_size)\n",
    "\n",
    "for i in range(sim_size):\n",
    "    stock_fund, bond_fund = 5000, 5000\n",
    "    \n",
    "    for j in range(0,5):\n",
    "        # stock/bond returns\n",
    "        stock_returns = np.mean(np.random.normal(loc=8,scale=6,size=100))\n",
    "        bond_returns = np.mean(np.random.normal(loc=4,scale=3,size=100))\n",
    "        stock_i = (1 + (stock_returns/100))\n",
    "        bond_i = (1 + (bond_returns/100))\n",
    "\n",
    "        # increment funds\n",
    "        stock_fund = (stock_fund * stock_i) + 2000\n",
    "        bond_fund = (bond_fund * bond_i) + 2000\n",
    "    \n",
    "    college_fund[i] = stock_fund + bond_fund\n",
    "    stock_fund, bond_fund = 0, 0\n",
    "    \n",
    "mean_fund = round(np.mean(college_fund),2)\n",
    "std_fund = round(np.std(college_fund),2)\n",
    "greater_than_35k = len(np.where(college_fund >= 35000)[0])/len(college_fund)\n",
    "greater_than_40k = len(np.where(college_fund >= 40000)[0])/len(college_fund)\n",
    "\n",
    "print(f\"\"\"mean of college fund: {mean_fund}\n",
    "std of college fund: {std_fund}\n",
    "prob greater than 35k: {greater_than_35k}\n",
    "prob greater than 40k: {greater_than_40k}\"\"\")"
   ]
  },
  {
   "cell_type": "markdown",
   "metadata": {},
   "source": [
    "# Textbook Problem 20.6-9"
   ]
  },
  {
   "cell_type": "markdown",
   "metadata": {},
   "source": [
    "Road Pavers, Inc. (RPI) is considering bidding on a county road construction project. RPI has estimated that the cost of this particular project would be \\\\$5 million. In addition, the cost of putting together a bid is estimated to be \\\\$50,000. The county also will receive four other bids on the project from competitors of RPI. Past experience with these competitors suggests that each competitor’s bid is most likely to be 20 percent over the project cost of \\\\$5 million, but could be as low as 5 percent over or as much as 40 percent over this cost. Assume a triangular distribution for each of these bids.\n",
    "\n",
    "**(a)** Suppose that RPI bids \\\\$5.7 million on the project. Perform 1,000 trials of a simulation. What is the probability that RPI will win the bid? What is RPI’s mean profit?\n",
    "\n",
    "<font color = \"blue\"> *** 4 points -  answer in cell below *** (don't delete this cell) </font>"
   ]
  },
  {
   "cell_type": "code",
   "execution_count": null,
   "metadata": {},
   "outputs": [],
   "source": [
    "num_competitors = 4\n",
    "project_cost = 5000000 + 50000\n",
    "rpi_bid = 5700000\n",
    "\n",
    "possible_bids = np.arange(5.3,6,0.1)*1000000\n",
    "\n",
    "def bid_sim(rpi_bid, sim_size = 1000, project_cost = 5050000, num_competitors = 4):\n",
    "    lowest_bids = np.empty(sim_size)\n",
    "    winners = np.empty(sim_size, dtype = np.object)\n",
    "    competitor_bids = np.zeros(num_competitors)\n",
    "    \n",
    "    for i in range(sim_size):\n",
    "        for j in range(num_competitors):\n",
    "            competitor_bid_rate = np.random.triangular(2, 20, 40)\n",
    "            competitor_bids[j] = project_cost * (1+(competitor_bid_rate/100))\n",
    "\n",
    "        min_comp_bid = min(competitor_bids)\n",
    "        lowest_bid = min(rpi_bid, min_comp_bid)\n",
    "\n",
    "        if lowest_bid == rpi_bid:\n",
    "            winners[i] = \"rpi\"\n",
    "            lowest_bids[i] = rpi_bid\n",
    "        else:\n",
    "            winners[i] = np.argmin(competitor_bids)\n",
    "            lowest_bids[i] = min_comp_bid\n",
    "\n",
    "    rpi_winners = np.where(winners == 'rpi')[0]\n",
    "\n",
    "    prob_rpi = len(rpi_winners)/len(winners)\n",
    "    rpi_profit = rpi_bid - project_cost\n",
    "    mean_profit = np.mean(lowest_bids) - project_cost\n",
    "    profit_retainer = round(rpi_profit * prob_rpi,3)\n",
    "\n",
    "    return prob_rpi, rpi_profit, profit_retainer"
   ]
  },
  {
   "cell_type": "markdown",
   "metadata": {},
   "source": [
    "**(b)** Generate a parameter analysis report to consider eight possible bids between \\\\$5.3 million and $6 million in order to forecast RPI’s mean profit for each bid. Which of these bids maximizes RPI’s mean profit?\n",
    "\n",
    "<font color = \"blue\"> *** 4 points -  answer in cell below *** (don't delete this cell) </font>"
   ]
  },
  {
   "cell_type": "code",
   "execution_count": null,
   "metadata": {},
   "outputs": [],
   "source": [
    "possible_bids = np.arange(5.3,6,0.1)*1000000\n",
    "mean_profit = np.zeros(len(possible_bids))\n",
    "probabilities = np.zeros(len(possible_bids))\n",
    "profit_retainer_ls = np.zeros(len(possible_bids))\n",
    "\n",
    "for k, bid in enumerate(possible_bids):\n",
    "    probabilities[k], mean_profit[k], profit_retainer_ls[k] = bid_sim(bid)\n",
    "\n",
    "df = pd.DataFrame({\n",
    "    'Bid': possible_bids,\n",
    "    'RPI_Prob': probabilities,\n",
    "    'RPI_Profit': mean_profit,\n",
    "    'Profit_retainer': profit_retainer_ls\n",
    "})\n",
    "df"
   ]
  },
  {
   "cell_type": "markdown",
   "metadata": {},
   "source": [
    "**(c)** Generate a trend chart for the eight bids considered in part (b).\n",
    "\n",
    "<font color = \"blue\"> *** 4 points -  answer in cell below *** (don't delete this cell) </font>"
   ]
  },
  {
   "cell_type": "code",
   "execution_count": null,
   "metadata": {},
   "outputs": [],
   "source": [
    "fig, ax = plt.subplots(figsize=(6, 5))\n",
    "ax.plot('Bid','Profit_retainer',data=df, linestyle='-', marker='o');\n",
    "ax.set_xticklabels([str(round(bid/1000)) + \"k\" for bid in df.iloc[:,0].tolist()])\n",
    "ax.set_yticklabels([str(round(profit/1000)) + \"k\" for profit in df.iloc[:,3].tolist()])\n",
    "plt.xlabel('Bid', fontsize=12);\n",
    "plt.ylabel('Profit Retainer', fontsize=12);\n",
    "plt.title(\"Trend Chart\");"
   ]
  },
  {
   "cell_type": "markdown",
   "metadata": {},
   "source": [
    "**(d)** Perform an automated search to find the bid that maximizes RPI’s mean profit. (Use one of the optimization tools we've studied.)\n",
    "\n",
    "<font color = \"blue\"> *** 4 points -  answer in cell below *** (don't delete this cell) </font>"
   ]
  },
  {
   "cell_type": "code",
   "execution_count": null,
   "metadata": {},
   "outputs": [],
   "source": [
    "# find maximum average profit\n",
    "# results will vary slightly on each run\n",
    "\n",
    "# to maximize we minimize the negative profit\n",
    "def neg_mean_profit(bid):\n",
    "    return(-bid_sim(bid)[2]) # simulate stats and return just mean\n",
    "\n",
    "result = minimize_scalar(neg_mean_profit,bounds=[5050000,7000000],method='bounded')\n",
    "\n",
    "# summarize results\n",
    "print(f\"Maximum mean profit is: ${numbers.format_decimal(round(-result['fun']))}\")\n",
    "print(f\"And occurs at a bid of ${numbers.format_decimal(round(result['x']))}\")"
   ]
  },
  {
   "cell_type": "markdown",
   "metadata": {},
   "source": [
    "# Sausage Making - Simulation with Optimization"
   ]
  },
  {
   "cell_type": "markdown",
   "metadata": {},
   "source": [
    "We're going to revisit the Sausage Factory problem from Lessons 1 and 2, but this time, we're going to introduce uncertainty.\n",
    "\n",
    "In Lesson 2, we optimized the cost of our sausage making, by altering the ingredients in each sausage type to meet minimum requirements and fulfill a demand of 350 economy sausages and 500 premium sausages a week.\n",
    "\n",
    "In reality, our demand fluctuates week to week. \n",
    "\n",
    "The basic set up of the problem is the same.\n",
    "\n",
    "We're going to make sausages by blending pork, wheat, and starch.  Our objective is to minimize the cost of making the sausages.  The table below shows the ingredients available, the cost, and the amount of each ingredient available from our supplier:\n",
    "\n",
    "Ingredient | Cost ($/kg) | Amount (kg)\n",
    "-----------|------|--------------\n",
    "Pork       | 4.32 | 7 kg\n",
    "Wheat      | 2.46 | 20.0\n",
    "Starch     | 1.86 | 17\n",
    "\n",
    "\n",
    "\n",
    "We want to make 2 types of sausage:\n",
    "* Economy ( > 40\\% pork )\n",
    "* Premium ( > 60\\% pork )\n",
    "\n",
    "Each sausage is 50 grams (0.05 kg).  \n",
    "\n",
    "According to government regulations, the most starch we can use in our sausages is 25\\% by weight."
   ]
  },
  {
   "cell_type": "markdown",
   "metadata": {},
   "source": [
    "**New Information:**"
   ]
  },
  {
   "cell_type": "markdown",
   "metadata": {},
   "source": [
    "The price for pre-purchased pork is \\$3.10, for a discount of 1.12 per kg. We will be fairly conservative in our estimates of pre-purchase, and we are setting our minimum pork used to our pre-purchased amount, so we will only need to calculate the total discount in our objective, not a penalty for buying overage.  \n",
    "\n",
    "While our demand fluctuates, we know that our demand for economy sausages is between 325 and 375 each week and our demand for premium sausage is between 450 and 550 each week. Demand appears to be uniformly distributed (use `np.random.randint`).\n",
    "\n",
    "***This is a prescriptive analytics problem!  You are prescribing the amount of pork to buy under contract to minimize future cost in an uncertain future.***"
   ]
  },
  {
   "cell_type": "markdown",
   "metadata": {},
   "source": [
    "**(a)** Write a function that takes in the amount of discount pork we will pre-purchase as a variable (x). \n",
    "\n",
    "Inside the function, write a 1000 iteration loop that solves the optimization problem with random variables for demand and x as your stand in for the minimum amount of discount pork produced. Track the amount of full-price pork used and the cost of each iteration and return both from your function.  \n",
    "\n",
    "You may base your Pyomo model on either the concrete or abstract formulations in Lesson 1 and Lesson 2 presentations, respectively.\n",
    "\n",
    "<font color = \"blue\"> *** 4 points -  answer in cell below *** (don't delete this cell) </font>"
   ]
  },
  {
   "cell_type": "code",
   "execution_count": 3,
   "metadata": {},
   "outputs": [],
   "source": [
    "### Imports ###\n",
    "\n",
    "from pyomo.environ import *\n",
    "import pandas as pd # used for results display\n",
    "\n",
    "def supply_optimizer(discount_pork):\n",
    "    # Unfold to see the Pyomo solution with arrays of decision variables\n",
    "    ### Problem Data ###\n",
    "\n",
    "    types = ['economy','premium']\n",
    "    ingredients = ['pork', 'wheat', 'starch']\n",
    "\n",
    "    cost = dict( zip( ingredients, [4.32, 2.46, 1.86] ) )\n",
    "\n",
    "    kg_per_sausage = 0.05\n",
    "\n",
    "    mnpi = [[.4,.6],[0,0],[0,0]]\n",
    "    min_prop_ing = { ingredients[i]:{ types[j]:mnpi[i][j] for j in range(len(types)) } for i in range(len(ingredients)) }\n",
    "    mxpi = [[1,1],[1,1],[.25,.25]]\n",
    "    max_prop_ing = { ingredients[i]:{ types[j]:mxpi[i][j] for j in range(len(types)) } for i in range(len(ingredients)) }\n",
    "\n",
    "    max_ingredient = dict( zip( ingredients, [discount_pork+7, 20, 17] ) )\n",
    "    min_ingredient = dict( zip( ingredients, [discount_pork,  0,  0] ) )\n",
    "\n",
    "    output = []\n",
    "\n",
    "    for _ in range(1000):\n",
    "        number_each_type = dict( zip( types, [np.random.randint(325,375), np.random.randint(450,550)] ) )\n",
    "        ### Pyomo Model ###\n",
    "\n",
    "        # Concrete Model\n",
    "        M = ConcreteModel(name = \"Sausages\")\n",
    "\n",
    "        # Decision Variables\n",
    "        M.amount = Var(ingredients, types, domain = NonNegativeReals)\n",
    "\n",
    "        # Objective\n",
    "        M.cost = Objective( expr = sum( cost[i] * sum(M.amount[i,t] for t in types) \n",
    "                                       for i in ingredients) - 1.22*discount_pork, \n",
    "                           sense = minimize )\n",
    "\n",
    "        M.tot_sausages_ct = ConstraintList()\n",
    "        for t in types:\n",
    "            M.tot_sausages_ct.add( sum( M.amount[i,t] for i in ingredients ) \n",
    "                                 == kg_per_sausage * number_each_type[t] )\n",
    "\n",
    "        M.min_prop_ct = ConstraintList()\n",
    "        for i in ingredients:\n",
    "            for t in types:\n",
    "                M.min_prop_ct.add( M.amount[i,t] >= min_prop_ing[i][t] *\n",
    "                                 sum( M.amount[k,t] for k in ingredients ) )\n",
    "\n",
    "        M.max_prop_ct = ConstraintList()\n",
    "        for i in ingredients:\n",
    "            for t in types:\n",
    "                M.max_prop_ct.add( M.amount[i,t] <= max_prop_ing[i][t] * \n",
    "                                 sum( M.amount[k, t] for k in ingredients ) )\n",
    "                \n",
    "        M.max_ingredient_ct = ConstraintList()\n",
    "        for i in ingredients:\n",
    "            M.max_ingredient_ct.add( sum( M.amount[ i, t] for t in types ) <= \n",
    "                                   max_ingredient[i] )\n",
    "            \n",
    "        M.min_ingredient_ct = ConstraintList()\n",
    "        for i in ingredients:\n",
    "            M.min_ingredient_ct.add( sum( M.amount[ i, t] for t in types ) >=\n",
    "                                   min_ingredient[i] )\n",
    "\n",
    "        ### Solution ###\n",
    "        solver = SolverFactory('glpk')\n",
    "        solver.solve(M)\n",
    "\n",
    "        dvars = pd.DataFrame( [ [M.amount[i,t]() for t in types] for i in ingredients ],\n",
    "                            index = ['Pork','Wheat','Starch'],\n",
    "                            columns = ['Economy','Premium'])\n",
    "\n",
    "        full_price_pork = sum(dvars.loc['Pork']) - discount_pork\n",
    "        output.append(tuple((round(M.cost(),2), round(full_price_pork,2))))\n",
    "    return output"
   ]
  },
  {
   "cell_type": "markdown",
   "metadata": {},
   "source": [
    "**(b)** Test your function, using 20 as your value of x. Plot histograms of the Kilograms of Full-Price Pork purchased and the cost.\n",
    "\n",
    "<font color = \"blue\"> *** 4 points -  answer in cell below *** (don't delete this cell) </font>"
   ]
  },
  {
   "cell_type": "code",
   "execution_count": 4,
   "metadata": {},
   "outputs": [],
   "source": [
    "output = supply_optimizer(20)\n",
    "cost, full_price_pork = zip(*output)"
   ]
  },
  {
   "cell_type": "code",
   "execution_count": 7,
   "metadata": {},
   "outputs": [
    {
     "data": {
      "image/png": "[encoded data removed]",
      "text/plain": [
       "<Figure size 432x288 with 2 Axes>"
      ]
     },
     "metadata": {
      "needs_background": "light"
     },
     "output_type": "display_data"
    }
   ],
   "source": [
    "bins_cost = np.linspace(100, 130, 15)\n",
    "bins_fpp = np.linspace(0, 5, 15)\n",
    "\n",
    "fig, ax = plt.subplots(1,2)\n",
    "ax[0].hist(cost, bins_cost, alpha = 0.5, color = 'r')\n",
    "ax[1].hist(full_price_pork, bins_fpp, alpha = 0.5, color = 'g')\n",
    "plt.show()"
   ]
  },
  {
   "cell_type": "markdown",
   "metadata": {},
   "source": [
    "Notice that the final cost and the amount of full-price pork purchased have distributions that fairly closely match each other. That's because full-price pork is the most expensive component of our sausages. The more full-price pork we use, the more expensive our product is. We'd like to optimize the amount of full-price pork we use."
   ]
  },
  {
   "cell_type": "markdown",
   "metadata": {},
   "source": [
    "**(c)** Write a loop to call your function for all the values of pre-order quantities between and including 17 and 28.\n",
    "\n",
    "Store the values of:\n",
    "\n",
    "* pre-order quantities\n",
    "* the mean, 5th percentile and 95th percentile of the overage\n",
    "* the mean, 5th percentile and 95th percentile of the cost.\n",
    "\n",
    "After your loop, print the values in a dataframe.\n",
    "\n",
    "*Note: This may take a while to run.*\n",
    "\n",
    "<font color = \"blue\"> *** 4 points -  answer in cell below *** (don't delete this cell) </font>"
   ]
  },
  {
   "cell_type": "code",
   "execution_count": null,
   "metadata": {
    "scrolled": true
   },
   "outputs": [],
   "source": []
  },
  {
   "cell_type": "markdown",
   "metadata": {},
   "source": [
    "**(d)** Using the Freddie the Newsboy Simulation code, plot a trend chart that shows the overage by order quantity. \n",
    "\n",
    "Using the trend chart and the output from your dataframe, write a short summary explaining how much pre-purchased discount pork we should buy each week and why.\n",
    "\n",
    "<font color = \"blue\"> *** 4 points -  answer in cells below *** (don't delete this cell) </font>"
   ]
  },
  {
   "cell_type": "code",
   "execution_count": null,
   "metadata": {},
   "outputs": [],
   "source": []
  },
  {
   "cell_type": "markdown",
   "metadata": {},
   "source": []
  }
 ],
 "metadata": {
  "kernelspec": {
   "display_name": "anaconda3",
   "language": "python",
   "name": "anaconda3"
  },
  "language_info": {
   "codemirror_mode": {
    "name": "ipython",
    "version": 3
   },
   "file_extension": ".py",
   "mimetype": "text/x-python",
   "name": "python",
   "nbconvert_exporter": "python",
   "pygments_lexer": "ipython3",
   "version": "3.7.4"
  },
  "toc": {
   "base_numbering": 1,
   "nav_menu": {},
   "number_sections": true,
   "sideBar": true,
   "skip_h1_title": false,
   "title_cell": "Table of Contents",
   "title_sidebar": "Contents",
   "toc_cell": false,
   "toc_position": {},
   "toc_section_display": true,
   "toc_window_display": true
  },
  "varInspector": {
   "cols": {
    "lenName": 16,
    "lenType": 16,
    "lenVar": 40
   },
   "kernels_config": {
    "python": {
     "delete_cmd_postfix": "",
     "delete_cmd_prefix": "del ",
     "library": "var_list.py",
     "varRefreshCmd": "print(var_dic_list())"
    },
    "r": {
     "delete_cmd_postfix": ") ",
     "delete_cmd_prefix": "rm(",
     "library": "var_list.r",
     "varRefreshCmd": "cat(var_dic_list()) "
    }
   },
   "types_to_exclude": [
    "module",
    "function",
    "builtin_function_or_method",
    "instance",
    "_Feature"
   ],
   "window_display": false
  }
 },
 "nbformat": 4,
 "nbformat_minor": 2
}
