{
 "cells": [
  {
   "cell_type": "code",
   "execution_count": 1,
   "metadata": {
    "code_folding": [
     0
    ]
   },
   "outputs": [],
   "source": [
    "# execute to import notebook styling for tables and width etc.\n",
    "from IPython.core.display import HTML\n",
    "import urllib.request\n",
    "response = urllib.request.urlopen('https://raw.githubusercontent.com/DataScienceUWL/DS775v2/master/ds755.css')\n",
    "HTML(response.read().decode(\"utf-8\"));"
   ]
  },
  {
   "cell_type": "markdown",
   "metadata": {
    "heading_collapsed": true
   },
   "source": [
    "# Transportation with Capacity Constraint"
   ]
  },
  {
   "cell_type": "markdown",
   "metadata": {
    "hidden": true
   },
   "source": [
    "In addition to the supply and demand constraints sometimes transportation problems can have capacity restrictions such that each route will have a maximum number of units that may be shipped along that route. (Similar to worker availability in the worker scheduling problem.)\n",
    "\n",
    "For this problem there are 3 warehouses that ship the same product to 21 stores.  The supply at the warehouses, demand at the stores, unit shipping costs, and route capacities are stored in the `transpSingle.xlsx` file in the `data` folder.  Use the `openpyxl` package to read the problem data into lists and nested lists.  Once you have the problem data converted into dictionaries, then adapt the transportation code in the lesson to minimize the total shipping cost.  You'll need to add the extra capacity constraint to give an upper bound to the number of units shipped on each route.  Your code should also use Technique 3 to eliminate unneeded decision variables.\n",
    "\n",
    "To get you started the code cell below shows how to use `openpyxl` to read ranges from the Excel workbook.  For full credit you should display the output in a nicely formatted manner (you could use a pandas data frame to display the transported amounts)."
   ]
  },
  {
   "cell_type": "markdown",
   "metadata": {
    "hidden": true
   },
   "source": [
    "<font color = \"blue\"> *** 10 points -  finish the code in the cell below *** (don't delete this cell) </font>"
   ]
  },
  {
   "cell_type": "code",
   "execution_count": 65,
   "metadata": {
    "hidden": true,
    "scrolled": false
   },
   "outputs": [
    {
     "name": "stdout",
     "output_type": "stream",
     "text": [
      "The minimum total transportation cost =  $29,827.00\n"
     ]
    },
    {
     "data": {
      "text/html": [
       "<div>\n",
       "<style scoped>\n",
       "    .dataframe tbody tr th:only-of-type {\n",
       "        vertical-align: middle;\n",
       "    }\n",
       "\n",
       "    .dataframe tbody tr th {\n",
       "        vertical-align: top;\n",
       "    }\n",
       "\n",
       "    .dataframe thead th {\n",
       "        text-align: right;\n",
       "    }\n",
       "</style>\n",
       "<table border=\"1\" class=\"dataframe\">\n",
       "  <thead>\n",
       "    <tr style=\"text-align: right;\">\n",
       "      <th></th>\n",
       "      <th>sA</th>\n",
       "      <th>sB</th>\n",
       "      <th>sC</th>\n",
       "      <th>sD</th>\n",
       "      <th>sE</th>\n",
       "      <th>sF</th>\n",
       "      <th>sG</th>\n",
       "      <th>sH</th>\n",
       "      <th>sI</th>\n",
       "      <th>sJ</th>\n",
       "      <th>sK</th>\n",
       "      <th>sL</th>\n",
       "      <th>sM</th>\n",
       "      <th>sN</th>\n",
       "      <th>sO</th>\n",
       "      <th>sP</th>\n",
       "      <th>sQ</th>\n",
       "      <th>sR</th>\n",
       "      <th>sS</th>\n",
       "      <th>sT</th>\n",
       "    </tr>\n",
       "  </thead>\n",
       "  <tbody>\n",
       "    <tr>\n",
       "      <th>wA</th>\n",
       "      <td>173.0</td>\n",
       "      <td>103.0</td>\n",
       "      <td>110.0</td>\n",
       "      <td>121.0</td>\n",
       "      <td>148.0</td>\n",
       "      <td>145.0</td>\n",
       "      <td>100.0</td>\n",
       "      <td>23.0</td>\n",
       "      <td>100.0</td>\n",
       "      <td>77.0</td>\n",
       "      <td>0.0</td>\n",
       "      <td>0.0</td>\n",
       "      <td>0.0</td>\n",
       "      <td>0.0</td>\n",
       "      <td>0.0</td>\n",
       "      <td>0.0</td>\n",
       "      <td>0.0</td>\n",
       "      <td>0.0</td>\n",
       "      <td>0.0</td>\n",
       "      <td>0.0</td>\n",
       "    </tr>\n",
       "    <tr>\n",
       "      <th>wB</th>\n",
       "      <td>0.0</td>\n",
       "      <td>0.0</td>\n",
       "      <td>0.0</td>\n",
       "      <td>0.0</td>\n",
       "      <td>0.0</td>\n",
       "      <td>0.0</td>\n",
       "      <td>54.0</td>\n",
       "      <td>100.0</td>\n",
       "      <td>65.0</td>\n",
       "      <td>92.0</td>\n",
       "      <td>175.0</td>\n",
       "      <td>82.0</td>\n",
       "      <td>100.0</td>\n",
       "      <td>100.0</td>\n",
       "      <td>32.0</td>\n",
       "      <td>100.0</td>\n",
       "      <td>0.0</td>\n",
       "      <td>0.0</td>\n",
       "      <td>0.0</td>\n",
       "      <td>0.0</td>\n",
       "    </tr>\n",
       "    <tr>\n",
       "      <th>wC</th>\n",
       "      <td>0.0</td>\n",
       "      <td>0.0</td>\n",
       "      <td>0.0</td>\n",
       "      <td>0.0</td>\n",
       "      <td>0.0</td>\n",
       "      <td>0.0</td>\n",
       "      <td>0.0</td>\n",
       "      <td>0.0</td>\n",
       "      <td>0.0</td>\n",
       "      <td>0.0</td>\n",
       "      <td>0.0</td>\n",
       "      <td>83.0</td>\n",
       "      <td>84.0</td>\n",
       "      <td>65.0</td>\n",
       "      <td>100.0</td>\n",
       "      <td>83.0</td>\n",
       "      <td>146.0</td>\n",
       "      <td>142.0</td>\n",
       "      <td>175.0</td>\n",
       "      <td>122.0</td>\n",
       "    </tr>\n",
       "  </tbody>\n",
       "</table>\n",
       "</div>"
      ],
      "text/plain": [
       "       sA     sB     sC     sD     sE     sF     sG     sH     sI    sJ  \\\n",
       "wA  173.0  103.0  110.0  121.0  148.0  145.0  100.0   23.0  100.0  77.0   \n",
       "wB    0.0    0.0    0.0    0.0    0.0    0.0   54.0  100.0   65.0  92.0   \n",
       "wC    0.0    0.0    0.0    0.0    0.0    0.0    0.0    0.0    0.0   0.0   \n",
       "\n",
       "       sK    sL     sM     sN     sO     sP     sQ     sR     sS     sT  \n",
       "wA    0.0   0.0    0.0    0.0    0.0    0.0    0.0    0.0    0.0    0.0  \n",
       "wB  175.0  82.0  100.0  100.0   32.0  100.0    0.0    0.0    0.0    0.0  \n",
       "wC    0.0  83.0   84.0   65.0  100.0   83.0  146.0  142.0  175.0  122.0  "
      ]
     },
     "metadata": {},
     "output_type": "display_data"
    }
   ],
   "source": [
    "# using openpyxl\n",
    "from openpyxl import load_workbook\n",
    "wb = load_workbook(filename='data/transp_prob_1.xlsx', data_only=True)\n",
    "sheet = wb.active\n",
    "\n",
    "# specify upper left and lower right cells, returns a list or list of lists representing rows\n",
    "def read_range(sheet, begin, end):\n",
    "    table = sheet[begin:end]\n",
    "    height = len(table)\n",
    "    width = len(table[0])\n",
    "    if height == 1 or width == 1:\n",
    "        # for a single row or column produce a list\n",
    "        tmp = [cell.value for row in table for cell in row]\n",
    "    else:\n",
    "        # for an array of cells produces a list of row lists\n",
    "        tmp = [[cell.value for cell in row] for row in table]\n",
    "    return (tmp)\n",
    "\n",
    "# finish reading the data\n",
    "warehouses = read_range(sheet, 'A3', 'A5')\n",
    "stores = read_range(sheet, 'B3', 'B22')\n",
    "routes = [(w,s) for [w,s] in read_range(sheet,'D3','E31')]\n",
    "capacity_dict = {(w,s):cap for [w,s,cap,cost] in read_range(sheet,'D3','G31')}\n",
    "cost_dict = {(w,s):cost for [w,s,cap,cost] in read_range(sheet,'D3','G31')}\n",
    "supply_dict = {w:q for [w,q] in read_range(sheet,'I3','J5')}\n",
    "demand_dict = {s:q for [s,q] in read_range(sheet,'L3','M22')}\n",
    "\n",
    "# # throw an error if total supply and demand do not match\n",
    "\n",
    "from pyomo.environ import *\n",
    "\n",
    "# define model\n",
    "model = ConcreteModel()\n",
    "\n",
    "# set vars\n",
    "model.transp = Var(routes, domain=NonNegativeReals)\n",
    "\n",
    "# objective function\n",
    "model.total_cost = Objective(expr=sum(cost_dict[w,s] * model.transp[w,s] for (w,s) in routes), sense=minimize)\n",
    "\n",
    "# supply constraint\n",
    "model.supply_ct = ConstraintList()\n",
    "for w in warehouses:\n",
    "    model.supply_ct.add(sum(model.transp[w,s] for s in stores if (w,s) in routes) <= supply_dict[w] )\n",
    "\n",
    "# demand constraint    \n",
    "model.demand_ct = ConstraintList()\n",
    "for s in stores:\n",
    "    model.demand_ct.add(sum(model.transp[w,s] for w in warehouses if (w,s) in routes) == demand_dict[s] )\n",
    "\n",
    "# capacity constraint \n",
    "model.capacity_ct = ConstraintList()\n",
    "for (w,s) in routes:\n",
    "    model.capacity_ct.add(\n",
    "    model.transp[w, s] <= capacity_dict[w, s])\n",
    "    model.capacity_ct.add(\n",
    "    model.transp[w, s] >= 0)  \n",
    "\n",
    "# solve and display\n",
    "solver = SolverFactory('glpk')\n",
    "solver.solve(model)\n",
    "\n",
    "# # convert model.hrs into a Pandas data frame for nicer display\n",
    "import pandas as pd\n",
    "table = pd.DataFrame(0, index=warehouses, columns=stores)\n",
    "for (w, s) in routes:\n",
    "    table.loc[w, s] = model.transp[w, s].value\n",
    "\n",
    "# display\n",
    "import babel.numbers as numbers  # needed to display as currency\n",
    "print(\"The minimum total transportation cost = \",\n",
    "      numbers.format_currency(model.total_cost(), 'USD', locale='en_US'))\n",
    "\n",
    "from IPython.display import display\n",
    "display(table)"
   ]
  },
  {
   "cell_type": "markdown",
   "metadata": {
    "heading_collapsed": true
   },
   "source": [
    "# Shipping Wood to Market"
   ]
  },
  {
   "cell_type": "markdown",
   "metadata": {
    "hidden": true
   },
   "source": [
    "This problem is Case 9.1 on page 370 of the textbook.\n",
    "\n",
    "Alabama Atlantic is a lumber company that has three sources of wood and five markets to be supplied. The annual availability of wood at sources 1, 2, and 3 is 15, 20, and 15 million board feet, respectively. The amount that can be sold annually at markets 1, 2, 3, 4, and 5 is 11, 12, 9, 10, and 8 million board feet, respectively.  In the past the company has shipped the wood by train. However, because shipping costs have been increasing, the alternative of using ships to make some of the deliveries is being investigated. This alternative would require the company to invest in some ships. Except for these investment costs, the shipping costs in thousands of dollars per million board feet by rail and by water (when feasible) would be the following for each route:\n",
    "\n",
    "<img src=\"images/wood_table_1.png\" width=\"600\">\n",
    "\n",
    "The capital investment (in thousands of dollars) in ships required for each million board feet to be transported annually by ship along each route is given as follows:\n",
    "\n",
    "<img src = \"images/wood_table_2.png\" width=\"600\">\n",
    "\n",
    "Considering the expected useful life of the ships and the time value of money, the equivalent uniform annual cost of these investments is one-tenth the amount given in the table. The objective is to determine the overall shipping plan that minimizes the total equivalent uniform annual cost (including shipping costs).\n",
    "\n",
    "You are the head of the team that has been assigned the task of determining this shipping plan for each of the following three options.\n",
    "* *Option 1:* Continue shipping exclusively by rail.\n",
    "* *Option 2:* Switch to shipping exclusively by water (except where only rail is feasible).\n",
    "* *Option 3:* Ship by either rail or water, depending on which is less expensive for the particular route.\n",
    "\n",
    "Present your results for each option. Compare.  You should write a short summary of the results and include a recommendation for the best option.  You could modularize your code, though this isn't required, by writing a function that takes the cost array as input and outputs the total cost and transportation amounts.  You could then call the function three times for each of the three options.\n",
    "\n",
    "<font color = \"blue\"> *** 15 points -  answer in cells below *** (don't delete this cell) </font>"
   ]
  },
  {
   "cell_type": "code",
   "execution_count": null,
   "metadata": {
    "hidden": true
   },
   "outputs": [],
   "source": [
    "# code cell (add more as needed)"
   ]
  },
  {
   "cell_type": "markdown",
   "metadata": {
    "hidden": true
   },
   "source": [
    "Summary:"
   ]
  },
  {
   "cell_type": "markdown",
   "metadata": {
    "heading_collapsed": true
   },
   "source": [
    "# A more complex transportation problem"
   ]
  },
  {
   "cell_type": "markdown",
   "metadata": {
    "hidden": true
   },
   "source": [
    "Three different products pA, pB, and, pC, must be transported from factories to warehouses and then from the warehouses to stores.  The cost per unit varies along different route segments.  Your job is to minimize the total transportation cost.  The constraints are as follows:\n",
    "* the amount of each product at each factory must match the supply amount\n",
    "* the amount of each product delivered to each store must match the demand amount\n",
    "* the amount of each product shipped to each warehouse must be the same as the amount of each product shipped from each warehouse\n",
    "* the total (summed) amount of all products at each warehouse must be $\\leq$ `MaxStorage`\n",
    "* the total (summed) amount of all products shipped from each factory to each warehouse must be $\\leq$ `CapacityFW`\n",
    "* the total (summed) amount of all products shipped from each warehouse to each store must be $\\leq$ `CapacityWS`\n",
    "\n",
    "The data for this problem is in `transp_prob3.xlsx`.  Since many routes aren't used you'll need to use one of the techniques in the lesson to make sure that no product is shipped along an unused route. \n",
    "\n",
    "Your solution should display the total transportation cost as well as the amount transported from both factories to warehouses and from warehouses to stores.  The transport multiple products example in the lesson is a good place to start.  Note that you'll need two \"arrays\" of decision variables for the two sets of connections.\n",
    "\n",
    "<font color = \"blue\"> *** 15 points -  answer in cell below *** (don't delete this cell) </font>"
   ]
  },
  {
   "cell_type": "code",
   "execution_count": 2,
   "metadata": {
    "hidden": true
   },
   "outputs": [],
   "source": [
    "# solution can go in this code cell with output below."
   ]
  },
  {
   "cell_type": "markdown",
   "metadata": {
    "heading_collapsed": true
   },
   "source": [
    "# Assignment Problem 9.3-4 from the textbook"
   ]
  },
  {
   "cell_type": "markdown",
   "metadata": {
    "hidden": true
   },
   "source": [
    "The coach of an age group swim team needs to assign swimmers to a 200-yard medley relay team to send to the Junior Olympics. Since most of his best swimmers are very fast in more than one stroke, it is not clear which swimmer should be assigned to each of the four strokes. The five fastest swimmers and the best times (in seconds) they have achieved in each of the strokes (for 50 yards) are\n",
    "\n",
    "<img src = \"images/swim.png\" width=\"600\">\n",
    "\n",
    "The coach wishes to determine how to assign four swimmers to the four different strokes to minimize the sum of the corresponding best times.  \n",
    "\n",
    "Treat this as an assignment problem and use Pyomo to find the optimal solution.  For full credit display nicely formatted output.\n",
    "\n",
    "<font color = \"blue\"> *** 10 points -  answer in cell below *** (don't delete this cell) </font>"
   ]
  },
  {
   "cell_type": "code",
   "execution_count": null,
   "metadata": {
    "hidden": true
   },
   "outputs": [],
   "source": [
    "# solution can go in this code cell with output below."
   ]
  }
 ],
 "metadata": {
  "kernelspec": {
   "display_name": "anaconda3",
   "language": "python",
   "name": "anaconda3"
  },
  "language_info": {
   "codemirror_mode": {
    "name": "ipython",
    "version": 3
   },
   "file_extension": ".py",
   "mimetype": "text/x-python",
   "name": "python",
   "nbconvert_exporter": "python",
   "pygments_lexer": "ipython3",
   "version": "3.7.4"
  },
  "toc": {
   "base_numbering": 1,
   "nav_menu": {},
   "number_sections": true,
   "sideBar": true,
   "skip_h1_title": false,
   "title_cell": "Table of Contents",
   "title_sidebar": "Contents",
   "toc_cell": false,
   "toc_position": {},
   "toc_section_display": true,
   "toc_window_display": false
  }
 },
 "nbformat": 4,
 "nbformat_minor": 2
}
