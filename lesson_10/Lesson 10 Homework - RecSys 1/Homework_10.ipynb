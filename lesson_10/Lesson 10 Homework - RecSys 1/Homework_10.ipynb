{
 "cells": [
  {
   "cell_type": "code",
   "execution_count": 1,
   "metadata": {
    "code_folding": [
     0
    ]
   },
   "outputs": [],
   "source": [
    "# execute to import notebook styling for tables and width etc.\n",
    "from IPython.core.display import HTML\n",
    "import urllib.request\n",
    "response = urllib.request.urlopen('https://raw.githubusercontent.com/DataScienceUWL/DS775v2/master/ds755.css')\n",
    "HTML(response.read().decode(\"utf-8\"));"
   ]
  },
  {
   "cell_type": "code",
   "execution_count": 2,
   "metadata": {},
   "outputs": [],
   "source": [
    "import pandas as pd"
   ]
  },
  {
   "cell_type": "markdown",
   "metadata": {},
   "source": [
    "<font size=18>Lesson 10 Homework</font>"
   ]
  },
  {
   "cell_type": "markdown",
   "metadata": {
    "heading_collapsed": true
   },
   "source": [
    "# Build a Simple Recommender"
   ]
  },
  {
   "cell_type": "markdown",
   "metadata": {
    "hidden": true
   },
   "source": [
    "Use the data set **tmdb_5000_movies.csv** to build a simple recommender system with the following characteristics \n",
    "\n",
    "- movies in the to 50\\% according to the popularity score\n",
    "- movies with runtime of 80 minutes or more\n",
    "- movies with a budget between \\\\$10 and \\\\$100 million\n",
    "- movies with genre of either action or comedy\n",
    "\n",
    "then rank the movies according to the IMDB weighted rating formula that is described in the Banik textbook and print the top 10 highest rated movies with the characteristics listed above. "
   ]
  },
  {
   "cell_type": "markdown",
   "metadata": {},
   "source": [
    "### Code"
   ]
  },
  {
   "cell_type": "code",
   "execution_count": 3,
   "metadata": {},
   "outputs": [],
   "source": [
    "# make df\n",
    "tmdb_df = pd.read_csv(\"data/tmdb-5000-movie-dataset/tmdb_5000_movies.csv\", encoding=\"ISO-8859-1\")\n",
    "\n",
    "movie_indices = []\n",
    "for i in range(tmdb_df.shape[0]):\n",
    "    movie_ratings = eval(tmdb_df['genres'].iloc[i])\n",
    "    tmdb_df.loc[i, 'genres'] = ', '.join([rating['name'] for rating in movie_ratings])\n",
    "\n",
    "    for rating in movie_ratings:\n",
    "        if rating['name'] == 'Action' or rating['name'] == 'Comedy':\n",
    "            movie_indices.append(i)\n",
    "\n",
    "movie_indices = set(movie_indices)\n",
    "\n",
    "# filter on genres (action or comedy)\n",
    "df_filtered = tmdb_df.filter(items=movie_indices, axis=0)\n",
    "\n",
    "# filter on other requests\n",
    "df_filtered = df_filtered[(df_filtered['popularity'] >= df_filtered['popularity'].quantile(.5)) & \n",
    "                      (df_filtered['runtime'] >= 80) & \n",
    "                      (df_filtered['budget'] >= 10000000) & \n",
    "                      (df_filtered['budget'] <= 100000000)]\n",
    "\n",
    "# create imdb weighted rating\n",
    "m = df_filtered['vote_count'].quantile(.25)\n",
    "r = df_filtered['vote_average']\n",
    "v = df_filtered['vote_count']\n",
    "c = r.mean()\n",
    "wr_imdb = round(((v/(v+m))*r)+((m/(v+m))*c),2)\n",
    "\n",
    "# assign weighted rating as a column\n",
    "df_filtered = df_filtered.assign(weighted_rating=wr_imdb)\n",
    "\n",
    "# sort the filtered df by weighted rating\n",
    "df_filtered = df_filtered.sort_values('weighted_rating', ascending=False).reset_index()"
   ]
  },
  {
   "cell_type": "markdown",
   "metadata": {
    "hidden": true
   },
   "source": [
    "**Provide the following with your solution:**\n",
    "\n",
    "(a) How many movies are in the original data frame?"
   ]
  },
  {
   "cell_type": "code",
   "execution_count": 4,
   "metadata": {},
   "outputs": [
    {
     "data": {
      "text/plain": [
       "4803"
      ]
     },
     "execution_count": 4,
     "metadata": {},
     "output_type": "execute_result"
    }
   ],
   "source": [
    "tmdb_df.shape[0]"
   ]
  },
  {
   "cell_type": "markdown",
   "metadata": {
    "hidden": true
   },
   "source": [
    "(b) What is the median for popularity score?"
   ]
  },
  {
   "cell_type": "code",
   "execution_count": 5,
   "metadata": {},
   "outputs": [
    {
     "data": {
      "text/plain": [
       "12.921594"
      ]
     },
     "execution_count": 5,
     "metadata": {},
     "output_type": "execute_result"
    }
   ],
   "source": [
    "tmdb_df['popularity'].median()"
   ]
  },
  {
   "cell_type": "markdown",
   "metadata": {
    "hidden": true
   },
   "source": [
    "(c) How many movies are in the reduced data frame (*i.e.* how many meet the selection criteria)?"
   ]
  },
  {
   "cell_type": "code",
   "execution_count": 6,
   "metadata": {},
   "outputs": [
    {
     "data": {
      "text/plain": [
       "935"
      ]
     },
     "execution_count": 6,
     "metadata": {},
     "output_type": "execute_result"
    }
   ],
   "source": [
    "df_filtered.shape[0]"
   ]
  },
  {
   "cell_type": "markdown",
   "metadata": {
    "hidden": true
   },
   "source": [
    "(d) Display only the movie title and the requested characteristics as well as the vote count, vote average, and IMDB weighted rating with your recommendations."
   ]
  },
  {
   "cell_type": "code",
   "execution_count": 7,
   "metadata": {},
   "outputs": [
    {
     "data": {
      "text/html": [
       "<div>\n",
       "<style scoped>\n",
       "    .dataframe tbody tr th:only-of-type {\n",
       "        vertical-align: middle;\n",
       "    }\n",
       "\n",
       "    .dataframe tbody tr th {\n",
       "        vertical-align: top;\n",
       "    }\n",
       "\n",
       "    .dataframe thead th {\n",
       "        text-align: right;\n",
       "    }\n",
       "</style>\n",
       "<table border=\"1\" class=\"dataframe\">\n",
       "  <thead>\n",
       "    <tr style=\"text-align: right;\">\n",
       "      <th></th>\n",
       "      <th>original_title</th>\n",
       "      <th>genres</th>\n",
       "      <th>weighted_rating</th>\n",
       "      <th>vote_count</th>\n",
       "      <th>vote_average</th>\n",
       "    </tr>\n",
       "  </thead>\n",
       "  <tbody>\n",
       "    <tr>\n",
       "      <td>0</td>\n",
       "      <td>Forrest Gump</td>\n",
       "      <td>Comedy, Drama, Romance</td>\n",
       "      <td>8.09</td>\n",
       "      <td>7927</td>\n",
       "      <td>8.2</td>\n",
       "    </tr>\n",
       "    <tr>\n",
       "      <td>1</td>\n",
       "      <td>The Empire Strikes Back</td>\n",
       "      <td>Adventure, Action, Science Fiction</td>\n",
       "      <td>8.06</td>\n",
       "      <td>5879</td>\n",
       "      <td>8.2</td>\n",
       "    </tr>\n",
       "    <tr>\n",
       "      <td>2</td>\n",
       "      <td>The Lord of the Rings: The Return of the King</td>\n",
       "      <td>Adventure, Fantasy, Action</td>\n",
       "      <td>8.00</td>\n",
       "      <td>8064</td>\n",
       "      <td>8.1</td>\n",
       "    </tr>\n",
       "    <tr>\n",
       "      <td>3</td>\n",
       "      <td>Star Wars</td>\n",
       "      <td>Adventure, Action, Science Fiction</td>\n",
       "      <td>7.98</td>\n",
       "      <td>6624</td>\n",
       "      <td>8.1</td>\n",
       "    </tr>\n",
       "    <tr>\n",
       "      <td>4</td>\n",
       "      <td>The Lord of the Rings: The Fellowship of the Ring</td>\n",
       "      <td>Adventure, Fantasy, Action</td>\n",
       "      <td>7.91</td>\n",
       "      <td>8705</td>\n",
       "      <td>8.0</td>\n",
       "    </tr>\n",
       "    <tr>\n",
       "      <td>...</td>\n",
       "      <td>...</td>\n",
       "      <td>...</td>\n",
       "      <td>...</td>\n",
       "      <td>...</td>\n",
       "      <td>...</td>\n",
       "    </tr>\n",
       "    <tr>\n",
       "      <td>930</td>\n",
       "      <td>Disaster Movie</td>\n",
       "      <td>Action, Comedy</td>\n",
       "      <td>5.10</td>\n",
       "      <td>240</td>\n",
       "      <td>3.0</td>\n",
       "    </tr>\n",
       "    <tr>\n",
       "      <td>931</td>\n",
       "      <td>Left Behind</td>\n",
       "      <td>Thriller, Action, Science Fiction</td>\n",
       "      <td>5.05</td>\n",
       "      <td>392</td>\n",
       "      <td>3.7</td>\n",
       "    </tr>\n",
       "    <tr>\n",
       "      <td>932</td>\n",
       "      <td>Jack and Jill</td>\n",
       "      <td>Comedy</td>\n",
       "      <td>5.00</td>\n",
       "      <td>604</td>\n",
       "      <td>4.1</td>\n",
       "    </tr>\n",
       "    <tr>\n",
       "      <td>933</td>\n",
       "      <td>Catwoman</td>\n",
       "      <td>Action, Crime</td>\n",
       "      <td>4.92</td>\n",
       "      <td>808</td>\n",
       "      <td>4.2</td>\n",
       "    </tr>\n",
       "    <tr>\n",
       "      <td>934</td>\n",
       "      <td>Dragonball Evolution</td>\n",
       "      <td>Action, Adventure, Fantasy, Science Fiction, T...</td>\n",
       "      <td>4.54</td>\n",
       "      <td>462</td>\n",
       "      <td>2.9</td>\n",
       "    </tr>\n",
       "  </tbody>\n",
       "</table>\n",
       "<p>935 rows × 5 columns</p>\n",
       "</div>"
      ],
      "text/plain": [
       "                                        original_title  \\\n",
       "0                                         Forrest Gump   \n",
       "1                              The Empire Strikes Back   \n",
       "2        The Lord of the Rings: The Return of the King   \n",
       "3                                            Star Wars   \n",
       "4    The Lord of the Rings: The Fellowship of the Ring   \n",
       "..                                                 ...   \n",
       "930                                     Disaster Movie   \n",
       "931                                        Left Behind   \n",
       "932                                      Jack and Jill   \n",
       "933                                           Catwoman   \n",
       "934                               Dragonball Evolution   \n",
       "\n",
       "                                                genres  weighted_rating  \\\n",
       "0                               Comedy, Drama, Romance             8.09   \n",
       "1                   Adventure, Action, Science Fiction             8.06   \n",
       "2                           Adventure, Fantasy, Action             8.00   \n",
       "3                   Adventure, Action, Science Fiction             7.98   \n",
       "4                           Adventure, Fantasy, Action             7.91   \n",
       "..                                                 ...              ...   \n",
       "930                                     Action, Comedy             5.10   \n",
       "931                  Thriller, Action, Science Fiction             5.05   \n",
       "932                                             Comedy             5.00   \n",
       "933                                      Action, Crime             4.92   \n",
       "934  Action, Adventure, Fantasy, Science Fiction, T...             4.54   \n",
       "\n",
       "     vote_count  vote_average  \n",
       "0          7927           8.2  \n",
       "1          5879           8.2  \n",
       "2          8064           8.1  \n",
       "3          6624           8.1  \n",
       "4          8705           8.0  \n",
       "..          ...           ...  \n",
       "930         240           3.0  \n",
       "931         392           3.7  \n",
       "932         604           4.1  \n",
       "933         808           4.2  \n",
       "934         462           2.9  \n",
       "\n",
       "[935 rows x 5 columns]"
      ]
     },
     "execution_count": 7,
     "metadata": {},
     "output_type": "execute_result"
    }
   ],
   "source": [
    "df_filtered[['original_title','genres','weighted_rating','vote_count','vote_average']]"
   ]
  },
  {
   "cell_type": "markdown",
   "metadata": {
    "hidden": true
   },
   "source": [
    "This data set can be found in the presentation download for this lesson.  You will need to use the option **encoding = \"ISO-8859-1\"** in the **read_csv** function in order to open this file.  Use the examples given in Banik's book as a guide."
   ]
  },
  {
   "cell_type": "markdown",
   "metadata": {
    "heading_collapsed": true
   },
   "source": [
    "# Build a Knowledge-Based Recommender"
   ]
  },
  {
   "cell_type": "markdown",
   "metadata": {
    "hidden": true
   },
   "source": [
    "Use the data set **tmdb_5000_movies.csv** to build a knowledge-based recommender system that solicits the following information listed below and then ranks the movies according to the IMDB weighted rating formula. Use all available movies to begin with (*i.e.* don't restrict it to just the top 20%, for example) Print the top 5 highest rated movies for this recommendation. \n",
    "\n",
    "Ask the user to enter answers to the following questions:\n",
    "\n",
    "- Enter a preferred genre.\n",
    "- Enter another preferred genre.\n",
    "- Enter a minimum runtime (in minutes).\n",
    "- Enter a maximum runtime (in minutes).\n",
    "\n",
    "Print a list of genres for the user to choose from before asking for their inputs."
   ]
  },
  {
   "cell_type": "markdown",
   "metadata": {
    "hidden": true
   },
   "source": [
    "Create the recommender to select movies with either genre entered.  "
   ]
  },
  {
   "cell_type": "code",
   "execution_count": 8,
   "metadata": {},
   "outputs": [],
   "source": [
    "def movie_recommender():\n",
    "    tmdb_df = pd.read_csv(\"data/tmdb-5000-movie-dataset/tmdb_5000_movies.csv\", encoding=\"ISO-8859-1\")\n",
    "    \n",
    "    # calculate unique genres\n",
    "    list_of_genres = []\n",
    "    \n",
    "    for i in range(tmdb_df.shape[0]):\n",
    "        genre_dict = eval(tmdb_df['genres'].iloc[i])\n",
    "        list_of_genres.extend(genre_dict)\n",
    "\n",
    "    genres_df = pd.DataFrame.from_dict(list_of_genres, orient='columns')\n",
    "    all_genres = ', '.join(genres_df['name'].unique().tolist())\n",
    "    \n",
    "    #present genres and get inputs\n",
    "    print(f\"See genres: {all_genres}\")\n",
    "    preferred_genre1 = input(\"Enter a preferred genre\")\n",
    "    preferred_genre2 = input(\"Enter another preferred genre\")\n",
    "    min_runtime = int(input(\"Enter min runtime\"))\n",
    "    max_runtime = int(input(\"Enter max runtime\"))\n",
    "    \n",
    "    movie_indices = []\n",
    "                             \n",
    "    # filter df by genre\n",
    "    for i in range(tmdb_df.shape[0]):\n",
    "        movie_genres = eval(tmdb_df['genres'].iloc[i])\n",
    "        tmdb_df.loc[i, 'genres'] = ', '.join([genre['name'] for genre in movie_genres])\n",
    "\n",
    "        for genre in movie_genres:\n",
    "            if genre['name'] == preferred_genre1 or genre['name'] == preferred_genre2:\n",
    "                movie_indices.append(i)\n",
    "\n",
    "    movie_indices = set(movie_indices)\n",
    "\n",
    "    # filter on genres (action or comedy)\n",
    "    df_filtered = tmdb_df.filter(items=movie_indices, axis=0)\n",
    "\n",
    "    # filter on other requests\n",
    "    df_filtered = df_filtered[(df_filtered['runtime'] >= min_runtime) & \n",
    "                          (df_filtered['runtime'] <= max_runtime)]\n",
    "\n",
    "    # create imdb weighted rating\n",
    "    m = df_filtered['vote_count'].quantile(.25)\n",
    "    r = df_filtered['vote_average']\n",
    "    v = df_filtered['vote_count']\n",
    "    c = r.mean()\n",
    "    wr_imdb = round(((v/(v+m))*r)+((m/(v+m))*c),2)\n",
    "\n",
    "    # assign weighted rating as a column\n",
    "    df_filtered = df_filtered.assign(weighted_rating=wr_imdb)\n",
    "\n",
    "    # sort the filtered df by weighted rating\n",
    "    df_filtered = df_filtered.sort_values('weighted_rating', ascending=False).reset_index()\n",
    "    df_filtered = df_filtered[['original_title', 'genres', 'runtime', 'weighted_rating','vote_count','vote_average']]\n",
    "    return df_filtered.head()"
   ]
  },
  {
   "cell_type": "markdown",
   "metadata": {
    "hidden": true
   },
   "source": [
    "Have your recommender give recommendations for genres \"family\" and \"tv movie\" between of 50 and 120 minutes long and display only the movie title and the requested characteristics as well as the vote count, vote average, and IMDB weighted rating with your recommendations.\n",
    "\n",
    "Use the examples given in Banik's book as a guide."
   ]
  },
  {
   "cell_type": "code",
   "execution_count": 9,
   "metadata": {},
   "outputs": [
    {
     "name": "stdout",
     "output_type": "stream",
     "text": [
      "See genres: Action, Adventure, Fantasy, Science Fiction, Crime, Drama, Thriller, Animation, Family, Western, Comedy, Romance, Horror, Mystery, History, War, Music, Documentary, Foreign, TV Movie\n",
      "Enter a preferred genreTV Movie\n",
      "Enter another preferred genreFamily\n",
      "Enter min runtime50\n",
      "Enter max runtime120\n"
     ]
    },
    {
     "data": {
      "text/html": [
       "<div>\n",
       "<style scoped>\n",
       "    .dataframe tbody tr th:only-of-type {\n",
       "        vertical-align: middle;\n",
       "    }\n",
       "\n",
       "    .dataframe tbody tr th {\n",
       "        vertical-align: top;\n",
       "    }\n",
       "\n",
       "    .dataframe thead th {\n",
       "        text-align: right;\n",
       "    }\n",
       "</style>\n",
       "<table border=\"1\" class=\"dataframe\">\n",
       "  <thead>\n",
       "    <tr style=\"text-align: right;\">\n",
       "      <th></th>\n",
       "      <th>original_title</th>\n",
       "      <th>genres</th>\n",
       "      <th>runtime</th>\n",
       "      <th>weighted_rating</th>\n",
       "      <th>vote_count</th>\n",
       "      <th>vote_average</th>\n",
       "    </tr>\n",
       "  </thead>\n",
       "  <tbody>\n",
       "    <tr>\n",
       "      <td>0</td>\n",
       "      <td>Inside Out</td>\n",
       "      <td>Drama, Comedy, Animation, Family</td>\n",
       "      <td>94.0</td>\n",
       "      <td>7.98</td>\n",
       "      <td>6560</td>\n",
       "      <td>8.0</td>\n",
       "    </tr>\n",
       "    <tr>\n",
       "      <td>1</td>\n",
       "      <td>Back to the Future</td>\n",
       "      <td>Adventure, Comedy, Science Fiction, Family</td>\n",
       "      <td>116.0</td>\n",
       "      <td>7.97</td>\n",
       "      <td>6079</td>\n",
       "      <td>8.0</td>\n",
       "    </tr>\n",
       "    <tr>\n",
       "      <td>2</td>\n",
       "      <td>The Lion King</td>\n",
       "      <td>Family, Animation, Drama</td>\n",
       "      <td>89.0</td>\n",
       "      <td>7.97</td>\n",
       "      <td>5376</td>\n",
       "      <td>8.0</td>\n",
       "    </tr>\n",
       "    <tr>\n",
       "      <td>3</td>\n",
       "      <td>Big Hero 6</td>\n",
       "      <td>Adventure, Family, Animation, Action, Comedy</td>\n",
       "      <td>102.0</td>\n",
       "      <td>7.78</td>\n",
       "      <td>6135</td>\n",
       "      <td>7.8</td>\n",
       "    </tr>\n",
       "    <tr>\n",
       "      <td>4</td>\n",
       "      <td>WALLåáE</td>\n",
       "      <td>Animation, Family</td>\n",
       "      <td>98.0</td>\n",
       "      <td>7.78</td>\n",
       "      <td>6296</td>\n",
       "      <td>7.8</td>\n",
       "    </tr>\n",
       "  </tbody>\n",
       "</table>\n",
       "</div>"
      ],
      "text/plain": [
       "       original_title                                        genres  runtime  \\\n",
       "0          Inside Out              Drama, Comedy, Animation, Family     94.0   \n",
       "1  Back to the Future    Adventure, Comedy, Science Fiction, Family    116.0   \n",
       "2       The Lion King                      Family, Animation, Drama     89.0   \n",
       "3          Big Hero 6  Adventure, Family, Animation, Action, Comedy    102.0   \n",
       "4             WALLåáE                             Animation, Family     98.0   \n",
       "\n",
       "   weighted_rating  vote_count  vote_average  \n",
       "0             7.98        6560           8.0  \n",
       "1             7.97        6079           8.0  \n",
       "2             7.97        5376           8.0  \n",
       "3             7.78        6135           7.8  \n",
       "4             7.78        6296           7.8  "
      ]
     },
     "execution_count": 9,
     "metadata": {},
     "output_type": "execute_result"
    }
   ],
   "source": [
    "movie_recommender()"
   ]
  },
  {
   "cell_type": "markdown",
   "metadata": {
    "heading_collapsed": true
   },
   "source": [
    "# Build a Content-Based Recommender"
   ]
  },
  {
   "cell_type": "markdown",
   "metadata": {
    "hidden": true
   },
   "source": [
    "Use the data set **tmdb_5000_movies.csv** to build a meta-data based recommender by creating a \"soup\" and using cosine similarity based on the \n",
    "\n",
    "- all genres\n",
    "- top three keywords\n",
    "- top three production companies\n",
    "- overview"
   ]
  },
  {
   "cell_type": "code",
   "execution_count": 18,
   "metadata": {},
   "outputs": [],
   "source": [
    "import string\n",
    "import pandas as pd\n",
    "\n",
    "tmdb_df = pd.read_csv(\"data/tmdb-5000-movie-dataset/tmdb_5000_movies.csv\", encoding=\"ISO-8859-1\")\n",
    "new_df = []\n",
    "\n",
    "# loop through df to create new variables of list form\n",
    "for i in range(tmdb_df.shape[0]):\n",
    "    new_row = {}\n",
    "    title = tmdb_df['title'].iloc[i]\n",
    "    movie_genres = eval(tmdb_df['genres'].iloc[i])\n",
    "    keywords = eval(tmdb_df['keywords'].iloc[i])\n",
    "    prod_comps = eval(tmdb_df['production_companies'].iloc[i])\n",
    "    \n",
    "    # eliminate punctuation\n",
    "    if isinstance(tmdb_df['overview'].iloc[i], str):\n",
    "        strip_string = tmdb_df['overview'].iloc[i].translate(str.maketrans('', '', string.punctuation)).strip()\n",
    "        split_string = strip_string.split(\" \")\n",
    "        overview = list(set(split_string))\n",
    "    else:\n",
    "        overview = tmdb_df['overview'].iloc[i]\n",
    "    \n",
    "    # create fields\n",
    "    new_row['title'] = title\n",
    "    new_row['genres'] = [genre['name'] for genre in movie_genres]\n",
    "    new_row['keywords'] = [keyword['name'] for keyword in keywords]\n",
    "    new_row['prod_comps'] = [pc['name'] for pc in prod_comps]\n",
    "    new_row['overview'] = overview\n",
    "    \n",
    "    if not new_row['genres']or not new_row['keywords'] or not new_row['prod_comps'] or not new_row['overview']:\n",
    "        continue\n",
    "    \n",
    "    new_df.append(new_row)\n",
    "    \n",
    "new_df = pd.DataFrame.from_dict(new_df, orient='columns')"
   ]
  },
  {
   "cell_type": "code",
   "execution_count": 19,
   "metadata": {},
   "outputs": [],
   "source": [
    "# drop words to lowercase and replace spaces\n",
    "def sanitize(x):\n",
    "    if isinstance(x, list):\n",
    "        return [str.lower(i.replace(\" \", \"\")) for i in x]\n",
    "    else:\n",
    "        if isinstance(x, str):\n",
    "            return str.lower(x.replace(\" \", \"\"))\n",
    "        else:\n",
    "            return ''\n",
    "\n",
    "for feature in ['genres', 'keywords', 'prod_comps', 'overview']:\n",
    "    new_df[feature] = new_df[feature].apply(sanitize)\n",
    "\n",
    "# eliminate NAs in overview\n",
    "new_df = new_df[new_df['overview'] != '']\n",
    "\n",
    "# create soup\n",
    "new_df = new_df.assign(soup=new_df['genres'] + new_df['keywords'] + new_df['prod_comps'] + new_df['overview'])\n",
    "\n",
    "def create_soup(x):\n",
    "    return ' '.join(x['soup'])\n",
    "\n",
    "new_df['soup'] = new_df.apply(create_soup, axis=1)"
   ]
  },
  {
   "cell_type": "code",
   "execution_count": 24,
   "metadata": {},
   "outputs": [],
   "source": [
    "# Function that takes in movie title as input and gives recommendations \n",
    "def content_recommender(title, cosine_sim, df, indices):\n",
    "    # Obtain the index of the movie that matches the title\n",
    "    idx = indices[title]\n",
    "\n",
    "    # Get the pairwsie similarity scores of all movies with that movie\n",
    "    # And convert it into a list of tuples as described above\n",
    "    sim_scores = list(enumerate(cosine_sim[idx]))\n",
    "\n",
    "    # Sort the movies based on the cosine similarity scores\n",
    "    sim_scores = sorted(sim_scores, key=lambda x: x[1], reverse=True)\n",
    "\n",
    "    # Get the scores of the 10 most similar movies. Ignore the first movie.\n",
    "    sim_scores = sim_scores[1:11]\n",
    "\n",
    "    # Get the movie indices\n",
    "    movie_indices = [i[0] for i in sim_scores]\n",
    "\n",
    "    # Return the top 10 most similar movies\n",
    "    return df['title'].iloc[movie_indices]"
   ]
  },
  {
   "cell_type": "code",
   "execution_count": 25,
   "metadata": {},
   "outputs": [],
   "source": [
    "# Import CountVectorizer\n",
    "from sklearn.feature_extraction.text import CountVectorizer\n",
    "from sklearn.metrics.pairwise import cosine_similarity\n",
    "\n",
    "count = CountVectorizer(stop_words='english')\n",
    "count_matrix = count.fit_transform(new_df['soup'])\n",
    "cosine_sim2 = cosine_similarity(count_matrix, count_matrix)\n",
    "\n",
    "\n",
    "new_df = new_df.reset_index()\n",
    "indices2 = pd.Series(new_df.index, index=new_df['title'])"
   ]
  },
  {
   "cell_type": "markdown",
   "metadata": {
    "hidden": true
   },
   "source": [
    "**Provide the following with your solution:**\n",
    "\n",
    "(a) After you have constructed it, print the \"soup\" for the first entry [0]."
   ]
  },
  {
   "cell_type": "code",
   "execution_count": 26,
   "metadata": {},
   "outputs": [
    {
     "data": {
      "text/plain": [
       "'action adventure fantasy sciencefiction cultureclash future spacewar spacecolony society spacetravel futuristic romance space alien tribe alienplanet cgi marine soldier battle loveaffair antiwar powerrelations mindandsoul 3d ingeniousfilmpartners twentiethcenturyfoxfilmcorporation duneentertainment lightstormentertainment alien protecting civilization 22nd torn moon the mission dispatched in an between and a becomes following is paraplegic pandora century marine orders on to unique but'"
      ]
     },
     "execution_count": 26,
     "metadata": {},
     "output_type": "execute_result"
    }
   ],
   "source": [
    "new_df.iloc[0]['soup']"
   ]
  },
  {
   "cell_type": "markdown",
   "metadata": {
    "hidden": true
   },
   "source": [
    "(b) List the top 10 recommended movies that go with the movie Road House. Display only the movie titles of your recommendations.\n",
    "\n",
    "\n",
    "Use the examples given in Banik's book as a guide."
   ]
  },
  {
   "cell_type": "code",
   "execution_count": 27,
   "metadata": {},
   "outputs": [
    {
     "name": "stdout",
     "output_type": "stream",
     "text": [
      "[(0, 0.03823595564509363), (1, 0.02177517781546711), (2, 0.02120949209919259), (3, 0.030386856273138196), (4, 0.01892189081521491), (5, 0.03604920469572501), (6, 0.015193428136569098), (7, 0.03508771929824562), (8, 0.0), (9, 0.03166237934306518), (10, 0.03905832834322535), (11, 0.04087595596566439), (12, 0.022075539284417398), (13, 0.017243942512516184), (14, 0.02177517781546711), (15, 0.0), (16, 0.019744962591969745), (17, 0.04966996338993915), (18, 0.017859990659227328), (19, 0.015719307070490657), (20, 0.06243905410544627), (21, 0.020942695414584777), (22, 0.0), (23, 0.0), (24, 0.040397858162338846), (25, 0.027923593886113034), (26, 0.019320290100197885), (27, 0.028903665650804003), (28, 0.03864058020039577), (29, 0.033375078288117255), (30, 0.03673591791853226), (31, 0.02177517781546711), (32, 0.0), (33, 0.04355035563093422), (34, 0.02503130871608794), (35, 0.02177517781546711), (36, 0.01836795895926613), (37, 0.02177517781546711), (38, 0.03478392380269824), (39, 0.020198929081169423), (40, 0.0), (41, 0.03784378163042982), (42, 0.0), (43, 0.05796087030059366), (44, 0.07024393586862704), (45, 0.05357997197768198), (46, 0.020437977982832194), (47, 0.01695889903687727), (48, 0.01754385964912281), (49, 0.020942695414584777), (50, 0.06362847629757777), (51, 0.014200477428076832), (52, 0.019117977822546817), (53, 0.01739196190134912), (54, 0.0), (55, 0.013448588493413858), (56, 0.04836508334066744), (57, 0.042973504259354006), (58, 0.06059678724350827), (59, 0.030794751789719334), (60, 0.0), (61, 0.02418254167033372), (62, 0.023789303403490326), (63, 0.0), (64, 0.0), (65, 0.04650743597078627), (66, 0.0), (67, 0.02177517781546711), (68, 0.023789303403490326), (69, 0.014538631400564484), (70, 0.042973504259354006), (71, 0.019529164171612674), (72, 0.0), (73, 0.019744962591969745), (74, 0.01873171623163388), (75, 0.053099424405359155), (76, 0.015719307070490657), (77, 0.0), (78, 0.03823595564509363), (79, 0.0), (80, 0.044151078568834795), (81, 0.04087595596566439), (82, 0.014997375688861584), (83, 0.01509444709505754), (84, 0.041885390829169554), (85, 0.0), (86, 0.041885390829169554), (87, 0.0), (88, 0.0), (89, 0.02177517781546711), (90, 0.0), (91, 0.06897577005006474), (92, 0.023057148795535824), (93, 0.0), (94, 0.042973504259354006), (95, 0.018024602347862503), (96, 0.01769980813511972), (97, 0.03993615319154359), (98, 0.05298129428260176), (99, 0.01892189081521491), (100, 0.017859990659227328), (101, 0.015945495774497997), (102, 0.03993615319154359), (103, 0.0), (104, 0.0), (105, 0.01754385964912281), (106, 0.03709432560497715), (107, 0.0), (108, 0.018024602347862503), (109, 0.020437977982832194), (110, 0.03948992518393949), (111, 0.0), (112, 0.0), (113, 0.051731827537548555), (114, 0.03823595564509363), (115, 0.0), (116, 0.0), (117, 0.016428801936338142), (118, 0.0), (119, 0.01873171623163388), (120, 0.04355035563093422), (121, 0.051731827537548555), (122, 0.0), (123, 0.03841421281489313), (124, 0.019744962591969745), (125, 0.04715792121147197), (126, 0.019529164171612674), (127, 0.018547162802488575), (128, 0.022075539284417398), (129, 0.019968076595771794), (130, 0.0), (131, 0.0), (132, 0.0447773662839645), (133, 0.023057148795535824), (134, 0.0), (135, 0.016556654463313048), (136, 0.03746343246326776), (137, 0.05998950275544634), (138, 0.03539961627023944), (139, 0.0), (140, 0.0), (141, 0.0), (142, 0.01836795895926613), (143, 0.0), (144, 0.018193851153474078), (145, 0.0447773662839645), (146, 0.021486752129677003), (147, 0.04783648732349399), (148, 0.031438614140981314), (149, 0.022075539284417398), (150, 0.02238868314198225), (151, 0.032124628310161774), (152, 0.0), (153, 0.01754385964912281), (154, 0.030386856273138196), (155, 0.02271554252121273), (156, 0.031890991548995995), (157, 0.02418254167033372), (158, 0.01509444709505754), (159, 0.0), (160, 0.027618408833305377), (161, 0.03508771929824562), (162, 0.07568756326085964), (163, 0.01769980813511972), (164, 0.03784378163042982), (165, 0.022075539284417398), (166, 0.05990422978731538), (167, 0.017243942512516184), (168, 0.05458155346042223), (169, 0.0), (170, 0.062057160283809094), (171, 0.0), (172, 0.019117977822546817), (173, 0.0), (174, 0.03905832834322535), (175, 0.0), (176, 0.0), (177, 0.02597621667330656), (178, 0.03260773253630123), (179, 0.0), (180, 0.019529164171612674), (181, 0.014627012952620633), (182, 0.0), (183, 0.02068572009460303), (184, 0.03018889419011508), (185, 0.020437977982832194), (186, 0.04749356901459777), (187, 0.0), (188, 0.01480872194397731), (189, 0.0), (190, 0.0), (191, 0.03448788502503237), (192, 0.0), (193, 0.02177517781546711), (194, 0.021486752129677003), (195, 0.018547162802488575), (196, 0.0447773662839645), (197, 0.03448788502503237), (198, 0.025490637096729087), (199, 0.017859990659227328), (200, 0.0), (201, 0.03864058020039577), (202, 0.03746343246326776), (203, 0.05006261743217588), (204, 0.016687539144058627), (205, 0.03993615319154359), (206, 0.02418254167033372), (207, 0.04241898419838518), (208, 0.02068572009460303), (209, 0.019744962591969745), (210, 0.046192127684579004), (211, 0.032124628310161774), (212, 0.0), (213, 0.051298917604257706), (214, 0.019968076595771794), (215, 0.03673591791853226), (216, 0.0564782494724905), (217, 0.023789303403490326), (218, 0.0), (219, 0.0), (220, 0.04818694246524266), (221, 0.020437977982832194), (222, 0.015193428136569098), (223, 0.04241898419838518), (224, 0.023414645289542346), (225, 0.02068572009460303), (226, 0.033375078288117255), (227, 0.015502478656928756), (228, 0.015719307070490657), (229, 0.0), (230, 0.02238868314198225), (231, 0.05098127419345817), (232, 0.0), (233, 0.0), (234, 0.019968076595771794), (235, 0.02271554252121273), (236, 0.015945495774497997), (237, 0.033113308926626096), (238, 0.04966996338993915), (239, 0.019968076595771794), (240, 0.019320290100197885), (241, 0.03391779807375454), (242, 0.04611429759107165), (243, 0.04137144018920606), (244, 0.01754385964912281), (245, 0.023057148795535824), (246, 0.04891159880445185), (247, 0.02503130871608794), (248, 0.0), (249, 0.0), (250, 0.04749356901459777), (251, 0.03260773253630123), (252, 0.019117977822546817), (253, 0.020437977982832194), (254, 0.0), (255, 0.019744962591969745), (256, 0.015397375894859667), (257, 0.0447773662839645), (258, 0.020437977982832194), (259, 0.05217588570404737), (260, 0.01739196190134912), (261, 0.02238868314198225), (262, 0.019320290100197885), (263, 0.0), (264, 0.019320290100197885), (265, 0.02177517781546711), (266, 0.0), (267, 0.02238868314198225), (268, 0.0), (269, 0.06131393394849658), (270, 0.021486752129677003), (271, 0.032857603872676285), (272, 0.026624102127695726), (273, 0.04087595596566439), (274, 0.0), (275, 0.03364315551262445), (276, 0.03784378163042982), (277, 0.03823595564509363), (278, 0.018024602347862503), (279, 0.017243942512516184), (280, 0.04241898419838518), (281, 0.03905832834322535), (282, 0.050876697110631815), (283, 0.015609763526361568), (284, 0.032124628310161774), (285, 0.020437977982832194), (286, 0.0), (287, 0.0), (288, 0.09365858115816939), (289, 0.056195148694901643), (290, 0.0447773662839645), (291, 0.0), (292, 0.0), (293, 0.08849904067559859), (294, 0.015193428136569098), (295, 0.03236347641891674), (296, 0.0), (297, 0.015609763526361568), (298, 0.03673591791853226), (299, 0.032124628310161774), (300, 0.0), (301, 0.019117977822546817), (302, 0.02873314106137437), (303, 0.0), (304, 0.02068572009460303), (305, 0.031219527052723135), (306, 0.04836508334066744), (307, 0.0), (308, 0.023693955110363697), (309, 0.07647191129018727), (310, 0.03604920469572501), (311, 0.0), (312, 0.02961744388795462), (313, 0.019529164171612674), (314, 0.0), (315, 0.0), (316, 0.04966996338993915), (317, 0.027618408833305377), (318, 0.042973504259354006), (319, 0.0), (320, 0.03823595564509363), (321, 0.0), (322, 0.0), (323, 0.021486752129677003), (324, 0.02120949209919259), (325, 0.0), (326, 0.019529164171612674), (327, 0.01873171623163388), (328, 0.019744962591969745), (329, 0.03673591791853226), (330, 0.020198929081169423), (331, 0.055103876877798386), (332, 0.036387702306948155), (333, 0.0), (334, 0.03448788502503237), (335, 0.0), (336, 0.02238868314198225), (337, 0.018547162802488575), (338, 0.020198929081169423), (339, 0.017243942512516184), (340, 0.01739196190134912), (341, 0.042973504259354006), (342, 0.03673591791853226), (343, 0.04241898419838518), (344, 0.0), (345, 0.0), (346, 0.0), (347, 0.03905832834322535), (348, 0.03604920469572501), (349, 0.0), (350, 0.016821577756312225), (351, 0.015397375894859667), (352, 0.032124628310161774), (353, 0.04241898419838518), (354, 0.0), (355, 0.0), (356, 0.0), (357, 0.03166237934306518), (358, 0.019529164171612674), (359, 0.02649064714130088), (360, 0.017099639201419235), (361, 0.04137144018920606), (362, 0.0), (363, 0.06282808624375433), (364, 0.04355035563093422), (365, 0.0), (366, 0.035719981318454656), (367, 0.062057160283809094), (368, 0.058587492514838024), (369, 0.05676567244564473), (370, 0.0), (371, 0.0), (372, 0.0), (373, 0.03673591791853226), (374, 0.020437977982832194), (375, 0.023414645289542346), (376, 0.01618173820945837), (377, 0.019744962591969745), (378, 0.0), (379, 0.01695889903687727), (380, 0.041885390829169554), (381, 0.0), (382, 0.03419927840283847), (383, 0.03905832834322535), (384, 0.019117977822546817), (385, 0.06917144638660747), (386, 0.0), (387, 0.03018889419011508), (388, 0.06532553344640132), (389, 0.018024602347862503), (390, 0.017243942512516184), (391, 0.07647191129018727), (392, 0.03448788502503237), (393, 0.04355035563093422), (394, 0.06131393394849658), (395, 0.0), (396, 0.02238868314198225), (397, 0.0), (398, 0.03746343246326776), (399, 0.03746343246326776), (400, 0.02238868314198225), (401, 0.06446025638903101), (402, 0.0), (403, 0.0), (404, 0.07024393586862704), (405, 0.0), (406, 0.016821577756312225), (407, 0.01892189081521491), (408, 0.05357997197768198), (409, 0.07728116040079154), (410, 0.0), (411, 0.013589415249850587), (412, 0.019968076595771794), (413, 0.0), (414, 0.0), (415, 0.01873171623163388), (416, 0.0), (417, 0.018193851153474078), (418, 0.027036903521793762), (419, 0.01892189081521491), (420, 0.04891159880445185), (421, 0.06956784760539649), (422, 0.0), (423, 0.021486752129677003), (424, 0.016428801936338142), (425, 0.0), (426, 0.01836795895926613), (427, 0.0), (428, 0.03604920469572501), (429, 0.04543108504242546), (430, 0.0), (431, 0.0), (432, 0.056195148694901643), (433, 0.041885390829169554), (434, 0.022075539284417398), (435, 0.05796087030059366), (436, 0.02238868314198225), (437, 0.09012301173931252), (438, 0.019529164171612674), (439, 0.040397858162338846), (440, 0.04355035563093422), (441, 0.05217588570404737), (442, 0.03784378163042982), (443, 0.018193851153474078), (444, 0.07509392614826382), (445, 0.0), (446, 0.03419927840283847), (447, 0.0), (448, 0.01769980813511972), (449, 0.017243942512516184), (450, 0.055641488407465724), (451, 0.016303866268150616), (452, 0.08377078165833911), (453, 0.0), (454, 0.0), (455, 0.019320290100197885), (456, 0.0), (457, 0.03018889419011508), (458, 0.025490637096729087), (459, 0.0), (460, 0.0), (461, 0.02597621667330656), (462, 0.01892189081521491), (463, 0.055641488407465724), (464, 0.017243942512516184), (465, 0.02177517781546711), (466, 0.041885390829169554), (467, 0.03993615319154359), (468, 0.0), (469, 0.0), (470, 0.018547162802488575), (471, 0.05006261743217588), (472, 0.022075539284417398), (473, 0.031890991548995995), (474, 0.0), (475, 0.03604920469572501), (476, 0.0), (477, 0.019968076595771794), (478, 0.02271554252121273), (479, 0.0), (480, 0.02271554252121273), (481, 0.014627012952620633), (482, 0.05195243334661312), (483, 0.015397375894859667), (484, 0.02177517781546711), (485, 0.06282808624375433), (486, 0.02873314106137437), (487, 0.0), (488, 0.014997375688861584), (489, 0.0), (490, 0.027036903521793762), (491, 0.036387702306948155), (492, 0.02597621667330656), (493, 0.0), (494, 0.023414645289542346), (495, 0.040397858162338846), (496, 0.0), (497, 0.07017543859649124), (498, 0.019529164171612674), (499, 0.0), (500, 0.04757860680698065), (501, 0.0), (502, 0.018024602347862503), (503, 0.03823595564509363), (504, 0.0), (505, 0.03905832834322535), (506, 0.023057148795535824), (507, 0.08377078165833911), (508, 0.03746343246326776), (509, 0.0), (510, 0.020942695414584777), (511, 0.01836795895926613), (512, 0.016062314155080887), (513, 0.019320290100197885), (514, 0.02068572009460303), (515, 0.0), (516, 0.03364315551262445), (517, 0.0), (518, 0.03673591791853226), (519, 0.0), (520, 0.05676567244564473), (521, 0.0), (522, 0.023789303403490326), (523, 0.04891159880445185), (524, 0.01739196190134912), (525, 0.09838379358865637), (526, 0.01739196190134912), (527, 0.0), (528, 0.0), (529, 0.0564782494724905), (530, 0.041885390829169554), (531, 0.040397858162338846), (532, 0.02503130871608794), (533, 0.02177517781546711), (534, 0.02177517781546711), (535, 0.06282808624375433), (536, 0.020198929081169423), (537, 0.028400954856153664), (538, 0.019529164171612674), (539, 0.056195148694901643), (540, 0.020942695414584777), (541, 0.0), (542, 0.04087595596566439), (543, 0.0), (544, 0.0), (545, 0.0), (546, 0.033375078288117255), (547, 0.0), (548, 0.04682929057908469), (549, 0.01769980813511972), (550, 0.06622661785325219), (551, 0.04087595596566439), (552, 0.018547162802488575), (553, 0.0), (554, 0.023057148795535824), (555, 0.03419927840283847), (556, 0.0), (557, 0.023414645289542346), (558, 0.0), (559, 0.02177517781546711), (560, 0.0), (561, 0.03391779807375454), (562, 0.040397858162338846), (563, 0.06131393394849658), (564, 0.016687539144058627), (565, 0.054073807043587524), (566, 0.031438614140981314), (567, 0.0), (568, 0.04650743597078627), (569, 0.05263157894736843), (570, 0.058587492514838024), (571, 0.020198929081169423), (572, 0.019529164171612674), (573, 0.0), (574, 0.022075539284417398), (575, 0.04087595596566439), (576, 0.05006261743217588), (577, 0.03448788502503237), (578, 0.018547162802488575), (579, 0.0), (580, 0.020198929081169423), (581, 0.03448788502503237), (582, 0.03746343246326776), (583, 0.0), (584, 0.033375078288117255), (585, 0.054073807043587524), (586, 0.03823595564509363), (587, 0.0), (588, 0.0), (589, 0.06059678724350827), (590, 0.03364315551262445), (591, 0.06956784760539649), (592, 0.020198929081169423), (593, 0.027036903521793762), (594, 0.0), (595, 0.03508771929824562), (596, 0.05523681766661075), (597, 0.03993615319154359), (598, 0.055103876877798386), (599, 0.023057148795535824), (600, 0.0), (601, 0.05263157894736843), (602, 0.06716604942594674), (603, 0.055103876877798386), (604, 0.016687539144058627), (605, 0.035719981318454656), (606, 0.035719981318454656), (607, 0.049191896794328185), (608, 0.0), (609, 0.02597621667330656), (610, 0.024595948397164093), (611, 0.01618173820945837), (612, 0.016303866268150616), (613, 0.020198929081169423), (614, 0.021486752129677003), (615, 0.04611429759107165), (616, 0.03478392380269824), (617, 0.0), (618, 0.025490637096729087), (619, 0.02238868314198225), (620, 0.02120949209919259), (621, 0.024595948397164093), (622, 0.0), (623, 0.09096925576737039), (624, 0.04137144018920606), (625, 0.0), (626, 0.019320290100197885), (627, 0.016556654463313048), (628, 0.041885390829169554), (629, 0.01739196190134912), (630, 0.019529164171612674), (631, 0.019744962591969745), (632, 0.07378784519149229), (633, 0.019968076595771794), (634, 0.03864058020039577), (635, 0.022075539284417398), (636, 0.0), (637, 0.033375078288117255), (638, 0.03905832834322535), (639, 0.033375078288117255), (640, 0.020437977982832194), (641, 0.018547162802488575), (642, 0.02068572009460303), (643, 0.0), (644, 0.02238868314198225), (645, 0.019320290100197885), (646, 0.01836795895926613), (647, 0.05298129428260176), (648, 0.03260773253630123), (649, 0.058587492514838024), (650, 0.0), (651, 0.013448588493413858), (652, 0.03448788502503237), (653, 0.035719981318454656), (654, 0.13518451760896882), (655, 0.01769980813511972), (656, 0.0), (657, 0.0), (658, 0.04355035563093422), (659, 0.0741886512099543), (660, 0.041885390829169554), (661, 0.0), (662, 0.023789303403490326), (663, 0.02503130871608794), (664, 0.016556654463313048), (665, 0.0), (666, 0.0), (667, 0.032857603872676285), (668, 0.019968076595771794), (669, 0.0), (670, 0.020437977982832194), (671, 0.03864058020039577), (672, 0.017859990659227328), (673, 0.040397858162338846), (674, 0.04611429759107165), (675, 0.01754385964912281), (676, 0.05923488777590924), (677, 0.0), (678, 0.025490637096729087), (679, 0.044151078568834795), (680, 0.01873171623163388), (681, 0.018193851153474078), (682, 0.0), (683, 0.0), (684, 0.021486752129677003), (685, 0.0), (686, 0.02238868314198225), (687, 0.03236347641891674), (688, 0.08710071126186844), (689, 0.01618173820945837), (690, 0.0), (691, 0.0), (692, 0.0), (693, 0.02271554252121273), (694, 0.0), (695, 0.050876697110631815), (696, 0.01769980813511972), (697, 0.01769980813511972), (698, 0.01836795895926613), (699, 0.019744962591969745), (700, 0.02597621667330656), (701, 0.017099639201419235), (702, 0.016821577756312225), (703, 0.01836795895926613), (704, 0.04611429759107165), (705, 0.0), (706, 0.019744962591969745), (707, 0.020942695414584777), (708, 0.06532553344640132), (709, 0.06446025638903101), (710, 0.051731827537548555), (711, 0.05357997197768198), (712, 0.0), (713, 0.020942695414584777), (714, 0.02271554252121273), (715, 0.0), (716, 0.03604920469572501), (717, 0.05676567244564473), (718, 0.0), (719, 0.0), (720, 0.01892189081521491), (721, 0.018547162802488575), (722, 0.0), (723, 0.0), (724, 0.0781166566864507), (725, 0.07277540461389631), (726, 0.03391779807375454), (727, 0.0), (728, 0.05735393346764045), (729, 0.04241898419838518), (730, 0.03993615319154359), (731, 0.0), (732, 0.0564782494724905), (733, 0.019529164171612674), (734, 0.06446025638903101), (735, 0.0), (736, 0.01836795895926613), (737, 0.0), (738, 0.04543108504242546), (739, 0.018193851153474078), (740, 0.032124628310161774), (741, 0.0), (742, 0.016062314155080887), (743, 0.035719981318454656), (744, 0.02649064714130088), (745, 0.0), (746, 0.05006261743217588), (747, 0.0), (748, 0.030794751789719334), (749, 0.02271554252121273), (750, 0.019117977822546817), (751, 0.020198929081169423), (752, 0.03539961627023944), (753, 0.044151078568834795), (754, 0.06282808624375433), (755, 0.0447773662839645), (756, 0.0), (757, 0.0), (758, 0.019320290100197885), (759, 0.0), (760, 0.03508771929824562), (761, 0.036387702306948155), (762, 0.0), (763, 0.0), (764, 0.0), (765, 0.0), (766, 0.05006261743217588), (767, 0.06622661785325219), (768, 0.03993615319154359), (769, 0.031219527052723135), (770, 0.05217588570404737), (771, 0.019320290100197885), (772, 0.019320290100197885), (773, 0.0), (774, 0.0), (775, 0.0741886512099543), (776, 0.0), (777, 0.056195148694901643), (778, 0.02980430658637818), (779, 0.022075539284417398), (780, 0.020198929081169423), (781, 0.018193851153474078), (782, 0.0), (783, 0.016821577756312225), (784, 0.0), (785, 0.020198929081169423), (786, 0.0447773662839645), (787, 0.05796087030059366), (788, 0.03746343246326776), (789, 0.0), (790, 0.0), (791, 0.0), (792, 0.03448788502503237), (793, 0.027036903521793762), (794, 0.019968076595771794), (795, 0.0), (796, 0.019529164171612674), (797, 0.020437977982832194), (798, 0.03993615319154359), (799, 0.041885390829169554), (800, 0.04137144018920606), (801, 0.07254762501100116), (802, 0.017859990659227328), (803, 0.0), (804, 0.016556654463313048), (805, 0.01583118967153259), (806, 0.018547162802488575), (807, 0.03864058020039577), (808, 0.01836795895926613), (809, 0.019529164171612674), (810, 0.02120949209919259), (811, 0.040397858162338846), (812, 0.0), (813, 0.01480872194397731), (814, 0.042601432284230495), (815, 0.016687539144058627), (816, 0.04137144018920606), (817, 0.016556654463313048), (818, 0.04836508334066744), (819, 0.05195243334661312), (820, 0.036387702306948155), (821, 0.06059678724350827), (822, 0.03746343246326776), (823, 0.06532553344640132), (824, 0.019744962591969745), (825, 0.0), (826, 0.01892189081521491), (827, 0.053099424405359155), (828, 0.0), (829, 0.01739196190134912), (830, 0.0), (831, 0.01695889903687727), (832, 0.0), (833, 0.05923488777590924), (834, 0.0), (835, 0.016556654463313048), (836, 0.0), (837, 0.03823595564509363), (838, 0.05357997197768198), (839, 0.0), (840, 0.0), (841, 0.0), (842, 0.0), (843, 0.0564782494724905), (844, 0.019744962591969745), (845, 0.032857603872676285), (846, 0.022075539284417398), (847, 0.018547162802488575), (848, 0.0), (849, 0.03709432560497715), (850, 0.0), (851, 0.03746343246326776), (852, 0.04284839917800318), (853, 0.014200477428076832), (854, 0.01836795895926613), (855, 0.042973504259354006), (856, 0.031438614140981314), (857, 0.0), (858, 0.02120949209919259), (859, 0.055641488407465724), (860, 0.020198929081169423), (861, 0.018547162802488575), (862, 0.019968076595771794), (863, 0.01892189081521491), (864, 0.07209840939145001), (865, 0.0), (866, 0.036387702306948155), (867, 0.02649064714130088), (868, 0.02271554252121273), (869, 0.0), (870, 0.022075539284417398), (871, 0.04757860680698065), (872, 0.020942695414584777), (873, 0.0), (874, 0.016303866268150616), (875, 0.05263157894736843), (876, 0.018547162802488575), (877, 0.031004957313857513), (878, 0.017099639201419235), (879, 0.02622964917882113), (880, 0.0), (881, 0.032124628310161774), (882, 0.0), (883, 0.03364315551262445), (884, 0.022075539284417398), (885, 0.0), (886, 0.0), (887, 0.0), (888, 0.019744962591969745), (889, 0.01892189081521491), (890, 0.056195148694901643), (891, 0.0), (892, 0.04087595596566439), (893, 0.0), (894, 0.01769980813511972), (895, 0.06622661785325219), (896, 0.0), (897, 0.03604920469572501), (898, 0.01873171623163388), (899, 0.02177517781546711), (900, 0.03746343246326776), (901, 0.05006261743217588), (902, 0.027036903521793762), (903, 0.0), (904, 0.025490637096729087), (905, 0.020942695414584777), (906, 0.0), (907, 0.0), (908, 0.03746343246326776), (909, 0.08079571632467769), (910, 0.04543108504242546), (911, 0.0), (912, 0.03993615319154359), (913, 0.02120949209919259), (914, 0.024595948397164093), (915, 0.018547162802488575), (916, 0.0), (917, 0.0), (918, 0.0), (919, 0.04087595596566439), (920, 0.05263157894736843), (921, 0.0447773662839645), (922, 0.06571520774535257), (923, 0.05458155346042223), (924, 0.02177517781546711), (925, 0.04682929057908469), (926, 0.04611429759107165), (927, 0.01892189081521491), (928, 0.02177517781546711), (929, 0.06424925662032355), (930, 0.015945495774497997), (931, 0.04241898419838518), (932, 0.020942695414584777), (933, 0.023057148795535824), (934, 0.03948992518393949), (935, 0.019968076595771794), (936, 0.018547162802488575), (937, 0.013379797308309913), (938, 0.03864058020039577), (939, 0.0), (940, 0.04891159880445185), (941, 0.06622661785325219), (942, 0.03604920469572501), (943, 0.017099639201419235), (944, 0.0), (945, 0.042973504259354006), (946, 0.019117977822546817), (947, 0.04543108504242546), (948, 0.06362847629757777), (949, 0.04137144018920606), (950, 0.02418254167033372), (951, 0.03948992518393949), (952, 0.022075539284417398), (953, 0.0869598095067456), (954, 0.04757860680698065), (955, 0.019968076595771794), (956, 0.01873171623163388), (957, 0.06424925662032355), (958, 0.02120949209919259), (959, 0.057807331301608006), (960, 0.06282808624375433), (961, 0.04611429759107165), (962, 0.023414645289542346), (963, 0.04137144018920606), (964, 0.058587492514838024), (965, 0.0), (966, 0.01836795895926613), (967, 0.03448788502503237), (968, 0.023057148795535824), (969, 0.04650743597078627), (970, 0.018193851153474078), (971, 0.03948992518393949), (972, 0.01892189081521491), (973, 0.02418254167033372), (974, 0.020437977982832194), (975, 0.05298129428260176), (976, 0.055641488407465724), (977, 0.020942695414584777), (978, 0.03478392380269824), (979, 0.027618408833305377), (980, 0.08377078165833911), (981, 0.03905832834322535), (982, 0.021486752129677003), (983, 0.03604920469572501), (984, 0.0), (985, 0.0), (986, 0.015945495774497997), (987, 0.03448788502503237), (988, 0.07509392614826382), (989, 0.06243905410544627), (990, 0.05676567244564473), (991, 0.01754385964912281), (992, 0.015719307070490657), (993, 0.03604920469572501), (994, 0.027036903521793762), (995, 0.05923488777590924), (996, 0.020437977982832194), (997, 0.019529164171612674), (998, 0.018024602347862503), (999, 0.023789303403490326), (1000, 0.01873171623163388), (1001, 0.0), (1002, 0.019968076595771794), (1003, 0.02120949209919259), (1004, 0.02961744388795462), (1005, 0.016821577756312225), (1006, 0.07568756326085964), (1007, 0.020437977982832194), (1008, 0.04087595596566439), (1009, 0.0), (1010, 0.07254762501100116), (1011, 0.025490637096729087), (1012, 0.02418254167033372), (1013, 0.04928640580901443), (1014, 0.0), (1015, 0.0), (1016, 0.08111071056538129), (1017, 0.04355035563093422), (1018, 0.023789303403490326), (1019, 0.042973504259354006), (1020, 0.03709432560497715), (1021, 0.051731827537548555), (1022, 0.020437977982832194), (1023, 0.0), (1024, 0.031219527052723135), (1025, 0.017859990659227328), (1026, 0.042973504259354006), (1027, 0.0), (1028, 0.06446025638903101), (1029, 0.025490637096729087), (1030, 0.021486752129677003), (1031, 0.027036903521793762), (1032, 0.01873171623163388), (1033, 0.0), (1034, 0.07647191129018727), (1035, 0.05407380704358751), (1036, 0.023414645289542346), (1037, 0.049191896794328185), (1038, 0.0), (1039, 0.02068572009460303), (1040, 0.0), (1041, 0.01480872194397731), (1042, 0.0), (1043, 0.03864058020039577), (1044, 0.023057148795535824), (1045, 0.04087595596566439), (1046, 0.020437977982832194), (1047, 0.0), (1048, 0.025490637096729087), (1049, 0.08274288037841213), (1050, 0.024595948397164093), (1051, 0.02597621667330656), (1052, 0.04543108504242546), (1053, 0.0), (1054, 0.02177517781546711), (1055, 0.025490637096729087), (1056, 0.0447773662839645), (1057, 0.0), (1058, 0.04611429759107165), (1059, 0.05195243334661312), (1060, 0.03993615319154359), (1061, 0.0), (1062, 0.019320290100197885), (1063, 0.020437977982832194), (1064, 0.02271554252121273), (1065, 0.044151078568834795), (1066, 0.05458155346042223), (1067, 0.036387702306948155), (1068, 0.020942695414584777), (1069, 0.0), (1070, 0.02418254167033372), (1071, 0.0), (1072, 0.02177517781546711), (1073, 0.053099424405359155), (1074, 0.022075539284417398), (1075, 0.018547162802488575), (1076, 0.04543108504242546), (1077, 0.0), (1078, 0.020437977982832194), (1079, 0.04891159880445185), (1080, 0.06622661785325219), (1081, 0.03604920469572501), (1082, 0.04818694246524266), (1083, 0.027618408833305377), (1084, 0.01892189081521491), (1085, 0.03260773253630123), (1086, 0.023789303403490326), (1087, 0.03993615319154359), (1088, 0.05796087030059366), (1089, 0.01836795895926613), (1090, 0.014366570530687186), (1091, 0.05263157894736843), (1092, 0.04137144018920606), (1093, 0.023057148795535824), (1094, 0.0), (1095, 0.0), (1096, 0.01873171623163388), (1097, 0.019968076595771794), (1098, 0.03508771929824562), (1099, 0.0), (1100, 0.03709432560497715), (1101, 0.055641488407465724), (1102, 0.056195148694901643), (1103, 0.0), (1104, 0.01739196190134912), (1105, 0.02271554252121273), (1106, 0.017099639201419235), (1107, 0.018024602347862503), (1108, 0.0), (1109, 0.01583118967153259), (1110, 0.020942695414584777), (1111, 0.0), (1112, 0.0), (1113, 0.06814662756363819), (1114, 0.03260773253630123), (1115, 0.07476091374842407), (1116, 0.0), (1117, 0.02177517781546711), (1118, 0.02961744388795462), (1119, 0.06362847629757777), (1120, 0.02177517781546711), (1121, 0.06532553344640132), (1122, 0.03877833671647407), (1123, 0.0), (1124, 0.0), (1125, 0.03709432560497715), (1126, 0.04611429759107165), (1127, 0.03823595564509363), (1128, 0.04355035563093422), (1129, 0.0), (1130, 0.0), (1131, 0.0), (1132, 0.021486752129677003), (1133, 0.02597621667330656), (1134, 0.0), (1135, 0.02238868314198225), (1136, 0.03673591791853226), (1137, 0.02597621667330656), (1138, 0.02068572009460303), (1139, 0.0), (1140, 0.03784378163042982), (1141, 0.0), (1142, 0.0), (1143, 0.0), (1144, 0.04757860680698065), (1145, 0.0), (1146, 0.0), (1147, 0.0), (1148, 0.019744962591969745), (1149, 0.03948992518393949), (1150, 0.02271554252121273), (1151, 0.0), (1152, 0.03166237934306518), (1153, 0.0), (1154, 0.019529164171612674), (1155, 0.025490637096729087), (1156, 0.07136791021047098), (1157, 0.04241898419838518), (1158, 0.0), (1159, 0.05357997197768198), (1160, 0.04543108504242546), (1161, 0.0), (1162, 0.025490637096729087), (1163, 0.02177517781546711), (1164, 0.01873171623163388), (1165, 0.07987230638308718), (1166, 0.04087595596566439), (1167, 0.0922285951821433), (1168, 0.0), (1169, 0.015945495774497997), (1170, 0.048545214628375105), (1171, 0.0), (1172, 0.031219527052723135), (1173, 0.04836508334066744), (1174, 0.040397858162338846), (1175, 0.05735393346764045), (1176, 0.028903665650804003), (1177, 0.03993615319154359), (1178, 0.022075539284417398), (1179, 0.0), (1180, 0.0), (1181, 0.03508771929824562), (1182, 0.050464733268936676), (1183, 0.03784378163042982), (1184, 0.05796087030059366), (1185, 0.017243942512516184), (1186, 0.040397858162338846), (1187, 0.019320290100197885), (1188, 0.0), (1189, 0.03948992518393949), (1190, 0.019117977822546817), (1191, 0.019744962591969745), (1192, 0.019529164171612674), (1193, 0.0), (1194, 0.01769980813511972), (1195, 0.03391779807375454), (1196, 0.019320290100197885), (1197, 0.03604920469572501), (1198, 0.0447773662839645), (1199, 0.0), (1200, 0.0), (1201, 0.0), (1202, 0.018024602347862503), (1203, 0.0), (1204, 0.03364315551262445), (1205, 0.0), (1206, 0.0), (1207, 0.02823912473624525), (1208, 0.04836508334066744), (1209, 0.03948992518393949), (1210, 0.0), (1211, 0.0), (1212, 0.055641488407465724), (1213, 0.0), (1214, 0.0447773662839645), (1215, 0.0), (1216, 0.022075539284417398), (1217, 0.01836795895926613), (1218, 0.01769980813511972), (1219, 0.0), (1220, 0.0), (1221, 0.019968076595771794), (1222, 0.020942695414584777), (1223, 0.02271554252121273), (1224, 0.0), (1225, 0.033113308926626096), (1226, 0.0), (1227, 0.03746343246326776), (1228, 0.0), (1229, 0.02961744388795462), (1230, 0.02271554252121273), (1231, 0.02418254167033372), (1232, 0.02649064714130088), (1233, 0.0), (1234, 0.07498687844430792), (1235, 0.042973504259354006), (1236, 0.016687539144058627), (1237, 0.02503130871608794), (1238, 0.06059678724350827), (1239, 0.0), (1240, 0.018024602347862503), (1241, 0.02068572009460303), (1242, 0.0), (1243, 0.03478392380269824), (1244, 0.0), (1245, 0.03364315551262445), (1246, 0.044151078568834795), (1247, 0.0), (1248, 0.058587492514838024), (1249, 0.04682929057908469), (1250, 0.04757860680698065), (1251, 0.06424925662032355), (1252, 0.020942695414584777), (1253, 0.019320290100197885), (1254, 0.017099639201419235), (1255, 0.03508771929824562), (1256, 0.02068572009460303), (1257, 0.020942695414584777), (1258, 0.05735393346764045), (1259, 0.050876697110631815), (1260, 0.02271554252121273), (1261, 0.019968076595771794), (1262, 0.018193851153474078), (1263, 0.0), (1264, 0.07024393586862704), (1265, 0.020437977982832194), (1266, 0.03823595564509363), (1267, 0.020942695414584777), (1268, 0.0), (1269, 0.03948992518393949), (1270, 0.02418254167033372), (1271, 0.03604920469572501), (1272, 0.0), (1273, 0.01836795895926613), (1274, 0.019968076595771794), (1275, 0.04682929057908469), (1276, 0.0), (1277, 0.018024602347862503), (1278, 0.07024393586862704), (1279, 0.01836795895926613), (1280, 0.04543108504242546), (1281, 0.0), (1282, 0.017099639201419235), (1283, 0.02418254167033372), (1284, 0.022075539284417398), (1285, 0.05523681766661075), (1286, 0.017243942512516184), (1287, 0.019320290100197885), (1288, 0.04891159880445185), (1289, 0.0), (1290, 0.0), (1291, 0.023414645289542346), (1292, 0.0), (1293, 0.0741886512099543), (1294, 0.05923488777590924), (1295, 0.040397858162338846), (1296, 0.0), (1297, 0.0), (1298, 0.0), (1299, 0.0), (1300, 0.0), (1301, 0.01754385964912281), (1302, 0.01739196190134912), (1303, 0.0), (1304, 0.0), (1305, 0.02503130871608794), (1306, 0.0), (1307, 0.03391779807375454), (1308, 0.022075539284417398), (1309, 0.0), (1310, 0.01739196190134912), (1311, 0.04087595596566439), (1312, 0.04241898419838518), (1313, 0.0), (1314, 0.03784378163042982), (1315, 0.06472695283783347), (1316, 0.05676567244564473), (1317, 0.02238868314198225), (1318, 0.0), (1319, 0.031219527052723135), (1320, 0.04682929057908469), (1321, 0.023789303403490326), (1322, 0.0), (1323, 0.023057148795535824), (1324, 0.01739196190134912), (1325, 0.03604920469572501), (1326, 0.0), (1327, 0.036387702306948155), (1328, 0.0), (1329, 0.0), (1330, 0.030386856273138196), (1331, 0.016821577756312225), (1332, 0.023789303403490326), (1333, 0.0741886512099543), (1334, 0.0), (1335, 0.019744962591969745), (1336, 0.0), (1337, 0.016303866268150616), (1338, 0.03673591791853226), (1339, 0.0), (1340, 0.033375078288117255), (1341, 0.015719307070490657), (1342, 0.0), (1343, 0.023789303403490326), (1344, 0.015397375894859667), (1345, 0.019117977822546817), (1346, 0.0), (1347, 0.032124628310161774), (1348, 0.018024602347862503), (1349, 0.032124628310161774), (1350, 0.02597621667330656), (1351, 0.023057148795535824), (1352, 0.0), (1353, 0.0), (1354, 0.022075539284417398), (1355, 0.018193851153474078), (1356, 0.02238868314198225), (1357, 0.02503130871608794), (1358, 0.0), (1359, 0.0), (1360, 0.01583118967153259), (1361, 0.03391779807375454), (1362, 0.03673591791853226), (1363, 0.0), (1364, 0.03948992518393949), (1365, 0.023414645289542346), (1366, 0.03905832834322535), (1367, 0.01769980813511972), (1368, 0.025490637096729087), (1369, 0.02271554252121273), (1370, 0.03448788502503237), (1371, 0.02238868314198225), (1372, 0.014451832825402001), (1373, 0.0), (1374, 0.0), (1375, 0.049191896794328185), (1376, 0.0), (1377, 0.0), (1378, 0.0), (1379, 0.021486752129677003), (1380, 0.0), (1381, 0.02177517781546711), (1382, 0.0), (1383, 0.056195148694901643), (1384, 0.0), (1385, 0.023789303403490326), (1386, 0.0), (1387, 0.041885390829169554), (1388, 0.0564782494724905), (1389, 0.05923488777590924), (1390, 0.04611429759107165), (1391, 0.0), (1392, 0.0), (1393, 0.015609763526361568), (1394, 0.014717026189611598), (1395, 0.055103876877798386), (1396, 0.04355035563093422), (1397, 0.0), (1398, 0.017859990659227328), (1399, 0.020942695414584777), (1400, 0.05357997197768198), (1401, 0.0), (1402, 0.054073807043587524), (1403, 0.02418254167033372), (1404, 0.033375078288117255), (1405, 0.02503130871608794), (1406, 0.049191896794328185), (1407, 0.0), (1408, 0.040397858162338846), (1409, 0.02503130871608794), (1410, 0.03236347641891674), (1411, 0.03673591791853226), (1412, 0.0), (1413, 0.02649064714130088), (1414, 0.020942695414584777), (1415, 0.027036903521793762), (1416, 0.035719981318454656), (1417, 0.0), (1418, 0.03993615319154359), (1419, 0.03905832834322535), (1420, 0.03391779807375454), (1421, 0.01754385964912281), (1422, 0.03864058020039577), (1423, 0.02597621667330656), (1424, 0.018024602347862503), (1425, 0.02238868314198225), (1426, 0.0), (1427, 0.031004957313857513), (1428, 0.05217588570404737), (1429, 0.06243905410544627), (1430, 0.019744962591969745), (1431, 0.054073807043587524), (1432, 0.018193851153474078), (1433, 0.0), (1434, 0.04241898419838518), (1435, 0.056195148694901643), (1436, 0.0), (1437, 0.02503130871608794), (1438, 0.02238868314198225), (1439, 0.057807331301608006), (1440, 0.0), (1441, 0.054073807043587524), (1442, 0.03746343246326776), (1443, 0.02177517781546711), (1444, 0.025490637096729087), (1445, 0.025490637096729087), (1446, 0.0), (1447, 0.0), (1448, 0.03948992518393949), (1449, 0.023789303403490326), (1450, 0.0), (1451, 0.05098127419345817), (1452, 0.02597621667330656), (1453, 0.0447773662839645), (1454, 0.01388487185658827), (1455, 0.022075539284417398), (1456, 0.022075539284417398), (1457, 0.049191896794328185), (1458, 0.0), (1459, 0.016428801936338142), (1460, 0.03391779807375454), (1461, 0.016303866268150616), (1462, 0.0), (1463, 0.03905832834322535), (1464, 0.027618408833305377), (1465, 0.027618408833305377), (1466, 0.0), (1467, 0.0), (1468, 0.016303866268150616), (1469, 0.02120949209919259), (1470, 0.0), (1471, 0.0), (1472, 0.031004957313857513), (1473, 0.0), (1474, 0.03948992518393949), (1475, 0.035719981318454656), (1476, 0.042973504259354006), (1477, 0.04355035563093422), (1478, 0.0), (1479, 0.01873171623163388), (1480, 0.02418254167033372), (1481, 0.02238868314198225), (1482, 0.040397858162338846), (1483, 0.06077371254627639), (1484, 0.08111071056538129), (1485, 0.0), (1486, 0.041885390829169554), (1487, 0.05006261743217588), (1488, 0.0), (1489, 0.0), (1490, 0.0), (1491, 0.03236347641891674), (1492, 0.0), (1493, 0.017859990659227328), (1494, 0.07079923254047887), (1495, 0.0), (1496, 0.01873171623163388), (1497, 0.0), (1498, 0.01695889903687727), (1499, 0.07492686492653552), (1500, 0.0), (1501, 0.0), (1502, 0.03784378163042982), (1503, 0.01618173820945837), (1504, 0.0), (1505, 0.030794751789719334), (1506, 0.05098127419345817), (1507, 0.0), (1508, 0.019968076595771794), (1509, 0.0), (1510, 0.041885390829169554), (1511, 0.03905832834322535), (1512, 0.0), (1513, 0.03260773253630123), (1514, 0.023789303403490326), (1515, 0.03419927840283847), (1516, 0.0), (1517, 0.0), (1518, 0.019320290100197885), (1519, 0.0), (1520, 0.017859990659227328), (1521, 0.017243942512516184), (1522, 0.05676567244564473), (1523, 0.02503130871608794), (1524, 0.0), (1525, 0.03864058020039577), (1526, 0.019744962591969745), (1527, 0.06622661785325219), (1528, 0.016062314155080887), (1529, 0.0), (1530, 0.027618408833305377), (1531, 0.024595948397164093), (1532, 0.01695889903687727), (1533, 0.03864058020039577), (1534, 0.05006261743217588), (1535, 0.09365858115816941), (1536, 0.01836795895926613), (1537, 0.02649064714130088), (1538, 0.02120949209919259), (1539, 0.07378784519149229), (1540, 0.0), (1541, 0.018547162802488575), (1542, 0.0), (1543, 0.040397858162338846), (1544, 0.022075539284417398), (1545, 0.02068572009460303), (1546, 0.0), (1547, 0.017859990659227328), (1548, 0.02177517781546711), (1549, 0.04543108504242546), (1550, 0.0), (1551, 0.0), (1552, 0.05217588570404737), (1553, 0.0), (1554, 0.025490637096729087), (1555, 0.018547162802488575), (1556, 0.04543108504242546), (1557, 0.020942695414584777), (1558, 0.041885390829169554), (1559, 0.0), (1560, 0.01618173820945837), (1561, 0.0), (1562, 0.03864058020039577), (1563, 0.03864058020039577), (1564, 0.01769980813511972), (1565, 0.024595948397164093), (1566, 0.0), (1567, 0.023789303403490326), (1568, 0.0), (1569, 0.019529164171612674), (1570, 0.019744962591969745), (1571, 0.027036903521793762), (1572, 0.0), (1573, 0.0), (1574, 0.018193851153474078), (1575, 0.0), (1576, 0.042973504259354006), (1577, 0.019968076595771794), (1578, 0.02649064714130088), (1579, 0.017859990659227328), (1580, 0.0), (1581, 0.028903665650804003), (1582, 0.04355035563093422), (1583, 0.05796087030059366), (1584, 0.02649064714130088), (1585, 0.019744962591969745), (1586, 0.0), (1587, 0.02503130871608794), (1588, 0.024595948397164093), (1589, 0.0), (1590, 0.03419927840283847), (1591, 0.04355035563093422), (1592, 0.019320290100197885), (1593, 0.01892189081521491), (1594, 0.04055535528269064), (1595, 0.02271554252121273), (1596, 0.0), (1597, 0.02597621667330656), (1598, 0.033375078288117255), (1599, 0.030794751789719334), (1600, 0.018547162802488575), (1601, 0.0754722354752877), (1602, 0.03709432560497715), (1603, 0.033113308926626096), (1604, 0.03864058020039577), (1605, 0.02238868314198225), (1606, 0.0), (1607, 0.06059678724350827), (1608, 0.01873171623163388), (1609, 0.0), (1610, 0.018193851153474078), (1611, 0.03784378163042982), (1612, 0.015945495774497997), (1613, 0.08483796839677037), (1614, 0.0), (1615, 0.027036903521793762), (1616, 0.01873171623163388), (1617, 0.027036903521793762), (1618, 0.06532553344640132), (1619, 0.033375078288117255), (1620, 0.02418254167033372), (1621, 0.03948992518393949), (1622, 0.0), (1623, 0.018193851153474078), (1624, 0.0), (1625, 0.0), (1626, 0.02418254167033372), (1627, 0.020198929081169423), (1628, 0.0), (1629, 0.0), (1630, 0.08285522649991613), (1631, 0.022075539284417398), (1632, 0.02503130871608794), (1633, 0.06243905410544627), (1634, 0.025490637096729087), (1635, 0.03419927840283847), (1636, 0.03604920469572501), (1637, 0.01618173820945837), (1638, 0.024595948397164093), (1639, 0.04611429759107165), (1640, 0.0), (1641, 0.02597621667330656), (1642, 0.0), (1643, 0.02068572009460303), (1644, 0.0), (1645, 0.031004957313857513), (1646, 0.0), (1647, 0.0), (1648, 0.019117977822546817), (1649, 0.0), (1650, 0.01769980813511972), (1651, 0.0), (1652, 0.04611429759107165), (1653, 0.02238868314198225), (1654, 0.0), (1655, 0.020942695414584777), (1656, 0.0), (1657, 0.020198929081169423), (1658, 0.017859990659227328), (1659, 0.012804737604964377), (1660, 0.019968076595771794), (1661, 0.0), (1662, 0.03948992518393949), (1663, 0.0), (1664, 0.028903665650804003), (1665, 0.06956784760539649), (1666, 0.03948992518393949), (1667, 0.0), (1668, 0.0), (1669, 0.0), (1670, 0.019744962591969745), (1671, 0.0), (1672, 0.0), (1673, 0.024595948397164093), (1674, 0.0), (1675, 0.06059678724350827), (1676, 0.04682929057908469), (1677, 0.05006261743217588), (1678, 0.01769980813511972), (1679, 0.02649064714130088), (1680, 0.0), (1681, 0.055103876877798386), (1682, 0.022075539284417398), (1683, 0.02503130871608794), (1684, 0.020437977982832194), (1685, 0.020942695414584777), (1686, 0.018024602347862503), (1687, 0.020437977982832194), (1688, 0.04241898419838518), (1689, 0.040397858162338846), (1690, 0.08285522649991613), (1691, 0.01769980813511972), (1692, 0.031438614140981314), (1693, 0.023414645289542346), (1694, 0.023057148795535824), (1695, 0.021486752129677003), (1696, 0.0), (1697, 0.017243942512516184), (1698, 0.027618408833305377), (1699, 0.030386856273138196), (1700, 0.0), (1701, 0.02503130871608794), (1702, 0.020942695414584777), (1703, 0.018193851153474078), (1704, 0.04241898419838518), (1705, 0.04757860680698065), (1706, 0.0), (1707, 0.018193851153474078), (1708, 0.0), (1709, 0.017859990659227328), (1710, 0.01769980813511972), (1711, 0.04241898419838518), (1712, 0.028903665650804003), (1713, 0.020437977982832194), (1714, 0.016303866268150616), (1715, 0.018547162802488575), (1716, 0.048545214628375105), (1717, 0.035719981318454656), (1718, 0.0), (1719, 0.02418254167033372), (1720, 0.0), (1721, 0.0), (1722, 0.02597621667330656), (1723, 0.0), (1724, 0.02238868314198225), (1725, 0.01695889903687727), (1726, 0.028903665650804003), (1727, 0.027036903521793762), (1728, 0.035719981318454656), (1729, 0.023789303403490326), (1730, 0.05006261743217588), (1731, 0.0), (1732, 0.02418254167033372), (1733, 0.017859990659227328), (1734, 0.0), (1735, 0.03864058020039577), (1736, 0.0), (1737, 0.019968076595771794), (1738, 0.019117977822546817), (1739, 0.04543108504242546), (1740, 0.0), (1741, 0.025490637096729087), (1742, 0.01892189081521491), (1743, 0.0), (1744, 0.04543108504242546), (1745, 0.01892189081521491), (1746, 0.055641488407465724), (1747, 0.0), (1748, 0.044151078568834795), (1749, 0.0), (1750, 0.036387702306948155), (1751, 0.02120949209919259), (1752, 0.01873171623163388), (1753, 0.021486752129677003), (1754, 0.03823595564509363), (1755, 0.022075539284417398), (1756, 0.028903665650804003), (1757, 0.04682929057908469), (1758, 0.023057148795535824), (1759, 0.019320290100197885), (1760, 0.02271554252121273), (1761, 0.0), (1762, 0.06532553344640132), (1763, 0.023414645289542346), (1764, 0.0), (1765, 0.018193851153474078), (1766, 0.02120949209919259), (1767, 0.0), (1768, 0.0), (1769, 0.04543108504242546), (1770, 0.0), (1771, 0.0), (1772, 0.03823595564509363), (1773, 0.03539961627023944), (1774, 0.07492686492653552), (1775, 0.0), (1776, 0.0), (1777, 0.04757860680698065), (1778, 0.0), (1779, 0.015397375894859667), (1780, 0.0), (1781, 0.032124628310161774), (1782, 0.03905832834322535), (1783, 0.035719981318454656), (1784, 0.02597621667330656), (1785, 0.020198929081169423), (1786, 0.03864058020039577), (1787, 0.04818694246524266), (1788, 0.02068572009460303), (1789, 0.02068572009460303), (1790, 0.0), (1791, 0.019968076595771794), (1792, 0.020437977982832194), (1793, 0.06622661785325219), (1794, 0.020198929081169423), (1795, 0.0), (1796, 0.053099424405359155), (1797, 0.017243942512516184), (1798, 0.0), (1799, 0.0), (1800, 0.03823595564509363), (1801, 0.019117977822546817), (1802, 0.02238868314198225), (1803, 0.0), (1804, 0.02177517781546711), (1805, 0.0), (1806, 0.03448788502503237), (1807, 0.03260773253630123), (1808, 0.0), (1809, 0.03993615319154359), (1810, 0.023789303403490326), (1811, 0.015609763526361568), (1812, 0.0), (1813, 0.0), (1814, 0.03993615319154359), (1815, 0.0), (1816, 0.04543108504242546), (1817, 0.015193428136569098), (1818, 0.0), (1819, 0.0), (1820, 0.018193851153474078), (1821, 0.03784378163042982), (1822, 0.03478392380269824), (1823, 0.07987230638308718), (1824, 0.0), (1825, 0.018024602347862503), (1826, 0.0), (1827, 0.031004957313857513), (1828, 0.0), (1829, 0.024595948397164093), (1830, 0.0), (1831, 0.018024602347862503), (1832, 0.0), (1833, 0.02120949209919259), (1834, 0.02503130871608794), (1835, 0.03673591791853226), (1836, 0.0), (1837, 0.03539961627023944), (1838, 0.01769980813511972), (1839, 0.023789303403490326), (1840, 0.0), (1841, 0.0), (1842, 0.0), (1843, 0.0), (1844, 0.05990422978731538), (1845, 0.03948992518393949), (1846, 0.06243905410544627), (1847, 0.025490637096729087), (1848, 0.0781166566864507), (1849, 0.030386856273138196), (1850, 0.02418254167033372), (1851, 0.04611429759107165), (1852, 0.023414645289542346), (1853, 0.0), (1854, 0.0), (1855, 0.014717026189611598), (1856, 0.0), (1857, 0.0), (1858, 0.027618408833305377), (1859, 0.021486752129677003), (1860, 0.042973504259354006), (1861, 0.03673591791853226), (1862, 0.018547162802488575), (1863, 0.02238868314198225), (1864, 0.02649064714130088), (1865, 0.0), (1866, 0.02597621667330656), (1867, 0.019744962591969745), (1868, 0.0), (1869, 0.0), (1870, 0.0), (1871, 0.019968076595771794), (1872, 0.015397375894859667), (1873, 0.02597621667330656), (1874, 0.0), (1875, 0.0), (1876, 0.03391779807375454), (1877, 0.019320290100197885), (1878, 0.021486752129677003), (1879, 0.07647191129018727), (1880, 0.0), (1881, 0.03905832834322535), (1882, 0.02177517781546711), (1883, 0.03539961627023944), (1884, 0.031219527052723135), (1885, 0.0), (1886, 0.027618408833305377), (1887, 0.020198929081169423), (1888, 0.019744962591969745), (1889, 0.0), (1890, 0.028903665650804003), (1891, 0.0), (1892, 0.0), (1893, 0.05298129428260176), (1894, 0.017099639201419235), (1895, 0.0), (1896, 0.0), (1897, 0.0), (1898, 0.0), (1899, 0.0), (1900, 0.0), (1901, 0.019529164171612674), (1902, 0.045580284409707295), (1903, 0.02120949209919259), (1904, 0.04836508334066744), (1905, 0.03478392380269824), (1906, 0.018024602347862503), (1907, 0.0), (1908, 0.0), (1909, 0.0), (1910, 0.0), (1911, 0.03905832834322535), (1912, 0.05006261743217588), (1913, 0.0), (1914, 0.0), (1915, 0.036387702306948155), (1916, 0.04087595596566439), (1917, 0.02271554252121273), (1918, 0.017859990659227328), (1919, 0.0), (1920, 0.07143996263690931), (1921, 0.019968076595771794), (1922, 0.02597621667330656), (1923, 0.04137144018920606), (1924, 0.019968076595771794), (1925, 0.031219527052723135), (1926, 0.02271554252121273), (1927, 0.02961744388795462), (1928, 0.0), (1929, 0.0), (1930, 0.0), (1931, 0.0), (1932, 0.0), (1933, 0.0), (1934, 0.016687539144058627), (1935, 0.03391779807375454), (1936, 0.02961744388795462), (1937, 0.0), (1938, 0.025490637096729087), (1939, 0.03364315551262445), (1940, 0.05735393346764045), (1941, 0.03709432560497715), (1942, 0.023414645289542346), (1943, 0.0), (1944, 0.03905832834322535), (1945, 0.06059678724350827), (1946, 0.04137144018920606), (1947, 0.0), (1948, 0.02068572009460303), (1949, 0.07347183583706451), (1950, 0.019529164171612674), (1951, 0.01769980813511972), (1952, 0.01892189081521491), (1953, 0.020942695414584777), (1954, 0.021486752129677003), (1955, 0.017859990659227328), (1956, 0.02271554252121273), (1957, 0.03784378163042982), (1958, 0.04682929057908469), (1959, 0.0), (1960, 0.014538631400564484), (1961, 0.0), (1962, 0.02177517781546711), (1963, 0.03823595564509363), (1964, 0.0), (1965, 0.0), (1966, 0.032124628310161774), (1967, 0.0), (1968, 0.0), (1969, 0.03823595564509363), (1970, 0.040397858162338846), (1971, 0.0), (1972, 0.027618408833305377), (1973, 0.018193851153474078), (1974, 0.025490637096729087), (1975, 0.020942695414584777), (1976, 0.024595948397164093), (1977, 0.0), (1978, 0.062057160283809094), (1979, 0.0), (1980, 0.02120949209919259), (1981, 0.0), (1982, 0.015397375894859667), (1983, 0.05923488777590924), (1984, 0.0), (1985, 0.019320290100197885), (1986, 0.03419927840283847), (1987, 0.054073807043587524), (1988, 0.05217588570404737), (1989, 0.019320290100197885), (1990, 0.07568756326085964), (1991, 0.02238868314198225), (1992, 0.020198929081169423), (1993, 0.01695889903687727), (1994, 0.049191896794328185), (1995, 0.06622661785325219), (1996, 0.025490637096729087), (1997, 0.03604920469572501), (1998, 0.01529438225803745), (1999, 0.03905832834322535), (2000, 0.023057148795535824), (2001, 0.0), (2002, 0.016687539144058627), (2003, 0.06158950357943867), (2004, 0.019320290100197885), (2005, 0.04087595596566439), (2006, 0.0), (2007, 0.0), (2008, 0.02418254167033372), (2009, 0.023414645289542346), (2010, 0.02503130871608794), (2011, 0.0), (2012, 0.0), (2013, 0.05735393346764045), (2014, 0.06783559614750909), (2015, 0.04588314677411235), (2016, 0.01695889903687727), (2017, 0.0), (2018, 0.015945495774497997), (2019, 0.0), (2020, 0.023789303403490326), (2021, 0.04682929057908469), (2022, 0.05735393346764045), (2023, 0.019744962591969745), (2024, 0.022075539284417398), (2025, 0.02597621667330656), (2026, 0.04891159880445185), (2027, 0.0), (2028, 0.019117977822546817), (2029, 0.0), (2030, 0.018547162802488575), (2031, 0.02271554252121273), (2032, 0.0), (2033, 0.021486752129677003), (2034, 0.03823595564509363), (2035, 0.01836795895926613), (2036, 0.018024602347862503), (2037, 0.0), (2038, 0.0), (2039, 0.01892189081521491), (2040, 0.049191896794328185), (2041, 0.0), (2042, 0.022075539284417398), (2043, 0.027618408833305377), (2044, 0.032857603872676285), (2045, 0.04611429759107165), (2046, 0.02597621667330656), (2047, 0.0), (2048, 0.0), (2049, 0.020198929081169423), (2050, 0.02120949209919259), (2051, 0.021486752129677003), (2052, 0.02597621667330656), (2053, 0.019744962591969745), (2054, 0.02503130871608794), (2055, 0.0), (2056, 0.03864058020039577), (2057, 0.017859990659227328), (2058, 0.02238868314198225), (2059, 0.04087595596566439), (2060, 0.0), (2061, 0.04543108504242546), (2062, 0.03746343246326776), (2063, 0.05195243334661312), (2064, 0.0), (2065, 0.023057148795535824), (2066, 0.0), (2067, 0.0), (2068, 0.0), (2069, 0.013661508144341247), (2070, 0.019320290100197885), (2071, 0.027618408833305377), (2072, 0.0), (2073, 0.040397858162338846), (2074, 0.0), (2075, 0.018024602347862503), (2076, 0.02120949209919259), (2077, 0.0), (2078, 0.04749356901459777), (2079, 0.02238868314198225), (2080, 0.016821577756312225), (2081, 0.02120949209919259), (2082, 0.02238868314198225), (2083, 0.02418254167033372), (2084, 0.013051005112921494), (2085, 0.02068572009460303), (2086, 0.022075539284417398), (2087, 0.06131393394849658), (2088, 0.027036903521793762), (2089, 0.051731827537548555), (2090, 0.03823595564509363), (2091, 0.0447773662839645), (2092, 0.05006261743217588), (2093, 0.030794751789719334), (2094, 0.04087595596566439), (2095, 0.014538631400564484), (2096, 0.04682929057908469), (2097, 0.0), (2098, 0.022075539284417398), (2099, 0.016303866268150616), (2100, 0.027618408833305377), (2101, 0.058587492514838024), (2102, 0.018024602347862503), (2103, 0.040397858162338846), (2104, 0.030386856273138196), (2105, 0.020437977982832194), (2106, 0.01892189081521491), (2107, 0.0), (2108, 0.0), (2109, 0.0), (2110, 0.027036903521793762), (2111, 0.019968076595771794), (2112, 0.05006261743217588), (2113, 0.02238868314198225), (2114, 0.01892189081521491), (2115, 0.0), (2116, 0.0), (2117, 0.016821577756312225), (2118, 0.08285522649991613), (2119, 0.04928640580901443), (2120, 0.022075539284417398), (2121, 0.02238868314198225), (2122, 0.0), (2123, 0.0), (2124, 0.04241898419838518), (2125, 0.040397858162338846), (2126, 0.0447773662839645), (2127, 0.033113308926626096), (2128, 0.03948992518393949), (2129, 0.0), (2130, 0.03905832834322535), (2131, 0.045580284409707295), (2132, 0.0), (2133, 0.0781166566864507), (2134, 0.0), (2135, 0.04682929057908469), (2136, 0.024595948397164093), (2137, 0.056195148694901643), (2138, 0.0), (2139, 0.07492686492653552), (2140, 0.0), (2141, 0.05298129428260176), (2142, 0.0), (2143, 0.020942695414584777), (2144, 0.0), (2145, 0.0), (2146, 0.03018889419011508), (2147, 0.08175191193132877), (2148, 0.0), (2149, 0.0), (2150, 0.024595948397164093), (2151, 0.04241898419838518), (2152, 0.03948992518393949), (2153, 0.02503130871608794), (2154, 0.02823912473624525), (2155, 0.0), (2156, 0.04137144018920606), (2157, 0.03746343246326776), (2158, 0.0), (2159, 0.0), (2160, 0.0), (2161, 0.03746343246326776), (2162, 0.019117977822546817), (2163, 0.0), (2164, 0.03746343246326776), (2165, 0.0), (2166, 0.01892189081521491), (2167, 0.032857603872676285), (2168, 0.020198929081169423), (2169, 0.0), (2170, 0.0), (2171, 0.057807331301608006), (2172, 0.02238868314198225), (2173, 0.0), (2174, 0.0), (2175, 0.0), (2176, 0.031438614140981314), (2177, 0.0), (2178, 0.04611429759107165), (2179, 0.0), (2180, 0.08175191193132877), (2181, 0.03905832834322535), (2182, 0.0), (2183, 0.0), (2184, 0.04836508334066744), (2185, 0.0), (2186, 0.024595948397164093), (2187, 0.0), (2188, 0.04611429759107165), (2189, 0.020198929081169423), (2190, 0.03948992518393949), (2191, 0.031219527052723135), (2192, 0.05098127419345817), (2193, 0.0), (2194, 0.0), (2195, 0.02120949209919259), (2196, 0.02238868314198225), (2197, 0.02271554252121273), (2198, 0.03391779807375454), (2199, 0.036387702306948155), (2200, 0.0), (2201, 0.0), (2202, 0.0), (2203, 0.0), (2204, 0.02823912473624525), (2205, 0.019744962591969745), (2206, 0.016303866268150616), (2207, 0.02823912473624525), (2208, 0.023057148795535824), (2209, 0.014627012952620633), (2210, 0.020942695414584777), (2211, 0.0), (2212, 0.07947194142390264), (2213, 0.027618408833305377), (2214, 0.0), (2215, 0.03953876864748646), (2216, 0.01836795895926613), (2217, 0.0), (2218, 0.04241898419838518), (2219, 0.051731827537548555), (2220, 0.0), (2221, 0.016062314155080887), (2222, 0.02597621667330656), (2223, 0.0), (2224, 0.023057148795535824), (2225, 0.0), (2226, 0.02418254167033372), (2227, 0.0), (2228, 0.0), (2229, 0.019320290100197885), (2230, 0.0), (2231, 0.051298917604257706), (2232, 0.03539961627023944), (2233, 0.0), (2234, 0.0), (2235, 0.03604920469572501), (2236, 0.019529164171612674), (2237, 0.057807331301608006), (2238, 0.02597621667330656), (2239, 0.0), (2240, 0.0), (2241, 0.018193851153474078), (2242, 0.04836508334066744), (2243, 0.0), (2244, 0.07079923254047887), (2245, 0.0), (2246, 0.0), (2247, 0.0), (2248, 0.019968076595771794), (2249, 0.027036903521793762), (2250, 0.030386856273138196), (2251, 0.0), (2252, 0.01769980813511972), (2253, 0.04682929057908469), (2254, 0.01529438225803745), (2255, 0.020198929081169423), (2256, 0.0), (2257, 0.013379797308309913), (2258, 0.0), (2259, 0.0447773662839645), (2260, 0.013734760723838819), (2261, 0.03673591791853226), (2262, 0.03784378163042982), (2263, 0.06059678724350827), (2264, 0.05298129428260176), (2265, 0.016556654463313048), (2266, 0.04757860680698065), (2267, 0.0), (2268, 0.0), (2269, 0.017859990659227328), (2270, 0.0), (2271, 0.0), (2272, 0.017859990659227328), (2273, 0.036387702306948155), (2274, 0.03709432560497715), (2275, 0.03448788502503237), (2276, 0.019117977822546817), (2277, 0.0), (2278, 0.049191896794328185), (2279, 0.0), (2280, 0.021486752129677003), (2281, 0.0), (2282, 0.020198929081169423), (2283, 0.0), (2284, 0.0), (2285, 0.0), (2286, 0.03823595564509363), (2287, 0.02120949209919259), (2288, 0.0), (2289, 0.01873171623163388), (2290, 0.0), (2291, 0.04611429759107165), (2292, 0.02238868314198225), (2293, 0.0), (2294, 0.040984524433023736), (2295, 0.021486752129677003), (2296, 0.030386856273138196), (2297, 0.0), (2298, 0.022075539284417398), (2299, 0.015719307070490657), (2300, 0.0), (2301, 0.07947194142390264), (2302, 0.018024602347862503), (2303, 0.02068572009460303), (2304, 0.030386856273138196), (2305, 0.0), (2306, 0.024595948397164093), (2307, 0.021486752129677003), (2308, 0.01873171623163388), (2309, 0.0), (2310, 0.01769980813511972), (2311, 0.04928640580901443), (2312, 0.0), (2313, 0.05098127419345817), (2314, 0.019968076595771794), (2315, 0.03784378163042982), (2316, 0.02238868314198225), (2317, 0.03604920469572501), (2318, 0.03746343246326776), (2319, 0.023789303403490326), (2320, 0.0), (2321, 0.01769980813511972), (2322, 0.0), (2323, 0.08079571632467769), (2324, 0.0), (2325, 0.041885390829169554), (2326, 0.01892189081521491), (2327, 0.016556654463313048), (2328, 0.019320290100197885), (2329, 0.0), (2330, 0.0), (2331, 0.015609763526361568), (2332, 0.04783648732349399), (2333, 0.018024602347862503), (2334, 0.02418254167033372), (2335, 0.0), (2336, 0.034850751767866145), (2337, 0.020942695414584777), (2338, 0.02177517781546711), (2339, 0.020437977982832194), (2340, 0.0), (2341, 0.015397375894859667), (2342, 0.017243942512516184), (2343, 0.07987230638308718), (2344, 0.0), (2345, 0.03993615319154359), (2346, 0.02503130871608794), (2347, 0.019968076595771794), (2348, 0.0922285951821433), (2349, 0.03627381250550058), (2350, 0.0), (2351, 0.020198929081169423), (2352, 0.055641488407465724), (2353, 0.0), (2354, 0.01836795895926613), (2355, 0.0), (2356, 0.02418254167033372), (2357, 0.07378784519149229), (2358, 0.027618408833305377), (2359, 0.0), (2360, 0.0), (2361, 0.0), (2362, 0.023789303403490326), (2363, 0.0), (2364, 0.0), (2365, 0.01836795895926613), (2366, 0.03864058020039577), (2367, 0.016821577756312225), (2368, 0.0), (2369, 0.0), (2370, 0.0), (2371, 0.0), (2372, 0.03709432560497715), (2373, 0.01836795895926613), (2374, 0.04818694246524266), (2375, 0.020198929081169423), (2376, 0.0781166566864507), (2377, 0.03784378163042982), (2378, 0.02238868314198225), (2379, 0.027036903521793762), (2380, 0.06282808624375433), (2381, 0.04241898419838518), (2382, 0.0), (2383, 0.0), (2384, 0.0), (2385, 0.0), (2386, 0.02120949209919259), (2387, 0.019744962591969745), (2388, 0.03905832834322535), (2389, 0.0), (2390, 0.05990422978731538), (2391, 0.03993615319154359), (2392, 0.036387702306948155), (2393, 0.0), (2394, 0.020437977982832194), (2395, 0.0), (2396, 0.02503130871608794), (2397, 0.0), (2398, 0.045580284409707295), (2399, 0.020942695414584777), (2400, 0.02238868314198225), (2401, 0.03709432560497715), (2402, 0.016303866268150616), (2403, 0.016821577756312225), (2404, 0.02503130871608794), (2405, 0.0), (2406, 0.015945495774497997), (2407, 0.0), (2408, 0.0), (2409, 0.02068572009460303), (2410, 0.023789303403490326), (2411, 0.050876697110631815), (2412, 0.0), (2413, 0.0), (2414, 0.031004957313857513), (2415, 0.03709432560497715), (2416, 0.044151078568834795), (2417, 0.0), (2418, 0.0), (2419, 0.020437977982832194), (2420, 0.019320290100197885), (2421, 0.033113308926626096), (2422, 0.04749356901459777), (2423, 0.019968076595771794), (2424, 0.0), (2425, 0.0), (2426, 0.019320290100197885), (2427, 0.023414645289542346), (2428, 0.02823912473624525), (2429, 0.0), (2430, 0.0), (2431, 0.01873171623163388), (2432, 0.021486752129677003), (2433, 0.031438614140981314), (2434, 0.020437977982832194), (2435, 0.0), (2436, 0.0), (2437, 0.0), (2438, 0.03364315551262445), (2439, 0.0), (2440, 0.0), (2441, 0.0), (2442, 0.0611775290321498), (2443, 0.0), (2444, 0.023057148795535824), (2445, 0.019117977822546817), (2446, 0.023789303403490326), (2447, 0.05990422978731538), (2448, 0.01836795895926613), (2449, 0.0), (2450, 0.0), (2451, 0.0), (2452, 0.06446025638903101), (2453, 0.03864058020039577), (2454, 0.022075539284417398), (2455, 0.02068572009460303), (2456, 0.0), (2457, 0.0447773662839645), (2458, 0.0), (2459, 0.025490637096729087), (2460, 0.01480872194397731), (2461, 0.0), (2462, 0.046829290579084706), (2463, 0.06814662756363819), (2464, 0.02271554252121273), (2465, 0.027618408833305377), (2466, 0.022075539284417398), (2467, 0.03478392380269824), (2468, 0.020198929081169423), (2469, 0.03823595564509363), (2470, 0.031219527052723135), (2471, 0.05298129428260176), (2472, 0.0), (2473, 0.02961744388795462), (2474, 0.01873171623163388), (2475, 0.07378784519149229), (2476, 0.027036903521793762), (2477, 0.053099424405359155), (2478, 0.030794751789719334), (2479, 0.02418254167033372), (2480, 0.05006261743217588), (2481, 0.06243905410544627), (2482, 0.019529164171612674), (2483, 0.03604920469572501), (2484, 0.062057160283809094), (2485, 0.018193851153474078), (2486, 0.0), (2487, 0.0), (2488, 0.01892189081521491), (2489, 0.02238868314198225), (2490, 0.023057148795535824), (2491, 0.0), (2492, 0.02597621667330656), (2493, 0.03784378163042982), (2494, 0.020198929081169423), (2495, 0.0), (2496, 0.01754385964912281), (2497, 0.02649064714130088), (2498, 0.019117977822546817), (2499, 0.032124628310161774), (2500, 0.0), (2501, 0.03508771929824562), (2502, 0.0), (2503, 0.0), (2504, 0.06059678724350827), (2505, 0.044151078568834795), (2506, 0.0), (2507, 0.04611429759107165), (2508, 0.025490637096729087), (2509, 0.0), (2510, 0.0), (2511, 0.04355035563093422), (2512, 0.0), (2513, 0.0), (2514, 0.03391779807375454), (2515, 0.02503130871608794), (2516, 0.0), (2517, 0.0), (2518, 0.05990422978731538), (2519, 0.02068572009460303), (2520, 0.020198929081169423), (2521, 0.02418254167033372), (2522, 0.022075539284417398), (2523, 0.01836795895926613), (2524, 0.0), (2525, 0.01892189081521491), (2526, 0.018024602347862503), (2527, 0.015609763526361568), (2528, 0.0), (2529, 0.04611429759107165), (2530, 0.018547162802488575), (2531, 0.02503130871608794), (2532, 0.017859990659227328), (2533, 0.02503130871608794), (2534, 0.04611429759107165), (2535, 0.019744962591969745), (2536, 0.013312051063847863), (2537, 0.02068572009460303), (2538, 0.0), (2539, 0.0), (2540, 0.023057148795535824), (2541, 0.0447773662839645), (2542, 0.08079571632467769), (2543, 0.021486752129677003), (2544, 0.0), (2545, 0.019744962591969745), (2546, 0.02873314106137437), (2547, 0.019968076595771794), (2548, 0.016303866268150616), (2549, 0.024595948397164093), (2550, 0.0564782494724905), (2551, 0.017859990659227328), (2552, 0.0), (2553, 0.023414645289542346), (2554, 0.0), (2555, 0.018193851153474078), (2556, 0.0), (2557, 0.050876697110631815), (2558, 0.04137144018920606), (2559, 0.019744962591969745), (2560, 0.021486752129677003), (2561, 0.027036903521793762), (2562, 0.013448588493413858), (2563, 0.023057148795535824), (2564, 0.022075539284417398), (2565, 0.027618408833305377), (2566, 0.016428801936338142), (2567, 0.0), (2568, 0.0), (2569, 0.0), (2570, 0.020942695414584777), (2571, 0.07378784519149229), (2572, 0.0), (2573, 0.0), (2574, 0.0), (2575, 0.02068572009460303), (2576, 0.0), (2577, 0.0), (2578, 0.019320290100197885), (2579, 0.023057148795535824), (2580, 0.031219527052723135), (2581, 0.07728116040079154), (2582, 0.018547162802488575), (2583, 0.0), (2584, 0.04355035563093422), (2585, 0.0), (2586, 0.020198929081169423), (2587, 0.0), (2588, 0.019117977822546817), (2589, 0.02418254167033372), (2590, 0.019968076595771794), (2591, 0.020198929081169423), (2592, 0.031219527052723135), (2593, 0.05523681766661075), (2594, 0.0), (2595, 0.0), (2596, 0.04749356901459777), (2597, 0.0), (2598, 0.032857603872676285), (2599, 0.019968076595771794), (2600, 0.0), (2601, 0.0), (2602, 0.03993615319154359), (2603, 0.020437977982832194), (2604, 0.05523681766661075), (2605, 0.01892189081521491), (2606, 0.0), (2607, 0.0), (2608, 0.024595948397164093), (2609, 0.0), (2610, 0.05098127419345817), (2611, 0.03673591791853226), (2612, 0.0), (2613, 0.0), (2614, 0.023057148795535824), (2615, 0.023414645289542346), (2616, 0.0), (2617, 0.0), (2618, 0.053099424405359155), (2619, 0.0), (2620, 0.0), (2621, 0.01892189081521491), (2622, 0.03673591791853226), (2623, 0.0), (2624, 0.0), (2625, 0.016821577756312225), (2626, 0.025490637096729087), (2627, 0.023789303403490326), (2628, 0.046829290579084706), (2629, 0.057807331301608006), (2630, 0.020198929081169423), (2631, 0.02177517781546711), (2632, 0.0), (2633, 0.055641488407465724), (2634, 0.019744962591969745), (2635, 0.02823912473624525), (2636, 0.0), (2637, 0.036387702306948155), (2638, 0.0), (2639, 0.03419927840283847), (2640, 0.040397858162338846), (2641, 0.027618408833305377), (2642, 0.027618408833305377), (2643, 0.028903665650804003), (2644, 0.018547162802488575), (2645, 0.03864058020039577), (2646, 0.0), (2647, 0.020198929081169423), (2648, 0.04355035563093422), (2649, 0.023789303403490326), (2650, 0.017859990659227328), (2651, 0.027618408833305377), (2652, 0.031004957313857513), (2653, 0.020437977982832194), (2654, 0.0), (2655, 0.023414645289542346), (2656, 0.06622661785325219), (2657, 0.0), (2658, 0.02177517781546711), (2659, 0.018547162802488575), (2660, 0.041885390829169554), (2661, 0.04682929057908469), (2662, 0.036387702306948155), (2663, 0.0), (2664, 0.012926112238824691), (2665, 0.01754385964912281), (2666, 0.0), (2667, 0.027036903521793762), (2668, 0.10196254838691635), (2669, 0.02418254167033372), (2670, 0.0), (2671, 0.031219527052723135), (2672, 0.0), (2673, 0.03539961627023944), (2674, 0.022075539284417398), (2675, 0.02068572009460303), (2676, 0.02120949209919259), (2677, 0.020198929081169423), (2678, 0.03709432560497715), (2679, 0.06059678724350827), (2680, 0.03905832834322535), (2681, 0.04137144018920606), (2682, 0.035719981318454656), (2683, 0.03746343246326776), (2684, 0.03993615319154359), (2685, 0.062057160283809094), (2686, 0.0), (2687, 0.02120949209919259), (2688, 0.0), (2689, 0.020437977982832194), (2690, 0.0564782494724905), (2691, 0.0), (2692, 0.03953876864748646), (2693, 0.023057148795535824), (2694, 0.0), (2695, 0.03673591791853226), (2696, 0.02503130871608794), (2697, 0.02238868314198225), (2698, 0.0), (2699, 0.0), (2700, 0.019320290100197885), (2701, 0.0), (2702, 0.020437977982832194), (2703, 0.027618408833305377), (2704, 0.0), (2705, 0.0), (2706, 0.021486752129677003), (2707, 0.0), (2708, 0.0), (2709, 0.02961744388795462), (2710, 0.02120949209919259), (2711, 0.03508771929824562), (2712, 0.0), (2713, 0.02823912473624525), (2714, 0.0), (2715, 0.058587492514838024), (2716, 0.02177517781546711), (2717, 0.016556654463313048), (2718, 0.033113308926626096), (2719, 0.0), (2720, 0.020198929081169423), (2721, 0.019117977822546817), (2722, 0.018193851153474078), (2723, 0.0), (2724, 0.0), (2725, 0.04611429759107165), (2726, 0.02503130871608794), (2727, 0.028903665650804003), (2728, 0.0), (2729, 0.041885390829169554), (2730, 0.0), (2731, 0.041885390829169554), (2732, 0.033113308926626096), (2733, 0.0), (2734, 0.023414645289542346), (2735, 0.03419927840283847), (2736, 0.0), (2737, 0.027178830499701174), (2738, 0.02980430658637818), (2739, 0.01754385964912281), (2740, 0.01754385964912281), (2741, 0.027036903521793762), (2742, 0.02597621667330656), (2743, 0.01695889903687727), (2744, 0.03784378163042982), (2745, 0.02418254167033372), (2746, 0.027036903521793762), (2747, 0.019117977822546817), (2748, 0.02649064714130088), (2749, 0.0), (2750, 0.023414645289542346), (2751, 0.03993615319154359), (2752, 0.019529164171612674), (2753, 0.0), (2754, 0.019744962591969745), (2755, 0.0), (2756, 0.0), (2757, 0.0), (2758, 0.0), (2759, 0.01892189081521491), (2760, 0.01754385964912281), (2761, 0.0), (2762, 0.031219527052723135), (2763, 0.0), (2764, 0.017859990659227328), (2765, 0.03448788502503237), (2766, 0.019968076595771794), (2767, 0.05006261743217588), (2768, 0.016687539144058627), (2769, 0.0), (2770, 0.022075539284417398), (2771, 0.03823595564509363), (2772, 0.0), (2773, 0.02068572009460303), (2774, 0.0), (2775, 0.024595948397164093), (2776, 0.04241898419838518), (2777, 0.0), (2778, 0.03948992518393949), (2779, 0.0), (2780, 0.028903665650804003), (2781, 0.022075539284417398), (2782, 0.0), (2783, 0.02238868314198225), (2784, 0.018024602347862503), (2785, 0.01739196190134912), (2786, 0.0), (2787, 0.03746343246326776), (2788, 0.02238868314198225), (2789, 0.019968076595771794), (2790, 0.0), (2791, 0.0), (2792, 0.0), (2793, 0.03673591791853226), (2794, 0.02961744388795462), (2795, 0.0), (2796, 0.0), (2797, 0.04241898419838518), (2798, 0.019117977822546817), (2799, 0.0), (2800, 0.05357997197768198), (2801, 0.04836508334066744), (2802, 0.021486752129677003), (2803, 0.06059678724350827), (2804, 0.0), (2805, 0.05195243334661312), (2806, 0.025490637096729087), (2807, 0.051298917604257706), (2808, 0.03784378163042982), (2809, 0.01695889903687727), (2810, 0.027618408833305377), (2811, 0.015945495774497997), (2812, 0.0), (2813, 0.0), (2814, 0.0), (2815, 0.0447773662839645), (2816, 0.0), (2817, 0.0), (2818, 0.016821577756312225), (2819, 0.0), (2820, 0.020198929081169423), (2821, 0.02649064714130088), (2822, 0.0), (2823, 0.04241898419838518), (2824, 0.01618173820945837), (2825, 0.016428801936338142), (2826, 0.019320290100197885), (2827, 0.020942695414584777), (2828, 0.019117977822546817), (2829, 0.020198929081169423), (2830, 0.0), (2831, 0.01892189081521491), (2832, 0.0), (2833, 0.05458155346042223), (2834, 0.0), (2835, 0.0), (2836, 0.0), (2837, 0.0), (2838, 0.027036903521793762), (2839, 0.07347183583706451), (2840, 0.020198929081169423), (2841, 0.03419927840283847), (2842, 0.02597621667330656), (2843, 0.02823912473624525), (2844, 0.02271554252121273), (2845, 0.030386856273138196), (2846, 0.020437977982832194), (2847, 0.0), (2848, 0.0), (2849, 0.020437977982832194), (2850, 1.0000000000000016), (2851, 0.019744962591969745), (2852, 0.0741886512099543), (2853, 0.025490637096729087), (2854, 0.03419927840283847), (2855, 0.0), (2856, 0.019744962591969745), (2857, 0.01892189081521491), (2858, 0.0), (2859, 0.018024602347862503), (2860, 0.05923488777590924), (2861, 0.03260773253630123), (2862, 0.02177517781546711), (2863, 0.0), (2864, 0.019968076595771794), (2865, 0.0), (2866, 0.01509444709505754), (2867, 0.06131393394849658), (2868, 0.020942695414584777), (2869, 0.019529164171612674), (2870, 0.018024602347862503), (2871, 0.02271554252121273), (2872, 0.0564782494724905), (2873, 0.0447773662839645), (2874, 0.0), (2875, 0.018024602347862503), (2876, 0.0), (2877, 0.04611429759107165), (2878, 0.0), (2879, 0.05676567244564473), (2880, 0.019744962591969745), (2881, 0.024595948397164093), (2882, 0.0), (2883, 0.03948992518393949), (2884, 0.0), (2885, 0.0), (2886, 0.0), (2887, 0.01739196190134912), (2888, 0.033375078288117255), (2889, 0.05098127419345817), (2890, 0.016687539144058627), (2891, 0.0), (2892, 0.0), (2893, 0.0447773662839645), (2894, 0.0), (2895, 0.0), (2896, 0.03948992518393949), (2897, 0.03746343246326776), (2898, 0.0), (2899, 0.089554732567929), (2900, 0.03993615319154359), (2901, 0.04836508334066744), (2902, 0.028903665650804003), (2903, 0.0), (2904, 0.024595948397164093), (2905, 0.0), (2906, 0.0), (2907, 0.022075539284417398), (2908, 0.0), (2909, 0.05298129428260176), (2910, 0.048545214628375105), (2911, 0.0), (2912, 0.04682929057908469), (2913, 0.0), (2914, 0.023789303403490326), (2915, 0.02177517781546711), (2916, 0.0), (2917, 0.0), (2918, 0.023057148795535824), (2919, 0.06059678724350827), (2920, 0.023789303403490326), (2921, 0.025490637096729087), (2922, 0.019529164171612674), (2923, 0.028903665650804003), (2924, 0.014627012952620633), (2925, 0.0), (2926, 0.03993615319154359), (2927, 0.0), (2928, 0.02649064714130088), (2929, 0.02503130871608794), (2930, 0.02271554252121273), (2931, 0.014040014904887736), (2932, 0.016821577756312225), (2933, 0.0), (2934, 0.025490637096729087), (2935, 0.016687539144058627), (2936, 0.01873171623163388), (2937, 0.01892189081521491), (2938, 0.0), (2939, 0.0), (2940, 0.027036903521793762), (2941, 0.020942695414584777), (2942, 0.08285522649991613), (2943, 0.05458155346042223), (2944, 0.02068572009460303), (2945, 0.024595948397164093), (2946, 0.027036903521793762), (2947, 0.02503130871608794), (2948, 0.025490637096729087), (2949, 0.0), (2950, 0.032124628310161774), (2951, 0.02068572009460303), (2952, 0.05407380704358751), (2953, 0.0), (2954, 0.0), (2955, 0.05195243334661312), (2956, 0.02177517781546711), (2957, 0.04355035563093422), (2958, 0.021486752129677003), (2959, 0.0), (2960, 0.044151078568834795), (2961, 0.054073807043587524), (2962, 0.046829290579084706), (2963, 0.020437977982832194), (2964, 0.04543108504242546), (2965, 0.03419927840283847), (2966, 0.03419927840283847), (2967, 0.031890991548995995), (2968, 0.019529164171612674), (2969, 0.02177517781546711), (2970, 0.0), (2971, 0.04137144018920606), (2972, 0.016821577756312225), (2973, 0.0), (2974, 0.0), (2975, 0.05006261743217588), (2976, 0.020942695414584777), (2977, 0.02068572009460303), (2978, 0.032124628310161774), (2979, 0.03364315551262445), (2980, 0.0), (2981, 0.01754385964912281), (2982, 0.03784378163042982), (2983, 0.03948992518393949), (2984, 0.0), (2985, 0.02177517781546711), (2986, 0.0447773662839645), (2987, 0.0), (2988, 0.041885390829169554), (2989, 0.07277540461389631), (2990, 0.0), (2991, 0.04543108504242546), (2992, 0.057807331301608006), (2993, 0.024595948397164093), (2994, 0.023789303403490326), (2995, 0.033113308926626096), (2996, 0.04836508334066744), (2997, 0.0), (2998, 0.02120949209919259), (2999, 0.032124628310161774), (3000, 0.018193851153474078), (3001, 0.024595948397164093), (3002, 0.019744962591969745), (3003, 0.03993615319154359), (3004, 0.0), (3005, 0.0), (3006, 0.023057148795535824), (3007, 0.0), (3008, 0.018193851153474078), (3009, 0.0), (3010, 0.012571904773411904), (3011, 0.031219527052723135), (3012, 0.019968076595771794), (3013, 0.03448788502503237), (3014, 0.019320290100197885), (3015, 0.016556654463313048), (3016, 0.04442616583193193), (3017, 0.06716604942594674), (3018, 0.0), (3019, 0.05357997197768198), (3020, 0.02649064714130088), (3021, 0.0), (3022, 0.0), (3023, 0.0), (3024, 0.0), (3025, 0.019117977822546817), (3026, 0.05006261743217588), (3027, 0.02503130871608794), (3028, 0.058587492514838024), (3029, 0.019117977822546817), (3030, 0.024595948397164093), (3031, 0.013379797308309913), (3032, 0.0), (3033, 0.020437977982832194), (3034, 0.0), (3035, 0.020198929081169423), (3036, 0.01892189081521491), (3037, 0.0), (3038, 0.04087595596566439), (3039, 0.0), (3040, 0.020198929081169423), (3041, 0.1104736353332215), (3042, 0.0), (3043, 0.0), (3044, 0.020198929081169423), (3045, 0.0), (3046, 0.06956784760539649), (3047, 0.0), (3048, 0.03864058020039577), (3049, 0.021486752129677003), (3050, 0.02597621667330656), (3051, 0.03948992518393949), (3052, 0.06897577005006474), (3053, 0.03784378163042982), (3054, 0.023057148795535824), (3055, 0.028903665650804003), (3056, 0.0), (3057, 0.017099639201419235), (3058, 0.023057148795535824), (3059, 0.023414645289542346), (3060, 0.020437977982832194), (3061, 0.06532553344640132), (3062, 0.0), (3063, 0.03746343246326776), (3064, 0.02068572009460303), (3065, 0.0), (3066, 0.01892189081521491), (3067, 0.021486752129677003), (3068, 0.019320290100197885), (3069, 0.027469521447677638), (3070, 0.03539961627023944), (3071, 0.0), (3072, 0.02177517781546711), (3073, 0.03905832834322535), (3074, 0.03709432560497715), (3075, 0.0), (3076, 0.0), (3077, 0.0), (3078, 0.02177517781546711), (3079, 0.0), (3080, 0.0), (3081, 0.044151078568834795), (3082, 0.025490637096729087), (3083, 0.019529164171612674), (3084, 0.031004957313857513), (3085, 0.01836795895926613), (3086, 0.05298129428260176), (3087, 0.01836795895926613), (3088, 0.03905832834322535), (3089, 0.0), (3090, 0.03746343246326776), (3091, 0.07647191129018727), (3092, 0.03709432560497715), (3093, 0.0), (3094, 0.03673591791853226), (3095, 0.03784378163042982), (3096, 0.0), (3097, 0.0), (3098, 0.05217588570404737), (3099, 0.0), (3100, 0.011799872090079811), (3101, 0.0), (3102, 0.023414645289542346), (3103, 0.021486752129677003), (3104, 0.0), (3105, 0.03864058020039577), (3106, 0.0), (3107, 0.0), (3108, 0.08671099695241201), (3109, 0.0), (3110, 0.016303866268150616), (3111, 0.0), (3112, 0.019117977822546817), (3113, 0.020942695414584777), (3114, 0.027618408833305377), (3115, 0.05523681766661075), (3116, 0.04543108504242546), (3117, 0.02503130871608794), (3118, 0.058587492514838024), (3119, 0.01873171623163388), (3120, 0.02120949209919259), (3121, 0.01754385964912281), (3122, 0.031219527052723135), (3123, 0.0), (3124, 0.02271554252121273), (3125, 0.08079571632467769), (3126, 0.0), (3127, 0.0447773662839645), (3128, 0.0), (3129, 0.0), (3130, 0.0), (3131, 0.09086217008485092), (3132, 0.040397858162338846), (3133, 0.05990422978731538), (3134, 0.041885390829169554), (3135, 0.0), (3136, 0.019968076595771794), (3137, 0.0), (3138, 0.053099424405359155), (3139, 0.0), (3140, 0.0), (3141, 0.0), (3142, 0.0), (3143, 0.0), (3144, 0.014997375688861584), (3145, 0.02068572009460303), (3146, 0.020437977982832194), (3147, 0.018193851153474078), (3148, 0.033113308926626096), (3149, 0.02068572009460303), (3150, 0.02503130871608794), (3151, 0.04682929057908469), (3152, 0.015719307070490657), (3153, 0.027618408833305377), (3154, 0.02980430658637818), (3155, 0.02503130871608794), (3156, 0.01739196190134912), (3157, 0.0), (3158, 0.02597621667330656), (3159, 0.0), (3160, 0.0), (3161, 0.02177517781546711), (3162, 0.04087595596566439), (3163, 0.0), (3164, 0.0), (3165, 0.0), (3166, 0.0), (3167, 0.023789303403490326), (3168, 0.0), (3169, 0.02503130871608794), (3170, 0.017099639201419235), (3171, 0.020942695414584777), (3172, 0.020437977982832194), (3173, 0.04241898419838518), (3174, 0.03823595564509363), (3175, 0.01892189081521491), (3176, 0.0), (3177, 0.0), (3178, 0.0), (3179, 0.05298129428260176), (3180, 0.0), (3181, 0.025490637096729087), (3182, 0.0), (3183, 0.03508771929824562), (3184, 0.05923488777590924), (3185, 0.019744962591969745), (3186, 0.0), (3187, 0.02271554252121273), (3188, 0.0), (3189, 0.019529164171612674), (3190, 0.019529164171612674), (3191, 0.02418254167033372), (3192, 0.028903665650804003), (3193, 0.031219527052723135), (3194, 0.05923488777590924), (3195, 0.0), (3196, 0.0), (3197, 0.023057148795535824), (3198, 0.024595948397164093), (3199, 0.023057148795535824), (3200, 0.0), (3201, 0.019529164171612674), (3202, 0.021486752129677003), (3203, 0.03539961627023944), (3204, 0.019320290100197885), (3205, 0.0), (3206, 0.0), (3207, 0.05006261743217588), (3208, 0.03864058020039577), (3209, 0.023414645289542346), (3210, 0.0), (3211, 0.018193851153474078), (3212, 0.019117977822546817), (3213, 0.0), (3214, 0.017859990659227328), (3215, 0.0), (3216, 0.01873171623163388), (3217, 0.017859990659227328), (3218, 0.017099639201419235), (3219, 0.018024602347862503), (3220, 0.030386856273138196), (3221, 0.0), (3222, 0.01892189081521491), (3223, 0.030386856273138196), (3224, 0.0), (3225, 0.02649064714130088), (3226, 0.0), (3227, 0.031219527052723135), (3228, 0.018547162802488575), (3229, 0.023057148795535824), (3230, 0.0), (3231, 0.036387702306948155), (3232, 0.0), (3233, 0.01769980813511972), (3234, 0.035719981318454656), (3235, 0.030386856273138196), (3236, 0.01892189081521491), (3237, 0.0), (3238, 0.0), (3239, 0.031004957313857513), (3240, 0.02597621667330656), (3241, 0.031219527052723135), (3242, 0.01695889903687727), (3243, 0.021486752129677003), (3244, 0.0), (3245, 0.0), (3246, 0.0), (3247, 0.028903665650804003), (3248, 0.03448788502503237), (3249, 0.016303866268150616), (3250, 0.0), (3251, 0.05006261743217588), (3252, 0.0), (3253, 0.04137144018920606), (3254, 0.0), (3255, 0.0), (3256, 0.0), (3257, 0.04543108504242546), (3258, 0.0), (3259, 0.019968076595771794), (3260, 0.062009914627715025), (3261, 0.03539961627023944), (3262, 0.041885390829169554), (3263, 0.0), (3264, 0.0), (3265, 0.023057148795535824), (3266, 0.0), (3267, 0.0), (3268, 0.0), (3269, 0.030386856273138196), (3270, 0.03364315551262445), (3271, 0.01754385964912281), (3272, 0.023414645289542346), (3273, 0.05195243334661312), (3274, 0.02120949209919259), (3275, 0.0), (3276, 0.023789303403490326), (3277, 0.023789303403490326), (3278, 0.0), (3279, 0.02271554252121273), (3280, 0.06716604942594674), (3281, 0.0), (3282, 0.0), (3283, 0.05676567244564473), (3284, 0.019744962591969745), (3285, 0.0), (3286, 0.022075539284417398), (3287, 0.045580284409707295), (3288, 0.0), (3289, 0.014040014904887736), (3290, 0.054073807043587524), (3291, 0.0), (3292, 0.031219527052723135), (3293, 0.015719307070490657), (3294, 0.0), (3295, 0.0), (3296, 0.019529164171612674), (3297, 0.02649064714130088), (3298, 0.0), (3299, 0.018193851153474078), (3300, 0.019744962591969745), (3301, 0.019968076595771794), (3302, 0.0), (3303, 0.0), (3304, 0.03864058020039577), (3305, 0.0), (3306, 0.0), (3307, 0.0), (3308, 0.022075539284417398), (3309, 0.01836795895926613), (3310, 0.0), (3311, 0.0), (3312, 0.023057148795535824), (3313, 0.0), (3314, 0.0), (3315, 0.01836795895926613), (3316, 0.050876697110631815), (3317, 0.0), (3318, 0.0), (3319, 0.0), (3320, 0.0), (3321, 0.03784378163042982), (3322, 0.0), (3323, 0.0), (3324, 0.0), (3325, 0.0), (3326, 0.016062314155080887), (3327, 0.0), (3328, 0.02120949209919259), (3329, 0.024595948397164093), (3330, 0.0), (3331, 0.0), (3332, 0.051731827537548555), (3333, 0.01480872194397731), (3334, 0.0), (3335, 0.03673591791853226), (3336, 0.023057148795535824), (3337, 0.019117977822546817), (3338, 0.02649064714130088), (3339, 0.03673591791853226), (3340, 0.0), (3341, 0.0), (3342, 0.055103876877798386), (3343, 0.019117977822546817), (3344, 0.0), (3345, 0.06131393394849658), (3346, 0.04682929057908469), (3347, 0.014366570530687186), (3348, 0.030386856273138196), (3349, 0.01618173820945837), (3350, 0.03746343246326776), (3351, 0.0), (3352, 0.0), (3353, 0.03905832834322535), (3354, 0.041885390829169554), (3355, 0.0447773662839645), (3356, 0.0), (3357, 0.07254762501100116), (3358, 0.0), (3359, 0.0), (3360, 0.0), (3361, 0.0), (3362, 0.0), (3363, 0.0), (3364, 0.04137144018920606), (3365, 0.0), (3366, 0.0), (3367, 0.02418254167033372), (3368, 0.041885390829169554), (3369, 0.03746343246326776), (3370, 0.0), (3371, 0.023789303403490326), (3372, 0.0), (3373, 0.03784378163042982), (3374, 0.021486752129677003), (3375, 0.03905832834322535), (3376, 0.0), (3377, 0.0), (3378, 0.06362847629757777), (3379, 0.0), (3380, 0.015609763526361568), (3381, 0.023057148795535824), (3382, 0.04682929057908469), (3383, 0.0), (3384, 0.018547162802488575), (3385, 0.0), (3386, 0.05676567244564473), (3387, 0.025490637096729087), (3388, 0.03746343246326776), (3389, 0.025490637096729087), (3390, 0.0), (3391, 0.032857603872676285), (3392, 0.0), (3393, 0.0), (3394, 0.04757860680698065), (3395, 0.02238868314198225), (3396, 0.04682929057908469), (3397, 0.036387702306948155), (3398, 0.02597621667330656), (3399, 0.023789303403490326), (3400, 0.0), (3401, 0.019744962591969745), (3402, 0.0), (3403, 0.0), (3404, 0.027036903521793762), (3405, 0.020437977982832194), (3406, 0.05357997197768198), (3407, 0.0), (3408, 0.021486752129677003), (3409, 0.02238868314198225), (3410, 0.0), (3411, 0.05357997197768198), (3412, 0.05407380704358751), (3413, 0.016556654463313048), (3414, 0.0), (3415, 0.0), (3416, 0.019117977822546817), (3417, 0.019968076595771794), (3418, 0.0), (3419, 0.03604920469572501), (3420, 0.018024602347862503), (3421, 0.044151078568834795), (3422, 0.02649064714130088), (3423, 0.023057148795535824), (3424, 0.023414645289542346), (3425, 0.0), (3426, 0.0), (3427, 0.0), (3428, 0.0), (3429, 0.019529164171612674), (3430, 0.0), (3431, 0.041885390829169554), (3432, 0.0), (3433, 0.0), (3434, 0.01892189081521491), (3435, 0.017859990659227328), (3436, 0.02238868314198225), (3437, 0.04137144018920606), (3438, 0.02068572009460303), (3439, 0.05523681766661075), (3440, 0.0), (3441, 0.030386856273138196), (3442, 0.04818694246524266), (3443, 0.016687539144058627), (3444, 0.028903665650804003), (3445, 0.0), (3446, 0.019968076595771794), (3447, 0.0), (3448, 0.04087595596566439), (3449, 0.03508771929824562), (3450, 0.03166237934306518), (3451, 0.03784378163042982), (3452, 0.025490637096729087), (3453, 0.0), (3454, 0.0), (3455, 0.04757860680698065), (3456, 0.07024393586862704), (3457, 0.03948992518393949), (3458, 0.019320290100197885), (3459, 0.05990422978731538), (3460, 0.0), (3461, 0.049191896794328185), (3462, 0.01754385964912281), (3463, 0.0), (3464, 0.0), (3465, 0.07647191129018727), (3466, 0.031890991548995995), (3467, 0.0), (3468, 0.030386856273138196), (3469, 0.0), (3470, 0.02068572009460303), (3471, 0.089554732567929), (3472, 0.019529164171612674), (3473, 0.055103876877798386), (3474, 0.024595948397164093), (3475, 0.02068572009460303), (3476, 0.023414645289542346), (3477, 0.0), (3478, 0.02823912473624525), (3479, 0.04836508334066744), (3480, 0.05523681766661075), (3481, 0.023789303403490326), (3482, 0.02068572009460303), (3483, 0.0), (3484, 0.0), (3485, 0.04355035563093422), (3486, 0.0), (3487, 0.04543108504242546), (3488, 0.0), (3489, 0.01583118967153259), (3490, 0.02271554252121273), (3491, 0.02271554252121273), (3492, 0.023414645289542346), (3493, 0.028903665650804003), (3494, 0.02068572009460303), (3495, 0.03823595564509363), (3496, 0.04087595596566439), (3497, 0.03508771929824562), (3498, 0.016687539144058627), (3499, 0.019117977822546817), (3500, 0.01836795895926613), (3501, 0.0), (3502, 0.030386856273138196), (3503, 0.0), (3504, 0.026359179098324307), (3505, 0.03993615319154359), (3506, 0.0), (3507, 0.0), (3508, 0.03993615319154359), (3509, 0.0), (3510, 0.0), (3511, 0.04818694246524266), (3512, 0.04588314677411235), (3513, 0.0), (3514, 0.04087595596566439), (3515, 0.042973504259354006), (3516, 0.0), (3517, 0.020942695414584777), (3518, 0.0447773662839645), (3519, 0.0), (3520, 0.0), (3521, 0.0869598095067456), (3522, 0.0), (3523, 0.020198929081169423), (3524, 0.054073807043587524), (3525, 0.04470645987956727), (3526, 0.016821577756312225), (3527, 0.033113308926626096), (3528, 0.0), (3529, 0.0), (3530, 0.07947194142390264), (3531, 0.0), (3532, 0.02271554252121273), (3533, 0.01836795895926613), (3534, 0.05676567244564473), (3535, 0.0), (3536, 0.018547162802488575), (3537, 0.049191896794328185), (3538, 0.02823912473624525), (3539, 0.0), (3540, 0.019529164171612674), (3541, 0.0), (3542, 0.01836795895926613), (3543, 0.0), (3544, 0.0), (3545, 0.0), (3546, 0.0), (3547, 0.02271554252121273), (3548, 0.02177517781546711), (3549, 0.02418254167033372), (3550, 0.049191896794328185), (3551, 0.04355035563093422), (3552, 0.023057148795535824), (3553, 0.0), (3554, 0.04757860680698065), (3555, 0.04682929057908469), (3556, 0.0), (3557, 0.04757860680698065), (3558, 0.0), (3559, 0.0), (3560, 0.0), (3561, 0.015397375894859667), (3562, 0.0), (3563, 0.02823912473624525), (3564, 0.01739196190134912), (3565, 0.0), (3566, 0.019529164171612674), (3567, 0.05458155346042223), (3568, 0.019320290100197885), (3569, 0.03948992518393949), (3570, 0.0), (3571, 0.0), (3572, 0.0), (3573, 0.02649064714130088), (3574, 0.02418254167033372), (3575, 0.02649064714130088), (3576, 0.06424925662032355), (3577, 0.02238868314198225), (3578, 0.062057160283809094), (3579, 0.0), (3580, 0.0), (3581, 0.03993615319154359), (3582, 0.044151078568834795), (3583, 0.027618408833305377), (3584, 0.027178830499701174), (3585, 0.0), (3586, 0.0), (3587, 0.020942695414584777), (3588, 0.023414645289542346), (3589, 0.020942695414584777), (3590, 0.04137144018920606), (3591, 0.01769980813511972), (3592, 0.014538631400564484), (3593, 0.017243942512516184), (3594, 0.01739196190134912), (3595, 0.0), (3596, 0.0), (3597, 0.024595948397164093), (3598, 0.055641488407465724), (3599, 0.03236347641891674), (3600, 0.028903665650804003), (3601, 0.0), (3602, 0.04087595596566439), (3603, 0.027036903521793762), (3604, 0.03823595564509363), (3605, 0.018547162802488575), (3606, 0.05006261743217588), (3607, 0.054073807043587524), (3608, 0.02418254167033372), (3609, 0.019529164171612674), (3610, 0.049191896794328185), (3611, 0.020942695414584777), (3612, 0.0), (3613, 0.05006261743217588), (3614, 0.03709432560497715), (3615, 0.02418254167033372), (3616, 0.0), (3617, 0.0), (3618, 0.042973504259354006), (3619, 0.01695889903687727), (3620, 0.01754385964912281), (3621, 0.01836795895926613), (3622, 0.0), (3623, 0.016687539144058627), (3624, 0.0), (3625, 0.0), (3626, 0.0922285951821433), (3627, 0.05407380704358751), (3628, 0.02961744388795462), (3629, 0.01873171623163388), (3630, 0.0), (3631, 0.02120949209919259), (3632, 0.025490637096729087), (3633, 0.0), (3634, 0.0), (3635, 0.033113308926626096), (3636, 0.01754385964912281), (3637, 0.03539961627023944), (3638, 0.0), (3639, 0.024595948397164093), (3640, 0.023057148795535824), (3641, 0.0), (3642, 0.05006261743217588), (3643, 0.0), (3644, 0.07792865001991968), (3645, 0.05195243334661312), (3646, 0.027618408833305377), (3647, 0.02503130871608794), (3648, 0.021486752129677003), (3649, 0.0), (3650, 0.0), (3651, 0.0), (3652, 0.017243942512516184), (3653, 0.024595948397164093), (3654, 0.05923488777590924), (3655, 0.0), (3656, 0.01836795895926613), (3657, 0.019117977822546817), (3658, 0.0), (3659, 0.016303866268150616), (3660, 0.031219527052723135), (3661, 0.0), (3662, 0.017859990659227328), (3663, 0.04611429759107165), (3664, 0.01583118967153259), (3665, 0.0), (3666, 0.01754385964912281), (3667, 0.0), (3668, 0.02649064714130088), (3669, 0.032124628310161774), (3670, 0.021486752129677003), (3671, 0.027036903521793762), (3672, 0.03478392380269824), (3673, 0.0), (3674, 0.0), (3675, 0.01754385964912281), (3676, 0.02418254167033372), (3677, 0.03539961627023944), (3678, 0.0), (3679, 0.015397375894859667), (3680, 0.017099639201419235), (3681, 0.023057148795535824), (3682, 0.03260773253630123), (3683, 0.02649064714130088), (3684, 0.0), (3685, 0.04165461556976481), (3686, 0.02503130871608794), (3687, 0.027036903521793762), (3688, 0.0), (3689, 0.0), (3690, 0.02823912473624525), (3691, 0.019968076595771794), (3692, 0.023057148795535824), (3693, 0.02068572009460303), (3694, 0.0), (3695, 0.0), (3696, 0.0), (3697, 0.0), (3698, 0.019744962591969745), (3699, 0.03746343246326776), (3700, 0.024595948397164093), (3701, 0.01490215329318909), (3702, 0.0), (3703, 0.027618408833305377), (3704, 0.02597621667330656), (3705, 0.0), (3706, 0.0), (3707, 0.027618408833305377), (3708, 0.022075539284417398), (3709, 0.036387702306948155), (3710, 0.02597621667330656), (3711, 0.017099639201419235), (3712, 0.027036903521793762), (3713, 0.020198929081169423), (3714, 0.018193851153474078), (3715, 0.0), (3716, 0.0), (3717, 0.027036903521793762), (3718, 0.0), (3719, 0.04928640580901443), (3720, 0.02649064714130088), (3721, 0.02068572009460303), (3722, 0.020198929081169423), (3723, 0.030386856273138196), (3724, 0.027469521447677638), (3725, 0.03260773253630123), (3726, 0.020942695414584777), (3727, 0.020942695414584777), (3728, 0.0), (3729, 0.016687539144058627), (3730, 0.0), (3731, 0.020942695414584777), (3732, 0.023057148795535824), (3733, 0.0), (3734, 0.02418254167033372), (3735, 0.01873171623163388), (3736, 0.0), (3737, 0.03673591791853226), (3738, 0.0), (3739, 0.021486752129677003), (3740, 0.018547162802488575), (3741, 0.019320290100197885), (3742, 0.0), (3743, 0.03604920469572501), (3744, 0.0), (3745, 0.041885390829169554), (3746, 0.016821577756312225), (3747, 0.023414645289542346), (3748, 0.019117977822546817), (3749, 0.0), (3750, 0.020942695414584777), (3751, 0.0), (3752, 0.0), (3753, 0.021486752129677003), (3754, 0.03539961627023944), (3755, 0.0), (3756, 0.022075539284417398), (3757, 0.020942695414584777), (3758, 0.0), (3759, 0.02597621667330656), (3760, 0.03709432560497715), (3761, 0.023789303403490326), (3762, 0.054073807043587524), (3763, 0.02271554252121273), (3764, 0.02597621667330656), (3765, 0.04891159880445185), (3766, 0.031219527052723135), (3767, 0.0), (3768, 0.07378784519149229), (3769, 0.02238868314198225), (3770, 0.019968076595771794), (3771, 0.02823912473624525), (3772, 0.02823912473624525), (3773, 0.0), (3774, 0.023057148795535824), (3775, 0.017243942512516184), (3776, 0.0), (3777, 0.02068572009460303), (3778, 0.0), (3779, 0.025490637096729087), (3780, 0.016428801936338142), (3781, 0.0), (3782, 0.033113308926626096), (3783, 0.018547162802488575), (3784, 0.0), (3785, 0.019529164171612674), (3786, 0.019968076595771794), (3787, 0.015397375894859667), (3788, 0.0), (3789, 0.030386856273138196), (3790, 0.017243942512516184), (3791, 0.03993615319154359), (3792, 0.018024602347862503), (3793, 0.0), (3794, 0.0), (3795, 0.0), (3796, 0.019968076595771794), (3797, 0.0), (3798, 0.01892189081521491), (3799, 0.0), (3800, 0.02503130871608794), (3801, 0.0), (3802, 0.0), (3803, 0.0781166566864507), (3804, 0.023414645289542346), (3805, 0.05195243334661312), (3806, 0.056195148694901643), (3807, 0.05195243334661312), (3808, 0.0), (3809, 0.0), (3810, 0.023414645289542346), (3811, 0.03673591791853226), (3812, 0.032857603872676285), (3813, 0.020437977982832194), (3814, 0.02238868314198225), (3815, 0.019117977822546817), (3816, 0.02597621667330656), (3817, 0.01695889903687727), (3818, 0.0), (3819, 0.0), (3820, 0.03784378163042982), (3821, 0.021486752129677003), (3822, 0.017243942512516184), (3823, 0.025490637096729087), (3824, 0.0), (3825, 0.02823912473624525), (3826, 0.024595948397164093), (3827, 0.0), (3828, 0.0), (3829, 0.0), (3830, 0.0), (3831, 0.04783648732349399), (3832, 0.04137144018920606), (3833, 0.018547162802488575), (3834, 0.024595948397164093), (3835, 0.019320290100197885), (3836, 0.02503130871608794), (3837, 0.02238868314198225), (3838, 0.0), (3839, 0.019320290100197885), (3840, 0.04588314677411235), (3841, 0.0), (3842, 0.020437977982832194), (3843, 0.0), (3844, 0.0), (3845, 0.02597621667330656), (3846, 0.0), (3847, 0.0), (3848, 0.02823912473624525), (3849, 0.017243942512516184), (3850, 0.0), (3851, 0.01754385964912281), (3852, 0.02961744388795462), (3853, 0.02177517781546711), (3854, 0.0), (3855, 0.02649064714130088), (3856, 0.0), (3857, 0.0), (3858, 0.0), (3859, 0.019117977822546817), (3860, 0.0), (3861, 0.0), (3862, 0.01769980813511972), (3863, 0.02597621667330656), (3864, 0.02823912473624525), (3865, 0.0), (3866, 0.0), (3867, 0.017099639201419235), (3868, 0.0), (3869, 0.027618408833305377), (3870, 0.0), (3871, 0.03419927840283847), (3872, 0.02238868314198225), (3873, 0.0), (3874, 0.021486752129677003), (3875, 0.0), (3876, 0.05735393346764045), (3877, 0.0), (3878, 0.0), (3879, 0.0), (3880, 0.018024602347862503), (3881, 0.0), (3882, 0.0), (3883, 0.0), (3884, 0.0), (3885, 0.0), (3886, 0.019968076595771794), (3887, 0.031219527052723135), (3888, 0.02597621667330656), (3889, 0.02238868314198225), (3890, 0.0), (3891, 0.01739196190134912), (3892, 0.0), (3893, 0.020437977982832194), (3894, 0.0), (3895, 0.0), (3896, 0.0), (3897, 0.04087595596566439), (3898, 0.018193851153474078), (3899, 0.019968076595771794), (3900, 0.07378784519149229), (3901, 0.017859990659227328), (3902, 0.0), (3903, 0.023057148795535824), (3904, 0.019320290100197885), (3905, 0.02961744388795462), (3906, 0.02418254167033372), (3907, 0.06059678724350827), (3908, 0.02238868314198225), (3909, 0.0), (3910, 0.03604920469572501), (3911, 0.0), (3912, 0.032124628310161774), (3913, 0.033113308926626096), (3914, 0.020198929081169423), (3915, 0.0), (3916, 0.06956784760539649), (3917, 0.01892189081521491), (3918, 0.01769980813511972), (3919, 0.0), (3920, 0.02597621667330656), (3921, 0.02823912473624525), (3922, 0.020437977982832194), (3923, 0.0), (3924, 0.02649064714130088), (3925, 0.023057148795535824), (3926, 0.06839855680567694), (3927, 0.0), (3928, 0.05006261743217588), (3929, 0.019744962591969745), (3930, 0.0447773662839645), (3931, 0.05407380704358751), (3932, 0.014997375688861584), (3933, 0.036387702306948155), (3934, 0.0), (3935, 0.01873171623163388), (3936, 0.02823912473624525), (3937, 0.0), (3938, 0.05923488777590924), (3939, 0.04241898419838518), (3940, 0.0), (3941, 0.020437977982832194), (3942, 0.01769980813511972), (3943, 0.06532553344640132), (3944, 0.0), (3945, 0.01739196190134912), (3946, 0.0), (3947, 0.035719981318454656), (3948, 0.0), (3949, 0.025490637096729087), (3950, 0.0), (3951, 0.030386856273138196), (3952, 0.0), (3953, 0.031219527052723135), (3954, 0.02120949209919259), (3955, 0.018024602347862503), (3956, 0.033113308926626096), (3957, 0.06362847629757777), (3958, 0.027618408833305377), (3959, 0.05923488777590924), (3960, 0.0), (3961, 0.02649064714130088), (3962, 0.0), (3963, 0.0), (3964, 0.019117977822546817), (3965, 0.0), (3966, 0.044151078568834795), (3967, 0.0), (3968, 0.0), (3969, 0.0), (3970, 0.024595948397164093), (3971, 0.0), (3972, 0.0), (3973, 0.05357997197768198), (3974, 0.02961744388795462), (3975, 0.031004957313857513), (3976, 0.020942695414584777), (3977, 0.0), (3978, 0.0), (3979, 0.0), (3980, 0.016821577756312225), (3981, 0.019744962591969745), (3982, 0.0), (3983, 0.0), (3984, 0.027036903521793762), (3985, 0.0), (3986, 0.0), (3987, 0.019968076595771794), (3988, 0.0), (3989, 0.0), (3990, 0.019529164171612674), (3991, 0.02068572009460303), (3992, 0.041885390829169554), (3993, 0.031219527052723135), (3994, 0.02271554252121273), (3995, 0.08274288037841213), (3996, 0.019744962591969745), (3997, 0.05523681766661075), (3998, 0.05523681766661075), (3999, 0.01739196190134912), (4000, 0.0), (4001, 0.023057148795535824), (4002, 0.0), (4003, 0.023414645289542346), (4004, 0.02961744388795462), (4005, 0.02649064714130088), (4006, 0.03948992518393949), (4007, 0.02238868314198225), (4008, 0.0), (4009, 0.03508771929824562), (4010, 0.016303866268150616), (4011, 0.06716604942594674), (4012, 0.0), (4013, 0.0), (4014, 0.0), (4015, 0.0), (4016, 0.0), (4017, 0.023057148795535824), (4018, 0.019968076595771794), (4019, 0.0), (4020, 0.016062314155080887), (4021, 0.0), (4022, 0.0), (4023, 0.0), (4024, 0.0), (4025, 0.06131393394849658), (4026, 0.0), (4027, 0.0), (4028, 0.0), (4029, 0.05298129428260176), (4030, 0.019968076595771794), (4031, 0.0), (4032, 0.0), (4033, 0.023057148795535824), (4034, 0.0), (4035, 0.0611775290321498), (4036, 0.028903665650804003), (4037, 0.04543108504242546), (4038, 0.0), (4039, 0.019529164171612674), (4040, 0.06622661785325219), (4041, 0.0), (4042, 0.017099639201419235), (4043, 0.0), (4044, 0.0), (4045, 0.04783648732349399), (4046, 0.0564782494724905), (4047, 0.05523681766661075), (4048, 0.02177517781546711), (4049, 0.04682929057908469), (4050, 0.0), (4051, 0.019744962591969745), (4052, 0.02597621667330656), (4053, 0.02271554252121273), (4054, 0.0), (4055, 0.04543108504242546), (4056, 0.0), (4057, 0.03508771929824562), (4058, 0.0), (4059, 0.06622661785325219), (4060, 0.0), (4061, 0.0), (4062, 0.0), (4063, 0.0), (4064, 0.019529164171612674), (4065, 0.03448788502503237), (4066, 0.023414645289542346), (4067, 0.023789303403490326), (4068, 0.0), (4069, 0.0), (4070, 0.019968076595771794), (4071, 0.0), (4072, 0.0), (4073, 0.016687539144058627), (4074, 0.0), (4075, 0.04241898419838518), (4076, 0.019968076595771794), (4077, 0.0), (4078, 0.018193851153474078), (4079, 0.0), (4080, 0.0), (4081, 0.0), (4082, 0.027618408833305377), (4083, 0.017859990659227328), (4084, 0.0), (4085, 0.0), (4086, 0.0), (4087, 0.0), (4088, 0.02418254167033372), (4089, 0.031219527052723135), (4090, 0.0), (4091, 0.0), (4092, 0.04757860680698065), (4093, 0.02120949209919259), (4094, 0.02177517781546711), (4095, 0.02177517781546711), (4096, 0.023057148795535824), (4097, 0.027618408833305377), (4098, 0.02823912473624525), (4099, 0.015397375894859667), (4100, 0.020942695414584777), (4101, 0.0), (4102, 0.023789303403490326), (4103, 0.021486752129677003), (4104, 0.0), (4105, 0.02271554252121273), (4106, 0.0), (4107, 0.0), (4108, 0.022075539284417398), (4109, 0.027618408833305377), (4110, 0.027036903521793762), (4111, 0.023057148795535824), (4112, 0.0), (4113, 0.0), (4114, 0.044151078568834795), (4115, 0.04241898419838518), (4116, 0.020198929081169423), (4117, 0.04355035563093422), (4118, 0.02961744388795462), (4119, 0.023414645289542346), (4120, 0.0), (4121, 0.0), (4122, 0.0), (4123, 0.0), (4124, 0.01892189081521491), (4125, 0.0), (4126, 0.0), (4127, 0.0447773662839645), (4128, 0.027036903521793762), (4129, 0.0), (4130, 0.04682929057908469), (4131, 0.014997375688861584), (4132, 0.03604920469572501), (4133, 0.019529164171612674), (4134, 0.046192127684579004), (4135, 0.0), (4136, 0.017099639201419235), (4137, 0.0), (4138, 0.0), (4139, 0.023789303403490326), (4140, 0.02177517781546711), (4141, 0.03364315551262445), (4142, 0.0), (4143, 0.0), (4144, 0.02238868314198225), (4145, 0.0), (4146, 0.0), (4147, 0.0), (4148, 0.0), (4149, 0.0), (4150, 0.046829290579084706), (4151, 0.032124628310161774), (4152, 0.06424925662032355), (4153, 0.03823595564509363), (4154, 0.02271554252121273), (4155, 0.017243942512516184), (4156, 0.0), (4157, 0.0), (4158, 0.0), (4159, 0.016687539144058627), (4160, 0.017859990659227328), (4161, 0.02120949209919259), (4162, 0.019744962591969745), (4163, 0.019744962591969745), (4164, 0.02068572009460303), (4165, 0.016821577756312225), (4166, 0.0), (4167, 0.06917144638660747), (4168, 0.0), (4169, 0.03823595564509363), (4170, 0.023414645289542346), (4171, 0.040397858162338846), (4172, 0.015945495774497997), (4173, 0.04087595596566439), (4174, 0.0), (4175, 0.0), (4176, 0.018547162802488575), (4177, 0.02649064714130088), (4178, 0.03260773253630123), (4179, 0.020198929081169423), (4180, 0.044151078568834795), (4181, 0.01739196190134912), (4182, 0.020942695414584777)]\n"
     ]
    },
    {
     "data": {
      "text/plain": [
       "654              Proof of Life\n",
       "3041                    Splash\n",
       "2668                   Machete\n",
       "525                    Killers\n",
       "1535                    Looper\n",
       "288          The Expendables 2\n",
       "1167           The Other Woman\n",
       "2348    Escobar: Paradise Lost\n",
       "3626                    Oldboy\n",
       "623             Need for Speed\n",
       "Name: title, dtype: object"
      ]
     },
     "execution_count": 27,
     "metadata": {},
     "output_type": "execute_result"
    }
   ],
   "source": [
    "content_recommender('Road House', cosine_sim2, new_df, indices2)"
   ]
  },
  {
   "cell_type": "code",
   "execution_count": null,
   "metadata": {},
   "outputs": [],
   "source": []
  }
 ],
 "metadata": {
  "kernelspec": {
   "display_name": "anaconda3",
   "language": "python",
   "name": "anaconda3"
  },
  "language_info": {
   "codemirror_mode": {
    "name": "ipython",
    "version": 3
   },
   "file_extension": ".py",
   "mimetype": "text/x-python",
   "name": "python",
   "nbconvert_exporter": "python",
   "pygments_lexer": "ipython3",
   "version": "3.7.4"
  },
  "toc": {
   "base_numbering": 1,
   "nav_menu": {},
   "number_sections": true,
   "sideBar": true,
   "skip_h1_title": false,
   "title_cell": "Table of Contents",
   "title_sidebar": "Contents",
   "toc_cell": false,
   "toc_position": {
    "height": "calc(100% - 180px)",
    "left": "10px",
    "top": "150px",
    "width": "260.517px"
   },
   "toc_section_display": true,
   "toc_window_display": true
  }
 },
 "nbformat": 4,
 "nbformat_minor": 2
}
