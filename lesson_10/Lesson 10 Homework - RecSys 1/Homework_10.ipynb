{
 "cells": [
  {
   "cell_type": "code",
   "execution_count": null,
   "metadata": {
    "code_folding": [
     0
    ]
   },
   "outputs": [],
   "source": [
    "# execute to import notebook styling for tables and width etc.\n",
    "from IPython.core.display import HTML\n",
    "import urllib.request\n",
    "response = urllib.request.urlopen('https://raw.githubusercontent.com/DataScienceUWL/DS775v2/master/ds755.css')\n",
    "HTML(response.read().decode(\"utf-8\"));"
   ]
  },
  {
   "cell_type": "code",
   "execution_count": null,
   "metadata": {},
   "outputs": [],
   "source": [
    "import pandas as pd"
   ]
  },
  {
   "cell_type": "markdown",
   "metadata": {},
   "source": [
    "<font size=18>Lesson 10 Homework</font>"
   ]
  },
  {
   "cell_type": "markdown",
   "metadata": {
    "heading_collapsed": true
   },
   "source": [
    "# Build a Simple Recommender"
   ]
  },
  {
   "cell_type": "markdown",
   "metadata": {
    "hidden": true
   },
   "source": [
    "Use the data set **tmdb_5000_movies.csv** to build a simple recommender system with the following characteristics \n",
    "\n",
    "- movies in the to 50\\% according to the popularity score\n",
    "- movies with runtime of 80 minutes or more\n",
    "- movies with a budget between \\\\$10 and \\\\$100 million\n",
    "- movies with genre of either action or comedy\n",
    "\n",
    "then rank the movies according to the IMDB weighted rating formula that is described in the Banik textbook and print the top 10 highest rated movies with the characteristics listed above. "
   ]
  },
  {
   "cell_type": "markdown",
   "metadata": {},
   "source": [
    "### Code"
   ]
  },
  {
   "cell_type": "code",
   "execution_count": null,
   "metadata": {},
   "outputs": [],
   "source": [
    "# make df\n",
    "tmdb_df = pd.read_csv(\"data/tmdb-5000-movie-dataset/tmdb_5000_movies.csv\", encoding=\"ISO-8859-1\")\n",
    "\n",
    "movie_indices = []\n",
    "for i in range(tmdb_df.shape[0]):\n",
    "    movie_ratings = eval(tmdb_df['genres'].iloc[i])\n",
    "    tmdb_df.loc[i, 'genres'] = ', '.join([rating['name'] for rating in movie_ratings])\n",
    "\n",
    "    for rating in movie_ratings:\n",
    "        if rating['name'] == 'Action' or rating['name'] == 'Comedy':\n",
    "            movie_indices.append(i)\n",
    "\n",
    "movie_indices = set(movie_indices)\n",
    "\n",
    "# filter on genres (action or comedy)\n",
    "df_filtered = tmdb_df.filter(items=movie_indices, axis=0)\n",
    "\n",
    "# filter on other requests\n",
    "df_filtered = df_filtered[(df_filtered['popularity'] >= df_filtered['popularity'].quantile(.5)) & \n",
    "                      (df_filtered['runtime'] >= 80) & \n",
    "                      (df_filtered['budget'] >= 10000000) & \n",
    "                      (df_filtered['budget'] <= 100000000)]\n",
    "\n",
    "# create imdb weighted rating\n",
    "m = df_filtered['vote_count'].quantile(.25)\n",
    "r = df_filtered['vote_average']\n",
    "v = df_filtered['vote_count']\n",
    "c = r.mean()\n",
    "wr_imdb = round(((v/(v+m))*r)+((m/(v+m))*c),2)\n",
    "\n",
    "# assign weighted rating as a column\n",
    "df_filtered = df_filtered.assign(weighted_rating=wr_imdb)\n",
    "\n",
    "# sort the filtered df by weighted rating\n",
    "df_filtered = df_filtered.sort_values('weighted_rating', ascending=False).reset_index()"
   ]
  },
  {
   "cell_type": "markdown",
   "metadata": {
    "hidden": true
   },
   "source": [
    "**Provide the following with your solution:**\n",
    "\n",
    "(a) How many movies are in the original data frame?"
   ]
  },
  {
   "cell_type": "code",
   "execution_count": null,
   "metadata": {},
   "outputs": [],
   "source": [
    "tmdb_df.shape[0]"
   ]
  },
  {
   "cell_type": "markdown",
   "metadata": {
    "hidden": true
   },
   "source": [
    "(b) What is the median for popularity score?"
   ]
  },
  {
   "cell_type": "code",
   "execution_count": null,
   "metadata": {},
   "outputs": [],
   "source": [
    "tmdb_df['popularity'].median()"
   ]
  },
  {
   "cell_type": "markdown",
   "metadata": {
    "hidden": true
   },
   "source": [
    "(c) How many movies are in the reduced data frame (*i.e.* how many meet the selection criteria)?"
   ]
  },
  {
   "cell_type": "code",
   "execution_count": null,
   "metadata": {},
   "outputs": [],
   "source": [
    "df_filtered.shape[0]"
   ]
  },
  {
   "cell_type": "markdown",
   "metadata": {
    "hidden": true
   },
   "source": [
    "(d) Display only the movie title and the requested characteristics as well as the vote count, vote average, and IMDB weighted rating with your recommendations."
   ]
  },
  {
   "cell_type": "code",
   "execution_count": null,
   "metadata": {},
   "outputs": [],
   "source": [
    "df_filtered[['original_title','genres','weighted_rating','vote_count','vote_average']]"
   ]
  },
  {
   "cell_type": "markdown",
   "metadata": {
    "hidden": true
   },
   "source": [
    "This data set can be found in the presentation download for this lesson.  You will need to use the option **encoding = \"ISO-8859-1\"** in the **read_csv** function in order to open this file.  Use the examples given in Banik's book as a guide."
   ]
  },
  {
   "cell_type": "markdown",
   "metadata": {
    "heading_collapsed": true
   },
   "source": [
    "# Build a Knowledge-Based Recommender"
   ]
  },
  {
   "cell_type": "markdown",
   "metadata": {
    "hidden": true
   },
   "source": [
    "Use the data set **tmdb_5000_movies.csv** to build a knowledge-based recommender system that solicits the following information listed below and then ranks the movies according to the IMDB weighted rating formula. Use all available movies to begin with (*i.e.* don't restrict it to just the top 20%, for example) Print the top 5 highest rated movies for this recommendation. \n",
    "\n",
    "Ask the user to enter answers to the following questions:\n",
    "\n",
    "- Enter a preferred genre.\n",
    "- Enter another preferred genre.\n",
    "- Enter a minimum runtime (in minutes).\n",
    "- Enter a maximum runtime (in minutes).\n",
    "\n",
    "Print a list of genres for the user to choose from before asking for their inputs."
   ]
  },
  {
   "cell_type": "markdown",
   "metadata": {
    "hidden": true
   },
   "source": [
    "Create the recommender to select movies with either genre entered.  "
   ]
  },
  {
   "cell_type": "code",
   "execution_count": null,
   "metadata": {},
   "outputs": [],
   "source": [
    "def movie_recommender():\n",
    "    tmdb_df = pd.read_csv(\"data/tmdb-5000-movie-dataset/tmdb_5000_movies.csv\", encoding=\"ISO-8859-1\")\n",
    "    \n",
    "    # calculate unique genres\n",
    "    list_of_genres = []\n",
    "    \n",
    "    for i in range(tmdb_df.shape[0]):\n",
    "        genre_dict = eval(tmdb_df['genres'].iloc[i])\n",
    "        list_of_genres.extend(genre_dict)\n",
    "\n",
    "    genres_df = pd.DataFrame.from_dict(list_of_genres, orient='columns')\n",
    "    all_genres = ', '.join(genres_df['name'].unique().tolist())\n",
    "    \n",
    "    #present genres and get inputs\n",
    "    print(f\"See genres: {all_genres}\")\n",
    "    preferred_genre1 = input(\"Enter a preferred genre\")\n",
    "    preferred_genre2 = input(\"Enter another preferred genre\")\n",
    "    min_runtime = int(input(\"Enter min runtime\"))\n",
    "    max_runtime = int(input(\"Enter max runtime\"))\n",
    "    \n",
    "    movie_indices = []\n",
    "                             \n",
    "    # filter df by genre\n",
    "    for i in range(tmdb_df.shape[0]):\n",
    "        movie_genres = eval(tmdb_df['genres'].iloc[i])\n",
    "        tmdb_df.loc[i, 'genres'] = ', '.join([genre['name'] for genre in movie_genres])\n",
    "\n",
    "        for genre in movie_genres:\n",
    "            if genre['name'] == preferred_genre1 or genre['name'] == preferred_genre2:\n",
    "                movie_indices.append(i)\n",
    "\n",
    "    movie_indices = set(movie_indices)\n",
    "\n",
    "    # filter on genres (action or comedy)\n",
    "    df_filtered = tmdb_df.filter(items=movie_indices, axis=0)\n",
    "\n",
    "    # filter on other requests\n",
    "    df_filtered = df_filtered[(df_filtered['runtime'] >= min_runtime) & \n",
    "                          (df_filtered['runtime'] <= max_runtime)]\n",
    "\n",
    "    # create imdb weighted rating\n",
    "    m = df_filtered['vote_count'].quantile(.25)\n",
    "    r = df_filtered['vote_average']\n",
    "    v = df_filtered['vote_count']\n",
    "    c = r.mean()\n",
    "    wr_imdb = round(((v/(v+m))*r)+((m/(v+m))*c),2)\n",
    "\n",
    "    # assign weighted rating as a column\n",
    "    df_filtered = df_filtered.assign(weighted_rating=wr_imdb)\n",
    "\n",
    "    # sort the filtered df by weighted rating\n",
    "    df_filtered = df_filtered.sort_values('weighted_rating', ascending=False).reset_index()\n",
    "    df_filtered = df_filtered[['original_title', 'genres', 'runtime', 'weighted_rating','vote_count','vote_average']]\n",
    "    return df_filtered.head()"
   ]
  },
  {
   "cell_type": "markdown",
   "metadata": {
    "hidden": true
   },
   "source": [
    "Have your recommender give recommendations for genres \"family\" and \"tv movie\" between of 50 and 120 minutes long and display only the movie title and the requested characteristics as well as the vote count, vote average, and IMDB weighted rating with your recommendations.\n",
    "\n",
    "Use the examples given in Banik's book as a guide."
   ]
  },
  {
   "cell_type": "code",
   "execution_count": null,
   "metadata": {},
   "outputs": [],
   "source": [
    "movie_recommender()"
   ]
  },
  {
   "cell_type": "markdown",
   "metadata": {
    "heading_collapsed": true
   },
   "source": [
    "# Build a Content-Based Recommender"
   ]
  },
  {
   "cell_type": "markdown",
   "metadata": {
    "hidden": true
   },
   "source": [
    "Use the data set **tmdb_5000_movies.csv** to build a meta-data based recommender by creating a \"soup\" and using cosine similarity based on the \n",
    "\n",
    "- all genres\n",
    "- top three keywords\n",
    "- top three production companies\n",
    "- overview"
   ]
  },
  {
   "cell_type": "code",
   "execution_count": null,
   "metadata": {},
   "outputs": [],
   "source": [
    "import string\n",
    "import pandas as pd\n",
    "\n",
    "tmdb_df = pd.read_csv(\"data/tmdb-5000-movie-dataset/tmdb_5000_movies.csv\", encoding=\"ISO-8859-1\")\n",
    "new_df = []\n",
    "\n",
    "# loop through df to create new variables of list form\n",
    "for i in range(tmdb_df.shape[0]):\n",
    "    new_row = {}\n",
    "    title = tmdb_df['title'].iloc[i]\n",
    "    movie_genres = eval(tmdb_df['genres'].iloc[i])\n",
    "    keywords = eval(tmdb_df['keywords'].iloc[i])\n",
    "    prod_comps = eval(tmdb_df['production_companies'].iloc[i])\n",
    "    \n",
    "    # eliminate punctuation\n",
    "    if isinstance(tmdb_df['overview'].iloc[i], str):\n",
    "        strip_string = tmdb_df['overview'].iloc[i].translate(str.maketrans('', '', string.punctuation)).strip()\n",
    "        split_string = strip_string.split(\" \")\n",
    "        overview = list(set(split_string))\n",
    "    else:\n",
    "        overview = tmdb_df['overview'].iloc[i]\n",
    "    \n",
    "    # create fields\n",
    "    new_row['title'] = title\n",
    "    new_row['genres'] = [genre['name'] for genre in movie_genres]\n",
    "    new_row['keywords'] = [keyword['name'] for keyword in keywords]\n",
    "    new_row['prod_comps'] = [pc['name'] for pc in prod_comps]\n",
    "    new_row['overview'] = overview\n",
    "    \n",
    "    if not new_row['genres']or not new_row['keywords'] or not new_row['prod_comps'] or not new_row['overview']:\n",
    "        continue\n",
    "    \n",
    "    new_df.append(new_row)\n",
    "    \n",
    "new_df = pd.DataFrame.from_dict(new_df, orient='columns')"
   ]
  },
  {
   "cell_type": "code",
   "execution_count": null,
   "metadata": {},
   "outputs": [],
   "source": [
    "# drop words to lowercase and replace spaces\n",
    "def sanitize(x):\n",
    "    if isinstance(x, list):\n",
    "        return [str.lower(i.replace(\" \", \"\")) for i in x]\n",
    "    else:\n",
    "        if isinstance(x, str):\n",
    "            return str.lower(x.replace(\" \", \"\"))\n",
    "        else:\n",
    "            return ''\n",
    "\n",
    "for feature in ['genres', 'keywords', 'prod_comps', 'overview']:\n",
    "    new_df[feature] = new_df[feature].apply(sanitize)\n",
    "\n",
    "# eliminate NAs in overview\n",
    "new_df = new_df[new_df['overview'] != '']\n",
    "\n",
    "# create soup\n",
    "soup_list = new_df['genres'] + new_df['keywords'] + new_df['prod_comps'] + new_df['overview']\n",
    "new_df = new_df.assign(soup=new_df['genres'] + new_df['keywords'] + new_df['prod_comps'] + new_df['overview'])\n",
    "\n",
    "def create_soup(x):\n",
    "    return ' '.join(x['soup'])\n",
    "\n",
    "new_df['soup'] = new_df.apply(create_soup, axis=1)"
   ]
  },
  {
   "cell_type": "code",
   "execution_count": null,
   "metadata": {},
   "outputs": [],
   "source": [
    "# Function that takes in movie title as input and gives recommendations \n",
    "def content_recommender(title, cosine_sim, df, indices):\n",
    "    # Obtain the index of the movie that matches the title\n",
    "    idx = indices[title]\n",
    "\n",
    "    # Get the pairwsie similarity scores of all movies with that movie\n",
    "    # And convert it into a list of tuples as described above\n",
    "    sim_scores = list(enumerate(cosine_sim[idx]))\n",
    "\n",
    "    # Sort the movies based on the cosine similarity scores\n",
    "    sim_scores = sorted(sim_scores, key=lambda x: x[1], reverse=True)\n",
    "\n",
    "    # Get the scores of the 10 most similar movies. Ignore the first movie.\n",
    "    sim_scores = sim_scores[1:11]\n",
    "\n",
    "    # Get the movie indices\n",
    "    movie_indices = [i[0] for i in sim_scores]\n",
    "\n",
    "    # Return the top 10 most similar movies\n",
    "    return df['title'].iloc[movie_indices]"
   ]
  },
  {
   "cell_type": "code",
   "execution_count": null,
   "metadata": {},
   "outputs": [],
   "source": [
    "# Import CountVectorizer\n",
    "from sklearn.feature_extraction.text import CountVectorizer\n",
    "from sklearn.metrics.pairwise import cosine_similarity\n",
    "\n",
    "count = CountVectorizer(stop_words='english')\n",
    "count_matrix = count.fit_transform(new_df['soup'])\n",
    "cosine_sim2 = cosine_similarity(count_matrix, count_matrix)\n",
    "\n",
    "\n",
    "new_df = new_df.reset_index()\n",
    "indices2 = pd.Series(new_df.index, index=new_df['title'])"
   ]
  },
  {
   "cell_type": "markdown",
   "metadata": {
    "hidden": true
   },
   "source": [
    "**Provide the following with your solution:**\n",
    "\n",
    "(a) After you have constructed it, print the \"soup\" for the first entry [0]."
   ]
  },
  {
   "cell_type": "code",
   "execution_count": null,
   "metadata": {},
   "outputs": [],
   "source": [
    "new_df.iloc[0]['soup']"
   ]
  },
  {
   "cell_type": "markdown",
   "metadata": {
    "hidden": true
   },
   "source": [
    "(b) List the top 10 recommended movies that go with the movie Road House. Display only the movie titles of your recommendations.\n",
    "\n",
    "\n",
    "Use the examples given in Banik's book as a guide."
   ]
  },
  {
   "cell_type": "code",
   "execution_count": null,
   "metadata": {},
   "outputs": [],
   "source": [
    "content_recommender('Road House', cosine_sim2, new_df, indices2)"
   ]
  }
 ],
 "metadata": {
  "kernelspec": {
   "display_name": "anaconda3",
   "language": "python",
   "name": "anaconda3"
  },
  "language_info": {
   "codemirror_mode": {
    "name": "ipython",
    "version": 3
   },
   "file_extension": ".py",
   "mimetype": "text/x-python",
   "name": "python",
   "nbconvert_exporter": "python",
   "pygments_lexer": "ipython3",
   "version": "3.7.4"
  },
  "toc": {
   "base_numbering": 1,
   "nav_menu": {},
   "number_sections": true,
   "sideBar": true,
   "skip_h1_title": false,
   "title_cell": "Table of Contents",
   "title_sidebar": "Contents",
   "toc_cell": false,
   "toc_position": {
    "height": "calc(100% - 180px)",
    "left": "10px",
    "top": "150px",
    "width": "260.517px"
   },
   "toc_section_display": true,
   "toc_window_display": true
  }
 },
 "nbformat": 4,
 "nbformat_minor": 2
}
