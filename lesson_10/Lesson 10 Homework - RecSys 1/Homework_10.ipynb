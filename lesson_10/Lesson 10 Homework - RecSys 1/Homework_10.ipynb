{
 "cells": [
  {
   "cell_type": "code",
   "execution_count": 1,
   "metadata": {
    "code_folding": [
     0
    ]
   },
   "outputs": [],
   "source": [
    "# execute to import notebook styling for tables and width etc.\n",
    "from IPython.core.display import HTML\n",
    "import urllib.request\n",
    "response = urllib.request.urlopen('https://raw.githubusercontent.com/DataScienceUWL/DS775v2/master/ds755.css')\n",
    "HTML(response.read().decode(\"utf-8\"));"
   ]
  },
  {
   "cell_type": "markdown",
   "metadata": {},
   "source": [
    "<font size=18>Lesson 10 Homework</font>"
   ]
  },
  {
   "cell_type": "markdown",
   "metadata": {
    "heading_collapsed": true
   },
   "source": [
    "# Build a Simple Recommender"
   ]
  },
  {
   "cell_type": "markdown",
   "metadata": {
    "hidden": true
   },
   "source": [
    "Use the data set **tmdb_5000_movies.csv** to build a simple recommender system with the following characteristics \n",
    "\n",
    "- movies in the to 50\\% according to the popularity score\n",
    "- movies with runtime of 80 minutes or more\n",
    "- movies with a budget between \\\\$10 and \\\\$100 million\n",
    "- movies with genre of either action or comedy\n",
    "\n",
    "then rank the movies according to the IMDB weighted rating formula that is described in the Banik textbook and print the top 10 highest rated movies with the characteristics listed above. \n",
    "\n",
    "**Provide the following with your solution:**\n",
    "\n",
    "(a) How many movies are in the original data frame?\n",
    "\n",
    "(b) What is the median for popularity score?\n",
    "\n",
    "(c) How many movies are in the reduced data frame (*i.e.* how many meet the selection criteria)?\n",
    "\n",
    "(d) Display only the movie title and the requested characteristics as well as the vote count, vote average, and IMDB weighted rating with your recommendations.\n",
    "\n",
    "This data set can be found in the presentation download for this lesson.  You will need to use the option **encoding = \"ISO-8859-1\"** in the **read_csv** function in order to open this file.  Use the examples given in Banik's book as a guide."
   ]
  },
  {
   "cell_type": "markdown",
   "metadata": {
    "heading_collapsed": true
   },
   "source": [
    "# Build a Knowledge-Based Recommender"
   ]
  },
  {
   "cell_type": "markdown",
   "metadata": {
    "hidden": true
   },
   "source": [
    "Use the data set **tmdb_5000_movies.csv** to build a knowledge-based recommender system that solicits the following information listed below and then ranks the movies according to the IMDB weighted rating formula. Use all available movies to begin with (*i.e.* don't restrict it to just the top 20%, for example) Print the top 5 highest rated movies for this recommendation. \n",
    "\n",
    "Ask the user to enter answers to the following questions:\n",
    "\n",
    "- Enter a preferred genre.\n",
    "- Enter another preferred genre.\n",
    "- Enter a minimum runtime (in minutes).\n",
    "- Enter a maximum runtime (in minutes).\n",
    "    \n",
    "Create the recommender to select movies with either genre entered.  \n",
    "\n",
    "Print a list of genres for the user to choose from before asking for their inputs.\n",
    "\n",
    "Have your recommender give recommendations for genres \"family\" and \"tv movie\" between of 50 and 120 minutes long and display only the movie title and the requested characteristics as well as the vote count, vote average, and IMDB weighted rating with your recommendations.\n",
    "\n",
    "Use the examples given in Banik's book as a guide."
   ]
  },
  {
   "cell_type": "markdown",
   "metadata": {
    "heading_collapsed": true
   },
   "source": [
    "# Build a Content-Based Recommender"
   ]
  },
  {
   "cell_type": "markdown",
   "metadata": {
    "hidden": true
   },
   "source": [
    "Use the data set **tmdb_5000_movies.csv** to build a meta-data based recommender by creating a \"soup\" and using cosine similarity based on the \n",
    "\n",
    "- all genres\n",
    "- top three keywords\n",
    "- top three production companies\n",
    "- overview\n",
    "\n",
    "**Provide the following with your solution:**\n",
    "\n",
    "(a) After you have constructed it, print the \"soup\" for the first entry [0].\n",
    "\n",
    "(b) List the top 10 recommended movies that go with the movie Road House. Display only the movie titles of your recommendations.\n",
    "\n",
    "\n",
    "Use the examples given in Banik's book as a guide."
   ]
  }
 ],
 "metadata": {
  "kernelspec": {
   "display_name": "Python 3",
   "language": "python",
   "name": "python3"
  },
  "language_info": {
   "codemirror_mode": {
    "name": "ipython",
    "version": 3
   },
   "file_extension": ".py",
   "mimetype": "text/x-python",
   "name": "python",
   "nbconvert_exporter": "python",
   "pygments_lexer": "ipython3",
   "version": "3.7.1"
  },
  "toc": {
   "base_numbering": 1,
   "nav_menu": {},
   "number_sections": true,
   "sideBar": true,
   "skip_h1_title": false,
   "title_cell": "Table of Contents",
   "title_sidebar": "Contents",
   "toc_cell": false,
   "toc_position": {
    "height": "calc(100% - 180px)",
    "left": "10px",
    "top": "150px",
    "width": "260.517px"
   },
   "toc_section_display": true,
   "toc_window_display": true
  }
 },
 "nbformat": 4,
 "nbformat_minor": 2
}
