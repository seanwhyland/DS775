{
 "cells": [
  {
   "cell_type": "code",
   "execution_count": 2,
   "metadata": {
    "code_folding": [
     0
    ]
   },
   "outputs": [],
   "source": [
    "# execute to import notebook styling for tables and width etc.\n",
    "from IPython.core.display import HTML\n",
    "import urllib.request\n",
    "response = urllib.request.urlopen('https://raw.githubusercontent.com/DataScienceUWL/DS775v2/master/ds755.css')\n",
    "HTML(response.read().decode(\"utf-8\"));"
   ]
  },
  {
   "cell_type": "code",
   "execution_count": 3,
   "metadata": {},
   "outputs": [],
   "source": [
    "import pandas as pd"
   ]
  },
  {
   "cell_type": "markdown",
   "metadata": {},
   "source": [
    "<font size=18>Lesson 10 Homework</font>"
   ]
  },
  {
   "cell_type": "markdown",
   "metadata": {
    "heading_collapsed": true
   },
   "source": [
    "# Build a Simple Recommender"
   ]
  },
  {
   "cell_type": "markdown",
   "metadata": {
    "hidden": true
   },
   "source": [
    "Use the data set **tmdb_5000_movies.csv** to build a simple recommender system with the following characteristics \n",
    "\n",
    "- movies in the to 50\\% according to the popularity score\n",
    "- movies with runtime of 80 minutes or more\n",
    "- movies with a budget between \\\\$10 and \\\\$100 million\n",
    "- movies with genre of either action or comedy\n",
    "\n",
    "then rank the movies according to the IMDB weighted rating formula that is described in the Banik textbook and print the top 10 highest rated movies with the characteristics listed above. "
   ]
  },
  {
   "cell_type": "markdown",
   "metadata": {},
   "source": [
    "### Code"
   ]
  },
  {
   "cell_type": "code",
   "execution_count": 4,
   "metadata": {},
   "outputs": [],
   "source": [
    "# make df\n",
    "tmdb_df = pd.read_csv(\"data/tmdb-5000-movie-dataset/tmdb_5000_movies.csv\", encoding=\"ISO-8859-1\")\n",
    "\n",
    "movie_indices = []\n",
    "for i in range(tmdb_df.shape[0]):\n",
    "    movie_ratings = eval(tmdb_df['genres'].iloc[i])\n",
    "\n",
    "    for rating in movie_ratings:\n",
    "        if rating['name'] == 'Action' or rating['name'] == 'Comedy':\n",
    "            movie_indices.append(i)\n",
    "\n",
    "movie_indices = set(movie_indices)\n",
    "\n",
    "# filter on genres (action or comedy)\n",
    "df_filtered = tmdb_df.filter(items=movie_indices, axis=0)\n",
    "\n",
    "# filter on other requests\n",
    "df_filtered = df_filtered[(df_filtered['popularity'] >= df_filtered['popularity'].quantile(.5)) & \n",
    "                      (df_filtered['runtime'] >= 80) & \n",
    "                      (df_filtered['budget'] >= 10000000) & \n",
    "                      (df_filtered['budget'] <= 100000000)]\n",
    "\n",
    "# create imdb weighted rating\n",
    "m = df_filtered['vote_count'].quantile(.25)\n",
    "r = df_filtered['vote_average']\n",
    "v = df_filtered['vote_count']\n",
    "c = r.mean()\n",
    "wr_imdb = ((v/(v+m))*r)+((m/(v+m))*c)\n",
    "\n",
    "# assign weighted rating as a column\n",
    "df_filtered = df_filtered.assign(weighted_rating=wr_imdb)\n",
    "\n",
    "# sort the filtered df by weighted rating\n",
    "df_filtered = df_filtered.sort_values('weighted_rating', ascending=False).reset_index()"
   ]
  },
  {
   "cell_type": "markdown",
   "metadata": {
    "hidden": true
   },
   "source": [
    "**Provide the following with your solution:**\n",
    "\n",
    "(a) How many movies are in the original data frame?"
   ]
  },
  {
   "cell_type": "code",
   "execution_count": 5,
   "metadata": {},
   "outputs": [
    {
     "data": {
      "text/plain": [
       "4803"
      ]
     },
     "execution_count": 5,
     "metadata": {},
     "output_type": "execute_result"
    }
   ],
   "source": [
    "tmdb_df.shape[0]"
   ]
  },
  {
   "cell_type": "markdown",
   "metadata": {
    "hidden": true
   },
   "source": [
    "(b) What is the median for popularity score?"
   ]
  },
  {
   "cell_type": "code",
   "execution_count": 6,
   "metadata": {},
   "outputs": [
    {
     "data": {
      "text/plain": [
       "12.921594"
      ]
     },
     "execution_count": 6,
     "metadata": {},
     "output_type": "execute_result"
    }
   ],
   "source": [
    "tmdb_df['popularity'].median()"
   ]
  },
  {
   "cell_type": "markdown",
   "metadata": {
    "hidden": true
   },
   "source": [
    "(c) How many movies are in the reduced data frame (*i.e.* how many meet the selection criteria)?"
   ]
  },
  {
   "cell_type": "code",
   "execution_count": 7,
   "metadata": {},
   "outputs": [
    {
     "data": {
      "text/plain": [
       "935"
      ]
     },
     "execution_count": 7,
     "metadata": {},
     "output_type": "execute_result"
    }
   ],
   "source": [
    "df_filtered.shape[0]"
   ]
  },
  {
   "cell_type": "markdown",
   "metadata": {
    "hidden": true
   },
   "source": [
    "(d) Display only the movie title and the requested characteristics as well as the vote count, vote average, and IMDB weighted rating with your recommendations."
   ]
  },
  {
   "cell_type": "code",
   "execution_count": 8,
   "metadata": {},
   "outputs": [
    {
     "data": {
      "text/html": [
       "<div>\n",
       "<style scoped>\n",
       "    .dataframe tbody tr th:only-of-type {\n",
       "        vertical-align: middle;\n",
       "    }\n",
       "\n",
       "    .dataframe tbody tr th {\n",
       "        vertical-align: top;\n",
       "    }\n",
       "\n",
       "    .dataframe thead th {\n",
       "        text-align: right;\n",
       "    }\n",
       "</style>\n",
       "<table border=\"1\" class=\"dataframe\">\n",
       "  <thead>\n",
       "    <tr style=\"text-align: right;\">\n",
       "      <th></th>\n",
       "      <th>original_title</th>\n",
       "      <th>weighted_rating</th>\n",
       "      <th>vote_count</th>\n",
       "      <th>vote_average</th>\n",
       "    </tr>\n",
       "  </thead>\n",
       "  <tbody>\n",
       "    <tr>\n",
       "      <td>0</td>\n",
       "      <td>Forrest Gump</td>\n",
       "      <td>8.092498</td>\n",
       "      <td>7927</td>\n",
       "      <td>8.2</td>\n",
       "    </tr>\n",
       "    <tr>\n",
       "      <td>1</td>\n",
       "      <td>The Empire Strikes Back</td>\n",
       "      <td>8.057728</td>\n",
       "      <td>5879</td>\n",
       "      <td>8.2</td>\n",
       "    </tr>\n",
       "    <tr>\n",
       "      <td>2</td>\n",
       "      <td>The Lord of the Rings: The Return of the King</td>\n",
       "      <td>7.999546</td>\n",
       "      <td>8064</td>\n",
       "      <td>8.1</td>\n",
       "    </tr>\n",
       "    <tr>\n",
       "      <td>3</td>\n",
       "      <td>Star Wars</td>\n",
       "      <td>7.979106</td>\n",
       "      <td>6624</td>\n",
       "      <td>8.1</td>\n",
       "    </tr>\n",
       "    <tr>\n",
       "      <td>4</td>\n",
       "      <td>The Lord of the Rings: The Fellowship of the Ring</td>\n",
       "      <td>7.911524</td>\n",
       "      <td>8705</td>\n",
       "      <td>8.0</td>\n",
       "    </tr>\n",
       "    <tr>\n",
       "      <td>...</td>\n",
       "      <td>...</td>\n",
       "      <td>...</td>\n",
       "      <td>...</td>\n",
       "      <td>...</td>\n",
       "    </tr>\n",
       "    <tr>\n",
       "      <td>930</td>\n",
       "      <td>Son of the Mask</td>\n",
       "      <td>5.095494</td>\n",
       "      <td>338</td>\n",
       "      <td>3.6</td>\n",
       "    </tr>\n",
       "    <tr>\n",
       "      <td>931</td>\n",
       "      <td>Left Behind</td>\n",
       "      <td>5.046314</td>\n",
       "      <td>392</td>\n",
       "      <td>3.7</td>\n",
       "    </tr>\n",
       "    <tr>\n",
       "      <td>932</td>\n",
       "      <td>Jack and Jill</td>\n",
       "      <td>5.004859</td>\n",
       "      <td>604</td>\n",
       "      <td>4.1</td>\n",
       "    </tr>\n",
       "    <tr>\n",
       "      <td>933</td>\n",
       "      <td>Catwoman</td>\n",
       "      <td>4.922550</td>\n",
       "      <td>808</td>\n",
       "      <td>4.2</td>\n",
       "    </tr>\n",
       "    <tr>\n",
       "      <td>934</td>\n",
       "      <td>Dragonball Evolution</td>\n",
       "      <td>4.539383</td>\n",
       "      <td>462</td>\n",
       "      <td>2.9</td>\n",
       "    </tr>\n",
       "  </tbody>\n",
       "</table>\n",
       "<p>935 rows × 4 columns</p>\n",
       "</div>"
      ],
      "text/plain": [
       "                                        original_title  weighted_rating  \\\n",
       "0                                         Forrest Gump         8.092498   \n",
       "1                              The Empire Strikes Back         8.057728   \n",
       "2        The Lord of the Rings: The Return of the King         7.999546   \n",
       "3                                            Star Wars         7.979106   \n",
       "4    The Lord of the Rings: The Fellowship of the Ring         7.911524   \n",
       "..                                                 ...              ...   \n",
       "930                                    Son of the Mask         5.095494   \n",
       "931                                        Left Behind         5.046314   \n",
       "932                                      Jack and Jill         5.004859   \n",
       "933                                           Catwoman         4.922550   \n",
       "934                               Dragonball Evolution         4.539383   \n",
       "\n",
       "     vote_count  vote_average  \n",
       "0          7927           8.2  \n",
       "1          5879           8.2  \n",
       "2          8064           8.1  \n",
       "3          6624           8.1  \n",
       "4          8705           8.0  \n",
       "..          ...           ...  \n",
       "930         338           3.6  \n",
       "931         392           3.7  \n",
       "932         604           4.1  \n",
       "933         808           4.2  \n",
       "934         462           2.9  \n",
       "\n",
       "[935 rows x 4 columns]"
      ]
     },
     "execution_count": 8,
     "metadata": {},
     "output_type": "execute_result"
    }
   ],
   "source": [
    "df_filtered[['original_title','weighted_rating','vote_count','vote_average']]"
   ]
  },
  {
   "cell_type": "markdown",
   "metadata": {
    "hidden": true
   },
   "source": [
    "This data set can be found in the presentation download for this lesson.  You will need to use the option **encoding = \"ISO-8859-1\"** in the **read_csv** function in order to open this file.  Use the examples given in Banik's book as a guide."
   ]
  },
  {
   "cell_type": "markdown",
   "metadata": {
    "heading_collapsed": true
   },
   "source": [
    "# Build a Knowledge-Based Recommender"
   ]
  },
  {
   "cell_type": "markdown",
   "metadata": {
    "hidden": true
   },
   "source": [
    "Use the data set **tmdb_5000_movies.csv** to build a knowledge-based recommender system that solicits the following information listed below and then ranks the movies according to the IMDB weighted rating formula. Use all available movies to begin with (*i.e.* don't restrict it to just the top 20%, for example) Print the top 5 highest rated movies for this recommendation. \n",
    "\n",
    "Ask the user to enter answers to the following questions:\n",
    "\n",
    "- Enter a preferred genre.\n",
    "- Enter another preferred genre.\n",
    "- Enter a minimum runtime (in minutes).\n",
    "- Enter a maximum runtime (in minutes).\n",
    "\n",
    "Print a list of genres for the user to choose from before asking for their inputs."
   ]
  },
  {
   "cell_type": "code",
   "execution_count": 34,
   "metadata": {},
   "outputs": [
    {
     "data": {
      "text/plain": [
       "['Action',\n",
       " 'Adventure',\n",
       " 'Fantasy',\n",
       " 'Science Fiction',\n",
       " 'Crime',\n",
       " 'Drama',\n",
       " 'Thriller',\n",
       " 'Animation',\n",
       " 'Family',\n",
       " 'Western',\n",
       " 'Comedy',\n",
       " 'Romance',\n",
       " 'Horror',\n",
       " 'Mystery',\n",
       " 'History',\n",
       " 'War',\n",
       " 'Music',\n",
       " 'Documentary',\n",
       " 'Foreign',\n",
       " 'TV Movie']"
      ]
     },
     "execution_count": 34,
     "metadata": {},
     "output_type": "execute_result"
    }
   ],
   "source": [
    "\n",
    "all_genres.tolist()"
   ]
  },
  {
   "cell_type": "code",
   "execution_count": 23,
   "metadata": {},
   "outputs": [],
   "source": []
  },
  {
   "cell_type": "markdown",
   "metadata": {
    "hidden": true
   },
   "source": [
    "Create the recommender to select movies with either genre entered.  "
   ]
  },
  {
   "cell_type": "code",
   "execution_count": 42,
   "metadata": {},
   "outputs": [],
   "source": [
    "def movie_recommender():\n",
    "    tmdb_df = pd.read_csv(\"data/tmdb-5000-movie-dataset/tmdb_5000_movies.csv\", encoding=\"ISO-8859-1\")\n",
    "    \n",
    "    # calculate unique genres\n",
    "    list_of_genres = []\n",
    "    \n",
    "    for i in range(tmdb_df.shape[0]):\n",
    "        genre_dict = eval(tmdb_df['genres'].iloc[i])\n",
    "        list_of_genres.extend(genre_dict)\n",
    "\n",
    "    genres_df = pd.DataFrame.from_dict(list_of_genres, orient='columns')\n",
    "    all_genres = ', '.join(genres_df['name'].unique().tolist())\n",
    "    \n",
    "    #present genres and get inputs\n",
    "    print(f\"See genres: {all_genres}\")\n",
    "    preferred_genre1 = input(\"Enter a preferred genre\")\n",
    "    preferred_genre2 = input(\"Enter another preferred genre\")\n",
    "    min_runtime = int(input(\"Enter min runtime\"))\n",
    "    max_runtime = int(input(\"Enter max runtime\"))\n",
    "    \n",
    "    movie_indices = []\n",
    "                             \n",
    "    # filter df by genre\n",
    "    for i in range(tmdb_df.shape[0]):\n",
    "        movie_ratings = eval(tmdb_df['genres'].iloc[i])\n",
    "        tmdb_df.loc[i, 'genres'] = ', '.join([rating['name'] for rating in movie_ratings])\n",
    "\n",
    "        for rating in movie_ratings:\n",
    "            if rating['name'] == preferred_genre1 or rating['name'] == preferred_genre2:\n",
    "                movie_indices.append(i)\n",
    "\n",
    "    movie_indices = set(movie_indices)\n",
    "\n",
    "    # filter on genres (action or comedy)\n",
    "    df_filtered = tmdb_df.filter(items=movie_indices, axis=0)\n",
    "\n",
    "    # filter on other requests\n",
    "    df_filtered = df_filtered[(df_filtered['runtime'] >= min_runtime) & \n",
    "                          (df_filtered['runtime'] <= max_runtime)]\n",
    "\n",
    "    # create imdb weighted rating\n",
    "    m = df_filtered['vote_count'].quantile(.25)\n",
    "    r = df_filtered['vote_average']\n",
    "    v = df_filtered['vote_count']\n",
    "    c = r.mean()\n",
    "    wr_imdb = round(((v/(v+m))*r)+((m/(v+m))*c),2)\n",
    "\n",
    "    # assign weighted rating as a column\n",
    "    df_filtered = df_filtered.assign(weighted_rating=wr_imdb)\n",
    "\n",
    "    # sort the filtered df by weighted rating\n",
    "    df_filtered = df_filtered.sort_values('weighted_rating', ascending=False).reset_index()\n",
    "    df_filtered = df_filtered[['original_title', 'genres', 'runtime', 'weighted_rating','vote_count','vote_average']]\n",
    "    return df_filtered.head()"
   ]
  },
  {
   "cell_type": "markdown",
   "metadata": {
    "hidden": true
   },
   "source": [
    "Have your recommender give recommendations for genres \"family\" and \"tv movie\" between of 50 and 120 minutes long and display only the movie title and the requested characteristics as well as the vote count, vote average, and IMDB weighted rating with your recommendations.\n",
    "\n",
    "Use the examples given in Banik's book as a guide."
   ]
  },
  {
   "cell_type": "code",
   "execution_count": 43,
   "metadata": {},
   "outputs": [
    {
     "name": "stdout",
     "output_type": "stream",
     "text": [
      "See genres: Action, Adventure, Fantasy, Science Fiction, Crime, Drama, Thriller, Animation, Family, Western, Comedy, Romance, Horror, Mystery, History, War, Music, Documentary, Foreign, TV Movie\n",
      "Enter a preferred genreFamily\n",
      "Enter another preferred genreTV Movie\n",
      "Enter min runtime50\n",
      "Enter max runtime120\n"
     ]
    },
    {
     "data": {
      "text/html": [
       "<div>\n",
       "<style scoped>\n",
       "    .dataframe tbody tr th:only-of-type {\n",
       "        vertical-align: middle;\n",
       "    }\n",
       "\n",
       "    .dataframe tbody tr th {\n",
       "        vertical-align: top;\n",
       "    }\n",
       "\n",
       "    .dataframe thead th {\n",
       "        text-align: right;\n",
       "    }\n",
       "</style>\n",
       "<table border=\"1\" class=\"dataframe\">\n",
       "  <thead>\n",
       "    <tr style=\"text-align: right;\">\n",
       "      <th></th>\n",
       "      <th>original_title</th>\n",
       "      <th>genres</th>\n",
       "      <th>runtime</th>\n",
       "      <th>weighted_rating</th>\n",
       "      <th>vote_count</th>\n",
       "      <th>vote_average</th>\n",
       "    </tr>\n",
       "  </thead>\n",
       "  <tbody>\n",
       "    <tr>\n",
       "      <td>0</td>\n",
       "      <td>Inside Out</td>\n",
       "      <td>Drama, Comedy, Animation, Family</td>\n",
       "      <td>94.0</td>\n",
       "      <td>7.98</td>\n",
       "      <td>6560</td>\n",
       "      <td>8.0</td>\n",
       "    </tr>\n",
       "    <tr>\n",
       "      <td>1</td>\n",
       "      <td>Back to the Future</td>\n",
       "      <td>Adventure, Comedy, Science Fiction, Family</td>\n",
       "      <td>116.0</td>\n",
       "      <td>7.97</td>\n",
       "      <td>6079</td>\n",
       "      <td>8.0</td>\n",
       "    </tr>\n",
       "    <tr>\n",
       "      <td>2</td>\n",
       "      <td>The Lion King</td>\n",
       "      <td>Family, Animation, Drama</td>\n",
       "      <td>89.0</td>\n",
       "      <td>7.97</td>\n",
       "      <td>5376</td>\n",
       "      <td>8.0</td>\n",
       "    </tr>\n",
       "    <tr>\n",
       "      <td>3</td>\n",
       "      <td>Big Hero 6</td>\n",
       "      <td>Adventure, Family, Animation, Action, Comedy</td>\n",
       "      <td>102.0</td>\n",
       "      <td>7.78</td>\n",
       "      <td>6135</td>\n",
       "      <td>7.8</td>\n",
       "    </tr>\n",
       "    <tr>\n",
       "      <td>4</td>\n",
       "      <td>WALLåáE</td>\n",
       "      <td>Animation, Family</td>\n",
       "      <td>98.0</td>\n",
       "      <td>7.78</td>\n",
       "      <td>6296</td>\n",
       "      <td>7.8</td>\n",
       "    </tr>\n",
       "  </tbody>\n",
       "</table>\n",
       "</div>"
      ],
      "text/plain": [
       "       original_title                                        genres  runtime  \\\n",
       "0          Inside Out              Drama, Comedy, Animation, Family     94.0   \n",
       "1  Back to the Future    Adventure, Comedy, Science Fiction, Family    116.0   \n",
       "2       The Lion King                      Family, Animation, Drama     89.0   \n",
       "3          Big Hero 6  Adventure, Family, Animation, Action, Comedy    102.0   \n",
       "4             WALLåáE                             Animation, Family     98.0   \n",
       "\n",
       "   weighted_rating  vote_count  vote_average  \n",
       "0             7.98        6560           8.0  \n",
       "1             7.97        6079           8.0  \n",
       "2             7.97        5376           8.0  \n",
       "3             7.78        6135           7.8  \n",
       "4             7.78        6296           7.8  "
      ]
     },
     "execution_count": 43,
     "metadata": {},
     "output_type": "execute_result"
    }
   ],
   "source": [
    "movie_recommender()"
   ]
  },
  {
   "cell_type": "markdown",
   "metadata": {
    "heading_collapsed": true
   },
   "source": [
    "# Build a Content-Based Recommender"
   ]
  },
  {
   "cell_type": "markdown",
   "metadata": {
    "hidden": true
   },
   "source": [
    "Use the data set **tmdb_5000_movies.csv** to build a meta-data based recommender by creating a \"soup\" and using cosine similarity based on the \n",
    "\n",
    "- all genres\n",
    "- top three keywords\n",
    "- top three production companies\n",
    "- overview\n",
    "\n",
    "**Provide the following with your solution:**\n",
    "\n",
    "(a) After you have constructed it, print the \"soup\" for the first entry [0].\n",
    "\n",
    "(b) List the top 10 recommended movies that go with the movie Road House. Display only the movie titles of your recommendations.\n",
    "\n",
    "\n",
    "Use the examples given in Banik's book as a guide."
   ]
  }
 ],
 "metadata": {
  "kernelspec": {
   "display_name": "anaconda3",
   "language": "python",
   "name": "anaconda3"
  },
  "language_info": {
   "codemirror_mode": {
    "name": "ipython",
    "version": 3
   },
   "file_extension": ".py",
   "mimetype": "text/x-python",
   "name": "python",
   "nbconvert_exporter": "python",
   "pygments_lexer": "ipython3",
   "version": "3.7.4"
  },
  "toc": {
   "base_numbering": 1,
   "nav_menu": {},
   "number_sections": true,
   "sideBar": true,
   "skip_h1_title": false,
   "title_cell": "Table of Contents",
   "title_sidebar": "Contents",
   "toc_cell": false,
   "toc_position": {
    "height": "calc(100% - 180px)",
    "left": "10px",
    "top": "150px",
    "width": "260.517px"
   },
   "toc_section_display": true,
   "toc_window_display": true
  }
 },
 "nbformat": 4,
 "nbformat_minor": 2
}
