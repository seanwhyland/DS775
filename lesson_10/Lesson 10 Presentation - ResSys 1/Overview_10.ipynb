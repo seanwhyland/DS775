{
 "cells": [
  {
   "cell_type": "code",
   "execution_count": 1,
   "metadata": {
    "code_folding": [
     0
    ]
   },
   "outputs": [],
   "source": [
    "# execute to import notebook styling for tables and width etc.\n",
    "from IPython.core.display import HTML\n",
    "import urllib.request\n",
    "response = urllib.request.urlopen('https://raw.githubusercontent.com/DataScienceUWL/DS775v2/master/ds755.css')\n",
    "HTML(response.read().decode(\"utf-8\"));"
   ]
  },
  {
   "cell_type": "markdown",
   "metadata": {},
   "source": [
    "<font size=18>Overview 10: Recommender Systems 1</font>"
   ]
  },
  {
   "cell_type": "markdown",
   "metadata": {
    "heading_collapsed": true
   },
   "source": [
    "## Topics"
   ]
  },
  {
   "cell_type": "markdown",
   "metadata": {
    "hidden": true
   },
   "source": [
    "* Ratings matrix\n",
    "* Types of recommender systems\n",
    "* Simple recommender systems \n",
    "* Knowledge-based recommender systems \n",
    "* Content-based recommender systems"
   ]
  },
  {
   "cell_type": "markdown",
   "metadata": {},
   "source": [
    "## Learning Outcomes"
   ]
  },
  {
   "cell_type": "markdown",
   "metadata": {},
   "source": [
    "The student will be able to:\n",
    "\n",
    "* identify the differences between user-based collaborative filters, item-based collaborative filters, simple recommenders, knowledge-based recommenders, content-based recommenders, and hybrid recommenders.\n",
    "* import, examine, and manipulate data using the Pandas library in Python.\n",
    "* build simple recommender systems.\n",
    "* build knowledge-based recommender systems.\n",
    "* build content-based recommender systems. "
   ]
  },
  {
   "cell_type": "markdown",
   "metadata": {},
   "source": [
    "* Reading\n",
    "    - Read the Preface and Chapters 1-4 from the pdf book *Hands-on Recommendation Systems with Python* by Rounak Banik:\n",
    "        - Preface (pp. 24-34)\n",
    "        - Getting Started with Recommender Systems (Ch. 1, pp. 35-50)\n",
    "        - Manipulating Data with the Pandas Library (Ch. 2, pp. 51-66)\n",
    "        - Building an IMDB Top 250 Clone with Pandas (Ch. 3, pp. 67-84)\n",
    "        - Building Content-Based Recommenders (Ch. 4, pp. 85-112)\n",
    "    \n",
    "\n",
    "* Work your way through the Jupyter notebook called Lesson_10.ipynb.  This is the main presentation and replaces the Storybook presentations used in our other courses.  Use the self-assessments to measure your understanding.\n",
    "\n",
    "\n",
    "* Do homework problems, create one Jupyter Notebook file, and submit it by the due date; be sure your name is in the filename that you use, such as “HW_10_Lastname.ipynb”.\n",
    "\n",
    "Use Piazza to ask questions when you have them and be sure to check Piazza regularly so you don't miss out on any good Q & A or other discussions."
   ]
  }
 ],
 "metadata": {
  "kernelspec": {
   "display_name": "Python 3",
   "language": "python",
   "name": "python3"
  },
  "language_info": {
   "codemirror_mode": {
    "name": "ipython",
    "version": 3
   },
   "file_extension": ".py",
   "mimetype": "text/x-python",
   "name": "python",
   "nbconvert_exporter": "python",
   "pygments_lexer": "ipython3",
   "version": "3.7.3"
  },
  "toc": {
   "base_numbering": 1,
   "nav_menu": {},
   "number_sections": true,
   "sideBar": true,
   "skip_h1_title": false,
   "title_cell": "Table of Contents",
   "title_sidebar": "Contents",
   "toc_cell": false,
   "toc_position": {
    "height": "calc(100% - 180px)",
    "left": "10px",
    "top": "150px",
    "width": "260.517px"
   },
   "toc_section_display": true,
   "toc_window_display": true
  }
 },
 "nbformat": 4,
 "nbformat_minor": 2
}
