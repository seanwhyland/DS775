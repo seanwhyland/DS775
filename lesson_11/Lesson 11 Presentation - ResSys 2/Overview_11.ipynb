{
 "cells": [
  {
   "cell_type": "code",
   "execution_count": 1,
   "metadata": {
    "code_folding": [
     0
    ]
   },
   "outputs": [],
   "source": [
    "# execute to import notebook styling for tables and width etc.\n",
    "from IPython.core.display import HTML\n",
    "import urllib.request\n",
    "response = urllib.request.urlopen('https://raw.githubusercontent.com/DataScienceUWL/DS775v2/master/ds755.css')\n",
    "HTML(response.read().decode(\"utf-8\"));"
   ]
  },
  {
   "cell_type": "markdown",
   "metadata": {},
   "source": [
    "<font size=18>Overview 11: Recommender Systems 2</font>"
   ]
  },
  {
   "cell_type": "markdown",
   "metadata": {},
   "source": [
    "# Topics"
   ]
  },
  {
   "cell_type": "markdown",
   "metadata": {},
   "source": [
    "* Review of data mining techniques  \n",
    "* User-based collaborative filtering\n",
    "* Item-based collaborative filtering\n",
    "* Model-based filters\n",
    "* Hybrid recommender systems"
   ]
  },
  {
   "cell_type": "markdown",
   "metadata": {},
   "source": [
    "# Learning Outcomes"
   ]
  },
  {
   "cell_type": "markdown",
   "metadata": {},
   "source": [
    "The student will be able to:\n",
    "\n",
    "* build user-based collaborative filters.\n",
    "* build item-based collaborative filters.\n",
    "* build model-based recommender systems.\n",
    "* build hybrid recommender systems."
   ]
  },
  {
   "cell_type": "markdown",
   "metadata": {},
   "source": [
    "# Student \"To Do\" Checklist"
   ]
  },
  {
   "cell_type": "markdown",
   "metadata": {},
   "source": [
    "* Reading\n",
    "    - Read chapters 5-7 from the pdf book *Hands-on Recommendation Systems with Python* by Rounak Banik:\n",
    "        - Ch. 5: Getting Started with Data Mining Techniques\n",
    "        - Ch. 6: Building Collaborative Filters\n",
    "        - Ch. 7: Hybrid Recommenders\n",
    "    \n",
    "* Work your way through the Jupyter notebook called Lesson_11.ipynb.  This is the main presentation and replaces the Storybook presentations used in our other courses.  Use the self-assessments to measure your understanding.\n",
    "    - Note:  we've included the notebooks that accompany the text on Github and CoCalc, but you won't be able to run the code in Hybrid Recommender.ipynb unless you download the file cosine_sim.csv from the link in the textbook.  The file is simply too large to host on Github or for us to put on CoCalc.\n",
    "\n",
    "\n",
    "* Complete the homework problems in Homework_11.ipynb on CoCalc.\n",
    "\n",
    "Use Piazza to ask questions when you have them and be sure to check Piazza regularly so you don't miss out on any good Q & A or other discussions."
   ]
  },
  {
   "cell_type": "code",
   "execution_count": null,
   "metadata": {},
   "outputs": [],
   "source": []
  }
 ],
 "metadata": {
  "kernelspec": {
   "display_name": "Python 3",
   "language": "python",
   "name": "python3"
  },
  "language_info": {
   "codemirror_mode": {
    "name": "ipython",
    "version": 3
   },
   "file_extension": ".py",
   "mimetype": "text/x-python",
   "name": "python",
   "nbconvert_exporter": "python",
   "pygments_lexer": "ipython3",
   "version": "3.7.4"
  },
  "toc": {
   "base_numbering": 1,
   "nav_menu": {},
   "number_sections": true,
   "sideBar": true,
   "skip_h1_title": false,
   "title_cell": "Table of Contents",
   "title_sidebar": "Contents",
   "toc_cell": false,
   "toc_position": {
    "height": "calc(100% - 180px)",
    "left": "10px",
    "top": "150px",
    "width": "234.363px"
   },
   "toc_section_display": true,
   "toc_window_display": true
  },
  "varInspector": {
   "cols": {
    "lenName": 16,
    "lenType": 16,
    "lenVar": 40
   },
   "kernels_config": {
    "python": {
     "delete_cmd_postfix": "",
     "delete_cmd_prefix": "del ",
     "library": "var_list.py",
     "varRefreshCmd": "print(var_dic_list())"
    },
    "r": {
     "delete_cmd_postfix": ") ",
     "delete_cmd_prefix": "rm(",
     "library": "var_list.r",
     "varRefreshCmd": "cat(var_dic_list()) "
    }
   },
   "types_to_exclude": [
    "module",
    "function",
    "builtin_function_or_method",
    "instance",
    "_Feature"
   ],
   "window_display": false
  }
 },
 "nbformat": 4,
 "nbformat_minor": 2
}
