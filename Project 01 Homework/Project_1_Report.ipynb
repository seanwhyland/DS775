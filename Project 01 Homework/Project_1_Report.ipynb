{
 "cells": [
  {
   "cell_type": "markdown",
   "metadata": {},
   "source": [
    "<font size=18>Project 1: Report</font>"
   ]
  },
  {
   "cell_type": "markdown",
   "metadata": {},
   "source": [
    "Use this Jupyter notebook to summarize the details of this project organized in the following sections. \n",
    "\n",
    "The file *Airfares.xlsx* contains real data that were collected between Q3-1996 and Q2-1997. The first sheet contains variable descriptions while the second sheet contains the data.  A csv file of the data is also provided (called *Airfares.csv*)."
   ]
  },
  {
   "cell_type": "markdown",
   "metadata": {},
   "source": [
    "# Introduction"
   ]
  },
  {
   "cell_type": "markdown",
   "metadata": {},
   "source": [
    "Summarize the problem statement, establishing the context and methods used in this project."
   ]
  },
  {
   "cell_type": "markdown",
   "metadata": {},
   "source": [
    "<font color = \"blue\"> *** 5 points -  answer in cell below *** (don't delete this cell) </font>"
   ]
  },
  {
   "cell_type": "markdown",
   "metadata": {},
   "source": [
    "The problem statement/goal in this project is for the aviation consulting firm to maximize airfares (avg. fare) given the opportunity presented by deregulation in the air travel industry.\n",
    "\n",
    "The consulting firm is seeking to maximize fares as a function of coupons, the Herfindel Index, and distance between 2 cities for each route. Fare maximization is constrained by the number of passengers, starting city income, and ending city income for each route - all of which are modeled as a function of the same predictors in the objective function."
   ]
  },
  {
   "cell_type": "markdown",
   "metadata": {},
   "source": [
    "# Linear Regression Models"
   ]
  },
  {
   "cell_type": "markdown",
   "metadata": {},
   "source": [
    "Provide a brief summary of the linear regression models used to estimate coefficients that will be used in the linear programming problem.  Explain why the multiple regression equations had to be fitted through the origin (consider the assumptions of linear programming)."
   ]
  },
  {
   "cell_type": "markdown",
   "metadata": {},
   "source": [
    "<font color = \"blue\"> *** 5 points -  answer in cell below *** (don't delete this cell) </font>"
   ]
  },
  {
   "cell_type": "code",
   "execution_count": 4,
   "metadata": {
    "scrolled": false
   },
   "outputs": [
    {
     "name": "stdout",
     "output_type": "stream",
     "text": [
      "------------ OBJECTIVE FUNCTION: ------------ \n",
      "                                 OLS Regression Results                                \n",
      "=======================================================================================\n",
      "Dep. Variable:                   FARE   R-squared (uncentered):                   0.911\n",
      "Model:                            OLS   Adj. R-squared (uncentered):              0.911\n",
      "Method:                 Least Squares   F-statistic:                              2165.\n",
      "Date:                Tue, 24 Sep 2019   Prob (F-statistic):                        0.00\n",
      "Time:                        13:59:59   Log-Likelihood:                         -3439.5\n",
      "No. Observations:                 638   AIC:                                      6885.\n",
      "Df Residuals:                     635   BIC:                                      6898.\n",
      "Df Model:                           3                                                  \n",
      "Covariance Type:            nonrobust                                                  \n",
      "==============================================================================\n",
      "                 coef    std err          t      P>|t|      [0.025      0.975]\n",
      "------------------------------------------------------------------------------\n",
      "COUPON        22.5900      6.697      3.373      0.001       9.440      35.740\n",
      "HI             0.0118      0.001     10.599      0.000       0.010       0.014\n",
      "DISTANCE       0.0833      0.004     18.991      0.000       0.075       0.092\n",
      "==============================================================================\n",
      "Omnibus:                       31.675   Durbin-Watson:                   0.990\n",
      "Prob(Omnibus):                  0.000   Jarque-Bera (JB):               16.008\n",
      "Skew:                           0.193   Prob(JB):                     0.000334\n",
      "Kurtosis:                       2.327   Cond. No.                     1.54e+04\n",
      "==============================================================================\n",
      "\n",
      "Warnings:\n",
      "[1] Standard Errors assume that the covariance matrix of the errors is correctly specified.\n",
      "[2] The condition number is large, 1.54e+04. This might indicate that there are\n",
      "strong multicollinearity or other numerical problems.\n",
      "COUPON      22.590019\n",
      "HI           0.011798\n",
      "DISTANCE     0.083336\n",
      "dtype: float64\n",
      "\n",
      " ------------ C1 FUNCTION: ------------\n",
      "                                 OLS Regression Results                                \n",
      "=======================================================================================\n",
      "Dep. Variable:                    PAX   R-squared (uncentered):                   0.424\n",
      "Model:                            OLS   Adj. R-squared (uncentered):              0.421\n",
      "Method:                 Least Squares   F-statistic:                              155.6\n",
      "Date:                Tue, 24 Sep 2019   Prob (F-statistic):                    1.32e-75\n",
      "Time:                        13:59:59   Log-Likelihood:                         -6993.6\n",
      "No. Observations:                 638   AIC:                                  1.399e+04\n",
      "Df Residuals:                     635   BIC:                                  1.401e+04\n",
      "Df Model:                           3                                                  \n",
      "Covariance Type:            nonrobust                                                  \n",
      "==============================================================================\n",
      "                 coef    std err          t      P>|t|      [0.025      0.975]\n",
      "------------------------------------------------------------------------------\n",
      "COUPON      1.082e+04   1758.617      6.152      0.000    7365.921    1.43e+04\n",
      "HI             0.2482      0.292      0.849      0.396      -0.326       0.822\n",
      "DISTANCE      -2.2980      1.152     -1.994      0.047      -4.561      -0.035\n",
      "==============================================================================\n",
      "Omnibus:                      345.744   Durbin-Watson:                   0.689\n",
      "Prob(Omnibus):                  0.000   Jarque-Bera (JB):             1848.009\n",
      "Skew:                           2.508   Prob(JB):                         0.00\n",
      "Kurtosis:                       9.660   Cond. No.                     1.54e+04\n",
      "==============================================================================\n",
      "\n",
      "Warnings:\n",
      "[1] Standard Errors assume that the covariance matrix of the errors is correctly specified.\n",
      "[2] The condition number is large, 1.54e+04. This might indicate that there are\n",
      "strong multicollinearity or other numerical problems.\n",
      "COUPON      10819.328522\n",
      "HI              0.248183\n",
      "DISTANCE       -2.298017\n",
      "dtype: float64\n",
      "\n",
      " ------------ C2 FUNCTION: ------------\n",
      "                                 OLS Regression Results                                \n",
      "=======================================================================================\n",
      "Dep. Variable:               S_INCOME   R-squared (uncentered):                   0.966\n",
      "Model:                            OLS   Adj. R-squared (uncentered):              0.966\n",
      "Method:                 Least Squares   F-statistic:                              6023.\n",
      "Date:                Tue, 24 Sep 2019   Prob (F-statistic):                        0.00\n",
      "Time:                        13:59:59   Log-Likelihood:                         -6359.1\n",
      "No. Observations:                 638   AIC:                                  1.272e+04\n",
      "Df Residuals:                     635   BIC:                                  1.274e+04\n",
      "Df Model:                           3                                                  \n",
      "Covariance Type:            nonrobust                                                  \n",
      "==============================================================================\n",
      "                 coef    std err          t      P>|t|      [0.025      0.975]\n",
      "------------------------------------------------------------------------------\n",
      "COUPON      2.091e+04    650.471     32.145      0.000    1.96e+04    2.22e+04\n",
      "HI             1.1146      0.108     10.309      0.000       0.902       1.327\n",
      "DISTANCE      -2.8310      0.426     -6.642      0.000      -3.668      -1.994\n",
      "==============================================================================\n",
      "Omnibus:                        6.012   Durbin-Watson:                   1.164\n",
      "Prob(Omnibus):                  0.049   Jarque-Bera (JB):                6.730\n",
      "Skew:                          -0.141   Prob(JB):                       0.0346\n",
      "Kurtosis:                       3.417   Cond. No.                     1.54e+04\n",
      "==============================================================================\n",
      "\n",
      "Warnings:\n",
      "[1] Standard Errors assume that the covariance matrix of the errors is correctly specified.\n",
      "[2] The condition number is large, 1.54e+04. This might indicate that there are\n",
      "strong multicollinearity or other numerical problems.\n",
      "COUPON      20909.191409\n",
      "HI              1.114583\n",
      "DISTANCE       -2.830983\n",
      "dtype: float64\n",
      "\n",
      " ------------ C3 FUNCTION: ------------\n",
      "                                 OLS Regression Results                                \n",
      "=======================================================================================\n",
      "Dep. Variable:               E_INCOME   R-squared (uncentered):                   0.962\n",
      "Model:                            OLS   Adj. R-squared (uncentered):              0.961\n",
      "Method:                 Least Squares   F-statistic:                              5288.\n",
      "Date:                Tue, 24 Sep 2019   Prob (F-statistic):                        0.00\n",
      "Time:                        13:59:59   Log-Likelihood:                         -6400.3\n",
      "No. Observations:                 638   AIC:                                  1.281e+04\n",
      "Df Residuals:                     635   BIC:                                  1.282e+04\n",
      "Df Model:                           3                                                  \n",
      "Covariance Type:            nonrobust                                                  \n",
      "==============================================================================\n",
      "                 coef    std err          t      P>|t|      [0.025      0.975]\n",
      "------------------------------------------------------------------------------\n",
      "COUPON      1.833e+04    693.900     26.416      0.000     1.7e+04    1.97e+04\n",
      "HI             1.4069      0.115     12.198      0.000       1.180       1.633\n",
      "DISTANCE      -1.0198      0.455     -2.243      0.025      -1.913      -0.127\n",
      "==============================================================================\n",
      "Omnibus:                        4.753   Durbin-Watson:                   0.540\n",
      "Prob(Omnibus):                  0.093   Jarque-Bera (JB):                4.842\n",
      "Skew:                           0.207   Prob(JB):                       0.0888\n",
      "Kurtosis:                       2.898   Cond. No.                     1.54e+04\n",
      "==============================================================================\n",
      "\n",
      "Warnings:\n",
      "[1] Standard Errors assume that the covariance matrix of the errors is correctly specified.\n",
      "[2] The condition number is large, 1.54e+04. This might indicate that there are\n",
      "strong multicollinearity or other numerical problems.\n",
      "COUPON      18330.370962\n",
      "HI              1.406882\n",
      "DISTANCE       -1.019802\n",
      "dtype: float64\n"
     ]
    }
   ],
   "source": [
    "import statsmodels.api as sm\n",
    "import pandas as pd\n",
    "\n",
    "vars = pd.read_csv(\"data/Airfares.csv\")\n",
    "\n",
    "# define predictor variables\n",
    "\n",
    "x = vars[['COUPON','HI','DISTANCE']]\n",
    "\n",
    "# define response variables\n",
    "y_fare = vars['FARE']\n",
    "y_pax = vars['PAX']\n",
    "y_s_income = vars['S_INCOME']\n",
    "y_e_income = vars['E_INCOME']\n",
    "\n",
    "# objective function fit\n",
    "model_obj = sm.OLS(y_fare, x).fit()\n",
    "coefs_obj = model_obj.params\n",
    "\n",
    "# constraint functions\n",
    "model_c1 = sm.OLS(y_pax, x).fit()\n",
    "model_c2 = sm.OLS(y_s_income, x).fit()\n",
    "model_c3 = sm.OLS(y_e_income, x).fit()\n",
    "coefs_c1 = model_c1.params\n",
    "coefs_c2 = model_c2.params\n",
    "coefs_c3 = model_c3.params\n",
    "\n",
    "print(f\"------------ OBJECTIVE FUNCTION: ------------ \\n{model_obj.summary()}\")\n",
    "print(coefs_obj)\n",
    "print(f\"\\n ------------ C1 FUNCTION: ------------\\n{model_c1.summary()}\")\n",
    "print(coefs_c1)\n",
    "print(f\"\\n ------------ C2 FUNCTION: ------------\\n{model_c2.summary()}\")\n",
    "print(coefs_c2)\n",
    "print(f\"\\n ------------ C3 FUNCTION: ------------\\n{model_c3.summary()}\")\n",
    "print(coefs_c3)"
   ]
  },
  {
   "cell_type": "markdown",
   "metadata": {},
   "source": [
    "<font color = \"blue\"> *** 5 points -  answer in cell below *** (don't delete this cell) </font>"
   ]
  },
  {
   "cell_type": "markdown",
   "metadata": {},
   "source": [
    "Type your summary and explanation here."
   ]
  },
  {
   "cell_type": "markdown",
   "metadata": {},
   "source": [
    "# Optimal LP Solution"
   ]
  },
  {
   "cell_type": "markdown",
   "metadata": {},
   "source": [
    "The optimal value of the airfare and for which values of COUPON, HI, and DISTANCE it occurs. "
   ]
  },
  {
   "cell_type": "markdown",
   "metadata": {},
   "source": [
    "<font color = \"blue\"> *** 8 points -  answer in cell below *** (don't delete this cell) </font>"
   ]
  },
  {
   "cell_type": "code",
   "execution_count": 0,
   "metadata": {},
   "outputs": [],
   "source": [
    "# code for Pyomo and nicely formatted output goes here"
   ]
  },
  {
   "cell_type": "markdown",
   "metadata": {},
   "source": [
    "# Sensitivity Report"
   ]
  },
  {
   "cell_type": "markdown",
   "metadata": {},
   "source": [
    "From the sensitivity report, explain which constraints are binding for the number of passengers on that route (PAX), the starting city’s average personal income (S_INCOME), and the ending city’s average personal income (E_INCOME). If the constraint is binding, interpret the shadow price in the context of the problem.  If the constraint is not binding, interpret the slack in the context of the problem."
   ]
  },
  {
   "cell_type": "markdown",
   "metadata": {},
   "source": [
    "<font color = \"blue\"> *** 5 points -  answer in cell below *** (don't delete this cell) </font>"
   ]
  },
  {
   "cell_type": "code",
   "execution_count": 0,
   "metadata": {},
   "outputs": [],
   "source": [
    "# code to generate and display sensitivity report goes here"
   ]
  },
  {
   "cell_type": "markdown",
   "metadata": {},
   "source": [
    "<font color = \"blue\"> *** 5 points -  answer in cell below *** (don't delete this cell) </font>"
   ]
  },
  {
   "cell_type": "markdown",
   "metadata": {},
   "source": [
    "Type explanations here."
   ]
  },
  {
   "cell_type": "markdown",
   "metadata": {},
   "source": [
    "# Activity Ranges"
   ]
  },
  {
   "cell_type": "markdown",
   "metadata": {},
   "source": [
    "Interpret the activity ranges (allowable ranges) for COUPON, HI, and DISTANCE in the context of the problem."
   ]
  },
  {
   "cell_type": "markdown",
   "metadata": {},
   "source": [
    "<font color = \"blue\"> *** 5 points -  answer in cell below *** (don't delete this cell) </font>"
   ]
  },
  {
   "cell_type": "markdown",
   "metadata": {},
   "source": [
    "Written interpretations of activity ranges go here."
   ]
  },
  {
   "cell_type": "markdown",
   "metadata": {},
   "source": [
    "# Conclusion"
   ]
  },
  {
   "cell_type": "markdown",
   "metadata": {},
   "source": [
    "Briefly summarize the main conclusion of this project, state what you see as any limitations of the methods used here, and suggest other possible methods of addressing the maximizing of airfare in this problem scenario."
   ]
  },
  {
   "cell_type": "markdown",
   "metadata": {},
   "source": [
    "<font color = \"blue\"> *** 7 points -  answer in cell below *** (don't delete this cell) </font>"
   ]
  },
  {
   "cell_type": "markdown",
   "metadata": {},
   "source": []
  },
  {
   "cell_type": "markdown",
   "metadata": {},
   "source": [
    "# Appendix"
   ]
  },
  {
   "cell_type": "markdown",
   "metadata": {},
   "source": [
    "Show the mathematical formulation for the linear programming problem used in this project."
   ]
  },
  {
   "cell_type": "markdown",
   "metadata": {},
   "source": [
    "You can either use LaTeX and markdown or take a clean, cropped picture of neatly handwritten equations and drag-n-drop it here.\n",
    "\n",
    "<font color = \"blue\"> *** 5 points -  answer in cell below *** (don't delete this cell) </font>"
   ]
  },
  {
   "cell_type": "markdown",
   "metadata": {},
   "source": []
  }
 ],
 "metadata": {
  "kernelspec": {
   "display_name": "anaconda3",
   "language": "python",
   "name": "anaconda3"
  },
  "language_info": {
   "codemirror_mode": {
    "name": "ipython",
    "version": 3
   },
   "file_extension": ".py",
   "mimetype": "text/x-python",
   "name": "python",
   "nbconvert_exporter": "python",
   "pygments_lexer": "ipython3",
   "version": "3.7.4"
  },
  "toc": {
   "base_numbering": 1,
   "nav_menu": {},
   "number_sections": true,
   "sideBar": true,
   "skip_h1_title": false,
   "title_cell": "Table of Contents",
   "title_sidebar": "Contents",
   "toc_cell": false,
   "toc_position": {},
   "toc_section_display": true,
   "toc_window_display": true
  }
 },
 "nbformat": 4,
 "nbformat_minor": 1
}
