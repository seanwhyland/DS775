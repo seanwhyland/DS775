{
 "cells": [
  {
   "cell_type": "code",
   "execution_count": 17,
   "metadata": {},
   "outputs": [
    {
     "data": {
      "text/html": [
       "<style>.container { width:80% !important; }</style>"
      ],
      "text/plain": [
       "<IPython.core.display.HTML object>"
      ]
     },
     "metadata": {},
     "output_type": "display_data"
    }
   ],
   "source": [
    "from IPython.core.display import display, HTML\n",
    "display(HTML(\"<style>.container { width:80% !important; }</style>\"))"
   ]
  },
  {
   "cell_type": "markdown",
   "metadata": {},
   "source": [
    "<font size=18>Project 1: Report</font>"
   ]
  },
  {
   "cell_type": "markdown",
   "metadata": {},
   "source": [
    "Use this Jupyter notebook to summarize the details of this project organized in the following sections. \n",
    "\n",
    "The file *Airfares.xlsx* contains real data that were collected between Q3-1996 and Q2-1997. The first sheet contains variable descriptions while the second sheet contains the data.  A csv file of the data is also provided (called *Airfares.csv*)."
   ]
  },
  {
   "cell_type": "markdown",
   "metadata": {},
   "source": [
    "# Introduction"
   ]
  },
  {
   "cell_type": "markdown",
   "metadata": {},
   "source": [
    "Summarize the problem statement, establishing the context and methods used in this project."
   ]
  },
  {
   "cell_type": "markdown",
   "metadata": {},
   "source": [
    "<font color = \"blue\"> *** 5 points -  answer in cell below *** (don't delete this cell) </font>"
   ]
  },
  {
   "cell_type": "markdown",
   "metadata": {},
   "source": [
    "The opportunity presented by industry-wide deregulation has caused a competitive environment between different entities in the aviation sector. The goal of this project is to maximize airfare. In particular, the consulting firm is seeking to maximize fares as a function of coupons, the Herfindel Index, and distance between 2 cities for each route. Fare maximization is constrained by the number of passengers, starting city income, and ending city income for each route - all of which are modeled as a function of the same predictors in the objective function."
   ]
  },
  {
   "cell_type": "markdown",
   "metadata": {},
   "source": [
    "# Linear Regression Models"
   ]
  },
  {
   "cell_type": "markdown",
   "metadata": {},
   "source": [
    "Provide a brief summary of the linear regression models used to estimate coefficients that will be used in the linear programming problem.  Explain why the multiple regression equations had to be fitted through the origin (consider the assumptions of linear programming)."
   ]
  },
  {
   "cell_type": "markdown",
   "metadata": {},
   "source": [
    "<font color = \"blue\"> *** 5 points -  answer in cell below *** (don't delete this cell) </font>"
   ]
  },
  {
   "cell_type": "code",
   "execution_count": 15,
   "metadata": {
    "scrolled": true
   },
   "outputs": [
    {
     "name": "stdout",
     "output_type": "stream",
     "text": [
      "\n",
      "------------ OBJECTIVE FUNCTION SUMMARY: ------------ \n",
      "\n",
      "                                 OLS Regression Results                                \n",
      "=======================================================================================\n",
      "Dep. Variable:                   FARE   R-squared (uncentered):                   0.911\n",
      "Model:                            OLS   Adj. R-squared (uncentered):              0.911\n",
      "Method:                 Least Squares   F-statistic:                              2165.\n",
      "Date:                Tue, 24 Sep 2019   Prob (F-statistic):                        0.00\n",
      "Time:                        18:37:20   Log-Likelihood:                         -3439.5\n",
      "No. Observations:                 638   AIC:                                      6885.\n",
      "Df Residuals:                     635   BIC:                                      6898.\n",
      "Df Model:                           3                                                  \n",
      "Covariance Type:            nonrobust                                                  \n",
      "==============================================================================\n",
      "                 coef    std err          t      P>|t|      [0.025      0.975]\n",
      "------------------------------------------------------------------------------\n",
      "COUPON        22.5900      6.697      3.373      0.001       9.440      35.740\n",
      "HI             0.0118      0.001     10.599      0.000       0.010       0.014\n",
      "DISTANCE       0.0833      0.004     18.991      0.000       0.075       0.092\n",
      "==============================================================================\n",
      "Omnibus:                       31.675   Durbin-Watson:                   0.990\n",
      "Prob(Omnibus):                  0.000   Jarque-Bera (JB):               16.008\n",
      "Skew:                           0.193   Prob(JB):                     0.000334\n",
      "Kurtosis:                       2.327   Cond. No.                     1.54e+04\n",
      "==============================================================================\n",
      "\n",
      "Warnings:\n",
      "[1] Standard Errors assume that the covariance matrix of the errors is correctly specified.\n",
      "[2] The condition number is large, 1.54e+04. This might indicate that there are\n",
      "strong multicollinearity or other numerical problems.\n",
      "\n",
      "\n",
      " ------------ PAX FUNCTION SUMMARY: ------------\n",
      "\n",
      "                                 OLS Regression Results                                \n",
      "=======================================================================================\n",
      "Dep. Variable:                    PAX   R-squared (uncentered):                   0.424\n",
      "Model:                            OLS   Adj. R-squared (uncentered):              0.421\n",
      "Method:                 Least Squares   F-statistic:                              155.6\n",
      "Date:                Tue, 24 Sep 2019   Prob (F-statistic):                    1.32e-75\n",
      "Time:                        18:37:20   Log-Likelihood:                         -6993.6\n",
      "No. Observations:                 638   AIC:                                  1.399e+04\n",
      "Df Residuals:                     635   BIC:                                  1.401e+04\n",
      "Df Model:                           3                                                  \n",
      "Covariance Type:            nonrobust                                                  \n",
      "==============================================================================\n",
      "                 coef    std err          t      P>|t|      [0.025      0.975]\n",
      "------------------------------------------------------------------------------\n",
      "COUPON      1.082e+04   1758.617      6.152      0.000    7365.921    1.43e+04\n",
      "HI             0.2482      0.292      0.849      0.396      -0.326       0.822\n",
      "DISTANCE      -2.2980      1.152     -1.994      0.047      -4.561      -0.035\n",
      "==============================================================================\n",
      "Omnibus:                      345.744   Durbin-Watson:                   0.689\n",
      "Prob(Omnibus):                  0.000   Jarque-Bera (JB):             1848.009\n",
      "Skew:                           2.508   Prob(JB):                         0.00\n",
      "Kurtosis:                       9.660   Cond. No.                     1.54e+04\n",
      "==============================================================================\n",
      "\n",
      "Warnings:\n",
      "[1] Standard Errors assume that the covariance matrix of the errors is correctly specified.\n",
      "[2] The condition number is large, 1.54e+04. This might indicate that there are\n",
      "strong multicollinearity or other numerical problems.\n",
      "\n",
      "\n",
      " ------------ S_INCOME FUNCTION SUMMARY: ------------\n",
      "\n",
      "                                 OLS Regression Results                                \n",
      "=======================================================================================\n",
      "Dep. Variable:               S_INCOME   R-squared (uncentered):                   0.966\n",
      "Model:                            OLS   Adj. R-squared (uncentered):              0.966\n",
      "Method:                 Least Squares   F-statistic:                              6023.\n",
      "Date:                Tue, 24 Sep 2019   Prob (F-statistic):                        0.00\n",
      "Time:                        18:37:20   Log-Likelihood:                         -6359.1\n",
      "No. Observations:                 638   AIC:                                  1.272e+04\n",
      "Df Residuals:                     635   BIC:                                  1.274e+04\n",
      "Df Model:                           3                                                  \n",
      "Covariance Type:            nonrobust                                                  \n",
      "==============================================================================\n",
      "                 coef    std err          t      P>|t|      [0.025      0.975]\n",
      "------------------------------------------------------------------------------\n",
      "COUPON      2.091e+04    650.471     32.145      0.000    1.96e+04    2.22e+04\n",
      "HI             1.1146      0.108     10.309      0.000       0.902       1.327\n",
      "DISTANCE      -2.8310      0.426     -6.642      0.000      -3.668      -1.994\n",
      "==============================================================================\n",
      "Omnibus:                        6.012   Durbin-Watson:                   1.164\n",
      "Prob(Omnibus):                  0.049   Jarque-Bera (JB):                6.730\n",
      "Skew:                          -0.141   Prob(JB):                       0.0346\n",
      "Kurtosis:                       3.417   Cond. No.                     1.54e+04\n",
      "==============================================================================\n",
      "\n",
      "Warnings:\n",
      "[1] Standard Errors assume that the covariance matrix of the errors is correctly specified.\n",
      "[2] The condition number is large, 1.54e+04. This might indicate that there are\n",
      "strong multicollinearity or other numerical problems.\n",
      "\n",
      "\n",
      " ------------ E_INCOME FUNCTION SUMMARY: ------------\n",
      "\n",
      "                                 OLS Regression Results                                \n",
      "=======================================================================================\n",
      "Dep. Variable:               E_INCOME   R-squared (uncentered):                   0.962\n",
      "Model:                            OLS   Adj. R-squared (uncentered):              0.961\n",
      "Method:                 Least Squares   F-statistic:                              5288.\n",
      "Date:                Tue, 24 Sep 2019   Prob (F-statistic):                        0.00\n",
      "Time:                        18:37:20   Log-Likelihood:                         -6400.3\n",
      "No. Observations:                 638   AIC:                                  1.281e+04\n",
      "Df Residuals:                     635   BIC:                                  1.282e+04\n",
      "Df Model:                           3                                                  \n",
      "Covariance Type:            nonrobust                                                  \n",
      "==============================================================================\n",
      "                 coef    std err          t      P>|t|      [0.025      0.975]\n",
      "------------------------------------------------------------------------------\n",
      "COUPON      1.833e+04    693.900     26.416      0.000     1.7e+04    1.97e+04\n",
      "HI             1.4069      0.115     12.198      0.000       1.180       1.633\n",
      "DISTANCE      -1.0198      0.455     -2.243      0.025      -1.913      -0.127\n",
      "==============================================================================\n",
      "Omnibus:                        4.753   Durbin-Watson:                   0.540\n",
      "Prob(Omnibus):                  0.093   Jarque-Bera (JB):                4.842\n",
      "Skew:                           0.207   Prob(JB):                       0.0888\n",
      "Kurtosis:                       2.898   Cond. No.                     1.54e+04\n",
      "==============================================================================\n",
      "\n",
      "Warnings:\n",
      "[1] Standard Errors assume that the covariance matrix of the errors is correctly specified.\n",
      "[2] The condition number is large, 1.54e+04. This might indicate that there are\n",
      "strong multicollinearity or other numerical problems.\n"
     ]
    }
   ],
   "source": [
    "import statsmodels.api as sm\n",
    "import pandas as pd\n",
    "\n",
    "vars = pd.read_csv(\"data/Airfares.csv\")\n",
    "\n",
    "# define predictor variables\n",
    "\n",
    "x = vars[['COUPON','HI','DISTANCE']]\n",
    "\n",
    "# define response variables\n",
    "y_fare = vars['FARE']\n",
    "y_pax = vars['PAX']\n",
    "y_s_income = vars['S_INCOME']\n",
    "y_e_income = vars['E_INCOME']\n",
    "\n",
    "# functions\n",
    "model_obj = sm.OLS(y_fare, x).fit()\n",
    "model_pax = sm.OLS(y_pax, x).fit()\n",
    "model_s_income = sm.OLS(y_s_income, x).fit()\n",
    "model_e_income = sm.OLS(y_e_income, x).fit()\n",
    "\n",
    "# coefficients\n",
    "coefs_obj = model_obj.params\n",
    "coefs_pax = model_pax.params\n",
    "coefs_s_income = model_s_income.params\n",
    "coefs_e_income = model_e_income.params\n",
    "\n",
    "print(f\"\\n------------ OBJECTIVE FUNCTION SUMMARY: ------------ \\n\\n{model_obj.summary()}\")\n",
    "print(f\"\\n\\n ------------ PAX FUNCTION SUMMARY: ------------\\n\\n{model_pax.summary()}\")\n",
    "print(f\"\\n\\n ------------ S_INCOME FUNCTION SUMMARY: ------------\\n\\n{model_s_income.summary()}\")\n",
    "print(f\"\\n\\n ------------ E_INCOME FUNCTION SUMMARY: ------------\\n\\n{model_e_income.summary()}\")"
   ]
  },
  {
   "cell_type": "markdown",
   "metadata": {},
   "source": [
    "<font color = \"blue\"> *** 5 points -  answer in cell below *** (don't delete this cell) </font>"
   ]
  },
  {
   "cell_type": "markdown",
   "metadata": {},
   "source": [
    "Above are the summary statistics for 4 functions:\n",
    "* Objective function to maximize airfare\n",
    "* Constraint function for PAX\n",
    "* Constraint function for S_INCOME\n",
    "* Constraint function for E_INCOME\n",
    "\n",
    "All of these functions share the same 3 predictors of *coupon*, *HI*, and *distance*. However, the first function is the objective function that we are seeking to maximize (airfare). The remaining 3 functions will be used to constrain the variables *coupon, HI, and distance* and thus maximum airfare. The right-hand side constraint values ($B_1$, $B_2$, $B_3$) are <= 20000, <= 30000, and >=30000 for PAX, S_INCOME and E_INCOME respectively.\n",
    "\n",
    "The tables of coefficients for each function indicate a number of useful statistics.  For example, the objective function summary indicates an adjusted R-squared of 0.911, which means that the fitted model explains 91% of total variance in the data. This is a fairly high predictive accuracy. With exception of the PAX constraint, the other constraint models offer a high adj. R-squared as well.\n",
    "\n",
    "Additionally, each coefficient itself is the amount that the response variable will change for a single unit increase in the predictor variable. Other important statistics in the summary tables are: \n",
    "* the t-statistics and p-values (indicating the significance of a coefficient on the response var under the null hypothesis)\n",
    "* 95% confidence intervals \n",
    "* the level of kurtosis and skewness\n",
    "\n",
    "Regarding fitting through the origin:\n",
    "* Multiple regression equations must be fitted through the origin in order to satisfy the proportionality constraint of linear programming.  Specifically, this means that \"the contribution of each activity $x_j$ to the value of the objective function is proportional to the level of the activity $x_j$\" (p.38, Introduction to Operations Research)."
   ]
  },
  {
   "cell_type": "markdown",
   "metadata": {},
   "source": [
    "# Optimal LP Solution"
   ]
  },
  {
   "cell_type": "markdown",
   "metadata": {},
   "source": [
    "The optimal value of the airfare and for which values of COUPON, HI, and DISTANCE it occurs. "
   ]
  },
  {
   "cell_type": "markdown",
   "metadata": {},
   "source": [
    "<font color = \"blue\"> *** 8 points -  answer in cell below *** (don't delete this cell) </font>"
   ]
  },
  {
   "cell_type": "code",
   "execution_count": 19,
   "metadata": {},
   "outputs": [
    {
     "name": "stdout",
     "output_type": "stream",
     "text": [
      "Max airfare =  203.55404681213537\n",
      "coupon =  1.14372280657134\n",
      "hi =  8000.0\n",
      "distance =  1000.0\n"
     ]
    }
   ],
   "source": [
    "# unfold to see Pyomo solution with a vector of decision variables\n",
    "from pyomo.environ import *\n",
    "\n",
    "# Concrete Model\n",
    "model = ConcreteModel(name=\"max_airfare\")\n",
    "\n",
    "predictors = ['coupon', 'hi', 'distance']\n",
    "\n",
    "bounds_dict = {'coupon': (0, 1.5), 'hi': (4000, 8000), 'distance': (500, 1000)}\n",
    "\n",
    "def bounds_rule(model, predictor):\n",
    "    return (bounds_dict[predictor])\n",
    "\n",
    "model.x = Var(predictors, domain=Reals, bounds=bounds_rule)\n",
    "\n",
    "# Objective func\n",
    "model.airfare = Objective(expr=coefs_obj[0] * model.x['coupon'] + coefs_obj[1] * model.x['hi'] + coefs_obj[2] * model.x['distance'],\n",
    "                         sense=maximize)\n",
    "# Constraint funcs\n",
    "model.pax = Constraint(expr=coefs_pax[0]*model.x['coupon'] + coefs_pax[1] * model.x['hi'] + coefs_pax[2]*model.x['distance'] <= 20000)\n",
    "model.s_income = Constraint(expr=coefs_s_income[0]*model.x['coupon'] + coefs_s_income[1]*model.x['hi'] + coefs_s_income[2]*model.x['distance'] <= 30000)\n",
    "model.e_income = Constraint(expr=coefs_e_income[0]*model.x['coupon'] + coefs_e_income[1]*model.x['hi'] + coefs_e_income[2]*model.x['distance'] >= 30000)\n",
    "\n",
    "# Solve\n",
    "solver = SolverFactory('glpk')\n",
    "solver.solve(model)\n",
    "\n",
    "# display solution\n",
    "import babel.numbers as numbers  # needed to display as currency\n",
    "print(\"Max airfare = \", model.airfare())\n",
    "print(\"coupon = \", model.x['coupon']())\n",
    "print(\"hi = \", model.x['hi']())\n",
    "print(\"distance = \", model.x['distance']())"
   ]
  },
  {
   "cell_type": "markdown",
   "metadata": {},
   "source": [
    "# Sensitivity Report"
   ]
  },
  {
   "cell_type": "markdown",
   "metadata": {},
   "source": [
    "From the sensitivity report, explain which constraints are binding for the number of passengers on that route (PAX), the starting city’s average personal income (S_INCOME), and the ending city’s average personal income (E_INCOME). If the constraint is binding, interpret the shadow price in the context of the problem.  If the constraint is not binding, interpret the slack in the context of the problem."
   ]
  },
  {
   "cell_type": "markdown",
   "metadata": {},
   "source": [
    "<font color = \"blue\"> *** 5 points -  answer in cell below *** (don't delete this cell) </font>"
   ]
  },
  {
   "cell_type": "code",
   "execution_count": 20,
   "metadata": {},
   "outputs": [
    {
     "name": "stdout",
     "output_type": "stream",
     "text": [
      "GLPSOL: GLPK LP/MIP Solver, v4.65\n",
      "Parameter(s) specified in the command line:\n",
      " -m model.lp --lp --ranges sensit.sen\n",
      "Reading problem data from 'model.lp'...\n",
      "4 rows, 4 columns, 10 non-zeros\n",
      "36 lines were read\n",
      "GLPK Simplex Optimizer, v4.65\n",
      "4 rows, 4 columns, 10 non-zeros\n",
      "Preprocessing...\n",
      "2 rows, 3 columns, 6 non-zeros\n",
      "Scaling...\n",
      " A: min|aij| =  1.020e+00  max|aij| =  2.091e+04  ratio =  2.050e+04\n",
      "GM: min|aij| =  7.309e-01  max|aij| =  1.368e+00  ratio =  1.872e+00\n",
      "EQ: min|aij| =  5.342e-01  max|aij| =  1.000e+00  ratio =  1.872e+00\n",
      "Constructing initial basis...\n",
      "Size of triangular part is 2\n",
      "      0: obj =   8.885866366e+01 inf =   2.215e+04 (1)\n",
      "      3: obj =   1.739717779e+02 inf =   0.000e+00 (0)\n",
      "*     4: obj =   2.035540468e+02 inf =   0.000e+00 (0)\n",
      "OPTIMAL LP SOLUTION FOUND\n",
      "Time used:   0.0 secs\n",
      "Memory used: 0.0 Mb (40412 bytes)\n",
      "Write sensitivity analysis report to 'sensit.sen'...\n",
      "GLPK 4.65 - SENSITIVITY ANALYSIS REPORT                                                                         Page   1\n",
      "\n",
      "Problem:    \n",
      "Objective:  airfare = 203.5540468 (MAXimum)\n",
      "\n",
      "   No. Row name     St      Activity         Slack   Lower bound       Activity      Obj coef  Obj value at Limiting\n",
      "                                          Marginal   Upper bound          range         range   break point variable\n",
      "------ ------------ -- ------------- ------------- -------------  ------------- ------------- ------------- ------------\n",
      "     1 c_u_pax_     BS   12061.75912    7938.24088          -Inf    11353.40212       -.00209     178.36992 c_u_s_income_\n",
      "                                            .        20000.00000    12979.23503        .03224     592.46257 x(hi)\n",
      "\n",
      "     2 c_u_s_income_\n",
      "                    NU   30000.00000        .               -Inf    28631.04516       -.00108     202.07505 c_l_e_income_\n",
      "                                            .00108   30000.00000    37449.46803          +Inf     211.60236 x(coupon)\n",
      "\n",
      "     3 c_l_e_income_\n",
      "                    BS   31200.11575   -1200.11575   30000.00000    10235.25243       -.00123     165.10359 c_u_s_income_\n",
      "                                            .               +Inf    31200.11575          +Inf          +Inf\n",
      "\n",
      "     4 c_e_ONE_VAR_CONSTANT\n",
      "                    NS       1.00000        .            1.00000         .               -Inf     203.55405 ONE_VAR_CONSTANT\n",
      "                                            .            1.00000           +Inf          +Inf     203.55405\n",
      "\n",
      "GLPK 4.65 - SENSITIVITY ANALYSIS REPORT                                                                         Page   2\n",
      "\n",
      "Problem:    \n",
      "Objective:  airfare = 203.5540468 (MAXimum)\n",
      "\n",
      "   No. Column name  St      Activity      Obj coef   Lower bound       Activity      Obj coef  Obj value at Limiting\n",
      "                                          Marginal   Upper bound          range         range   break point variable\n",
      "------ ------------ -- ------------- ------------- -------------  ------------- ------------- ------------- ------------\n",
      "     1 x(coupon)    BS       1.14372      22.59002        .             1.07825        .          177.71733 c_u_s_income_\n",
      "                                            .            1.50000        1.29258     221.32046     430.84659 x(hi)\n",
      "\n",
      "     2 x(distance)  NU    1000.00000        .08334     500.00000      179.14046       -.00306     132.63636 c_l_e_income_\n",
      "                                            .08639    1000.00000     3631.40702          +Inf     430.89292 x(coupon)\n",
      "\n",
      "     3 x(hi)        NU    8000.00000        .01180    4000.00000     5207.50816        .00120     173.97178 c_l_e_income_\n",
      "                                            .01059    8000.00000    29455.84475          +Inf     430.84659 x(coupon)\n",
      "\n",
      "     4 ONE_VAR_CONSTANT\n",
      "                    BS       1.00000        .             .             1.00000          -Inf          -Inf\n",
      "                                            .               +Inf        1.00000          +Inf          +Inf\n",
      "\n",
      "End of report\n",
      "\n"
     ]
    }
   ],
   "source": [
    "# write the model to a sensitivity report\n",
    "model.write('model.lp', io_options={'symbolic_solver_labels': True})\n",
    "!glpsol -m model.lp --lp --ranges sensit.sen\n",
    "\n",
    "# widen browser and/or close TOC to see sensitivity report\n",
    "import numpy as np\n",
    "np.set_printoptions(linewidth=110)\n",
    "f = open('sensit.sen', 'r')\n",
    "file_contents = f.read()\n",
    "print(file_contents)\n",
    "f.close()"
   ]
  },
  {
   "cell_type": "markdown",
   "metadata": {},
   "source": [
    "<font color = \"blue\"> *** 5 points -  answer in cell below *** (don't delete this cell) </font>"
   ]
  },
  {
   "cell_type": "markdown",
   "metadata": {},
   "source": [
    "From the sensitivity report, explain which constraints are binding for the number of passengers on that route (PAX), the starting city’s average personal income (S_INCOME), and the ending city’s average personal income (E_INCOME). If the constraint is binding, interpret the shadow price in the context of the problem.  If the constraint is not binding, interpret the slack in the context of the problem."
   ]
  },
  {
   "cell_type": "markdown",
   "metadata": {},
   "source": [
    "The only binding constraint is S_INCOME <= 30000. The shadow price of 0.0018 indicates that maximum airfare (Z) increases by 0.0018 dollars for a dollar increase in S_INCOME constraint (RHS), all other variables remaining unchanged.\n",
    "\n",
    "The non-binding constraints are PAX <= 20000 and E_INCOME >= 30000. The slack of of roughly 7,938 for PAX implies that the number of passengers on the route could increase by ~7,938 before hitting the upper bound of the constraint (RHS). In the case of E_INCOME, the -1,200 implies that the starting city's personal income could decrease by $1,200 before hitting the lower bound of the constraint (RHS)."
   ]
  },
  {
   "cell_type": "markdown",
   "metadata": {},
   "source": [
    "# Activity Ranges"
   ]
  },
  {
   "cell_type": "markdown",
   "metadata": {},
   "source": [
    "Interpret the activity ranges (allowable ranges) for COUPON, HI, and DISTANCE in the context of the problem."
   ]
  },
  {
   "cell_type": "markdown",
   "metadata": {},
   "source": [
    "<font color = \"blue\"> *** 5 points -  answer in cell below *** (don't delete this cell) </font>"
   ]
  },
  {
   "cell_type": "markdown",
   "metadata": {},
   "source": [
    "To quote the class text, \"for any $C_j$, its allowable range is the range of values for this coefficient over which the current optimal solution remains optimal, assuming no change in the other coefficients\" (p.139). The same idea applies to the (optimal) activity values/decision values for each variable.\n",
    "\n",
    "In the context of the problem:\n",
    "* The activity range for COUPON indicates that this decision variable can vary from 1.07825 to 1.29258 per route (assuming no change in the other variables) and still satisfy the optimal solution (Z).\n",
    "* The activity range of HI can vary from ~5207 to ~29456 (assuming no change in the other variables) and still satisfy the optimal solution (Z).\n",
    "* The activity range of distance can vary from ~179 to ~3631 miles (assuming no change in the other variables) and still satisfy the optimal solution (Z)."
   ]
  },
  {
   "cell_type": "markdown",
   "metadata": {},
   "source": [
    "# Conclusion"
   ]
  },
  {
   "cell_type": "markdown",
   "metadata": {},
   "source": [
    "Briefly summarize the main conclusion of this project, state what you see as any limitations of the methods used here, and suggest other possible methods of addressing the maximizing of airfare in this problem scenario."
   ]
  },
  {
   "cell_type": "markdown",
   "metadata": {},
   "source": [
    "<font color = \"blue\"> *** 7 points -  answer in cell below *** (don't delete this cell) </font>"
   ]
  },
  {
   "cell_type": "markdown",
   "metadata": {},
   "source": [
    "Max airfare =  203.55404681213537\n",
    "coupon =  1.14372280657134\n",
    "hi =  8000.0\n",
    "distance =  1000.0"
   ]
  },
  {
   "cell_type": "markdown",
   "metadata": {},
   "source": [
    "The maximum airfare for the circumstances given above is $203.55. At this price, the average number of coupons is 1.14, the Herfindel Index is 8000, and the distance between two cities is 1000 miles.\n",
    "\n",
    "In terms of limitations, I think perhaps there are a couple that come to mind. The first potential limitation is that only 3 predictor variables are used in modeling/regressing airfare, out of a possible 18. Although most of the models in this project (with exception of the PAX model) have a high adj. R-squared, it's possible that using more predictors could have further increased accuracy.\n",
    "\n",
    "Another limitation is the use of a concrete model whereas the use of an abstract model was possible."
   ]
  },
  {
   "cell_type": "markdown",
   "metadata": {},
   "source": [
    "# Appendix"
   ]
  },
  {
   "cell_type": "markdown",
   "metadata": {},
   "source": [
    "Show the mathematical formulation for the linear programming problem used in this project."
   ]
  },
  {
   "cell_type": "markdown",
   "metadata": {},
   "source": [
    "You can either use LaTeX and markdown or take a clean, cropped picture of neatly handwritten equations and drag-n-drop it here.\n",
    "\n",
    "<font color = \"blue\"> *** 5 points -  answer in cell below *** (don't delete this cell) </font>"
   ]
  },
  {
   "cell_type": "markdown",
   "metadata": {},
   "source": [
    "<table class=\"tleft\" width=\"40%\">\n",
    "    <tr>\n",
    "        <td align=\"left\" width=\"30%\" colspan=\"2\"><p> <b>Description</b></p></td>\n",
    "        <td align=\"left\"><p><b>Concrete Model</b></p></td>\n",
    "    </tr>\n",
    "    <tr>\n",
    "        <td align=\"left\" colspan=\"2\"> Maximize Cost = </td>\n",
    "        <td align=\"left\">\n",
    "            $22.59*(x_c) + 0.0118*(x_h) + 0.0833 (x_d) $\n",
    "        </td>\n",
    "    </tr>\n",
    "    <tr>\n",
    "        <td rowspan=\"3\">Constraints</td>\n",
    "        <td align=\"left\">PAX</td>\n",
    "        <td>$10819.32*(x_c) + 0.2481*(x_h) -2.2980*(x_d) <= 20000$</td>\n",
    "    </tr>\n",
    "    <tr>\n",
    "        <td>S_INCOME</td>\n",
    "        <td>$20909.19*(x_c) + 1.1145*(x_h) -2.8309*(x_d) <= 30000$</td>\n",
    "    </tr>\n",
    "    <tr>\n",
    "        <td>E_INCOME</td>\n",
    "        <td>$18330.37*(x_c) + 1.406*(x_h) -1.019*(x_d) >= 30000$</td>\n",
    "    </tr>\n",
    "</table>"
   ]
  }
 ],
 "metadata": {
  "kernelspec": {
   "display_name": "anaconda3",
   "language": "python",
   "name": "anaconda3"
  },
  "language_info": {
   "codemirror_mode": {
    "name": "ipython",
    "version": 3
   },
   "file_extension": ".py",
   "mimetype": "text/x-python",
   "name": "python",
   "nbconvert_exporter": "python",
   "pygments_lexer": "ipython3",
   "version": "3.7.4"
  },
  "toc": {
   "base_numbering": 1,
   "nav_menu": {},
   "number_sections": true,
   "sideBar": true,
   "skip_h1_title": false,
   "title_cell": "Table of Contents",
   "title_sidebar": "Contents",
   "toc_cell": false,
   "toc_position": {},
   "toc_section_display": true,
   "toc_window_display": true
  }
 },
 "nbformat": 4,
 "nbformat_minor": 1
}
