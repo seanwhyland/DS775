{
 "cells": [
  {
   "cell_type": "code",
   "execution_count": 1,
   "metadata": {
    "code_folding": [
     0
    ]
   },
   "outputs": [],
   "source": [
    "# execute to import notebook styling for tables and width etc.\n",
    "from IPython.core.display import HTML\n",
    "import urllib.request\n",
    "response = urllib.request.urlopen('https://raw.githubusercontent.com/DataScienceUWL/DS775v2/master/ds755.css')\n",
    "HTML(response.read().decode(\"utf-8\"));"
   ]
  },
  {
   "cell_type": "markdown",
   "metadata": {},
   "source": [
    "<font size=18>Overview 09: Decision Analysis</font> "
   ]
  },
  {
   "cell_type": "markdown",
   "metadata": {},
   "source": [
    "# Topics"
   ]
  },
  {
   "cell_type": "markdown",
   "metadata": {},
   "source": [
    "* Decision analysis\n",
    "* Probability tree diagrams\n",
    "* Decision trees"
   ]
  },
  {
   "cell_type": "markdown",
   "metadata": {},
   "source": [
    "# Learning Outcomes"
   ]
  },
  {
   "cell_type": "markdown",
   "metadata": {},
   "source": [
    "The student will be able to: \n",
    "\n",
    "* given a problem scenario, develop a decision analysis formulation by stating decision alternatives, identifying the states of nature, and creating the payoff table.\n",
    "* given a payoff table with alternatives, states of nature, and prior probabilities for the states of nature, use the maximum payoff criterion to select a decision alternative.\n",
    "* given a payoff table with alternatives, states of nature, and prior probabilities for the states of nature, use the maximum likelihood criterion to select a decision alternative.\n",
    "* given a payoff table with alternatives, states of nature, and prior probabilities for the states of nature, use Bayes’ decision rule to select a decision alternative.\n",
    "* given a payoff table with alternatives, states of nature, and prior probabilities for the states of nature, conduct sensitivity analysis for a variety of possible prior probabilities. \n",
    "* given a payoff table with alternatives, states of nature, and prior probabilities for the states of nature, compute the expected value of perfect information (EVPI).\n",
    "* given a payoff table with alternatives, states of nature, and prior probabilities for the states of nature, compute the posterior probabilities for a the findings of experimentation.\n",
    "* given a payoff table with alternatives, states of nature, prior probabilities for the states of nature, and the posterior probabilities for a the findings of experimentation, compute the expected value of experimentation (EVE)..\n",
    "* construct and solve a decision tree based on a payoff table with alternatives, states of nature, and prior probabilities for the states of nature as well as the outcomes from experimentation.\n",
    "* perform sensitivity analysis on a decision tree."
   ]
  },
  {
   "cell_type": "markdown",
   "metadata": {},
   "source": [
    "# Student \"To Do\" Checklist"
   ]
  },
  {
   "cell_type": "markdown",
   "metadata": {},
   "source": [
    "* Reading\n",
    "    * read Hillier Sections 16.1-16.5 & 16.8.\n",
    "* Work your way through the Jupyter notebook called Lesson_09.ipynb.  This is the main presentation and replaces the Storybook presentations used in our other courses.  Use the self-assessments to measure your understanding.  There is a separate Jupyter notebook file with self-assessment solutions in the lesson folder.  *Self-assessments are not collected and do not count toward your grade.*\n",
    "* Complete the homework notebook in CoCalc by the due date which is shown both in Canvas and CoCalc.\n",
    "\n",
    "Use Piazza to ask questions when you have them and be sure to check Piazza regularly so you don't miss out on any good Q & A or other discussions."
   ]
  }
 ],
 "metadata": {
  "kernelspec": {
   "display_name": "Python 3",
   "language": "python",
   "name": "python3"
  },
  "language_info": {
   "codemirror_mode": {
    "name": "ipython",
    "version": 3
   },
   "file_extension": ".py",
   "mimetype": "text/x-python",
   "name": "python",
   "nbconvert_exporter": "python",
   "pygments_lexer": "ipython3",
   "version": "3.7.3"
  },
  "toc": {
   "base_numbering": 1,
   "nav_menu": {},
   "number_sections": true,
   "sideBar": true,
   "skip_h1_title": false,
   "title_cell": "Table of Contents",
   "title_sidebar": "Contents",
   "toc_cell": false,
   "toc_position": {
    "height": "calc(100% - 180px)",
    "left": "10px",
    "top": "150px",
    "width": "209.067px"
   },
   "toc_section_display": true,
   "toc_window_display": true
  }
 },
 "nbformat": 4,
 "nbformat_minor": 2
}
