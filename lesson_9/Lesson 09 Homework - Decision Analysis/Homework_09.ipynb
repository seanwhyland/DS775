{
 "cells": [
  {
   "cell_type": "code",
   "execution_count": 1,
   "metadata": {
    "code_folding": [
     0
    ]
   },
   "outputs": [],
   "source": [
    "# execute to import notebook styling for tables and width etc.\n",
    "from IPython.core.display import HTML\n",
    "import urllib.request\n",
    "response = urllib.request.urlopen('https://raw.githubusercontent.com/DataScienceUWL/DS775v2/master/ds755.css')\n",
    "HTML(response.read().decode(\"utf-8\"));"
   ]
  },
  {
   "cell_type": "markdown",
   "metadata": {},
   "source": [
    "<font size=18>Lesson 09 Homework</font>"
   ]
  },
  {
   "cell_type": "markdown",
   "metadata": {},
   "source": [
    "<font color = \"red\">**Including images in notebooks**</font> . We continue to have trouble with viewing some images in submitted homework.  We have no doubt that they appear correctly on your computer, but they don't always render correctly on our end.  The best way to include images is put the image file in the same folder as the notebook and then include an html image tag in a markdown cell.  You can adjust the width as needed:\n",
    "\n",
    "```<img src=\"myfile.png\" width=600>```\n",
    "\n",
    "If you're scanning images, please crop them and make sure they're oriented correctly.  An app like CamScanner produces really nice black and white \"scans\" using only your phone."
   ]
  },
  {
   "cell_type": "markdown",
   "metadata": {
    "heading_collapsed": true
   },
   "source": [
    "# Decision Rule"
   ]
  },
  {
   "cell_type": "markdown",
   "metadata": {
    "hidden": true
   },
   "source": [
    "Choosing the decision alternative with the maximum payoff for the most likely state of nature is called\n",
    "\n",
    "a. the maximum likelihood criterion.  \n",
    "\n",
    "b. Bayes’ decision rule.\n",
    "\n",
    "c. maximin payoff criterion.\n",
    "\n",
    "d. sensitivity analysis.\n",
    "\n",
    "e. the crossover point.\n",
    "\n",
    "<font color = \"blue\"> *** 2 points -  answer in cell below *** (don't delete this cell) </font>"
   ]
  },
  {
   "cell_type": "markdown",
   "metadata": {
    "hidden": true
   },
   "source": [
    "<font color = \"green\">\n",
    "Maximum likelihood criterion \n",
    "</font>"
   ]
  },
  {
   "cell_type": "markdown",
   "metadata": {
    "heading_collapsed": true
   },
   "source": [
    "# Probabilities"
   ]
  },
  {
   "cell_type": "markdown",
   "metadata": {
    "hidden": true
   },
   "source": [
    "Experimentation costs money in decision analysis, but it may be worth it because it provides improved estimates of the probabilities of the states of nature called\n",
    "\n",
    "a. prototype probabilities.\n",
    "\n",
    "b. prior probabilities.\n",
    "\n",
    "c. posterior probabilities. \n",
    "\n",
    "d. popular probabilities.\n",
    "\n",
    "e. payoff probabilities.\n",
    "\n",
    "<font color = \"blue\"> *** 2 points -  answer in cell below *** (don't delete this cell) </font>"
   ]
  },
  {
   "cell_type": "markdown",
   "metadata": {
    "hidden": true
   },
   "source": [
    "<font color = \"green\">\n",
    "Prior probabilities\n",
    "</font>"
   ]
  },
  {
   "cell_type": "markdown",
   "metadata": {
    "heading_collapsed": true
   },
   "source": [
    "# Textbook Problem 16.2-3 (a,b,c,d)"
   ]
  },
  {
   "cell_type": "markdown",
   "metadata": {
    "hidden": true
   },
   "source": [
    "Jean Clark is the manager of the Midtown Saveway Grocery Store. She now needs to replenish her supply of strawberries. Her regular supplier can provide as many cases as she wants. However, because these strawberries already are very ripe, she will need to sell them tomorrow and then discard any that remain unsold. Jean estimates that she will be able to sell 12, 13, 14, or 15 cases tomorrow. She can purchase the strawberries for \\\\$7 per case and sell them for \\\\$18 per case. Jean now needs to decide how many cases to purchase.\n",
    "\n",
    "Jean has checked the store’s records on daily sales of straw- berries. On this basis, she estimates that the prior probabilities are 0.1, 0.3, 0.4, and 0.2 for being able to sell 12, 13, 14, and 15 cases of strawberries tomorrow.\n",
    "\n",
    "**(a)** Develop a decision analysis formulation of this problem by\n",
    "identifying the decision alternatives, the states of nature, and\n",
    "the payoff table.  Handwritten is OK, but please put your image file in the folder with your notebook and include an html tag like below in your markdown (adjust width as needed):\n",
    "\n",
    "```\n",
    "<img src=\"myfile.png\" width=600>\n",
    "```\n",
    "\n",
    "<font color = \"blue\"> *** 5 points -  answer in cell below *** (don't delete this cell) </font>"
   ]
  },
  {
   "cell_type": "markdown",
   "metadata": {
    "hidden": true
   },
   "source": [
    "| Alternatives | State | \n",
    "|--------------|-------| \n",
    "| a1           | 12    | \n",
    "| a2           | 13    | \n",
    "| a3           | 14    | \n",
    "| a4           | 15    | \n",
    "\n",
    "| Probabilities |     | \n",
    "|---------------|-----| \n",
    "| a1            | 0.1 | \n",
    "| a2            | 0.3 | \n",
    "| a3            | 0.4 | \n",
    "| a4            | 0.2 | "
   ]
  },
  {
   "cell_type": "markdown",
   "metadata": {
    "hidden": true
   },
   "source": [
    "**(b)** How many cases of strawberries should Jean purchase if she\n",
    "uses the maximin payoff criterion?\n",
    "\n",
    "<font color = \"blue\"> *** 1 points -  answer in cell below *** (don't delete this cell) </font>"
   ]
  },
  {
   "cell_type": "markdown",
   "metadata": {
    "hidden": true
   },
   "source": [
    "<font color = \"green\">\n",
    "15\n",
    "</font>"
   ]
  },
  {
   "cell_type": "markdown",
   "metadata": {
    "hidden": true
   },
   "source": [
    "**(c)** How many cases should be purchased according to the maximum likelihood criterion?\n",
    "\n",
    "<font color = \"blue\"> *** 1 points -  answer in cell below *** (don't delete this cell) </font>"
   ]
  },
  {
   "cell_type": "markdown",
   "metadata": {
    "hidden": true
   },
   "source": [
    "<font color = \"green\">\n",
    "14  \n",
    "</font>"
   ]
  },
  {
   "cell_type": "markdown",
   "metadata": {
    "hidden": true
   },
   "source": [
    "**(d)** How many cases should be purchased according to Bayes’ decision rule?\n",
    "\n",
    "<font color = \"blue\"> *** 1 points -  answer in cell below *** (don't delete this cell) </font>"
   ]
  },
  {
   "cell_type": "code",
   "execution_count": 2,
   "metadata": {
    "hidden": true
   },
   "outputs": [
    {
     "data": {
      "text/plain": [
       "13.7"
      ]
     },
     "execution_count": 2,
     "metadata": {},
     "output_type": "execute_result"
    }
   ],
   "source": [
    "outcome = (12*.1)+(13*.3)+(14*.4)+(15*.2)\n",
    "outcome"
   ]
  },
  {
   "cell_type": "markdown",
   "metadata": {
    "heading_collapsed": true
   },
   "source": [
    "# Textbook Problem 16.2-5 "
   ]
  },
  {
   "cell_type": "markdown",
   "metadata": {
    "hidden": true
   },
   "source": [
    "Reconsider Prob. 16.2-4. Warren Buffy decides that Bayes’ decision rule is his most reliable decision criterion. He believes that 0.1 is just about right as the prior probability of an improving economy, but is quite uncertain about how to split the remaining probabilities between a stable economy and a worsening economy. Therefore, he now wishes to do sensitivity analysis with respect to these latter two prior probabilities.\n",
    "\n",
    "Problem 16.2-4 says:\n",
    "\n",
    "Warren Buffy is an enormously wealthy investor who has built his fortune through his legendary investing acumen. He currently has been offered three major investments and he would like to choose one. The first one is a conservative investment that would perform very well in an improving economy and only suffer a small loss in a worsening economy. The second is a speculative investment that would perform extremely well in an improving economy but would do very badly in a worsening economy. The third is a counter- cyclical investment that would lose some money in an improving economy but would perform well in a worsening economy.\n",
    "Warren believes that there are three possible scenarios over the lives of these potential investments: (1) an improving economy, (2) a stable economy, and (3) a worsening economy. He is pessimistic about where the economy is headed, and so has assigned prior probabilities of 0.1, 0.5, and 0.4, respectively, to these three scenarios. He also estimates that his profits under these respective scenarios are those given by the following table:\n",
    "\n",
    "<img src=\"images/screen-prob16_2-4.png\" alt=\"Solution\" width=\"400\" height=\"110\"> \n",
    "\n",
    "(a) Reapply Bayes’ decision rule when the prior probability of a stable economy is 0.3 and the prior probability of a worsening economy is 0.6.  Demonstrate work somehow, e.g. scanned image, LaTeX, Python cell, ...\n",
    "\n",
    "<font color = \"blue\"> *** 2 points -  answer in cell below *** (don't delete this cell) </font>"
   ]
  },
  {
   "cell_type": "code",
   "execution_count": 3,
   "metadata": {
    "hidden": true
   },
   "outputs": [
    {
     "name": "stdout",
     "output_type": "stream",
     "text": [
      "Best decision is the Countercyclical investment with an expected payoff of $800000.0\n"
     ]
    }
   ],
   "source": [
    "import numpy as np\n",
    "\n",
    "alternatives = [\"Conservative\",\"Speculative\",\"Countercyclical\"]\n",
    "prior_probs = np.array([0.1, 0.3, 0.6])\n",
    "alt_states = [[30,5,-10],[40,10,-30],[-10,0,15]]\n",
    "\n",
    "def bayes_calc(prior_probs, alt_states):\n",
    "    alt_states = [state*100000 for alt in alt_states for state in alt]\n",
    "    alt_states = [alt_states[i:i + 3] for i in range(0, len(alt_states), 3)]\n",
    "\n",
    "    expected_payoffs = {}\n",
    "\n",
    "    for i, alt in enumerate(alt_states):\n",
    "        ep = sum(prior_probs * np.array(alt))\n",
    "        expected_payoffs[i] = ep\n",
    "\n",
    "    best_alt = max(expected_payoffs, key=expected_payoffs.get)\n",
    "    max_val = expected_payoffs[best_alt]\n",
    "    return best_alt, max_val\n",
    "\n",
    "best_alt, max_val = bayes_calc(prior_probs, alt_states)\n",
    "print(f\"Best decision is the {alternatives[best_alt]} investment with an expected payoff of ${max_val}\")"
   ]
  },
  {
   "cell_type": "markdown",
   "metadata": {
    "hidden": true
   },
   "source": [
    "(b) Reapply Bayes’ decision rule when the prior probability of a stable economy is 0.7 and the prior probability of a worsening economy is 0.2.  Demonstrate work somehow, e.g. scanned image, LaTeX, Python cell, ...\n",
    "\n",
    "<font color = \"blue\"> *** 2 points -  answer in cell below *** (don't delete this cell) </font>"
   ]
  },
  {
   "cell_type": "code",
   "execution_count": 4,
   "metadata": {
    "hidden": true
   },
   "outputs": [
    {
     "name": "stdout",
     "output_type": "stream",
     "text": [
      "Best decision is the Speculative investment with an expected payoff of $500000.0\n"
     ]
    }
   ],
   "source": [
    "prior_probs = np.array([0.1, 0.7, 0.2])\n",
    "best_alt, max_val = bayes_calc(prior_probs, alt_states)\n",
    "print(f\"Best decision is the {alternatives[best_alt]} investment with an expected payoff of ${max_val}\")"
   ]
  },
  {
   "cell_type": "markdown",
   "metadata": {
    "hidden": true
   },
   "source": [
    "(c) Graph the expected profit for each of the three investment alternatives versus the prior probability of a stable economy on the same graph (with the prior probability of an improving economy fixed at 0.1, so use $p$ for the probability of a stable economy and $1-.1-p$ for the worsening economy). Use this graph to identify the values of $p$ for the crossover points where the decision shifts from one investment to another.  Include screenshot or scan.\n",
    "\n",
    "<font color = \"blue\"> *** 2 points -  answer in cell below *** (don't delete this cell) </font>"
   ]
  },
  {
   "cell_type": "markdown",
   "metadata": {
    "hidden": true
   },
   "source": [
    "<img src=\"prob2.png\" width=600>"
   ]
  },
  {
   "cell_type": "markdown",
   "metadata": {
    "hidden": true
   },
   "source": [
    "(d) Use algebra (or DESMOS) to solve for the crossover points identified in part (c).  Include a screenshot or scan or LaTeX.  \n",
    "\n",
    "<font color = \"blue\"> *** 2 points -  answer in cell below *** (don't delete this cell) </font>"
   ]
  },
  {
   "cell_type": "markdown",
   "metadata": {
    "hidden": true
   },
   "source": [
    "$\n",
    "\\begin{array}{l}\n",
    "15*p - 6 = 40*p - 23 \\\\\n",
    "12.5*p - 6 = 12.5 - 15*p \\\\\n",
    "40*p - 23 = 12.5 - 15*p \\\\\n",
    "\\end{array}\n",
    "$\n",
    "\n",
    "Results:\n",
    "\n",
    "$\n",
    "\\begin{array}{l}\n",
    "p_1 = (0.68,4.2) \\\\\n",
    "p_2 = (0.616,3.26) \\\\\n",
    "p_3 = (0.645,2.8) \\\\\n",
    "\\end{array}\n",
    "$"
   ]
  },
  {
   "cell_type": "markdown",
   "metadata": {
    "hidden": true
   },
   "source": [
    "(e) Develop a graph that plots the expected profit (when using Bayes’ decision rule, i.e. the optimal profit) versus the prior probability of a stable economy.  Include screenshot or scan.\n",
    "\n",
    "<font color = \"blue\"> *** 2 points -  answer in cell below *** (don't delete this cell) </font>"
   ]
  },
  {
   "cell_type": "code",
   "execution_count": 5,
   "metadata": {
    "hidden": true
   },
   "outputs": [
    {
     "data": {
      "image/png": "[encoded data removed]",
      "text/plain": [
       "<Figure size 432x288 with 1 Axes>"
      ]
     },
     "metadata": {
      "needs_background": "light"
     },
     "output_type": "display_data"
    }
   ],
   "source": [
    "import numpy as np\n",
    "import matplotlib.pyplot as plt\n",
    "\n",
    "%matplotlib inline\n",
    "p_vals = np.arange(.1,1,step=.1)\n",
    "y_vals = []\n",
    "fixed = 0.1\n",
    "\n",
    "for p in p_vals:\n",
    "    expected_profits = []\n",
    "    for alt in alt_states:\n",
    "        y = (alt[0]*fixed)+(alt[1]*p)+(alt[2]*(1-fixed-p))\n",
    "        expected_profits.append(y)\n",
    "    y_vals.append(max(expected_profits))\n",
    "\n",
    "plt.scatter(p_vals, y_vals, alpha=0.9)\n",
    "plt.title('Expected profit vs prior probability')\n",
    "plt.xlabel('P values (of stable economy)')\n",
    "plt.ylabel('Expected profits')\n",
    "plt.show()"
   ]
  },
  {
   "cell_type": "markdown",
   "metadata": {
    "heading_collapsed": true
   },
   "source": [
    "# Textbook Problem 16.3-12"
   ]
  },
  {
   "cell_type": "markdown",
   "metadata": {
    "hidden": true
   },
   "source": [
    "The Hit-and-Miss Manufacturing Company produces items that have a probability $p$ of being defective. These items are produced in lots of 150. Past experience indicates that $p$ for an entire lot is either 0.05 or 0.25. Furthermore, in 80 percent of the lots produced, $p$ equals 0.05 (so $p$ equals 0.25 in 20 percent of the lots). These items are then used in an assembly, and ultimately their quality is determined before the final assembly leaves the plant. Initially the company can either screen each item in a lot at a cost of \\\\$10 per item and replace defective items or use the items directly without screening. If the latter action is chosen, the cost of rework is ultimately \\\\$100 per defective item. Because screening requires scheduling of inspectors and equipment, the decision to screen or not screen must be made 2 days before the screening is to take place. However, one item can be taken from the lot and sent to a laboratory for inspection, and its quality (defective or nondefective) can be reported before the screen/no screen decision must be made. The cost of this initial inspection is \\\\$125.\n",
    "\n",
    "**(a)** Develop a decision analysis formulation of this problem by identifying the decision alternatives, the states of nature, and the payoff table if the single item is not inspected in advance.  Work can be demonstrated with markdown and LaTeX and/or scanned images.\n",
    "\n",
    "<font color = \"blue\"> *** 4 points -  answer in cell below *** (don't delete this cell) </font>"
   ]
  },
  {
   "cell_type": "markdown",
   "metadata": {
    "hidden": true
   },
   "source": [
    "| Alternatives | States of nature        | \n",
    "|--------------|-------------------------| \n",
    "| Screen       | \\$10 per item            | \n",
    "| Don't screen | \\$100 per defective item | \n",
    "| Pre-screen   | \\$125                    | \n",
    "\n",
    "| Payoff table | 0.05         | 0.25        | \n",
    "|--------------|--------------|-------------| \n",
    "| Screen       | 150 * -10       | 150 * -10      | \n",
    "| Don't screen | 0.05 * 150 * -100 | .25 * 150 * -100 |\n",
    "| Prior probs  | 0.8  | 0.2  | \n",
    "\n",
    "| Payoff table | 0.05 | 0.25 | \n",
    "|--------------|------|------| \n",
    "| Screen       | -1500 | -1500 | \n",
    "| Don't screen | -750  | -3750 | \n",
    "| Prior probs  | 0.8  | 0.2  | "
   ]
  },
  {
   "cell_type": "markdown",
   "metadata": {
    "hidden": true
   },
   "source": [
    "**(b)** Assuming the single item is not inspected in advance, use Bayes’ decision rule to determine which decision alternative should be chosen.\n",
    "\n",
    "<font color = \"blue\"> *** 2 points -  answer in cell below *** (don't delete this cell) </font>"
   ]
  },
  {
   "cell_type": "markdown",
   "metadata": {
    "hidden": true
   },
   "source": [
    "| Alternatives | Expected Payoff | \n",
    "|--------------|-----------------| \n",
    "| Screen       | -1500            | \n",
    "| Don't screen | -1350            | \n",
    "\n",
    "The company should choose not to screen."
   ]
  },
  {
   "cell_type": "markdown",
   "metadata": {
    "hidden": true
   },
   "source": [
    "**(c)** Find EVPI.  Does this answer indicate that consideration should be given to inspecting the single item in advance\n",
    "\n",
    "<font color = \"blue\"> *** 1 points -  answer in cell below *** (don't delete this cell) </font>"
   ]
  },
  {
   "cell_type": "code",
   "execution_count": 6,
   "metadata": {
    "hidden": true
   },
   "outputs": [
    {
     "data": {
      "text/plain": [
       "450.0"
      ]
     },
     "execution_count": 6,
     "metadata": {},
     "output_type": "execute_result"
    }
   ],
   "source": [
    "bayes_max = -1350\n",
    "EVPI = (-750*.8)+(-1500*.2) - bayes_max\n",
    "EVPI"
   ]
  },
  {
   "cell_type": "markdown",
   "metadata": {},
   "source": [
    "Yes, it would be worthwhile to consider inspecting items in advance"
   ]
  },
  {
   "cell_type": "markdown",
   "metadata": {
    "hidden": true
   },
   "source": [
    "(d) Assume now that the single item is inspected in advance. Find the posterior probabilities of the respective states of nature for each of the two possible outcomes of this inspection.\n",
    "\n",
    "<font color = \"blue\"> *** 2 points -  answer in cell below *** (don't delete this cell) </font>"
   ]
  },
  {
   "cell_type": "code",
   "execution_count": 7,
   "metadata": {
    "hidden": true
   },
   "outputs": [
    {
     "data": {
      "text/plain": [
       "(0.4444444444444445,\n",
       " 0.5555555555555555,\n",
       " 0.043956043956043966,\n",
       " 0.054945054945054944)"
      ]
     },
     "execution_count": 7,
     "metadata": {},
     "output_type": "execute_result"
    }
   ],
   "source": [
    "prob_screen = ((0.05*0.8)+(0.25*0.2))\n",
    "prob_dont_screen = 1 - prob_screen\n",
    "\n",
    "s1_screen_pp = (0.05*0.8)/prob_screen\n",
    "s2_screen_pp = (0.25*0.2)/prob_screen\n",
    "s1_dont_screen_pp = (0.05*0.8)/prob_dont_screen\n",
    "s2_dont_screen_pp = (0.25*0.2)/prob_dont_screen\n",
    "\n",
    "s1_screen_pp, s2_screen_pp, s1_dont_screen_pp, s2_dont_screen_pp"
   ]
  },
  {
   "cell_type": "markdown",
   "metadata": {
    "hidden": true
   },
   "source": [
    "(e) Find EVE. Is inspecting the single item worthwhile? \n",
    "\n",
    "<font color = \"blue\"> *** 1 points -  answer in cell below *** (don't delete this cell) </font>"
   ]
  },
  {
   "cell_type": "code",
   "execution_count": 8,
   "metadata": {
    "hidden": true
   },
   "outputs": [
    {
     "data": {
      "text/plain": [
       "1080.0"
      ]
     },
     "execution_count": 8,
     "metadata": {},
     "output_type": "execute_result"
    }
   ],
   "source": [
    "import numpy as np\n",
    "\n",
    "post_probs_screen = np.array([s1_screen_pp, s2_screen_pp])\n",
    "post_probs_dont_screen = np.array([s1_dont_screen_pp, s2_dont_screen_pp])\n",
    "\n",
    "screen_payoffs = np.array([-1500,-1500])\n",
    "dont_screen_payoffs = np.array([-750,-3750])\n",
    "alternatives = [screen_payoffs, dont_screen_payoffs]\n",
    "\n",
    "expected_payoffs_screen = []\n",
    "expected_payoffs_dont_screen = []\n",
    "\n",
    "for alt in alternatives:\n",
    "    ep = sum(alt*post_probs_screen)\n",
    "    expected_payoffs_screen.append(ep)\n",
    "    \n",
    "for alt in alternatives:\n",
    "    ep = sum(alt*post_probs_dont_screen)\n",
    "    expected_payoffs_dont_screen.append(ep)\n",
    "    \n",
    "ep_screen = max(expected_payoffs_screen)\n",
    "ep_dont_screen = max(expected_payoffs_dont_screen)\n",
    "\n",
    "ep_screen, ep_dont_screen\n",
    "\n",
    "eve = (prob_screen*ep_screen + prob_dont_screen*ep_dont_screen) - bayes_max\n",
    "eve"
   ]
  },
  {
   "cell_type": "markdown",
   "metadata": {
    "hidden": true
   },
   "source": [
    "(f) If screening is used and the item selected is defective, then all items will be screened in the lot at a cost of \\\\$10 per item and defective items will be replaced, otherwise items will be used directly without screening and the cost of rework is \\\\$100 per defective item. Construct the decision tree in Silver Decisions and determine the optimal policy.  Include a screenshot of your tree below and describe the optimal policy.\n",
    "\n",
    "<font color = \"blue\"> *** 4 points -  answer in cell below *** (don't delete this cell) </font>"
   ]
  },
  {
   "cell_type": "markdown",
   "metadata": {
    "hidden": true
   },
   "source": [
    "<img src=\"3f.png\" width=600>"
   ]
  },
  {
   "cell_type": "markdown",
   "metadata": {},
   "source": [
    "Don't screen."
   ]
  },
  {
   "cell_type": "markdown",
   "metadata": {
    "heading_collapsed": true
   },
   "source": [
    "# Textbook Problem 16.5-7"
   ]
  },
  {
   "cell_type": "markdown",
   "metadata": {
    "hidden": true
   },
   "source": [
    "The Morton Ward Company is considering the introduction of a new product that is believed to have a 50-50 chance of being successful. One option is to try out the product in a test market, at a cost of \\\\$5 million, before making the introduction decision. Past experience shows that ultimately successful products are approved in the test market 80 percent of the time, whereas ultimately unsuccessful products are approved in the test market only 25 percent of the time. If the product is successful, the net profit to the company will be \\\\$40 million; if unsuccessful, the net loss will be \\\\$15 million.\n",
    "\n",
    "**(a)** Discarding the option of trying out the product in a test market, develop a decision analysis formulation of the problem by identifying the decision alternatives, states of nature, and payoff table. Then apply Bayes’ decision rule to determine the optimal decision alternative.\n",
    "\n",
    "<font color = \"blue\"> *** 3 points -  answer in cell below *** (don't delete this cell) </font>"
   ]
  },
  {
   "cell_type": "markdown",
   "metadata": {
    "hidden": true
   },
   "source": [
    "| Alternatives      | Success | Failure | \n",
    "|-------------------|---------|---------| \n",
    "| Introduce product | 40      | -15     | \n",
    "| Prior probs       | 0.5     | 0.5     | \n",
    "\n",
    "| Alternatives      | Expected Payoff | \n",
    "|-------------------|-----------------| \n",
    "| Introduce product | 12.5            | \n",
    "\n",
    "Introduce the product for an expected payoff of \\$12.5M"
   ]
  },
  {
   "cell_type": "code",
   "execution_count": 9,
   "metadata": {},
   "outputs": [
    {
     "data": {
      "text/plain": [
       "12.5"
      ]
     },
     "execution_count": 9,
     "metadata": {},
     "output_type": "execute_result"
    }
   ],
   "source": [
    "bayes_max = (40*.5)+(-15*.5)\n",
    "bayes_max"
   ]
  },
  {
   "cell_type": "markdown",
   "metadata": {
    "hidden": true
   },
   "source": [
    "**(b)** Find EVPI.\n",
    "\n",
    "<font color = \"blue\"> *** 2 points -  answer in cell below *** (don't delete this cell) </font>"
   ]
  },
  {
   "cell_type": "code",
   "execution_count": 10,
   "metadata": {
    "hidden": true
   },
   "outputs": [
    {
     "data": {
      "text/plain": [
       "7.5"
      ]
     },
     "execution_count": 10,
     "metadata": {},
     "output_type": "execute_result"
    }
   ],
   "source": [
    "evpi = (40*.5)-bayes_max\n",
    "evpi"
   ]
  },
  {
   "cell_type": "markdown",
   "metadata": {
    "hidden": true
   },
   "source": [
    "**(c)** Now include the option of trying out the product in a test\n",
    "market. Construct and solve the decision tree for this problem. \n",
    "\n",
    "<font color = \"blue\"> *** 3 points -  answer in cell below *** (don't delete this cell) </font>"
   ]
  },
  {
   "attachments": {},
   "cell_type": "markdown",
   "metadata": {
    "hidden": true
   },
   "source": [
    "| Alternatives | Success | Failure | \n",
    "|--------------|---------|---------| \n",
    "| Test product | 40      | -15     | \n",
    "| Prior probs  | 0.8     | 0.25    | \n",
    "\n",
    "| Alternatives      | Expected Payoff | \n",
    "|-------------------|-----------------| \n",
    "| Test product | 9.125          | "
   ]
  },
  {
   "cell_type": "code",
   "execution_count": 11,
   "metadata": {},
   "outputs": [
    {
     "data": {
      "text/plain": [
       "9.125"
      ]
     },
     "execution_count": 11,
     "metadata": {},
     "output_type": "execute_result"
    }
   ],
   "source": [
    "ep = (40*.8*.5)+(-15*.25*.5)-5\n",
    "ep"
   ]
  },
  {
   "cell_type": "markdown",
   "metadata": {},
   "source": [
    "Don't test the new product but launch instead"
   ]
  },
  {
   "cell_type": "markdown",
   "metadata": {
    "hidden": true
   },
   "source": [
    "**(d)** Perform sensitivity analysis systematically for the option considered in part (c) by generating a data table that shows the optimal policy and the expected payoff when the prior probability that the new product will be successful is 0, 0.1, 0.2,..., 1.\n",
    "\n",
    "<font color = \"blue\"> *** 3 points -  answer in cell below *** (don't delete this cell) </font>"
   ]
  },
  {
   "cell_type": "markdown",
   "metadata": {
    "hidden": true
   },
   "source": [
    "<img src=\"prob4.png\" width=1000>"
   ]
  },
  {
   "cell_type": "markdown",
   "metadata": {},
   "source": [
    "I had trouble generating sensitivity analysis report"
   ]
  },
  {
   "cell_type": "markdown",
   "metadata": {
    "hidden": true
   },
   "source": [
    "**(e)** Assume now that the prior probability that the new product will be successful is 0.5. However, there is some uncertainty in the stated profit and loss figures (\\\\$40 million and \\\\$15 million). Either could vary from its base by as much as 25 percent in either direction. Generate a graph for each that plots the expected profit over this range of variability.\n",
    "\n",
    "<font color = \"blue\"> *** 3 points -  answer in cell below *** (don't delete this cell) </font>"
   ]
  },
  {
   "cell_type": "code",
   "execution_count": 12,
   "metadata": {
    "hidden": true
   },
   "outputs": [
    {
     "data": {
      "image/png": "[encoded data removed]",
      "text/plain": [
       "<Figure size 720x576 with 1 Axes>"
      ]
     },
     "metadata": {
      "needs_background": "light"
     },
     "output_type": "display_data"
    }
   ],
   "source": [
    "import numpy as np\n",
    "import matplotlib.pyplot as plt\n",
    "\n",
    "%matplotlib inline\n",
    "\n",
    "profit_vals = [40*.75,40,40*1.25]*3\n",
    "loss_vals = sorted([-15*.75,-15,-15*1.25]*3)\n",
    "# bl = {}\n",
    "bl = {\"x\":[], \"y\":[], \"label\":[]}\n",
    "\n",
    "for p in profit_vals:\n",
    "    for l in loss_vals:\n",
    "        bayes_max = (p*.5)+(l*.5)\n",
    "        bl['x'].append(l)\n",
    "        bl['y'].append(p)\n",
    "        bl['label'].append(bayes_max)\n",
    "\n",
    "\n",
    "# display scatter plot data\n",
    "plt.figure(figsize=(10,8))\n",
    "plt.title('Scatter Plot', fontsize=20)\n",
    "plt.xlabel('Loss', fontsize=15)\n",
    "plt.ylabel('Profit', fontsize=15)\n",
    "plt.scatter(bl[\"x\"], bl[\"y\"], marker = 'o')\n",
    "\n",
    "# add labels\n",
    "for label, x, y in zip(bl[\"label\"], bl[\"x\"], bl[\"y\"]):\n",
    "    plt.annotate(label, xy = (x, y))"
   ]
  }
 ],
 "metadata": {
  "kernelspec": {
   "display_name": "Python 3",
   "language": "python",
   "name": "python3"
  },
  "language_info": {
   "codemirror_mode": {
    "name": "ipython",
    "version": 3
   },
   "file_extension": ".py",
   "mimetype": "text/x-python",
   "name": "python",
   "nbconvert_exporter": "python",
   "pygments_lexer": "ipython3",
   "version": "3.7.4"
  },
  "toc": {
   "base_numbering": 1,
   "nav_menu": {},
   "number_sections": true,
   "sideBar": true,
   "skip_h1_title": false,
   "title_cell": "Table of Contents",
   "title_sidebar": "Contents",
   "toc_cell": false,
   "toc_position": {},
   "toc_section_display": true,
   "toc_window_display": true
  }
 },
 "nbformat": 4,
 "nbformat_minor": 2
}
