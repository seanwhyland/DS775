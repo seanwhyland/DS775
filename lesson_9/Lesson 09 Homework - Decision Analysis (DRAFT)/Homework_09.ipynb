{
 "cells": [
  {
   "cell_type": "code",
   "execution_count": 1,
   "metadata": {
    "code_folding": [
     0
    ]
   },
   "outputs": [],
   "source": [
    "# execute to import notebook styling for tables and width etc.\n",
    "from IPython.core.display import HTML\n",
    "import urllib.request\n",
    "response = urllib.request.urlopen('https://raw.githubusercontent.com/DataScienceUWL/DS775v2/master/ds755.css')\n",
    "HTML(response.read().decode(\"utf-8\"));"
   ]
  },
  {
   "cell_type": "markdown",
   "metadata": {},
   "source": [
    "<font size=18>Lesson 09 Homework</font>"
   ]
  },
  {
   "cell_type": "markdown",
   "metadata": {},
   "source": [
    "<font color=\"red\">This homework set still needs to have point values and answer fields added.  The problems will not change.</font>"
   ]
  },
  {
   "cell_type": "markdown",
   "metadata": {
    "heading_collapsed": true
   },
   "source": [
    "### Decision Rule"
   ]
  },
  {
   "cell_type": "markdown",
   "metadata": {
    "hidden": true
   },
   "source": [
    "Choosing the decision alternative with the maximum payoff for the most likely state of nature is called\n",
    "\n",
    "a. the maximum likelihood criterion.  \n",
    "\n",
    "b. Bayes’ decision rule.\n",
    "\n",
    "c. maximin payoff criterion.\n",
    "\n",
    "d. sensitivity analysis.\n",
    "\n",
    "e. the crossover point."
   ]
  },
  {
   "cell_type": "markdown",
   "metadata": {
    "heading_collapsed": true
   },
   "source": [
    "### Probabilities"
   ]
  },
  {
   "cell_type": "markdown",
   "metadata": {
    "hidden": true
   },
   "source": [
    "Experimentation costs money in decision analysis, but it may be worth it because it provides improved estimates of the probabilities of the states of nature called\n",
    "\n",
    "a. prototype probabilities.\n",
    "\n",
    "b. prior probabilities.\n",
    "\n",
    "c. posterior probabilities. \n",
    "\n",
    "d. popular probabilities.\n",
    "\n",
    "e. payoff probabilities."
   ]
  },
  {
   "cell_type": "markdown",
   "metadata": {
    "heading_collapsed": true
   },
   "source": [
    "### Textbook Problem 16.2-3 (a,b,c,d)"
   ]
  },
  {
   "cell_type": "markdown",
   "metadata": {
    "hidden": true
   },
   "source": [
    "Jean Clark is the manager of the Midtown Saveway Grocery Store. She now needs to replenish her supply of strawberries. Her regular supplier can provide as many cases as she wants. However, because these strawberries already are very ripe, she will need to sell them tomorrow and then discard any that remain unsold. Jean estimates that she will be able to sell 12, 13, 14, or 15 cases tomorrow. She can purchase the strawberries for \\\\$7 per case and sell them for \\\\$18 per case. Jean now needs to decide how many cases to purchase.\n",
    "\n",
    "Jean has checked the store’s records on daily sales of straw- berries. On this basis, she estimates that the prior probabilities are 0.1, 0.3, 0.4, and 0.2 for being able to sell 12, 13, 14, and 15 cases of strawberries tomorrow.\n",
    "\n",
    "(a) Develop a decision analysis formulation of this problem by\n",
    "identifying the decision alternatives, the states of nature, and\n",
    "the payoff table.\n",
    "\n",
    "(b) How many cases of strawberries should Jean purchase if she\n",
    "uses the maximin payoff criterion?\n",
    "\n",
    "(c) How many cases should be purchased according to the maxi-\n",
    "mum likelihood criterion?\n",
    "\n",
    "(d) How many cases should be purchased according to Bayes’ decision rule?\n"
   ]
  },
  {
   "cell_type": "markdown",
   "metadata": {
    "heading_collapsed": true
   },
   "source": [
    "### Textbook Problem 16.2-5 "
   ]
  },
  {
   "cell_type": "markdown",
   "metadata": {
    "hidden": true
   },
   "source": [
    "Reconsider Prob. 16.2-4. Warren Buffy decides that Bayes’ decision rule is his most reliable decision criterion. He believes that 0.1 is just about right as the prior probability of an improving economy, but is quite uncertain about how to split the remaining probabilities between a stable economy and a worsening economy. Therefore, he now wishes to do sensitivity analysis with respect to these latter two prior probabilities.\n",
    "\n",
    "Problem 16.2-4 says:\n",
    "\n",
    "Warren Buffy is an enormously wealthy investor who has built his fortune through his legendary investing acumen. He currently has been offered three major investments and he would like to choose one. The first one is a conservative investment that would perform very well in an improving economy and only suffer a small loss in a worsening economy. The second is a speculative investment that would perform extremely well in an improving economy but would do very badly in a worsening economy. The third is a counter- cyclical investment that would lose some money in an improving economy but would perform well in a worsening economy.\n",
    "Warren believes that there are three possible scenarios over the lives of these potential investments: (1) an improving economy, (2) a stable economy, and (3) a worsening economy. He is pessimistic about where the economy is headed, and so has assigned prior probabilities of 0.1, 0.5, and 0.4, respectively, to these three scenarios. He also estimates that his profits under these respective scenarios are those given by the following table:\n",
    "\n",
    "<img src=\"images/screen-prob16_2-4.png\" alt=\"Solution\" width=\"400\" height=\"110\"> \n",
    "\n",
    "(a) Reapply Bayes’ decision rule when the prior probability of a stable economy is 0.3 and the prior probability of a worsening economy is 0.6.\n",
    "\n",
    "(b) Reapply Bayes’ decision rule when the prior probability of a stable economy is 0.7 and the prior probability of a worsening economy is 0.2.\n",
    "\n",
    "(c) Graph the expected profit for each of the three investment alternatives versus the prior probability of a stable economy on the same graph (with the prior probability of an improving economy fixed at 0.1, so use $p$ for the probability of a stable economy and $1-.1-p$ for the worsening economy). Use this graph to identify the values of $p$ for the crossover points where the decision shifts from one investment to another.\n",
    "\n",
    "(d) Use algebra (or DESMOS) to solve for the crossover points identified in part (c).\n",
    "\n",
    "(e) Develop a graph that plots the expected profit (when using Bayes’ decision rule, i.e. the optimal profit) versus the prior probability of a stable economy."
   ]
  },
  {
   "cell_type": "markdown",
   "metadata": {
    "heading_collapsed": true
   },
   "source": [
    "### Textbook Problem 16.3-12"
   ]
  },
  {
   "cell_type": "markdown",
   "metadata": {
    "hidden": true
   },
   "source": [
    "The Hit-and-Miss Manufacturing Company produces items that have a probability $p$ of being defective. These items are produced in lots of 150. Past experience indicates that $p$ for an entire lot is either 0.05 or 0.25. Furthermore, in 80 percent of the lots produced, $p$ equals 0.05 (so $p$ equals 0.25 in 20 percent of the lots). These items are then used in an assembly, and ultimately their quality is determined before the final assembly leaves the plant. Initially the company can either screen each item in a lot at a cost of \\\\$10 per item and replace defective items or use the items directly without screening. If the latter action is chosen, the cost of rework is ultimately \\\\$100 per defective item. Because screening requires scheduling of inspectors and equipment, the decision to screen or not screen must be made 2 days before the screening is to take place. However, one item can be taken from the lot and sent to a laboratory for inspection, and its quality (defective or nondefective) can be reported before the screen/no screen decision must be made. The cost of this initial inspection is \\\\$125.\n",
    "\n",
    "(a) Develop a decision analysis formulation of this problem by identifying the decision alternatives, the states of nature, and the payoff table if the single item is not inspected in advance.\n",
    "\n",
    "(b) Assuming the single item is not inspected in advance, use Bayes’ decision rule to determine which decision alternative should be chosen.\n",
    "\n",
    "(c) Find EVPI.  Does this answer indicate that consideration should be given to inspecting the single item in advance?\n",
    "\n",
    "(d) Assume now that the single item is inspected in advance. Find the posterior probabilities of the respective states of nature for each of the two possible outcomes of this inspection.\n",
    "\n",
    "(e) Find EVE. Is inspecting the single item worthwhile? \n",
    "\n",
    "(f) If screening is used and the item selected is defective, then all items will be screened in the lot at a cost of \\\\$10 per item and defective items will be replaced, otherwise items will be used directly without screening and the cost of rework is \\\\$100 per defective item. Construct the decision tree and determine the optimal policy."
   ]
  },
  {
   "cell_type": "markdown",
   "metadata": {
    "heading_collapsed": true
   },
   "source": [
    "### Textbook Problem 16.4-4"
   ]
  },
  {
   "cell_type": "markdown",
   "metadata": {
    "hidden": true
   },
   "source": [
    "The Athletic Department of Leland University is considering whether to hold an extensive campaign next year to raise funds for a new athletic field. The response to the campaign depends heavily upon the success of the football team this fall. In the past, the football team has had winning seasons 60 percent of the time. If the football team has a winning season (W) this fall, then many of the alumnae and alumni will contribute and the campaign will raise \\\\$3 million. If the team has a losing season (L), few will contribute and the campaign will lose \\\\$2 million. If no campaign is undertaken, no costs are incurred. On September 1, just before the football season begins, the Athletic Department needs to make its decision about whether to hold the campaign next year.\n",
    "\n",
    "(a) Develop a decision analysis formulation of this problem by identifying the decision alternatives, the states of nature, and the payoff table.\n",
    "\n",
    "(b) According to Bayes’ decision rule, should the campaign be undertaken?\n",
    "\n",
    "(c) Find EVPI.\n",
    "\n",
    "(d) A famous football guru, William Walsh, has offered his services to help evaluate whether the team will have a winning season. For \\\\$100,000, he will carefully evaluate the team throughout spring practice and then throughout preseason workouts. William then will provide his prediction on September 1 regarding what kind of season, W or L, the team will have. In similar situations in the past when evaluating teams that have winning seasons 50 percent of the time, his predictions have been correct 75 percent of the time. Considering that this team has more of a winning tradition, if William predicts a winning season, what is the posterior probability that the team actually will have a winning season? What is the posterior probability of a losing season? If Williams predicts a losing season instead, what is the posterior probability of a winning season? Of a losing season? Show how these answers are obtained from a probability tree diagram.  Use Silver Decisions to obtain the posterior probabilities.\n",
    "\n",
    "(omit part e)\n",
    "\n",
    "(f) Construct the decision tree and analyze it to determine the optimal policy regarding whether to hire William and whether to undertake the campaign.\n",
    "\n"
   ]
  },
  {
   "cell_type": "markdown",
   "metadata": {
    "heading_collapsed": true
   },
   "source": [
    "### Textbook Problem 16.5-7"
   ]
  },
  {
   "cell_type": "markdown",
   "metadata": {
    "hidden": true
   },
   "source": [
    "The Morton Ward Company is considering the introduction of a new product that is believed to have a 50-50 chance of being successful. One option is to try out the product in a test market, at a cost of \\\\$5 million, before making the introduction decision. Past experience shows that ultimately successful products are approved in the test market 80 percent of the time, whereas ultimately unsuccessful products are approved in the test market only 25 percent of the time. If the product is successful, the net profit to the company will be \\\\$40 million; if unsuccessful, the net loss will be \\\\$15 million.\n",
    "\n",
    "(a) Discarding the option of trying out the product in a test market, develop a decision analysis formulation of the problem by identifying the decision alternatives, states of nature, and payoff table. Then apply Bayes’ decision rule to determine the optimal decision alternative.\n",
    "\n",
    "(b) Find EVPI.\n",
    "\n",
    "(c) Now include the option of trying out the product in a test\n",
    "market. Construct and solve the decision tree for this problem. \n",
    "\n",
    "(d) Perform sensitivity analysis systematically for the option considered in part (c) by generating a data table that shows the optimal policy and the expected payoff when the prior probability that the new product will be successful is 0, 0.1, 0.2,..., 1.\n",
    "\n",
    "(e) Assume now that the prior probability that the new product will be successful is 0.5. However, there is some uncertainty in the stated profit and loss figures (\\\\$40 million and \\\\$15 million). Either could vary from its base by as much as 25 percent in either direction. Generate a graph for each that plots the expected profit over this range of variability."
   ]
  },
  {
   "cell_type": "markdown",
   "metadata": {
    "hidden": true
   },
   "source": [
    "<font size=18>Lesson 09 Homework</font>"
   ]
  },
  {
   "cell_type": "code",
   "execution_count": null,
   "metadata": {
    "hidden": true
   },
   "outputs": [],
   "source": []
  }
 ],
 "metadata": {
  "kernelspec": {
   "display_name": "Python 3",
   "language": "python",
   "name": "python3"
  },
  "language_info": {
   "codemirror_mode": {
    "name": "ipython",
    "version": 3
   },
   "file_extension": ".py",
   "mimetype": "text/x-python",
   "name": "python",
   "nbconvert_exporter": "python",
   "pygments_lexer": "ipython3",
   "version": "3.7.3"
  },
  "toc": {
   "base_numbering": 1,
   "nav_menu": {},
   "number_sections": true,
   "sideBar": true,
   "skip_h1_title": false,
   "title_cell": "Table of Contents",
   "title_sidebar": "Contents",
   "toc_cell": false,
   "toc_position": {},
   "toc_section_display": true,
   "toc_window_display": true
  }
 },
 "nbformat": 4,
 "nbformat_minor": 2
}
