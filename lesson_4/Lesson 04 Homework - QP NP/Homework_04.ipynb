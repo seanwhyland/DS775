{
 "cells": [
  {
   "cell_type": "code",
   "execution_count": 2,
   "metadata": {
    "code_folding": [
     0
    ]
   },
   "outputs": [],
   "source": [
    "# execute to import notebook styling for tables and width etc.\n",
    "from IPython.core.display import HTML\n",
    "import urllib.request\n",
    "response = urllib.request.urlopen('https://raw.githubusercontent.com/DataScienceUWL/DS775v2/master/ds755.css')\n",
    "HTML(response.read().decode(\"utf-8\"));"
   ]
  },
  {
   "cell_type": "code",
   "execution_count": 54,
   "metadata": {},
   "outputs": [],
   "source": [
    "# imports\n",
    "%matplotlib notebook\n",
    "import numpy as np\n",
    "from scipy import interpolate\n",
    "from scipy.optimize import minimize\n",
    "import babel.numbers as numbers\n",
    "import ipopt\n",
    "import matplotlib.pyplot as plt"
   ]
  },
  {
   "cell_type": "markdown",
   "metadata": {},
   "source": [
    "<font size=18>Homework 04: Quadratic Programming and Local Optimization</font>"
   ]
  },
  {
   "cell_type": "markdown",
   "metadata": {
    "heading_collapsed": true
   },
   "source": [
    "# Textbook 13-7.2"
   ]
  },
  {
   "cell_type": "markdown",
   "metadata": {
    "hidden": true
   },
   "source": [
    "Consider the following quadratic programming problem:\n",
    "\n",
    "Maximize $f(x_1, x_2) = 8x_1 - x_1^2 + 4x_2 - x_2^2,$\n",
    "\n",
    "subject to $x_1 + x_2 \\leq 2, x_1 \\geq 0, x_2 \\geq 0.$\n",
    "\n",
    "Use Pyomo with the `ipopt` solver to find the solution.  Include nicely formatted output.\n",
    "\n",
    "<font color = \"blue\"> *** 4 points -  code in cell below *** (don't delete this cell) </font>"
   ]
  },
  {
   "cell_type": "code",
   "execution_count": 48,
   "metadata": {
    "hidden": true
   },
   "outputs": [
    {
     "name": "stdout",
     "output_type": "stream",
     "text": [
      "F = 12.000000076376075\n",
      "1.9999631668254136, 3.6852947311154154e-05\n"
     ]
    }
   ],
   "source": [
    "from pyomo.environ import *\n",
    "\n",
    "# Concrete Model\n",
    "model = ConcreteModel(name=\"prob1\")\n",
    "\n",
    "xvars = ['x1', 'x2']\n",
    "model.variables = Var(xvars, domain=NonNegativeReals)\n",
    "\n",
    "# Objective\n",
    "model.f = Objective(expr=8*model.variables['x1'] - model.variables['x1']**2 + \n",
    "                        4*model.variables['x2'] - model.variables['x2']**2,\n",
    "                         sense=pyo.maximize)\n",
    "\n",
    "# Constraints\n",
    "model.Constraint1 = Constraint(expr= model.variables['x1'] + model.variables['x2'] <= 2)\n",
    "\n",
    "# Solve\n",
    "solver = SolverFactory('/Users/ebolotin/anaconda3/bin/ipopt')\n",
    "solver.solve(model)\n",
    "\n",
    "# display(model)\n",
    "\n",
    "# display solution\n",
    "x1 = model.variables['x1']()\n",
    "x2 = model.variables['x2']()\n",
    "print(f\"F = {model.f()}\")\n",
    "print(f\"{x1}, {x2}\")"
   ]
  },
  {
   "cell_type": "markdown",
   "metadata": {
    "heading_collapsed": true
   },
   "source": [
    "# Textbook 13-7.6"
   ]
  },
  {
   "cell_type": "markdown",
   "metadata": {
    "hidden": true
   },
   "source": [
    "A stockbroker, Richard Smith, has just received a call from his most important client, Ann Hardy. Ann has $50,000 to invest and wants to use it to purchase two stocks. Stock 1 is a solid blue-chip security with a respectable growth potential and little risk involved. Stock 2 is much more speculative. It is being touted in two investment newsletters as having outstanding growth potential but also is considered very risky. Ann would like a large return on her investment but also has considerable aversion to risk. Therefore, she has instructed Richard to analyze what mix of investments in the two stocks would be appropriate for her.\n",
    "\n",
    "Ann is used to talking in units of thousands of dollars and 1,000-share blocks of stocks. Using these units, the price per block is 20 for stock 1 and 30 for stock 2. After doing some research, Richard has made the following estimates. The expected return per block is 5 for stock 1 and 10 for stock 2. The variance of the return on each block is 4 for stock 1 and 100 for stock 2. The covariance of the return on one block each of the two stocks is 5.  Note that there are two covariance terms in the formula below\n",
    "* Price per block: 20 (x1) and 30 (x2)\n",
    "* Return per block: 5 (x1) and 10 (x2)\n",
    "* Variance per block: 4 (x1) and 100 (x2)\n",
    "* Covariance x1,x2: 5\n",
    "* Budget: 50,000\n",
    "\n",
    "The equations for portfolio analysis are on page 551.  The summation notation makes the equations a bit cumbersome so here they are written out as they apply to this problem.  Let $x_1$ and $x_2$ be blocks of stock 1 and stock 2, respectively.  The problem becomes\n",
    "\n",
    "Minimize $V(x_1,x_2) = \\sigma_{11} x_1^2 + \\sigma_{12} x_1 x_2 + \\sigma_{21} x_2 x_1 + \\sigma_{22} x_2^2,$\n",
    "\n",
    "Subject to $\\mu_1 x_1 + \\mu_2 x_2 \\geq L, P_1 x_1 + P_2 x_2 \\leq B, x_1 \\geq 0, x_2 \\geq 0.$\n",
    "\n",
    "(a)  Write out the complete nonlinear programming model filling in the constants but leaving $L$ unspecified for now.  Use LaTeX or include an image of neat handwritten equations in the cell below.\n",
    "\n",
    "<font color = \"blue\"> *** 5 points -  answer in cell below *** (don't delete this cell) </font>"
   ]
  },
  {
   "cell_type": "markdown",
   "metadata": {
    "hidden": true
   },
   "source": [
    "Minimize $V(x_1,x_2) = 4x_1^2 + 5x_1 x_2 + 5x_2 x_1 + 100x_2^2$\n",
    "\n",
    "Subject to:\n",
    "* $5x_1 + 10x_2 \\geq L$\n",
    "* $20x_1 + 30x_2 \\leq B$\n",
    "* $x_1 \\geq 0, x_2 \\geq 0$"
   ]
  },
  {
   "cell_type": "markdown",
   "metadata": {
    "hidden": true
   },
   "source": [
    "(b) Use quadratic programming in Pyomo with the `ipopt` solver to solve this model for four cases:  minimum acceptable expected return $ 13, 14, 15, 16.$  Report the $(x_1^*, x_2^*, V^*)$ for each case.  \n",
    "\n",
    "<font color = \"blue\"> *** 5 points -  code in cell below *** (don't delete this cell) </font>"
   ]
  },
  {
   "cell_type": "code",
   "execution_count": 47,
   "metadata": {
    "hidden": true,
    "scrolled": true
   },
   "outputs": [
    {
     "name": "stdout",
     "output_type": "stream",
     "text": [
      "V is 13 ---\n",
      "\tF = 26.4062\n",
      "\tblocks of stock 1: 2.4375\n",
      "\tblocks of stock 2: 0.0812\n",
      "\n",
      "V is 14 ---\n",
      "\tF = 30.625\n",
      "\tblocks of stock 1: 2.625\n",
      "\tblocks of stock 2: 0.0875\n",
      "\n",
      "V is 15 ---\n",
      "\tF = 35.1562\n",
      "\tblocks of stock 1: 2.8125\n",
      "\tblocks of stock 2: 0.0937\n",
      "\n",
      "V is 16 ---\n",
      "\tF = 40.0\n",
      "\tblocks of stock 1: 3.0\n",
      "\tblocks of stock 2: 0.1\n",
      "\n"
     ]
    }
   ],
   "source": [
    "from pyomo.environ import *\n",
    "\n",
    "for L in [13, 14, 15, 16]:\n",
    "    # Concrete Model\n",
    "    model = ConcreteModel(name=\"prob2\")\n",
    "\n",
    "    xvars = ['x1', 'x2']\n",
    "    model.variables = Var(xvars, domain=NonNegativeReals)\n",
    "\n",
    "    # Objective\n",
    "    model.V = Objective(expr=4*model.variables['x1']**2 + 2*(5*model.variables['x1']*model.variables['x2']) + \n",
    "                        100*model.variables['x2']**2,\n",
    "                             sense=pyo.minimize)\n",
    "\n",
    "    # Constraints\n",
    "    model.Constraint1 = Constraint(expr= 5*model.variables['x1'] + 10*model.variables['x2'] >= L)\n",
    "    model.Constraint2 = Constraint(expr= 20*model.variables['x1'] + 30*model.variables['x2'] <= 50000)\n",
    "\n",
    "    # Solve\n",
    "    solver = SolverFactory('/Users/ebolotin/anaconda3/bin/ipopt')\n",
    "    solver.solve(model)\n",
    "\n",
    "    # display(model)\n",
    "\n",
    "    # display solution\n",
    "    x1 = model.variables['x1']()\n",
    "    x2 = model.variables['x2']()\n",
    "    print(f\"V is {L} ---\")\n",
    "    print(f\"\\tF = {round(model.V(),4)}\")\n",
    "    print(f\"\\tblocks of stock 1: {round(x1,4)}\\n\\tblocks of stock 2: {round(x2,4)}\\n\")"
   ]
  },
  {
   "cell_type": "markdown",
   "metadata": {
    "heading_collapsed": true
   },
   "source": [
    "# Textbook 13.7-7"
   ]
  },
  {
   "cell_type": "markdown",
   "metadata": {
    "hidden": true
   },
   "source": [
    "The management of the Albert Hanson Company is trying to determine the best product mix for two new products. Because these products would share the same production facilities, the total number of units produced of the two products combined cannot exceed two per hour. Because of uncertainty about how well these products will sell, the profit from producing each product provides decreasing marginal returns as the production rate is increased. In particular, with a production rate of $R_1$ units per hour, it is estimated that Product 1 would provide a profit (in dollars per hour) of $200 R_1 - 100 R_1^2.$ If the production rate of product 2 is $R_2$ units per hour, its estimated profit (in dollars per hour) would be $300 R_2 - 100 R_2^2.$  \n",
    "\n",
    "(a) Formulate a quadratic programming model in algebraic form for determining the product mix that maximizes the total profit per hour.  We are allowing fractional solutions here so this is not an integer programming problem (more about those soon).  Include LaTeX or neat handwritten solution.\n",
    "\n",
    "<font color = \"blue\"> *** 4 points -  answer in cell below *** (don't delete this cell) </font>"
   ]
  },
  {
   "cell_type": "markdown",
   "metadata": {
    "hidden": true
   },
   "source": [
    "Maximize $G(R_1,R_2) = 200 R_1 - 100 R_1^2 + 300 R_2 - 100 R_2^2$\n",
    "\n",
    "Subject to:\n",
    "* $R_1 + R_2 \\leq 2$\n",
    "* $R_1 \\geq 0, R_2 \\geq 0$"
   ]
  },
  {
   "cell_type": "markdown",
   "metadata": {
    "hidden": true
   },
   "source": [
    "(b) Use quadratic programming in Pyomo with the ipopt solver to solve this model.\n",
    "\n",
    "<font color = \"blue\"> *** 4 points -  code in cell below *** (don't delete this cell) </font>"
   ]
  },
  {
   "cell_type": "code",
   "execution_count": 51,
   "metadata": {
    "hidden": true
   },
   "outputs": [
    {
     "name": "stdout",
     "output_type": "stream",
     "text": [
      "G = $312.5\n",
      "product 1 units per hour: 0.75\n",
      "product 2 units per hour: 1.25\n"
     ]
    }
   ],
   "source": [
    "from pyomo.environ import *\n",
    "\n",
    "# Concrete Model\n",
    "model = ConcreteModel(name=\"prob3\")\n",
    "\n",
    "xvars = ['r1', 'r2']\n",
    "model.variables = Var(xvars, domain=NonNegativeReals)\n",
    "\n",
    "# Objective\n",
    "model.g = Objective(expr=200*model.variables['r1'] - 100*model.variables['r1']**2 + \n",
    "                        300*model.variables['r2'] - 100*model.variables['r2']**2,\n",
    "                         sense=pyo.maximize)\n",
    "\n",
    "# Constraints\n",
    "model.Constraint1 = Constraint(expr= model.variables['r1'] + model.variables['r2'] <= 2)\n",
    "\n",
    "# Solve\n",
    "solver = SolverFactory('/Users/ebolotin/anaconda3/bin/ipopt')\n",
    "solver.solve(model)\n",
    "\n",
    "# display(model)\n",
    "\n",
    "# display solution\n",
    "r1 = model.variables['r1']()\n",
    "r2 = model.variables['r2']()\n",
    "print(f\"G = ${round(model.g(),3)}\")\n",
    "print(f\"product 1 units per hour: {round(r1,2)}\\nproduct 2 units per hour: {round(r2,2)}\")"
   ]
  },
  {
   "cell_type": "markdown",
   "metadata": {
    "heading_collapsed": true
   },
   "source": [
    "# Textbook Problem 13.10-5"
   ]
  },
  {
   "cell_type": "markdown",
   "metadata": {
    "hidden": true
   },
   "source": [
    "For the nonconvex profit function $$p(x) = 100x^6 - 1359x^5 + 6836 x^4 - 15670 x^3 + 15870 x^2 - 5095 x$$\n",
    "with $0 \\leq x \\leq 5.$ . Graph the function on the interval and find all of the local maxima and minima.\n",
    "\n",
    "Graph the function:\n",
    "\n",
    "<font color = \"blue\"> *** 2 points -  code in cell below *** (don't delete this cell) </font>"
   ]
  },
  {
   "cell_type": "code",
   "execution_count": 63,
   "metadata": {
    "hidden": true
   },
   "outputs": [
    {
     "data": {
      "application/javascript": [
       "/* Put everything inside the global mpl namespace */\n",
       "window.mpl = {};\n",
       "\n",
       "\n",
       "mpl.get_websocket_type = function() {\n",
       "    if (typeof(WebSocket) !== 'undefined') {\n",
       "        return WebSocket;\n",
       "    } else if (typeof(MozWebSocket) !== 'undefined') {\n",
       "        return MozWebSocket;\n",
       "    } else {\n",
       "        alert('Your browser does not have WebSocket support. ' +\n",
       "              'Please try Chrome, Safari or Firefox ≥ 6. ' +\n",
       "              'Firefox 4 and 5 are also supported but you ' +\n",
       "              'have to enable WebSockets in about:config.');\n",
       "    };\n",
       "}\n",
       "\n",
       "mpl.figure = function(figure_id, websocket, ondownload, parent_element) {\n",
       "    this.id = figure_id;\n",
       "\n",
       "    this.ws = websocket;\n",
       "\n",
       "    this.supports_binary = (this.ws.binaryType != undefined);\n",
       "\n",
       "    if (!this.supports_binary) {\n",
       "        var warnings = document.getElementById(\"mpl-warnings\");\n",
       "        if (warnings) {\n",
       "            warnings.style.display = 'block';\n",
       "            warnings.textContent = (\n",
       "                \"This browser does not support binary websocket messages. \" +\n",
       "                    \"Performance may be slow.\");\n",
       "        }\n",
       "    }\n",
       "\n",
       "    this.imageObj = new Image();\n",
       "\n",
       "    this.context = undefined;\n",
       "    this.message = undefined;\n",
       "    this.canvas = undefined;\n",
       "    this.rubberband_canvas = undefined;\n",
       "    this.rubberband_context = undefined;\n",
       "    this.format_dropdown = undefined;\n",
       "\n",
       "    this.image_mode = 'full';\n",
       "\n",
       "    this.root = $('<div/>');\n",
       "    this._root_extra_style(this.root)\n",
       "    this.root.attr('style', 'display: inline-block');\n",
       "\n",
       "    $(parent_element).append(this.root);\n",
       "\n",
       "    this._init_header(this);\n",
       "    this._init_canvas(this);\n",
       "    this._init_toolbar(this);\n",
       "\n",
       "    var fig = this;\n",
       "\n",
       "    this.waiting = false;\n",
       "\n",
       "    this.ws.onopen =  function () {\n",
       "            fig.send_message(\"supports_binary\", {value: fig.supports_binary});\n",
       "            fig.send_message(\"send_image_mode\", {});\n",
       "            if (mpl.ratio != 1) {\n",
       "                fig.send_message(\"set_dpi_ratio\", {'dpi_ratio': mpl.ratio});\n",
       "            }\n",
       "            fig.send_message(\"refresh\", {});\n",
       "        }\n",
       "\n",
       "    this.imageObj.onload = function() {\n",
       "            if (fig.image_mode == 'full') {\n",
       "                // Full images could contain transparency (where diff images\n",
       "                // almost always do), so we need to clear the canvas so that\n",
       "                // there is no ghosting.\n",
       "                fig.context.clearRect(0, 0, fig.canvas.width, fig.canvas.height);\n",
       "            }\n",
       "            fig.context.drawImage(fig.imageObj, 0, 0);\n",
       "        };\n",
       "\n",
       "    this.imageObj.onunload = function() {\n",
       "        fig.ws.close();\n",
       "    }\n",
       "\n",
       "    this.ws.onmessage = this._make_on_message_function(this);\n",
       "\n",
       "    this.ondownload = ondownload;\n",
       "}\n",
       "\n",
       "mpl.figure.prototype._init_header = function() {\n",
       "    var titlebar = $(\n",
       "        '<div class=\"ui-dialog-titlebar ui-widget-header ui-corner-all ' +\n",
       "        'ui-helper-clearfix\"/>');\n",
       "    var titletext = $(\n",
       "        '<div class=\"ui-dialog-title\" style=\"width: 100%; ' +\n",
       "        'text-align: center; padding: 3px;\"/>');\n",
       "    titlebar.append(titletext)\n",
       "    this.root.append(titlebar);\n",
       "    this.header = titletext[0];\n",
       "}\n",
       "\n",
       "\n",
       "\n",
       "mpl.figure.prototype._canvas_extra_style = function(canvas_div) {\n",
       "\n",
       "}\n",
       "\n",
       "\n",
       "mpl.figure.prototype._root_extra_style = function(canvas_div) {\n",
       "\n",
       "}\n",
       "\n",
       "mpl.figure.prototype._init_canvas = function() {\n",
       "    var fig = this;\n",
       "\n",
       "    var canvas_div = $('<div/>');\n",
       "\n",
       "    canvas_div.attr('style', 'position: relative; clear: both; outline: 0');\n",
       "\n",
       "    function canvas_keyboard_event(event) {\n",
       "        return fig.key_event(event, event['data']);\n",
       "    }\n",
       "\n",
       "    canvas_div.keydown('key_press', canvas_keyboard_event);\n",
       "    canvas_div.keyup('key_release', canvas_keyboard_event);\n",
       "    this.canvas_div = canvas_div\n",
       "    this._canvas_extra_style(canvas_div)\n",
       "    this.root.append(canvas_div);\n",
       "\n",
       "    var canvas = $('<canvas/>');\n",
       "    canvas.addClass('mpl-canvas');\n",
       "    canvas.attr('style', \"left: 0; top: 0; z-index: 0; outline: 0\")\n",
       "\n",
       "    this.canvas = canvas[0];\n",
       "    this.context = canvas[0].getContext(\"2d\");\n",
       "\n",
       "    var backingStore = this.context.backingStorePixelRatio ||\n",
       "\tthis.context.webkitBackingStorePixelRatio ||\n",
       "\tthis.context.mozBackingStorePixelRatio ||\n",
       "\tthis.context.msBackingStorePixelRatio ||\n",
       "\tthis.context.oBackingStorePixelRatio ||\n",
       "\tthis.context.backingStorePixelRatio || 1;\n",
       "\n",
       "    mpl.ratio = (window.devicePixelRatio || 1) / backingStore;\n",
       "\n",
       "    var rubberband = $('<canvas/>');\n",
       "    rubberband.attr('style', \"position: absolute; left: 0; top: 0; z-index: 1;\")\n",
       "\n",
       "    var pass_mouse_events = true;\n",
       "\n",
       "    canvas_div.resizable({\n",
       "        start: function(event, ui) {\n",
       "            pass_mouse_events = false;\n",
       "        },\n",
       "        resize: function(event, ui) {\n",
       "            fig.request_resize(ui.size.width, ui.size.height);\n",
       "        },\n",
       "        stop: function(event, ui) {\n",
       "            pass_mouse_events = true;\n",
       "            fig.request_resize(ui.size.width, ui.size.height);\n",
       "        },\n",
       "    });\n",
       "\n",
       "    function mouse_event_fn(event) {\n",
       "        if (pass_mouse_events)\n",
       "            return fig.mouse_event(event, event['data']);\n",
       "    }\n",
       "\n",
       "    rubberband.mousedown('button_press', mouse_event_fn);\n",
       "    rubberband.mouseup('button_release', mouse_event_fn);\n",
       "    // Throttle sequential mouse events to 1 every 20ms.\n",
       "    rubberband.mousemove('motion_notify', mouse_event_fn);\n",
       "\n",
       "    rubberband.mouseenter('figure_enter', mouse_event_fn);\n",
       "    rubberband.mouseleave('figure_leave', mouse_event_fn);\n",
       "\n",
       "    canvas_div.on(\"wheel\", function (event) {\n",
       "        event = event.originalEvent;\n",
       "        event['data'] = 'scroll'\n",
       "        if (event.deltaY < 0) {\n",
       "            event.step = 1;\n",
       "        } else {\n",
       "            event.step = -1;\n",
       "        }\n",
       "        mouse_event_fn(event);\n",
       "    });\n",
       "\n",
       "    canvas_div.append(canvas);\n",
       "    canvas_div.append(rubberband);\n",
       "\n",
       "    this.rubberband = rubberband;\n",
       "    this.rubberband_canvas = rubberband[0];\n",
       "    this.rubberband_context = rubberband[0].getContext(\"2d\");\n",
       "    this.rubberband_context.strokeStyle = \"#000000\";\n",
       "\n",
       "    this._resize_canvas = function(width, height) {\n",
       "        // Keep the size of the canvas, canvas container, and rubber band\n",
       "        // canvas in synch.\n",
       "        canvas_div.css('width', width)\n",
       "        canvas_div.css('height', height)\n",
       "\n",
       "        canvas.attr('width', width * mpl.ratio);\n",
       "        canvas.attr('height', height * mpl.ratio);\n",
       "        canvas.attr('style', 'width: ' + width + 'px; height: ' + height + 'px;');\n",
       "\n",
       "        rubberband.attr('width', width);\n",
       "        rubberband.attr('height', height);\n",
       "    }\n",
       "\n",
       "    // Set the figure to an initial 600x600px, this will subsequently be updated\n",
       "    // upon first draw.\n",
       "    this._resize_canvas(600, 600);\n",
       "\n",
       "    // Disable right mouse context menu.\n",
       "    $(this.rubberband_canvas).bind(\"contextmenu\",function(e){\n",
       "        return false;\n",
       "    });\n",
       "\n",
       "    function set_focus () {\n",
       "        canvas.focus();\n",
       "        canvas_div.focus();\n",
       "    }\n",
       "\n",
       "    window.setTimeout(set_focus, 100);\n",
       "}\n",
       "\n",
       "mpl.figure.prototype._init_toolbar = function() {\n",
       "    var fig = this;\n",
       "\n",
       "    var nav_element = $('<div/>');\n",
       "    nav_element.attr('style', 'width: 100%');\n",
       "    this.root.append(nav_element);\n",
       "\n",
       "    // Define a callback function for later on.\n",
       "    function toolbar_event(event) {\n",
       "        return fig.toolbar_button_onclick(event['data']);\n",
       "    }\n",
       "    function toolbar_mouse_event(event) {\n",
       "        return fig.toolbar_button_onmouseover(event['data']);\n",
       "    }\n",
       "\n",
       "    for(var toolbar_ind in mpl.toolbar_items) {\n",
       "        var name = mpl.toolbar_items[toolbar_ind][0];\n",
       "        var tooltip = mpl.toolbar_items[toolbar_ind][1];\n",
       "        var image = mpl.toolbar_items[toolbar_ind][2];\n",
       "        var method_name = mpl.toolbar_items[toolbar_ind][3];\n",
       "\n",
       "        if (!name) {\n",
       "            // put a spacer in here.\n",
       "            continue;\n",
       "        }\n",
       "        var button = $('<button/>');\n",
       "        button.addClass('ui-button ui-widget ui-state-default ui-corner-all ' +\n",
       "                        'ui-button-icon-only');\n",
       "        button.attr('role', 'button');\n",
       "        button.attr('aria-disabled', 'false');\n",
       "        button.click(method_name, toolbar_event);\n",
       "        button.mouseover(tooltip, toolbar_mouse_event);\n",
       "\n",
       "        var icon_img = $('<span/>');\n",
       "        icon_img.addClass('ui-button-icon-primary ui-icon');\n",
       "        icon_img.addClass(image);\n",
       "        icon_img.addClass('ui-corner-all');\n",
       "\n",
       "        var tooltip_span = $('<span/>');\n",
       "        tooltip_span.addClass('ui-button-text');\n",
       "        tooltip_span.html(tooltip);\n",
       "\n",
       "        button.append(icon_img);\n",
       "        button.append(tooltip_span);\n",
       "\n",
       "        nav_element.append(button);\n",
       "    }\n",
       "\n",
       "    var fmt_picker_span = $('<span/>');\n",
       "\n",
       "    var fmt_picker = $('<select/>');\n",
       "    fmt_picker.addClass('mpl-toolbar-option ui-widget ui-widget-content');\n",
       "    fmt_picker_span.append(fmt_picker);\n",
       "    nav_element.append(fmt_picker_span);\n",
       "    this.format_dropdown = fmt_picker[0];\n",
       "\n",
       "    for (var ind in mpl.extensions) {\n",
       "        var fmt = mpl.extensions[ind];\n",
       "        var option = $(\n",
       "            '<option/>', {selected: fmt === mpl.default_extension}).html(fmt);\n",
       "        fmt_picker.append(option);\n",
       "    }\n",
       "\n",
       "    // Add hover states to the ui-buttons\n",
       "    $( \".ui-button\" ).hover(\n",
       "        function() { $(this).addClass(\"ui-state-hover\");},\n",
       "        function() { $(this).removeClass(\"ui-state-hover\");}\n",
       "    );\n",
       "\n",
       "    var status_bar = $('<span class=\"mpl-message\"/>');\n",
       "    nav_element.append(status_bar);\n",
       "    this.message = status_bar[0];\n",
       "}\n",
       "\n",
       "mpl.figure.prototype.request_resize = function(x_pixels, y_pixels) {\n",
       "    // Request matplotlib to resize the figure. Matplotlib will then trigger a resize in the client,\n",
       "    // which will in turn request a refresh of the image.\n",
       "    this.send_message('resize', {'width': x_pixels, 'height': y_pixels});\n",
       "}\n",
       "\n",
       "mpl.figure.prototype.send_message = function(type, properties) {\n",
       "    properties['type'] = type;\n",
       "    properties['figure_id'] = this.id;\n",
       "    this.ws.send(JSON.stringify(properties));\n",
       "}\n",
       "\n",
       "mpl.figure.prototype.send_draw_message = function() {\n",
       "    if (!this.waiting) {\n",
       "        this.waiting = true;\n",
       "        this.ws.send(JSON.stringify({type: \"draw\", figure_id: this.id}));\n",
       "    }\n",
       "}\n",
       "\n",
       "\n",
       "mpl.figure.prototype.handle_save = function(fig, msg) {\n",
       "    var format_dropdown = fig.format_dropdown;\n",
       "    var format = format_dropdown.options[format_dropdown.selectedIndex].value;\n",
       "    fig.ondownload(fig, format);\n",
       "}\n",
       "\n",
       "\n",
       "mpl.figure.prototype.handle_resize = function(fig, msg) {\n",
       "    var size = msg['size'];\n",
       "    if (size[0] != fig.canvas.width || size[1] != fig.canvas.height) {\n",
       "        fig._resize_canvas(size[0], size[1]);\n",
       "        fig.send_message(\"refresh\", {});\n",
       "    };\n",
       "}\n",
       "\n",
       "mpl.figure.prototype.handle_rubberband = function(fig, msg) {\n",
       "    var x0 = msg['x0'] / mpl.ratio;\n",
       "    var y0 = (fig.canvas.height - msg['y0']) / mpl.ratio;\n",
       "    var x1 = msg['x1'] / mpl.ratio;\n",
       "    var y1 = (fig.canvas.height - msg['y1']) / mpl.ratio;\n",
       "    x0 = Math.floor(x0) + 0.5;\n",
       "    y0 = Math.floor(y0) + 0.5;\n",
       "    x1 = Math.floor(x1) + 0.5;\n",
       "    y1 = Math.floor(y1) + 0.5;\n",
       "    var min_x = Math.min(x0, x1);\n",
       "    var min_y = Math.min(y0, y1);\n",
       "    var width = Math.abs(x1 - x0);\n",
       "    var height = Math.abs(y1 - y0);\n",
       "\n",
       "    fig.rubberband_context.clearRect(\n",
       "        0, 0, fig.canvas.width, fig.canvas.height);\n",
       "\n",
       "    fig.rubberband_context.strokeRect(min_x, min_y, width, height);\n",
       "}\n",
       "\n",
       "mpl.figure.prototype.handle_figure_label = function(fig, msg) {\n",
       "    // Updates the figure title.\n",
       "    fig.header.textContent = msg['label'];\n",
       "}\n",
       "\n",
       "mpl.figure.prototype.handle_cursor = function(fig, msg) {\n",
       "    var cursor = msg['cursor'];\n",
       "    switch(cursor)\n",
       "    {\n",
       "    case 0:\n",
       "        cursor = 'pointer';\n",
       "        break;\n",
       "    case 1:\n",
       "        cursor = 'default';\n",
       "        break;\n",
       "    case 2:\n",
       "        cursor = 'crosshair';\n",
       "        break;\n",
       "    case 3:\n",
       "        cursor = 'move';\n",
       "        break;\n",
       "    }\n",
       "    fig.rubberband_canvas.style.cursor = cursor;\n",
       "}\n",
       "\n",
       "mpl.figure.prototype.handle_message = function(fig, msg) {\n",
       "    fig.message.textContent = msg['message'];\n",
       "}\n",
       "\n",
       "mpl.figure.prototype.handle_draw = function(fig, msg) {\n",
       "    // Request the server to send over a new figure.\n",
       "    fig.send_draw_message();\n",
       "}\n",
       "\n",
       "mpl.figure.prototype.handle_image_mode = function(fig, msg) {\n",
       "    fig.image_mode = msg['mode'];\n",
       "}\n",
       "\n",
       "mpl.figure.prototype.updated_canvas_event = function() {\n",
       "    // Called whenever the canvas gets updated.\n",
       "    this.send_message(\"ack\", {});\n",
       "}\n",
       "\n",
       "// A function to construct a web socket function for onmessage handling.\n",
       "// Called in the figure constructor.\n",
       "mpl.figure.prototype._make_on_message_function = function(fig) {\n",
       "    return function socket_on_message(evt) {\n",
       "        if (evt.data instanceof Blob) {\n",
       "            /* FIXME: We get \"Resource interpreted as Image but\n",
       "             * transferred with MIME type text/plain:\" errors on\n",
       "             * Chrome.  But how to set the MIME type?  It doesn't seem\n",
       "             * to be part of the websocket stream */\n",
       "            evt.data.type = \"image/png\";\n",
       "\n",
       "            /* Free the memory for the previous frames */\n",
       "            if (fig.imageObj.src) {\n",
       "                (window.URL || window.webkitURL).revokeObjectURL(\n",
       "                    fig.imageObj.src);\n",
       "            }\n",
       "\n",
       "            fig.imageObj.src = (window.URL || window.webkitURL).createObjectURL(\n",
       "                evt.data);\n",
       "            fig.updated_canvas_event();\n",
       "            fig.waiting = false;\n",
       "            return;\n",
       "        }\n",
       "        else if (typeof evt.data === 'string' && evt.data.slice(0, 21) == \"data:image/png;base64\") {\n",
       "            fig.imageObj.src = evt.data;\n",
       "            fig.updated_canvas_event();\n",
       "            fig.waiting = false;\n",
       "            return;\n",
       "        }\n",
       "\n",
       "        var msg = JSON.parse(evt.data);\n",
       "        var msg_type = msg['type'];\n",
       "\n",
       "        // Call the  \"handle_{type}\" callback, which takes\n",
       "        // the figure and JSON message as its only arguments.\n",
       "        try {\n",
       "            var callback = fig[\"handle_\" + msg_type];\n",
       "        } catch (e) {\n",
       "            console.log(\"No handler for the '\" + msg_type + \"' message type: \", msg);\n",
       "            return;\n",
       "        }\n",
       "\n",
       "        if (callback) {\n",
       "            try {\n",
       "                // console.log(\"Handling '\" + msg_type + \"' message: \", msg);\n",
       "                callback(fig, msg);\n",
       "            } catch (e) {\n",
       "                console.log(\"Exception inside the 'handler_\" + msg_type + \"' callback:\", e, e.stack, msg);\n",
       "            }\n",
       "        }\n",
       "    };\n",
       "}\n",
       "\n",
       "// from http://stackoverflow.com/questions/1114465/getting-mouse-location-in-canvas\n",
       "mpl.findpos = function(e) {\n",
       "    //this section is from http://www.quirksmode.org/js/events_properties.html\n",
       "    var targ;\n",
       "    if (!e)\n",
       "        e = window.event;\n",
       "    if (e.target)\n",
       "        targ = e.target;\n",
       "    else if (e.srcElement)\n",
       "        targ = e.srcElement;\n",
       "    if (targ.nodeType == 3) // defeat Safari bug\n",
       "        targ = targ.parentNode;\n",
       "\n",
       "    // jQuery normalizes the pageX and pageY\n",
       "    // pageX,Y are the mouse positions relative to the document\n",
       "    // offset() returns the position of the element relative to the document\n",
       "    var x = e.pageX - $(targ).offset().left;\n",
       "    var y = e.pageY - $(targ).offset().top;\n",
       "\n",
       "    return {\"x\": x, \"y\": y};\n",
       "};\n",
       "\n",
       "/*\n",
       " * return a copy of an object with only non-object keys\n",
       " * we need this to avoid circular references\n",
       " * http://stackoverflow.com/a/24161582/3208463\n",
       " */\n",
       "function simpleKeys (original) {\n",
       "  return Object.keys(original).reduce(function (obj, key) {\n",
       "    if (typeof original[key] !== 'object')\n",
       "        obj[key] = original[key]\n",
       "    return obj;\n",
       "  }, {});\n",
       "}\n",
       "\n",
       "mpl.figure.prototype.mouse_event = function(event, name) {\n",
       "    var canvas_pos = mpl.findpos(event)\n",
       "\n",
       "    if (name === 'button_press')\n",
       "    {\n",
       "        this.canvas.focus();\n",
       "        this.canvas_div.focus();\n",
       "    }\n",
       "\n",
       "    var x = canvas_pos.x * mpl.ratio;\n",
       "    var y = canvas_pos.y * mpl.ratio;\n",
       "\n",
       "    this.send_message(name, {x: x, y: y, button: event.button,\n",
       "                             step: event.step,\n",
       "                             guiEvent: simpleKeys(event)});\n",
       "\n",
       "    /* This prevents the web browser from automatically changing to\n",
       "     * the text insertion cursor when the button is pressed.  We want\n",
       "     * to control all of the cursor setting manually through the\n",
       "     * 'cursor' event from matplotlib */\n",
       "    event.preventDefault();\n",
       "    return false;\n",
       "}\n",
       "\n",
       "mpl.figure.prototype._key_event_extra = function(event, name) {\n",
       "    // Handle any extra behaviour associated with a key event\n",
       "}\n",
       "\n",
       "mpl.figure.prototype.key_event = function(event, name) {\n",
       "\n",
       "    // Prevent repeat events\n",
       "    if (name == 'key_press')\n",
       "    {\n",
       "        if (event.which === this._key)\n",
       "            return;\n",
       "        else\n",
       "            this._key = event.which;\n",
       "    }\n",
       "    if (name == 'key_release')\n",
       "        this._key = null;\n",
       "\n",
       "    var value = '';\n",
       "    if (event.ctrlKey && event.which != 17)\n",
       "        value += \"ctrl+\";\n",
       "    if (event.altKey && event.which != 18)\n",
       "        value += \"alt+\";\n",
       "    if (event.shiftKey && event.which != 16)\n",
       "        value += \"shift+\";\n",
       "\n",
       "    value += 'k';\n",
       "    value += event.which.toString();\n",
       "\n",
       "    this._key_event_extra(event, name);\n",
       "\n",
       "    this.send_message(name, {key: value,\n",
       "                             guiEvent: simpleKeys(event)});\n",
       "    return false;\n",
       "}\n",
       "\n",
       "mpl.figure.prototype.toolbar_button_onclick = function(name) {\n",
       "    if (name == 'download') {\n",
       "        this.handle_save(this, null);\n",
       "    } else {\n",
       "        this.send_message(\"toolbar_button\", {name: name});\n",
       "    }\n",
       "};\n",
       "\n",
       "mpl.figure.prototype.toolbar_button_onmouseover = function(tooltip) {\n",
       "    this.message.textContent = tooltip;\n",
       "};\n",
       "mpl.toolbar_items = [[\"Home\", \"Reset original view\", \"fa fa-home icon-home\", \"home\"], [\"Back\", \"Back to previous view\", \"fa fa-arrow-left icon-arrow-left\", \"back\"], [\"Forward\", \"Forward to next view\", \"fa fa-arrow-right icon-arrow-right\", \"forward\"], [\"\", \"\", \"\", \"\"], [\"Pan\", \"Pan axes with left mouse, zoom with right\", \"fa fa-arrows icon-move\", \"pan\"], [\"Zoom\", \"Zoom to rectangle\", \"fa fa-square-o icon-check-empty\", \"zoom\"], [\"\", \"\", \"\", \"\"], [\"Download\", \"Download plot\", \"fa fa-floppy-o icon-save\", \"download\"]];\n",
       "\n",
       "mpl.extensions = [\"eps\", \"jpeg\", \"pdf\", \"png\", \"ps\", \"raw\", \"svg\", \"tif\"];\n",
       "\n",
       "mpl.default_extension = \"png\";var comm_websocket_adapter = function(comm) {\n",
       "    // Create a \"websocket\"-like object which calls the given IPython comm\n",
       "    // object with the appropriate methods. Currently this is a non binary\n",
       "    // socket, so there is still some room for performance tuning.\n",
       "    var ws = {};\n",
       "\n",
       "    ws.close = function() {\n",
       "        comm.close()\n",
       "    };\n",
       "    ws.send = function(m) {\n",
       "        //console.log('sending', m);\n",
       "        comm.send(m);\n",
       "    };\n",
       "    // Register the callback with on_msg.\n",
       "    comm.on_msg(function(msg) {\n",
       "        //console.log('receiving', msg['content']['data'], msg);\n",
       "        // Pass the mpl event to the overridden (by mpl) onmessage function.\n",
       "        ws.onmessage(msg['content']['data'])\n",
       "    });\n",
       "    return ws;\n",
       "}\n",
       "\n",
       "mpl.mpl_figure_comm = function(comm, msg) {\n",
       "    // This is the function which gets called when the mpl process\n",
       "    // starts-up an IPython Comm through the \"matplotlib\" channel.\n",
       "\n",
       "    var id = msg.content.data.id;\n",
       "    // Get hold of the div created by the display call when the Comm\n",
       "    // socket was opened in Python.\n",
       "    var element = $(\"#\" + id);\n",
       "    var ws_proxy = comm_websocket_adapter(comm)\n",
       "\n",
       "    function ondownload(figure, format) {\n",
       "        window.open(figure.imageObj.src);\n",
       "    }\n",
       "\n",
       "    var fig = new mpl.figure(id, ws_proxy,\n",
       "                           ondownload,\n",
       "                           element.get(0));\n",
       "\n",
       "    // Call onopen now - mpl needs it, as it is assuming we've passed it a real\n",
       "    // web socket which is closed, not our websocket->open comm proxy.\n",
       "    ws_proxy.onopen();\n",
       "\n",
       "    fig.parent_element = element.get(0);\n",
       "    fig.cell_info = mpl.find_output_cell(\"<div id='\" + id + \"'></div>\");\n",
       "    if (!fig.cell_info) {\n",
       "        console.error(\"Failed to find cell for figure\", id, fig);\n",
       "        return;\n",
       "    }\n",
       "\n",
       "    var output_index = fig.cell_info[2]\n",
       "    var cell = fig.cell_info[0];\n",
       "\n",
       "};\n",
       "\n",
       "mpl.figure.prototype.handle_close = function(fig, msg) {\n",
       "    var width = fig.canvas.width/mpl.ratio\n",
       "    fig.root.unbind('remove')\n",
       "\n",
       "    // Update the output cell to use the data from the current canvas.\n",
       "    fig.push_to_output();\n",
       "    var dataURL = fig.canvas.toDataURL();\n",
       "    // Re-enable the keyboard manager in IPython - without this line, in FF,\n",
       "    // the notebook keyboard shortcuts fail.\n",
       "    IPython.keyboard_manager.enable()\n",
       "    $(fig.parent_element).html('<img src=\"' + dataURL + '\" width=\"' + width + '\">');\n",
       "    fig.close_ws(fig, msg);\n",
       "}\n",
       "\n",
       "mpl.figure.prototype.close_ws = function(fig, msg){\n",
       "    fig.send_message('closing', msg);\n",
       "    // fig.ws.close()\n",
       "}\n",
       "\n",
       "mpl.figure.prototype.push_to_output = function(remove_interactive) {\n",
       "    // Turn the data on the canvas into data in the output cell.\n",
       "    var width = this.canvas.width/mpl.ratio\n",
       "    var dataURL = this.canvas.toDataURL();\n",
       "    this.cell_info[1]['text/html'] = '<img src=\"' + dataURL + '\" width=\"' + width + '\">';\n",
       "}\n",
       "\n",
       "mpl.figure.prototype.updated_canvas_event = function() {\n",
       "    // Tell IPython that the notebook contents must change.\n",
       "    IPython.notebook.set_dirty(true);\n",
       "    this.send_message(\"ack\", {});\n",
       "    var fig = this;\n",
       "    // Wait a second, then push the new image to the DOM so\n",
       "    // that it is saved nicely (might be nice to debounce this).\n",
       "    setTimeout(function () { fig.push_to_output() }, 1000);\n",
       "}\n",
       "\n",
       "mpl.figure.prototype._init_toolbar = function() {\n",
       "    var fig = this;\n",
       "\n",
       "    var nav_element = $('<div/>');\n",
       "    nav_element.attr('style', 'width: 100%');\n",
       "    this.root.append(nav_element);\n",
       "\n",
       "    // Define a callback function for later on.\n",
       "    function toolbar_event(event) {\n",
       "        return fig.toolbar_button_onclick(event['data']);\n",
       "    }\n",
       "    function toolbar_mouse_event(event) {\n",
       "        return fig.toolbar_button_onmouseover(event['data']);\n",
       "    }\n",
       "\n",
       "    for(var toolbar_ind in mpl.toolbar_items){\n",
       "        var name = mpl.toolbar_items[toolbar_ind][0];\n",
       "        var tooltip = mpl.toolbar_items[toolbar_ind][1];\n",
       "        var image = mpl.toolbar_items[toolbar_ind][2];\n",
       "        var method_name = mpl.toolbar_items[toolbar_ind][3];\n",
       "\n",
       "        if (!name) { continue; };\n",
       "\n",
       "        var button = $('<button class=\"btn btn-default\" href=\"#\" title=\"' + name + '\"><i class=\"fa ' + image + ' fa-lg\"></i></button>');\n",
       "        button.click(method_name, toolbar_event);\n",
       "        button.mouseover(tooltip, toolbar_mouse_event);\n",
       "        nav_element.append(button);\n",
       "    }\n",
       "\n",
       "    // Add the status bar.\n",
       "    var status_bar = $('<span class=\"mpl-message\" style=\"text-align:right; float: right;\"/>');\n",
       "    nav_element.append(status_bar);\n",
       "    this.message = status_bar[0];\n",
       "\n",
       "    // Add the close button to the window.\n",
       "    var buttongrp = $('<div class=\"btn-group inline pull-right\"></div>');\n",
       "    var button = $('<button class=\"btn btn-mini btn-primary\" href=\"#\" title=\"Stop Interaction\"><i class=\"fa fa-power-off icon-remove icon-large\"></i></button>');\n",
       "    button.click(function (evt) { fig.handle_close(fig, {}); } );\n",
       "    button.mouseover('Stop Interaction', toolbar_mouse_event);\n",
       "    buttongrp.append(button);\n",
       "    var titlebar = this.root.find($('.ui-dialog-titlebar'));\n",
       "    titlebar.prepend(buttongrp);\n",
       "}\n",
       "\n",
       "mpl.figure.prototype._root_extra_style = function(el){\n",
       "    var fig = this\n",
       "    el.on(\"remove\", function(){\n",
       "\tfig.close_ws(fig, {});\n",
       "    });\n",
       "}\n",
       "\n",
       "mpl.figure.prototype._canvas_extra_style = function(el){\n",
       "    // this is important to make the div 'focusable\n",
       "    el.attr('tabindex', 0)\n",
       "    // reach out to IPython and tell the keyboard manager to turn it's self\n",
       "    // off when our div gets focus\n",
       "\n",
       "    // location in version 3\n",
       "    if (IPython.notebook.keyboard_manager) {\n",
       "        IPython.notebook.keyboard_manager.register_events(el);\n",
       "    }\n",
       "    else {\n",
       "        // location in version 2\n",
       "        IPython.keyboard_manager.register_events(el);\n",
       "    }\n",
       "\n",
       "}\n",
       "\n",
       "mpl.figure.prototype._key_event_extra = function(event, name) {\n",
       "    var manager = IPython.notebook.keyboard_manager;\n",
       "    if (!manager)\n",
       "        manager = IPython.keyboard_manager;\n",
       "\n",
       "    // Check for shift+enter\n",
       "    if (event.shiftKey && event.which == 13) {\n",
       "        this.canvas_div.blur();\n",
       "        event.shiftKey = false;\n",
       "        // Send a \"J\" for go to next cell\n",
       "        event.which = 74;\n",
       "        event.keyCode = 74;\n",
       "        manager.command_mode();\n",
       "        manager.handle_keydown(event);\n",
       "    }\n",
       "}\n",
       "\n",
       "mpl.figure.prototype.handle_save = function(fig, msg) {\n",
       "    fig.ondownload(fig, null);\n",
       "}\n",
       "\n",
       "\n",
       "mpl.find_output_cell = function(html_output) {\n",
       "    // Return the cell and output element which can be found *uniquely* in the notebook.\n",
       "    // Note - this is a bit hacky, but it is done because the \"notebook_saving.Notebook\"\n",
       "    // IPython event is triggered only after the cells have been serialised, which for\n",
       "    // our purposes (turning an active figure into a static one), is too late.\n",
       "    var cells = IPython.notebook.get_cells();\n",
       "    var ncells = cells.length;\n",
       "    for (var i=0; i<ncells; i++) {\n",
       "        var cell = cells[i];\n",
       "        if (cell.cell_type === 'code'){\n",
       "            for (var j=0; j<cell.output_area.outputs.length; j++) {\n",
       "                var data = cell.output_area.outputs[j];\n",
       "                if (data.data) {\n",
       "                    // IPython >= 3 moved mimebundle to data attribute of output\n",
       "                    data = data.data;\n",
       "                }\n",
       "                if (data['text/html'] == html_output) {\n",
       "                    return [cell, data, j];\n",
       "                }\n",
       "            }\n",
       "        }\n",
       "    }\n",
       "}\n",
       "\n",
       "// Register the function which deals with the matplotlib target/channel.\n",
       "// The kernel may be null if the page has been refreshed.\n",
       "if (IPython.notebook.kernel != null) {\n",
       "    IPython.notebook.kernel.comm_manager.register_target('matplotlib', mpl.mpl_figure_comm);\n",
       "}\n"
      ],
      "text/plain": [
       "<IPython.core.display.Javascript object>"
      ]
     },
     "metadata": {},
     "output_type": "display_data"
    },
    {
     "data": {
      "text/html": [
       "<img src=\"data:image/png;base64,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\" width=\"400\">"
      ],
      "text/plain": [
       "<IPython.core.display.HTML object>"
      ]
     },
     "metadata": {},
     "output_type": "display_data"
    }
   ],
   "source": [
    "x = np.linspace(0,5,1000)\n",
    "p = lambda x:100*x**6 - 1359*x**5 + 6836*x**4 - 15670*x**3 + 15870*x**2 - 5095*x\n",
    "fig = plt.figure(figsize=(4,4))\n",
    "plt.plot(x,p(x));\n",
    "plt.xlabel('x');\n",
    "plt.ylabel('y');"
   ]
  },
  {
   "cell_type": "markdown",
   "metadata": {
    "hidden": true
   },
   "source": [
    "Find all of the local minima and maxima.  Your code should display nicely formatted output.  Include both the location ($x$) and the value of the profit ($p(x)$) for each extrema.\n",
    "\n",
    "<font color = \"blue\"> *** 4 points -  code in cell below *** (don't delete this cell) </font>"
   ]
  },
  {
   "cell_type": "code",
   "execution_count": 101,
   "metadata": {
    "hidden": true
   },
   "outputs": [
    {
     "name": "stdout",
     "output_type": "stream",
     "text": [
      "Minima:\n",
      "\t1: (0.2277, -504.751)\n",
      "\t2: (2.1612, 183.0706)\n",
      "\t3: (4.5651, -3719.64)\n",
      "Maxima:\n",
      "\t1: (1.1872, 753.4511)\n",
      "\t2: (3.1839, 906.9019)\n"
     ]
    }
   ],
   "source": [
    "minima_set = set()\n",
    "maxima_set = set()\n",
    "\n",
    "for i in range(0,6):\n",
    "    minima = minimize(p,i)\n",
    "    maxima = minimize(lambda x: -p(x), i)\n",
    "    \n",
    "    if isinstance(minima.fun,np.ndarray):\n",
    "        minima.fun = minima.fun[0]\n",
    "        \n",
    "    if isinstance(maxima.fun,np.ndarray):\n",
    "        maxima.fun = maxima.fun[0]\n",
    "\n",
    "    minima_coords = tuple((round(minima.x[0],4), round(minima.fun,4)))\n",
    "    minima_set.add(minima_coords)\n",
    " \n",
    "    if round(maxima.x[0],4) >= 0 and round(maxima.x[0],4) <= 6:\n",
    "        x_val = round(np.abs(maxima.x[0]),4)\n",
    "        y_val = round(np.abs(maxima.fun),4)\n",
    "        maxima_coords = tuple((x_val, y_val))\n",
    "        maxima_set.add(maxima_coords)\n",
    "    \n",
    "minima_set = sorted(minima_set, key=lambda x: x[0])\n",
    "maxima_set = sorted(maxima_set, key=lambda x: x[0])\n",
    "\n",
    "print(f\"Minima:\")\n",
    "for i, coords in enumerate(minima_set,1):\n",
    "    print(f\"\\t{i}: {coords}\")\n",
    "\n",
    "print(f\"Maxima:\")\n",
    "for i, coords in enumerate(maxima_set,1):\n",
    "    print(f\"\\t{i}: {coords}\")"
   ]
  },
  {
   "cell_type": "markdown",
   "metadata": {
    "hidden": true
   },
   "source": [
    "Write a multistart procedure that starts from uniform randomly sampled points in $[0,5]$ to locate the absolute maximum value of profit.  \n",
    "\n",
    "<font color = \"blue\"> *** 4 points -  code in cell below *** (don't delete this cell) </font>"
   ]
  },
  {
   "cell_type": "code",
   "execution_count": 0,
   "metadata": {
    "hidden": true
   },
   "outputs": [],
   "source": [
    "np.random.seed(6)\n",
    "dist = np.random.uniform(0,6,1000)\n",
    "\n",
    "max_profit\n",
    "for i in dist:\n",
    "    result = minimize(p,i)\n",
    "    \n",
    "    if isinstance(result.fun,np.ndarray):\n",
    "        result.fun = result.fun[0]\n",
    "\n",
    "    print(f\"at x = {i}, p({round(result.x[0],4)}) == {round(result.fun,4)}\")"
   ]
  },
  {
   "cell_type": "markdown",
   "metadata": {
    "heading_collapsed": true
   },
   "source": [
    "# Simple Linear Regression"
   ]
  },
  {
   "cell_type": "markdown",
   "metadata": {
    "hidden": true
   },
   "source": [
    "To find the line of least squares fit of the form $\\hat{y} = b_0 + b_1 x$ to fit data of the form $(x_1,y_1), (x_2,y_2),\\ldots,(x_n,y_n)$ we minimize a loss function.  The loss function is the sum of the squares residuals and only depends on $b_0$ and $b_1$ for fixed $xy$-data:\n",
    "\n",
    "$$ SS(b_0,b_1) = \\sum_{i=1}^{n} \\left( y_i - \\hat{y}_i \\right)^2 = \\sum_{i=1}^{n} \\left( y_i - (b_0 + b_1 x_i) \\right)^2 $$.\n",
    "\n",
    "The file age_height.csv contains ages (years) and heights (inches) for 7 children. Write Python code to evaluate the loss function (follow along with the logistic regression example) and use `minimize` to identify the coefficients of the line of least squares fit for predicting height ($y$) from ($age$).  Include a scatter plot of the data that includes a plot of the line.\n",
    "\n",
    "<font color = \"blue\"> *** 8 points -  answer in cell below *** (don't delete this cell) </font>"
   ]
  },
  {
   "cell_type": "markdown",
   "metadata": {
    "heading_collapsed": true
   },
   "source": [
    "# Knapsack Optimization"
   ]
  },
  {
   "cell_type": "markdown",
   "metadata": {
    "hidden": true
   },
   "source": [
    "The knapsack problem is a classical combinatorial optimization problem that will be good for practicing with the ideas of discrete local search and multistart.  Given a set of items, each with a weight and a value, determine which items to include in a collection so that the total weight is less than or equal to a given limit and the total value is as large as possible.  In the 0-1 version of the knapsack problem, the decision variables are binary (or boolean) and represent whether or not to include each item in the collection.  We'll start with 20 items and you need to determine the collection of items that maximizes the value and keeps the total weight under 50."
   ]
  },
  {
   "cell_type": "code",
   "execution_count": 9,
   "metadata": {
    "hidden": true
   },
   "outputs": [],
   "source": [
    "# generate random weights and values for a knapsack problem\n",
    "import numpy as np\n",
    "num_items = 20\n",
    "np.random.seed(seed=123)\n",
    "values = np.random.randint(low=5, high=50, size=num_items)\n",
    "weights = np.random.randint(low=1, high=10, size=num_items)\n",
    "max_weight = 50\n",
    "np.random.seed() # use system clock to reset the seed so future random numbers will appear random"
   ]
  },
  {
   "cell_type": "markdown",
   "metadata": {
    "hidden": true
   },
   "source": [
    "The variables will be a vector of booleans of length `num_items`.  We could initialize a vector like this and then set the vector to include the 1st, 3rd, and 5th items:"
   ]
  },
  {
   "cell_type": "code",
   "execution_count": 7,
   "metadata": {
    "hidden": true
   },
   "outputs": [
    {
     "data": {
      "text/plain": [
       "array([ True, False,  True, False,  True, False, False, False, False,\n",
       "       False, False, False, False, False, False, False, False, False,\n",
       "       False, False])"
      ]
     },
     "execution_count": 7,
     "metadata": {},
     "output_type": "execute_result"
    }
   ],
   "source": [
    "x = np.zeros(num_items, dtype = bool)  # all false\n",
    "x[[0,2,4]] = True\n",
    "x"
   ]
  },
  {
   "cell_type": "markdown",
   "metadata": {
    "hidden": true
   },
   "source": [
    "The total weight of the items included in the collection:"
   ]
  },
  {
   "cell_type": "code",
   "execution_count": 11,
   "metadata": {
    "hidden": true
   },
   "outputs": [
    {
     "data": {
      "text/plain": [
       "11"
      ]
     },
     "execution_count": 11,
     "metadata": {},
     "output_type": "execute_result"
    }
   ],
   "source": [
    "tot_weight = sum( weights[x] )\n",
    "tot_weight"
   ]
  },
  {
   "cell_type": "markdown",
   "metadata": {
    "hidden": true
   },
   "source": [
    "The total value of the items included in the collection:"
   ]
  },
  {
   "cell_type": "code",
   "execution_count": 0,
   "metadata": {
    "hidden": true
   },
   "outputs": [],
   "source": [
    "tot_value = sum( values[x] )\n",
    "tot_value"
   ]
  },
  {
   "cell_type": "markdown",
   "metadata": {
    "hidden": true
   },
   "source": [
    "Implement a local search where the search starts with no items included in the collection and generates new states (moves) by randomly choosing one of the booleans in the state vector and toggling it.  Like this:"
   ]
  },
  {
   "cell_type": "code",
   "execution_count": 42,
   "metadata": {
    "hidden": true
   },
   "outputs": [
    {
     "data": {
      "text/plain": [
       "array([False,  True,  True,  True,  True,  True,  True,  True,  True,\n",
       "        True, False, False,  True,  True,  True, False, False, False,\n",
       "       False,  True])"
      ]
     },
     "execution_count": 42,
     "metadata": {},
     "output_type": "execute_result"
    }
   ],
   "source": [
    "# try executing this cell a few times and watch x change\n",
    "bit_to_flip = np.random.randint(num_items)\n",
    "x[bit_to_flip] = ~x[bit_to_flip]\n",
    "x"
   ]
  },
  {
   "cell_type": "markdown",
   "metadata": {
    "hidden": true
   },
   "source": [
    "Accept the state if the total weight is is $\\leq 50$ and maximize the value by moving uphill\n",
    "\n",
    "(a) Write a local search algorithm that moves uphill  until no improvements have been made in the last 1000 iterations.  Write the algorithm as a function with the values and weights as inputs and returns the best collection of items to include as well as the value and weight of that collection.\n",
    "\n",
    "<font color = \"blue\"> *** 5 points -  answer in cell below *** (don't delete this cell) </font>"
   ]
  },
  {
   "cell_type": "code",
   "execution_count": 0,
   "metadata": {
    "hidden": true
   },
   "outputs": [],
   "source": [
    "def knapsack_local(weights,values):\n",
    "# you complete"
   ]
  },
  {
   "cell_type": "markdown",
   "metadata": {
    "hidden": true
   },
   "source": [
    "(b) Now write a loop to do this 100 local searches (each with random moves starting from a collection with no items in it.  Clearly identify the best overall solution.  Next week we'll see some alternative search tecniques that will generally enable us to find better solutions.\n",
    "\n",
    "<font color = \"blue\"> *** 5 points -  answer in cell below *** (don't delete this cell) </font>"
   ]
  },
  {
   "cell_type": "code",
   "execution_count": 0,
   "metadata": {
    "hidden": true
   },
   "outputs": [],
   "source": []
  }
 ],
 "metadata": {
  "kernelspec": {
   "display_name": "anaconda3",
   "language": "python",
   "name": "anaconda3"
  },
  "language_info": {
   "codemirror_mode": {
    "name": "ipython",
    "version": 3
   },
   "file_extension": ".py",
   "mimetype": "text/x-python",
   "name": "python",
   "nbconvert_exporter": "python",
   "pygments_lexer": "ipython3",
   "version": "3.7.3"
  },
  "toc": {
   "base_numbering": 1,
   "nav_menu": {},
   "number_sections": true,
   "sideBar": true,
   "skip_h1_title": false,
   "title_cell": "Table of Contents",
   "title_sidebar": "Contents",
   "toc_cell": false,
   "toc_position": {},
   "toc_section_display": true,
   "toc_window_display": false
  },
  "varInspector": {
   "cols": {
    "lenName": 16,
    "lenType": 16,
    "lenVar": 40
   },
   "kernels_config": {
    "python": {
     "delete_cmd_postfix": "",
     "delete_cmd_prefix": "del ",
     "library": "var_list.py",
     "varRefreshCmd": "print(var_dic_list())"
    },
    "r": {
     "delete_cmd_postfix": ") ",
     "delete_cmd_prefix": "rm(",
     "library": "var_list.r",
     "varRefreshCmd": "cat(var_dic_list()) "
    }
   },
   "types_to_exclude": [
    "module",
    "function",
    "builtin_function_or_method",
    "instance",
    "_Feature"
   ],
   "window_display": false
  }
 },
 "nbformat": 4,
 "nbformat_minor": 1
}
