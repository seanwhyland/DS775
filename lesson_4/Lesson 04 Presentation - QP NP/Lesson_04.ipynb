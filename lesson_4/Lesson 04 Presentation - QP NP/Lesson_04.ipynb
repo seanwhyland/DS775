{
 "cells": [
  {
   "cell_type": "markdown",
   "metadata": {},
   "source": [
    "<font size=18>Lesson 04: Quadratic Programming and Local Optimization</font>"
   ]
  },
  {
   "cell_type": "code",
   "execution_count": 3,
   "metadata": {},
   "outputs": [
    {
     "data": {
      "text/plain": [
       "['/Users/ebolotin/Dropbox/techdev/uwl/775/lesson_4/Lesson 04 Presentation - QP NP',\n",
       " '/usr/local/Cellar/python/3.7.4/Frameworks/Python.framework/Versions/3.7/lib/python37.zip',\n",
       " '/usr/local/Cellar/python/3.7.4/Frameworks/Python.framework/Versions/3.7/lib/python3.7',\n",
       " '/usr/local/Cellar/python/3.7.4/Frameworks/Python.framework/Versions/3.7/lib/python3.7/lib-dynload',\n",
       " '',\n",
       " '/Users/ebolotin/Library/Python/3.7/lib/python/site-packages',\n",
       " '/usr/local/lib/python3.7/site-packages',\n",
       " '/usr/local/Cellar/numpy/1.16.4_1/libexec/nose/lib/python3.7/site-packages',\n",
       " '/usr/local/lib/python3.7/site-packages/IPython/extensions',\n",
       " '/Users/ebolotin/.ipython']"
      ]
     },
     "execution_count": 3,
     "metadata": {},
     "output_type": "execute_result"
    }
   ],
   "source": [
    "import sys\n",
    "sys.path"
   ]
  },
  {
   "cell_type": "code",
   "execution_count": null,
   "metadata": {
    "code_folding": [
     0
    ]
   },
   "outputs": [],
   "source": [
    "# execute to import notebook styling for tables and width etc.\n",
    "from IPython.core.display import HTML\n",
    "import urllib.request\n",
    "response = urllib.request.urlopen('https://raw.githubusercontent.com/DataScienceUWL/DS775v2/master/ds755.css')\n",
    "HTML(response.read().decode(\"utf-8\"));"
   ]
  },
  {
   "cell_type": "code",
   "execution_count": 5,
   "metadata": {
    "code_folding": [
     0
    ]
   },
   "outputs": [
    {
     "ename": "ModuleNotFoundError",
     "evalue": "No module named 'ipopt'",
     "output_type": "error",
     "traceback": [
      "\u001b[0;31m---------------------------------------------------------------------------\u001b[0m",
      "\u001b[0;31mModuleNotFoundError\u001b[0m                       Traceback (most recent call last)",
      "\u001b[0;32m<ipython-input-5-5356c5d65e03>\u001b[0m in \u001b[0;36m<module>\u001b[0;34m\u001b[0m\n\u001b[1;32m     13\u001b[0m \u001b[0;31m# from mpl_toolkits.basemap import Basemap\u001b[0m\u001b[0;34m\u001b[0m\u001b[0;34m\u001b[0m\u001b[0;34m\u001b[0m\u001b[0m\n\u001b[1;32m     14\u001b[0m \u001b[0;32mimport\u001b[0m \u001b[0mmpl_toolkits\u001b[0m\u001b[0;34m\u001b[0m\u001b[0;34m\u001b[0m\u001b[0m\n\u001b[0;32m---> 15\u001b[0;31m \u001b[0;32mimport\u001b[0m \u001b[0mipopt\u001b[0m\u001b[0;34m\u001b[0m\u001b[0;34m\u001b[0m\u001b[0m\n\u001b[0m",
      "\u001b[0;31mModuleNotFoundError\u001b[0m: No module named 'ipopt'"
     ]
    }
   ],
   "source": [
    "# imports\n",
    "%matplotlib notebook\n",
    "import numpy as np\n",
    "from scipy import interpolate\n",
    "from scipy.optimize import minimize\n",
    "import babel.numbers as numbers\n",
    "import matplotlib.pyplot as plt\n",
    "from matplotlib.patches import Polygon\n",
    "import json\n",
    "import time\n",
    "import seaborn as sns\n",
    "sns.set_style(\"darkgrid\")\n",
    "# from mpl_toolkits.basemap import Basemap\n",
    "import mpl_toolkits\n",
    "import ipopt"
   ]
  },
  {
   "cell_type": "markdown",
   "metadata": {
    "heading_collapsed": true
   },
   "source": [
    "# Optimization Basics (video)"
   ]
  },
  {
   "cell_type": "markdown",
   "metadata": {
    "hidden": true
   },
   "source": [
    "Work your way through the embedded storybook below to learn some basic ideas about optimization.  This material complements the material in the textbook.  The graphs and demos in Slides 9-11 are available in the separate file Storybook_Graphs_04.ipynb."
   ]
  },
  {
   "cell_type": "code",
   "execution_count": null,
   "metadata": {
    "code_folding": [
     0
    ],
    "hidden": true
   },
   "outputs": [],
   "source": [
    "# execute this cell for video\n",
    "from IPython.display import IFrame\n",
    "IFrame(\n",
    "    \"https://media.uwex.edu/content/ds/ds775_r19/ds775_lesson4-optimization-basics/index.html\",\n",
    "    width=900,\n",
    "    height=600)"
   ]
  },
  {
   "cell_type": "markdown",
   "metadata": {
    "heading_collapsed": true
   },
   "source": [
    "# Quadratic Programming"
   ]
  },
  {
   "cell_type": "markdown",
   "metadata": {
    "hidden": true
   },
   "source": [
    "You should read about quadratic programming in the textbook.  In short, the constraints are the same as they are in linear programming and the objective function can have degree 2 and interaction terms.  In Pyomo it is only a matter of changing the solver to one capable of solving quadratic programs, `ipopt`, instead of `glpk`.  Other solvers like CPLEX, a commercial solver, could also be used.  You  may need to install `ipopt` using conda on your own machine."
   ]
  },
  {
   "cell_type": "markdown",
   "metadata": {
    "heading_collapsed": true,
    "hidden": true
   },
   "source": [
    "## Wyndor Example"
   ]
  },
  {
   "cell_type": "markdown",
   "metadata": {
    "hidden": true
   },
   "source": [
    "We'll use Pyomo to solve the quadratic variation of the Wyndor problem illustrated in Figure 13.6 on page 554.\n",
    "\n",
    "<img src=\"images/wyndor_quad.png\" width=\"600\">\n",
    "\n",
    "This profit function is kind of nonsensical, but it will serve to illustrate a Pyomo solution.  We'll use a concrete model formulation for simplicity.  Note, the Pyomo package `minimize` conflicts with the `minimize` from `scipy.optimize` we're using elsewhere in this notebook, so we'll import `pyomo` a bit differently here than usual.  Alternately we could re-import `minimize` from `scipy.optimize` after we're done with Pyomo."
   ]
  },
  {
   "cell_type": "code",
   "execution_count": null,
   "metadata": {
    "code_folding": [],
    "hidden": true
   },
   "outputs": [],
   "source": [
    "# unfold to see Pyomo solution for Wyndor Quadratic Program\n",
    "import pyomo.environ as pyo\n",
    "\n",
    "# Concrete Model\n",
    "model = pyo.ConcreteModel(name=\"Wyndor\")\n",
    "\n",
    "products = ['drs', 'wdw']\n",
    "\n",
    "bounds_dict = {'drs': (0, 4), 'wdw': (0, 6)}\n",
    "\n",
    "\n",
    "def bounds_rule(model, product):\n",
    "    return (bounds_dict[product])\n",
    "\n",
    "\n",
    "model.x = pyo.Var(products, domain=pyo.Reals, bounds=bounds_rule)\n",
    "\n",
    "# Objective\n",
    "model.profit = pyo.Objective(expr=126.0 * model.x['drs'] -\n",
    "                         9.0 * model.x['drs']**2 + 182.0 * model.x['wdw'] -\n",
    "                         13.0 * model.x['wdw']**2.0,\n",
    "                         sense=pyo.maximize)\n",
    "\n",
    "# Constraints\n",
    "model.Constraint3 = pyo.Constraint(\n",
    "    expr=3.0 * model.x['drs'] + 2.0 * model.x['wdw'] <= 18)\n",
    "\n",
    "# Solve\n",
    "solver = pyo.SolverFactory('ipopt')\n",
    "solver.solve(model)\n",
    "\n",
    "# display(model)\n",
    "\n",
    "# display solution\n",
    "import babel.numbers as numbers  # needed to display as currency\n",
    "print(\"Profit = \",\n",
    "      numbers.format_currency(1000 * model.profit(), 'USD', locale='en_US'))\n",
    "print(\"Batches of Doors = {:1.2f}\".format(model.x['drs']()))\n",
    "print(\"Batches of Windows = {:1.2f}\".format(model.x['wdw']()))"
   ]
  },
  {
   "cell_type": "markdown",
   "metadata": {
    "heading_collapsed": true
   },
   "source": [
    "# Local Search - Continuous Variables"
   ]
  },
  {
   "cell_type": "markdown",
   "metadata": {
    "hidden": true
   },
   "source": [
    "Local search algorithms for continuous variables are generally based on approximating the objective function near the current search point, then using that approximation to compute an improved search point.  For instance if we can calculate the gradient (calculus) or approximate it, then a move along the gradient direction will increase the value of the function.  \n",
    "\n",
    "We'll primarily use the `scipy.optimize` function `minimize` for local search on continuous functions.  You can read more about it below.  "
   ]
  },
  {
   "cell_type": "markdown",
   "metadata": {
    "heading_collapsed": true,
    "hidden": true
   },
   "source": [
    "## Minimize from scipy.optimize"
   ]
  },
  {
   "cell_type": "code",
   "execution_count": null,
   "metadata": {
    "code_folding": [
     0
    ],
    "hidden": true,
    "scrolled": true
   },
   "outputs": [],
   "source": [
    "# execute this cell to see scipy.optimize.minimize documentation\n",
    "from IPython.display import IFrame\n",
    "IFrame(\n",
    "    \"https://docs.scipy.org/doc/scipy/reference/generated/scipy.optimize.minimize.html#scipy.optimize.minimize\",\n",
    "    width=900,\n",
    "    height=600)"
   ]
  },
  {
   "cell_type": "markdown",
   "metadata": {
    "hidden": true
   },
   "source": [
    "While there are many options here, the defaults will serve well for our purposes.  The `method` specifies a variety of different numerical algorithms for local search.  We'll use `BFGS` for unbounded problems and `L-BFGS-B` for problems with bounds.  You shouldn't have to specify that choice as those are the defaults.  The BFGS methods are robust algorithms and are known as quasi-Newton methods.  What this means is that they approximate the shape of the objective function near the current point by approximating the derivatives (slopes and curvature) of the function and that shape information is used to produce an improved search point. \n",
    "\n",
    "One of the things to pay attention to here is how we have to write our objective functions so that they can be passed to the `minimize` function."
   ]
  },
  {
   "cell_type": "markdown",
   "metadata": {
    "hidden": true
   },
   "source": [
    "### A univariate function"
   ]
  },
  {
   "cell_type": "markdown",
   "metadata": {
    "hidden": true
   },
   "source": [
    "Lets investigate the fourth degree polynomial $$p(x) = x^4 + 2 x^3 + 3 x^2 + 2 x + 1.$$  Let's graph it to get an idea of the behavior. "
   ]
  },
  {
   "cell_type": "code",
   "execution_count": null,
   "metadata": {
    "code_folding": [
     0
    ],
    "hidden": true
   },
   "outputs": [],
   "source": [
    "# plot p(x) on [-10,10]\n",
    "x = np.linspace(-10,10,201)\n",
    "p = lambda x:x**4 + 2*x**3 + 3*x**2 + 2*x + 1\n",
    "fig = plt.figure(figsize=(4,3.5))\n",
    "plt.plot(x,p(x));\n",
    "plt.xlabel('x');\n",
    "plt.ylabel('y');"
   ]
  },
  {
   "cell_type": "markdown",
   "metadata": {
    "hidden": true
   },
   "source": [
    "The overall \"U\" shape is not surprising since for polynomials the behavior for large values of $x$ is determined by the highest degree term which is, in this case, $x^4$.  It appears that there is a minimum or minima close to the origin.  Let's zoom in a bit to see what we can:"
   ]
  },
  {
   "cell_type": "code",
   "execution_count": null,
   "metadata": {
    "code_folding": [
     0
    ],
    "hidden": true,
    "scrolled": false
   },
   "outputs": [],
   "source": [
    "# plot p(x) on [-3,3]\n",
    "x = np.linspace(-3,3,201)\n",
    "p = lambda x:x**4 + 2*x**3 + 3*x**2 + 2*x + 1\n",
    "fig = plt.figure(figsize=(4,3.5))\n",
    "plt.plot(x,p(x));\n",
    "plt.xlabel('x');\n",
    "plt.ylabel('y');"
   ]
  },
  {
   "cell_type": "markdown",
   "metadata": {
    "hidden": true
   },
   "source": [
    "There appears to be only one minimum somewhere around $x=0$ or $x=-1$.  Since the function appears to be convex, the starting point doesn't matter.  Let's search for the minimum beginning at $x_0 = -2$:"
   ]
  },
  {
   "cell_type": "code",
   "execution_count": null,
   "metadata": {
    "code_folding": [
     0
    ],
    "hidden": true,
    "scrolled": true
   },
   "outputs": [],
   "source": [
    "# execute for local search\n",
    "result = minimize(p,-2)\n",
    "result"
   ]
  },
  {
   "cell_type": "code",
   "execution_count": null,
   "metadata": {
    "hidden": true
   },
   "outputs": [],
   "source": [
    "print('The minimum value is {:0.4f} and occurs at x = {:0.4f}'.format(result.fun,result.x[0]))"
   ]
  },
  {
   "cell_type": "markdown",
   "metadata": {
    "code_folding": [],
    "hidden": true
   },
   "source": [
    "###  <font color = \"blue\">Self Assessment:  Minimize to Maximize</font>"
   ]
  },
  {
   "cell_type": "markdown",
   "metadata": {
    "hidden": true
   },
   "source": [
    "An apartment complex has 250 apartments to rent and that their profit in thousands of dollars is given by the function \n",
    "$$P(x) = -0.008 x^2 + 3.1 x - 80.$$\n",
    "Find the maximum profit and how many apartments to rent to achieve the maximum profit.  Use minimize from scipy.optimize to find the maximum.  Review the video above to see how to \"flip\" the problem to find a maximum."
   ]
  },
  {
   "cell_type": "code",
   "execution_count": null,
   "metadata": {
    "code_folding": [],
    "hidden": true
   },
   "outputs": [],
   "source": [
    "# graph of profit function\n",
    "x = np.linspace(0,250,201) # 201 points between 0 and 250\n",
    "P = lambda x:-1*(-0.008*x**2 + 3.1*x - 80) # lambda is for writing one line functions\n",
    "fig = plt.figure(figsize=(4,3.5));\n",
    "plt.plot(x,P(x));\n",
    "plt.xlabel('apartments');\n",
    "plt.ylabel('profit (\\$ thousands)');"
   ]
  },
  {
   "cell_type": "code",
   "execution_count": null,
   "metadata": {
    "hidden": true
   },
   "outputs": [],
   "source": [
    "# execute for local search\n",
    "result = minimize(P,150)\n",
    "print(f\"{-1*result.fun},{result.x[0]}\")"
   ]
  },
  {
   "cell_type": "markdown",
   "metadata": {
    "hidden": true
   },
   "source": [
    "Your answer shouldn't be an integer.  We could use discrete optimization and only optimize integer numbers of apartments, but it will usually be more computationally intensive.  Instead we're using a continuous variable to get an approximation to the discrete problem, this is called **relaxation** (we've relaxed the integer variable condition).  So what whole number of apartments should you rent?  Why? "
   ]
  },
  {
   "cell_type": "markdown",
   "metadata": {
    "hidden": true
   },
   "source": [
    "### <font color = \"blue\">Self Assessment:  Finding Multiple Extrema</font>"
   ]
  },
  {
   "cell_type": "markdown",
   "metadata": {
    "hidden": true
   },
   "source": [
    "The function $f(x) = x^5 - x^4 - 18 x^3 + 16 x^2 + 32 x - 2$ for $-4 \\leq x \\leq 3.6$ appears in the video \"Gradient Descent and Local Minima\" above.  Plot the function on the given interval.  Use the graph to guess where the local maxima and minima are.  Now use minimize from scipy.optimize to find the $x$ and $y$ coordinates of all the extrema.  If you supply a bounds argument to `minimize` you may get unexpected results, instead use the graph to make reasonable guesses to the location of the optima."
   ]
  },
  {
   "cell_type": "markdown",
   "metadata": {
    "code_folding": [],
    "heading_collapsed": true,
    "hidden": true
   },
   "source": [
    "## Example: Simple Logistic Regression"
   ]
  },
  {
   "cell_type": "markdown",
   "metadata": {
    "hidden": true
   },
   "source": [
    "### Video Walkthrough of this example"
   ]
  },
  {
   "cell_type": "code",
   "execution_count": null,
   "metadata": {
    "hidden": true
   },
   "outputs": [],
   "source": [
    "# execute this cell for video\n",
    "from IPython.display import IFrame\n",
    "IFrame(\n",
    "    \"https://media.uwex.edu/content/ds/ds775_r19/ds775_lesson4-logistic-regression/index.html\",\n",
    "    width=640,\n",
    "    height=360)"
   ]
  },
  {
   "cell_type": "markdown",
   "metadata": {
    "hidden": true
   },
   "source": [
    "### Setup for Logistic Regression"
   ]
  },
  {
   "cell_type": "markdown",
   "metadata": {
    "hidden": true
   },
   "source": [
    "Most machine learning algorithms are driven by optimization.  Usually we want to minimize a loss function which measures the difference between the model predictions and the observed data.  Neural network training uses a version of the gradient descent algorithm to optimize the weights in the network.  Here we'll show how to fit a logistic regression model by maximizing a function.\n",
    "\n",
    "In simple logistic regression we try to predict the value of the label $y$, which can be 0 or 1, for each value of a continuous predictor variable $x$.  In particular, the conditional probability that $y=1$ given the current value of $x$ is modeled by a sigmoid function (\"s\" curve) $$p(x) = \\frac{1}{1 + e^{-(b_0 + b_1 x)}}.$$\n",
    "\n",
    "For example, the more hours a student studies to prepare for an exam, the higher the probability that they will pass the test.  Shown below is some data.  For each student we have the number of hours they studied and whether or not they passed the exam (1 for passed, 0 for failed).  This example data comes from the <a href=\"https://en.wikipedia.org/wiki/Logistic_regression\">Wikipedia article on Logistic Regresssion</a>."
   ]
  },
  {
   "cell_type": "markdown",
   "metadata": {
    "hidden": true
   },
   "source": [
    "### An example"
   ]
  },
  {
   "cell_type": "code",
   "execution_count": null,
   "metadata": {
    "hidden": true
   },
   "outputs": [],
   "source": [
    "# data from \n",
    "x_hours = np.array([\n",
    "    0.5, 0.75, 1.0, 1.25, 1.5, 1.75, 1.75, 2.0, 2.25, 2.50, 2.75, 3.00, 3.25,\n",
    "    3.5, 4.0, 4.25, 4.5, 4.75, 5.0, 5.5\n",
    "])\n",
    "y_passed = np.array([0,0,0,0,0,0,1,0,1,0,1,0,1,0,1,1,1,1,1,1])"
   ]
  },
  {
   "cell_type": "markdown",
   "metadata": {
    "hidden": true
   },
   "source": [
    "Below is a graph of the data along with the graph of the fitted sigmoid function that models the probality of $y=1$ at each $x$.  Don't worry, we'll see where the fitted curve comes from in a bit."
   ]
  },
  {
   "cell_type": "code",
   "execution_count": null,
   "metadata": {
    "code_folding": [
     0
    ],
    "hidden": true
   },
   "outputs": [],
   "source": [
    "# graph of data and sigmoid\n",
    "b0 = -4.07771657\n",
    "b1 = 1.5046468\n",
    "hours_studied = np.linspace(0,6,101)\n",
    "def sigmoid(x,intercept,slope):\n",
    "    return( 1.0 / (1.0 + np.exp( -(intercept + slope * x) ) ) )\n",
    "prob_passed = sigmoid(hours_studied, b0, b1)\n",
    "\n",
    "fig = plt.figure();\n",
    "fig.set_size_inches(6,3.5);\n",
    "ax = fig.add_subplot(111);\n",
    "ax.scatter(x_hours, y_passed);\n",
    "ax.plot(hours_studied, prob_passed);\n",
    "ax.set_xlabel('hours studied');\n",
    "ax.set_ylabel('passed');"
   ]
  },
  {
   "cell_type": "markdown",
   "metadata": {
    "hidden": true
   },
   "source": [
    "We can use the model to make predictions:"
   ]
  },
  {
   "cell_type": "code",
   "execution_count": null,
   "metadata": {
    "hidden": true
   },
   "outputs": [],
   "source": [
    "print(\n",
    "    'A student who studies 4 hours has approximately {:3.1f}% chance of passing.'\n",
    "    .format(100 * sigmoid(4, b0, b1)))"
   ]
  },
  {
   "cell_type": "markdown",
   "metadata": {
    "hidden": true
   },
   "source": [
    "*Note:  It isn't important to understand the details of logistic regression for this class, but the text in this cell gives a bit of background.*\n",
    "\n",
    "Where do those values for the slope and intercept come from?  To obtain those we find the values of $b_0$ and $b_1$ that maximize the likelihood function:\n",
    "$$ L(b_0,b_1) = \\prod_{i=1}^{n} p(x_i)^{y_i} (1-p(x_i))^{(1-y_i)}$$\n",
    "where $(x_i,y_i)$ are the data pairs for each student and $p(x) = \\displaystyle \\frac{1}{1 + e^{-(b_0 + b_1 x)}}$ is the sigmoid function.  By maximizing the likelihood function we are maximizing the probability that this model produced the observed data.  Note that the $\\prod$ symbol means to take the product of the values, like $\\sum$ means to take the sum.\n",
    "\n",
    "In practice, maximizing a product can lead to numerical difficulties, so we instead maximize the log-likelihood function found by taking the logarithm of $L(b_0,b_1)$ to get:\n",
    "$$LL(b_0, b_1) = \\sum_{i = 1}^{n} \\left[ y_i \\log( p(x_i) ) + (1-y_i) \\log(1-p(x_i)) \\right].$$\n",
    "\n",
    "Now we need to find $b_0$ and $b_1$ to maximize this.  The log-likelihood function turns out to be concave so that ascending from any starting point will lead to the global maximum.  \n",
    "\n",
    "Because we will use the `minimize` function from `scipy.optimize` to find the maximum log-likelihood we'll minimize the negative log-likelihood:"
   ]
  },
  {
   "cell_type": "markdown",
   "metadata": {
    "hidden": true
   },
   "source": [
    "### Find the model with `minimize`"
   ]
  },
  {
   "cell_type": "code",
   "execution_count": null,
   "metadata": {
    "hidden": true
   },
   "outputs": [],
   "source": [
    "def neg_log_loss( coef, *args):\n",
    "    b0 = coef[0]\n",
    "    b1 = coef[1]\n",
    "    x = args[0]\n",
    "    y = args[1]\n",
    "    p = 1.0/(1.0 + np.exp(-(b0 + b1*x)))\n",
    "    ll = sum( y*np.log(p)+(1-y)*np.log(1-p) )\n",
    "    return(-ll) # here's the minus sign!"
   ]
  },
  {
   "cell_type": "markdown",
   "metadata": {
    "hidden": true
   },
   "source": [
    "Take a minute to see how this function is structured and perhaps glance at the documentation again.  `coef` is a one-dimensional array with shape (n,) that contains all $n$ optimization variables.  In this case there are two which we assign to $b_0$ and $b_1$.  `*args` is a pointer to tuple `args` that contains any additional parameters that should be passed to the function.  In the case `minimize` will be passing the tuple $(x,y)$ that contains the training data.  We'll pass `args = (x_hours, y_passed)`."
   ]
  },
  {
   "cell_type": "code",
   "execution_count": null,
   "metadata": {
    "hidden": true
   },
   "outputs": [],
   "source": [
    "result = minimize(neg_log_loss,[0,0],args=(x_hours,y_passed))\n",
    "result"
   ]
  },
  {
   "cell_type": "code",
   "execution_count": null,
   "metadata": {
    "hidden": true
   },
   "outputs": [],
   "source": [
    "b0 = result.x[0]\n",
    "b1 = result.x[1]\n",
    "print('The maximum likelihood estimate for p(x) has intercept b0 = {:2.3f} and slope b1 = {:2.3f}'.format(b0,b1))"
   ]
  },
  {
   "cell_type": "markdown",
   "metadata": {
    "hidden": true
   },
   "source": [
    "Note:  the approach outlined here for logisitic regression is very similar to the actual algorithms used by most software for computing logistic regression models. Many machine learning predictive models are trained by optimization.  To verify our results we check our results against those from Sci-kit Learn.  By default sklearn uses an L2 regularization term to avoid overfitting (more about this in DS740).  The amount of regularization is proportional to $1/C$ so we just use a huge $C$ to mimic no regularization."
   ]
  },
  {
   "cell_type": "code",
   "execution_count": null,
   "metadata": {
    "hidden": true
   },
   "outputs": [],
   "source": [
    "from sklearn.linear_model import LogisticRegression    \n",
    "model = LogisticRegression(C=1.0e10,fit_intercept = True)\n",
    "model.fit(x_hours.reshape(-1,1), y_passed)\n",
    "b0 = model.intercept_[0]\n",
    "b1 = model.coef_[0][0]\n",
    "print('The maximum likelihood estimate for p(x) has intercept b0 = {:2.3f} and slope b1 = {:2.3f}'.format(b0,b1))"
   ]
  },
  {
   "cell_type": "markdown",
   "metadata": {
    "hidden": true
   },
   "source": [
    "## Example:  The Rastrigin Function"
   ]
  },
  {
   "cell_type": "markdown",
   "metadata": {
    "hidden": true
   },
   "source": [
    "The Rastrigin function is a common test case for optimization algorithms because it has many local minima.  The definition of the function is \n",
    "$$f(\\mathbf{x})=10 n+\\sum_{i=1}^{n}\\left[x_{i}^{2}-A \\cos \\left(2 \\pi x_{i}\\right)\\right]$$\n",
    "Where $n$ is the dimensionality of input vector $\\mathbf{x}$.  For instance if $n=2$ then $\\mathbf{x} = (x_1, x_2)$.  The domain is restricted so that each $x_i \\in [-5.12, 5.12].$ .   Here is a graph of the the Rastrigin function with dimension $n=1.$"
   ]
  },
  {
   "cell_type": "code",
   "execution_count": null,
   "metadata": {
    "code_folding": [],
    "hidden": true
   },
   "outputs": [],
   "source": [
    "# open to reveal graph code\n",
    "def rastrigin_1D(x):\n",
    "    return (x**2 + 10 - 10 * np.cos(2 * np.pi * x))\n",
    "    \n",
    "x = np.linspace(-5.12,5.12,201)\n",
    "y = rastrigin_1D(x)\n",
    "\n",
    "fig = plt.figure(figsize=(3,3))\n",
    "plt.plot(x,y)\n",
    "plt.xlabel('x');\n",
    "plt.ylabel('y');"
   ]
  },
  {
   "cell_type": "code",
   "execution_count": null,
   "metadata": {
    "code_folding": [
     0
    ],
    "hidden": true
   },
   "outputs": [],
   "source": [
    "# 3D Graph of Rastrigin with dimension n = 2\n",
    "import plotly.graph_objs as go\n",
    "from plotly.offline import download_plotlyjs, init_notebook_mode, plot, iplot\n",
    "import numpy as np\n",
    "\n",
    "x = np.linspace(-5.12, 5.12, 401)     \n",
    "y = np.linspace(-5.12, 5.12, 401)     \n",
    "X, Y = np.meshgrid(x, y) \n",
    "Z = (X**2 - 10 * np.cos(2 * np.pi * X)) + \\\n",
    "  (Y**2 - 10 * np.cos(2 * np.pi * Y)) + 20\n",
    "\n",
    "data = [\n",
    "    go.Surface( x = X, y = Y, z = Z, colorscale = 'Jet',\n",
    "        contours=go.surface.Contours(\n",
    "            z=go.surface.contours.Z(\n",
    "              show=True,\n",
    "              usecolormap=True,\n",
    "              highlightcolor=\"#42f462\",\n",
    "              project=dict(z=True)\n",
    "            )\n",
    "        )\n",
    "    )\n",
    "]\n",
    "\n",
    "layout = go.Layout(title='Rastrigin',width=600,height=600)\n",
    "fig = go.Figure(data=data, layout=layout)\n",
    "iplot(fig)"
   ]
  },
  {
   "cell_type": "markdown",
   "metadata": {
    "hidden": true
   },
   "source": [
    "The Rastrigin function isn't important as a real-life example, but it does serve as a good test problem with oodles of local minima and we know that global minimum occurs at the origin.  This is similar to what can happen in training in neural networks and other complex models except that we don't know where the global optimum is.\n",
    "\n",
    "A simple approach for trying to find the global minimum of a multi-modal function is called a **restart** or **multistart strategy** in which local searches are started at randomly generated initial points and the most optimal result of all the local searches is recorded.\n",
    "\n",
    "Here is pseudo-code for a multistart code:\n",
    "```\n",
    "for num_searches:\n",
    " choose random initial state\n",
    " do local search\n",
    " if new optimum\n",
    "     remember it\n",
    "endfor\n",
    "```\n"
   ]
  },
  {
   "cell_type": "code",
   "execution_count": null,
   "metadata": {
    "hidden": true
   },
   "outputs": [],
   "source": [
    "def rastrigin(x):\n",
    "    # pass a single vector of length n (=dim) to evaluate Rastrigin\n",
    "    return sum(x**2 + 10 - 10 * np.cos(2 * np.pi * x))\n",
    "\n",
    "dim = 10\n",
    "num_local_searches = 1000\n",
    "best_value = 1.e10\n",
    "\n",
    "for i in range(num_local_searches):\n",
    "    x_initial = np.random.uniform(-5.12, 5.12, dim)\n",
    "    result = minimize(rastrigin, x_initial)\n",
    "    if result.fun < best_value:\n",
    "        best_value = result.fun\n",
    "        best_x = result.x\n",
    "\n",
    "print(\n",
    "    'The smallest value find is {:4.3f} at x = {:1.3f} and y = {:1.3f}'.format(\n",
    "        best_value, best_x[0], best_x[1]))"
   ]
  },
  {
   "cell_type": "markdown",
   "metadata": {
    "hidden": true
   },
   "source": [
    "### <font color=\"blue\">Self-Assessment: Rastrigin with dim = 3, 4</font>"
   ]
  },
  {
   "cell_type": "markdown",
   "metadata": {
    "hidden": true
   },
   "source": [
    "How many iterations does it take to reliably find the global minimum with dim = 3?  With dim = 4?  Use the multi-start strategy."
   ]
  },
  {
   "cell_type": "markdown",
   "metadata": {
    "hidden": true
   },
   "source": [
    "### <font color = \"blue\">Self-Assessment:  Rastrigin with dim = 10 </font>"
   ]
  },
  {
   "cell_type": "markdown",
   "metadata": {
    "hidden": true
   },
   "source": [
    "Do 1000 local search with Rastrigin with dim = 10.  What is the smallest value you find?  How long do you think it would take to find the minimum from randomly chosen initial points like this?  "
   ]
  },
  {
   "cell_type": "markdown",
   "metadata": {
    "heading_collapsed": true,
    "hidden": true
   },
   "source": [
    "## The curse of dimensionality"
   ]
  },
  {
   "cell_type": "markdown",
   "metadata": {
    "hidden": true
   },
   "source": [
    "If we are maximizing a function of one variable, $f(x)$, we might choose to use 10 starting points.  For a function of two variables, $g(x,y)$ to get the same search power we would choose 10 points in the $x$ direction and 10 points in the $y$ direction to make a grid of $10^2 = 100$ starting points in the $xy$-plane.  For three variables we need $10^3 = 1000$ points in $xyz$-space.  For a function of $n$ variables we would need $10^n$ starting points.\n",
    "\n",
    "*The volume of the search space grows exponentially with the number of variables or dimensionality of the problem.*\n",
    "\n",
    "This is called the curse of dimensionality.  For high dimensional functions like those that occur in training neural networks and other applications with many local minima it can be very difficult to find the global minima because the volume of the search space grows exponentially with the number of variables.\n",
    "\n",
    "For the Rastrigin function to find the global minimum you need an initial starting point in the interval (-0.5,0.5) in each dimension.  The search interval is [-5.12,5.12] in each dimension.  Thus the probability that a single uniformly sampled point in [-5.12,5.12] is $\\frac{1}{10.28} \\approx 0.0973$ (the ratio of the lengths of the two intervals).  The probability of finding the global minimum using local search from a uniformly sampled point in $n$ dimensions is $$\\left( \\frac{1}{10.28} \\right)^n$$.  That means we'd have to, on average, start $10.28^n$ local searches from uniformly sampled points to find the global minimum once."
   ]
  },
  {
   "cell_type": "markdown",
   "metadata": {
    "hidden": true
   },
   "source": [
    "### <font color=\"blue\">Self-Assessment:  How many searches?</font>"
   ]
  },
  {
   "cell_type": "markdown",
   "metadata": {
    "hidden": true
   },
   "source": [
    "For the Rastrigin function write a while loop that runs until the global minimum value is found ($|\\mbox{best_val}|<0.01$) and track the number of iterations. Use a for loop to repeat this three times until your code is debugged.  After your code is working, repeat the process 100 times and report the average number of searches until the global minimum is found when $n=1,2,3$.  Are these numbers in approximate agreement with with the estimated numbers $10.28^n$ (they very likely won't be all that close, but how is the overall trend)?"
   ]
  },
  {
   "cell_type": "markdown",
   "metadata": {
    "hidden": true
   },
   "source": [
    "### <font color = \"blue\">Self Assessment: How many searches when dim = 10?</font>"
   ]
  },
  {
   "cell_type": "markdown",
   "metadata": {
    "hidden": true
   },
   "source": [
    "Approximately now many local searches are required to find the global minimum one time when dim = 10?  Is it surprising that you (very likely) didn't find it with 1000 local searches?  Explain"
   ]
  },
  {
   "cell_type": "markdown",
   "metadata": {
    "heading_collapsed": true
   },
   "source": [
    "# Local Search - Discrete Variables"
   ]
  },
  {
   "cell_type": "markdown",
   "metadata": {
    "hidden": true
   },
   "source": [
    "Optimization with discrete variables tends to be more complicated than with continuous variables.  In the continuous case we can take advantage of calculus or numerical methods to compute gradient search directions that allow us to move to nearby points that are closer to optimal.  However with discrete random variables there is no generic way to compute better nearby points.  Often the best we can do is find nearby points, which is usually problem specific, and try them to see if they produce closer to optimal results.\n",
    "\n",
    "We'll look carefully at the traveling salesman problem (TSP).  In addition to the information about the TSP in the textbook, there is copious information available on the internet."
   ]
  },
  {
   "cell_type": "markdown",
   "metadata": {
    "heading_collapsed": true,
    "hidden": true
   },
   "source": [
    "## The Basics of Local Search"
   ]
  },
  {
   "cell_type": "markdown",
   "metadata": {
    "hidden": true
   },
   "source": [
    "Here is pseudo-code for a simple local search.  Many variations are possible, but they often look like this:\n",
    "```\n",
    " set starting state \n",
    " while local_condition \n",
    "     select a move \n",
    "     if acceptable \n",
    "         do the move \n",
    "         if new optimum \n",
    "             remember it \n",
    " endwhile \n",
    " ```"
   ]
  },
  {
   "cell_type": "markdown",
   "metadata": {
    "hidden": true
   },
   "source": [
    "Notes:\n",
    "\n",
    "* Often the starting state is one selected at random.  State refers to the \"state\" or values of the variables.\n",
    "\n",
    "* The local condition is a stopping condition.  It could be something like stopping after a fixed number of iterations or stopping after making no or insignificant process for a while.\n",
    "\n",
    "* Selecting a move is where things get problem specific.  Often the move involves a random change to the variables.\n",
    "\n",
    "* If acceptable means that we are checking to see that the state is feasible, that is, does it satisfy the constraints?"
   ]
  },
  {
   "cell_type": "markdown",
   "metadata": {
    "heading_collapsed": true,
    "hidden": true
   },
   "source": [
    "## Local Search for TSP"
   ]
  },
  {
   "cell_type": "markdown",
   "metadata": {
    "hidden": true
   },
   "source": [
    "Let's see what this looks like for the TSP.  We'll use the subtour reversal algorithm, described in the textbook, to generate moves.  Here's what the local search looks like for the TSP:\n",
    "\n",
    "```\n",
    " choose a random tour  \n",
    " while shorter tours have been found in last max_tries\n",
    "     propose new tour with one random segment reversed\n",
    "     if acceptable (it will always be a valid tour) \n",
    "         compute new tour distance \n",
    "         if new shortest tour \n",
    "             remember it \n",
    "         else\n",
    "             reject new tour\n",
    " endwhile \n",
    " ```"
   ]
  },
  {
   "cell_type": "markdown",
   "metadata": {
    "heading_collapsed": true,
    "hidden": true
   },
   "source": [
    "## Video for TSP Local Search Code"
   ]
  },
  {
   "cell_type": "code",
   "execution_count": null,
   "metadata": {
    "hidden": true
   },
   "outputs": [],
   "source": [
    "# execute this cell for video\n",
    "from IPython.display import IFrame\n",
    "IFrame(\n",
    "    \"https://media.uwex.edu/content/ds/ds775_r19/ds775_lesson4-logistic-traveling-salesman-problem/index.html\",\n",
    "    width=640,\n",
    "    height=360)"
   ]
  },
  {
   "cell_type": "markdown",
   "metadata": {
    "heading_collapsed": true,
    "hidden": true
   },
   "source": [
    "## TSP Local Search Code"
   ]
  },
  {
   "cell_type": "markdown",
   "metadata": {
    "hidden": true
   },
   "source": [
    "We'll be minimizing the total length of a tour that visits all 48 state capitols in the continental United States and ends back in the same city in which it begins.  The latitudes and longitudes of the cities are projected onto a rectangular coordinate system with $x$ and $y$ coordinates representing positions in meters which we convert to kilometers.  We use the `Matplotlib Basemap` package to do the projections and to draw routes on a map of the United States.  If you're trying to install Basemap at home make sure you're doing in a virtual environment that is not your base environment (as mentioned before, create a ds775 environment with conda).  Basemap doesn't install correctly, at least on macs, in the base environment.\n",
    "\n",
    "First we load the data and do the projections.  The $x$ and $y$ coordinates of the cities are stored in the 48 x 2 array `xy` with one pair per row.  We also define a function to visualize the tours."
   ]
  },
  {
   "cell_type": "code",
   "execution_count": null,
   "metadata": {
    "code_folding": [],
    "hidden": true
   },
   "outputs": [],
   "source": [
    "# load the data and define move and objective functions\n",
    "map = Basemap(llcrnrlon=-119,\n",
    "              llcrnrlat=22,\n",
    "              urcrnrlon=-64,\n",
    "              urcrnrlat=49,\n",
    "              projection='lcc',\n",
    "              lat_1=32,\n",
    "              lat_2=45,\n",
    "              lon_0=-95)\n",
    "\n",
    "# read 48 capitals lat and lon\n",
    "with open('./data/capitals48.json', 'r') as json_file:\n",
    "    capitals = json.load(json_file)\n",
    "\n",
    "# loop through the capitals to store x,y coordinates (meters)\n",
    "num_cities = len(capitals)\n",
    "xy = np.zeros((num_cities, 2))\n",
    "for i in range(num_cities):\n",
    "    lat = capitals[i][\"lat\"]\n",
    "    lon = capitals[i][\"long\"]\n",
    "    xy[i, :] = map(lon, lat)\n",
    "\n",
    "def plot_tour(best_tour, xy, best_dist):\n",
    "    fig = plt.figure()\n",
    "    fig.set_size_inches(6, 4)\n",
    "\n",
    "    # load the shape file with \"states\"\n",
    "    map.readshapefile('./data/st99_d00', name='states', drawbounds=True)\n",
    "\n",
    "    loop_tour = np.append(best_tour, best_tour[0])\n",
    "    map.plot(xy[:, 0], xy[:, 1], c='r', marker='o', markersize=4, linestyle='')\n",
    "    lines, = map.plot(xy[loop_tour, 0],\n",
    "                      xy[loop_tour, 1],\n",
    "                      c='b',\n",
    "                      linewidth=1,\n",
    "                      linestyle='-')\n",
    "    plt.title('Best Distance {:d} km'.format(int(best_dist)))"
   ]
  },
  {
   "cell_type": "markdown",
   "metadata": {
    "hidden": true
   },
   "source": [
    "Here we define both the local \"move\" function which reverses a tour segment to generate a new tour and the objective function which computes the length of the tour in kilometers:"
   ]
  },
  {
   "cell_type": "code",
   "execution_count": null,
   "metadata": {
    "code_folding": [],
    "hidden": true
   },
   "outputs": [],
   "source": [
    "# define move and objective functions\n",
    "\n",
    "def sub_tour_reversal(tour):\n",
    "    n = len(tour)\n",
    "    i, j = np.sort(np.random.choice(n, 2, replace=False))\n",
    "    return (np.concatenate((tour[0:i], tour[j:-n + i - 1:-1], tour[j + 1:n])))\n",
    "\n",
    "def tour_dist(tour, xy):\n",
    "    # returns tour distance in kilometers\n",
    "    xy_tmp = xy[tour, :]\n",
    "    return (np.sum(\n",
    "        np.sqrt(\n",
    "            np.sum(np.diff(xy_tmp, axis=0, append=[xy_tmp[0, :]])**2, axis=1)))\n",
    "            / 1000)"
   ]
  },
  {
   "cell_type": "code",
   "execution_count": null,
   "metadata": {
    "code_folding": [],
    "hidden": true
   },
   "outputs": [],
   "source": [
    "# local search for TSP solution with a random segment reversal at each iteration\n",
    "\n",
    "def random_reversals(xy, max_no_improve):\n",
    "    num_cities = xy.shape[0]\n",
    "    # starts from a random tour\n",
    "    current_tour = np.random.permutation(np.arange(num_cities))\n",
    "    current_dist = tour_dist(current_tour, xy)\n",
    "    best_tour = current_tour\n",
    "    best_dist = current_dist\n",
    "\n",
    "    # stop search if no better tour is found within max_no_improve iterations, can increase to eliminate crossovers\n",
    "    num_moves_no_improve = 0\n",
    "    iterations = 0\n",
    "    while (num_moves_no_improve < max_no_improve):\n",
    "        num_moves_no_improve += 1\n",
    "        iterations += 1  # just for tracking\n",
    "        new_tour = sub_tour_reversal(current_tour)\n",
    "        new_dist = tour_dist(new_tour, xy)\n",
    "        if new_dist < current_dist:\n",
    "            num_moves_no_improve = 0\n",
    "            current_tour = new_tour\n",
    "            current_dist = new_dist\n",
    "            if current_dist < best_dist:  # not really needed since current_tour will be best\n",
    "                best_tour = current_tour  # but we'll use this in the next lesson\n",
    "                best_dist = current_dist\n",
    "    return best_tour, best_dist, iterations\n",
    "\n",
    "\n",
    "best_tour, best_dist, iterations = random_reversals(xy, 1000)\n",
    "plot_tour(best_tour, xy, best_dist)\n",
    "print('The minimum distance found is {:d} after {:d} iterations'.format(\n",
    "    int(best_dist), iterations))"
   ]
  },
  {
   "cell_type": "markdown",
   "metadata": {
    "hidden": true
   },
   "source": [
    "Though it's not important, if you like you can execute the two cells below to see an animated version of this search:"
   ]
  },
  {
   "cell_type": "code",
   "execution_count": null,
   "metadata": {
    "code_folding": [
     0
    ],
    "hidden": true
   },
   "outputs": [],
   "source": [
    "# execute first to initialize the plot\n",
    "fig = plt.figure()\n",
    "fig.set_size_inches(6,4)\n",
    "fig.canvas.draw()\n",
    "fig.show()"
   ]
  },
  {
   "cell_type": "code",
   "execution_count": null,
   "metadata": {
    "code_folding": [],
    "hidden": true
   },
   "outputs": [],
   "source": [
    "# execute to watch the progress of random reversals local search\n",
    "\n",
    "map.readshapefile('./data/st99_d00', name='states', drawbounds=True)\n",
    "\n",
    "# initialize with a random tour\n",
    "n = 48\n",
    "best_tour = np.random.permutation(np.arange(n))\n",
    "best_dist = tour_dist(best_tour, xy)/1000\n",
    "\n",
    "# plot initial tour\n",
    "loop_tour = np.append(best_tour, best_tour[0])\n",
    "map.plot(xy[:, 0], xy[:, 1], c='r', marker='o', markersize=4, linestyle='')\n",
    "lines, = map.plot(xy[loop_tour, 0],\n",
    "                  xy[loop_tour, 1],\n",
    "                  c='b',\n",
    "                  linewidth=1,\n",
    "                  linestyle='-')\n",
    "fig.canvas.draw()\n",
    "plt.show()\n",
    "\n",
    "count = 1\n",
    "iteration = np.array([count])\n",
    "distances = np.array([best_dist])\n",
    "dst_label = plt.text(250000, 650000, '{:d} km'.format(int(best_dist)))\n",
    "\n",
    "\n",
    "# initialize with a random tour\n",
    "current_tour = np.random.permutation(np.arange(num_cities))\n",
    "current_dist = tour_dist(current_tour, xy)\n",
    "best_tour = current_tour\n",
    "best_dist = current_dist\n",
    "\n",
    "max_moves_no_improve = 5000\n",
    "num_moves_no_improve = 0\n",
    "while( num_moves_no_improve < max_moves_no_improve):\n",
    "    num_moves_no_improve += 1\n",
    "    new_tour = sub_tour_reversal(current_tour)\n",
    "    new_dist = tour_dist(new_tour, xy)/1000\n",
    "    if new_dist < current_dist:\n",
    "        current_tour = new_tour\n",
    "        current_dist = new_dist\n",
    "        num_moves_no_improve = 0\n",
    "        if current_dist < best_dist: # not really needed since current_tour will be best\n",
    "            best_tour = current_tour # but we'll use this in the next lesson\n",
    "            best_dist = current_dist\n",
    "        loop_tour = np.append(best_tour, best_tour[0])\n",
    "        lines.set_data(xy[loop_tour, 0], xy[loop_tour, 1])\n",
    "        dst_label.set_text('{:d} km'.format(int(best_dist)))   \n",
    "        fig.canvas.draw()\n",
    "        plt.show()  \n"
   ]
  },
  {
   "cell_type": "markdown",
   "metadata": {
    "heading_collapsed": true,
    "hidden": true
   },
   "source": [
    "## Another local search algorithm for TSP"
   ]
  },
  {
   "cell_type": "markdown",
   "metadata": {
    "hidden": true
   },
   "source": [
    "We'll have a look at an algorithm called \"2-opt\" that was proposed by Croes in 1958.  We won't focus on it too much since the idea doesn't really extend to other problems.  The main idea  is to reverse segments that cross over themselves to remove the cross over.  We loop repeatedly over all the possible reversals until there are no more cross overs.  Here is some Python to do 2-opt:"
   ]
  },
  {
   "cell_type": "code",
   "execution_count": null,
   "metadata": {
    "hidden": true
   },
   "outputs": [],
   "source": [
    "# 2-opt local search for TSP\n",
    "\n",
    "def two_opt(xy):\n",
    "    num_cities = xy.shape[0]\n",
    "    current_tour = np.random.permutation(np.arange(num_cities))\n",
    "    current_dist = tour_dist(current_tour, xy)\n",
    "    best_tour = current_tour\n",
    "    best_dist = current_dist\n",
    "\n",
    "    improvement = True\n",
    "    iterations = 0\n",
    "    while improvement:\n",
    "        improvement = False\n",
    "        for i in range(num_cities - 1):\n",
    "            for j in range(i + 1, num_cities):\n",
    "                iterations += 1\n",
    "                new_tour = sub_tour_reversal(best_tour, i, j)\n",
    "                new_dist = tour_dist(new_tour, xy)\n",
    "                if new_dist < best_dist:\n",
    "                    best_tour = new_tour\n",
    "                    best_dist = new_dist\n",
    "                    improvement = True\n",
    "    return best_tour, best_dist, iterations\n",
    "\n",
    "best_tour, best_dist, iterations = two_opt(xy)\n",
    "                \n",
    "plot_tour(best_tour,xy,best_dist)\n",
    "print('The minimum distance found is {:d} after {:d} iterations'.format(int(best_dist),iterations))"
   ]
  },
  {
   "cell_type": "markdown",
   "metadata": {
    "hidden": true
   },
   "source": [
    "2-opt is generally uses fewer iterations to find a reasonable tour (local minimum) than does our local search with random segment reversals.  In the next lesson we'll try using 2-opt to find starting points for a global search algorithm."
   ]
  },
  {
   "cell_type": "markdown",
   "metadata": {
    "hidden": true
   },
   "source": [
    "### Local Search with Graphing for TSP"
   ]
  },
  {
   "cell_type": "code",
   "execution_count": null,
   "metadata": {
    "code_folding": [
     0
    ],
    "hidden": true,
    "scrolled": true
   },
   "outputs": [],
   "source": [
    "# execute this cell before those below to initialize the figure display, important for high-res displays\n",
    "%matplotlib notebook\n",
    "import matplotlib.pyplot as plt\n",
    "from matplotlib.patches import Polygon\n",
    "from mpl_toolkits.basemap import Basemap\n",
    "import json\n",
    "import numpy as np\n",
    "import time\n",
    "\n",
    "fig = plt.figure()\n",
    "fig.set_size_inches(6,4)\n",
    "fig.canvas.draw()\n",
    "fig.show()"
   ]
  },
  {
   "cell_type": "code",
   "execution_count": null,
   "metadata": {
    "code_folding": [
     0
    ],
    "hidden": true,
    "scrolled": true
   },
   "outputs": [],
   "source": [
    "# create the map and run the 2opt search\n",
    "map = Basemap(llcrnrlon=-119,\n",
    "              llcrnrlat=22,\n",
    "              urcrnrlon=-64,\n",
    "              urcrnrlat=49,\n",
    "              projection='lcc',\n",
    "              lat_1=32,\n",
    "              lat_2=45,\n",
    "              lon_0=-95)\n",
    "\n",
    "# load the shape file with \"states\"\n",
    "map.readshapefile('./data/st99_d00', name='states', drawbounds=True)\n",
    "\n",
    "# read 48 capitals lat and lon\n",
    "with open('./data/capitals48.json', 'r') as json_file:\n",
    "    capitals = json.load(json_file)\n",
    "num_cities = 48\n",
    "\n",
    "# loop through the capitals to store x,y coordinates (meters)\n",
    "xy = np.zeros((num_cities, 2))\n",
    "for i in range(num_cities):\n",
    "    lat = capitals[i][\"lat\"]\n",
    "    lon = capitals[i][\"long\"]\n",
    "    xy[i, :] = map(lon, lat)\n",
    "\n",
    "\n",
    "def sub_tour_reversal(tour, i, j):\n",
    "    # reverse the segment from city i to city j\n",
    "    n = len(tour)\n",
    "    return (np.concatenate((tour[0:i], tour[j:-n + i - 1:-1], tour[j + 1:n])))\n",
    "\n",
    "\n",
    "def tour_dist(tour, xy):\n",
    "    # euclidean distance returned\n",
    "    xy_tmp = xy[tour, :]\n",
    "    return (np.sum(\n",
    "        np.sqrt(\n",
    "            np.sum(np.diff(xy_tmp, axis=0, append=[xy_tmp[0, :]])**2,\n",
    "                   axis=1))))\n",
    "\n",
    "\n",
    "# initialize with a random tour\n",
    "n = 48\n",
    "best_tour = np.random.permutation(np.arange(n))\n",
    "best_dist = tour_dist(best_tour, xy)/1000\n",
    "improvement = True\n",
    "\n",
    "# plot initial tour\n",
    "loop_tour = np.append(best_tour, best_tour[0])\n",
    "map.plot(xy[:, 0], xy[:, 1], c='r', marker='o', markersize=4, linestyle='')\n",
    "lines, = map.plot(xy[loop_tour, 0],\n",
    "                  xy[loop_tour, 1],\n",
    "                  c='b',\n",
    "                  linewidth=1,\n",
    "                  linestyle='-')\n",
    "fig.canvas.draw()\n",
    "plt.show()\n",
    "\n",
    "count = 1\n",
    "iteration = np.array([count])\n",
    "distances = np.array([best_dist])\n",
    "dst_label = plt.text(250000, 650000, '{:d} km'.format(int(best_dist)))\n",
    "\n",
    "\n",
    "# initialize with a random tour\n",
    "current_tour = np.random.permutation(np.arange(num_cities))\n",
    "current_dist = tour_dist(current_tour, xy)\n",
    "best_tour = current_tour\n",
    "best_dist = current_dist\n",
    "\n",
    "max_moves_no_improve = 5000\n",
    "num_moves_no_improve = 0\n",
    "while( num_moves_no_improve < max_moves_no_improve):\n",
    "    num_moves_no_improve += 1\n",
    "    i,j = np.sort(np.random.choice(n,2,replace=False))\n",
    "    new_tour = sub_tour_reversal(current_tour, i, j)\n",
    "    new_dist = tour_dist(new_tour, xy)/1000\n",
    "    if new_dist < current_dist:\n",
    "        current_tour = new_tour\n",
    "        current_dist = new_dist\n",
    "        num_moves_no_improve = 0\n",
    "        if current_dist < best_dist: # not really needed since current_tour will be best\n",
    "            best_tour = current_tour # but we'll use this in the next lesson\n",
    "            best_dist = current_dist\n",
    "        loop_tour = np.append(best_tour, best_tour[0])\n",
    "        lines.set_data(xy[loop_tour, 0], xy[loop_tour, 1])\n",
    "        dst_label.set_text('{:d} km'.format(int(best_dist)))   \n",
    "        fig.canvas.draw()\n",
    "        plt.show()  \n"
   ]
  },
  {
   "cell_type": "markdown",
   "metadata": {
    "heading_collapsed": true,
    "hidden": true
   },
   "source": [
    "## Gerrymandering Example"
   ]
  },
  {
   "cell_type": "markdown",
   "metadata": {
    "hidden": true
   },
   "source": [
    "This example is based on textbook problem 13.10-6 which is reproduced here:\n",
    "\n",
    "Because of population growth, the state of Washington has been given an additional seat in the House of Representatives, making a total of 10. The state legislature, which is currently controlled by the Republicans, needs to develop a plan for redistricting the state. There are 18 major cities in the state of Washington that need to be assigned to one of the 10 congressional districts. The table below gives the numbers of registered Democrats and registered Republicans in each city. Each district must contain between 150,000 and 350,000 of these registered voters. Assign each city to one of the 10 congressional districts in order to maximize the number of districts that have more registered Republicans than registered Democrats.\n",
    "\n",
    "<img src=\"images/gerrymandering.png\" width=\"300\">\n",
    "\n",
    "We'll provide the data and objective function below."
   ]
  },
  {
   "cell_type": "code",
   "execution_count": null,
   "metadata": {
    "code_folding": [
     0
    ],
    "hidden": true
   },
   "outputs": [],
   "source": [
    "# imports\n",
    "import pandas as pd \n",
    "import numpy as np"
   ]
  },
  {
   "cell_type": "markdown",
   "metadata": {
    "hidden": true
   },
   "source": [
    "In the cell below we load the data and create an assignment of the 18 cities to the 10 districts."
   ]
  },
  {
   "cell_type": "code",
   "execution_count": null,
   "metadata": {
    "code_folding": [],
    "hidden": true
   },
   "outputs": [],
   "source": [
    "# load the data + random assignment\n",
    "num_districts = 10\n",
    "min_voters_in_district = 150\n",
    "max_voters_in_district = 350\n",
    "\n",
    "dems = [152,81,75,34,62,38,48,74,98,66,83,86,72,28,112,45,93,72]\n",
    "reps = [62,59,83,52,87,87,69,49,62,72,75,82,83,53,98,82,68,98]\n",
    "cities = pd.DataFrame( data = {'dems':dems, 'reps':reps})\n",
    "\n",
    "# assign = np.random.randint(low=0,high=num_districts,size = 18)\n",
    "assign = np.array([4, 3, 1, 9, 4, 0, 2, 8, 0, 9, 8, 0, 0, 0, 8, 7, 3, 6])\n",
    "assign"
   ]
  },
  {
   "cell_type": "markdown",
   "metadata": {
    "hidden": true
   },
   "source": [
    "The `summarize_districts` function below isn't used directly in the initialization, but it helps us by printing out the number of voters (in thousands) assigned to each district and shows us which districts are won by republicans."
   ]
  },
  {
   "cell_type": "code",
   "execution_count": null,
   "metadata": {
    "hidden": true
   },
   "outputs": [],
   "source": [
    "def summarize_districts(assign, cities):\n",
    "    reps = np.zeros(num_districts, dtype=np.int32)\n",
    "    dems = np.zeros(num_districts, dtype=np.int32)\n",
    "    df = cities.groupby(assign).sum()\n",
    "    reps[df.index] = df['reps']\n",
    "    dems[df.index] = df['dems']\n",
    "    total = reps + dems\n",
    "    delta = np.minimum(np.maximum(total, min_voters_in_district),\n",
    "                       max_voters_in_district) - total\n",
    "    rep_win = reps > dems\n",
    "    dict = {\n",
    "        'reps': reps,\n",
    "        'dems': dems,\n",
    "        'total': total,\n",
    "        'rep_win': rep_win\n",
    "    }\n",
    "    return (pd.DataFrame(data=dict))\n",
    "\n",
    "summarize_districts(assign, cities)"
   ]
  },
  {
   "cell_type": "markdown",
   "metadata": {
    "hidden": true
   },
   "source": [
    "For the objective function, `fitness_districts` we count the number of districts won by republicans.  Instead of checking each potential solution to see if it's feasible (between 150 and 350 voters in each district) we subtract the total number of thousands by which each district is out of bounds.  This approach to optimization is called a **penalty function method**.  It doesn't prevent infeasible solutions, but it strongly penalizes them so that when the function is optimized the solution generally will be feasible.  Note that in the table above we have several districts that too many or two few voters, when we compute the fitness of that assignment to districts it is negative because of the penalty term."
   ]
  },
  {
   "cell_type": "code",
   "execution_count": null,
   "metadata": {
    "hidden": true
   },
   "outputs": [],
   "source": [
    "def fitness_districts(assign, cities):\n",
    "    df = cities.groupby(assign).sum()\n",
    "    fitness = sum( df['reps'] > df['dems'] )\n",
    "    total_voters = np.zeros(num_districts,dtype=np.int32)\n",
    "    total_voters[df.index] = df.sum(axis=1)\n",
    "    fitness -= np.abs(np.minimum(np.maximum(total_voters,150),350)-total_voters).sum()\n",
    "    return (fitness)\n",
    "\n",
    "fitness_districts(assign,cities)"
   ]
  },
  {
   "cell_type": "markdown",
   "metadata": {
    "hidden": true
   },
   "source": [
    "### <font color = \"blue\"> Self Assessment: Gerrymandering Local Search</font>"
   ]
  },
  {
   "cell_type": "markdown",
   "metadata": {
    "hidden": true
   },
   "source": [
    "Start with a random state and move to a nearby state by changing one of the city assignments randomly.  You don't have to check for feasibility of each new state, just accept the move if you get a larger value of the fitness function.  Repeat until no progress is made for 1000 moves.  Your local search should be inside of a function with inputs the cities and the initial assignment.  The output should be the optimized assignment and the value of the fitness function.  \n",
    "\n",
    "Now write a loop that does 100 local searches.  Make sure the final, best solution is feasible.  What is the maximum number of districts that Republicans win?"
   ]
  }
 ],
 "metadata": {
  "kernelspec": {
   "display_name": "anaconda3",
   "language": "python",
   "name": "anaconda3"
  },
  "language_info": {
   "codemirror_mode": {
    "name": "ipython",
    "version": 3
   },
   "file_extension": ".py",
   "mimetype": "text/x-python",
   "name": "python",
   "nbconvert_exporter": "python",
   "pygments_lexer": "ipython3",
   "version": "3.7.4"
  },
  "toc": {
   "base_numbering": 1,
   "nav_menu": {},
   "number_sections": true,
   "sideBar": true,
   "skip_h1_title": false,
   "title_cell": "Table of Contents",
   "title_sidebar": "Contents",
   "toc_cell": false,
   "toc_position": {
    "height": "calc(100% - 180px)",
    "left": "10px",
    "top": "150px",
    "width": "294.56px"
   },
   "toc_section_display": true,
   "toc_window_display": true
  },
  "varInspector": {
   "cols": {
    "lenName": 16,
    "lenType": 16,
    "lenVar": 40
   },
   "kernels_config": {
    "python": {
     "delete_cmd_postfix": "",
     "delete_cmd_prefix": "del ",
     "library": "var_list.py",
     "varRefreshCmd": "print(var_dic_list())"
    },
    "r": {
     "delete_cmd_postfix": ") ",
     "delete_cmd_prefix": "rm(",
     "library": "var_list.r",
     "varRefreshCmd": "cat(var_dic_list()) "
    }
   },
   "types_to_exclude": [
    "module",
    "function",
    "builtin_function_or_method",
    "instance",
    "_Feature"
   ],
   "window_display": false
  }
 },
 "nbformat": 4,
 "nbformat_minor": 1
}
