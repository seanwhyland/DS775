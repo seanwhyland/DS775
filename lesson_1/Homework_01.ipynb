{
 "cells": [
  {
   "cell_type": "code",
   "execution_count": 1,
   "metadata": {
    "code_folding": [
     0
    ]
   },
   "outputs": [],
   "source": [
    "# execute to import notebook styling for tables and width etc.\n",
    "from IPython.core.display import HTML\n",
    "import urllib.request\n",
    "response = urllib.request.urlopen('https://raw.githubusercontent.com/DataScienceUWL/DS775v2/master/ds755.css')\n",
    "HTML(response.read().decode(\"utf-8\"));"
   ]
  },
  {
   "cell_type": "markdown",
   "metadata": {},
   "source": [
    "<font size=18>Lesson 01 Homework</font>"
   ]
  },
  {
   "cell_type": "markdown",
   "metadata": {},
   "source": [
    "Self Assessment: Paper and Pencil Method\n",
    "\n",
    "<img src=\"images/lesson1_sa2.png\" alt=\"Solution\" width=\"640\" height=\"350\">"
   ]
  },
  {
   "cell_type": "markdown",
   "metadata": {},
   "source": [
    "Self Assessment: Graphical Method #1 \n",
    "<img src=\"images/lesson1_sa3.png\" alt=\"Solution\" width=\"640\" height=\"350\">"
   ]
  },
  {
   "cell_type": "markdown",
   "metadata": {},
   "source": [
    "Self Assessment: Graphical Method #2\n",
    "<img src=\"images/lesson_1_graphical_method_2.png\" alt=\"Solution\" width=\"640\" height=\"350\">"
   ]
  },
  {
   "cell_type": "markdown",
   "metadata": {
    "heading_collapsed": true
   },
   "source": [
    "# LP Assumptions Multiple Choice Question"
   ]
  },
  {
   "cell_type": "markdown",
   "metadata": {
    "hidden": true
   },
   "source": [
    "A solution for which all constraints are satisfied is \n",
    "\n",
    "a. a feasible solution \n",
    "\n",
    "b. an objective function\n",
    "\n",
    "c. standard form\n",
    "\n",
    "d. sensitivity analysis\n",
    "\n",
    "e. the certainty assumption"
   ]
  },
  {
   "cell_type": "markdown",
   "metadata": {
    "hidden": true
   },
   "source": [
    "<font color = \"blue\"> *** 2 points -  answer in cell below *** (don't delete this cell) </font>"
   ]
  },
  {
   "cell_type": "markdown",
   "metadata": {
    "hidden": true
   },
   "source": [
    "a"
   ]
  },
  {
   "cell_type": "markdown",
   "metadata": {
    "heading_collapsed": true
   },
   "source": [
    "# Unbounded Feasible Region"
   ]
  },
  {
   "cell_type": "markdown",
   "metadata": {
    "hidden": true
   },
   "source": [
    "True or False:  An unbounded feasible region cannot have an optimal solution."
   ]
  },
  {
   "cell_type": "markdown",
   "metadata": {
    "hidden": true
   },
   "source": [
    "<font color = \"blue\"> *** 2 points -  answer in cell below *** (don't delete this cell) </font>"
   ]
  },
  {
   "cell_type": "markdown",
   "metadata": {
    "hidden": true
   },
   "source": [
    "True"
   ]
  },
  {
   "cell_type": "markdown",
   "metadata": {
    "heading_collapsed": true
   },
   "source": [
    "# LP Multiple Choice Question"
   ]
  },
  {
   "cell_type": "markdown",
   "metadata": {
    "hidden": true
   },
   "source": [
    "Which of the following is NOT an assumption of linear programming?\n",
    "\n",
    "a. Proportionality assumption\n",
    "\n",
    "b. Independence assumption\n",
    "\n",
    "c. Additivity assumption\n",
    "\n",
    "d. Divisibility assumption\n",
    "\n",
    "e. Certainty assumption"
   ]
  },
  {
   "cell_type": "markdown",
   "metadata": {
    "hidden": true
   },
   "source": [
    "<font color = \"blue\"> *** 2 points -  answer in cell below *** (don't delete this cell) </font>"
   ]
  },
  {
   "cell_type": "markdown",
   "metadata": {
    "hidden": true
   },
   "source": [
    "b"
   ]
  },
  {
   "cell_type": "markdown",
   "metadata": {
    "heading_collapsed": true
   },
   "source": [
    "# Common LP Type"
   ]
  },
  {
   "cell_type": "markdown",
   "metadata": {
    "hidden": true
   },
   "source": [
    "True or False:  The most common type of linear programming problem is allocating limited resources among several competing activities. "
   ]
  },
  {
   "cell_type": "markdown",
   "metadata": {
    "hidden": true
   },
   "source": [
    "<font color = \"blue\"> *** 2 points -  answer in cell below *** (don't delete this cell) </font>"
   ]
  },
  {
   "cell_type": "markdown",
   "metadata": {
    "hidden": true
   },
   "source": [
    "True"
   ]
  },
  {
   "cell_type": "markdown",
   "metadata": {
    "heading_collapsed": true
   },
   "source": [
    "# Feasibility Question"
   ]
  },
  {
   "cell_type": "markdown",
   "metadata": {
    "hidden": true
   },
   "source": [
    "A feasible solution that has the most favorable value of the objective function is called  \n",
    "\n",
    "a. the proportionality assumption\n",
    "\n",
    "b. a functional constraint\n",
    "\n",
    "c. the feasible region\n",
    "\n",
    "d. an optimal solution\n",
    "\n",
    "e. sensitivity analysis"
   ]
  },
  {
   "cell_type": "markdown",
   "metadata": {
    "hidden": true
   },
   "source": [
    "<font color = \"blue\"> *** 2 points -  answer in cell below *** (don't delete this cell) </font>"
   ]
  },
  {
   "cell_type": "markdown",
   "metadata": {
    "hidden": true
   },
   "source": [
    "d"
   ]
  },
  {
   "cell_type": "markdown",
   "metadata": {
    "heading_collapsed": true
   },
   "source": [
    "# Identifying Violations of LP Assumptions"
   ]
  },
  {
   "cell_type": "markdown",
   "metadata": {
    "hidden": true
   },
   "source": [
    "For parts (a) - (c) below, state which, if any, linear programming model assumptions are violated and why.\n",
    "\n",
    "(a) Minimize $Z = 3x_1 + 0.3x_2,$ \n",
    "\n",
    "subject to \n",
    "\n",
    "$\n",
    "\\begin{array}{rcrcr}\n",
    "5 x_1 & + &  3 x_2 & \\geq & 9 \\\\\n",
    " x_1 & + &  3 x_2 & \\geq & b_2 \\\\\n",
    "12 x_1 & * & x_2 & \\geq & 15\n",
    "\\end{array}\n",
    "$\n",
    "\n",
    "and $x_1 \\geq 0, x_2 \\geq 0,$\n",
    "\n",
    "$5 \\leq b_2 \\leq 10.$"
   ]
  },
  {
   "cell_type": "markdown",
   "metadata": {
    "hidden": true
   },
   "source": [
    "<font color = \"blue\"> *** 2 points -  answer in cell below *** (don't delete this cell) </font>"
   ]
  },
  {
   "cell_type": "markdown",
   "metadata": {
    "hidden": true
   },
   "source": [
    "Violates *additivity* (12*$x_1$ * $x_2$) and *certainty* because the exact value of $b_2$ cannot be known"
   ]
  },
  {
   "cell_type": "markdown",
   "metadata": {
    "hidden": true
   },
   "source": [
    "(b) Maximize $Z = (x_1 + 2x_2)^2,$ \n",
    "\n",
    "subject to \n",
    "\n",
    "$\n",
    "\\begin{array}{rcrcr}\n",
    " &  &  k x_2 & \\leq & 70 \\\\\n",
    " x_1 & + &  & \\leq & 80 \\\\\n",
    " x_1 & + & x_2 & \\leq & 100\n",
    "\\end{array}\n",
    "$\n",
    "\n",
    "and $x_1 \\geq 0, x_2 \\geq 0$\n",
    "\n",
    "$k \\geq 0$"
   ]
  },
  {
   "cell_type": "markdown",
   "metadata": {
    "hidden": true
   },
   "source": [
    "<font color = \"blue\"> *** 2 points -  answer in cell below *** (don't delete this cell) </font>"
   ]
  },
  {
   "cell_type": "markdown",
   "metadata": {
    "hidden": true
   },
   "source": [
    "Violates *proportionality* due to the objective function ($x_1$ + 2$x_2$) being squared and violates *certainty* due to *k* being unknown"
   ]
  },
  {
   "cell_type": "markdown",
   "metadata": {
    "hidden": true
   },
   "source": [
    "(c)  Maximize $Z = 25 x + 30 y - 10$\n",
    "\n",
    "subject to \n",
    "\n",
    "$\n",
    "\\begin{array}{rcrcr}\n",
    "0.02 x & + & 0.01 y & \\leq & 1 \\\\\n",
    "0.5 x & + & 0.5 y & \\leq & 4 \\\\\n",
    "0.01 x & + & 0.02 y & \\leq & 1.5\n",
    "\\end{array}\n",
    "$\n",
    "\n",
    "$x = 1,2,3, \\ldots $\n",
    "\n",
    "$y \\geq 0$ "
   ]
  },
  {
   "cell_type": "markdown",
   "metadata": {
    "hidden": true
   },
   "source": [
    "<font color = \"blue\"> *** 2 points -  answer in cell below *** (don't delete this cell) </font>"
   ]
  },
  {
   "cell_type": "markdown",
   "metadata": {
    "hidden": true
   },
   "source": [
    "Violates *proportionality* because of -10 in objective function and violates *divisibility* because of x being limited."
   ]
  },
  {
   "cell_type": "markdown",
   "metadata": {},
   "source": [
    "# Textbook Problem 3.1-10"
   ]
  },
  {
   "cell_type": "markdown",
   "metadata": {},
   "source": [
    "Weenies and Buns is a food processing plant which\n",
    "  manufactures hot dogs and hot dog buns. They grind their own flour\n",
    "  for the hot dog buns at a maximum rate of 200 pounds per week. Each\n",
    "  hot dog bun requires 0.1 pound of flour. They currently have a\n",
    "  contract with Pigland, Inc., which specifies that a delivery of 800\n",
    "  pounds of pork product is delivered every Monday. Each hot dog\n",
    "  requires 0.25 pound of pork product. All the other ingredients in the\n",
    "  hot dogs and hot dog buns are in plentiful supply. Finally, the\n",
    "  labor force at Weenies and Buns consists of 5 employees working full\n",
    "  time (40 hours per week each). Each hot dog requires 3 minutes of\n",
    "  labor, and each hot dog bun requires 2 minutes of labor. Each hot\n",
    "  dog yields a profit of \\\\$0.88, and each bun yields a profit of \\\\$0.33.\n",
    "  Weenies and Buns would like to know how many hot dogs and how many\n",
    "  hot dog buns they should produce each week so as to achieve the\n",
    "  highest possible profit. \n",
    "  \n",
    "  \n",
    "(a) Formulate a linear programming model for this problem.  Use the cell below to input your answer.  You can either use LaTeX to format the equations or neatly write out the equations by hand.  Take a picture and crop it, then drag and drop the picture into the cell below.  Scanner apps like CamScanner for Android can clean up the image and produce nice black and white images of your equations."
   ]
  },
  {
   "cell_type": "markdown",
   "metadata": {},
   "source": [
    "<font color = \"blue\"> *** 2 points -  answer in cell below *** (don't delete this cell) </font>"
   ]
  },
  {
   "cell_type": "markdown",
   "metadata": {},
   "source": [
    "##### Variables\n",
    "\n",
    "$x$ = hotdogs\n",
    "\n",
    "$y$ = buns\n",
    "\n",
    "##### Objective function:\n",
    "$z = 0.88x + 0.33y$\n",
    "\n",
    "##### Constraints:\n",
    "\n",
    "$.1y <= 200$\n",
    "\n",
    "$.25x <= 800$\n",
    "\n",
    "$3x + 2y <= 12000$"
   ]
  },
  {
   "cell_type": "markdown",
   "metadata": {},
   "source": [
    "(b) Use the graphical method to solve this model.  Include a summary of the solution and a picture (screen capture)."
   ]
  },
  {
   "cell_type": "markdown",
   "metadata": {},
   "source": [
    "<font color = \"blue\"> *** 2 points -  answer in cell below *** (don't delete this cell) </font>"
   ]
  },
  {
   "cell_type": "markdown",
   "metadata": {},
   "source": [
    "Weenies and Buns should produce 800 hot dogs and 2000 buns each week to achieve the highest possible profit:\n",
    "\n",
    "<img src=\"images/lesson_1_prob7.png\" alt=\"Solution\" width=\"640\" height=\"350\">"
   ]
  },
  {
   "cell_type": "markdown",
   "metadata": {},
   "source": [
    "# Textbook Problem 3.2-2"
   ]
  },
  {
   "cell_type": "markdown",
   "metadata": {},
   "source": [
    "The shaded area in the following graph represents the\n",
    "  feasible region of a linear programming problem whose objective\n",
    "  function is to be maximized. \n",
    "  \n",
    "<img src=\"images/screen-problem4.png\" alt=\"Problem\" width=\"440\" height=\"250\">\n",
    "\n",
    "Label each of the following statements as True or False, and then\n",
    "justify your answer based on the graphical method. In each case, give\n",
    "an example of an objective function that illustrates your answer.  Each of the three answers should include True/False, the objective function, and a picture of the graphical method illustrating your answer.\n",
    "\n",
    "(a)  If (3, 3) produces a larger value of the objective function than (0, 2) and (6, 3), then (3, 3) must be an optimal solution."
   ]
  },
  {
   "cell_type": "markdown",
   "metadata": {},
   "source": [
    "<font color = \"blue\"> *** 2 points -  answer in cell below *** (don't delete this cell) </font>"
   ]
  },
  {
   "cell_type": "markdown",
   "metadata": {},
   "source": [
    "False. This depends on if the objective function is to be maximized or minimized."
   ]
  },
  {
   "cell_type": "markdown",
   "metadata": {},
   "source": [
    "(b) If (3, 3) is an optimal solution and multiple optimal solutions exist, then either (0, 2) or (6, 3) must also be an optimal solution."
   ]
  },
  {
   "cell_type": "markdown",
   "metadata": {},
   "source": [
    "<font color = \"blue\"> *** 2 points -  answer in cell below *** (don't delete this cell) </font>"
   ]
  },
  {
   "cell_type": "markdown",
   "metadata": {},
   "source": [
    "True"
   ]
  },
  {
   "cell_type": "markdown",
   "metadata": {},
   "source": [
    "(c)  The point (0, 0) cannot be an optimal solution."
   ]
  },
  {
   "cell_type": "markdown",
   "metadata": {},
   "source": [
    "<font color = \"blue\"> *** 2 points -  answer in cell below *** (don't delete this cell) </font>"
   ]
  },
  {
   "cell_type": "markdown",
   "metadata": {},
   "source": [
    "Conceptually, false"
   ]
  },
  {
   "cell_type": "markdown",
   "metadata": {},
   "source": [
    "# Textbook Problem 3.2-6"
   ]
  },
  {
   "cell_type": "markdown",
   "metadata": {},
   "source": [
    "Suppose that the following constraints have been provided for a linear\n",
    "programming model.\n",
    "\n",
    "$\n",
    "\\begin{array}{rcrcr}\n",
    "-x_1 & + &  3 x_2 & \\leq & 30 \\\\\n",
    "-3 x_1 & + &   x_2 & \\leq & 30 \n",
    "\\end{array}\n",
    "$\n",
    "\n",
    "and $x_1 \\geq 0, x_2 \\geq 0.$\n",
    "\n",
    "(a) Demonstrate that the feasible region is unbounded."
   ]
  },
  {
   "cell_type": "markdown",
   "metadata": {},
   "source": [
    "<font color = \"blue\"> *** 2 points -  answer in cell below *** (don't delete this cell) </font>"
   ]
  },
  {
   "cell_type": "markdown",
   "metadata": {},
   "source": [
    "<img src=\"images/lesson_1_prob9.png\" alt=\"Solution\" width=\"640\" height=\"350\">"
   ]
  },
  {
   "cell_type": "markdown",
   "metadata": {},
   "source": [
    "(b) If the objective is to maximize $Z =-x_1+x_2,$ does the model\n",
    "  have an optimal solution? If so, find it. If not, explain why not."
   ]
  },
  {
   "cell_type": "markdown",
   "metadata": {},
   "source": [
    "<font color = \"blue\"> *** 2 points -  answer in cell below *** (don't delete this cell) </font>"
   ]
  },
  {
   "cell_type": "markdown",
   "metadata": {},
   "source": [
    "I think it does at x = -7.5 and y = 7.5. Z = 15."
   ]
  },
  {
   "cell_type": "markdown",
   "metadata": {},
   "source": [
    "(c) Repeat part (b) when the objective is to maximize $Z=x_1\n",
    "  - x_2$."
   ]
  },
  {
   "cell_type": "markdown",
   "metadata": {},
   "source": [
    "<font color = \"blue\"> *** 2 points -  answer in cell below *** (don't delete this cell) </font>"
   ]
  },
  {
   "cell_type": "markdown",
   "metadata": {},
   "source": [
    "It does not have a feasible solution (Z is unbounded)"
   ]
  },
  {
   "cell_type": "markdown",
   "metadata": {},
   "source": [
    "(d) For objective functions where this model has no optimal\n",
    "  solution, does this mean that there are no good solutions according\n",
    "  to the model? Explain. What probably went wrong when formulating the\n",
    "  model?"
   ]
  },
  {
   "cell_type": "markdown",
   "metadata": {},
   "source": [
    "<font color = \"blue\"> *** 2 points -  answer in cell below *** (don't delete this cell) </font>"
   ]
  },
  {
   "cell_type": "markdown",
   "metadata": {},
   "source": [
    "A model without an optimal solution does not have a most favorable value. The reason for this could be that the model constraints were improperly configured."
   ]
  },
  {
   "cell_type": "markdown",
   "metadata": {},
   "source": [
    "# Textbook Problem 3.4-15"
   ]
  },
  {
   "cell_type": "markdown",
   "metadata": {},
   "source": [
    "Oxbridge University maintains a powerful mainframe computer\n",
    "  for research use by its faculty, Ph.D. students, and research\n",
    "  associates. During all working hours, an operator must be available\n",
    "  to operate and maintain the computer, as well as to perform some\n",
    "  programming services. Beryl Ingram, the director of the computer\n",
    "  facility, oversees the operation.  \n",
    "\n",
    "  It is now the beginning of the\n",
    "  fall semester, and Beryl is confronted with the problem of assigning\n",
    "  different working hours to her operators. Because all the operators\n",
    "  are currently enrolled in the university, they are available to work\n",
    "  only a limited number of hours\n",
    "  each day, as shown in the following table: \n",
    "  \n",
    "  <img src=\"images/screen-problem5.png\" width=\"440\" height=\"250\">\n",
    "  \n",
    "  There are six operators (four undergraduate students and two\n",
    "  graduate students). They all have different wage rates because of\n",
    "  differences in their experience with computers and in their pro-\n",
    "  gramming ability. The above table shows their wage rates, along with\n",
    "  the maximum number of hours that each can work each day.  \n",
    "\n",
    "  Each\n",
    "  operator is guaranteed a certain minimum number of hours per week\n",
    "  that will maintain an adequate knowledge of the operation. This\n",
    "  level is set arbitrarily at 8 hours per week for the undergraduate\n",
    "  students (K. C., D. H., H. B., and S. C.) and 7 hours per week for\n",
    "  the graduate students (K. S. and N. K.).\n",
    "\n",
    "  The computer facility is to be open for operation from 8 A.M. to 10\n",
    "  P.M. Monday through Friday with exactly one operator on duty during\n",
    "  these hours. On Saturdays and Sundays, the computer is to be\n",
    "  operated by other staff.  Because of a tight budget, Beryl has to\n",
    "  minimize cost. She wishes to determine the number of hours she\n",
    "  should assign to each operator on each day.\n",
    "\n",
    "  Because of a tight budget, Beryl has to minimize cost. She wishes to\n",
    "  determine the number of hours she should assign to each operator on\n",
    "  each day.\n"
   ]
  },
  {
   "cell_type": "markdown",
   "metadata": {},
   "source": [
    "(a) Formulate a linear programming model for this problem.  LaTeX or handwritten with picture."
   ]
  },
  {
   "cell_type": "markdown",
   "metadata": {},
   "source": [
    "<font color = \"blue\"> *** 2 points -  answer in cell below *** (don't delete this cell) </font>"
   ]
  },
  {
   "cell_type": "markdown",
   "metadata": {},
   "source": [
    "##### Variables\n",
    "\n",
    "$kc_m$ = kc hours monday\n",
    "\n",
    "$kc_t$ = kc hours tuesday\n",
    "\n",
    "$kc_w$ = kc hours wednesday\n",
    "\n",
    "$kc_th$ = kc hours thursday\n",
    "\n",
    "$kc_f$ = kc hours friday\n",
    "\n",
    "\n",
    "$dh_m$ = dh hours monday\n",
    "\n",
    "$dh_t$ = dh hours tuesday\n",
    "\n",
    "$dh_w$ = dh hours wednesday\n",
    "\n",
    "$dh_th$ = dh hours thursday\n",
    "\n",
    "$dh_f$ = dh hours friday\n",
    "\n",
    "\n",
    "$hb_m$ = hb hours monday\n",
    "\n",
    "$hb_t$ = hb hours tuesday\n",
    "\n",
    "$hb_w$ = hb hours wednesday\n",
    "\n",
    "$hb_th$ = hb hours thursday\n",
    "\n",
    "$hb_f$ = hb hours friday\n",
    "\n",
    "\n",
    "$sc_m$ = sc hours monday\n",
    "\n",
    "$sc_t$ = sc hours tuesday\n",
    "\n",
    "$sc_w$ = sc hours wednesday\n",
    "\n",
    "$sc_th$ = sc hours thursday\n",
    "\n",
    "$sc_f$ = sc hours friday\n",
    "\n",
    "\n",
    "$ks_m$ = ks hours monday\n",
    "\n",
    "$ks_t$ = ks hours tuesday\n",
    "\n",
    "$ks_w$ = ks hours wednesday\n",
    "\n",
    "$ks_th$ = ks hours thursday\n",
    "\n",
    "$ks_f$ = ks hours friday\n",
    "\n",
    "\n",
    "$nk_m$ = nk hours monday\n",
    "\n",
    "$nk_t$ = nk hours tuesday\n",
    "\n",
    "$nk_w$ = nk hours wednesday\n",
    "\n",
    "$nk_th$ = nk hours thursday\n",
    "\n",
    "$nk_f$ = nk hours friday\n",
    "\n",
    "\n",
    "##### Objective function:\n",
    "$z = 25 *(kc_m + kc_t + kc_w + kc_th + kc_f) + \n",
    "\n",
    "26 *(dh_m + dh_t + dh_w + dh_th + dh_f) + \n",
    "\n",
    "24 *(hb_m + hb_t + hb_w + hb_th + hb_f) + \n",
    "\n",
    "23 *(sc_m + sc_t + sc_w + sc_th + sc_f) + \n",
    "\n",
    "28 *(ks_m + ks_t + ks_w + ks_th + ks_f) +\n",
    "\n",
    "30 *(nk_m + nk_t + nk_w + nk_th + nk_f) \n",
    "\n",
    "##### Constraints:\n",
    "\n",
    "(kc_m + kc_t + kc_w + kc_th + kc_f) >= 8\n",
    "\n",
    "(dh_m + dh_t + dh_w + dh_th + dh_f) >= 8\n",
    "\n",
    "(hb_m + hb_t + hb_w + hb_th + hb_f) >= 8\n",
    "\n",
    "(sc_m + sc_t + sc_w + sc_th + sc_f) >= 8\n",
    "\n",
    "(ks_m + ks_t + ks_w + ks_th + ks_f) >= 7\n",
    "\n",
    "(nk_m + nk_t + nk_w + nk_th + nk_f) >= 7\n",
    "\n",
    "\n",
    "(kc_m + kc_t + kc_w + kc_th + kc_f) + \n",
    "\n",
    "(dh_m + dh_t + dh_w + dh_th + dh_f) + \n",
    "\n",
    "(hb_m + hb_t + hb_w + hb_th + hb_f) + \n",
    "\n",
    "(sc_m + sc_t + sc_w + sc_th + sc_f) + \n",
    "\n",
    "(ks_m + ks_t + ks_w + ks_th + ks_f) +\n",
    "\n",
    "(nk_m + nk_t + nk_w + nk_th + nk_f) <= 70\n",
    "\n",
    "\n",
    "$kc_m$ <= 6\n",
    "\n",
    "$kc_t$ = 0\n",
    "\n",
    "$kc_w$ <= 6\n",
    "\n",
    "$kc_th$ = 0\n",
    "\n",
    "$kc_f$ <= 6\n",
    "\n",
    "\n",
    "$dh_m$ = 0\n",
    "\n",
    "$dh_t$ <= 6\n",
    "\n",
    "$dh_w$ = 0\n",
    "\n",
    "$dh_th$ <= 6\n",
    "\n",
    "$dh_f$ = 0\n",
    "\n",
    "\n",
    "$hb_m$ <= 4\n",
    "\n",
    "$hb_t$ <= 8\n",
    "\n",
    "$hb_w$ <= 4\n",
    "\n",
    "$hb_th$ = 0\n",
    "\n",
    "$hb_f$ <= 4\n",
    "\n",
    "\n",
    "$sc_m$ <= 5\n",
    "\n",
    "$sc_t$ <= 5\n",
    "\n",
    "$sc_w$ <= 5\n",
    "\n",
    "$sc_th$ = 0\n",
    "\n",
    "$sc_f$ <= 5\n",
    "\n",
    "$ks_m$ <= 3\n",
    "\n",
    "$ks_t$ = 0\n",
    "\n",
    "$ks_w$ <= 3\n",
    "\n",
    "$ks_th$ <= 8\n",
    "\n",
    "$ks_f$ = 0\n",
    "\n",
    "\n",
    "$nk_m$ = 0\n",
    "\n",
    "$nk_t$ = 0\n",
    "\n",
    "$nk_w$ = 0\n",
    "\n",
    "$nk_th$ <= 6\n",
    "\n",
    "$nk_f$ <= 2\n",
    "\n",
    "\n",
    "kc_m + dh_m + hb_m + sc_m + ks_m + nk_m = 14\n",
    "\n",
    "kc_t + dh_t + hb_t + sc_t + ks_t + nk_t = 14\n",
    "\n",
    "kc_w + dh_w + hb_w + sc_w + ks_w + nk_w = 14\n",
    "\n",
    "kc_th + dh_th + hb_th + sc_th + ks_th + nk_th = 14\n",
    "\n",
    "kc_f + dh_f + hb_f + sc_f + ks_f + nk_f = 14 \n"
   ]
  },
  {
   "cell_type": "markdown",
   "metadata": {},
   "source": [
    "(b) Use Pyomo to solve this problem. Your solution should include all necessary code and inputs and it should produce formatted output."
   ]
  },
  {
   "cell_type": "markdown",
   "metadata": {},
   "source": [
    "<font color = \"blue\"> *** 6 points -  answer in cell below *** (don't delete this cell) </font>"
   ]
  },
  {
   "cell_type": "code",
   "execution_count": 1,
   "metadata": {},
   "outputs": [
    {
     "name": "stdout",
     "output_type": "stream",
     "text": [
      "1755.0\n",
      "kc should work 2.0 hours on m\n",
      "kc should work 0.0 hours on t\n",
      "kc should work 4.0 hours on w\n",
      "kc should work 0.0 hours on th\n",
      "kc should work 3.0 hours on f\n",
      "dh should work 0.0 hours on m\n",
      "dh should work 2.0 hours on t\n",
      "dh should work 0.0 hours on w\n",
      "dh should work 6.0 hours on th\n",
      "dh should work 0.0 hours on f\n",
      "hb should work 4.0 hours on m\n",
      "hb should work 7.0 hours on t\n",
      "hb should work 4.0 hours on w\n",
      "hb should work 0.0 hours on th\n",
      "hb should work 4.0 hours on f\n",
      "sc should work 5.0 hours on m\n",
      "sc should work 5.0 hours on t\n",
      "sc should work 5.0 hours on w\n",
      "sc should work 0.0 hours on th\n",
      "sc should work 5.0 hours on f\n",
      "ks should work 3.0 hours on m\n",
      "ks should work 0.0 hours on t\n",
      "ks should work 1.0 hours on w\n",
      "ks should work 3.0 hours on th\n",
      "ks should work 0.0 hours on f\n",
      "nk should work 0.0 hours on m\n",
      "nk should work 0.0 hours on t\n",
      "nk should work 0.0 hours on w\n",
      "nk should work 5.0 hours on th\n",
      "nk should work 2.0 hours on f\n"
     ]
    }
   ],
   "source": [
    "# unfold to see Pyomo solution with a vector of decision variables\n",
    "from pyomo.environ import *\n",
    "\n",
    "# Concrete Model\n",
    "model = ConcreteModel(name=\"oxbridge\")\n",
    "\n",
    "# decision vars\n",
    "schedule = ['kc_m', 'kc_t','kc_w','kc_th','kc_f',\n",
    "               'dh_m', 'dh_t','dh_w','dh_th','dh_f',\n",
    "               'hb_m', 'hb_t','hb_w','hb_th','hb_f',\n",
    "               'sc_m', 'sc_t','sc_w','sc_th','sc_f',\n",
    "               'ks_m', 'ks_t','ks_w','ks_th','ks_f',\n",
    "               'nk_m', 'nk_t','nk_w','nk_th','nk_f']\n",
    "\n",
    "\n",
    "kc_bounds = [6,0,6,0,6]\n",
    "dh_bounds = [0,6,0,6,0]\n",
    "hb_bounds = [4,8,4,0,4]\n",
    "sc_bounds = [5,5,5,0,5]\n",
    "ks_bounds = [3,0,3,8,0]\n",
    "nk_bounds = [0,0,0,6,2]\n",
    "\n",
    "bounds_list = [kc_bounds, dh_bounds, hb_bounds, sc_bounds, ks_bounds, nk_bounds]\n",
    "flat_list = [hours for bounds in bounds_list for hours in bounds]\n",
    "\n",
    "bounds_dict = {}\n",
    "\n",
    "for person_day, hours in zip(schedule, flat_list):\n",
    "    bounds_dict[person_day] = (0, hours)\n",
    "\n",
    "def bounds_rule(model, person_day):\n",
    "    return (bounds_dict[person_day])\n",
    "\n",
    "model.x = Var(schedule, domain=Reals, bounds=bounds_rule)\n",
    "\n",
    "model.kc = model.x['kc_m'] + model.x['kc_t'] + model.x['kc_w'] + model.x['kc_th'] + model.x['kc_f']\n",
    "model.dh = model.x['dh_m'] + model.x['dh_t'] + model.x['dh_w'] + model.x['dh_th'] + model.x['dh_f']\n",
    "model.hb = model.x['hb_m'] + model.x['hb_t'] + model.x['hb_w'] + model.x['hb_th'] + model.x['hb_f']\n",
    "model.sc = model.x['sc_m'] + model.x['sc_t'] + model.x['sc_w'] + model.x['sc_th'] + model.x['sc_f']\n",
    "model.ks = model.x['ks_m'] + model.x['ks_t'] + model.x['ks_w'] + model.x['ks_th'] + model.x['ks_f']\n",
    "model.nk = model.x['nk_m'] + model.x['nk_t'] + model.x['nk_w'] + model.x['nk_th'] + model.x['nk_f']\n",
    "model.total_hours = model.kc + model.dh + model.hb + model.sc + model.ks + model.nk\n",
    "\n",
    "# Objective\n",
    "model.cost = Objective(expr = (25 * model.kc) + (26 * model.dh) + (24 * model.hb) + (23 * model.sc) + (28 * model.ks) + \n",
    "                       (30 * model.nk), sense=minimize)\n",
    "\n",
    "# Constraints\n",
    "model.Constraint1 = Constraint(expr = model.kc >= 8)\n",
    "model.Constraint2 = Constraint(expr = model.dh >= 8)\n",
    "model.Constraint3 = Constraint(expr = model.hb >= 8)\n",
    "model.Constraint4 = Constraint(expr = model.sc >= 8)\n",
    "model.Constraint5 = Constraint(expr = model.ks >= 7)\n",
    "model.Constraint6 = Constraint(expr = model.nk >= 7)\n",
    "model.Constraint7 = Constraint(expr =  model.total_hours <= 70)\n",
    "\n",
    "\n",
    "model.Constraint8 = Constraint(expr = model.x['kc_m'] <= 6)\n",
    "model.Constraint9 = Constraint(expr = model.x['kc_t'] <= 0)\n",
    "model.Constraint10 = Constraint(expr = model.x['kc_w'] <= 6)\n",
    "model.Constraint11 = Constraint(expr = model.x['kc_th'] <= 0)\n",
    "model.Constraint12 = Constraint(expr = model.x['kc_f'] <= 6)\n",
    "\n",
    "model.Constraint13 = Constraint(expr = model.x['dh_m'] <= 0)\n",
    "model.Constraint14 = Constraint(expr = model.x['dh_t'] <= 6)\n",
    "model.Constraint15 = Constraint(expr = model.x['dh_w'] <= 0)\n",
    "model.Constraint16 = Constraint(expr = model.x['dh_th'] <= 6)\n",
    "model.Constraint17 = Constraint(expr = model.x['dh_f'] == 0)\n",
    "\n",
    "model.Constraint18 = Constraint(expr = model.x['hb_m'] <= 4)\n",
    "model.Constraint19 = Constraint(expr = model.x['hb_t'] <= 8)\n",
    "model.Constraint20 = Constraint(expr = model.x['hb_w'] <= 4)\n",
    "model.Constraint21 = Constraint(expr = model.x['hb_th'] <= 0)\n",
    "model.Constraint22 = Constraint(expr = model.x['hb_f'] <= 4)\n",
    "\n",
    "model.Constraint23 = Constraint(expr = model.x['sc_m'] <= 5)\n",
    "model.Constraint24 = Constraint(expr = model.x['sc_t'] <= 5)\n",
    "model.Constraint25 = Constraint(expr = model.x['sc_w'] <= 5)\n",
    "model.Constraint26 = Constraint(expr = model.x['sc_th'] <= 0)\n",
    "model.Constraint27 = Constraint(expr = model.x['sc_f'] <= 5)\n",
    "\n",
    "model.Constraint28 = Constraint(expr = model.x['ks_m'] <= 3)\n",
    "model.Constraint29 = Constraint(expr = model.x['ks_t'] <= 0)\n",
    "model.Constraint30 = Constraint(expr = model.x['ks_w'] <= 3)\n",
    "model.Constraint31 = Constraint(expr = model.x['ks_th'] <= 8)\n",
    "model.Constraint32 = Constraint(expr = model.x['ks_f'] <= 0)\n",
    "\n",
    "model.Constraint33 = Constraint(expr = model.x['nk_m'] <= 0)\n",
    "model.Constraint34 = Constraint(expr = model.x['nk_t'] <= 0)\n",
    "model.Constraint35 = Constraint(expr = model.x['nk_w'] <= 0)\n",
    "model.Constraint36 = Constraint(expr = model.x['nk_th'] <= 6)\n",
    "model.Constraint37 = Constraint(expr = model.x['nk_f'] <= 2)\n",
    "\n",
    "model.Constraint38 = Constraint(expr = model.x['kc_m'] + model.x['dh_m'] + model.x['hb_m'] + model.x['sc_m'] + model.x['ks_m'] + model.x['nk_m'] == 14)\n",
    "model.Constraint39 = Constraint(expr = model.x['kc_t'] + model.x['dh_t'] + model.x['hb_t'] + model.x['sc_t'] + model.x['ks_t'] + model.x['nk_t'] == 14)\n",
    "model.Constraint40 = Constraint(expr = model.x['kc_w'] + model.x['dh_w'] + model.x['hb_w'] + model.x['sc_w'] + model.x['ks_w'] + model.x['nk_w'] == 14)\n",
    "model.Constraint41 = Constraint(expr = model.x['kc_th'] + model.x['dh_th'] + model.x['hb_th'] + model.x['sc_th'] + model.x['ks_th'] + model.x['nk_th'] == 14)\n",
    "model.Constraint42 = Constraint(expr = model.x['kc_f'] + model.x['dh_f'] + model.x['hb_f'] + model.x['sc_f'] + model.x['ks_f'] + model.x['nk_f'] == 14 )\n",
    "\n",
    "\n",
    "# Solve\n",
    "solver = SolverFactory('glpk')\n",
    "solver.solve(model)\n",
    "\n",
    "# display(model)\n",
    "\n",
    "# display solution\n",
    "import babel.numbers as numbers  # needed to display as currency\n",
    "print(f\"{model.cost()}\")\n",
    "\n",
    "for person_schedule in schedule:\n",
    "    split_text = person_schedule.split(\"_\")\n",
    "    person = split_text[0]\n",
    "    day = split_text[1]\n",
    "    print(f\"{person} should work {model.x[person_schedule]()} hours on {day}\")"
   ]
  },
  {
   "cell_type": "markdown",
   "metadata": {},
   "source": [
    "# Textbook Problem 3.5-3 (a,c,d)"
   ]
  },
  {
   "cell_type": "markdown",
   "metadata": {},
   "source": [
    "Ed Butler is the production manager for the Bilco Corporation, which\n",
    "produces three types of spare parts for automobiles. The manufacture\n",
    "of each part requires processing on each of two machines, with the\n",
    "following processing times (in hours): \n",
    "\n",
    "<img src=\"images/screen-problem6a.png\" width=\"440\" height=\"250\">\n",
    "\n",
    "Each machine is available 40 hours per month. Each part manufactured\n",
    "will yield a unit profit as follows:\n",
    "\n",
    "<img src=\"images/screen-problem6b.png\" width=\"440\" height=\"250\">\n",
    "\n",
    "Ed wants to determine the mix of spare parts to produce in order to\n",
    "maximize total profit.\n",
    "\n",
    "(a) Formulate a linear programming model for this problem.  LaTeX or picture of handwritten math."
   ]
  },
  {
   "cell_type": "markdown",
   "metadata": {},
   "source": [
    "<font color = \"blue\"> *** 2 points -  answer in cell below *** (don't delete this cell) </font>"
   ]
  },
  {
   "cell_type": "markdown",
   "metadata": {},
   "source": [
    "##### Variables\n",
    "\n",
    "$x = part A$\n",
    "\n",
    "$y = part B$\n",
    "\n",
    "$z = part C$\n",
    "\n",
    "##### Objective function:\n",
    "$z = 50x + 40y + 30z$\n",
    "\n",
    "##### Constraints:\n",
    "\n",
    "$.02x + .03y + .05z <= 40$\n",
    "\n",
    "$.05x + .02y + .04z <= 40$"
   ]
  },
  {
   "cell_type": "markdown",
   "metadata": {},
   "source": [
    "(c) Make three guesses of your own choosing for the decision variables to get an optimal solution. Check each one for feasibility and, if feasible, find the value of the objective function. Which feasible guess has the best objective function value?"
   ]
  },
  {
   "cell_type": "markdown",
   "metadata": {},
   "source": [
    "<font color = \"blue\"> *** 2 points -  answer in cell below *** (don't delete this cell) </font>"
   ]
  },
  {
   "cell_type": "markdown",
   "metadata": {},
   "source": [
    "Guess 1:\n",
    "a = 300, b = 400, c = 200\n",
    "Z = 50*600 + 40*400 + 30*200 = 37000\n",
    "\n",
    "Guess 2:\n",
    "a = 200, b = 400, c = 350\n",
    "Z = 50*200 + 40*400 + 30*200 = 36500\n",
    "\n",
    "Guess 3:\n",
    "a = 400, b = 400, c = 300\n",
    "Z = 50*400 + 40*400 + 30*300 = 4500\n",
    "\n",
    "The third guess has the best objective function value"
   ]
  },
  {
   "cell_type": "markdown",
   "metadata": {},
   "source": [
    "(d) Use Pyomo to solve the model by the simplex method.  Complete code should run, include imports, and formatted output."
   ]
  },
  {
   "cell_type": "markdown",
   "metadata": {},
   "source": [
    "<font color = \"blue\"> *** 4 points -  answer in cell below *** (don't delete this cell) </font>"
   ]
  },
  {
   "cell_type": "code",
   "execution_count": 12,
   "metadata": {},
   "outputs": [
    {
     "name": "stdout",
     "output_type": "stream",
     "text": [
      "Profit =  $60,000.00\n",
      "Num A =  400.0\n",
      "Num B =  1000.0\n",
      "Num C =  0.0\n"
     ]
    }
   ],
   "source": [
    "# unfold to see Pyomo solution with a vector of decision variables\n",
    "from pyomo.environ import *\n",
    "\n",
    "# Concrete Model\n",
    "model = ConcreteModel(name=\"bilco\")\n",
    "\n",
    "products = ['A', 'B', 'C']\n",
    "bounds_dict = {'A': (0, 1000), 'B': (0, 1000), 'C': (0, 1000)}\n",
    "\n",
    "def bounds_rule(model, product):\n",
    "    return (bounds_dict[product])\n",
    "\n",
    "model.x = Var(products, domain=Reals, bounds=bounds_rule)\n",
    "\n",
    "# Objective\n",
    "model.profit = Objective(expr=50 * model.x['A'] + 40 * model.x['B'] + 30 * model.x['C'],\n",
    "                         sense=maximize)\n",
    "\n",
    "# Constraints\n",
    "model.Constraint1 = Constraint(expr = .02 * model.x['A'] + .03 * model.x['B'] + .05 * model.x['C'] <= 40)\n",
    "model.Constraint2 = Constraint(expr = .05 * model.x['A'] + .02 * model.x['B'] + .04 * model.x['C'] <= 40)\n",
    "\n",
    "# Solve\n",
    "solver = SolverFactory('glpk')\n",
    "solver.solve(model)\n",
    "\n",
    "# display(model)\n",
    "\n",
    "# display solution\n",
    "import babel.numbers as numbers  # needed to display as currency\n",
    "print(\"Profit = \",\n",
    "      numbers.format_currency(model.profit(), 'USD', locale='en_US'))\n",
    "print(\"Num A = \", model.x['A']())\n",
    "print(\"Num B = \", model.x['B']())\n",
    "print(\"Num C = \", model.x['C']())"
   ]
  }
 ],
 "metadata": {
  "kernelspec": {
   "display_name": "anaconda3",
   "language": "python",
   "name": "anaconda3"
  },
  "language_info": {
   "codemirror_mode": {
    "name": "ipython",
    "version": 3
   },
   "file_extension": ".py",
   "mimetype": "text/x-python",
   "name": "python",
   "nbconvert_exporter": "python",
   "pygments_lexer": "ipython3",
   "version": "3.7.3"
  },
  "toc": {
   "base_numbering": 1,
   "nav_menu": {},
   "number_sections": true,
   "sideBar": true,
   "skip_h1_title": false,
   "title_cell": "Table of Contents",
   "title_sidebar": "Contents",
   "toc_cell": false,
   "toc_position": {
    "height": "calc(100% - 180px)",
    "left": "10px",
    "top": "150px",
    "width": "165px"
   },
   "toc_section_display": true,
   "toc_window_display": true
  },
  "varInspector": {
   "cols": {
    "lenName": 16,
    "lenType": 16,
    "lenVar": 40
   },
   "kernels_config": {
    "python": {
     "delete_cmd_postfix": "",
     "delete_cmd_prefix": "del ",
     "library": "var_list.py",
     "varRefreshCmd": "print(var_dic_list())"
    },
    "r": {
     "delete_cmd_postfix": ") ",
     "delete_cmd_prefix": "rm(",
     "library": "var_list.r",
     "varRefreshCmd": "cat(var_dic_list()) "
    }
   },
   "types_to_exclude": [
    "module",
    "function",
    "builtin_function_or_method",
    "instance",
    "_Feature"
   ],
   "window_display": false
  }
 },
 "nbformat": 4,
 "nbformat_minor": 2
}
