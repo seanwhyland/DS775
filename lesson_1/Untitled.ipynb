{
 "cells": [
  {
   "cell_type": "code",
   "execution_count": 2,
   "metadata": {},
   "outputs": [],
   "source": [
    "schedule = ['kc_m', 'kc_t','kc_w','kc_th','kc_f',\n",
    "               'dh_m', 'dh_t','dh_w','dh_th','dh_f',\n",
    "               'hb_m', 'hb_t','hb_w','hb_th','hb_f',\n",
    "               'sc_m', 'sc_t','sc_w','sc_th','sc_f',\n",
    "               'ks_m', 'ks_t','ks_w','ks_th','ks_f',\n",
    "               'nk_m', 'nk_t','nk_w','nk_th','nk_f']\n",
    "\n",
    "kc_bounds = [6,0,6,0,6]\n",
    "dh_bounds = [0,6,0,6,0]\n",
    "hb_bounds = [4,8,4,0,4]\n",
    "sc_bounds = [5,5,5,0,5]\n",
    "ks_bounds = [3,0,3,8,0]\n",
    "nk_bounds = [0,0,0,6,2]\n",
    "\n",
    "bounds_list = [kc_bounds, dh_bounds, hb_bounds, sc_bounds, ks_bounds, nk_bounds]\n",
    "flat_list = [hours for bounds in bounds_list for hours in bounds]\n",
    "\n",
    "bounds_dict = {}\n",
    "\n",
    "for person_day, hours in zip(schedule, flat_list):\n",
    "    bounds_dict[person_day] = (0, hours)\n",
    "    \n"
   ]
  },
  {
   "cell_type": "code",
   "execution_count": 16,
   "metadata": {},
   "outputs": [
    {
     "data": {
      "text/plain": [
       "['hb_m', 'hb_t', 'hb_w', 'hb_th', 'hb_f']"
      ]
     },
     "execution_count": 16,
     "metadata": {},
     "output_type": "execute_result"
    }
   ],
   "source": [
    "schedule = ['kc_m', 'kc_t','kc_w','kc_th','kc_f',\n",
    "               'dh_m', 'dh_t','dh_w','dh_th','dh_f',\n",
    "               'hb_m', 'hb_t','hb_w','hb_th','hb_f',\n",
    "               'sc_m', 'sc_t','sc_w','sc_th','sc_f',\n",
    "               'ks_m', 'ks_t','ks_w','ks_th','ks_f',\n",
    "               'nk_m', 'nk_t','nk_w','nk_th','nk_f']\n",
    "schedule[0:5]\n",
    "schedule[5:10]\n",
    "schedule[10:15]"
   ]
  },
  {
   "cell_type": "code",
   "execution_count": 42,
   "metadata": {},
   "outputs": [
    {
     "data": {
      "text/plain": [
       "{25: [\"model.x['kc_m'] + model.x['kc_t'] + model.x['kc_w'] + model.x['kc_th'] + model.x['kc_f']\"],\n",
       " 26: [\"model.x['dh_m'] + model.x['dh_t'] + model.x['dh_w'] + model.x['dh_th'] + model.x['dh_f']\"],\n",
       " 24: [\"model.x['hb_m'] + model.x['hb_t'] + model.x['hb_w'] + model.x['hb_th'] + model.x['hb_f']\"],\n",
       " 23: [\"model.x['sc_m'] + model.x['sc_t'] + model.x['sc_w'] + model.x['sc_th'] + model.x['sc_f']\"],\n",
       " 28: [\"model.x['ks_m'] + model.x['ks_t'] + model.x['ks_w'] + model.x['ks_th'] + model.x['ks_f']\"],\n",
       " 20: [\"model.x['nk_m'] + model.x['nk_t'] + model.x['nk_w'] + model.x['nk_th'] + model.x['nk_f']\"]}"
      ]
     },
     "execution_count": 42,
     "metadata": {},
     "output_type": "execute_result"
    }
   ],
   "source": [
    "kc = []\n",
    "dh = []\n",
    "hb = []\n",
    "sc = []\n",
    "ks = []\n",
    "nk = []\n",
    "\n",
    "all_people = []\n",
    "start = 0\n",
    "span = 5\n",
    "end = start + span\n",
    "num_people = 6\n",
    "num_days = 5\n",
    "\n",
    "for i in range(num_people):\n",
    "    all_people.append(schedule[start:end])\n",
    "    start += span\n",
    "    end += span\n",
    "    \n",
    "# for i in range(len(schedule)+1):\n",
    "#     if i % 5 == 0 and i != 0:\n",
    "#         all_people.append(schedule[start:i])\n",
    "#         start = i\n",
    "        \n",
    "\n",
    "pay_rates = [25, 26, 24, 23, 28, 20]\n",
    "dot_product = {}\n",
    "\n",
    "for idx, person in enumerate(all_people):\n",
    "    main_string = ''\n",
    "    for i in range(num_days):\n",
    "        if i+1 < num_days:\n",
    "            main_string += f\"model.x['{person[i]}'] + \"\n",
    "        else:\n",
    "            main_string += f\"model.x['{person[i]}']\"\n",
    "        \n",
    "    dot_product[pay_rates[idx]] = [main_string]\n",
    "\n",
    "    \n",
    "dot_product"
   ]
  },
  {
   "cell_type": "code",
   "execution_count": null,
   "metadata": {},
   "outputs": [],
   "source": [
    "model.profit = Objective(expr=3.0 * model.x['drs'] + 5.0 * model.x['wdw'],\n",
    "#                          sense=maximize)"
   ]
  }
 ],
 "metadata": {
  "kernelspec": {
   "display_name": "env",
   "language": "python",
   "name": "env"
  },
  "language_info": {
   "codemirror_mode": {
    "name": "ipython",
    "version": 3
   },
   "file_extension": ".py",
   "mimetype": "text/x-python",
   "name": "python",
   "nbconvert_exporter": "python",
   "pygments_lexer": "ipython3",
   "version": "3.7.4"
  }
 },
 "nbformat": 4,
 "nbformat_minor": 2
}
