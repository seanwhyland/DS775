{
 "cells": [
  {
   "cell_type": "code",
   "execution_count": 175,
   "metadata": {
    "code_folding": []
   },
   "outputs": [
    {
     "data": {
      "text/html": [
       "<style>.container { width:80% !important; }</style>"
      ],
      "text/plain": [
       "<IPython.core.display.HTML object>"
      ]
     },
     "metadata": {},
     "output_type": "display_data"
    }
   ],
   "source": [
    "# execute to import notebook styling for tables and width etc.\n",
    "from IPython.core.display import display, HTML\n",
    "import urllib.request\n",
    "response = urllib.request.urlopen('https://raw.githubusercontent.com/DataScienceUWL/DS775v2/master/ds755.css')\n",
    "HTML(response.read().decode(\"utf-8\"));\n",
    "display(HTML(\"<style>.container { width:80% !important; }</style>\"))"
   ]
  },
  {
   "cell_type": "markdown",
   "metadata": {},
   "source": [
    "<font size=18>Lesson 02 Homework</font>"
   ]
  },
  {
   "cell_type": "markdown",
   "metadata": {
    "heading_collapsed": true
   },
   "source": [
    "# Sensitive Parameter"
   ]
  },
  {
   "cell_type": "markdown",
   "metadata": {
    "hidden": true
   },
   "source": [
    "A “sensitive parameter” is a parameter\n",
    "\n",
    "a.    that can be set outside of  its allowable range.\n",
    "\n",
    "b.    that satisfies the certainty assumption.\n",
    "\n",
    "c.    whose value must be estimated.\n",
    "\n",
    "d.      is a constraint boundary that can be changed without affecting the optimal solution.    \n",
    "\n",
    "e.    whose values cannot be changed without changing the optimal solution."
   ]
  },
  {
   "cell_type": "markdown",
   "metadata": {
    "hidden": true
   },
   "source": [
    "<font color = \"blue\"> *** 2 points -  answer in cell below *** (don't delete this cell) </font>"
   ]
  },
  {
   "cell_type": "markdown",
   "metadata": {
    "hidden": true
   },
   "source": [
    "E"
   ]
  },
  {
   "cell_type": "markdown",
   "metadata": {
    "heading_collapsed": true
   },
   "source": [
    "# Shadow Price"
   ]
  },
  {
   "cell_type": "markdown",
   "metadata": {
    "hidden": true
   },
   "source": [
    "The shadow price for a resource is\n",
    "\n",
    "\n",
    "a.  the amount the objective function Z increases for each one unit  increase in the amount of the resource available when it goes beyond its allowable range.\n",
    "\n",
    "b.     the amount the objective function Z increases for each one unit  increase in the amount of the resource available, provided that is stays within its allowable range.\n",
    "\n",
    "c.  the range of values for the right-hand side over which the current optimal solution remains feasible.  \n",
    "\n",
    "d.  a constraint that must be satisfied.  \n",
    "\n",
    "e.  a constraint boundary that can be characterized by a random variable. "
   ]
  },
  {
   "cell_type": "markdown",
   "metadata": {
    "hidden": true
   },
   "source": [
    "<font color = \"blue\"> *** 2 points -  answer in cell below *** (don't delete this cell) </font>"
   ]
  },
  {
   "cell_type": "markdown",
   "metadata": {
    "hidden": true
   },
   "source": [
    "B"
   ]
  },
  {
   "cell_type": "markdown",
   "metadata": {},
   "source": [
    "# Giapetto Interactive Widget Problem"
   ]
  },
  {
   "cell_type": "markdown",
   "metadata": {},
   "source": [
    "Giapetto's Woodcarving, Inc., manufactures two types of wooden toys: soldiers and trains.\n",
    "\n",
    "A soldier sells for 27 dollars and uses 10 dollars worth of raw materials. Each soldier that is manufactured increases Giapetto’s variable labor and overhead costs by 14 dollars (so think about what the unit profit would be). A train sells for 21 dollars and uses 9 dollars worth of raw materials. Each train built increases Giapetto’s variable labor and overhead costs by 10 dollars. The manufacture of wooden soldiers and trains requires two types of skilled labor: carpentry and finishing. A soldier requires 2 hours of finishing labor and 1 hour of carpentry labor. A train requires 1 hour of finishing labor and 1 hour of carpentry labor. Each week, Giapetto can obtain all the needed raw material but only 80 carpentry hours and 100 finishing hours. Demand for trains ($x_2$) is unlimited, but at most 40 soldiers ($x_1$) are bought each week. Giapetto wants to maximize weekly profit (revenues-costs). (This example is from the textbook \"Operations Research\" by Wayne L. Winston.)\n",
    "\n",
    "The model formulation that can be used to maximize Giapetto’s weekly profit is:\n",
    "\n",
    "Maximize $Z = 3x_1 + 2x_2,$ \n",
    "\n",
    "subject to \n",
    "\n",
    "$\n",
    "\\begin{array}{rcrcr}\n",
    "x_1 & + & x_2 & \\leq & 80 \\\\\n",
    "2x_1 & + & x_2 & \\leq & 100 \\\\\n",
    " x_1        &         &  & \\leq & 40 \n",
    "\\end{array}\n",
    "$\n",
    "\n",
    "and $x_1 \\geq 0, x_2 \\geq 0.$\n",
    "\n",
    "**Use the widget below** to answer the following questions (after the widget) about Giapetto's production of wooden soldiers and trains.  Do not use other methods to find the answers."
   ]
  },
  {
   "cell_type": "code",
   "execution_count": 1,
   "metadata": {
    "code_folding": [
     0
    ],
    "scrolled": false
   },
   "outputs": [
    {
     "data": {
      "application/javascript": [
       "/* Put everything inside the global mpl namespace */\n",
       "window.mpl = {};\n",
       "\n",
       "\n",
       "mpl.get_websocket_type = function() {\n",
       "    if (typeof(WebSocket) !== 'undefined') {\n",
       "        return WebSocket;\n",
       "    } else if (typeof(MozWebSocket) !== 'undefined') {\n",
       "        return MozWebSocket;\n",
       "    } else {\n",
       "        alert('Your browser does not have WebSocket support. ' +\n",
       "              'Please try Chrome, Safari or Firefox ≥ 6. ' +\n",
       "              'Firefox 4 and 5 are also supported but you ' +\n",
       "              'have to enable WebSockets in about:config.');\n",
       "    };\n",
       "}\n",
       "\n",
       "mpl.figure = function(figure_id, websocket, ondownload, parent_element) {\n",
       "    this.id = figure_id;\n",
       "\n",
       "    this.ws = websocket;\n",
       "\n",
       "    this.supports_binary = (this.ws.binaryType != undefined);\n",
       "\n",
       "    if (!this.supports_binary) {\n",
       "        var warnings = document.getElementById(\"mpl-warnings\");\n",
       "        if (warnings) {\n",
       "            warnings.style.display = 'block';\n",
       "            warnings.textContent = (\n",
       "                \"This browser does not support binary websocket messages. \" +\n",
       "                    \"Performance may be slow.\");\n",
       "        }\n",
       "    }\n",
       "\n",
       "    this.imageObj = new Image();\n",
       "\n",
       "    this.context = undefined;\n",
       "    this.message = undefined;\n",
       "    this.canvas = undefined;\n",
       "    this.rubberband_canvas = undefined;\n",
       "    this.rubberband_context = undefined;\n",
       "    this.format_dropdown = undefined;\n",
       "\n",
       "    this.image_mode = 'full';\n",
       "\n",
       "    this.root = $('<div/>');\n",
       "    this._root_extra_style(this.root)\n",
       "    this.root.attr('style', 'display: inline-block');\n",
       "\n",
       "    $(parent_element).append(this.root);\n",
       "\n",
       "    this._init_header(this);\n",
       "    this._init_canvas(this);\n",
       "    this._init_toolbar(this);\n",
       "\n",
       "    var fig = this;\n",
       "\n",
       "    this.waiting = false;\n",
       "\n",
       "    this.ws.onopen =  function () {\n",
       "            fig.send_message(\"supports_binary\", {value: fig.supports_binary});\n",
       "            fig.send_message(\"send_image_mode\", {});\n",
       "            if (mpl.ratio != 1) {\n",
       "                fig.send_message(\"set_dpi_ratio\", {'dpi_ratio': mpl.ratio});\n",
       "            }\n",
       "            fig.send_message(\"refresh\", {});\n",
       "        }\n",
       "\n",
       "    this.imageObj.onload = function() {\n",
       "            if (fig.image_mode == 'full') {\n",
       "                // Full images could contain transparency (where diff images\n",
       "                // almost always do), so we need to clear the canvas so that\n",
       "                // there is no ghosting.\n",
       "                fig.context.clearRect(0, 0, fig.canvas.width, fig.canvas.height);\n",
       "            }\n",
       "            fig.context.drawImage(fig.imageObj, 0, 0);\n",
       "        };\n",
       "\n",
       "    this.imageObj.onunload = function() {\n",
       "        fig.ws.close();\n",
       "    }\n",
       "\n",
       "    this.ws.onmessage = this._make_on_message_function(this);\n",
       "\n",
       "    this.ondownload = ondownload;\n",
       "}\n",
       "\n",
       "mpl.figure.prototype._init_header = function() {\n",
       "    var titlebar = $(\n",
       "        '<div class=\"ui-dialog-titlebar ui-widget-header ui-corner-all ' +\n",
       "        'ui-helper-clearfix\"/>');\n",
       "    var titletext = $(\n",
       "        '<div class=\"ui-dialog-title\" style=\"width: 100%; ' +\n",
       "        'text-align: center; padding: 3px;\"/>');\n",
       "    titlebar.append(titletext)\n",
       "    this.root.append(titlebar);\n",
       "    this.header = titletext[0];\n",
       "}\n",
       "\n",
       "\n",
       "\n",
       "mpl.figure.prototype._canvas_extra_style = function(canvas_div) {\n",
       "\n",
       "}\n",
       "\n",
       "\n",
       "mpl.figure.prototype._root_extra_style = function(canvas_div) {\n",
       "\n",
       "}\n",
       "\n",
       "mpl.figure.prototype._init_canvas = function() {\n",
       "    var fig = this;\n",
       "\n",
       "    var canvas_div = $('<div/>');\n",
       "\n",
       "    canvas_div.attr('style', 'position: relative; clear: both; outline: 0');\n",
       "\n",
       "    function canvas_keyboard_event(event) {\n",
       "        return fig.key_event(event, event['data']);\n",
       "    }\n",
       "\n",
       "    canvas_div.keydown('key_press', canvas_keyboard_event);\n",
       "    canvas_div.keyup('key_release', canvas_keyboard_event);\n",
       "    this.canvas_div = canvas_div\n",
       "    this._canvas_extra_style(canvas_div)\n",
       "    this.root.append(canvas_div);\n",
       "\n",
       "    var canvas = $('<canvas/>');\n",
       "    canvas.addClass('mpl-canvas');\n",
       "    canvas.attr('style', \"left: 0; top: 0; z-index: 0; outline: 0\")\n",
       "\n",
       "    this.canvas = canvas[0];\n",
       "    this.context = canvas[0].getContext(\"2d\");\n",
       "\n",
       "    var backingStore = this.context.backingStorePixelRatio ||\n",
       "\tthis.context.webkitBackingStorePixelRatio ||\n",
       "\tthis.context.mozBackingStorePixelRatio ||\n",
       "\tthis.context.msBackingStorePixelRatio ||\n",
       "\tthis.context.oBackingStorePixelRatio ||\n",
       "\tthis.context.backingStorePixelRatio || 1;\n",
       "\n",
       "    mpl.ratio = (window.devicePixelRatio || 1) / backingStore;\n",
       "\n",
       "    var rubberband = $('<canvas/>');\n",
       "    rubberband.attr('style', \"position: absolute; left: 0; top: 0; z-index: 1;\")\n",
       "\n",
       "    var pass_mouse_events = true;\n",
       "\n",
       "    canvas_div.resizable({\n",
       "        start: function(event, ui) {\n",
       "            pass_mouse_events = false;\n",
       "        },\n",
       "        resize: function(event, ui) {\n",
       "            fig.request_resize(ui.size.width, ui.size.height);\n",
       "        },\n",
       "        stop: function(event, ui) {\n",
       "            pass_mouse_events = true;\n",
       "            fig.request_resize(ui.size.width, ui.size.height);\n",
       "        },\n",
       "    });\n",
       "\n",
       "    function mouse_event_fn(event) {\n",
       "        if (pass_mouse_events)\n",
       "            return fig.mouse_event(event, event['data']);\n",
       "    }\n",
       "\n",
       "    rubberband.mousedown('button_press', mouse_event_fn);\n",
       "    rubberband.mouseup('button_release', mouse_event_fn);\n",
       "    // Throttle sequential mouse events to 1 every 20ms.\n",
       "    rubberband.mousemove('motion_notify', mouse_event_fn);\n",
       "\n",
       "    rubberband.mouseenter('figure_enter', mouse_event_fn);\n",
       "    rubberband.mouseleave('figure_leave', mouse_event_fn);\n",
       "\n",
       "    canvas_div.on(\"wheel\", function (event) {\n",
       "        event = event.originalEvent;\n",
       "        event['data'] = 'scroll'\n",
       "        if (event.deltaY < 0) {\n",
       "            event.step = 1;\n",
       "        } else {\n",
       "            event.step = -1;\n",
       "        }\n",
       "        mouse_event_fn(event);\n",
       "    });\n",
       "\n",
       "    canvas_div.append(canvas);\n",
       "    canvas_div.append(rubberband);\n",
       "\n",
       "    this.rubberband = rubberband;\n",
       "    this.rubberband_canvas = rubberband[0];\n",
       "    this.rubberband_context = rubberband[0].getContext(\"2d\");\n",
       "    this.rubberband_context.strokeStyle = \"#000000\";\n",
       "\n",
       "    this._resize_canvas = function(width, height) {\n",
       "        // Keep the size of the canvas, canvas container, and rubber band\n",
       "        // canvas in synch.\n",
       "        canvas_div.css('width', width)\n",
       "        canvas_div.css('height', height)\n",
       "\n",
       "        canvas.attr('width', width * mpl.ratio);\n",
       "        canvas.attr('height', height * mpl.ratio);\n",
       "        canvas.attr('style', 'width: ' + width + 'px; height: ' + height + 'px;');\n",
       "\n",
       "        rubberband.attr('width', width);\n",
       "        rubberband.attr('height', height);\n",
       "    }\n",
       "\n",
       "    // Set the figure to an initial 600x600px, this will subsequently be updated\n",
       "    // upon first draw.\n",
       "    this._resize_canvas(600, 600);\n",
       "\n",
       "    // Disable right mouse context menu.\n",
       "    $(this.rubberband_canvas).bind(\"contextmenu\",function(e){\n",
       "        return false;\n",
       "    });\n",
       "\n",
       "    function set_focus () {\n",
       "        canvas.focus();\n",
       "        canvas_div.focus();\n",
       "    }\n",
       "\n",
       "    window.setTimeout(set_focus, 100);\n",
       "}\n",
       "\n",
       "mpl.figure.prototype._init_toolbar = function() {\n",
       "    var fig = this;\n",
       "\n",
       "    var nav_element = $('<div/>');\n",
       "    nav_element.attr('style', 'width: 100%');\n",
       "    this.root.append(nav_element);\n",
       "\n",
       "    // Define a callback function for later on.\n",
       "    function toolbar_event(event) {\n",
       "        return fig.toolbar_button_onclick(event['data']);\n",
       "    }\n",
       "    function toolbar_mouse_event(event) {\n",
       "        return fig.toolbar_button_onmouseover(event['data']);\n",
       "    }\n",
       "\n",
       "    for(var toolbar_ind in mpl.toolbar_items) {\n",
       "        var name = mpl.toolbar_items[toolbar_ind][0];\n",
       "        var tooltip = mpl.toolbar_items[toolbar_ind][1];\n",
       "        var image = mpl.toolbar_items[toolbar_ind][2];\n",
       "        var method_name = mpl.toolbar_items[toolbar_ind][3];\n",
       "\n",
       "        if (!name) {\n",
       "            // put a spacer in here.\n",
       "            continue;\n",
       "        }\n",
       "        var button = $('<button/>');\n",
       "        button.addClass('ui-button ui-widget ui-state-default ui-corner-all ' +\n",
       "                        'ui-button-icon-only');\n",
       "        button.attr('role', 'button');\n",
       "        button.attr('aria-disabled', 'false');\n",
       "        button.click(method_name, toolbar_event);\n",
       "        button.mouseover(tooltip, toolbar_mouse_event);\n",
       "\n",
       "        var icon_img = $('<span/>');\n",
       "        icon_img.addClass('ui-button-icon-primary ui-icon');\n",
       "        icon_img.addClass(image);\n",
       "        icon_img.addClass('ui-corner-all');\n",
       "\n",
       "        var tooltip_span = $('<span/>');\n",
       "        tooltip_span.addClass('ui-button-text');\n",
       "        tooltip_span.html(tooltip);\n",
       "\n",
       "        button.append(icon_img);\n",
       "        button.append(tooltip_span);\n",
       "\n",
       "        nav_element.append(button);\n",
       "    }\n",
       "\n",
       "    var fmt_picker_span = $('<span/>');\n",
       "\n",
       "    var fmt_picker = $('<select/>');\n",
       "    fmt_picker.addClass('mpl-toolbar-option ui-widget ui-widget-content');\n",
       "    fmt_picker_span.append(fmt_picker);\n",
       "    nav_element.append(fmt_picker_span);\n",
       "    this.format_dropdown = fmt_picker[0];\n",
       "\n",
       "    for (var ind in mpl.extensions) {\n",
       "        var fmt = mpl.extensions[ind];\n",
       "        var option = $(\n",
       "            '<option/>', {selected: fmt === mpl.default_extension}).html(fmt);\n",
       "        fmt_picker.append(option);\n",
       "    }\n",
       "\n",
       "    // Add hover states to the ui-buttons\n",
       "    $( \".ui-button\" ).hover(\n",
       "        function() { $(this).addClass(\"ui-state-hover\");},\n",
       "        function() { $(this).removeClass(\"ui-state-hover\");}\n",
       "    );\n",
       "\n",
       "    var status_bar = $('<span class=\"mpl-message\"/>');\n",
       "    nav_element.append(status_bar);\n",
       "    this.message = status_bar[0];\n",
       "}\n",
       "\n",
       "mpl.figure.prototype.request_resize = function(x_pixels, y_pixels) {\n",
       "    // Request matplotlib to resize the figure. Matplotlib will then trigger a resize in the client,\n",
       "    // which will in turn request a refresh of the image.\n",
       "    this.send_message('resize', {'width': x_pixels, 'height': y_pixels});\n",
       "}\n",
       "\n",
       "mpl.figure.prototype.send_message = function(type, properties) {\n",
       "    properties['type'] = type;\n",
       "    properties['figure_id'] = this.id;\n",
       "    this.ws.send(JSON.stringify(properties));\n",
       "}\n",
       "\n",
       "mpl.figure.prototype.send_draw_message = function() {\n",
       "    if (!this.waiting) {\n",
       "        this.waiting = true;\n",
       "        this.ws.send(JSON.stringify({type: \"draw\", figure_id: this.id}));\n",
       "    }\n",
       "}\n",
       "\n",
       "\n",
       "mpl.figure.prototype.handle_save = function(fig, msg) {\n",
       "    var format_dropdown = fig.format_dropdown;\n",
       "    var format = format_dropdown.options[format_dropdown.selectedIndex].value;\n",
       "    fig.ondownload(fig, format);\n",
       "}\n",
       "\n",
       "\n",
       "mpl.figure.prototype.handle_resize = function(fig, msg) {\n",
       "    var size = msg['size'];\n",
       "    if (size[0] != fig.canvas.width || size[1] != fig.canvas.height) {\n",
       "        fig._resize_canvas(size[0], size[1]);\n",
       "        fig.send_message(\"refresh\", {});\n",
       "    };\n",
       "}\n",
       "\n",
       "mpl.figure.prototype.handle_rubberband = function(fig, msg) {\n",
       "    var x0 = msg['x0'] / mpl.ratio;\n",
       "    var y0 = (fig.canvas.height - msg['y0']) / mpl.ratio;\n",
       "    var x1 = msg['x1'] / mpl.ratio;\n",
       "    var y1 = (fig.canvas.height - msg['y1']) / mpl.ratio;\n",
       "    x0 = Math.floor(x0) + 0.5;\n",
       "    y0 = Math.floor(y0) + 0.5;\n",
       "    x1 = Math.floor(x1) + 0.5;\n",
       "    y1 = Math.floor(y1) + 0.5;\n",
       "    var min_x = Math.min(x0, x1);\n",
       "    var min_y = Math.min(y0, y1);\n",
       "    var width = Math.abs(x1 - x0);\n",
       "    var height = Math.abs(y1 - y0);\n",
       "\n",
       "    fig.rubberband_context.clearRect(\n",
       "        0, 0, fig.canvas.width, fig.canvas.height);\n",
       "\n",
       "    fig.rubberband_context.strokeRect(min_x, min_y, width, height);\n",
       "}\n",
       "\n",
       "mpl.figure.prototype.handle_figure_label = function(fig, msg) {\n",
       "    // Updates the figure title.\n",
       "    fig.header.textContent = msg['label'];\n",
       "}\n",
       "\n",
       "mpl.figure.prototype.handle_cursor = function(fig, msg) {\n",
       "    var cursor = msg['cursor'];\n",
       "    switch(cursor)\n",
       "    {\n",
       "    case 0:\n",
       "        cursor = 'pointer';\n",
       "        break;\n",
       "    case 1:\n",
       "        cursor = 'default';\n",
       "        break;\n",
       "    case 2:\n",
       "        cursor = 'crosshair';\n",
       "        break;\n",
       "    case 3:\n",
       "        cursor = 'move';\n",
       "        break;\n",
       "    }\n",
       "    fig.rubberband_canvas.style.cursor = cursor;\n",
       "}\n",
       "\n",
       "mpl.figure.prototype.handle_message = function(fig, msg) {\n",
       "    fig.message.textContent = msg['message'];\n",
       "}\n",
       "\n",
       "mpl.figure.prototype.handle_draw = function(fig, msg) {\n",
       "    // Request the server to send over a new figure.\n",
       "    fig.send_draw_message();\n",
       "}\n",
       "\n",
       "mpl.figure.prototype.handle_image_mode = function(fig, msg) {\n",
       "    fig.image_mode = msg['mode'];\n",
       "}\n",
       "\n",
       "mpl.figure.prototype.updated_canvas_event = function() {\n",
       "    // Called whenever the canvas gets updated.\n",
       "    this.send_message(\"ack\", {});\n",
       "}\n",
       "\n",
       "// A function to construct a web socket function for onmessage handling.\n",
       "// Called in the figure constructor.\n",
       "mpl.figure.prototype._make_on_message_function = function(fig) {\n",
       "    return function socket_on_message(evt) {\n",
       "        if (evt.data instanceof Blob) {\n",
       "            /* FIXME: We get \"Resource interpreted as Image but\n",
       "             * transferred with MIME type text/plain:\" errors on\n",
       "             * Chrome.  But how to set the MIME type?  It doesn't seem\n",
       "             * to be part of the websocket stream */\n",
       "            evt.data.type = \"image/png\";\n",
       "\n",
       "            /* Free the memory for the previous frames */\n",
       "            if (fig.imageObj.src) {\n",
       "                (window.URL || window.webkitURL).revokeObjectURL(\n",
       "                    fig.imageObj.src);\n",
       "            }\n",
       "\n",
       "            fig.imageObj.src = (window.URL || window.webkitURL).createObjectURL(\n",
       "                evt.data);\n",
       "            fig.updated_canvas_event();\n",
       "            fig.waiting = false;\n",
       "            return;\n",
       "        }\n",
       "        else if (typeof evt.data === 'string' && evt.data.slice(0, 21) == \"data:image/png;base64\") {\n",
       "            fig.imageObj.src = evt.data;\n",
       "            fig.updated_canvas_event();\n",
       "            fig.waiting = false;\n",
       "            return;\n",
       "        }\n",
       "\n",
       "        var msg = JSON.parse(evt.data);\n",
       "        var msg_type = msg['type'];\n",
       "\n",
       "        // Call the  \"handle_{type}\" callback, which takes\n",
       "        // the figure and JSON message as its only arguments.\n",
       "        try {\n",
       "            var callback = fig[\"handle_\" + msg_type];\n",
       "        } catch (e) {\n",
       "            console.log(\"No handler for the '\" + msg_type + \"' message type: \", msg);\n",
       "            return;\n",
       "        }\n",
       "\n",
       "        if (callback) {\n",
       "            try {\n",
       "                // console.log(\"Handling '\" + msg_type + \"' message: \", msg);\n",
       "                callback(fig, msg);\n",
       "            } catch (e) {\n",
       "                console.log(\"Exception inside the 'handler_\" + msg_type + \"' callback:\", e, e.stack, msg);\n",
       "            }\n",
       "        }\n",
       "    };\n",
       "}\n",
       "\n",
       "// from http://stackoverflow.com/questions/1114465/getting-mouse-location-in-canvas\n",
       "mpl.findpos = function(e) {\n",
       "    //this section is from http://www.quirksmode.org/js/events_properties.html\n",
       "    var targ;\n",
       "    if (!e)\n",
       "        e = window.event;\n",
       "    if (e.target)\n",
       "        targ = e.target;\n",
       "    else if (e.srcElement)\n",
       "        targ = e.srcElement;\n",
       "    if (targ.nodeType == 3) // defeat Safari bug\n",
       "        targ = targ.parentNode;\n",
       "\n",
       "    // jQuery normalizes the pageX and pageY\n",
       "    // pageX,Y are the mouse positions relative to the document\n",
       "    // offset() returns the position of the element relative to the document\n",
       "    var x = e.pageX - $(targ).offset().left;\n",
       "    var y = e.pageY - $(targ).offset().top;\n",
       "\n",
       "    return {\"x\": x, \"y\": y};\n",
       "};\n",
       "\n",
       "/*\n",
       " * return a copy of an object with only non-object keys\n",
       " * we need this to avoid circular references\n",
       " * http://stackoverflow.com/a/24161582/3208463\n",
       " */\n",
       "function simpleKeys (original) {\n",
       "  return Object.keys(original).reduce(function (obj, key) {\n",
       "    if (typeof original[key] !== 'object')\n",
       "        obj[key] = original[key]\n",
       "    return obj;\n",
       "  }, {});\n",
       "}\n",
       "\n",
       "mpl.figure.prototype.mouse_event = function(event, name) {\n",
       "    var canvas_pos = mpl.findpos(event)\n",
       "\n",
       "    if (name === 'button_press')\n",
       "    {\n",
       "        this.canvas.focus();\n",
       "        this.canvas_div.focus();\n",
       "    }\n",
       "\n",
       "    var x = canvas_pos.x * mpl.ratio;\n",
       "    var y = canvas_pos.y * mpl.ratio;\n",
       "\n",
       "    this.send_message(name, {x: x, y: y, button: event.button,\n",
       "                             step: event.step,\n",
       "                             guiEvent: simpleKeys(event)});\n",
       "\n",
       "    /* This prevents the web browser from automatically changing to\n",
       "     * the text insertion cursor when the button is pressed.  We want\n",
       "     * to control all of the cursor setting manually through the\n",
       "     * 'cursor' event from matplotlib */\n",
       "    event.preventDefault();\n",
       "    return false;\n",
       "}\n",
       "\n",
       "mpl.figure.prototype._key_event_extra = function(event, name) {\n",
       "    // Handle any extra behaviour associated with a key event\n",
       "}\n",
       "\n",
       "mpl.figure.prototype.key_event = function(event, name) {\n",
       "\n",
       "    // Prevent repeat events\n",
       "    if (name == 'key_press')\n",
       "    {\n",
       "        if (event.which === this._key)\n",
       "            return;\n",
       "        else\n",
       "            this._key = event.which;\n",
       "    }\n",
       "    if (name == 'key_release')\n",
       "        this._key = null;\n",
       "\n",
       "    var value = '';\n",
       "    if (event.ctrlKey && event.which != 17)\n",
       "        value += \"ctrl+\";\n",
       "    if (event.altKey && event.which != 18)\n",
       "        value += \"alt+\";\n",
       "    if (event.shiftKey && event.which != 16)\n",
       "        value += \"shift+\";\n",
       "\n",
       "    value += 'k';\n",
       "    value += event.which.toString();\n",
       "\n",
       "    this._key_event_extra(event, name);\n",
       "\n",
       "    this.send_message(name, {key: value,\n",
       "                             guiEvent: simpleKeys(event)});\n",
       "    return false;\n",
       "}\n",
       "\n",
       "mpl.figure.prototype.toolbar_button_onclick = function(name) {\n",
       "    if (name == 'download') {\n",
       "        this.handle_save(this, null);\n",
       "    } else {\n",
       "        this.send_message(\"toolbar_button\", {name: name});\n",
       "    }\n",
       "};\n",
       "\n",
       "mpl.figure.prototype.toolbar_button_onmouseover = function(tooltip) {\n",
       "    this.message.textContent = tooltip;\n",
       "};\n",
       "mpl.toolbar_items = [[\"Home\", \"Reset original view\", \"fa fa-home icon-home\", \"home\"], [\"Back\", \"Back to previous view\", \"fa fa-arrow-left icon-arrow-left\", \"back\"], [\"Forward\", \"Forward to next view\", \"fa fa-arrow-right icon-arrow-right\", \"forward\"], [\"\", \"\", \"\", \"\"], [\"Pan\", \"Pan axes with left mouse, zoom with right\", \"fa fa-arrows icon-move\", \"pan\"], [\"Zoom\", \"Zoom to rectangle\", \"fa fa-square-o icon-check-empty\", \"zoom\"], [\"\", \"\", \"\", \"\"], [\"Download\", \"Download plot\", \"fa fa-floppy-o icon-save\", \"download\"]];\n",
       "\n",
       "mpl.extensions = [\"eps\", \"jpeg\", \"pdf\", \"png\", \"ps\", \"raw\", \"svg\", \"tif\"];\n",
       "\n",
       "mpl.default_extension = \"png\";var comm_websocket_adapter = function(comm) {\n",
       "    // Create a \"websocket\"-like object which calls the given IPython comm\n",
       "    // object with the appropriate methods. Currently this is a non binary\n",
       "    // socket, so there is still some room for performance tuning.\n",
       "    var ws = {};\n",
       "\n",
       "    ws.close = function() {\n",
       "        comm.close()\n",
       "    };\n",
       "    ws.send = function(m) {\n",
       "        //console.log('sending', m);\n",
       "        comm.send(m);\n",
       "    };\n",
       "    // Register the callback with on_msg.\n",
       "    comm.on_msg(function(msg) {\n",
       "        //console.log('receiving', msg['content']['data'], msg);\n",
       "        // Pass the mpl event to the overridden (by mpl) onmessage function.\n",
       "        ws.onmessage(msg['content']['data'])\n",
       "    });\n",
       "    return ws;\n",
       "}\n",
       "\n",
       "mpl.mpl_figure_comm = function(comm, msg) {\n",
       "    // This is the function which gets called when the mpl process\n",
       "    // starts-up an IPython Comm through the \"matplotlib\" channel.\n",
       "\n",
       "    var id = msg.content.data.id;\n",
       "    // Get hold of the div created by the display call when the Comm\n",
       "    // socket was opened in Python.\n",
       "    var element = $(\"#\" + id);\n",
       "    var ws_proxy = comm_websocket_adapter(comm)\n",
       "\n",
       "    function ondownload(figure, format) {\n",
       "        window.open(figure.imageObj.src);\n",
       "    }\n",
       "\n",
       "    var fig = new mpl.figure(id, ws_proxy,\n",
       "                           ondownload,\n",
       "                           element.get(0));\n",
       "\n",
       "    // Call onopen now - mpl needs it, as it is assuming we've passed it a real\n",
       "    // web socket which is closed, not our websocket->open comm proxy.\n",
       "    ws_proxy.onopen();\n",
       "\n",
       "    fig.parent_element = element.get(0);\n",
       "    fig.cell_info = mpl.find_output_cell(\"<div id='\" + id + \"'></div>\");\n",
       "    if (!fig.cell_info) {\n",
       "        console.error(\"Failed to find cell for figure\", id, fig);\n",
       "        return;\n",
       "    }\n",
       "\n",
       "    var output_index = fig.cell_info[2]\n",
       "    var cell = fig.cell_info[0];\n",
       "\n",
       "};\n",
       "\n",
       "mpl.figure.prototype.handle_close = function(fig, msg) {\n",
       "    var width = fig.canvas.width/mpl.ratio\n",
       "    fig.root.unbind('remove')\n",
       "\n",
       "    // Update the output cell to use the data from the current canvas.\n",
       "    fig.push_to_output();\n",
       "    var dataURL = fig.canvas.toDataURL();\n",
       "    // Re-enable the keyboard manager in IPython - without this line, in FF,\n",
       "    // the notebook keyboard shortcuts fail.\n",
       "    IPython.keyboard_manager.enable()\n",
       "    $(fig.parent_element).html('<img src=\"' + dataURL + '\" width=\"' + width + '\">');\n",
       "    fig.close_ws(fig, msg);\n",
       "}\n",
       "\n",
       "mpl.figure.prototype.close_ws = function(fig, msg){\n",
       "    fig.send_message('closing', msg);\n",
       "    // fig.ws.close()\n",
       "}\n",
       "\n",
       "mpl.figure.prototype.push_to_output = function(remove_interactive) {\n",
       "    // Turn the data on the canvas into data in the output cell.\n",
       "    var width = this.canvas.width/mpl.ratio\n",
       "    var dataURL = this.canvas.toDataURL();\n",
       "    this.cell_info[1]['text/html'] = '<img src=\"' + dataURL + '\" width=\"' + width + '\">';\n",
       "}\n",
       "\n",
       "mpl.figure.prototype.updated_canvas_event = function() {\n",
       "    // Tell IPython that the notebook contents must change.\n",
       "    IPython.notebook.set_dirty(true);\n",
       "    this.send_message(\"ack\", {});\n",
       "    var fig = this;\n",
       "    // Wait a second, then push the new image to the DOM so\n",
       "    // that it is saved nicely (might be nice to debounce this).\n",
       "    setTimeout(function () { fig.push_to_output() }, 1000);\n",
       "}\n",
       "\n",
       "mpl.figure.prototype._init_toolbar = function() {\n",
       "    var fig = this;\n",
       "\n",
       "    var nav_element = $('<div/>');\n",
       "    nav_element.attr('style', 'width: 100%');\n",
       "    this.root.append(nav_element);\n",
       "\n",
       "    // Define a callback function for later on.\n",
       "    function toolbar_event(event) {\n",
       "        return fig.toolbar_button_onclick(event['data']);\n",
       "    }\n",
       "    function toolbar_mouse_event(event) {\n",
       "        return fig.toolbar_button_onmouseover(event['data']);\n",
       "    }\n",
       "\n",
       "    for(var toolbar_ind in mpl.toolbar_items){\n",
       "        var name = mpl.toolbar_items[toolbar_ind][0];\n",
       "        var tooltip = mpl.toolbar_items[toolbar_ind][1];\n",
       "        var image = mpl.toolbar_items[toolbar_ind][2];\n",
       "        var method_name = mpl.toolbar_items[toolbar_ind][3];\n",
       "\n",
       "        if (!name) { continue; };\n",
       "\n",
       "        var button = $('<button class=\"btn btn-default\" href=\"#\" title=\"' + name + '\"><i class=\"fa ' + image + ' fa-lg\"></i></button>');\n",
       "        button.click(method_name, toolbar_event);\n",
       "        button.mouseover(tooltip, toolbar_mouse_event);\n",
       "        nav_element.append(button);\n",
       "    }\n",
       "\n",
       "    // Add the status bar.\n",
       "    var status_bar = $('<span class=\"mpl-message\" style=\"text-align:right; float: right;\"/>');\n",
       "    nav_element.append(status_bar);\n",
       "    this.message = status_bar[0];\n",
       "\n",
       "    // Add the close button to the window.\n",
       "    var buttongrp = $('<div class=\"btn-group inline pull-right\"></div>');\n",
       "    var button = $('<button class=\"btn btn-mini btn-primary\" href=\"#\" title=\"Stop Interaction\"><i class=\"fa fa-power-off icon-remove icon-large\"></i></button>');\n",
       "    button.click(function (evt) { fig.handle_close(fig, {}); } );\n",
       "    button.mouseover('Stop Interaction', toolbar_mouse_event);\n",
       "    buttongrp.append(button);\n",
       "    var titlebar = this.root.find($('.ui-dialog-titlebar'));\n",
       "    titlebar.prepend(buttongrp);\n",
       "}\n",
       "\n",
       "mpl.figure.prototype._root_extra_style = function(el){\n",
       "    var fig = this\n",
       "    el.on(\"remove\", function(){\n",
       "\tfig.close_ws(fig, {});\n",
       "    });\n",
       "}\n",
       "\n",
       "mpl.figure.prototype._canvas_extra_style = function(el){\n",
       "    // this is important to make the div 'focusable\n",
       "    el.attr('tabindex', 0)\n",
       "    // reach out to IPython and tell the keyboard manager to turn it's self\n",
       "    // off when our div gets focus\n",
       "\n",
       "    // location in version 3\n",
       "    if (IPython.notebook.keyboard_manager) {\n",
       "        IPython.notebook.keyboard_manager.register_events(el);\n",
       "    }\n",
       "    else {\n",
       "        // location in version 2\n",
       "        IPython.keyboard_manager.register_events(el);\n",
       "    }\n",
       "\n",
       "}\n",
       "\n",
       "mpl.figure.prototype._key_event_extra = function(event, name) {\n",
       "    var manager = IPython.notebook.keyboard_manager;\n",
       "    if (!manager)\n",
       "        manager = IPython.keyboard_manager;\n",
       "\n",
       "    // Check for shift+enter\n",
       "    if (event.shiftKey && event.which == 13) {\n",
       "        this.canvas_div.blur();\n",
       "        event.shiftKey = false;\n",
       "        // Send a \"J\" for go to next cell\n",
       "        event.which = 74;\n",
       "        event.keyCode = 74;\n",
       "        manager.command_mode();\n",
       "        manager.handle_keydown(event);\n",
       "    }\n",
       "}\n",
       "\n",
       "mpl.figure.prototype.handle_save = function(fig, msg) {\n",
       "    fig.ondownload(fig, null);\n",
       "}\n",
       "\n",
       "\n",
       "mpl.find_output_cell = function(html_output) {\n",
       "    // Return the cell and output element which can be found *uniquely* in the notebook.\n",
       "    // Note - this is a bit hacky, but it is done because the \"notebook_saving.Notebook\"\n",
       "    // IPython event is triggered only after the cells have been serialised, which for\n",
       "    // our purposes (turning an active figure into a static one), is too late.\n",
       "    var cells = IPython.notebook.get_cells();\n",
       "    var ncells = cells.length;\n",
       "    for (var i=0; i<ncells; i++) {\n",
       "        var cell = cells[i];\n",
       "        if (cell.cell_type === 'code'){\n",
       "            for (var j=0; j<cell.output_area.outputs.length; j++) {\n",
       "                var data = cell.output_area.outputs[j];\n",
       "                if (data.data) {\n",
       "                    // IPython >= 3 moved mimebundle to data attribute of output\n",
       "                    data = data.data;\n",
       "                }\n",
       "                if (data['text/html'] == html_output) {\n",
       "                    return [cell, data, j];\n",
       "                }\n",
       "            }\n",
       "        }\n",
       "    }\n",
       "}\n",
       "\n",
       "// Register the function which deals with the matplotlib target/channel.\n",
       "// The kernel may be null if the page has been refreshed.\n",
       "if (IPython.notebook.kernel != null) {\n",
       "    IPython.notebook.kernel.comm_manager.register_target('matplotlib', mpl.mpl_figure_comm);\n",
       "}\n"
      ],
      "text/plain": [
       "<IPython.core.display.Javascript object>"
      ]
     },
     "metadata": {},
     "output_type": "display_data"
    },
    {
     "data": {
      "text/html": [
       "<img src=\"data:image/png;base64,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\" width=\"600\">"
      ],
      "text/plain": [
       "<IPython.core.display.HTML object>"
      ]
     },
     "metadata": {},
     "output_type": "display_data"
    },
    {
     "data": {
      "application/vnd.jupyter.widget-view+json": {
       "model_id": "ed278db767974a8f8d1d19bface47dcf",
       "version_major": 2,
       "version_minor": 0
      },
      "text/plain": [
       "interactive(children=(FloatSlider(value=0.5, description='profScl', max=1.5, min=0.5, step=0.05), FloatSlider(…"
      ]
     },
     "metadata": {},
     "output_type": "display_data"
    }
   ],
   "source": [
    "# Run this to see widget, it isn't important to understand the code\n",
    "\n",
    "%matplotlib notebook\n",
    "from ipywidgets import *\n",
    "from matplotlib import pyplot as plt\n",
    "from matplotlib.path import Path\n",
    "from matplotlib.patches import PathPatch\n",
    "import numpy as np\n",
    "from pyomo.environ import *\n",
    "\n",
    "def GiapettoInteractiveGraph( coefSlider = False, constraintSlider = False):\n",
    "\n",
    "    # create model instance\n",
    "    model = ConcreteModel( name = \"Giapetto\" )\n",
    "\n",
    "    # decision variables\n",
    "    model.soldiers = Var( domain = NonNegativeReals )\n",
    "    model.trains = Var( domain = NonNegativeReals )\n",
    "\n",
    "    # objective function\n",
    "    model.c1 = Param(default=3,mutable=True)\n",
    "    model.c2 = Param(default=2,mutable=True)\n",
    "    model.profit = Objective( expr = model.c1 * model.soldiers + model.c2 * model.trains, sense = maximize )\n",
    "\n",
    "    # constraints\n",
    "    model.b1 = Param(default=80,mutable=True)\n",
    "    model.b2 = Param(default=100,mutable=True)\n",
    "    model.b3 = Param(default=40,mutable=True)\n",
    "    model.labor_hours = Constraint( expr = model.soldiers + model.trains <= model.b1 )\n",
    "    model.finishing_hours = Constraint( expr = 2 * model.soldiers + model.trains <= model.b2 )\n",
    "    model.soldier_demand = Constraint( expr = model.soldiers <= model.b3 )\n",
    "\n",
    "    # solver\n",
    "    solver = SolverFactory('glpk')\n",
    "\n",
    "\n",
    "    # use seaborn to change the default graphics to something nicer\n",
    "    # and set a nice color palette\n",
    "    import seaborn as sns\n",
    "    sns.set_palette('Set1')\n",
    "\n",
    "    # create the plot object\n",
    "    fig, ax = plt.subplots(figsize=(6,6))\n",
    "    s = np.linspace(0, 100)\n",
    "\n",
    "    # add carpentry constraint: trains <= 80 - soldiers\n",
    "    carpentry_line, = plt.plot(s, 80 - s, lw=3, label='carpentry',color='r')\n",
    "    carpentry_fill = plt.fill_between(s, 0, 80 - s, alpha=0.1,color='r')\n",
    "\n",
    "    # add finishing constraint: trains <= 100 - 2*soldiers\n",
    "    finishing_line, = plt.plot(s, 100 - 2 * s, lw=3, label='finishing',color='g')\n",
    "    finishing_fill = plt.fill_between(s, 0, 100 - 2 * s, alpha=0.1,color='g')\n",
    "\n",
    "    # add demains constraint: soldiers <= 40\n",
    "    demand_line, = plt.plot(40 * np.ones_like(s), s, lw=3, label='demand',color='b')\n",
    "    demand_fill = plt.fill_betweenx(s, 0, 40, alpha=0.1,color='b')\n",
    "\n",
    "    # add non-negativity constraints\n",
    "    plt.plot(np.zeros_like(s), s, lw=3, label='t non-negative',color='c')\n",
    "    plt.plot(s, np.zeros_like(s), lw=3, label='s non-negative',color='m')\n",
    "\n",
    "    # level curve for profit P\n",
    "    profit_line, = plt.plot(s, .5*180 - 1.5*s, 'k--', lw = 3, label = 'profit')\n",
    "\n",
    "    # labels and stuff\n",
    "    plt.xlabel('soldiers', fontsize=16)\n",
    "    plt.ylabel('trains', fontsize=16)\n",
    "    plt.xlim(-0.5, 100)\n",
    "    plt.ylim(-0.5, 100)\n",
    "    plt.legend(loc = 'upper right',fontsize=12)\n",
    "\n",
    "    # additional elements\n",
    "    # pt, = plt.plot(20, 60, 'k.', markersize = 20 )\n",
    "    txt = plt.text( 81, 67.5, '= 180', fontsize = 14, zorder=10)\n",
    "    txt2 = plt.text( 60, 60, 'Max Profit = 180', fontsize = 14)\n",
    "\n",
    "    plt.show()\n",
    "\n",
    "    def update( profScl = .5, c1 = 3, c2 = 2, b1 = 80, b2 = 100, b3 = 40):\n",
    "        model.c1 = c1\n",
    "        model.c2 = c2\n",
    "        model.b1 = b1\n",
    "        model.b2 = b2\n",
    "        model.b3 = b3\n",
    "        solver.solve(model)\n",
    "        mxprofit = model.profit()\n",
    "        profit = mxprofit*profScl\n",
    " \n",
    "        profit_line.set_ydata((profit-c1*s)/(c2+.0001)) # hack to avoid div by 0\n",
    "        ax.collections.clear()\n",
    "        carpentry_line.set_ydata(b1-s)\n",
    "        plt.fill_between(s, 0, b1 - s, alpha=0.1,color='r')\n",
    "        finishing_line.set_ydata(b2-2*s)\n",
    "        plt.fill_between(s, 0, b2 - 2 * s, alpha=0.1,color='g')\n",
    "        demand_line.set_xdata(b3*np.ones_like(s))\n",
    "        plt.fill_betweenx(s, 0, b3, alpha=0.1,color='b')    \n",
    "        txt.set_text('= {:3.1f}'.format(profit) )\n",
    "        txt2.set_text('Max Profit = {:3.1f}'.format(mxprofit) )\n",
    "#        pt.set_xdata(model.soldiers())\n",
    "#        pt.set_ydata(model.trains())\n",
    "        fig.canvas.draw()\n",
    "\n",
    "    if (coefSlider and constraintSlider):\n",
    "        interact(update,profScl=(.5,1.5,.05),c1=(0,5,.5),c2=(0,5,.5),b1=(75,85),b2=(95,105),b3=(35,45));\n",
    "    elif (coefSlider and not constraintSlider):\n",
    "        interact(update,profScl=(.5,1.5,.05),c1=(0,5,.5),c2=(0,5,.5),b1=fixed(80),b2=fixed(100),b3=fixed(40));\n",
    "    elif (not coefSlider and constraintSlider):\n",
    "        interact(update,profScl=(.5,1.5,.05),c1=fixed(3),c2=fixed(2),b1=(75,85),b2=(95,105),b3=(35,45));\n",
    "    else:\n",
    "        interact(update,profScl=(.5,1.5,.05),c1=fixed(3),c2=fixed(2),b1=fixed(80),b2=fixed(100),b3=fixed(40));\n",
    "\n",
    "GiapettoInteractiveGraph(True,True);"
   ]
  },
  {
   "cell_type": "markdown",
   "metadata": {},
   "source": [
    "(a) Find and interpret the shadow price for the weekly carpentry hours."
   ]
  },
  {
   "cell_type": "markdown",
   "metadata": {},
   "source": [
    "<font color = \"blue\"> *** 2 points -  answer in cell below *** (don't delete this cell) </font>"
   ]
  },
  {
   "cell_type": "markdown",
   "metadata": {},
   "source": [
    "The shadow price for $b_1$ (carpentry) is \\\\$1. That is, for a unit increase in $b_1$, profit increases by one \\\\$1."
   ]
  },
  {
   "cell_type": "markdown",
   "metadata": {},
   "source": [
    "(b) Find and interpret the allowable range for the weekly finishing hours."
   ]
  },
  {
   "cell_type": "markdown",
   "metadata": {},
   "source": [
    "<font color = \"blue\"> *** 1 points -  answer in cell below *** (don't delete this cell) </font>"
   ]
  },
  {
   "cell_type": "markdown",
   "metadata": {},
   "source": [
    "The allowable range for $b_2$ is 80 to 120 finishing hours (and still satisfy the other constraints)."
   ]
  },
  {
   "cell_type": "markdown",
   "metadata": {},
   "source": [
    "(c) If everything else stays the same as in the initial problem, how far could the demand for toy soldiers drop before the demand becomes a sensitive parameter?"
   ]
  },
  {
   "cell_type": "markdown",
   "metadata": {},
   "source": [
    "<font color = \"blue\"> *** 1 points -  answer in cell below *** (don't delete this cell) </font>"
   ]
  },
  {
   "cell_type": "markdown",
   "metadata": {},
   "source": [
    "It could drop to 20 soldiers per week"
   ]
  },
  {
   "cell_type": "markdown",
   "metadata": {},
   "source": [
    "(d) If everything else stayed the same, but the price of selling the soldier increased to \\\\$28.50, "
   ]
  },
  {
   "cell_type": "markdown",
   "metadata": {},
   "source": [
    "Maximum profit would be **$210**"
   ]
  },
  {
   "cell_type": "markdown",
   "metadata": {},
   "source": [
    "<font color = \"blue\"> *** 1 points -  answer in cell below *** (don't delete this cell) </font>"
   ]
  },
  {
   "cell_type": "markdown",
   "metadata": {},
   "source": [
    "\n",
    "\n",
    "    (ii) how many of each toy should be produced to achieve it,"
   ]
  },
  {
   "cell_type": "markdown",
   "metadata": {},
   "source": [
    "<font color = \"blue\"> *** 1 points -  answer in cell below *** (don't delete this cell) </font>"
   ]
  },
  {
   "cell_type": "markdown",
   "metadata": {},
   "source": [
    "20 soldiers, 60 trains"
   ]
  },
  {
   "cell_type": "markdown",
   "metadata": {},
   "source": [
    "    (iii) and what is the new shadow price for weekly carpentry hours?  Why is this the new shadow price?"
   ]
  },
  {
   "cell_type": "markdown",
   "metadata": {},
   "source": [
    "<font color = \"blue\"> *** 2 points -  answer in cell below *** (don't delete this cell) </font>"
   ]
  },
  {
   "cell_type": "markdown",
   "metadata": {},
   "source": [
    "The shadow price for weekly carpentry hours (at the soldier sales price of $28.50) is -$0.50. That is, the optimal solution decreases by 50 cents for every hour increase in carpentry."
   ]
  },
  {
   "cell_type": "markdown",
   "metadata": {
    "heading_collapsed": true
   },
   "source": [
    "# Textbook Problem 4.7-3"
   ]
  },
  {
   "cell_type": "markdown",
   "metadata": {
    "hidden": true
   },
   "source": [
    "You are given the following linear programming problem: \n",
    "\n",
    "Maximize $Z = 4x_1 + 2x_2,$ \n",
    "\n",
    "subject to \n",
    "\n",
    "$\n",
    "\\begin{array}{rcrcr}\n",
    "2x_1 & & & \\leq & 16 \\\\\n",
    "x_1 & + & 3x_2 & \\leq & 17 \\\\\n",
    "         &         & x_2 & \\leq & 5 \n",
    "\\end{array}\n",
    "$\n",
    "\n",
    "and $x_1 \\geq 0, x_2 \\geq 0.$\n",
    "\n",
    "(a) Solve this problem graphically and include a screenshot here."
   ]
  },
  {
   "cell_type": "markdown",
   "metadata": {
    "hidden": true
   },
   "source": [
    "<font color = \"blue\"> *** 2 points -  answer in cell below *** (don't delete this cell) </font>"
   ]
  },
  {
   "attachments": {
    "hw_2_4.7.3.png": {
     "image/png": "[encoded data removed]"
    }
   },
   "cell_type": "markdown",
   "metadata": {
    "hidden": true
   },
   "source": [
    "The optimal solution is Z = 18 at $x_1$ = 2 and $y_2$ = 5\n",
    "\n",
    "![hw_2_4.7.3.png](attachment:hw_2_4.7.3.png)"
   ]
  },
  {
   "cell_type": "markdown",
   "metadata": {
    "hidden": true
   },
   "source": [
    "(b) Use graphical analysis to find the shadow prices for the\n",
    "  resources.  Use PHPSimplex.com/en, DESMOS.com, or graph by hand.  Paste a screenshot or image of your work into your homework file.  Make sure to clearly identify the shadow prices"
   ]
  },
  {
   "cell_type": "markdown",
   "metadata": {
    "hidden": true
   },
   "source": [
    "<font color = \"blue\"> *** 2 points -  answer in cell below *** (don't delete this cell) </font>"
   ]
  },
  {
   "attachments": {
    "hw_2_4.7.3_b.png": {
     "image/png": "[encoded data removed]"
    }
   },
   "cell_type": "markdown",
   "metadata": {
    "hidden": true
   },
   "source": [
    "* Shadow price for first constraint is 0.\n",
    "* Shadow price for 2nd constraint is 4.\n",
    "* Shadow price of 3rd constraint would (roughly) -6.5\n",
    "\n",
    "![hw_2_4.7.3_b.png](attachment:hw_2_4.7.3_b.png)"
   ]
  },
  {
   "cell_type": "markdown",
   "metadata": {
    "hidden": true
   },
   "source": [
    "(c) Determine how many additional units of resource 1 would need to\n",
    "increase the optimal value of $Z$ by 15."
   ]
  },
  {
   "cell_type": "markdown",
   "metadata": {
    "hidden": true
   },
   "source": [
    "<font color = \"blue\"> *** 2 points -  answer in cell below *** (don't delete this cell) </font>"
   ]
  },
  {
   "attachments": {
    "hw_2_4.7.3_c.png": {
     "image/png": "[encoded data removed]"
    }
   },
   "cell_type": "markdown",
   "metadata": {
    "hidden": true
   },
   "source": [
    "* Constraint 1 would not need to increase to increase the optimal value of Z by 15\n",
    "* Constraint 2 would need to increase by 5.\n",
    "* Constraint 3 would need to increas by .1.\n",
    "\n",
    "![hw_2_4.7.3_c.png](attachment:hw_2_4.7.3_c.png)"
   ]
  },
  {
   "cell_type": "markdown",
   "metadata": {
    "heading_collapsed": true
   },
   "source": [
    "# Textbook Problem 3.5-5"
   ]
  },
  {
   "cell_type": "markdown",
   "metadata": {
    "hidden": true
   },
   "source": [
    "Fred Jonasson manages a family-owned farm. To supplement several food products grown on the farm, Fred also raises pigs for market. He now wishes to determine the quantities of the available types of feed (corn, tankage, and alfalfa) that should be given to each pig. Since pigs will eat any mix of these feed types, the objective is to determine which mix will meet certain nutritional requirements at a minimum cost. The number of units of each type of basic nutritional ingredient contained within a kilogram of each feed type is given in the following table, along with the daily nutritional requirements and feed costs:\n",
    "\n",
    "<table>\n",
    "    <tr>\n",
    "        <th style=\"border-right:thin solid;border-bottom:thin solid;\"> &nbsp; <br> Nutrional <br> Ingredient </th>\n",
    "        <th style=\"border-bottom:thin solid;\"> Kilogram <br> of<br> Corn </th>\n",
    "        <th style=\"border-bottom:thin solid;\"> Kilogram <br> of <br> Tankage </th>\n",
    "        <th style=\"border-bottom:thin solid;\"> Kilogram<br>of<br>Alfalfa</th>\n",
    "        <th style=\"border-left: thin solid;border-bottom:thin solid;\"> Minimum<br>Daily<br>Requirement </th>\n",
    "    </tr>\n",
    "    <tr>\n",
    "        <td style=\"border-right:thin solid;\"> Carbohydrates </td>\n",
    "        <td> 90 </td>\n",
    "        <td> 20 </td>\n",
    "        <td> 40 </td>\n",
    "        <td style=\"border-left:thin solid;\"> 200 </td>\n",
    "    </tr>\n",
    "    <tr>\n",
    "        <td style=\"border-right:thin solid;\"> Protein </td>\n",
    "        <td> 30 </td>\n",
    "        <td> 80 </td>\n",
    "        <td> 60 </td>\n",
    "        <td style=\"border-left:thin solid;\"> 180 </td>\n",
    "    </tr>\n",
    "    <tr>\n",
    "        <td style=\"border-right:thin solid;\"> Vitamins </td>\n",
    "        <td> 10 </td>\n",
    "        <td> 20 </td>\n",
    "        <td> 60 </td>\n",
    "        <td style=\"border-left:thin solid;\"> 150 </td>\n",
    "    </tr>        \n",
    "    <tr>\n",
    "        <td style=\"border-top:thin solid;border-right:thin solid\"> Cost </td>\n",
    "        <td style=\"border-top:thin solid;\"> \\$2.10 </td>\n",
    "        <td style=\"border-top:thin solid;\"> \\$1.80 </td>\n",
    "        <td style=\"border-top:thin solid;\"> \\$1.50 </td>\n",
    "        <td style=\"border-left:thin solid; border-top:thin solid;\"> &nbsp; </td>\n",
    "    </tr>\n",
    "</table>"
   ]
  },
  {
   "cell_type": "markdown",
   "metadata": {
    "hidden": true
   },
   "source": [
    "(a) Formulate a linear programming model for this problem.  LaTeX or handwritten with picture."
   ]
  },
  {
   "cell_type": "markdown",
   "metadata": {
    "hidden": true
   },
   "source": [
    "<font color = \"blue\"> *** 2 points -  answer in cell below *** (don't delete this cell) </font>"
   ]
  },
  {
   "cell_type": "markdown",
   "metadata": {
    "hidden": true
   },
   "source": [
    "minimize Z = 2.10*$x_1$ + 1.80$x_2$ + 1.50$x_3$\n",
    "\n",
    "##### constraints:\n",
    "\n",
    "90$x_1$ + 20$x_2$ + 40$x_3$ >= 200\n",
    "\n",
    "30$x_1$ + 80$x_2$ + 60$x_3$ >= 180\n",
    "\n",
    "10$x_1$ + 20$x_2$ + 60$x_3$ >= 150\n"
   ]
  },
  {
   "cell_type": "markdown",
   "metadata": {
    "hidden": true
   },
   "source": [
    "(b) Use Pyomo to solve this problem. Your solution should include all necessary code and inputs and it should produce formatted output."
   ]
  },
  {
   "cell_type": "markdown",
   "metadata": {
    "hidden": true
   },
   "source": [
    "<font color = \"blue\"> *** 6 points -  answer in cell below *** (don't delete this cell) </font>"
   ]
  },
  {
   "cell_type": "code",
   "execution_count": 1,
   "metadata": {
    "hidden": true
   },
   "outputs": [
    {
     "name": "stdout",
     "output_type": "stream",
     "text": [
      "Cost =  117.0\n",
      "Corn =  10.0\n",
      "Tankage =  20.0\n",
      "Alfalfa =  40.0\n"
     ]
    }
   ],
   "source": [
    "# unfold to see Pyomo solution with a vector of decision variables\n",
    "from pyomo.environ import *\n",
    "\n",
    "# Concrete Model\n",
    "model = ConcreteModel(name=\"farm\")\n",
    "\n",
    "products = ['corn', 'tankage','alfalfa']\n",
    "\n",
    "bounds_dict = {'corn': (10, 90), 'tankage': (20, 80), 'alfalfa': (40, 60)}\n",
    "\n",
    "def bounds_rule(model, product):\n",
    "    return (bounds_dict[product])\n",
    "\n",
    "\n",
    "model.x = Var(products, domain=Reals, bounds=bounds_rule)\n",
    "\n",
    "# Objective\n",
    "model.profit = Objective(expr=2.10 * model.x['corn'] + 1.80 * model.x['tankage'] + 1.50 * model.x['alfalfa'],\n",
    "                         sense=minimize)\n",
    "\n",
    "# Constraints\n",
    "model.Constraint1 = Constraint(\n",
    "    expr = 90 * model.x['corn'] + 20 * model.x['tankage'] + 40 * model.x['alfalfa'] >= 200)\n",
    "model.Constraint2 = Constraint(\n",
    "    expr = 30 * model.x['corn'] + 80 * model.x['tankage'] + 60 * model.x['alfalfa'] >= 180)\n",
    "model.Constraint3 = Constraint(\n",
    "    expr = 10 * model.x['corn'] + 20 * model.x['tankage'] + 60 * model.x['alfalfa'] >= 150)\n",
    "\n",
    "\n",
    "# Solve\n",
    "solver = SolverFactory('glpk')\n",
    "solver.solve(model)\n",
    "\n",
    "# display(model)\n",
    "\n",
    "# display solution\n",
    "import babel.numbers as numbers  # needed to display as currency\n",
    "print(\"Cost = \", model.profit())\n",
    "print(\"Corn = \", model.x['corn']())\n",
    "print(\"Tankage = \", model.x['tankage']())\n",
    "print(\"Alfalfa = \", model.x['alfalfa']())"
   ]
  },
  {
   "cell_type": "markdown",
   "metadata": {
    "heading_collapsed": true
   },
   "source": [
    "# Textbook Problem 3.4-15 Revisited"
   ]
  },
  {
   "cell_type": "markdown",
   "metadata": {
    "hidden": true
   },
   "source": [
    "Oxbridge University maintains a powerful mainframe computer\n",
    "  for research use by its faculty, Ph.D. students, and research\n",
    "  associates. During all working hours, an operator must be available\n",
    "  to operate and maintain the computer, as well as to perform some\n",
    "  programming services. Beryl Ingram, the director of the computer\n",
    "  facility, oversees the operation.  \n",
    "\n",
    "  It is now the beginning of the\n",
    "  fall semester, and Beryl is confronted with the problem of assigning\n",
    "  different working hours to her operators. Because all the operators\n",
    "  are currently enrolled in the university, they are available to work\n",
    "  only a limited number of hours\n",
    "  each day, as shown in the following table: \n",
    "  \n",
    "  <img src=\"images/screen-problem5.png\" width=\"440\" height=\"250\">\n",
    "  \n",
    "  There are six operators (four undergraduate students and two\n",
    "  graduate students). They all have different wage rates because of\n",
    "  differences in their experience with computers and in their pro-\n",
    "  gramming ability. The above table shows their wage rates, along with\n",
    "  the maximum number of hours that each can work each day.  \n",
    "\n",
    "  Each\n",
    "  operator is guaranteed a certain minimum number of hours per week\n",
    "  that will maintain an adequate knowledge of the operation. This\n",
    "  level is set arbitrarily at 8 hours per week for the undergraduate\n",
    "  students (K. C., D. H., H. B., and S. C.) and 7 hours per week for\n",
    "  the graduate students (K. S. and N. K.).\n",
    "\n",
    "  The computer facility is to be open for operation from 8 A.M. to 10\n",
    "  P.M. Monday through Friday with exactly one operator on duty during\n",
    "  these hours. On Saturdays and Sundays, the computer is to be\n",
    "  operated by other staff.  Because of a tight budget, Beryl has to\n",
    "  minimize cost. She wishes to determine the number of hours she\n",
    "  should assign to each operator on each day.\n",
    "\n",
    "  Because of a tight budget, Beryl has to minimize cost. She wishes to\n",
    "  determine the number of hours she should assign to each operator on\n",
    "  each day.\n",
    "\n",
    "(a) Formulate an abstract linear programming model for this problem that can be generalized to any number of workers and days.  This is very similar to the \"Supply and Demand\" self-assessment problem:\n",
    "- \"supply\" is the weekly hours worked by each worker, but it's possible for workers to work more than the guaranteed minimum hours each week\n",
    "- \"demand\" is the daily hours that must be staffed\n",
    "- you'll need additional constraints that reflect that each worker has limited availability on each day, on some days they have zero availability\n",
    "\n",
    "Include your mathematical model here.  You can typeset the model with LaTeX or include a clean, cropped picture of your handwritten equations."
   ]
  },
  {
   "cell_type": "markdown",
   "metadata": {
    "hidden": true
   },
   "source": [
    "<font color = \"blue\"> *** 4 points -  answer in cell below *** (don't delete this cell) </font>"
   ]
  },
  {
   "cell_type": "markdown",
   "metadata": {
    "hidden": true
   },
   "source": [
    "Let $S$ be the set of students and let $D$ be the set of days that students work.\n",
    "\n",
    "Decision Variables:  let $x_{s,d}$ be the number of hours worked by student $S$ on day $D$\n",
    "\n",
    "Constants:  \n",
    "- $w_{s,d}$ is the wage of student $s$\n",
    "- $h_{s,d}$ is the number of hours worked by student $s$ on day $d$.\n",
    "\n",
    "Objective Function:  minimize $ Cost = \\displaystyle \\sum_{s \\in S} \\sum_{d \\in d} w_{s,d} h_{s,d}$\n",
    "\n",
    "Constraints:\n",
    "- Hours worked per day: 14\n",
    "- Hours worked per week: 70\n",
    "- Min hours worked per week by undergraduate students: 8\n",
    "- Min hours worked per week by graduate students: 7"
   ]
  },
  {
   "cell_type": "markdown",
   "metadata": {
    "hidden": true
   },
   "source": [
    "(b) Solve this model using Pyomo, coding the data and model separately as done, for example, in the \"Supply and Demand\" Self Assessment problem.  Your solution should include all necessary code and inputs and it should produce formatted output."
   ]
  },
  {
   "cell_type": "markdown",
   "metadata": {
    "hidden": true
   },
   "source": [
    "<font color = \"blue\"> *** 4 points -  answer in cell below *** (don't delete this cell) </font>"
   ]
  },
  {
   "cell_type": "code",
   "execution_count": 201,
   "metadata": {
    "hidden": true
   },
   "outputs": [
    {
     "name": "stdout",
     "output_type": "stream",
     "text": [
      "1755.0\n"
     ]
    },
    {
     "data": {
      "text/html": [
       "<div>\n",
       "<style scoped>\n",
       "    .dataframe tbody tr th:only-of-type {\n",
       "        vertical-align: middle;\n",
       "    }\n",
       "\n",
       "    .dataframe tbody tr th {\n",
       "        vertical-align: top;\n",
       "    }\n",
       "\n",
       "    .dataframe thead th {\n",
       "        text-align: right;\n",
       "    }\n",
       "</style>\n",
       "<table border=\"1\" class=\"dataframe\">\n",
       "  <thead>\n",
       "    <tr style=\"text-align: right;\">\n",
       "      <th></th>\n",
       "      <th>mon</th>\n",
       "      <th>tues</th>\n",
       "      <th>weds</th>\n",
       "      <th>thurs</th>\n",
       "      <th>fri</th>\n",
       "    </tr>\n",
       "  </thead>\n",
       "  <tbody>\n",
       "    <tr>\n",
       "      <th>kc</th>\n",
       "      <td>2.0</td>\n",
       "      <td>0.0</td>\n",
       "      <td>4.0</td>\n",
       "      <td>0.0</td>\n",
       "      <td>3.0</td>\n",
       "    </tr>\n",
       "    <tr>\n",
       "      <th>dh</th>\n",
       "      <td>0.0</td>\n",
       "      <td>2.0</td>\n",
       "      <td>0.0</td>\n",
       "      <td>6.0</td>\n",
       "      <td>0.0</td>\n",
       "    </tr>\n",
       "    <tr>\n",
       "      <th>hb</th>\n",
       "      <td>4.0</td>\n",
       "      <td>7.0</td>\n",
       "      <td>4.0</td>\n",
       "      <td>0.0</td>\n",
       "      <td>4.0</td>\n",
       "    </tr>\n",
       "    <tr>\n",
       "      <th>sc</th>\n",
       "      <td>5.0</td>\n",
       "      <td>5.0</td>\n",
       "      <td>5.0</td>\n",
       "      <td>0.0</td>\n",
       "      <td>5.0</td>\n",
       "    </tr>\n",
       "    <tr>\n",
       "      <th>ks</th>\n",
       "      <td>3.0</td>\n",
       "      <td>0.0</td>\n",
       "      <td>1.0</td>\n",
       "      <td>3.0</td>\n",
       "      <td>0.0</td>\n",
       "    </tr>\n",
       "    <tr>\n",
       "      <th>nk</th>\n",
       "      <td>0.0</td>\n",
       "      <td>0.0</td>\n",
       "      <td>0.0</td>\n",
       "      <td>5.0</td>\n",
       "      <td>2.0</td>\n",
       "    </tr>\n",
       "  </tbody>\n",
       "</table>\n",
       "</div>"
      ],
      "text/plain": [
       "    mon  tues  weds  thurs  fri\n",
       "kc  2.0   0.0   4.0    0.0  3.0\n",
       "dh  0.0   2.0   0.0    6.0  0.0\n",
       "hb  4.0   7.0   4.0    0.0  4.0\n",
       "sc  5.0   5.0   5.0    0.0  5.0\n",
       "ks  3.0   0.0   1.0    3.0  0.0\n",
       "nk  0.0   0.0   0.0    5.0  2.0"
      ]
     },
     "execution_count": 201,
     "metadata": {},
     "output_type": "execute_result"
    }
   ],
   "source": [
    "# unfold to see Pyomo solution\n",
    "from pyomo.environ import *\n",
    "\n",
    "# define variables/constants\n",
    "days = [\"mon\",\"tues\",\"weds\",\"thurs\",\"fri\"]\n",
    "max_hours = dict(zip(days, [14,14,14,14,14]))\n",
    "\n",
    "students = ['kc', 'dh', 'hb', 'sc', 'ks', 'nk']\n",
    "supply = [[6,0,6,0,6], [0,6,0,6,0], [4,8,4,0,4], [5,5,5,0,5], [3,0,3,8,0], [0,0,0,6,2]]\n",
    "wages = dict(zip(students, [25, 26, 24, 23, 28, 30]))\n",
    "min_hours = dict(zip(students, [8, 8, 8, 8, 7, 7]))\n",
    "max_hours = {student: sum(supply[i]) for i, student in enumerate(students)}\n",
    "weekly_needed_hours = 70\n",
    "daily_needed_hours = 14\n",
    "\n",
    "scheduled_hours = {}\n",
    "\n",
    "for i, student in enumerate(students):\n",
    "    student_dict = {}\n",
    "    \n",
    "    for j, day in enumerate(days):\n",
    "        student_dict[day] = supply[i][j]\n",
    "        \n",
    "    scheduled_hours[student] = student_dict\n",
    "\n",
    "\n",
    "# objective function\n",
    "model = ConcreteModel(name=\"model1\")\n",
    "\n",
    "model.daily_schedule = Var(students, days, domain=NonNegativeReals)\n",
    "model.total_hours = sum(model.daily_schedule[student, day] for student in students for day in days)\n",
    "\n",
    "model.total_cost = Objective(expr = sum(wages[student] * model.daily_schedule[student, day] for student in students for day in days),\n",
    "                             sense=minimize)\n",
    "\n",
    "\n",
    "# add constraint for weekly minimum hours\n",
    "model.weekly_min_hours_c = ConstraintList()\n",
    "\n",
    "for student in students:\n",
    "    model.weekly_min_hours_c.add(\n",
    "        sum(model.daily_schedule[student, day] for day in days) >= min_hours[student])\n",
    "\n",
    "# add constraint for weekly maximum hours\n",
    "model.weekly_max_hours_c = Constraint(expr = model.total_hours == weekly_needed_hours)\n",
    "\n",
    "# add constraint for daily maximum hours for all people\n",
    "model.daily_max_hours_c = ConstraintList()\n",
    "\n",
    "for day in days:\n",
    "    model.daily_max_hours_c.add(\n",
    "        sum(model.daily_schedule[student, day] for student in students) == daily_needed_hours)\n",
    "    \n",
    "# add constraint for daily maximum hours per person\n",
    "model.daily_max_hours_per_person_c = ConstraintList()\n",
    "\n",
    "for student in students:\n",
    "    for day in days:\n",
    "        model.daily_max_hours_per_person_c.add(\n",
    "        model.daily_schedule[student, day] <= scheduled_hours[student][day])\n",
    "\n",
    "# # solve and display\n",
    "solver = SolverFactory('glpk')\n",
    "solver.solve(model)\n",
    "\n",
    "# # display solution\n",
    "import babel.numbers as numbers  # needed to display as currency\n",
    "print(model.total_cost())\n",
    "\n",
    "import pandas as pd\n",
    "dvars = pd.DataFrame([[model.daily_schedule[student, day]() for day in days] for student in students],\n",
    "                     index=students,\n",
    "                     columns=days)\n",
    "dvars"
   ]
  },
  {
   "cell_type": "markdown",
   "metadata": {
    "hidden": true
   },
   "source": [
    "(c) Produce the sensitivity report in Python.  "
   ]
  },
  {
   "cell_type": "markdown",
   "metadata": {
    "hidden": true
   },
   "source": [
    "<font color = \"blue\"> *** 1 point -  answer in cell below *** (don't delete this cell) </font>"
   ]
  },
  {
   "cell_type": "code",
   "execution_count": 202,
   "metadata": {
    "hidden": true,
    "scrolled": false
   },
   "outputs": [
    {
     "name": "stdout",
     "output_type": "stream",
     "text": [
      "GLPSOL: GLPK LP/MIP Solver, v4.65\n",
      "Parameter(s) specified in the command line:\n",
      " -m model.lp --lp --ranges sensit.sen\n",
      "Reading problem data from 'model.lp'...\n",
      "43 rows, 31 columns, 121 non-zeros\n",
      "318 lines were read\n",
      "GLPK Simplex Optimizer, v4.65\n",
      "43 rows, 31 columns, 121 non-zeros\n",
      "Preprocessing...\n",
      "12 rows, 18 columns, 54 non-zeros\n",
      "Scaling...\n",
      " A: min|aij| =  1.000e+00  max|aij| =  1.000e+00  ratio =  1.000e+00\n",
      "Problem data seem to be well scaled\n",
      "Constructing initial basis...\n",
      "Size of triangular part is 11\n",
      "      0: obj =   1.708000000e+03 inf =   7.500e+01 (9)\n",
      "     16: obj =   1.763000000e+03 inf =   0.000e+00 (0)\n",
      "*    17: obj =   1.755000000e+03 inf =   0.000e+00 (0)\n",
      "OPTIMAL LP SOLUTION FOUND\n",
      "Time used:   0.0 secs\n",
      "Memory used: 0.1 Mb (64628 bytes)\n",
      "Write sensitivity analysis report to 'sensit.sen'...\n",
      "GLPK 4.65 - SENSITIVITY ANALYSIS REPORT                                                                         Page   1\n",
      "\n",
      "Problem:    \n",
      "Objective:  total_cost = 1755 (MINimum)\n",
      "\n",
      "   No. Row name     St      Activity         Slack   Lower bound       Activity      Obj coef  Obj value at Limiting\n",
      "                                          Marginal   Upper bound          range         range   break point variable\n",
      "------ ------------ -- ------------- ------------- -------------  ------------- ------------- ------------- ------------\n",
      "     1 c_l_weekly_min_hours_c(1)_\n",
      "                    BS       9.00000      -1.00000       8.00000        9.00000      -1.00000    1746.00000 c_u_daily_max_hours_per_person_c(6)_\n",
      "                                            .               +Inf        8.00000       3.00000    1782.00000 c_l_weekly_min_hours_c(5)_\n",
      "\n",
      "     2 c_l_weekly_min_hours_c(2)_\n",
      "                    NL       8.00000        .            8.00000        7.00000      -2.00000    1753.00000 c_u_daily_max_hours_per_person_c(12)_\n",
      "                                           2.00000          +Inf       12.00000          +Inf    1763.00000 c_u_daily_max_hours_per_person_c(7)_\n",
      "\n",
      "     3 c_l_weekly_min_hours_c(3)_\n",
      "                    BS      19.00000     -11.00000       8.00000       20.00000      -1.00000    1736.00000 c_u_daily_max_hours_per_person_c(17)_\n",
      "                                            .               +Inf       19.00000       1.00000    1774.00000 c_u_daily_max_hours_per_person_c(6)_\n",
      "\n",
      "     4 c_l_weekly_min_hours_c(4)_\n",
      "                    BS      20.00000     -12.00000       8.00000       20.00000          -Inf          -Inf\n",
      "                                            .               +Inf       19.00000       1.00000    1775.00000 c_u_daily_max_hours_per_person_c(17)_\n",
      "\n",
      "     5 c_l_weekly_min_hours_c(5)_\n",
      "                    NL       7.00000        .            7.00000        5.00000      -3.00000    1749.00000 daily_schedule(ks_mon)\n",
      "                                           3.00000          +Inf        8.00000          +Inf    1758.00000 c_l_weekly_min_hours_c(1)_\n",
      "\n",
      "     6 c_l_weekly_min_hours_c(6)_\n",
      "                    NL       7.00000        .            7.00000        6.00000      -5.00000    1750.00000 daily_schedule(nk_fri)\n",
      "                                           5.00000          +Inf        8.00000          +Inf    1760.00000 c_l_weekly_min_hours_c(1)_\n",
      "\n",
      "     7 c_e_weekly_max_hours_c_\n",
      "                    NS      70.00000        .           70.00000       70.00000          -Inf    1755.00000 c_e_daily_max_hours_c(5)_\n",
      "                                          25.00000      70.00000       70.00000          +Inf    1755.00000 c_e_daily_max_hours_c(5)_\n",
      "\n",
      "     8 c_e_daily_max_hours_c(1)_\n",
      "                    NS      14.00000        .           14.00000       14.00000          -Inf    1755.00000 c_e_daily_max_hours_c(5)_\n",
      "                                            .           14.00000       14.00000          +Inf    1755.00000 c_e_daily_max_hours_c(5)_\n",
      "\n",
      "     9 c_e_daily_max_hours_c(2)_\n",
      "                    NS      14.00000        .           14.00000       14.00000          -Inf    1755.00000 c_e_daily_max_hours_c(5)_\n",
      "                                          -1.00000      14.00000       14.00000          +Inf    1755.00000 c_e_daily_max_hours_c(5)_\n",
      "\n",
      "    10 c_e_daily_max_hours_c(3)_\n",
      "                    NS      14.00000        .           14.00000       14.00000          -Inf    1755.00000 c_e_daily_max_hours_c(5)_\n",
      "                                            .           14.00000       14.00000          +Inf    1755.00000 c_e_daily_max_hours_c(5)_\n",
      "\n",
      "GLPK 4.65 - SENSITIVITY ANALYSIS REPORT                                                                         Page   2\n",
      "\n",
      "Problem:    \n",
      "Objective:  total_cost = 1755 (MINimum)\n",
      "\n",
      "   No. Row name     St      Activity         Slack   Lower bound       Activity      Obj coef  Obj value at Limiting\n",
      "                                          Marginal   Upper bound          range         range   break point variable\n",
      "------ ------------ -- ------------- ------------- -------------  ------------- ------------- ------------- ------------\n",
      "    11 c_e_daily_max_hours_c(4)_\n",
      "                    NS      14.00000        .           14.00000       14.00000          -Inf    1755.00000 c_e_daily_max_hours_c(5)_\n",
      "                                            .           14.00000       14.00000          +Inf    1755.00000 c_e_daily_max_hours_c(5)_\n",
      "\n",
      "    12 c_e_daily_max_hours_c(5)_\n",
      "                    BS      14.00000        .           14.00000       14.00000          -Inf          -Inf\n",
      "                                            .           14.00000       14.00000          +Inf          +Inf\n",
      "\n",
      "    13 c_u_daily_max_hours_per_person_c(1)_\n",
      "                    BS       3.00000       3.00000          -Inf        3.00000        .         1755.00000 c_u_daily_max_hours_per_person_c(4)_\n",
      "                                            .            6.00000        2.00000        .         1755.00000 c_u_daily_max_hours_per_person_c(23)_\n",
      "\n",
      "    14 c_u_daily_max_hours_per_person_c(2)_\n",
      "                    BS        .             .               -Inf        7.00000      -1.00000    1755.00000 daily_schedule(kc_tues)\n",
      "                                            .             .              .               +Inf    1755.00000\n",
      "\n",
      "    15 c_u_daily_max_hours_per_person_c(3)_\n",
      "                    BS       2.00000       4.00000          -Inf        3.00000        .         1755.00000 c_u_daily_max_hours_per_person_c(23)_\n",
      "                                            .            6.00000        2.00000          +Inf          +Inf\n",
      "\n",
      "    16 c_u_daily_max_hours_per_person_c(4)_\n",
      "                    NU        .             .               -Inf         .               -Inf    1755.00000 daily_schedule(kc_thurs)\n",
      "                                            .             .             1.00000        .         1755.00000 c_u_daily_max_hours_per_person_c(21)_\n",
      "\n",
      "    17 c_u_daily_max_hours_per_person_c(5)_\n",
      "                    BS       4.00000       2.00000          -Inf        4.00000        .         1755.00000 c_u_daily_max_hours_per_person_c(25)_\n",
      "                                            .            6.00000        4.00000        .         1755.00000 c_u_daily_max_hours_per_person_c(26)_\n",
      "\n",
      "    18 c_u_daily_max_hours_per_person_c(6)_\n",
      "                    NU        .             .               -Inf         .               -Inf    1755.00000 daily_schedule(dh_mon)\n",
      "                                          -1.00000        .             1.00000       1.00000    1754.00000 c_l_weekly_min_hours_c(1)_\n",
      "\n",
      "    19 c_u_daily_max_hours_per_person_c(7)_\n",
      "                    BS       2.00000       4.00000          -Inf        2.00000      -1.00000    1753.00000 c_u_daily_max_hours_per_person_c(6)_\n",
      "                                            .            6.00000        2.00000          +Inf          +Inf\n",
      "\n",
      "    20 c_u_daily_max_hours_per_person_c(8)_\n",
      "                    NU        .             .               -Inf         .               -Inf    1755.00000 daily_schedule(dh_weds)\n",
      "                                          -1.00000        .             1.00000       1.00000    1754.00000 c_l_weekly_min_hours_c(1)_\n",
      "\n",
      "GLPK 4.65 - SENSITIVITY ANALYSIS REPORT                                                                         Page   3\n",
      "\n",
      "Problem:    \n",
      "Objective:  total_cost = 1755 (MINimum)\n",
      "\n",
      "   No. Row name     St      Activity         Slack   Lower bound       Activity      Obj coef  Obj value at Limiting\n",
      "                                          Marginal   Upper bound          range         range   break point variable\n",
      "------ ------------ -- ------------- ------------- -------------  ------------- ------------- ------------- ------------\n",
      "    21 c_u_daily_max_hours_per_person_c(9)_\n",
      "                    NU       6.00000        .               -Inf        4.00000          -Inf    1757.00000 daily_schedule(ks_mon)\n",
      "                                          -1.00000       6.00000        7.00000       1.00000    1754.00000 c_l_weekly_min_hours_c(1)_\n",
      "\n",
      "    22 c_u_daily_max_hours_per_person_c(10)_\n",
      "                    NU        .             .               -Inf         .               -Inf    1755.00000 daily_schedule(dh_fri)\n",
      "                                          -1.00000        .             1.00000       1.00000    1754.00000 c_l_weekly_min_hours_c(1)_\n",
      "\n",
      "    23 c_u_daily_max_hours_per_person_c(11)_\n",
      "                    NU       4.00000        .               -Inf        1.00000          -Inf    1758.00000 c_u_daily_max_hours_per_person_c(1)_\n",
      "                                          -1.00000       4.00000        5.00000       1.00000    1754.00000 c_l_weekly_min_hours_c(1)_\n",
      "\n",
      "    24 c_u_daily_max_hours_per_person_c(12)_\n",
      "                    BS       7.00000       1.00000          -Inf       12.00000      -1.00000    1748.00000 c_u_daily_max_hours_per_person_c(17)_\n",
      "                                            .            8.00000        7.00000       1.00000    1762.00000 c_u_daily_max_hours_per_person_c(6)_\n",
      "\n",
      "    25 c_u_daily_max_hours_per_person_c(13)_\n",
      "                    NU       4.00000        .               -Inf         .               -Inf    1759.00000 c_u_daily_max_hours_per_person_c(3)_\n",
      "                                          -1.00000       4.00000        5.00000       1.00000    1754.00000 c_l_weekly_min_hours_c(1)_\n",
      "\n",
      "    26 c_u_daily_max_hours_per_person_c(14)_\n",
      "                    NU        .             .               -Inf         .               -Inf    1755.00000 daily_schedule(hb_thurs)\n",
      "                                          -1.00000        .             1.00000       1.00000    1754.00000 c_l_weekly_min_hours_c(1)_\n",
      "\n",
      "    27 c_u_daily_max_hours_per_person_c(15)_\n",
      "                    NU       4.00000        .               -Inf        2.00000          -Inf    1757.00000 c_u_daily_max_hours_per_person_c(5)_\n",
      "                                          -1.00000       4.00000        5.00000       1.00000    1754.00000 c_l_weekly_min_hours_c(1)_\n",
      "\n",
      "    28 c_u_daily_max_hours_per_person_c(16)_\n",
      "                    NU       5.00000        .               -Inf        2.00000          -Inf    1761.00000 c_u_daily_max_hours_per_person_c(1)_\n",
      "                                          -2.00000       5.00000        6.00000       2.00000    1753.00000 c_l_weekly_min_hours_c(1)_\n",
      "\n",
      "    29 c_u_daily_max_hours_per_person_c(17)_\n",
      "                    NU       5.00000        .               -Inf        4.00000          -Inf    1756.00000 c_u_daily_max_hours_per_person_c(12)_\n",
      "                                          -1.00000       5.00000       12.00000       1.00000    1748.00000 daily_schedule(hb_tues)\n",
      "\n",
      "    30 c_u_daily_max_hours_per_person_c(18)_\n",
      "                    NU       5.00000        .               -Inf        1.00000          -Inf    1763.00000 c_u_daily_max_hours_per_person_c(3)_\n",
      "                                          -2.00000       5.00000        6.00000       2.00000    1753.00000 c_l_weekly_min_hours_c(1)_\n",
      "\n",
      "GLPK 4.65 - SENSITIVITY ANALYSIS REPORT                                                                         Page   4\n",
      "\n",
      "Problem:    \n",
      "Objective:  total_cost = 1755 (MINimum)\n",
      "\n",
      "   No. Row name     St      Activity         Slack   Lower bound       Activity      Obj coef  Obj value at Limiting\n",
      "                                          Marginal   Upper bound          range         range   break point variable\n",
      "------ ------------ -- ------------- ------------- -------------  ------------- ------------- ------------- ------------\n",
      "    31 c_u_daily_max_hours_per_person_c(19)_\n",
      "                    NU        .             .               -Inf         .               -Inf    1755.00000 daily_schedule(sc_thurs)\n",
      "                                          -2.00000        .             1.00000       2.00000    1753.00000 c_l_weekly_min_hours_c(1)_\n",
      "\n",
      "    32 c_u_daily_max_hours_per_person_c(20)_\n",
      "                    NU       5.00000        .               -Inf        3.00000          -Inf    1759.00000 c_u_daily_max_hours_per_person_c(5)_\n",
      "                                          -2.00000       5.00000        6.00000       2.00000    1753.00000 c_l_weekly_min_hours_c(1)_\n",
      "\n",
      "    33 c_u_daily_max_hours_per_person_c(21)_\n",
      "                    BS       2.00000       1.00000          -Inf        5.00000        .         1755.00000 c_u_daily_max_hours_per_person_c(23)_\n",
      "                                            .            3.00000        2.00000        .         1755.00000 c_u_daily_max_hours_per_person_c(4)_\n",
      "\n",
      "    34 c_u_daily_max_hours_per_person_c(22)_\n",
      "                    BS        .             .               -Inf        2.00000      -1.00000    1755.00000 daily_schedule(ks_tues)\n",
      "                                            .             .              .               +Inf    1755.00000\n",
      "\n",
      "    35 c_u_daily_max_hours_per_person_c(23)_\n",
      "                    NU       3.00000        .               -Inf        2.00000          -Inf    1755.00000 c_u_daily_max_hours_per_person_c(21)_\n",
      "                                            .            3.00000        5.00000        .         1755.00000 daily_schedule(kc_weds)\n",
      "\n",
      "    36 c_u_daily_max_hours_per_person_c(24)_\n",
      "                    BS       2.00000       6.00000          -Inf        2.00000        .         1755.00000 c_u_daily_max_hours_per_person_c(4)_\n",
      "                                            .            8.00000        2.00000          +Inf          +Inf\n",
      "\n",
      "    37 c_u_daily_max_hours_per_person_c(25)_\n",
      "                    NU        .             .               -Inf         .               -Inf    1755.00000 daily_schedule(ks_fri)\n",
      "                                            .             .             2.00000        .         1755.00000 daily_schedule(ks_mon)\n",
      "\n",
      "    38 c_u_daily_max_hours_per_person_c(26)_\n",
      "                    NU        .             .               -Inf         .               -Inf    1755.00000 daily_schedule(nk_mon)\n",
      "                                            .             .             1.00000        .         1755.00000 daily_schedule(nk_fri)\n",
      "\n",
      "    39 c_u_daily_max_hours_per_person_c(27)_\n",
      "                    BS        .             .               -Inf        1.00000      -1.00000    1755.00000 daily_schedule(nk_tues)\n",
      "                                            .             .              .               +Inf    1755.00000\n",
      "\n",
      "    40 c_u_daily_max_hours_per_person_c(28)_\n",
      "                    NU        .             .               -Inf         .               -Inf    1755.00000 daily_schedule(nk_weds)\n",
      "                                            .             .             1.00000        .         1755.00000 daily_schedule(nk_fri)\n",
      "\n",
      "GLPK 4.65 - SENSITIVITY ANALYSIS REPORT                                                                         Page   5\n",
      "\n",
      "Problem:    \n",
      "Objective:  total_cost = 1755 (MINimum)\n",
      "\n",
      "   No. Row name     St      Activity         Slack   Lower bound       Activity      Obj coef  Obj value at Limiting\n",
      "                                          Marginal   Upper bound          range         range   break point variable\n",
      "------ ------------ -- ------------- ------------- -------------  ------------- ------------- ------------- ------------\n",
      "    41 c_u_daily_max_hours_per_person_c(29)_\n",
      "                    NU       6.00000        .               -Inf        5.00000          -Inf    1755.00000 c_u_daily_max_hours_per_person_c(30)_\n",
      "                                            .            6.00000        7.00000        .         1755.00000 c_u_daily_max_hours_per_person_c(21)_\n",
      "\n",
      "    42 c_u_daily_max_hours_per_person_c(30)_\n",
      "                    BS       1.00000       1.00000          -Inf        1.00000        .         1755.00000 c_u_daily_max_hours_per_person_c(26)_\n",
      "                                            .            2.00000        1.00000       1.00000    1756.00000 daily_schedule(nk_tues)\n",
      "\n",
      "    43 c_e_ONE_VAR_CONSTANT\n",
      "                    NS       1.00000        .            1.00000         .               -Inf    1755.00000 ONE_VAR_CONSTANT\n",
      "                                            .            1.00000           +Inf          +Inf    1755.00000\n",
      "\n",
      "GLPK 4.65 - SENSITIVITY ANALYSIS REPORT                                                                         Page   6\n",
      "\n",
      "Problem:    \n",
      "Objective:  total_cost = 1755 (MINimum)\n",
      "\n",
      "   No. Column name  St      Activity      Obj coef   Lower bound       Activity      Obj coef  Obj value at Limiting\n",
      "                                          Marginal   Upper bound          range         range   break point variable\n",
      "------ ------------ -- ------------- ------------- -------------  ------------- ------------- ------------- ------------\n",
      "     1 daily_schedule(dh_fri)\n",
      "                    BS        .           26.00000        .              .               -Inf    1755.00000\n",
      "                                            .               +Inf       -2.00000      27.00000    1755.00000 c_u_daily_max_hours_per_person_c(10)_\n",
      "\n",
      "     2 daily_schedule(dh_mon)\n",
      "                    BS        .           26.00000        .              .               -Inf    1755.00000\n",
      "                                            .               +Inf       -3.00000      27.00000    1755.00000 c_u_daily_max_hours_per_person_c(6)_\n",
      "\n",
      "     3 daily_schedule(dh_thurs)\n",
      "                    BS       6.00000      26.00000        .             6.00000          -Inf          -Inf\n",
      "                                            .               +Inf        4.00000      27.00000    1761.00000 c_u_daily_max_hours_per_person_c(9)_\n",
      "\n",
      "     4 daily_schedule(dh_tues)\n",
      "                    BS       2.00000      26.00000        .             2.00000      25.00000    1753.00000 c_u_daily_max_hours_per_person_c(6)_\n",
      "                                            .               +Inf        2.00000          +Inf          +Inf\n",
      "\n",
      "     5 daily_schedule(dh_weds)\n",
      "                    BS        .           26.00000        .              .               -Inf    1755.00000\n",
      "                                            .               +Inf       -4.00000      27.00000    1755.00000 c_u_daily_max_hours_per_person_c(8)_\n",
      "\n",
      "     6 daily_schedule(hb_fri)\n",
      "                    BS       4.00000      24.00000        .             4.00000          -Inf          -Inf\n",
      "                                            .               +Inf        2.00000      25.00000    1759.00000 c_u_daily_max_hours_per_person_c(15)_\n",
      "\n",
      "     7 daily_schedule(hb_mon)\n",
      "                    BS       4.00000      24.00000        .             4.00000          -Inf          -Inf\n",
      "                                            .               +Inf        1.00000      25.00000    1759.00000 c_u_daily_max_hours_per_person_c(11)_\n",
      "\n",
      "     8 daily_schedule(hb_thurs)\n",
      "                    BS        .           24.00000        .              .               -Inf    1755.00000\n",
      "                                            .               +Inf       -2.00000      25.00000    1755.00000 c_u_daily_max_hours_per_person_c(14)_\n",
      "\n",
      "     9 daily_schedule(hb_tues)\n",
      "                    BS       7.00000      24.00000        .             8.00000      23.00000    1748.00000 c_u_daily_max_hours_per_person_c(17)_\n",
      "                                            .               +Inf        7.00000      25.00000    1762.00000 c_u_daily_max_hours_per_person_c(6)_\n",
      "\n",
      "    10 daily_schedule(hb_weds)\n",
      "                    BS       4.00000      24.00000        .             4.00000          -Inf          -Inf\n",
      "                                            .               +Inf         .           25.00000    1759.00000 c_u_daily_max_hours_per_person_c(13)_\n",
      "\n",
      "GLPK 4.65 - SENSITIVITY ANALYSIS REPORT                                                                         Page   7\n",
      "\n",
      "Problem:    \n",
      "Objective:  total_cost = 1755 (MINimum)\n",
      "\n",
      "   No. Column name  St      Activity      Obj coef   Lower bound       Activity      Obj coef  Obj value at Limiting\n",
      "                                          Marginal   Upper bound          range         range   break point variable\n",
      "------ ------------ -- ------------- ------------- -------------  ------------- ------------- ------------- ------------\n",
      "    11 daily_schedule(kc_fri)\n",
      "                    BS       4.00000      25.00000        .             4.00000      25.00000    1755.00000 c_u_daily_max_hours_per_person_c(25)_\n",
      "                                            .               +Inf        4.00000      25.00000    1755.00000 c_u_daily_max_hours_per_person_c(26)_\n",
      "\n",
      "    12 daily_schedule(kc_mon)\n",
      "                    BS       3.00000      25.00000        .             3.00000      25.00000    1755.00000 c_u_daily_max_hours_per_person_c(4)_\n",
      "                                            .               +Inf        2.00000      25.00000    1755.00000 c_u_daily_max_hours_per_person_c(23)_\n",
      "\n",
      "    13 daily_schedule(kc_thurs)\n",
      "                    BS        .           25.00000        .              .               -Inf    1755.00000\n",
      "                                            .               +Inf       -2.00000      25.00000    1755.00000 c_u_daily_max_hours_per_person_c(4)_\n",
      "\n",
      "    14 daily_schedule(kc_tues)\n",
      "                    NL        .           25.00000        .            -1.00000      24.00000    1754.00000 c_l_weekly_min_hours_c(1)_\n",
      "                                           1.00000          +Inf         .               +Inf    1755.00000 c_u_daily_max_hours_per_person_c(2)_\n",
      "\n",
      "    15 daily_schedule(kc_weds)\n",
      "                    BS       2.00000      25.00000        .             3.00000      25.00000    1755.00000 c_u_daily_max_hours_per_person_c(23)_\n",
      "                                            .               +Inf        2.00000          +Inf          +Inf\n",
      "\n",
      "    16 daily_schedule(ks_fri)\n",
      "                    BS        .           28.00000        .              .               -Inf    1755.00000\n",
      "                                            .               +Inf       -1.00000      28.00000    1755.00000 c_u_daily_max_hours_per_person_c(25)_\n",
      "\n",
      "    17 daily_schedule(ks_mon)\n",
      "                    BS       2.00000      28.00000        .             3.00000      28.00000    1755.00000 c_u_daily_max_hours_per_person_c(23)_\n",
      "                                            .               +Inf        2.00000      28.00000    1755.00000 c_u_daily_max_hours_per_person_c(4)_\n",
      "\n",
      "    18 daily_schedule(ks_thurs)\n",
      "                    BS       2.00000      28.00000        .             2.00000      28.00000    1755.00000 c_u_daily_max_hours_per_person_c(4)_\n",
      "                                            .               +Inf        2.00000          +Inf          +Inf\n",
      "\n",
      "    19 daily_schedule(ks_tues)\n",
      "                    NL        .           28.00000        .            -1.00000      27.00000    1754.00000 c_l_weekly_min_hours_c(1)_\n",
      "                                           1.00000          +Inf         .               +Inf    1755.00000 c_u_daily_max_hours_per_person_c(22)_\n",
      "\n",
      "    20 daily_schedule(ks_weds)\n",
      "                    BS       3.00000      28.00000        .             3.00000          -Inf          -Inf\n",
      "                                            .               +Inf        2.00000      28.00000    1755.00000 c_u_daily_max_hours_per_person_c(23)_\n",
      "\n",
      "GLPK 4.65 - SENSITIVITY ANALYSIS REPORT                                                                         Page   8\n",
      "\n",
      "Problem:    \n",
      "Objective:  total_cost = 1755 (MINimum)\n",
      "\n",
      "   No. Column name  St      Activity      Obj coef   Lower bound       Activity      Obj coef  Obj value at Limiting\n",
      "                                          Marginal   Upper bound          range         range   break point variable\n",
      "------ ------------ -- ------------- ------------- -------------  ------------- ------------- ------------- ------------\n",
      "    21 daily_schedule(nk_fri)\n",
      "                    BS       1.00000      30.00000        .             1.00000      30.00000    1755.00000 c_u_daily_max_hours_per_person_c(26)_\n",
      "                                            .               +Inf        1.00000      31.00000    1756.00000 daily_schedule(nk_tues)\n",
      "\n",
      "    22 daily_schedule(nk_mon)\n",
      "                    BS        .           30.00000        .              .               -Inf    1755.00000\n",
      "                                            .               +Inf       -1.00000      30.00000    1755.00000 c_u_daily_max_hours_per_person_c(26)_\n",
      "\n",
      "    23 daily_schedule(nk_thurs)\n",
      "                    BS       6.00000      30.00000        .             6.00000          -Inf          -Inf\n",
      "                                            .               +Inf        5.00000      30.00000    1755.00000 c_u_daily_max_hours_per_person_c(29)_\n",
      "\n",
      "    24 daily_schedule(nk_tues)\n",
      "                    NL        .           30.00000        .            -1.00000      29.00000    1754.00000 c_l_weekly_min_hours_c(1)_\n",
      "                                           1.00000          +Inf         .               +Inf    1755.00000 c_u_daily_max_hours_per_person_c(27)_\n",
      "\n",
      "    25 daily_schedule(nk_weds)\n",
      "                    BS        .           30.00000        .              .               -Inf    1755.00000\n",
      "                                            .               +Inf       -1.00000      30.00000    1755.00000 c_u_daily_max_hours_per_person_c(28)_\n",
      "\n",
      "    26 daily_schedule(sc_fri)\n",
      "                    BS       5.00000      23.00000        .             5.00000          -Inf          -Inf\n",
      "                                            .               +Inf        3.00000      25.00000    1765.00000 c_u_daily_max_hours_per_person_c(20)_\n",
      "\n",
      "    27 daily_schedule(sc_mon)\n",
      "                    BS       5.00000      23.00000        .             5.00000          -Inf          -Inf\n",
      "                                            .               +Inf        2.00000      25.00000    1765.00000 c_u_daily_max_hours_per_person_c(16)_\n",
      "\n",
      "    28 daily_schedule(sc_thurs)\n",
      "                    BS        .           23.00000        .              .               -Inf    1755.00000\n",
      "                                            .               +Inf       -2.00000      25.00000    1755.00000 c_u_daily_max_hours_per_person_c(19)_\n",
      "\n",
      "    29 daily_schedule(sc_tues)\n",
      "                    BS       5.00000      23.00000        .             5.00000          -Inf          -Inf\n",
      "                                            .               +Inf        4.00000      24.00000    1760.00000 c_u_daily_max_hours_per_person_c(17)_\n",
      "\n",
      "    30 daily_schedule(sc_weds)\n",
      "                    BS       5.00000      23.00000        .             5.00000          -Inf          -Inf\n",
      "                                            .               +Inf        1.00000      25.00000    1765.00000 c_u_daily_max_hours_per_person_c(18)_\n",
      "\n",
      "GLPK 4.65 - SENSITIVITY ANALYSIS REPORT                                                                         Page   9\n",
      "\n",
      "Problem:    \n",
      "Objective:  total_cost = 1755 (MINimum)\n",
      "\n",
      "   No. Column name  St      Activity      Obj coef   Lower bound       Activity      Obj coef  Obj value at Limiting\n",
      "                                          Marginal   Upper bound          range         range   break point variable\n",
      "------ ------------ -- ------------- ------------- -------------  ------------- ------------- ------------- ------------\n",
      "    31 ONE_VAR_CONSTANT\n",
      "                    BS       1.00000        .             .             1.00000          -Inf          -Inf\n",
      "                                            .               +Inf        1.00000          +Inf          +Inf\n",
      "\n",
      "End of report\n",
      "\n"
     ]
    }
   ],
   "source": [
    "# write the model to a sensitivity report\n",
    "model.write('model.lp', io_options={'symbolic_solver_labels': True})\n",
    "!glpsol -m model.lp --lp --ranges sensit.sen\n",
    "\n",
    "# widen browser and/or close TOC to see sensitivity report\n",
    "import numpy as np\n",
    "np.set_printoptions(linewidth=110)\n",
    "f = open('sensit.sen', 'r')\n",
    "file_contents = f.read()\n",
    "print(file_contents)\n",
    "f.close()"
   ]
  },
  {
   "cell_type": "markdown",
   "metadata": {
    "hidden": true
   },
   "source": [
    "(d) Report and interpret the shadow price for H.B.'s available hours hours for Monday."
   ]
  },
  {
   "cell_type": "markdown",
   "metadata": {
    "hidden": true
   },
   "source": [
    "<font color = \"blue\"> *** 1 point -  answer in cell below *** (don't delete this cell) </font>"
   ]
  },
  {
   "cell_type": "markdown",
   "metadata": {
    "hidden": true
   },
   "source": [
    "The shadow price for HB's hours on Monday indicates that the objective function will increase by $24 for a 1 hour increase in HB's hours. This is his wage."
   ]
  },
  {
   "cell_type": "markdown",
   "metadata": {
    "hidden": true
   },
   "source": [
    "(e) Report and interpret the activity range for H.B.'s available hours hours for Monday."
   ]
  },
  {
   "cell_type": "markdown",
   "metadata": {
    "hidden": true
   },
   "source": [
    "<font color = \"blue\"> *** 1 point -  answer in cell below *** (don't delete this cell) </font>"
   ]
  },
  {
   "cell_type": "markdown",
   "metadata": {
    "hidden": true
   },
   "source": [
    "HB's activity range is 1 to 4 hours. He can work as much as 4 hours and as little as 1 hour on Monday."
   ]
  },
  {
   "cell_type": "markdown",
   "metadata": {
    "heading_collapsed": true
   },
   "source": [
    "# Textbook Problem 7.3-7 (parts)"
   ]
  },
  {
   "cell_type": "markdown",
   "metadata": {
    "hidden": true
   },
   "source": [
    "This question is based on the material labeled \"Personnel\n",
    "Scheduling\" beginning on page 57 of the textbook.  Table 3.19 is\n",
    "reproduced here for convenience: \n",
    "\n",
    "<img src=\"images/problem5p5.png\" width=\"640\" height=\"450\"> \n",
    "\n",
    "Management now is considering increasing the level of service\n",
    "provided to customers by increasing one or more of the numbers in the\n",
    "rightmost column of Table 3.19 for the minimum number of agents needed\n",
    "in the various time periods. To guide them in making this decision,\n",
    "they would like to know what impact this change would have on total\n",
    "cost.  (*Note: the letters (a), (b), etc. do not match the letters in the textbook problem.*)\n",
    "\n",
    "(a) Use Pyomo with the GLPK solver to generate the sensitivity report in preparation for addressing the following questions.  Your Pyomo solution should be written in a general way that can be applied to any number time periods and shifts.  In the cell below we've included the problem data to get you started.  Note that the \"rows\" in ```periods_covered``` allow you form the mimimum number of agents constraints.  For instance, based on the second \"row\" we know that the constraint for the 8am - 10am time period is $$ 1 x_{s1} + 1 x_{s2} + 0 x_{s3} + 0 x_{s4} + 0 x_{s5} \\geq 79$$ because only agents in shifts 1 and 2 provide coverage for that time period. "
   ]
  },
  {
   "cell_type": "markdown",
   "metadata": {
    "hidden": true
   },
   "source": [
    "<font color = \"blue\"> *** 7 points -  answer in cell below *** (don't delete this cell) </font>"
   ]
  },
  {
   "cell_type": "code",
   "execution_count": 1,
   "metadata": {
    "hidden": true
   },
   "outputs": [],
   "source": [
    "# data for problem 7.3-7\n",
    "periods = [\n",
    "    'p6_8', 'p8_10', 'p10_12', 'p12_14', 'p14_16', 'p16_18', 'p18_20',\n",
    "    'p20_22', 'p22_24', 'p24_6'\n",
    "]\n",
    "shifts = ['s1', 's2', 's3', 's4', 's5']\n",
    "daily_cost_per_agent = dict( zip( shifts, [170, 160, 175, 180, 195] ) )\n",
    "min_agents_per_period = dict( zip( periods, [48, 79, 65, 87, 64, 73, 82, 43, 52, 15] ) )\n",
    "                            \n",
    "pc = [[1, 0, 0, 0, 0], [1, 1, 0, 0, 0], [1, 1, 0, 0, 0], [1, 1, 1, 0, 0],\n",
    "     [0, 1, 1, 0, 0], [0, 0, 1, 1, 0], [0, 0, 1, 1, 0], [0, 0, 0, 1, 0],\n",
    "     [0, 0, 0, 1, 1], [0, 0, 0, 0, 1]]\n",
    "periods_covered = { periods[p]: dict(zip( shifts, pc[p][:])) for p in range(len(periods))}\n",
    "\n",
    "# finish the code here:\n"
   ]
  },
  {
   "cell_type": "markdown",
   "metadata": {
    "hidden": true
   },
   "source": [
    "(b) Which of the numbers in\n",
    "the rightmost column of Table 3.19 can be increased without increasing\n",
    "total cost? In each case, indicate how much it can be increased (if it\n",
    "is the only one being changed) without increasing total cost."
   ]
  },
  {
   "cell_type": "markdown",
   "metadata": {
    "hidden": true
   },
   "source": [
    "<font color = \"blue\"> *** 2 points -  answer in cell below *** (don't delete this cell) </font>"
   ]
  },
  {
   "cell_type": "markdown",
   "metadata": {
    "hidden": true
   },
   "source": []
  },
  {
   "cell_type": "markdown",
   "metadata": {
    "hidden": true
   },
   "source": [
    "(c) For each of the other numbers, how much would the total cost increase per increase of 1 in the number? For each answer, indicate how much the number can be increased (if it is the only one being changed) before the answer is no longer valid. "
   ]
  },
  {
   "cell_type": "markdown",
   "metadata": {
    "hidden": true
   },
   "source": [
    "<font color = \"blue\"> *** 2 points -  answer in cell below *** (don't delete this cell) </font>"
   ]
  },
  {
   "cell_type": "markdown",
   "metadata": {
    "hidden": true
   },
   "source": []
  },
  {
   "cell_type": "markdown",
   "metadata": {
    "hidden": true
   },
   "source": [
    "(d) Do your answers in part (b) definitely remain valid if all the numbers considered in part (b) are simultaneously increased by one? (What percent of the allowable increase is an increase of 1 for each RHS? Consider Hillier p. 238) "
   ]
  },
  {
   "cell_type": "markdown",
   "metadata": {
    "hidden": true
   },
   "source": [
    "<font color = \"blue\"> *** 2 points -  answer in cell below *** (don't delete this cell) </font>"
   ]
  },
  {
   "cell_type": "markdown",
   "metadata": {
    "hidden": true
   },
   "source": []
  }
 ],
 "metadata": {
  "kernelspec": {
   "display_name": "techconda",
   "language": "python",
   "name": "anaconda3"
  },
  "language_info": {
   "codemirror_mode": {
    "name": "ipython",
    "version": 3
   },
   "file_extension": ".py",
   "mimetype": "text/x-python",
   "name": "python",
   "nbconvert_exporter": "python",
   "pygments_lexer": "ipython3",
   "version": "3.7.3"
  },
  "toc": {
   "base_numbering": 1,
   "nav_menu": {},
   "number_sections": true,
   "sideBar": true,
   "skip_h1_title": false,
   "title_cell": "Table of Contents",
   "title_sidebar": "Contents",
   "toc_cell": false,
   "toc_position": {
    "height": "calc(100% - 180px)",
    "left": "10px",
    "top": "150px",
    "width": "204.8px"
   },
   "toc_section_display": true,
   "toc_window_display": false
  },
  "varInspector": {
   "cols": {
    "lenName": 16,
    "lenType": 16,
    "lenVar": 40
   },
   "kernels_config": {
    "python": {
     "delete_cmd_postfix": "",
     "delete_cmd_prefix": "del ",
     "library": "var_list.py",
     "varRefreshCmd": "print(var_dic_list())"
    },
    "r": {
     "delete_cmd_postfix": ") ",
     "delete_cmd_prefix": "rm(",
     "library": "var_list.r",
     "varRefreshCmd": "cat(var_dic_list()) "
    }
   },
   "types_to_exclude": [
    "module",
    "function",
    "builtin_function_or_method",
    "instance",
    "_Feature"
   ],
   "window_display": false
  }
 },
 "nbformat": 4,
 "nbformat_minor": 1
}
