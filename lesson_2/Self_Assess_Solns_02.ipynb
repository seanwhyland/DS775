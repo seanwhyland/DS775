{
 "cells": [
  {
   "cell_type": "code",
   "execution_count": 1,
   "metadata": {
    "code_folding": [
     0
    ]
   },
   "outputs": [],
   "source": [
    "# execute to import notebook styling for tables and width etc.\n",
    "from IPython.core.display import HTML\n",
    "import urllib.request\n",
    "response = urllib.request.urlopen('https://raw.githubusercontent.com/DataScienceUWL/DS775v2/master/ds755.css')\n",
    "HTML(response.read().decode(\"utf-8\"));"
   ]
  },
  {
   "cell_type": "markdown",
   "metadata": {},
   "source": [
    "<font size=18>Lesson 02 - Self-Assessment Solutions</font>"
   ]
  },
  {
   "cell_type": "markdown",
   "metadata": {
    "heading_collapsed": true
   },
   "source": [
    "# <font color = \"blue\"> Self Assessment: Positive Shadow Price </font>"
   ]
  },
  {
   "cell_type": "markdown",
   "metadata": {
    "hidden": true
   },
   "source": [
    "Answer: True"
   ]
  },
  {
   "cell_type": "markdown",
   "metadata": {
    "heading_collapsed": true
   },
   "source": [
    "# <font color = \"blue\"> Self Assessment: Allowable Range (Objective Coef) </font>"
   ]
  },
  {
   "cell_type": "markdown",
   "metadata": {
    "hidden": true
   },
   "source": [
    "Answer: True"
   ]
  },
  {
   "cell_type": "markdown",
   "metadata": {
    "heading_collapsed": true
   },
   "source": [
    "# <font color = \"blue\"> Self Assessment: Changing Parameters </font>"
   ]
  },
  {
   "cell_type": "markdown",
   "metadata": {
    "hidden": true
   },
   "source": [
    "Answer: False"
   ]
  },
  {
   "cell_type": "markdown",
   "metadata": {},
   "source": [
    "# <font color = \"blue\"> Self Assessment: Graphical Exploration of Sensitivity </font>"
   ]
  },
  {
   "cell_type": "markdown",
   "metadata": {},
   "source": [
    "(a) Optimal $Z=22$ occurs when $x=6$ and $y=2$.\n",
    "\n",
    "<img src=\"images/HW_exploration_a.png\" width=\"640\" height=\"450\"> \n",
    "\n",
    "(b) Shadow price $=23-22=1$. The new optimal is $Z=23$ with coordinates $x=4$ and $y=3$.\n",
    "\n",
    "<img src=\"images/HW_exploration_b.png\" width=\"640\" height=\"450\"> \n",
    "\n",
    "(c) The allowable range for resource 2 is $10 \\leq b_2 \\leq 15$. \n",
    "\n",
    "The lower bound is 10, as shown here.\n",
    "\n",
    "<img src=\"images/HW_exploration_c2.png\" width=\"640\" height=\"450\"> \n",
    "\n",
    "The upper bound is 15, as shown here.\n",
    "\n",
    "<img src=\"images/HW_exploration_c1.png\" width=\"640\" height=\"450\"> \n",
    "\n",
    "(d) The allowable range for the unit profit of activity 2 is $4 \\leq c_2 \\leq 6$. \n",
    "\n",
    "The lower bound is 4, as shown here.\n",
    "\n",
    "<img src=\"images/HW_exploration_d2.png\" width=\"640\" height=\"450\"> \n",
    "\n",
    "The upper bound is 6, as shown here.\n",
    "\n",
    "<img src=\"images/HW_exploration_d1.png\" width=\"640\" height=\"450\"> "
   ]
  },
  {
   "cell_type": "markdown",
   "metadata": {
    "heading_collapsed": true
   },
   "source": [
    "# <font color = \"blue\"> Self-Assessment: Solve and Perform Sensitivity </font>"
   ]
  },
  {
   "cell_type": "markdown",
   "metadata": {
    "hidden": true
   },
   "source": [
    "(c) See the code in the following cells and the associated output.\n",
    "\n",
    "(b) From the column labeled \"Marginal\" in the top table of the GLPK sensitivity report below, the shadow prices are 0.667 for resource 1 and 1 for resource 2."
   ]
  },
  {
   "cell_type": "code",
   "execution_count": 14,
   "metadata": {
    "hidden": true
   },
   "outputs": [
    {
     "name": "stdout",
     "output_type": "stream",
     "text": [
      " Z =  52.0\n",
      "x1 =  11.0\n",
      "x2 =  0.0\n",
      "x3 =  3.0\n",
      "x4 =  0.0\n"
     ]
    }
   ],
   "source": [
    "# Code for textbook problem 4.7-6(c)\n",
    "\n",
    "from pyomo.environ import *\n",
    "\n",
    "# Concret Model\n",
    "model = ConcreteModel(name = \"Generic\")\n",
    "\n",
    "# Decision Variables \n",
    "model.x = Var( ['x1','x2','x3','x4'], \n",
    "              domain = NonNegativeReals)\n",
    "\n",
    "# Objective \n",
    "model.obj = Objective( expr = 5*model.x['x1'] + 4*model.x['x2'] - model.x['x3'] +\n",
    "                      3*model.x['x4'], sense = maximize)\n",
    "\n",
    "# Constraints\n",
    "model.Constraint1 = Constraint( expr = 3*model.x['x1'] + 2*model.x['x2'] - \n",
    "                               3*model.x['x3'] + model.x['x4'] <= 24 )\n",
    "model.Constraint2 = Constraint( expr = 3*model.x['x1'] + 3*model.x['x2'] + \n",
    "                               model.x['x3'] + 3*model.x['x4'] <= 36 )\n",
    "                      \n",
    "# Solve\n",
    "solver = SolverFactory('glpk')\n",
    "solver.solve(model)\n",
    "\n",
    "# remove the comment symbol to see the pyomo display of results\n",
    "# display(model)\n",
    "\n",
    "# print a shorter summary of relevant results\n",
    "print(\" Z = \", model.obj())\n",
    "print(\"x1 = \",model.x[\"x1\"]())\n",
    "print(\"x2 = \",model.x[\"x2\"]())\n",
    "print(\"x3 = \",model.x[\"x3\"]())\n",
    "print(\"x4 = \",model.x[\"x4\"]())\n"
   ]
  },
  {
   "cell_type": "code",
   "execution_count": 15,
   "metadata": {
    "hidden": true
   },
   "outputs": [
    {
     "name": "stdout",
     "output_type": "stream",
     "text": [
      "GLPSOL: GLPK LP/MIP Solver, v4.65\r\n",
      "Parameter(s) specified in the command line:\r\n",
      " -m model.lp --lp --ranges sensit.sen\r\n",
      "Reading problem data from 'model.lp'...\r\n",
      "3 rows, 5 columns, 9 non-zeros\r\n",
      "34 lines were read\r\n",
      "GLPK Simplex Optimizer, v4.65\r\n",
      "3 rows, 5 columns, 9 non-zeros\r\n",
      "Preprocessing...\r\n",
      "2 rows, 4 columns, 8 non-zeros\r\n",
      "Scaling...\r\n",
      " A: min|aij| =  1.000e+00  max|aij| =  3.000e+00  ratio =  3.000e+00\r\n",
      "Problem data seem to be well scaled\r\n",
      "Constructing initial basis...\r\n",
      "Size of triangular part is 2\r\n",
      "*     0: obj =  -0.000000000e+00 inf =   0.000e+00 (3)\r\n",
      "*     2: obj =   5.200000000e+01 inf =   0.000e+00 (0)\r\n",
      "OPTIMAL LP SOLUTION FOUND\r\n",
      "Time used:   0.0 secs\r\n",
      "Memory used: 0.0 Mb (40412 bytes)\r\n",
      "Write sensitivity analysis report to 'sensit.sen'...\r\n"
     ]
    }
   ],
   "source": [
    "# write the model to a sensitivity report\n",
    "model.write('model.lp', io_options={'symbolic_solver_labels': True})\n",
    "!glpsol -m model.lp --lp --ranges sensit.sen"
   ]
  },
  {
   "cell_type": "code",
   "execution_count": 16,
   "metadata": {
    "hidden": true
   },
   "outputs": [
    {
     "name": "stdout",
     "output_type": "stream",
     "text": [
      "GLPK 4.65 - SENSITIVITY ANALYSIS REPORT                                                                         Page   1\n",
      "\n",
      "Problem:    \n",
      "Objective:  obj = 52 (MAXimum)\n",
      "\n",
      "   No. Row name     St      Activity         Slack   Lower bound       Activity      Obj coef  Obj value at Limiting\n",
      "                                          Marginal   Upper bound          range         range   break point variable\n",
      "------ ------------ -- ------------- ------------- -------------  ------------- ------------- ------------- ------------\n",
      "     1 c_u_Constraint1_\n",
      "                    NU      24.00000        .               -Inf     -108.00000       -.66667     -36.00000 x(x1)\n",
      "                                            .66667      24.00000       36.00000          +Inf      60.00000 x(x3)\n",
      "\n",
      "     2 c_u_Constraint2_\n",
      "                    NU      36.00000        .               -Inf       24.00000      -1.00000      40.00000 x(x3)\n",
      "                                           1.00000      36.00000           +Inf          +Inf          +Inf\n",
      "\n",
      "     3 c_e_ONE_VAR_CONSTANT\n",
      "                    NS       1.00000        .            1.00000         .               -Inf      52.00000 ONE_VAR_CONSTANT\n",
      "                                            .            1.00000           +Inf          +Inf      52.00000\n",
      "\n",
      "GLPK 4.65 - SENSITIVITY ANALYSIS REPORT                                                                         Page   2\n",
      "\n",
      "Problem:    \n",
      "Objective:  obj = 52 (MAXimum)\n",
      "\n",
      "   No. Column name  St      Activity      Obj coef   Lower bound       Activity      Obj coef  Obj value at Limiting\n",
      "                                          Marginal   Upper bound          range         range   break point variable\n",
      "------ ------------ -- ------------- ------------- -------------  ------------- ------------- ------------- ------------\n",
      "     1 x(x1)        BS      11.00000       5.00000        .              .            4.63636      48.00000 x(x2)\n",
      "                                            .               +Inf       11.00000          +Inf          +Inf\n",
      "\n",
      "     2 x(x2)        NL        .            4.00000        .                -Inf          -Inf          +Inf\n",
      "                                           -.33333          +Inf       12.00000       4.33333      48.00000 x(x1)\n",
      "\n",
      "     3 x(x3)        BS       3.00000      -1.00000        .            -3.60000      -2.33333      48.00000 x(x4)\n",
      "                                            .               +Inf       36.00000       1.66667      60.00000 c_u_Constraint1_\n",
      "\n",
      "     4 x(x4)        NL        .            3.00000        .                -Inf          -Inf          +Inf\n",
      "                                           -.66667          +Inf        6.00000       3.66667      48.00000 x(x3)\n",
      "\n",
      "     5 ONE_VAR_CONSTANT\n",
      "                    BS       1.00000        .             .             1.00000          -Inf          -Inf\n",
      "                                            .               +Inf        1.00000          +Inf          +Inf\n",
      "\n",
      "End of report\n",
      "\n"
     ]
    }
   ],
   "source": [
    "# widen browser and/or close TOC to see sensitivity report\n",
    "import numpy as np\n",
    "np.set_printoptions(linewidth=110)\n",
    "f = open('sensit.sen', 'r')\n",
    "file_contents = f.read()\n",
    "print(file_contents)\n",
    "f.close()"
   ]
  },
  {
   "cell_type": "markdown",
   "metadata": {
    "heading_collapsed": true
   },
   "source": [
    "# <font color = \"blue\"> Self-Assessment: Formulate, Solve, and Perform Sensitivity #1 </font>"
   ]
  },
  {
   "cell_type": "markdown",
   "metadata": {
    "hidden": true
   },
   "source": [
    "(a) See the code and output for the cell below.  The maximum profit is \\\\$3500, obtained when 2000 toys and 1000 subassemlies are produced per day.\n",
    "\n",
    "(f) From the \"Obj coef range\" in the bottom table of the GLPK sensitivty report, the allowable range of the unit profit for toys is \\\\$2.50 to \\\\$5 whereas that for subassemblies is -\\\\$3 to -\\\\$1.50."
   ]
  },
  {
   "cell_type": "code",
   "execution_count": 26,
   "metadata": {
    "hidden": true
   },
   "outputs": [
    {
     "name": "stdout",
     "output_type": "stream",
     "text": [
      "Total Profit =  $3,500.00\n",
      "Daily Production rate of Toys:          2000.0\n",
      "Daily Production rate of Subassemblies: 1000.0\n"
     ]
    }
   ],
   "source": [
    "# Code for textbook problem 7.3-4 (a & f)\n",
    "\n",
    "from pyomo.environ import *\n",
    "\n",
    "# Concret Model\n",
    "model = ConcreteModel(name = \"TannerCo\")\n",
    "\n",
    "# Decision Variables \n",
    "model.x = Var( ['x1_toys','x2_subs'], \n",
    "              domain = NonNegativeReals)\n",
    "\n",
    "# Objective \n",
    "model.obj = Objective( expr = 3*model.x['x1_toys'] - 2.5*model.x['x2_subs'], sense = maximize)\n",
    "\n",
    "# Constraints\n",
    "model.Constraint1 = Constraint( expr = 2*model.x['x1_toys'] - model.x['x2_subs'] <= 3000 )\n",
    "model.Constraint2 = Constraint( expr = model.x['x1_toys'] - model.x['x2_subs'] <= 1000 )\n",
    "                      \n",
    "# Solve\n",
    "solver = SolverFactory('glpk')\n",
    "solver.solve(model)\n",
    "\n",
    "# remove the comment symbol to see the pyomo display of results\n",
    "# display(model)\n",
    "\n",
    "# print a shorter summary of relevant results\n",
    "import babel.numbers as numbers   # needed to display as currency\n",
    "print(\"Total Profit = \", numbers.format_currency(model.obj(),'USD', locale='en_US'))\n",
    "print(\"Daily Production rate of Toys:         \",model.x[\"x1_toys\"]())\n",
    "print(\"Daily Production rate of Subassemblies:\",model.x[\"x2_subs\"]())\n"
   ]
  },
  {
   "cell_type": "code",
   "execution_count": 24,
   "metadata": {
    "hidden": true
   },
   "outputs": [
    {
     "name": "stdout",
     "output_type": "stream",
     "text": [
      "GLPSOL: GLPK LP/MIP Solver, v4.65\r\n",
      "Parameter(s) specified in the command line:\r\n",
      " -m model.lp --lp --ranges sensit.sen\r\n",
      "Reading problem data from 'model.lp'...\r\n",
      "3 rows, 3 columns, 5 non-zeros\r\n",
      "26 lines were read\r\n",
      "GLPK Simplex Optimizer, v4.65\r\n",
      "3 rows, 3 columns, 5 non-zeros\r\n",
      "Preprocessing...\r\n",
      "2 rows, 2 columns, 4 non-zeros\r\n",
      "Scaling...\r\n",
      " A: min|aij| =  1.000e+00  max|aij| =  2.000e+00  ratio =  2.000e+00\r\n",
      "Problem data seem to be well scaled\r\n",
      "Constructing initial basis...\r\n",
      "Size of triangular part is 2\r\n",
      "*     0: obj =  -0.000000000e+00 inf =   0.000e+00 (1)\r\n",
      "*     2: obj =   3.500000000e+03 inf =   0.000e+00 (0)\r\n",
      "OPTIMAL LP SOLUTION FOUND\r\n",
      "Time used:   0.0 secs\r\n",
      "Memory used: 0.0 Mb (40412 bytes)\r\n",
      "Write sensitivity analysis report to 'sensit.sen'...\r\n"
     ]
    }
   ],
   "source": [
    "# write the model to a sensitivity report\n",
    "model.write('model.lp', io_options={'symbolic_solver_labels': True})\n",
    "!glpsol -m model.lp --lp --ranges sensit.sen"
   ]
  },
  {
   "cell_type": "code",
   "execution_count": 25,
   "metadata": {
    "hidden": true
   },
   "outputs": [
    {
     "name": "stdout",
     "output_type": "stream",
     "text": [
      "GLPK 4.65 - SENSITIVITY ANALYSIS REPORT                                                                         Page   1\n",
      "\n",
      "Problem:    \n",
      "Objective:  obj = 3500 (MAXimum)\n",
      "\n",
      "   No. Row name     St      Activity         Slack   Lower bound       Activity      Obj coef  Obj value at Limiting\n",
      "                                          Marginal   Upper bound          range         range   break point variable\n",
      "------ ------------ -- ------------- ------------- -------------  ------------- ------------- ------------- ------------\n",
      "     1 c_u_Constraint1_\n",
      "                    NU    3000.00000        .               -Inf     2000.00000       -.50000    3000.00000 x(x2_subs)\n",
      "                                            .50000    3000.00000           +Inf          +Inf          +Inf\n",
      "\n",
      "     2 c_u_Constraint2_\n",
      "                    NU    1000.00000        .               -Inf           -Inf      -2.00000          -Inf\n",
      "                                           2.00000    1000.00000     1500.00000          +Inf    4500.00000 x(x2_subs)\n",
      "\n",
      "     3 c_e_ONE_VAR_CONSTANT\n",
      "                    NS       1.00000        .            1.00000         .               -Inf    3500.00000 ONE_VAR_CONSTANT\n",
      "                                            .            1.00000           +Inf          +Inf    3500.00000\n",
      "\n",
      "GLPK 4.65 - SENSITIVITY ANALYSIS REPORT                                                                         Page   2\n",
      "\n",
      "Problem:    \n",
      "Objective:  obj = 3500 (MAXimum)\n",
      "\n",
      "   No. Column name  St      Activity      Obj coef   Lower bound       Activity      Obj coef  Obj value at Limiting\n",
      "                                          Marginal   Upper bound          range         range   break point variable\n",
      "------ ------------ -- ------------- ------------- -------------  ------------- ------------- ------------- ------------\n",
      "     1 x(x1_toys)   BS    2000.00000       3.00000        .          1000.00000       2.50000    2500.00000 c_u_Constraint1_\n",
      "                                            .               +Inf           +Inf       5.00000    7500.00000 c_u_Constraint2_\n",
      "\n",
      "     2 x(x2_subs)   BS    1000.00000      -2.50000        .         -1000.00000      -3.00000    3000.00000 c_u_Constraint1_\n",
      "                                            .               +Inf           +Inf      -1.50000    4500.00000 c_u_Constraint2_\n",
      "\n",
      "     3 ONE_VAR_CONSTANT\n",
      "                    BS       1.00000        .             .             1.00000          -Inf          -Inf\n",
      "                                            .               +Inf        1.00000          +Inf          +Inf\n",
      "\n",
      "End of report\n",
      "\n"
     ]
    }
   ],
   "source": [
    "# widen browser and/or close TOC to see sensitivity report\n",
    "import numpy as np\n",
    "np.set_printoptions(linewidth=110)\n",
    "f = open('sensit.sen', 'r')\n",
    "file_contents = f.read()\n",
    "print(file_contents)\n",
    "f.close()"
   ]
  },
  {
   "cell_type": "markdown",
   "metadata": {},
   "source": [
    "# <font color = \"blue\"> Self-Assessment: Formulate, Solve, and Perform Sensitivity #2 </font>"
   ]
  },
  {
   "cell_type": "markdown",
   "metadata": {},
   "source": [
    "(a) This is pretty simple.  Add an extra constraint that $x_1 \\leq 2500$.  The maximum profit is still \\\\$3500, obtained when 2000 toys and 1000 subassemlies are produced per day.  See the code cell below.\n",
    "\n",
    "See cells befow for parts b and f."
   ]
  },
  {
   "cell_type": "code",
   "execution_count": 27,
   "metadata": {},
   "outputs": [
    {
     "name": "stdout",
     "output_type": "stream",
     "text": [
      "Total Profit =  $3,500.00\n",
      "Daily Production rate of Toys:          2000.0\n",
      "Daily Production rate of Subassemblies: 1000.0\n"
     ]
    }
   ],
   "source": [
    "# Code for textbook problem 7.3-5 (a)\n",
    "\n",
    "from pyomo.environ import *\n",
    "\n",
    "# Concret Model\n",
    "model = ConcreteModel(name = \"TannerCo\")\n",
    "\n",
    "# Decision Variables \n",
    "model.x = Var( ['x1_toys','x2_subs'], \n",
    "              domain = NonNegativeReals)\n",
    "\n",
    "# Objective \n",
    "model.obj = Objective( expr = 3*model.x['x1_toys'] - 2.5*model.x['x2_subs'], sense = maximize)\n",
    "\n",
    "# Constraints\n",
    "model.Constraint1 = Constraint( expr = 2*model.x['x1_toys'] - model.x['x2_subs'] <= 3000 )\n",
    "model.Constraint2 = Constraint( expr = model.x['x1_toys'] - model.x['x2_subs'] <= 1000 )\n",
    "model.Constraint3 = Constraint( expr = model.x['x1_toys'] <= 2500 )\n",
    "\n",
    "                      \n",
    "# Solve\n",
    "solver = SolverFactory('glpk')\n",
    "solver.solve(model)\n",
    "\n",
    "# remove the comment symbol to see the pyomo display of results\n",
    "# display(model)\n",
    "\n",
    "# print a shorter summary of relevant results\n",
    "import babel.numbers as numbers   # needed to display as currency\n",
    "print(\"Total Profit = \", numbers.format_currency(model.obj(),'USD', locale='en_US'))\n",
    "print(\"Daily Production rate of Toys:         \",model.x[\"x1_toys\"]())\n",
    "print(\"Daily Production rate of Subassemblies:\",model.x[\"x2_subs\"]())"
   ]
  },
  {
   "cell_type": "markdown",
   "metadata": {},
   "source": [
    "(b) Run the model with RHS of coefficient 1 at 3001 rather than 3000. The shadow price for subassembly A is $0.50, which is the maximum premium that the company should be willing to pay.  See the code in the next cell."
   ]
  },
  {
   "cell_type": "code",
   "execution_count": 28,
   "metadata": {},
   "outputs": [
    {
     "name": "stdout",
     "output_type": "stream",
     "text": [
      "Total Profit =  $3,500.50\n",
      "Daily Production rate of Toys:          2001.0\n",
      "Daily Production rate of Subassemblies: 1001.0\n"
     ]
    }
   ],
   "source": [
    "# Code for textbook problem 7.3-5 (b)\n",
    "\n",
    "from pyomo.environ import *\n",
    "\n",
    "# Concret Model\n",
    "model = ConcreteModel(name = \"TannerCo\")\n",
    "\n",
    "# Decision Variables \n",
    "model.x = Var( ['x1_toys','x2_subs'], \n",
    "              domain = NonNegativeReals)\n",
    "\n",
    "# Objective \n",
    "model.obj = Objective( expr = 3*model.x['x1_toys'] - 2.5*model.x['x2_subs'], sense = maximize)\n",
    "\n",
    "# Constraints\n",
    "model.Constraint1 = Constraint( expr = 2*model.x['x1_toys'] - model.x['x2_subs'] <= 3001 )\n",
    "model.Constraint2 = Constraint( expr = model.x['x1_toys'] - model.x['x2_subs'] <= 1000 )\n",
    "model.Constraint3 = Constraint( expr = model.x['x1_toys'] <= 2500 )\n",
    "\n",
    "                      \n",
    "# Solve\n",
    "solver = SolverFactory('glpk')\n",
    "solver.solve(model)\n",
    "\n",
    "# remove the comment symbol to see the pyomo display of results\n",
    "# display(model)\n",
    "\n",
    "# print a shorter summary of relevant results\n",
    "import babel.numbers as numbers   # needed to display as currency\n",
    "print(\"Total Profit = \", numbers.format_currency(model.obj(),'USD', locale='en_US'))\n",
    "print(\"Daily Production rate of Toys:         \",model.x[\"x1_toys\"]())\n",
    "print(\"Daily Production rate of Subassemblies:\",model.x[\"x2_subs\"]())"
   ]
  },
  {
   "cell_type": "markdown",
   "metadata": {},
   "source": [
    "(f) As shown in the sensitivity report, the shadow price is $0.50 for subassembly A and $2 for subassembly B. According to the activity range, the allowable range for the right-hand side of the subassembly A constraint is 2,000 to 3,500. The allowable range for the right-hand side of the subassembly B constraint is 500 to 1,500."
   ]
  },
  {
   "cell_type": "code",
   "execution_count": 3,
   "metadata": {},
   "outputs": [
    {
     "name": "stdout",
     "output_type": "stream",
     "text": [
      "GLPSOL: GLPK LP/MIP Solver, v4.65\n",
      "Parameter(s) specified in the command line:\n",
      " -m model.lp --lp --ranges sensit.sen\n",
      "Reading problem data from 'model.lp'...\n",
      "4 rows, 3 columns, 6 non-zeros\n",
      "30 lines were read\n",
      "GLPK Simplex Optimizer, v4.65\n",
      "4 rows, 3 columns, 6 non-zeros\n",
      "Preprocessing...\n",
      "2 rows, 2 columns, 4 non-zeros\n",
      "Scaling...\n",
      " A: min|aij| =  1.000e+00  max|aij| =  2.000e+00  ratio =  2.000e+00\n",
      "Problem data seem to be well scaled\n",
      "Constructing initial basis...\n",
      "Size of triangular part is 2\n",
      "*     0: obj =  -0.000000000e+00 inf =   0.000e+00 (1)\n",
      "*     2: obj =   3.500000000e+03 inf =   0.000e+00 (0)\n",
      "OPTIMAL LP SOLUTION FOUND\n",
      "Time used:   0.0 secs\n",
      "Memory used: 0.0 Mb (40412 bytes)\n",
      "Write sensitivity analysis report to 'sensit.sen'...\n",
      "GLPK 4.65 - SENSITIVITY ANALYSIS REPORT                                                                         Page   1\n",
      "\n",
      "Problem:    \n",
      "Objective:  obj = 3500 (MAXimum)\n",
      "\n",
      "   No. Row name     St      Activity         Slack   Lower bound       Activity      Obj coef  Obj value at Limiting\n",
      "                                          Marginal   Upper bound          range         range   break point variable\n",
      "------ ------------ -- ------------- ------------- -------------  ------------- ------------- ------------- ------------\n",
      "     1 c_u_Constraint1_\n",
      "                    NU    3000.00000        .               -Inf     2000.00000       -.50000    3000.00000 x(x2_subs)\n",
      "                                            .50000    3000.00000     3500.00000          +Inf    3750.00000 c_u_Constraint3_\n",
      "\n",
      "     2 c_u_Constraint2_\n",
      "                    NU    1000.00000        .               -Inf      500.00000      -2.00000    2500.00000 c_u_Constraint3_\n",
      "                                           2.00000    1000.00000     1500.00000          +Inf    4500.00000 x(x2_subs)\n",
      "\n",
      "     3 c_u_Constraint3_\n",
      "                    BS    2000.00000     500.00000          -Inf     1000.00000       -.50000    2500.00000 c_u_Constraint1_\n",
      "                                            .         2500.00000           +Inf       2.00000    7500.00000 c_u_Constraint2_\n",
      "\n",
      "     4 c_e_ONE_VAR_CONSTANT\n",
      "                    NS       1.00000        .            1.00000         .               -Inf    3500.00000 ONE_VAR_CONSTANT\n",
      "                                            .            1.00000           +Inf          +Inf    3500.00000\n",
      "\n",
      "GLPK 4.65 - SENSITIVITY ANALYSIS REPORT                                                                         Page   2\n",
      "\n",
      "Problem:    \n",
      "Objective:  obj = 3500 (MAXimum)\n",
      "\n",
      "   No. Column name  St      Activity      Obj coef   Lower bound       Activity      Obj coef  Obj value at Limiting\n",
      "                                          Marginal   Upper bound          range         range   break point variable\n",
      "------ ------------ -- ------------- ------------- -------------  ------------- ------------- ------------- ------------\n",
      "     1 x(x1_toys)   BS    2000.00000       3.00000        .          1000.00000       2.50000    2500.00000 c_u_Constraint1_\n",
      "                                            .               +Inf     2500.00000       5.00000    7500.00000 c_u_Constraint2_\n",
      "\n",
      "     2 x(x2_subs)   BS    1000.00000      -2.50000        .         -1000.00000      -3.00000    3000.00000 c_u_Constraint1_\n",
      "                                            .               +Inf     2000.00000      -1.50000    4500.00000 c_u_Constraint2_\n",
      "\n",
      "     3 ONE_VAR_CONSTANT\n",
      "                    BS       1.00000        .             .             1.00000          -Inf          -Inf\n",
      "                                            .               +Inf        1.00000          +Inf          +Inf\n",
      "\n",
      "End of report\n",
      "\n"
     ]
    }
   ],
   "source": [
    "# Code for textbook problem 7.3-5 (f)\n",
    "\n",
    "from pyomo.environ import *\n",
    "\n",
    "# Concret Model\n",
    "model = ConcreteModel(name = \"TannerCo\")\n",
    "\n",
    "# Decision Variables \n",
    "model.x = Var( ['x1_toys','x2_subs'], \n",
    "              domain = NonNegativeReals)\n",
    "\n",
    "# Objective \n",
    "model.obj = Objective( expr = 3*model.x['x1_toys'] - 2.5*model.x['x2_subs'], sense = maximize)\n",
    "\n",
    "# Constraints\n",
    "model.Constraint1 = Constraint( expr = 2*model.x['x1_toys'] - model.x['x2_subs'] <= 3000 )\n",
    "model.Constraint2 = Constraint( expr = model.x['x1_toys'] - model.x['x2_subs'] <= 1000 )\n",
    "model.Constraint3 = Constraint( expr = model.x['x1_toys'] <= 2500 )\n",
    "\n",
    "                      \n",
    "# Solve\n",
    "solver = SolverFactory('glpk')\n",
    "solver.solve(model)\n",
    "\n",
    "# write the model to a sensitivity report\n",
    "model.write('model.lp', io_options={'symbolic_solver_labels': True})\n",
    "!glpsol -m model.lp --lp --ranges sensit.sen\n",
    "\n",
    "# widen browser and/or close TOC to see sensitivity report\n",
    "import numpy as np\n",
    "np.set_printoptions(linewidth=110)\n",
    "f = open('sensit.sen', 'r')\n",
    "file_contents = f.read()\n",
    "print(file_contents)\n",
    "f.close()"
   ]
  },
  {
   "cell_type": "markdown",
   "metadata": {
    "heading_collapsed": true
   },
   "source": [
    "# <font color=\"blue\">Self Assessment: Investment Allocation </font>"
   ]
  },
  {
   "cell_type": "code",
   "execution_count": 6,
   "metadata": {
    "hidden": true
   },
   "outputs": [
    {
     "name": "stdout",
     "output_type": "stream",
     "text": [
      "Maximum Profit =  $12,000.00\n",
      "Batches of Friend1 = 0.666666666666667\n",
      "Batches of Friend2 = 0.666666666666666\n"
     ]
    }
   ],
   "source": [
    "# Unfold for code\n",
    "from pyomo.environ import *\n",
    "invests = ['Friend1', 'Friend2']\n",
    "constraints = ['Fraction1','Fraction2','Money','Work_Hours']\n",
    "profit_rate = {'Friend1': 9000, 'Friend2': 9000}\n",
    "constraint_rhs = {'Fraction1':1,'Fraction2':1,'Money':12000,'Work_Hours':600}\n",
    "constraint_coef = {\n",
    "    'Fraction1': {\n",
    "        'Friend1': 1,\n",
    "        'Friend2': 0\n",
    "    },\n",
    "    'Fraction2': {\n",
    "        'Friend1': 0,\n",
    "        'Friend2': 1\n",
    "    },\n",
    "    'Money': {\n",
    "        'Friend1': 10000,\n",
    "        'Friend2': 8000\n",
    "    },\n",
    "    'Work_Hours': {\n",
    "        'Friend1': 400,\n",
    "        'Friend2': 500\n",
    "    },\n",
    "}\n",
    "\n",
    "#Concrete Model\n",
    "model = ConcreteModel()\n",
    "\n",
    "#Decision Variables\n",
    "model.invest_frac = Var(invests, domain=NonNegativeReals)\n",
    "\n",
    "#Objective\n",
    "model.profit = Objective(expr=sum(profit_rate[i] * model.invest_frac[i]\n",
    "                               for i in invests),\n",
    "                      sense=maximize)\n",
    "\n",
    "model.constraints = ConstraintList()\n",
    "for c in constraints:\n",
    "    model.constraints.add(\n",
    "        sum(constraint_coef[c][i] * model.invest_frac[i]\n",
    "            for i in invests) <= constraint_rhs[c])\n",
    "\n",
    "# Solve\n",
    "solver = SolverFactory('glpk')\n",
    "solver.solve(model)\n",
    "\n",
    "# display solution\n",
    "import babel.numbers as numbers  # needed to display as currency\n",
    "print(\"Maximum Profit = \",\n",
    "      numbers.format_currency( model.profit(), 'USD', locale='en_US'))\n",
    "\n",
    "for i in invests:\n",
    "    print(\"Batches of \" + i + \" = {}\".format(model.invest_frac[i]()))"
   ]
  },
  {
   "cell_type": "markdown",
   "metadata": {
    "heading_collapsed": true
   },
   "source": [
    "# <font color=\"blue\">Self Assessment: A Holiday Factory </font>"
   ]
  },
  {
   "cell_type": "code",
   "execution_count": 7,
   "metadata": {},
   "outputs": [],
   "source": [
    "# unfold to see Pyomo solution\n",
    "from pyomo.environ import *\n",
    "\n",
    "# Concrete Model\n",
    "model = ConcreteModel(name=\"HolidayFactory\")\n",
    "\n",
    "# Parameters and Index Sets\n",
    "num_months = 11\n",
    "max_duration = 11\n",
    "\n",
    "months = range(1, num_months + 1)\n",
    "durations = range(1, max_duration + 1)\n",
    "\n",
    "rate = [sum(20 - i for i in range(month)) for month in range(1, 12)]\n",
    "rent = dict(zip(durations, rate))\n",
    "space = dict(\n",
    "    zip(months,\n",
    "        [2000, 2000, 3000, 4000, 6000, 10000, 10000, 10000, 9000, 7000, 5000]))"
   ]
  },
  {
   "cell_type": "code",
   "execution_count": 9,
   "metadata": {
    "hidden": true
   },
   "outputs": [
    {
     "name": "stdout",
     "output_type": "stream",
     "text": [
      "Model HolidayFactory\n",
      "\n",
      "  Variables:\n",
      "    x_sqft : Size=121, Index=x_sqft_index\n",
      "        Key      : Lower : Value : Upper : Fixed : Stale : Domain\n",
      "          (1, 1) :     0 :  None :  None : False :  True : NonNegativeReals\n",
      "          (1, 2) :     0 :  None :  None : False :  True : NonNegativeReals\n",
      "          (1, 3) :     0 :  None :  None : False :  True : NonNegativeReals\n",
      "          (1, 4) :     0 :  None :  None : False :  True : NonNegativeReals\n",
      "          (1, 5) :     0 :  None :  None : False :  True : NonNegativeReals\n",
      "          (1, 6) :     0 :  None :  None : False :  True : NonNegativeReals\n",
      "          (1, 7) :     0 :  None :  None : False :  True : NonNegativeReals\n",
      "          (1, 8) :     0 :  None :  None : False :  True : NonNegativeReals\n",
      "          (1, 9) :     0 :  None :  None : False :  True : NonNegativeReals\n",
      "         (1, 10) :     0 :  None :  None : False :  True : NonNegativeReals\n",
      "         (1, 11) :     0 :  None :  None : False :  True : NonNegativeReals\n",
      "          (2, 1) :     0 :  None :  None : False :  True : NonNegativeReals\n",
      "          (2, 2) :     0 :  None :  None : False :  True : NonNegativeReals\n",
      "          (2, 3) :     0 :  None :  None : False :  True : NonNegativeReals\n",
      "          (2, 4) :     0 :  None :  None : False :  True : NonNegativeReals\n",
      "          (2, 5) :     0 :  None :  None : False :  True : NonNegativeReals\n",
      "          (2, 6) :     0 :  None :  None : False :  True : NonNegativeReals\n",
      "          (2, 7) :     0 :  None :  None : False :  True : NonNegativeReals\n",
      "          (2, 8) :     0 :  None :  None : False :  True : NonNegativeReals\n",
      "          (2, 9) :     0 :  None :  None : False :  True : NonNegativeReals\n",
      "         (2, 10) :     0 :  None :  None : False :  True : NonNegativeReals\n",
      "         (2, 11) :     0 :  None :  None : False :  True : NonNegativeReals\n",
      "          (3, 1) :     0 :  None :  None : False :  True : NonNegativeReals\n",
      "          (3, 2) :     0 :  None :  None : False :  True : NonNegativeReals\n",
      "          (3, 3) :     0 :  None :  None : False :  True : NonNegativeReals\n",
      "          (3, 4) :     0 :  None :  None : False :  True : NonNegativeReals\n",
      "          (3, 5) :     0 :  None :  None : False :  True : NonNegativeReals\n",
      "          (3, 6) :     0 :  None :  None : False :  True : NonNegativeReals\n",
      "          (3, 7) :     0 :  None :  None : False :  True : NonNegativeReals\n",
      "          (3, 8) :     0 :  None :  None : False :  True : NonNegativeReals\n",
      "          (3, 9) :     0 :  None :  None : False :  True : NonNegativeReals\n",
      "         (3, 10) :     0 :  None :  None : False :  True : NonNegativeReals\n",
      "         (3, 11) :     0 :  None :  None : False :  True : NonNegativeReals\n",
      "          (4, 1) :     0 :  None :  None : False :  True : NonNegativeReals\n",
      "          (4, 2) :     0 :  None :  None : False :  True : NonNegativeReals\n",
      "          (4, 3) :     0 :  None :  None : False :  True : NonNegativeReals\n",
      "          (4, 4) :     0 :  None :  None : False :  True : NonNegativeReals\n",
      "          (4, 5) :     0 :  None :  None : False :  True : NonNegativeReals\n",
      "          (4, 6) :     0 :  None :  None : False :  True : NonNegativeReals\n",
      "          (4, 7) :     0 :  None :  None : False :  True : NonNegativeReals\n",
      "          (4, 8) :     0 :  None :  None : False :  True : NonNegativeReals\n",
      "          (4, 9) :     0 :  None :  None : False :  True : NonNegativeReals\n",
      "         (4, 10) :     0 :  None :  None : False :  True : NonNegativeReals\n",
      "         (4, 11) :     0 :  None :  None : False :  True : NonNegativeReals\n",
      "          (5, 1) :     0 :  None :  None : False :  True : NonNegativeReals\n",
      "          (5, 2) :     0 :  None :  None : False :  True : NonNegativeReals\n",
      "          (5, 3) :     0 :  None :  None : False :  True : NonNegativeReals\n",
      "          (5, 4) :     0 :  None :  None : False :  True : NonNegativeReals\n",
      "          (5, 5) :     0 :  None :  None : False :  True : NonNegativeReals\n",
      "          (5, 6) :     0 :  None :  None : False :  True : NonNegativeReals\n",
      "          (5, 7) :     0 :  None :  None : False :  True : NonNegativeReals\n",
      "          (5, 8) :     0 :  None :  None : False :  True : NonNegativeReals\n",
      "          (5, 9) :     0 :  None :  None : False :  True : NonNegativeReals\n",
      "         (5, 10) :     0 :  None :  None : False :  True : NonNegativeReals\n",
      "         (5, 11) :     0 :  None :  None : False :  True : NonNegativeReals\n",
      "          (6, 1) :     0 :  None :  None : False :  True : NonNegativeReals\n",
      "          (6, 2) :     0 :  None :  None : False :  True : NonNegativeReals\n",
      "          (6, 3) :     0 :  None :  None : False :  True : NonNegativeReals\n",
      "          (6, 4) :     0 :  None :  None : False :  True : NonNegativeReals\n",
      "          (6, 5) :     0 :  None :  None : False :  True : NonNegativeReals\n",
      "          (6, 6) :     0 :  None :  None : False :  True : NonNegativeReals\n",
      "          (6, 7) :     0 :  None :  None : False :  True : NonNegativeReals\n",
      "          (6, 8) :     0 :  None :  None : False :  True : NonNegativeReals\n",
      "          (6, 9) :     0 :  None :  None : False :  True : NonNegativeReals\n",
      "         (6, 10) :     0 :  None :  None : False :  True : NonNegativeReals\n",
      "         (6, 11) :     0 :  None :  None : False :  True : NonNegativeReals\n",
      "          (7, 1) :     0 :  None :  None : False :  True : NonNegativeReals\n",
      "          (7, 2) :     0 :  None :  None : False :  True : NonNegativeReals\n",
      "          (7, 3) :     0 :  None :  None : False :  True : NonNegativeReals\n",
      "          (7, 4) :     0 :  None :  None : False :  True : NonNegativeReals\n",
      "          (7, 5) :     0 :  None :  None : False :  True : NonNegativeReals\n",
      "          (7, 6) :     0 :  None :  None : False :  True : NonNegativeReals\n",
      "          (7, 7) :     0 :  None :  None : False :  True : NonNegativeReals\n",
      "          (7, 8) :     0 :  None :  None : False :  True : NonNegativeReals\n",
      "          (7, 9) :     0 :  None :  None : False :  True : NonNegativeReals\n",
      "         (7, 10) :     0 :  None :  None : False :  True : NonNegativeReals\n",
      "         (7, 11) :     0 :  None :  None : False :  True : NonNegativeReals\n",
      "          (8, 1) :     0 :  None :  None : False :  True : NonNegativeReals\n",
      "          (8, 2) :     0 :  None :  None : False :  True : NonNegativeReals\n",
      "          (8, 3) :     0 :  None :  None : False :  True : NonNegativeReals\n",
      "          (8, 4) :     0 :  None :  None : False :  True : NonNegativeReals\n",
      "          (8, 5) :     0 :  None :  None : False :  True : NonNegativeReals\n",
      "          (8, 6) :     0 :  None :  None : False :  True : NonNegativeReals\n",
      "          (8, 7) :     0 :  None :  None : False :  True : NonNegativeReals\n",
      "          (8, 8) :     0 :  None :  None : False :  True : NonNegativeReals\n",
      "          (8, 9) :     0 :  None :  None : False :  True : NonNegativeReals\n",
      "         (8, 10) :     0 :  None :  None : False :  True : NonNegativeReals\n",
      "         (8, 11) :     0 :  None :  None : False :  True : NonNegativeReals\n",
      "          (9, 1) :     0 :  None :  None : False :  True : NonNegativeReals\n",
      "          (9, 2) :     0 :  None :  None : False :  True : NonNegativeReals\n",
      "          (9, 3) :     0 :  None :  None : False :  True : NonNegativeReals\n",
      "          (9, 4) :     0 :  None :  None : False :  True : NonNegativeReals\n",
      "          (9, 5) :     0 :  None :  None : False :  True : NonNegativeReals\n",
      "          (9, 6) :     0 :  None :  None : False :  True : NonNegativeReals\n",
      "          (9, 7) :     0 :  None :  None : False :  True : NonNegativeReals\n",
      "          (9, 8) :     0 :  None :  None : False :  True : NonNegativeReals\n",
      "          (9, 9) :     0 :  None :  None : False :  True : NonNegativeReals\n",
      "         (9, 10) :     0 :  None :  None : False :  True : NonNegativeReals\n",
      "         (9, 11) :     0 :  None :  None : False :  True : NonNegativeReals\n",
      "         (10, 1) :     0 :  None :  None : False :  True : NonNegativeReals\n",
      "         (10, 2) :     0 :  None :  None : False :  True : NonNegativeReals\n",
      "         (10, 3) :     0 :  None :  None : False :  True : NonNegativeReals\n",
      "         (10, 4) :     0 :  None :  None : False :  True : NonNegativeReals\n",
      "         (10, 5) :     0 :  None :  None : False :  True : NonNegativeReals\n",
      "         (10, 6) :     0 :  None :  None : False :  True : NonNegativeReals\n",
      "         (10, 7) :     0 :  None :  None : False :  True : NonNegativeReals\n",
      "         (10, 8) :     0 :  None :  None : False :  True : NonNegativeReals\n",
      "         (10, 9) :     0 :  None :  None : False :  True : NonNegativeReals\n",
      "        (10, 10) :     0 :  None :  None : False :  True : NonNegativeReals\n",
      "        (10, 11) :     0 :  None :  None : False :  True : NonNegativeReals\n",
      "         (11, 1) :     0 :  None :  None : False :  True : NonNegativeReals\n",
      "         (11, 2) :     0 :  None :  None : False :  True : NonNegativeReals\n",
      "         (11, 3) :     0 :  None :  None : False :  True : NonNegativeReals\n",
      "         (11, 4) :     0 :  None :  None : False :  True : NonNegativeReals\n",
      "         (11, 5) :     0 :  None :  None : False :  True : NonNegativeReals\n",
      "         (11, 6) :     0 :  None :  None : False :  True : NonNegativeReals\n",
      "         (11, 7) :     0 :  None :  None : False :  True : NonNegativeReals\n",
      "         (11, 8) :     0 :  None :  None : False :  True : NonNegativeReals\n",
      "         (11, 9) :     0 :  None :  None : False :  True : NonNegativeReals\n",
      "        (11, 10) :     0 :  None :  None : False :  True : NonNegativeReals\n",
      "        (11, 11) :     0 :  None :  None : False :  True : NonNegativeReals\n",
      "\n",
      "  Objectives:\n",
      "    obj : Size=1, Index=None, Active=True\n",
      "ERROR: evaluating object as numeric value: x_sqft[1,1]\n",
      "        (object: <class 'pyomo.core.base.var._GeneralVarData'>)\n",
      "    No value for uninitialized NumericValue object x_sqft[1,1]\n",
      "ERROR: evaluating object as numeric value: obj\n",
      "        (object: <class 'pyomo.core.base.objective.SimpleObjective'>)\n",
      "    No value for uninitialized NumericValue object x_sqft[1,1]\n",
      "        Key : Active : Value\n",
      "        None :   None :  None\n",
      "\n",
      "  Constraints:\n",
      "    None\n"
     ]
    }
   ],
   "source": [
    "# unfold to see Pyomo solution\n",
    "from pyomo.environ import *\n",
    "\n",
    "# Concrete Model\n",
    "model = ConcreteModel(name=\"HolidayFactory\")\n",
    "\n",
    "# Parameters and Index Sets\n",
    "num_months = 11\n",
    "max_duration = 11\n",
    "\n",
    "months = range(1, num_months + 1)\n",
    "durations = range(1, max_duration + 1)\n",
    "\n",
    "rate = [sum(20 - i for i in range(month)) for month in range(1, 12)]\n",
    "rent = dict(zip(durations, rate))\n",
    "space = dict(\n",
    "    zip(months,\n",
    "        [2000, 2000, 3000, 4000, 6000, 10000, 10000, 10000, 9000, 7000, 5000]))\n",
    "\n",
    "# Decision Variables\n",
    "model.x_sqft = Var(months, durations, domain=NonNegativeReals)\n",
    "\n",
    "# Objective\n",
    "model.obj = Objective(expr=sum(rent[d] * model.x_sqft[m, d] for m in months\n",
    "                               for d in durations))\n",
    "\n",
    "\n",
    "model.display()\n",
    "# # Constraints\n",
    "# model.space_ct = ConstraintList()\n",
    "# for month in months:\n",
    "#     model.space_ct.add(\n",
    "#         sum(model.x_sqft[m, d] for m in months for d in durations\n",
    "#             if m <= month and m + d > month) >= space[month])\n",
    "\n",
    "# model.time_rule_ct = ConstraintList()\n",
    "# for m in months:\n",
    "#     for d in durations:\n",
    "#         if m + d > num_months + 1:\n",
    "#             model.time_rule_ct.add(model.x_sqft[m, d] == 0)\n",
    "\n",
    "# # Solve\n",
    "# solver = SolverFactory('glpk')\n",
    "# solver.solve(model)\n",
    "\n",
    "# # print a short summary of relevant results\n",
    "# import babel.numbers as numbers  # needed to display as currency\n",
    "# print(\"Total Cost = \",\n",
    "#       numbers.format_currency(model.obj(), 'USD', locale='en_US'))\n",
    "\n",
    "# print(\"\\nHere are the amounts to lease by month and duration:\")\n",
    "# for m in months:\n",
    "#     for d in durations:\n",
    "#         if model.x_sqft[m, d]() > 0:\n",
    "#             print(\"Lease {:.0f}\".format(model.x_sqft[m, d]()) +\n",
    "#                   \" sq ft in month {:d}\".format(m) +\n",
    "#                   \" for {:d} months\".format(d))\n",
    "\n",
    "# print(\"\\nHere are the amounts needed and the total amount needed in each month:\")\n",
    "# for m in months:\n",
    "#     print(\"In month {:d}\".format(m) +\n",
    "#           \", {:d} square feet are needed\".format(space[m]) +\n",
    "#           \" and {} square feet are leased\".format(\n",
    "#               sum(model.x_sqft[i, d]() for d in durations\n",
    "#                   for i in months if i <= m and i + d > m)))"
   ]
  },
  {
   "cell_type": "markdown",
   "metadata": {
    "heading_collapsed": true
   },
   "source": [
    "# <font color=\"blue\">Self Assessment: Supply and Demand Problem </font>"
   ]
  },
  {
   "cell_type": "markdown",
   "metadata": {
    "hidden": true
   },
   "source": [
    "Let $F$ be the set of factories and let $C$ be the set of customers.\n",
    "\n",
    "Decision Variables:  let $x_{f,c}$ be the number of units shipped from factory $f \\in F$ to customer $c \\in C$\n",
    "\n",
    "Constants:  \n",
    "- $q_{f,c}$ is the shipping cost per unit between factory $f \\in F$ and customer $c \\in C$\n",
    "- $d_c$ is the number of units demanded by customer $c \\in C$\n",
    "- $s_f$ is the number of units supplied by factory $f \\in F$\n",
    "\n",
    "Objective Function:  minimize $ Cost = \\displaystyle \\sum_{f \\in F} \\sum_{c \\in C} q_{f,c} x_{f,c}$\n",
    "\n",
    "Constraints:\n",
    "- Supply: $ \\displaystyle \\sum_{c \\in C} x_{f,c} = s_f, \\mbox{ for each } f \\in F$\n",
    "- Demand: $ \\displaystyle \\sum_{f \\in F} x_{f,c} = d_c, \\mbox{ for each } c \\in C$\n",
    "- Nonnegativity: $x_{f,c} \\geq 0$ for each $f \\in F, c \\in C$"
   ]
  },
  {
   "cell_type": "code",
   "execution_count": 13,
   "metadata": {
    "hidden": true
   },
   "outputs": [
    {
     "name": "stdout",
     "output_type": "stream",
     "text": [
      "Minimum Total Cost =  $540,000.00\n",
      "Number to ship from each factory to each customer:\n",
      "demand_ct : Size=3, Index=demand_ct_index, Active=True\n",
      "    Key : Lower : Body                                            : Upper : Active\n",
      "      1 : 300.0 : transp[factory1,cust1] + transp[factory2,cust1] : 300.0 :   True\n",
      "      2 : 200.0 : transp[factory1,cust2] + transp[factory2,cust2] : 200.0 :   True\n",
      "      3 : 400.0 : transp[factory1,cust3] + transp[factory2,cust3] : 400.0 :   True\n"
     ]
    }
   ],
   "source": [
    "# unfold to see Pyomo solution\n",
    "from pyomo.environ import *\n",
    "\n",
    "factories = ['factory1', 'factory2']\n",
    "supply = dict(zip(factories, [400, 500]))\n",
    "\n",
    "customers = ['cust1', 'cust2', 'cust3']\n",
    "demand = dict(zip(customers, [300, 200, 400]))\n",
    "\n",
    "usc = [[600, 800, 700], [400, 900, 600]]\n",
    "unit_ship_cost = {\n",
    "    factories[f]: {customers[c]: usc[f][c]\n",
    "                   for c in range(len(customers))}\n",
    "    for f in range(len(factories))\n",
    "}\n",
    "\n",
    "# throw an error if total supply and demand do not match\n",
    "assert (sum(supply.values()) == sum(demand.values()))\n",
    "\n",
    "from pyomo.environ import *\n",
    "\n",
    "model = ConcreteModel()\n",
    "\n",
    "model.transp = Var(factories, customers, domain=NonNegativeReals)\n",
    "\n",
    "\n",
    "model.total_cost = Objective(expr=sum(unit_ship_cost[f][c] * model.transp[f, c]\n",
    "                                      for f in factories for c in customers),\n",
    "                             sense=minimize)\n",
    "\n",
    "model.supply_ct = ConstraintList()\n",
    "for f in factories:\n",
    "    model.supply_ct.add(\n",
    "        sum(model.transp[f, c] for c in customers) == supply[f])\n",
    "\n",
    "model.demand_ct = ConstraintList()\n",
    "for c in customers:\n",
    "    model.demand_ct.add(\n",
    "        sum(model.transp[f, c] for f in factories) == demand[c])\n",
    "\n",
    "# solve and display\n",
    "solver = SolverFactory('glpk')\n",
    "solver.solve(model)\n",
    "\n",
    "# display solution\n",
    "import babel.numbers as numbers  # needed to display as currency\n",
    "print(\"Minimum Total Cost = \",\n",
    "      numbers.format_currency(model.total_cost(), 'USD', locale='en_US'))\n",
    "# put amounts in dataframe for nicer display\n",
    "import pandas as pd\n",
    "dvars = pd.DataFrame([[model.transp[f, c]() for c in customers]\n",
    "                      for f in factories],\n",
    "                     index=factories,\n",
    "                     columns=customers)\n",
    "print(\"Number to ship from each factory to each customer:\")\n",
    "dvars"
   ]
  },
  {
   "cell_type": "code",
   "execution_count": 0,
   "metadata": {
    "hidden": true
   },
   "outputs": [],
   "source": []
  }
 ],
 "metadata": {
  "kernelspec": {
   "display_name": "Python 3",
   "language": "python",
   "name": "python3"
  },
  "language_info": {
   "codemirror_mode": {
    "name": "ipython",
    "version": 3
   },
   "file_extension": ".py",
   "mimetype": "text/x-python",
   "name": "python",
   "nbconvert_exporter": "python",
   "pygments_lexer": "ipython3",
   "version": "3.7.3"
  },
  "toc": {
   "base_numbering": 1,
   "nav_menu": {},
   "number_sections": true,
   "sideBar": true,
   "skip_h1_title": false,
   "title_cell": "Table of Contents",
   "title_sidebar": "Contents",
   "toc_cell": false,
   "toc_position": {
    "height": "calc(100% - 180px)",
    "left": "10px",
    "top": "150px",
    "width": "226.797px"
   },
   "toc_section_display": true,
   "toc_window_display": true
  },
  "varInspector": {
   "cols": {
    "lenName": 16,
    "lenType": 16,
    "lenVar": 40
   },
   "kernels_config": {
    "python": {
     "delete_cmd_postfix": "",
     "delete_cmd_prefix": "del ",
     "library": "var_list.py",
     "varRefreshCmd": "print(var_dic_list())"
    },
    "r": {
     "delete_cmd_postfix": ") ",
     "delete_cmd_prefix": "rm(",
     "library": "var_list.r",
     "varRefreshCmd": "cat(var_dic_list()) "
    }
   },
   "types_to_exclude": [
    "module",
    "function",
    "builtin_function_or_method",
    "instance",
    "_Feature"
   ],
   "window_display": false
  }
 },
 "nbformat": 4,
 "nbformat_minor": 1
}
