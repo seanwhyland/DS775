{
 "cells": [
  {
   "cell_type": "code",
   "execution_count": 1,
   "metadata": {
    "code_folding": [
     0
    ]
   },
   "outputs": [],
   "source": [
    "# execute to import notebook styling for tables and width etc.\n",
    "from IPython.core.display import HTML\n",
    "import urllib.request\n",
    "response = urllib.request.urlopen('https://raw.githubusercontent.com/DataScienceUWL/DS775v2/master/ds755.css')\n",
    "HTML(response.read().decode(\"utf-8\"));"
   ]
  },
  {
   "cell_type": "code",
   "execution_count": 13,
   "metadata": {},
   "outputs": [
    {
     "data": {
      "text/html": [
       "<style>.container { width:80% !important; }</style>"
      ],
      "text/plain": [
       "<IPython.core.display.HTML object>"
      ]
     },
     "metadata": {},
     "output_type": "display_data"
    }
   ],
   "source": [
    "from IPython.core.display import display, HTML\n",
    "display(HTML(\"<style>.container { width:80% !important; }</style>\"))"
   ]
  },
  {
   "cell_type": "markdown",
   "metadata": {},
   "source": [
    "<font size=18>Lesson 06 Homework</font>"
   ]
  },
  {
   "cell_type": "markdown",
   "metadata": {},
   "source": [
    "# Textbook Problem 12.2-4"
   ]
  },
  {
   "cell_type": "markdown",
   "metadata": {},
   "source": [
    "Reconsider the Wyndor Glass Co. problem presented in Sec. 3.1. Management now has decided that **only one** of the two new products should be produced, and the choice is to be made on the basis of maximizing profit. Introduce auxiliary binary variables to formulate an MIP model for this new version of the problem.\n",
    "\n",
    "(a) Introduce auxiliary binary variables to formulate a mixed BIP model for this problem. Include a picture or LaTeX of the mathematical formulation in the next cell.\n",
    "\n",
    "<font color = \"blue\"> *** 4 points -  answer in cell below *** (don't delete this cell) </font>"
   ]
  },
  {
   "cell_type": "markdown",
   "metadata": {},
   "source": [
    "Maximize $Z = 3 x_1 + 5 x_2$\n",
    "\n",
    "Subject to:\n",
    "\n",
    "$\n",
    "\\begin{array}{ccccc}\n",
    " x_1 &   &      & \\leq & 4 \\\\\n",
    "     &   & 2x_2 & \\leq & 12 \\\\\n",
    " 3x_1 & + & 2x_2 & \\leq & 18 \\\\\n",
    " xb_1 & + & xb_2 & = & 1 \\\\\n",
    "\\end{array}\n",
    "$\n",
    "\n",
    "$x_1 \\geq 0$, $x_2 \\geq 0$"
   ]
  },
  {
   "cell_type": "markdown",
   "metadata": {},
   "source": [
    "b) Use Pyomo to solve this model. You can use a concrete or an abstract formulation.\n",
    "\n",
    "<font color = \"blue\"> *** 6 points -  answer in cell below *** (don't delete this cell) </font>"
   ]
  },
  {
   "cell_type": "code",
   "execution_count": 17,
   "metadata": {},
   "outputs": [
    {
     "name": "stdout",
     "output_type": "stream",
     "text": [
      "Profit =  $30.00\n",
      "\n",
      "Which products and how many:\n",
      "Do not produce drs\n",
      "Produce 6 of wdw\n"
     ]
    }
   ],
   "source": [
    "# unfold to see Pyomo solution with a vector of decision variables\n",
    "from pyomo.environ import *\n",
    "\n",
    "# Concrete Model\n",
    "model = ConcreteModel(name=\"Wyndor\")\n",
    "\n",
    "products = ['drs', 'wdw']\n",
    "bigM = 100\n",
    "\n",
    "bounds_dict = {'drs': (0, 4), 'wdw': (0, 6)}\n",
    "def bounds_rule(model, product):\n",
    "    return (bounds_dict[product])\n",
    "\n",
    "model.x = Var(products, domain = Reals, bounds=bounds_rule)\n",
    "model.xb = Var(products, domain = Boolean)\n",
    "\n",
    "# Objective\n",
    "model.profit = Objective(expr=3.0*model.x['drs'] + 5.0*model.x['wdw'],\n",
    "                         sense=maximize)\n",
    "\n",
    "# Constraints\n",
    "model.Constraint0 = Constraint(expr=model.xb['drs'] + model.xb['wdw'] == 1)\n",
    "model.Constraint1 = Constraint(expr=3.0 * model.x['drs'] + 2.0 * model.x['wdw'] <= 18)\n",
    "\n",
    "model.Constraints = ConstraintList()\n",
    "\n",
    "for pr in products:  # produce product only if product is chosen\n",
    "    model.Constraints.add(model.x[pr] <= 100 * model.xb[pr])\n",
    "\n",
    "# Solve\n",
    "solver = SolverFactory('glpk')\n",
    "solver.solve(model)\n",
    "\n",
    "# display(model)\n",
    "\n",
    "# display solution\n",
    "import babel.numbers as numbers  # needed to display as currency\n",
    "print(\"Profit = \",\n",
    "      numbers.format_currency(model.profit(), 'USD', locale='en_US'))\n",
    "\n",
    "print(\"\\nWhich products and how many:\")\n",
    "for pr in products:\n",
    "    if bool(model.xb[pr]()):\n",
    "        print(f\"Produce {round(model.x[pr]())} of {pr}\")\n",
    "    else:\n",
    "        print(f\"Do not produce {pr}\")"
   ]
  },
  {
   "cell_type": "markdown",
   "metadata": {},
   "source": [
    "# Textbook Problem 12.3-1"
   ]
  },
  {
   "cell_type": "markdown",
   "metadata": {},
   "source": [
    "The Research and Development Division of the Progressive Company has been developing four possible new product lines. Management must now make a decision as to which of these four products actually will be produced and at what levels. Therefore, an operations research study has been requested to find the most profitable product mix.\n",
    "\n",
    "A substantial cost is associated with beginning the production of any product, as given in the first row of the following table. Management’s objective is to find the product mix that maximizes the total profit (total net revenue minus start-up costs).\n",
    "\n",
    "<img src=\"images/screen-prob12_3-1.png\" alt=\"Solution\" width=\"350\" height=\"150\">\n",
    "\n",
    "Let the continuous decision variables $x_1, x_2, x_3,$ and $x_4$ be the production levels of products 1, 2, 3, and 4, respectively. Management has imposed the following policy constraints on these variables:\n",
    "\n",
    "1. No more than two of the products can be produced.\n",
    "\n",
    "2. Either product 3 or 4 can be produced only if either product 1 or 2 is produced.\n",
    "\n",
    "3. Either \n",
    "\n",
    "$$5x_1 + 3x_2 + 6x_3 + 4x_4 \\leq  6,000 $$\n",
    "\n",
    "$$\\text{or}$$ \n",
    "\n",
    "$$4x_1 + 6x_2 + 3x_3 + 5x_4 \\leq 6,000 $$.\n",
    "\n",
    "(a) Introduce auxiliary binary variables to formulate a mixed BIP model for this problem.  Include a picture or LaTeX of the mathematical formulation in the next cell.\n",
    "\n",
    "<font color = \"blue\"> *** 6 points -  answer in cell below *** (don't delete this cell) </font>"
   ]
  },
  {
   "cell_type": "markdown",
   "metadata": {},
   "source": [
    "Maximize $Z = 70x_1 - 50000 + 60x_2 - 40000 + 90x_3 - 70000 + 80x_4 - 60000$\n",
    "\n",
    "Subject to:\n",
    "\n",
    "$\n",
    "\\begin{array}{l}\n",
    "xb_1 + xb_2 + xb_3 + xb_4 \\leq 2 \\\\\n",
    "-xb_1 - xb_2 + xb_3 + xb_4 \\leq 0 \\\\\n",
    "5x_1 + 3x_2 + 6x_3 + 4x_4 \\leq  6,000 \\\\\n",
    "4x_1 + 6x_2 + 3x_3 + 5x_4 \\leq 6,000 \\\\\n",
    "\\end{array}\n",
    "$"
   ]
  },
  {
   "cell_type": "markdown",
   "metadata": {},
   "source": [
    "(b) Use Pyomo to solve this model. Use an abstract formulation.\n",
    "\n",
    "<font color = \"blue\"> *** 10 points -  answer in cell below *** (don't delete this cell) </font>"
   ]
  },
  {
   "cell_type": "code",
   "execution_count": 20,
   "metadata": {},
   "outputs": [
    {
     "name": "stdout",
     "output_type": "stream",
     "text": [
      "\n",
      "Which products and how many:\n",
      "Produce 667 of Product1\n",
      "Do not produce Product2\n",
      "Do not produce Product3\n",
      "Produce 667 of Product4\n"
     ]
    }
   ],
   "source": [
    "# unfold to see Pyomo solution with a vector of decision variables\n",
    "from pyomo.environ import *\n",
    "\n",
    "# Concrete Model\n",
    "model = ConcreteModel(name=\"prob2\")\n",
    "\n",
    "# define vars\n",
    "products = ['Product1', 'Product2', 'Product3','Product4']\n",
    "unit_profit = dict(zip(products, [70,60,90,80]))\n",
    "startup_cost = dict(zip(products, [50000, 40000, 70000, 60000]))\n",
    "\n",
    "model.x = Var(products, domain=NonNegativeReals)\n",
    "model.xb = Var(products, domain=Boolean)\n",
    "\n",
    "bigM = 10000\n",
    "\n",
    "# Objective\n",
    "model.profit = Objective(expr=sum((unit_profit[pr]*model.x[pr])-startup_cost[pr] for pr in products),\n",
    "                         sense=maximize)\n",
    "\n",
    "# Constraints\n",
    "model.constraints = ConstraintList()\n",
    "\n",
    "# no more than 2 products to be produced\n",
    "model.constraints.add(sum(model.xb[product] for product in products) <= 2)\n",
    "\n",
    "# Either product 3 or 4 can be produced only if either product 1 or 2 is produced\n",
    "model.constraints.add(expr=-model.xb['Product1'] - model.xb['Product2'] + model.xb['Product3'] + model.xb['Product4'] <= 0)\n",
    "\n",
    "# either formula\n",
    "for pr in products: \n",
    "    model.constraints.add(5*model.x['Product1'] + 3*model.x['Product2'] + 6*model.x['Product3'] + 4*model.x['Product4'] <= 6000 + bigM * model.xb[pr])\n",
    "    model.constraints.add(4*model.x['Product1'] + 6*model.x['Product2'] + 3*model.x['Product3'] + 5*model.x['Product4'] <= 6000 + bigM * (1-model.xb[pr])) \n",
    "\n",
    "for pr in products:  # produce product only if product is chosen\n",
    "    model.constraints.add(model.x[pr] <= bigM * model.xb[pr])\n",
    "    \n",
    "# Solve\n",
    "solver = SolverFactory('glpk')\n",
    "solver.solve(model)\n",
    "\n",
    "# display solution\n",
    "print(\"\\nWhich products and how many:\")\n",
    "for pr in products:\n",
    "    if bool(model.xb[pr]()):\n",
    "        print(f\"Produce {round(model.x[pr]())} of {pr}\")\n",
    "    else:\n",
    "        print(f\"Do not produce {pr}\")"
   ]
  },
  {
   "cell_type": "markdown",
   "metadata": {},
   "source": [
    "# Textbook Problem 12.4-6"
   ]
  },
  {
   "cell_type": "markdown",
   "metadata": {},
   "source": [
    "Speedy Delivery provides two-day delivery service of large parcels across the United States. Each morning at each collection center, the parcels that have arrived overnight are loaded onto several trucks for delivery throughout the area. Since the competitive battlefield in this business is speed of delivery, the parcels are divided among the trucks according to their geographical destinations to minimize the average time needed to make the deliveries.\n",
    "\n",
    "On this particular morning, the dispatcher for the Blue River Valley Collection Center, Sharon Lofton, is hard at work. Her three drivers will be arriving in less than an hour to make the day’s deliveries. There are nine parcels to be delivered, all at locations many miles apart. As usual, Sharon has loaded these locations into her computer. She is using her company’s special software package, a decision support system called Dispatcher. The first thing Dispatcher does is use these locations to generate a considerable number of attractive possible routes for the individual delivery trucks. These routes are shown in the following table (where the numbers in each column indicate the order of the deliveries), along with the estimated time required to traverse the route.\n",
    "\n",
    "<img src=\"images/screen-prob12_4-6.png\" alt=\"Solution\" width=\"350\" height=\"150\">\n",
    "\n",
    "\n",
    "Dispatcher is an interactive system that shows these routes to Sharon for her approval or modification. (For example, the computer may not know that flooding has made a particular route infeasible.) After Sharon approves these routes as attractive possibilities with reasonable time estimates, Dispatcher next formulates and solves a BIP model for selecting three routes that minimize their total time while including each delivery location on exactly one route. This morning, Sharon does approve all the routes.\n",
    "\n",
    "(a) Formulate this BIP model.  Include a picture or LaTeX of the mathematical formulation in the next cell.\n",
    "\n",
    "<font color = \"blue\"> *** 6 points -  answer in cell below *** (don't delete this cell) </font>"
   ]
  },
  {
   "cell_type": "markdown",
   "metadata": {},
   "source": [
    "$\n",
    "x = routes\\\\\n",
    "y = delivery\\ locations\\\\\n",
    "$\n",
    "\n",
    "Minimize $Z = 6x_0 + 4x_1 + 7x_2 + 5x_3 + 4x_4 + 6x_5 + 5x_6 + 3x_7 + 7x_8 + 6x_9$\n",
    "\n",
    "Subject to:\n",
    "\n",
    "$\n",
    "\\begin{array}{l}\n",
    "x_0 + x_1 + x_2 + x_3 + x_4 + x_5 + x_6 + x_7 + x_8 + x_9 = 3 \\\\\n",
    "y_j = 1\n",
    "\\end{array}\n",
    "$"
   ]
  },
  {
   "cell_type": "markdown",
   "metadata": {},
   "source": [
    "(b) Use Pyomo solve this model.  Use an abstract formulation.\n",
    "\n",
    "<font color = \"blue\"> *** 10 points -  answer in cell below *** (don't delete this cell) </font>"
   ]
  },
  {
   "cell_type": "code",
   "execution_count": 23,
   "metadata": {},
   "outputs": [
    {
     "name": "stdout",
     "output_type": "stream",
     "text": [
      "Minimum time =  12.0\n",
      "\n",
      "Which routes:\n",
      "route4\n",
      "route5\n",
      "route8\n"
     ]
    }
   ],
   "source": [
    "# unfold to see Pyomo solution with a vector of decision variables\n",
    "import numpy as np\n",
    "from pyomo.environ import *\n",
    "\n",
    "# define vars\n",
    "routes = ['route1', 'route2', 'route3','route4', 'route5', 'route6','route7', 'route8','route9', 'route10']\n",
    "locations = ['A', 'B', 'C','D', 'E', 'F','G', 'H','I']\n",
    "route_time = dict(zip(routes, [6,4,7,5,4,6,5,3,7,6]))\n",
    "routes_locations = [[1,0,0,1,0,0,1,0,0],\n",
    "                    [0,1,0,0,0,1,0,0,1],\n",
    "                    [0,0,1,0,1,0,0,1,0],\n",
    "                    [0,1,1,0,1,0,0,0,1],\n",
    "                    [1,0,0,0,0,1,0,1,0],\n",
    "                    [0,1,0,1,1,0,0,0,0],\n",
    "                    [0,0,1,0,0,0,1,0,1],\n",
    "                    [0,0,0,1,0,0,1,0,0],\n",
    "                    [1,1,1,0,0,0,0,0,0],\n",
    "                    [0,1,0,0,0,0,1,1,0]]\n",
    "\n",
    "# get tranpose of routes_locations\n",
    "locations_routes = np.array(routes_locations).T.tolist()\n",
    "\n",
    "routes_locations_mapped = {}\n",
    "locations_routes_mapped = {}\n",
    "\n",
    "# create mapping dicts\n",
    "for i, (route, route_locations) in enumerate(zip(routes,routes_locations)):\n",
    "    routes_locations_mapped[route] = dict(zip(locations, route_locations))\n",
    "    \n",
    "for i, (loc, location_route) in enumerate(zip(locations,locations_routes)):\n",
    "    locations_routes_mapped[loc] = dict(zip(routes, location_route))\n",
    "\n",
    "# Concrete Model\n",
    "model = ConcreteModel(name=\"prob3\")\n",
    "\n",
    "model.routes = Var(routes, domain=Boolean)\n",
    "model.routes_locations = Var(routes, locations, domain=Boolean)\n",
    "model.locations = Var(locations, domain=Boolean)\n",
    "\n",
    "# Objective\n",
    "model.time = Objective(expr=sum(route_time[route]*model.routes[route] for route in routes),\n",
    "                         sense=minimize)\n",
    "\n",
    "# Constraints\n",
    "model.Constraints = ConstraintList()\n",
    "\n",
    "# total routes == 3\n",
    "model.Constraints.add(sum(model.routes[route] for route in routes) == 3)\n",
    "\n",
    "# every delivery should be made between 3 routes\n",
    "for loc in locations:\n",
    "    model.Constraints.add(\n",
    "        sum(model.routes[route] * locations_routes_mapped[loc][route] for route in routes) >= 1)\n",
    "\n",
    "# Solve\n",
    "solver = SolverFactory('glpk')\n",
    "solver.solve(model)\n",
    "\n",
    "# display solution\n",
    "import babel.numbers as numbers  # needed to display as currency\n",
    "print(\"Minimum time = \", model.time())\n",
    "print(\"\\nWhich routes:\")\n",
    "for route in routes:\n",
    "    if bool(model.routes[route]()):\n",
    "        print(f\"{route}\")"
   ]
  },
  {
   "cell_type": "markdown",
   "metadata": {},
   "source": [
    "# Knapsack optimization"
   ]
  },
  {
   "cell_type": "markdown",
   "metadata": {},
   "source": [
    "We'll revisit the Knapsack Optimization problem from Lesson 4 and 5. This time, we'll solve it using integer programming.\n",
    "\n",
    "Given a set of items, each with a weight and a value, use binary variables and Pyomo to determine which items to include in a collection such that the total weight is less than or equal to a given limit and the total value is as large as possible. We will start with 20 items and you need to determine the collection of items that maximizes the value and keeps the total weight less than or equal to 50. \n",
    "\n",
    "Use the problem data as described below:"
   ]
  },
  {
   "cell_type": "code",
   "execution_count": null,
   "metadata": {},
   "outputs": [],
   "source": [
    "#Problem Data - generate random weights and values for a knapsack problem\n",
    "import numpy as np\n",
    "num_items = 20\n",
    "np.random.seed(seed=123)\n",
    "values = np.random.randint(low=5, high=50, size=num_items)\n",
    "weights = np.random.randint(low=1, high=10, size=num_items)\n",
    "np.random.seed() # use system clock to reset the seed so future random numbers will appear random"
   ]
  },
  {
   "cell_type": "markdown",
   "metadata": {},
   "source": [
    "Your Pyomo solution should go in the next cell.  Your code should still work if the number of items is changed to 40 or more.\n",
    "\n",
    "<font color = \"blue\"> *** 8 points -  answer in cell below *** (don't delete this cell) </font>"
   ]
  },
  {
   "cell_type": "code",
   "execution_count": null,
   "metadata": {},
   "outputs": [],
   "source": [
    "from pyomo.environ import *"
   ]
  }
 ],
 "metadata": {
  "kernelspec": {
   "display_name": "anaconda3",
   "language": "python",
   "name": "anaconda3"
  },
  "language_info": {
   "codemirror_mode": {
    "name": "ipython",
    "version": 3
   },
   "file_extension": ".py",
   "mimetype": "text/x-python",
   "name": "python",
   "nbconvert_exporter": "python",
   "pygments_lexer": "ipython3",
   "version": "3.7.3"
  },
  "toc": {
   "base_numbering": 1,
   "nav_menu": {},
   "number_sections": true,
   "sideBar": true,
   "skip_h1_title": false,
   "title_cell": "Table of Contents",
   "title_sidebar": "Contents",
   "toc_cell": false,
   "toc_position": {
    "height": "calc(100% - 180px)",
    "left": "10px",
    "top": "150px",
    "width": "263.083px"
   },
   "toc_section_display": true,
   "toc_window_display": true
  },
  "varInspector": {
   "cols": {
    "lenName": 16,
    "lenType": 16,
    "lenVar": 40
   },
   "kernels_config": {
    "python": {
     "delete_cmd_postfix": "",
     "delete_cmd_prefix": "del ",
     "library": "var_list.py",
     "varRefreshCmd": "print(var_dic_list())"
    },
    "r": {
     "delete_cmd_postfix": ") ",
     "delete_cmd_prefix": "rm(",
     "library": "var_list.r",
     "varRefreshCmd": "cat(var_dic_list()) "
    }
   },
   "types_to_exclude": [
    "module",
    "function",
    "builtin_function_or_method",
    "instance",
    "_Feature"
   ],
   "window_display": false
  }
 },
 "nbformat": 4,
 "nbformat_minor": 1
}
