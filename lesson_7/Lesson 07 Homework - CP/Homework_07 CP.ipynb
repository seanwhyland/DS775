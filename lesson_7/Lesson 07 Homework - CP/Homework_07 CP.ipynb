{
 "cells": [
  {
   "cell_type": "markdown",
   "metadata": {},
   "source": [
    "# Textbook Problem 12.9-2"
   ]
  },
  {
   "cell_type": "markdown",
   "metadata": {},
   "source": [
    "Consider the following problem:\n",
    "\n",
    "Maximize $Z = 5x_1 - x_1^2 + 8x_2 - x_2^2 + 10x_3 - x_3^2 + 15 x_4 - x_4^2 + 20 x_5 - x_5^2$\n",
    "\n",
    "subject to \n",
    "\n",
    "$ x_1 \\in \\{3,6,12\\}, x_2 \\in \\{3,6\\}, x_3 \\in \\{3,6,9,12\\}, x_4 \\in \\{6,12\\}, x_5 \\in \\{9,12,15,18\\}$\n",
    "\n",
    "$x_1, x_2, x_3, x_4, x_5$ must all be different \n",
    "\n",
    "$x_1 + x_3 + x_4 \\leq 25$\n",
    "\n",
    "**(a)** Without doing any optimization, use CP-SAT to make a list of all feasible solutions.  Your code should be easily generalizable (use an abstract approach).  \n",
    "\n",
    "<font color = \"blue\"> *** 8 points -  answer in cell below *** (don't delete this cell) </font>"
   ]
  },
  {
   "cell_type": "code",
   "execution_count": 1,
   "metadata": {},
   "outputs": [
    {
     "name": "stdout",
     "output_type": "stream",
     "text": [
      "x1 = 3 x2 = 6 x3 = 9 x4 = 12 x5 = 15 \n",
      "x1 = 3 x2 = 6 x3 = 9 x4 = 12 x5 = 18 \n",
      "Status = OPTIMAL\n",
      "Number of solutions found: 2\n"
     ]
    }
   ],
   "source": [
    "from ortools.sat.python import cp_model\n",
    "\n",
    "class VarArraySolutionPrinter(cp_model.CpSolverSolutionCallback):\n",
    "    \"\"\"Print intermediate solutions.\"\"\"\n",
    "\n",
    "    def __init__(self, variables):\n",
    "        cp_model.CpSolverSolutionCallback.__init__(self)\n",
    "        self.__variables = variables\n",
    "        self.__solution_count = 0\n",
    "\n",
    "    def on_solution_callback(self):\n",
    "        self.__solution_count += 1\n",
    "        for v in self.__variables:\n",
    "            print(f'{v} = {self.Value(v)}', end = ' ')\n",
    "        print()\n",
    "\n",
    "    def solution_count(self):\n",
    "        return self.__solution_count\n",
    "\n",
    "# Create the model.\n",
    "model = cp_model.CpModel()\n",
    "\n",
    "# Creates the variables.\n",
    "sets_dict = { 'x1':[3,6,12], 'x2':[3,6], 'x3':[3,6,9,12], 'x4': [6,12], \n",
    "            'x5': [9,12,15,18]}\n",
    "\n",
    "dvars = [model.NewIntVarFromDomain(cp_model.Domain.FromValues(sets_dict[v]),v) for v in sets_dict.keys()]\n",
    "\n",
    "# Creates the constraints.\n",
    "model.Add(dvars[0] + dvars[2] + dvars[3] <= 25)\n",
    "model.AddAllDifferent(dvars)\n",
    "\n",
    "# Creates a solver and solves the model.\n",
    "solver = cp_model.CpSolver()\n",
    "solution_printer = VarArraySolutionPrinter([x for x in dvars])\n",
    "status = solver.SearchForAllSolutions(model, solution_printer)\n",
    "\n",
    "print(f'Status = {solver.StatusName(status)}')\n",
    "print(f'Number of solutions found: {solution_printer.solution_count()}')"
   ]
  },
  {
   "cell_type": "markdown",
   "metadata": {},
   "source": [
    "**(b)** Now use CP-SAT to solve the optimization problem.  Your code should be easily generalizable (use an abstract approach).  \n",
    "\n",
    "<font color = \"blue\"> *** 8 points -  answer in cell below *** (don't delete this cell) </font>"
   ]
  },
  {
   "cell_type": "code",
   "execution_count": 2,
   "metadata": {},
   "outputs": [
    {
     "name": "stdout",
     "output_type": "stream",
     "text": [
      "The maximum value of the objective function is 138.0\n",
      "\n",
      "x1 = 3\n",
      "x2 = 6\n",
      "x3 = 9\n",
      "x4 = 12\n",
      "x5 = 15\n"
     ]
    }
   ],
   "source": [
    "from ortools.sat.python import cp_model\n",
    "\n",
    "# Create the model.\n",
    "model = cp_model.CpModel()\n",
    "\n",
    "# Creates the variables.\n",
    "sets_dict = { 'x1':[3,6,12], 'x2':[3,6], 'x3':[3,6,9,12], 'x4': [6,12], \n",
    "            'x5': [9,12,15,18]}\n",
    "\n",
    "dvars = [model.NewIntVarFromDomain(cp_model.Domain.FromValues(sets_dict[v]),v) for v in sets_dict.keys()]\n",
    "xsq = [model.NewIntVar(min(sets_dict[v])**2, max(sets_dict[v])**2, f'x{i}sq') for i, v in enumerate(sets_dict.keys(),1)]\n",
    "\n",
    "# Creates the constraints.\n",
    "for i, x in enumerate(dvars,1):\n",
    "    model.AddMultiplicationEquality(xsq[i-1], [x,x])\n",
    "\n",
    "model.Add(dvars[0] + dvars[2] + dvars[3] <= 25)\n",
    "model.AddAllDifferent(dvars)\n",
    "\n",
    "# Add an objective function and a direction, need not be linear\n",
    "coefs = [5,8,10,15,20]\n",
    "model.Maximize( sum( (coefs[i]*dvars[i])-xsq[i] for i in range(len(dvars))) )\n",
    "\n",
    "# Creates a solver and solves the model.\n",
    "solver = cp_model.CpSolver()\n",
    "status = solver.Solve(model)\n",
    "\n",
    "if status == cp_model.OPTIMAL:\n",
    "    print(f'The maximum value of the objective function is {solver.ObjectiveValue()}')\n",
    "    print()\n",
    "    for x in dvars:\n",
    "        print(f'{x} = {solver.Value(x)}')"
   ]
  },
  {
   "cell_type": "markdown",
   "metadata": {},
   "source": [
    "# Assignment Problem"
   ]
  },
  {
   "cell_type": "markdown",
   "metadata": {},
   "source": [
    "This problem is based on textbook problem 9.1-7 \n",
    "\n",
    "The Move-It Company has two plants producing forklift trucks that then are shipped to three distribution centers. The production costs are the same at the two plants, and the cost of shipping for each truck is shown for each combination of plant and distribution center: \n",
    "\n",
    "<img src=\"./images/forklift_table.png\" width=400>\n",
    "\n",
    "A total of 60 forklift trucks are produced and shipped per week. Each plant can produce and ship any amount up to a maximum of 50 trucks per week, so there is considerable flexibility on how to divide the total production between the two plants so as to reduce shipping costs. However, each distribution center must receive exactly 20 trucks per week.\n",
    "\n",
    "The objective of management is to determine how many forklift trucks should be produced at each plant, and then what the overall shipping pattern should be to minimize total shipping cost.\n",
    "\n",
    "We are going to solve this two different ways:\n",
    "\n",
    "**(a)** *Allow product splitting.*  Each distribution center can receive forklift trucks from both plants (it's possible distribution center 1 gets 10 from A and 10 from B). Solve this transportation by adapting abstract Pyomo code from Lesson 3.  Note that the total supply is greater than the total demand so you'll to include a dummy distribution center that receives the excess supply to turn this into a balanced transportation problem.\n",
    "\n",
    "<font color = \"blue\"> *** 8 points -  answer in cell below *** (don't delete this cell) </font>"
   ]
  },
  {
   "cell_type": "code",
   "execution_count": 16,
   "metadata": {},
   "outputs": [
    {
     "name": "stdout",
     "output_type": "stream",
     "text": [
      "Minimum Total Cost =  $35,000.00\n",
      "Number of truckloads to ship from each plant to each distribution:\n"
     ]
    },
    {
     "data": {
      "text/html": [
       "<div>\n",
       "<style scoped>\n",
       "    .dataframe tbody tr th:only-of-type {\n",
       "        vertical-align: middle;\n",
       "    }\n",
       "\n",
       "    .dataframe tbody tr th {\n",
       "        vertical-align: top;\n",
       "    }\n",
       "\n",
       "    .dataframe thead th {\n",
       "        text-align: right;\n",
       "    }\n",
       "</style>\n",
       "<table border=\"1\" class=\"dataframe\">\n",
       "  <thead>\n",
       "    <tr style=\"text-align: right;\">\n",
       "      <th></th>\n",
       "      <th>dist1</th>\n",
       "      <th>dist2</th>\n",
       "      <th>dist3</th>\n",
       "    </tr>\n",
       "  </thead>\n",
       "  <tbody>\n",
       "    <tr>\n",
       "      <td>A</td>\n",
       "      <td>20.0</td>\n",
       "      <td>20.0</td>\n",
       "      <td>10.0</td>\n",
       "    </tr>\n",
       "    <tr>\n",
       "      <td>B</td>\n",
       "      <td>0.0</td>\n",
       "      <td>0.0</td>\n",
       "      <td>10.0</td>\n",
       "    </tr>\n",
       "  </tbody>\n",
       "</table>\n",
       "</div>"
      ],
      "text/plain": [
       "   dist1  dist2  dist3\n",
       "A   20.0   20.0   10.0\n",
       "B    0.0    0.0   10.0"
      ]
     },
     "execution_count": 16,
     "metadata": {},
     "output_type": "execute_result"
    }
   ],
   "source": [
    "plants = ['A', 'B']\n",
    "supply = dict(zip(plants, [50, 50]))\n",
    "\n",
    "distros = ['dist1','dist2','dist3']\n",
    "demand = dict(zip(distros, [20, 20, 20]))\n",
    "\n",
    "usc = [[600, 700, 400], [700, 800, 500]]\n",
    "unit_ship_cost = {\n",
    "    plants[p]: {distros[d]: usc[p][d]\n",
    "                   for d in range(len(distros))}\n",
    "    for p in range(len(plants))\n",
    "}\n",
    "\n",
    "from pyomo.environ import *\n",
    "\n",
    "model = ConcreteModel()\n",
    "\n",
    "model.transp = Var(plants, distros, domain=NonNegativeReals)\n",
    "\n",
    "model.total_cost = Objective(expr=sum(unit_ship_cost[p][d] * model.transp[p, d]\n",
    "                                      for p in plants for d in distros),\n",
    "                             sense=minimize)\n",
    "\n",
    "model.supply_ct = ConstraintList()\n",
    "for p in plants:\n",
    "    model.supply_ct.add(\n",
    "        sum(model.transp[p, d] for d in distros) <= supply[p])\n",
    "\n",
    "model.demand_ct = ConstraintList()\n",
    "for d in distros:\n",
    "    model.demand_ct.add(\n",
    "        sum(model.transp[p, d] for p in plants) == demand[d])\n",
    "\n",
    "# solve and display\n",
    "solver = SolverFactory('glpk')\n",
    "solver.solve(model)\n",
    "\n",
    "# display solution\n",
    "import babel.numbers as numbers  # needed to display as currency\n",
    "print(\"Minimum Total Cost = \",\n",
    "      numbers.format_currency(model.total_cost(), 'USD', locale='en_US'))\n",
    "\n",
    "# put amounts in dataframe for nicer display\n",
    "import pandas as pd\n",
    "dvars = pd.DataFrame([[model.transp[p, d]() for d in distros]\n",
    "                      for p in plants],\n",
    "                     index=plants,\n",
    "                     columns=distros)\n",
    "print(\"Number of truckloads to ship from each plant to each distribution:\")\n",
    "dvars"
   ]
  },
  {
   "cell_type": "markdown",
   "metadata": {},
   "source": [
    "**(b)** *No product splitting allowed* . Each distribution center can receive forklift trucks from only one plant (to lower administrative and other hidden costs).   So one plant sends two shipments of 20 to each of two distribution centers, while the other plant sends one shipment of 20 to the remaining distribution center.\n",
    "\n",
    "Follow the \"Formulation of option 2\" on page 354 to formulate this as an assignment problem, then use CP-SAT with Element and All-Different constraints to solve this assignment problem to find the minimum cost.  The minimum cost with no-splitting allowed should be larger than the minimum cost when splitting is allowed.\n",
    "\n",
    "<font color = \"blue\"> *** 8 points -  answer in cell below *** (don't delete this cell) </font>"
   ]
  },
  {
   "cell_type": "code",
   "execution_count": 42,
   "metadata": {
    "scrolled": false
   },
   "outputs": [
    {
     "name": "stdout",
     "output_type": "stream",
     "text": [
      "Lowest Possible Cost: 1000.0\n",
      "\n",
      "Assignments and associated costs:\n"
     ]
    },
    {
     "data": {
      "text/html": [
       "<div>\n",
       "<style scoped>\n",
       "    .dataframe tbody tr th:only-of-type {\n",
       "        vertical-align: middle;\n",
       "    }\n",
       "\n",
       "    .dataframe tbody tr th {\n",
       "        vertical-align: top;\n",
       "    }\n",
       "\n",
       "    .dataframe thead th {\n",
       "        text-align: right;\n",
       "    }\n",
       "</style>\n",
       "<table border=\"1\" class=\"dataframe\">\n",
       "  <thead>\n",
       "    <tr style=\"text-align: right;\">\n",
       "      <th></th>\n",
       "      <th>Dist1</th>\n",
       "      <th>Dist2</th>\n",
       "      <th>Dist3</th>\n",
       "    </tr>\n",
       "  </thead>\n",
       "  <tbody>\n",
       "    <tr>\n",
       "      <td>A</td>\n",
       "      <td>0</td>\n",
       "      <td>0</td>\n",
       "      <td>400</td>\n",
       "    </tr>\n",
       "    <tr>\n",
       "      <td>B</td>\n",
       "      <td>600</td>\n",
       "      <td>0</td>\n",
       "      <td>0</td>\n",
       "    </tr>\n",
       "  </tbody>\n",
       "</table>\n",
       "</div>"
      ],
      "text/plain": [
       "   Dist1  Dist2  Dist3\n",
       "A      0      0    400\n",
       "B    600      0      0"
      ]
     },
     "metadata": {},
     "output_type": "display_data"
    }
   ],
   "source": [
    "# abstract version\n",
    "import pandas as pd\n",
    "from IPython.display import display, HTML\n",
    "\n",
    "plants = ['A','B']\n",
    "distros = ['Dist1', 'Dist2', 'Dist3']\n",
    "demand = [20, 20, 20]\n",
    "total_demand = 60\n",
    "cost_table = [[800, 700, 400], [600, 800, 500]]\n",
    "\n",
    "num_distros = len(cost_table[0])\n",
    "num_plants = len(cost_table)\n",
    "\n",
    "from ortools.sat.python import cp_model\n",
    "\n",
    "# Create the model.\n",
    "model = cp_model.CpModel()\n",
    "\n",
    "# Variables\n",
    "assign = [\n",
    "    model.NewIntVar(0, 60, plants[i])\n",
    "    for i in range(num_plants)\n",
    "]\n",
    "\n",
    "#get the maximum cost from the cost_table for the top of our intvar range\n",
    "max_cost = max(list(map(max, cost_table)))\n",
    "cost = [model.NewIntVar(0, max_cost, f'cost{i}') for i in range(num_plants)]\n",
    "\n",
    "# Constraints\n",
    "model.AddAllDifferent(assign)\n",
    "\n",
    "for i in range(num_plants):\n",
    "    model.AddElement(assign[i], cost_table[i], cost[i])\n",
    "\n",
    "model.Minimize(sum(cost))\n",
    "\n",
    "# Creates a solver and solves the model.\n",
    "solver = cp_model.CpSolver()\n",
    "status = solver.Solve(model)\n",
    "\n",
    "if status == cp_model.OPTIMAL:\n",
    "    print(f'Lowest Possible Cost: {solver.ObjectiveValue()}')\n",
    "    print()\n",
    "    print('Assignments and associated costs:')\n",
    "    cost_assigns = pd.DataFrame(0, index=plants, columns=distros)\n",
    "    for i in range(num_plants):\n",
    "        cost_assigns.iloc[i, solver.Value(assign[i])] = solver.Value(cost[i])\n",
    "    display(cost_assigns)"
   ]
  },
  {
   "cell_type": "markdown",
   "metadata": {},
   "source": [
    "# Different Assignment-like Problem"
   ]
  },
  {
   "cell_type": "markdown",
   "metadata": {},
   "source": [
    "A college student has 7 days remaining before final examinations begin in her four courses, and she wants to allocate this study time as effectively as possible. She needs at least 1 day on each course, and she likes to concentrate on just one course each day, so she wants to allocate 1, 2, 3, or 4 days to each course. Having recently taken an OR course, she decides to use dynamic programming to make these allocations to maximize the total grade points to be obtained from the four courses. She estimates that the alternative allocations for each course would yield the number of grade points shown in the following table:\n",
    "\n",
    "<img src=\"./images/grades_table.png\" width=400>\n",
    "\n",
    "Use a CP-SAT constraint programming approach with the Element constraint and other appropriate constraints to maximize the total grade points.\n",
    "\n",
    "<font color = \"blue\"> *** 10 points -  answer in cell below *** (don't delete this cell) </font>"
   ]
  },
  {
   "cell_type": "code",
   "execution_count": null,
   "metadata": {},
   "outputs": [],
   "source": []
  },
  {
   "cell_type": "markdown",
   "metadata": {},
   "source": [
    "# Scheduling"
   ]
  },
  {
   "cell_type": "markdown",
   "metadata": {},
   "source": [
    "Use the CP-SAT approach to scheduling shown in the lesson to find a schedule of minimum length for the Reliable Construction Company project with activities A-N shown in the table below:\n",
    "\n",
    "<img src=\"./images/reliable_table.png\" width=600>\n",
    "\n",
    "This problem is discussed in a supplemental textbook chapter which we've included in the folder with this notebook if you want to know more about it.\n",
    "\n",
    "Display both the minimized length and the optimal schedule in both text and with a Gantt chart.\n",
    "\n",
    "<font color = \"blue\"> *** 8 points -  answer in cell below *** (don't delete this cell) </font>"
   ]
  },
  {
   "cell_type": "code",
   "execution_count": null,
   "metadata": {},
   "outputs": [],
   "source": []
  }
 ],
 "metadata": {
  "kernelspec": {
   "display_name": "anaconda3",
   "language": "python",
   "name": "anaconda3"
  },
  "language_info": {
   "codemirror_mode": {
    "name": "ipython",
    "version": 3
   },
   "file_extension": ".py",
   "mimetype": "text/x-python",
   "name": "python",
   "nbconvert_exporter": "python",
   "pygments_lexer": "ipython3",
   "version": "3.7.4"
  },
  "toc": {
   "base_numbering": 1,
   "nav_menu": {},
   "number_sections": true,
   "sideBar": true,
   "skip_h1_title": false,
   "title_cell": "Table of Contents",
   "title_sidebar": "Contents",
   "toc_cell": false,
   "toc_position": {},
   "toc_section_display": true,
   "toc_window_display": false
  }
 },
 "nbformat": 4,
 "nbformat_minor": 2
}
