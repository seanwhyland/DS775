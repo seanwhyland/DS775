{
 "cells": [
  {
   "cell_type": "markdown",
   "metadata": {},
   "source": [
    "<font size=16>Lesson 07: Constraint Programming</font>"
   ]
  },
  {
   "cell_type": "markdown",
   "metadata": {
    "heading_collapsed": true
   },
   "source": [
    "# Introduction"
   ]
  },
  {
   "cell_type": "markdown",
   "metadata": {
    "hidden": true
   },
   "source": [
    "Many discrete or combinatorial optimization problems don't exactly fit the integer programming paradigm with linear constraints and and a linear objective function as we'll see with several examples below.  Moreover, the constraints can be both many and complicated.  Constraint programming concentrate more on feasibility than on optimization and can deal with many different constraints that aren't available in standard integer programming.\n",
    "\n",
    "You should read the introductory material on pages 525-531.  In particular we'll use both the element and all-different constraints discussed in the text which are both unlike constraints we've seen before.  For programming we'll be using CP-SAT (Constraint Programming - SATisfiability) by Google.  It's written in C++, but has an API that is part of the or-tools package which you can install using `pip install ortools` (there doesn't appear to be a conda install option).  \n",
    "\n",
    "We'll start by looking at the example introduced on page 526.  We'll use it to introduce several ideas.\n",
    "\n",
    "Note, this week we've switched to Python f-strings (formatted string literals) for formatting our output.  They're really slick and the latest innovation in Python text formatting.  <a href=\"https://realpython.com/python-f-strings/\">This is a nice article about f-strings.</a>"
   ]
  },
  {
   "cell_type": "markdown",
   "metadata": {
    "heading_collapsed": true
   },
   "source": [
    "# Textbook Example 1 (page 526)"
   ]
  },
  {
   "cell_type": "markdown",
   "metadata": {
    "hidden": true
   },
   "source": [
    "We'll look at the example below and see how it gets solved in with CP-SAT with Python.\n",
    "\n",
    "Find a feasible solution with the following constraints:\n",
    "\n",
    "$x_1 \\in \\left\\{ 1, 2 \\right\\}$ \n",
    "\n",
    "$x_2 \\in \\left\\{ 1, 2 \\right\\}$ \n",
    "\n",
    "$x_3 \\in \\left\\{ 1, 2, 3 \\right\\}$\n",
    "\n",
    "$x_4 \\in \\left\\{ 1, 2, 3, 4, 5 \\right\\}$ \n",
    "\n",
    "$x_1 + x_3 = 4$ \n",
    "\n",
    "$x_1, x_2, x_3, x_4$ are all different.\n",
    "\n",
    "Note, we aren't trying to optimize anything here.  Instead we're just focused on finding a feasible solution.  Also, notice that the last constraint requiring the 4 variables to have different values is something we haven't seen before.  It could be done in integer programming by using a bunch of inequalities, but the elegance of constraint programming is that can often make it quite simple to declare complicated constraints.\n",
    "\n",
    "The all-different constraint is an example of a constraint that would be difficult in an integer program, but is one line in a constraint program as we'll see below:"
   ]
  },
  {
   "cell_type": "markdown",
   "metadata": {
    "hidden": true
   },
   "source": [
    "## CP-SAT solution"
   ]
  },
  {
   "cell_type": "code",
   "execution_count": 1,
   "metadata": {
    "hidden": true
   },
   "outputs": [
    {
     "name": "stdout",
     "output_type": "stream",
     "text": [
      "A feasible solution is:\n",
      "x1 = 1\n",
      "x2 = 2\n",
      "x3 = 3\n",
      "x4 = 4\n"
     ]
    }
   ],
   "source": [
    "from ortools.sat.python import cp_model\n",
    "\n",
    "# Create the model\n",
    "model = cp_model.CpModel()\n",
    "\n",
    "# Create the variables\n",
    "x1 = model.NewIntVar(1,2,'x1')\n",
    "x2 = model.NewIntVar(1,2,'x2')\n",
    "x3 = model.NewIntVar(1,3,'x3')\n",
    "x4 = model.NewIntVar(1,5,'x4')\n",
    "\n",
    "# Create the constraints\n",
    "model.Add(x1 + x3 == 4)\n",
    "model.AddAllDifferent([x1,x2,x3,x4])\n",
    "\n",
    "# Create a solver and solve the model.\n",
    "solver = cp_model.CpSolver()\n",
    "status = solver.Solve(model)\n",
    "\n",
    "# the solver stops when it finds a feasible solution\n",
    "if status == cp_model.FEASIBLE:\n",
    "    print('A feasible solution is:')\n",
    "    for x in [x1,x2,x3,x4]:\n",
    "        print(f'{x} = {solver.Value(x)}')"
   ]
  },
  {
   "cell_type": "markdown",
   "metadata": {
    "hidden": true
   },
   "source": [
    "### <font color = \"blue\"> Self Assessment: Find a feasible solution.</font>"
   ]
  },
  {
   "cell_type": "markdown",
   "metadata": {
    "hidden": true
   },
   "source": [
    "Use CP-SAT to find a feasible solution to \n",
    "\n",
    "$x \\neq y$\n",
    "\n",
    "For $x,y,z \\in \\{0,1,2\\}.$"
   ]
  },
  {
   "cell_type": "markdown",
   "metadata": {
    "hidden": true
   },
   "source": [
    "## Finding all feasible solutions"
   ]
  },
  {
   "cell_type": "markdown",
   "metadata": {
    "hidden": true
   },
   "source": [
    "Sometimes we need to collect all of the feasible solutions.  This can be done by telling the solver to search for all of the solutions and then using a callback method to print or record them.  We'll just print them.  First we create a solution printer class that contains a callback method which gets executed by the solver as it enumerates the solutions.  In this case it just updates a counter and prints all of values of the variables we specify.  You can use this without change for other problems."
   ]
  },
  {
   "cell_type": "code",
   "execution_count": 2,
   "metadata": {
    "hidden": true
   },
   "outputs": [],
   "source": [
    "from ortools.sat.python import cp_model\n",
    "\n",
    "class VarArraySolutionPrinter(cp_model.CpSolverSolutionCallback):\n",
    "    \"\"\"Print intermediate solutions.\"\"\"\n",
    "\n",
    "    def __init__(self, variables):\n",
    "        cp_model.CpSolverSolutionCallback.__init__(self)\n",
    "        self.__variables = variables\n",
    "        self.__solution_count = 0\n",
    "\n",
    "    def on_solution_callback(self):\n",
    "        self.__solution_count += 1\n",
    "        for v in self.__variables:\n",
    "            print(f'{v} = {self.Value(v)}', end = ' ')\n",
    "        print()\n",
    "\n",
    "    def solution_count(self):\n",
    "        return self.__solution_count"
   ]
  },
  {
   "cell_type": "markdown",
   "metadata": {
    "hidden": true
   },
   "source": [
    "The code below is mostly a repeat of the code above, but everything beginning with `solution_printer` is new (line 17).  Notice we initialize the solution printer with a list of the variables that we want to print as CP-SAT finds each solution."
   ]
  },
  {
   "cell_type": "code",
   "execution_count": 3,
   "metadata": {
    "hidden": true
   },
   "outputs": [
    {
     "name": "stdout",
     "output_type": "stream",
     "text": [
      "x1 = 1 x2 = 2 x3 = 3 x4 = 4 \n",
      "x1 = 1 x2 = 2 x3 = 3 x4 = 5 \n",
      "Status = OPTIMAL\n",
      "Number of solutions found: 2\n"
     ]
    }
   ],
   "source": [
    "from ortools.sat.python import cp_model\n",
    "\n",
    "# Creates the model.\n",
    "model = cp_model.CpModel()\n",
    "\n",
    "x1 = model.NewIntVar(1,2,'x1')\n",
    "x2 = model.NewIntVar(1,2,'x2')\n",
    "x3 = model.NewIntVar(1,3,'x3')\n",
    "x4 = model.NewIntVar(1,5,'x4')\n",
    "\n",
    "# Creates the constraints.\n",
    "model.Add(x1 + x3 == 4)\n",
    "model.AddAllDifferent([x1,x2,x3,x4])\n",
    "\n",
    "# Creates a solver and solves the model.\n",
    "solver = cp_model.CpSolver()  # it wasn't really necessary to redo any of the above code\n",
    "solution_printer = VarArraySolutionPrinter([x1,x2,x3,x4])\n",
    "status = solver.SearchForAllSolutions(model, solution_printer)\n",
    "\n",
    "print(f'Status = {solver.StatusName(status)}')\n",
    "print(f'Number of solutions found: {solution_printer.solution_count()}')"
   ]
  },
  {
   "cell_type": "markdown",
   "metadata": {
    "hidden": true
   },
   "source": [
    "###  <font color = \"blue\"> Self Assessment: Finding all feasible solutions. </font>"
   ]
  },
  {
   "cell_type": "markdown",
   "metadata": {
    "hidden": true
   },
   "source": [
    "Use CP-SAT to print out all of the feasible solutions to \n",
    "\n",
    "$x \\neq y$\n",
    "\n",
    "For $x,y,z \\in \\{0,1,2\\}.$"
   ]
  },
  {
   "cell_type": "markdown",
   "metadata": {
    "hidden": true
   },
   "source": [
    "## Finding an optimal value"
   ]
  },
  {
   "cell_type": "markdown",
   "metadata": {
    "hidden": true
   },
   "source": [
    "Even though the focus of constraint programming is finding feasible solutions it can find optimal values of an objective function by comparing the values of the objective function for all feasible solutions.  This can be a slow process if there are too many feasible solutions.  There are a variety of ways to do an incomplete search.  If you're curious to learn more have a look at <a href=\"https://ktiml.mff.cuni.cz/~bartak/podminky/lectures/CSP-lecture09eng.pdf\">these lecture slides</a> as a starting point.\n",
    "\n",
    "As an example we'll add an objective to the problem we developed above:\n",
    "\n",
    "\n",
    "Minimize $ 10 x_1 - 2 x_2 + 20 x_3 - x_4$\n",
    "\n",
    "Subject to:\n",
    "\n",
    "$x_1 \\in \\left\\{ 1, 2 \\right\\}, x_2 \\in \\left\\{ 1, 2 \\right\\}, x_3 \\in \\left\\{ 1, 2, 3 \\right\\}, x_4 \\in \\left\\{ 1, 2, 3, 4, 5 \\right\\}$ \n",
    "\n",
    "$x_1 + x_3 = 4$ \n",
    "\n",
    "$x_1, x_2, x_3, x_4$ are all different.\n",
    "\n",
    "Adding the code is pretty simple as we just have to add the objective and an extra line to display its optimized value:"
   ]
  },
  {
   "cell_type": "code",
   "execution_count": 4,
   "metadata": {
    "hidden": true
   },
   "outputs": [
    {
     "name": "stdout",
     "output_type": "stream",
     "text": [
      "The minimum value of the objective function is 61.0\n",
      "\n",
      "x1 = 1\n",
      "x2 = 2\n",
      "x3 = 3\n",
      "x4 = 5\n"
     ]
    }
   ],
   "source": [
    "from ortools.sat.python import cp_model\n",
    "\n",
    "# Create the model\n",
    "model = cp_model.CpModel()\n",
    "\n",
    "# Create the variables\n",
    "x1 = model.NewIntVar(1,2,'x1')\n",
    "x2 = model.NewIntVar(1,2,'x2')\n",
    "x3 = model.NewIntVar(1,3,'x3')\n",
    "x4 = model.NewIntVar(1,5,'x4')\n",
    "\n",
    "# Create the constraints\n",
    "model.Add(x1 + x3 == 4)\n",
    "model.AddAllDifferent([x1,x2,x3,x4])\n",
    "\n",
    "# Add a linear objective function\n",
    "model.Minimize(10*x1 - 2*x2 + 20*x3 - x4)\n",
    "\n",
    "# Create a solver and solve the model.\n",
    "solver = cp_model.CpSolver()\n",
    "status = solver.Solve(model)\n",
    "\n",
    "# the solver stops when it finds a feasible solution\n",
    "if status == cp_model.OPTIMAL:\n",
    "    print(f'The minimum value of the objective function is {solver.ObjectiveValue()}')\n",
    "    print()\n",
    "    for x in [x1,x2,x3,x4]:\n",
    "        print(f'{x} = {solver.Value(x)}')"
   ]
  },
  {
   "cell_type": "markdown",
   "metadata": {
    "hidden": true
   },
   "source": [
    "### <font color = \"blue\"> Self Assessment: Optimizing a linear objective function with CP-SAT </font>"
   ]
  },
  {
   "cell_type": "markdown",
   "metadata": {
    "hidden": true
   },
   "source": [
    "Use CP-SAT to\n",
    "\n",
    "Maximize $x + 2y + 3z$ \n",
    "\n",
    "Subject to:\n",
    "\n",
    "$x \\neq y$\n",
    "\n",
    "For $x,y,z \\in \\{0,1,2\\}.$"
   ]
  },
  {
   "cell_type": "markdown",
   "metadata": {
    "hidden": true
   },
   "source": [
    "## Using a list of variables to abstract and generalize"
   ]
  },
  {
   "cell_type": "markdown",
   "metadata": {
    "hidden": true
   },
   "source": [
    "We can create lists of variables using list comprehensions to make it easier to solve large problems.  Here is how we could setup the problem above using generalizable code."
   ]
  },
  {
   "cell_type": "markdown",
   "metadata": {
    "hidden": true
   },
   "source": [
    "Use CP-SAT and lists write generalizable code to solve:\n",
    "\n",
    "Minimize $ 10 x_1 - 2 x_2 + 20 x_3 - x_4$\n",
    "\n",
    "Subject to:\n",
    "\n",
    "$x_1 \\in \\left\\{ 1, 2 \\right\\}, x_2 \\in \\left\\{ 1, 2 \\right\\}, x_3 \\in \\left\\{ 1, 2, 3 \\right\\}, x_4 \\in \\left\\{ 1, 2, 3, 4, 5 \\right\\}$ \n",
    "\n",
    "$x_1 + x_3 = 4$ \n",
    "\n",
    "$x_1, x_2, x_3, x_4$ are all different.\n",
    "\n",
    "Here we create a list of variables and frame the constraints and objective function using indices to access the variables in the list:"
   ]
  },
  {
   "cell_type": "code",
   "execution_count": 5,
   "metadata": {
    "hidden": true
   },
   "outputs": [
    {
     "name": "stdout",
     "output_type": "stream",
     "text": [
      "Minimum of objective function: 61\n",
      "\n",
      "x0 = 1\n",
      "x1 = 2\n",
      "x2 = 3\n",
      "x3 = 5\n"
     ]
    }
   ],
   "source": [
    "from ortools.sat.python import cp_model\n",
    "\n",
    "\"\"\"Minimal CP-SAT example to showcase calling the solver.\"\"\"\n",
    "# Creates the model.\n",
    "model = cp_model.CpModel()\n",
    "\n",
    "# Creates the variables.\n",
    "bounds = [[1,2],[1,2],[1,3],[1,5]]\n",
    "num_vars = 4\n",
    "x = [model.NewIntVar(bounds[i][0], bounds[i][1], f'x{i}') for i in range(num_vars)]\n",
    "# note we now have x[0],...,x[3] instead of x1,...,x4\n",
    "\n",
    "# Creates the constraints.\n",
    "model.Add(x[0]+x[2]==4)\n",
    "model.AddAllDifferent(x)\n",
    "\n",
    "# Add an objective function and a direction, need not be linear\n",
    "coef = [10,-2,20,-1]\n",
    "model.Minimize(sum(coef[i]*x[i] for i in range(num_vars)))\n",
    "\n",
    "# Creates a solver and solves the model.\n",
    "solver = cp_model.CpSolver()\n",
    "status = solver.Solve(model)\n",
    "\n",
    "if status == cp_model.OPTIMAL:\n",
    "    print('Minimum of objective function: %i' % solver.ObjectiveValue())\n",
    "    print()\n",
    "    for i in range(num_vars):\n",
    "        print(f'x{i} = {solver.Value(x[i])}')"
   ]
  },
  {
   "cell_type": "markdown",
   "metadata": {
    "hidden": true
   },
   "source": [
    "### <font color = \"blue\"> Self Assessment: Generalizable code with CP-SAT </font>"
   ]
  },
  {
   "cell_type": "markdown",
   "metadata": {
    "hidden": true
   },
   "source": [
    "Write code that can be easily extended to a larger problem to solve:\n",
    "\n",
    "Maximize $x + 2y + 3z$ \n",
    "\n",
    "Subject to:\n",
    "\n",
    "$x \\neq y$\n",
    "\n",
    "For $x,y,z \\in \\{0,1,2\\}.$"
   ]
  },
  {
   "cell_type": "markdown",
   "metadata": {
    "heading_collapsed": true
   },
   "source": [
    "# A Map Coloring Example"
   ]
  },
  {
   "cell_type": "markdown",
   "metadata": {
    "hidden": true
   },
   "source": [
    "For our purposes this isn't a very important example and we're not going to have you do something like it for the homework, but it's a fun application of constraint programming.  \n",
    "\n",
    "<img src=\"./images/europe_countries.png\" width=400>\n",
    "\n",
    "How do we select the colors for regions on a map so that adjacent regions don't have the same colors?  A now famous theorem in mathematics called the <a href=\"https://en.wikipedia.org/wiki/Four_color_theorem\">four color theorem</a> states that we can always do it with no more than 4 colors provided adjacency means that regions touch along an edge not just at a corner.  The theorem is famous because it is the first major theorem to be proved by computer.  The theorem tells us it can be done, but it doesn't tell us how to do it.  It's a relatively easy application of constraint programming to find a feasible coloring.\n",
    "\n",
    "Here is a concrete version of the code to find a coloring for 6 adjacent European countries:"
   ]
  },
  {
   "cell_type": "code",
   "execution_count": 6,
   "metadata": {
    "hidden": true
   },
   "outputs": [
    {
     "name": "stdout",
     "output_type": "stream",
     "text": [
      "Belgium = 0\n",
      "Denmark = 3\n",
      "France = 3\n",
      "Germany = 2\n",
      "Luxembourg = 1\n",
      "Netherlands = 1\n"
     ]
    }
   ],
   "source": [
    "from ortools.sat.python import cp_model\n",
    "\n",
    "# Creates the model.\n",
    "model = cp_model.CpModel()\n",
    "\n",
    "# Creates the variables.\n",
    "num_colors = 4\n",
    "Belgium = model.NewIntVar(0, num_colors - 1, 'Belgium')\n",
    "Denmark = model.NewIntVar(0, num_colors - 1, 'Denmark')\n",
    "France = model.NewIntVar(0, num_colors - 1, 'France')\n",
    "Germany = model.NewIntVar(0, num_colors - 1, 'Germany')\n",
    "Luxembourg = model.NewIntVar(0, num_colors - 1, 'Luxembourg')\n",
    "Netherlands = model.NewIntVar(0, num_colors - 1, 'Netherlands')\n",
    "\n",
    "# Constraints so that adjacent countries get assigned different colors\n",
    "model.Add(Belgium != France)\n",
    "model.Add(Belgium != Germany)\n",
    "model.Add(Belgium != Netherlands)\n",
    "model.Add(Belgium != Luxembourg)\n",
    "model.Add(Denmark != Germany)\n",
    "model.Add(France != Germany)\n",
    "model.Add(France != Luxembourg)\n",
    "model.Add(Germany != Luxembourg)\n",
    "model.Add(Germany != Netherlands)\n",
    "\n",
    "# Creates a solver and solves the model.\n",
    "solver = cp_model.CpSolver()\n",
    "status = solver.Solve(model)\n",
    "\n",
    "if status == cp_model.FEASIBLE:\n",
    "    print(f'Belgium = {solver.Value(Belgium)}')\n",
    "    print(f'Denmark = {solver.Value(Denmark)}')\n",
    "    print(f'France = {solver.Value(France)}')\n",
    "    print(f'Germany = {solver.Value(Germany)}')\n",
    "    print(f'Luxembourg = {solver.Value(Luxembourg)}')\n",
    "    print(f'Netherlands = {solver.Value(Netherlands)}')"
   ]
  },
  {
   "cell_type": "markdown",
   "metadata": {
    "hidden": true
   },
   "source": [
    "Below we present a version of the solution that can be easily generalized to a large number of countries or regions.  To represent the adjacencies between countries we've used what is called an adjacency matrix where a 1 indicates two countries are adjacent and a 0 indicates they are not.  We can consider countries adjacent to themselves or not, but it doesn't matter since we don't use the information from the diagonal of the matrix.  The adjacencies could also be specified using a list of adjacent pairs, or with a dictionary, or ..."
   ]
  },
  {
   "cell_type": "code",
   "execution_count": 7,
   "metadata": {
    "hidden": true
   },
   "outputs": [
    {
     "name": "stdout",
     "output_type": "stream",
     "text": [
      "Belgium = 0\n",
      "Denmark = 3\n",
      "France = 3\n",
      "Germany = 2\n",
      "Luxembourg = 1\n",
      "Netherlands = 1\n"
     ]
    }
   ],
   "source": [
    "import pandas as pd \n",
    "import numpy as np\n",
    "country_names = ['Belgium','Denmark','France','Germany','Luxembourg','Netherlands']\n",
    "adjacency_matrix = pd.DataFrame([[1,0,1,1,1,1],\n",
    "                                 [0,1,0,1,0,0],\n",
    "                                 [1,0,1,1,1,0],\n",
    "                                 [1,1,1,1,1,1],\n",
    "                                 [1,0,1,1,1,0],\n",
    "                                 [1,0,0,1,0,1]],\n",
    "                                index=country_names,columns=country_names)\n",
    "\n",
    "# Creates the model.\n",
    "model = cp_model.CpModel()\n",
    "\n",
    "# Creates the variables.\n",
    "num_colors = 4\n",
    "countries = [ model.NewIntVar(0, num_colors - 1, c) for c in country_names]\n",
    "\n",
    "# Creates the constraints from the upper triangular part of the adj. matrix\n",
    "num_countries = len(countries)\n",
    "for i in range(num_countries):\n",
    "    for j in np.arange(i+1,num_countries):\n",
    "        if adjacency_matrix.iloc[i,j] == 1:\n",
    "            model.Add( countries[i] != countries[j] )\n",
    "            \n",
    "# Creates a solver and solves the model.\n",
    "solver = cp_model.CpSolver()\n",
    "status = solver.Solve(model)\n",
    "\n",
    "# Print Results\n",
    "for c in countries:\n",
    "    print(f'{c} = {solver.Value(c)}')"
   ]
  },
  {
   "cell_type": "markdown",
   "metadata": {
    "hidden": true
   },
   "source": [
    "## <font color = \"blue\"> Self Assessment: How many different ways to color?</font>"
   ]
  },
  {
   "cell_type": "markdown",
   "metadata": {
    "hidden": true
   },
   "source": [
    "Find all the feasible solutions with four colors to determine how many different ways there are to color the map using the same four colors."
   ]
  },
  {
   "cell_type": "markdown",
   "metadata": {
    "heading_collapsed": true
   },
   "source": [
    "# Example - Using Sets of Values"
   ]
  },
  {
   "cell_type": "markdown",
   "metadata": {
    "hidden": true
   },
   "source": [
    "In the example above our variables each took values in a range.  If we instead want to specify a list of possible values then we can use the construction in the following example which uses CP-SAT's concept of domains."
   ]
  },
  {
   "cell_type": "markdown",
   "metadata": {
    "hidden": true
   },
   "source": [
    "Maximize $x+y$\n",
    "\n",
    "Subject to: \n",
    "\n",
    "$x \\in \\{ 5, 10, 20\\}, y \\in \\{ 3, 7, 12\\}$\n",
    "\n",
    "$x+y \\leq 30$\n",
    "\n",
    "Here is a concrete implementation of a solution:"
   ]
  },
  {
   "cell_type": "code",
   "execution_count": 8,
   "metadata": {
    "hidden": true
   },
   "outputs": [
    {
     "name": "stdout",
     "output_type": "stream",
     "text": [
      "Maximum of objective function: 27\n",
      "\n",
      "x = 20\n",
      "y = 7\n"
     ]
    }
   ],
   "source": [
    "from ortools.sat.python import cp_model\n",
    "\n",
    "# Create the model.\n",
    "model = cp_model.CpModel()\n",
    "\n",
    "# Creates the variables.\n",
    "x = model.NewIntVarFromDomain(cp_model.Domain.FromValues([5,10,20]), 'x')\n",
    "y = model.NewIntVarFromDomain(cp_model.Domain.FromValues([3, 7,12]), 'y')\n",
    "\n",
    "# Creates the constraints.\n",
    "model.Add(x + y <= 30)\n",
    "\n",
    "# Add an objective function and a direction, need not be linear\n",
    "model.Maximize(x + y)\n",
    "\n",
    "# Creates a solver and solves the model.\n",
    "solver = cp_model.CpSolver()\n",
    "status = solver.Solve(model)\n",
    "\n",
    "if status == cp_model.OPTIMAL:\n",
    "    print('Maximum of objective function: %i' % solver.ObjectiveValue())\n",
    "    print()\n",
    "    print('x = %i' % solver.Value(x))\n",
    "    print('y = %i' % solver.Value(y))"
   ]
  },
  {
   "cell_type": "markdown",
   "metadata": {
    "hidden": true
   },
   "source": [
    "## <font color = \"blue\"> Self Assessment: Using Sets and All-Different </font>"
   ]
  },
  {
   "cell_type": "markdown",
   "metadata": {
    "hidden": true
   },
   "source": [
    "Maximize:  $10 x_1 + 2 x_2 - x_3$\n",
    "\n",
    "Subject to\n",
    "\n",
    "$x_1 \\in \\left\\{10, 20, 30\\right\\}$\n",
    "\n",
    "$x_2 \\in \\left\\{20, 30, 40\\right\\}$\n",
    "\n",
    "$x_3 \\in \\left\\{10, 30, 50\\right\\}$\n",
    "\n",
    "$x_1, x_2,$ and $x_3$ are all different. (You'll need the `AddAllDifferent` constraint used in one of the previous examples.)"
   ]
  },
  {
   "cell_type": "markdown",
   "metadata": {
    "hidden": true
   },
   "source": [
    "## <font color = \"blue\"> Self Assessment: Generalizable Use of Sets </font>"
   ]
  },
  {
   "cell_type": "markdown",
   "metadata": {
    "hidden": true
   },
   "source": [
    "Now solve the same problem as in the previous self assessment, but write generalizable code that could be easily employed to solve a large model.  \n",
    "You may which to use a dictionary to store the sets for each variable like this:\n",
    "    \n",
    "`sets_dict = { 'x1':[10,20,30], 'x2':[20,30,40], 'x3':[10,30,50]}`\n",
    "\n",
    "You'll have to loop over the dictionary keys (`sets_dict.keys()`) in your list comprehension to declare the variables."
   ]
  },
  {
   "cell_type": "markdown",
   "metadata": {
    "heading_collapsed": true
   },
   "source": [
    "# Example:  Including Nonlinear Terms in the Objective"
   ]
  },
  {
   "cell_type": "markdown",
   "metadata": {
    "hidden": true
   },
   "source": [
    "Suppose we take the previous example and tweak the objective to include a quadratic term so that it now looks like this:\n",
    "\n",
    "Maximize $x-y^2$\n",
    "\n",
    "Subject to: \n",
    "\n",
    "$x \\in \\{ 5, 10, 20\\}, y \\in \\{ 3, 7, 12\\}$\n",
    "\n",
    "$x+y \\leq 30.$$\n",
    "\n",
    "If we were to take the code from the previous section and change the objective to:\n",
    "\n",
    "`model.Maximize(x - y**2)` \n",
    "\n",
    "we'd get an error telling us that the objective function contains nonlinear terms!\n",
    "\n",
    "There's a simple way around this.  Just add an extra variable to represent the quantity $y^2$, say `ysq` and then an additional special constraint that enforces `ysq == y*y`.  Here's the code:"
   ]
  },
  {
   "cell_type": "code",
   "execution_count": 9,
   "metadata": {
    "hidden": true
   },
   "outputs": [
    {
     "name": "stdout",
     "output_type": "stream",
     "text": [
      "Maximum of objective function: 11\n",
      "\n",
      "x = 20\n",
      "y = 3\n"
     ]
    }
   ],
   "source": [
    "from ortools.sat.python import cp_model\n",
    "\n",
    "# Create the model.\n",
    "model = cp_model.CpModel()\n",
    "\n",
    "# Creates the variables.\n",
    "x = model.NewIntVarFromDomain(cp_model.Domain.FromValues([5,10,20]), 'x')\n",
    "y = model.NewIntVarFromDomain(cp_model.Domain.FromValues([3, 7,12]), 'y')\n",
    "ysq = model.NewIntVar(9,144,'ysq') # NEW variable to hold y^2, where did that range come from?\n",
    "\n",
    "# Creates the constraints.\n",
    "model.Add(x + y <= 30)\n",
    "model.AddMultiplicationEquality(ysq, [y, y]) # NEW to enforce ysq = y*y\n",
    "# can be generalized so that target = product of all items in second list\n",
    "\n",
    "# Add an objective function and a direction, need not be linear\n",
    "model.Maximize(x - ysq)\n",
    "\n",
    "# Creates a solver and solves the model.\n",
    "solver = cp_model.CpSolver()\n",
    "status = solver.Solve(model)\n",
    "\n",
    "if status == cp_model.OPTIMAL:\n",
    "    print('Maximum of objective function: %i' % solver.ObjectiveValue())\n",
    "    print()\n",
    "    print('x = %i' % solver.Value(x))\n",
    "    print('y = %i' % solver.Value(y))"
   ]
  },
  {
   "cell_type": "markdown",
   "metadata": {
    "hidden": true
   },
   "source": [
    "If you think it through, you'll see that the solution is correct!"
   ]
  },
  {
   "cell_type": "markdown",
   "metadata": {
    "hidden": true
   },
   "source": [
    "## <font color = \"blue\"> Self Assessment: Add your own quadratic term</font>"
   ]
  },
  {
   "cell_type": "markdown",
   "metadata": {
    "hidden": true
   },
   "source": [
    "This is a tweaked version of the self-assessment from the previous section with the objective function changed to include a quadratic term.\n",
    "\n",
    "Maximize:  $10 x_1 + 2 x_2 - x_3^2$\n",
    "\n",
    "Subject to\n",
    "\n",
    "$x_1 \\in \\left\\{10, 20, 30\\right\\}$\n",
    "\n",
    "$x_2 \\in \\left\\{20, 30, 40\\right\\}$\n",
    "\n",
    "$x_3 \\in \\left\\{10, 30, 50\\right\\}$\n",
    "\n",
    "$x_1, x_2,$ and $x_3$ are all different.\n",
    "\n",
    "Write code to use CP-SAT to solve this problem.  Concrete code or generalizable code is fine.  Our solution is written concretely, but it wouldn't be hard to create an extra list of variables to contain all the quadratic variables and then use a loop to add all the necessary `MultiplicationEquality` constraints to make generalizable code."
   ]
  },
  {
   "cell_type": "markdown",
   "metadata": {
    "heading_collapsed": true
   },
   "source": [
    "# The Element Constraint and Assignment Problems"
   ]
  },
  {
   "cell_type": "markdown",
   "metadata": {
    "hidden": true
   },
   "source": [
    "The element constraint allows us to use decision variables as indices to arrays.  It is discussed on page 529 and the syntax in CP-SAT is very similar.  Before showing how the element constraint can be used to solve assignment problems we'll show how to use it to pick values from sets as we did earlier for this problem:\n",
    "\n",
    "Maximize $x+y$\n",
    "\n",
    "Subject to: \n",
    "\n",
    "$x \\in \\{ 5, 10, 20\\}, y \\in \\{ 3, 7, 12\\}$\n",
    "\n",
    "$x+y \\leq 30$.\n",
    "\n",
    "The previous Python solution is better than this one, but we're including this to illustrate how the element constraint works.  We'll use two main decision variables `x_idx` and `y_idx` whose job is to specify which element of $x$ and $y$ to use."
   ]
  },
  {
   "cell_type": "code",
   "execution_count": 10,
   "metadata": {
    "hidden": true
   },
   "outputs": [
    {
     "name": "stdout",
     "output_type": "stream",
     "text": [
      "Maximum of objective function: 27\n",
      "\n",
      "x = 20\n",
      "y = 7\n"
     ]
    }
   ],
   "source": [
    "from ortools.sat.python import cp_model\n",
    "\n",
    "# Create the model.\n",
    "model = cp_model.CpModel()\n",
    "\n",
    "x_list = [5, 10, 20]\n",
    "y_list = [3,  7, 12]\n",
    "\n",
    "x_idx = model.NewIntVar(0,2,'x_idx')\n",
    "y_idx = model.NewIntVar(0,2,'y_idx')\n",
    "\n",
    "x = model.NewIntVar(0,20,'x')\n",
    "y = model.NewIntVar(0,12,'y')\n",
    "\n",
    "model.AddElement(x_idx, x_list, x) # x = x_list[x_idx]\n",
    "model.AddElement(y_idx, y_list, y) # y = y_list[y_idx]\n",
    "model.Add( x + y <= 30)\n",
    "\n",
    "# Add an objective function and a direction, need not be linear\n",
    "model.Maximize(x + y)\n",
    "\n",
    "# Creates a solver and solves the model.\n",
    "solver = cp_model.CpSolver()\n",
    "status = solver.Solve(model)\n",
    "\n",
    "if status == cp_model.OPTIMAL:\n",
    "    print('Maximum of objective function: %i' % solver.ObjectiveValue())\n",
    "    print()\n",
    "    print('x = %i' % solver.Value(x))\n",
    "    print('y = %i' % solver.Value(y))"
   ]
  },
  {
   "cell_type": "markdown",
   "metadata": {
    "hidden": true
   },
   "source": [
    "## A Concrete CP-SAT Approach to Assignment"
   ]
  },
  {
   "cell_type": "markdown",
   "metadata": {
    "hidden": true
   },
   "source": [
    "Similarly we can use the element constraint to look up costs or profits associated with assigning workers to jobs or machines to locations as in the Job Shop Co. problem described on pages 348-350 of the textbook.  In that problem we have to assign each of 3 machines to one of 4 different locations.  Each machine can only be in one location and machine 2 can't be assigned to location 2.  There is a cost associated with each assignment and we want to minimize the total cost of placing the 3 machines.\n",
    "\n",
    "*To use the element constraint for an assignment problem you should assign the elements of the smaller set.  In this problem for example, we'll assign 3 machines to 4 locations.  If we were to assign 4 locations to 3 machines, then we'd need an extra \"dummy\" machine.*\n",
    "\n",
    "We will have one decision variable for each machine whose job it is to specify the location of the machine.  We'll use the element constraint to look up the costs and we'll use the all-different constraint to make sure the 3 machines are assigned to different locations.  Here are the costs (table is from page 349):\n",
    "\n",
    "<img src = \"./images/job_shop_cost_table.png\" width = 400>\n",
    "\n",
    "We'll use a \"bigM\" value of 99 to avoid assigning Machine 2 to Location 2."
   ]
  },
  {
   "cell_type": "code",
   "execution_count": 2,
   "metadata": {
    "hidden": true
   },
   "outputs": [
    {
     "name": "stdout",
     "output_type": "stream",
     "text": [
      "Lowest Possible Cost: 29.0\n",
      "\n",
      "Assignments and associated costs:\n"
     ]
    },
    {
     "data": {
      "text/html": [
       "<div>\n",
       "<style scoped>\n",
       "    .dataframe tbody tr th:only-of-type {\n",
       "        vertical-align: middle;\n",
       "    }\n",
       "\n",
       "    .dataframe tbody tr th {\n",
       "        vertical-align: top;\n",
       "    }\n",
       "\n",
       "    .dataframe thead th {\n",
       "        text-align: right;\n",
       "    }\n",
       "</style>\n",
       "<table border=\"1\" class=\"dataframe\">\n",
       "  <thead>\n",
       "    <tr style=\"text-align: right;\">\n",
       "      <th></th>\n",
       "      <th>Loc1</th>\n",
       "      <th>Loc2</th>\n",
       "      <th>Loc3</th>\n",
       "      <th>Loc4</th>\n",
       "    </tr>\n",
       "  </thead>\n",
       "  <tbody>\n",
       "    <tr>\n",
       "      <td>Mach1</td>\n",
       "      <td>0</td>\n",
       "      <td>0</td>\n",
       "      <td>0</td>\n",
       "      <td>11</td>\n",
       "    </tr>\n",
       "    <tr>\n",
       "      <td>Mach2</td>\n",
       "      <td>0</td>\n",
       "      <td>0</td>\n",
       "      <td>13</td>\n",
       "      <td>0</td>\n",
       "    </tr>\n",
       "    <tr>\n",
       "      <td>Mach3</td>\n",
       "      <td>5</td>\n",
       "      <td>0</td>\n",
       "      <td>0</td>\n",
       "      <td>0</td>\n",
       "    </tr>\n",
       "  </tbody>\n",
       "</table>\n",
       "</div>"
      ],
      "text/plain": [
       "       Loc1  Loc2  Loc3  Loc4\n",
       "Mach1     0     0     0    11\n",
       "Mach2     0     0    13     0\n",
       "Mach3     5     0     0     0"
      ]
     },
     "metadata": {},
     "output_type": "display_data"
    }
   ],
   "source": [
    "# concrete version\n",
    "import pandas as pd\n",
    "from IPython.display import display, HTML\n",
    "\n",
    "locations = ['Loc1', 'Loc2', 'Loc3', 'Loc4']\n",
    "machines = ['Mach1', 'Mach2', 'Mach3']\n",
    "cost = [ [13, 16, 12, 11],\n",
    "         [15, 99, 13, 20],\n",
    "         [ 5,  7, 10,  6]]\n",
    "\n",
    "num_locations = len(cost[0])\n",
    "\n",
    "from ortools.sat.python import cp_model\n",
    "\n",
    "# Create the model.\n",
    "model = cp_model.CpModel()\n",
    "\n",
    "# Creates the variables.\n",
    "assign0 = model.NewIntVar(0,num_locations-1,'assign0')\n",
    "assign1 = model.NewIntVar(0,num_locations-1,'assign1')\n",
    "assign2 = model.NewIntVar(0,num_locations-1,'assign2')\n",
    "\n",
    "cost0 = model.NewIntVar(0,99,'cost0')\n",
    "cost1 = model.NewIntVar(0,99,'cost1')\n",
    "cost2 = model.NewIntVar(0,99,'cost2')\n",
    "\n",
    "\n",
    "model.AddAllDifferent([assign0,assign1, assign2])\n",
    "model.AddElement(assign0,cost[0],cost0) # cost0 = cost[0][assign0]\n",
    "model.AddElement(assign1,cost[1],cost1) # cost1 = cost[1][assign1]\n",
    "model.AddElement(assign2,cost[2],cost2) # cost2 = cost[2][assign2]\n",
    "\n",
    "model.Minimize(cost0 + cost1 + cost2)\n",
    "\n",
    "# Creates a solver and solves the model.\n",
    "solver = cp_model.CpSolver()\n",
    "status = solver.Solve(model)\n",
    "\n",
    "if status == cp_model.OPTIMAL:\n",
    "    print(f'Lowest Possible Cost: {solver.ObjectiveValue()}')\n",
    "    print()\n",
    "    print('Assignments and associated costs:')\n",
    "    cost_assigns = pd.DataFrame(0, index=machines, columns=locations)\n",
    "    cost_assigns.iloc[ 0, solver.Value(assign0) ] = solver.Value(cost0)\n",
    "    cost_assigns.iloc[ 1, solver.Value(assign1) ] = solver.Value(cost1)\n",
    "    cost_assigns.iloc[ 2, solver.Value(assign2) ] = solver.Value(cost2)\n",
    "    display(cost_assigns)"
   ]
  },
  {
   "cell_type": "markdown",
   "metadata": {
    "hidden": true
   },
   "source": [
    "## An Abstract CP-SAT Approach to Assignment"
   ]
  },
  {
   "cell_type": "markdown",
   "metadata": {
    "hidden": true
   },
   "source": [
    "You can see in the code above that many lines of code are essentially repeated three times.  Imagine if there 100 assignments or more, then the code above would be really gross.  We present an abstracted version of the code below that can be easily generalized to larger or different problems."
   ]
  },
  {
   "cell_type": "code",
   "execution_count": 1,
   "metadata": {
    "hidden": true
   },
   "outputs": [
    {
     "name": "stdout",
     "output_type": "stream",
     "text": [
      "Lowest Possible Cost: 29.0\n",
      "\n",
      "Assignments and associated costs:\n"
     ]
    },
    {
     "data": {
      "text/html": [
       "<div>\n",
       "<style scoped>\n",
       "    .dataframe tbody tr th:only-of-type {\n",
       "        vertical-align: middle;\n",
       "    }\n",
       "\n",
       "    .dataframe tbody tr th {\n",
       "        vertical-align: top;\n",
       "    }\n",
       "\n",
       "    .dataframe thead th {\n",
       "        text-align: right;\n",
       "    }\n",
       "</style>\n",
       "<table border=\"1\" class=\"dataframe\">\n",
       "  <thead>\n",
       "    <tr style=\"text-align: right;\">\n",
       "      <th></th>\n",
       "      <th>Loc1</th>\n",
       "      <th>Loc2</th>\n",
       "      <th>Loc3</th>\n",
       "      <th>Loc4</th>\n",
       "    </tr>\n",
       "  </thead>\n",
       "  <tbody>\n",
       "    <tr>\n",
       "      <td>Mach1</td>\n",
       "      <td>0</td>\n",
       "      <td>0</td>\n",
       "      <td>0</td>\n",
       "      <td>11</td>\n",
       "    </tr>\n",
       "    <tr>\n",
       "      <td>Mach2</td>\n",
       "      <td>0</td>\n",
       "      <td>0</td>\n",
       "      <td>13</td>\n",
       "      <td>0</td>\n",
       "    </tr>\n",
       "    <tr>\n",
       "      <td>Mach3</td>\n",
       "      <td>5</td>\n",
       "      <td>0</td>\n",
       "      <td>0</td>\n",
       "      <td>0</td>\n",
       "    </tr>\n",
       "  </tbody>\n",
       "</table>\n",
       "</div>"
      ],
      "text/plain": [
       "       Loc1  Loc2  Loc3  Loc4\n",
       "Mach1     0     0     0    11\n",
       "Mach2     0     0    13     0\n",
       "Mach3     5     0     0     0"
      ]
     },
     "metadata": {},
     "output_type": "display_data"
    }
   ],
   "source": [
    "# abstract version\n",
    "import pandas as pd\n",
    "\n",
    "locations = ['Loc1', 'Loc2', 'Loc3', 'Loc4']\n",
    "machines = ['Mach1', 'Mach2', 'Mach3']\n",
    "cost_table = [[13, 16, 12, 11], [15, 99, 13, 20], [5, 7, 10, 6]]\n",
    "\n",
    "num_locations = len(cost_table[0])\n",
    "num_machines = len(cost_table)\n",
    "\n",
    "from ortools.sat.python import cp_model\n",
    "\n",
    "# Create the model.\n",
    "model = cp_model.CpModel()\n",
    "\n",
    "# Variables\n",
    "assign = [\n",
    "    model.NewIntVar(0, num_locations - 1, machines[i])\n",
    "    for i in range(num_machines)\n",
    "]\n",
    "\n",
    "#get the maximum cost from the cost_table for the top of our intvar range\n",
    "max_cost = max(list(map(max, cost_table)))\n",
    "cost = [model.NewIntVar(0, max_cost, f'cost{i}') for i in range(num_machines)]\n",
    "\n",
    "# Constraints\n",
    "model.AddAllDifferent(assign)\n",
    "\n",
    "for i in range(num_machines):\n",
    "    model.AddElement(assign[i], cost_table[i], cost[i])\n",
    "\n",
    "model.Minimize(sum(cost))\n",
    "\n",
    "# Creates a solver and solves the model.\n",
    "solver = cp_model.CpSolver()\n",
    "status = solver.Solve(model)\n",
    "\n",
    "if status == cp_model.OPTIMAL:\n",
    "    print(f'Lowest Possible Cost: {solver.ObjectiveValue()}')\n",
    "    print()\n",
    "    print('Assignments and associated costs:')\n",
    "    cost_assigns = pd.DataFrame(0, index=machines, columns=locations)\n",
    "    for i in range(num_machines):\n",
    "        cost_assigns.iloc[i, solver.Value(assign[i])] = solver.Value(cost[i])\n",
    "    display(cost_assigns)"
   ]
  },
  {
   "cell_type": "markdown",
   "metadata": {
    "hidden": true
   },
   "source": [
    "## <font color = \"blue\"> Self Assessment: Textbook Problem 9.3-4 </font>"
   ]
  },
  {
   "cell_type": "markdown",
   "metadata": {
    "hidden": true
   },
   "source": [
    "We first solved this problem in Homework 3:\n",
    "\n",
    "The coach of an age group swim team needs to assign swimmers to a 200-yard medley relay team to send to the Junior Olympics. Since most of his best swimmers are very fast in more than one stroke, it is not clear which swimmer should be assigned to each of the four strokes. The five fastest swimmers and the best times (in seconds) they have achieved in each of the strokes (for 50 yards) are\n",
    "\n",
    "<img src = \"images/swim.png\" width=\"500\">\n",
    "\n",
    "The coach wishes to determine how to assign four swimmers to the four different strokes to minimize the sum of the corresponding best times.  \n",
    "\n",
    "Use a generalizable approach constraint programming to solve this problem.  Be sure to identify both the minimum total time and the swimmer assignments.  Note, you'll need to multiply the times by 10 so that they're integers and then divide the total time by 10 to report the result."
   ]
  },
  {
   "cell_type": "markdown",
   "metadata": {
    "hidden": true
   },
   "source": [
    "## <font color = \"blue\"> Self Assessment: Ken must swim! </font>"
   ]
  },
  {
   "cell_type": "markdown",
   "metadata": {
    "hidden": true
   },
   "source": [
    "This one is a continuation from the previous problem and is a bit of a challenge to learn something on your own.  \n",
    "\n",
    "Suppose the coach decides that for the next swim meet Ken will be on the relay even if the total time is larger than before.  Add an extra constraint to the code so that all variable assignments that exclude Ken are not allowed.\n",
    "\n",
    "Use the `AddForbiddenAssignments` constraint to forbid all assignments that exclude Ken.  You can look it up in the <a href=\"https://developers.google.com/optimization/reference/python/sat/python/cp_model\">reference manual for CP-SAT.</a>  The assignments you need to exclude are those that include only the swimmers 0,1,2, and 3 so you'll need a list of all permutations of those four numbers.  Look up `permutations` in the `itertools` package and remember to convert the `itertools` object to a list of permutations with `list`."
   ]
  },
  {
   "cell_type": "markdown",
   "metadata": {
    "heading_collapsed": true
   },
   "source": [
    "# Scheduling Problems"
   ]
  },
  {
   "cell_type": "markdown",
   "metadata": {
    "hidden": true
   },
   "source": [
    "A common application for constraint programming is to generate feasible schedules of workers to shifts, sports league play schedules, processing jobs to machines, etc.  Often constraint programming tools have special functionality built in to facilitate scheduling problems.  \n",
    "\n",
    "We'll explore a simple example below, but if you wish to see more examples you could explore the <a href=\"https://developers.google.com/optimization/scheduling\">CP-SAT documention on scheduling problems.</a>"
   ]
  },
  {
   "cell_type": "markdown",
   "metadata": {
    "hidden": true
   },
   "source": [
    "## A Housebuilding Example"
   ]
  },
  {
   "cell_type": "markdown",
   "metadata": {
    "hidden": true
   },
   "source": [
    "We have a housebuilding problem in which there are 10 tasks of fixed size, each of which needs to be assigned a starting time in such a way as to minimize the total time.  Moreover, there are precedence constraints wherein some tasks must be completed before others are started.  The table below summarizes the durations and precedence constraints: \n",
    "\n",
    "task | duration | must be done before\n",
    "---- | ---- | ----\n",
    "masonry | 35 | carpentry, plumbing, ceiling\n",
    "carpentry | 15 | roofing\n",
    "plumbing | 40| facade, garden\n",
    "ceiling | 15 | painting\n",
    "roofing | 5 | windows, facade, garden\n",
    "painting | 10 | moving\n",
    "windows | 5 | moving\n",
    "facade | 10 | moving\n",
    "garden | 5 | moving\n",
    "moving | 5 |\n",
    "\n",
    "We'll lay out how to do this with CP-SAT in a very concrete way first, then we'll code it in a way that could be generalized to other problems."
   ]
  },
  {
   "cell_type": "markdown",
   "metadata": {
    "hidden": true
   },
   "source": [
    "## A concrete CP-SAT solution"
   ]
  },
  {
   "cell_type": "markdown",
   "metadata": {
    "hidden": true
   },
   "source": [
    "First we initialize the model and create variables for the start times of each task.  To make the range of the variables adequately large we initialize them with the total time required if all the tasks were done without overlap."
   ]
  },
  {
   "cell_type": "code",
   "execution_count": 3,
   "metadata": {
    "hidden": true
   },
   "outputs": [],
   "source": [
    "from ortools.sat.python import cp_model\n",
    "\n",
    "# Creates the model.\n",
    "model = cp_model.CpModel()\n",
    "\n",
    "horizon = 35 + 15 + 40 + 15 + 5 + 10 + 5 + 10 + 5 + 5\n",
    "\n",
    "start_masonry = model.NewIntVar(0, horizon, 'start_masonry')\n",
    "start_carpentry = model.NewIntVar(0, horizon, 'start_carpentry')\n",
    "start_plumbing = model.NewIntVar(0, horizon, 'start_plumbing')\n",
    "start_ceiling = model.NewIntVar(0, horizon, 'start_ceiling')\n",
    "start_roofing = model.NewIntVar(0, horizon, 'start_roofing')\n",
    "start_painting = model.NewIntVar(0, horizon, 'start_painting')\n",
    "start_windows = model.NewIntVar(0, horizon, 'start_windows')\n",
    "start_facade = model.NewIntVar(0, horizon, 'start_facade')\n",
    "start_garden = model.NewIntVar(0, horizon, 'start_garden')\n",
    "start_moving = model.NewIntVar(0, horizon, 'start_moving')"
   ]
  },
  {
   "cell_type": "markdown",
   "metadata": {
    "hidden": true
   },
   "source": [
    "Now we could use only these variables and build the task durations right into the precedence constraints, it is convenient and better for generalization to introduce variables for the end times of the tasks."
   ]
  },
  {
   "cell_type": "code",
   "execution_count": 4,
   "metadata": {
    "hidden": true
   },
   "outputs": [],
   "source": [
    "end_masonry = model.NewIntVar(0, horizon, 'end_masonry')\n",
    "end_carpentry = model.NewIntVar(0, horizon, 'end_carpentry')\n",
    "end_plumbing = model.NewIntVar(0, horizon, 'end_plumbing')\n",
    "end_ceiling = model.NewIntVar(0, horizon, 'end_ceiling')\n",
    "end_roofing = model.NewIntVar(0, horizon, 'end_roofing')\n",
    "end_painting = model.NewIntVar(0, horizon, 'end_painting')\n",
    "end_windows = model.NewIntVar(0, horizon, 'end_windows')\n",
    "end_facade = model.NewIntVar(0, horizon, 'end_facade')\n",
    "end_garden = model.NewIntVar(0, horizon, 'end_garden')\n",
    "end_moving = model.NewIntVar(0, horizon, 'end_moving')"
   ]
  },
  {
   "cell_type": "markdown",
   "metadata": {
    "hidden": true
   },
   "source": [
    "The end time minus the start time of task must equal the duration of the task.  This can be handled by adding equality constraints:"
   ]
  },
  {
   "cell_type": "code",
   "execution_count": 5,
   "metadata": {
    "hidden": true
   },
   "outputs": [
    {
     "data": {
      "text/plain": [
       "<ortools.sat.python.cp_model.Constraint at 0x11abdfb10>"
      ]
     },
     "execution_count": 5,
     "metadata": {},
     "output_type": "execute_result"
    }
   ],
   "source": [
    "model.Add(end_masonry == start_masonry + 35)\n",
    "model.Add(end_carpentry == start_carpentry + 15)\n",
    "model.Add(end_plumbing == start_plumbing + 40)\n",
    "model.Add(end_ceiling == start_ceiling + 15)\n",
    "model.Add(end_roofing == start_roofing + 5 )\n",
    "model.Add(end_painting == start_painting + 10)\n",
    "model.Add(end_windows == start_windows + 5)\n",
    "model.Add(end_facade == start_facade + 10)\n",
    "model.Add(end_garden == start_garden + 5)\n",
    "model.Add(end_moving == start_moving + 5)"
   ]
  },
  {
   "cell_type": "markdown",
   "metadata": {
    "hidden": true
   },
   "source": [
    "When we write this in a more general way we'll introduce interval variables and \"no-overlap\" constraints.  Now the precedence constraints:"
   ]
  },
  {
   "cell_type": "code",
   "execution_count": 6,
   "metadata": {
    "hidden": true
   },
   "outputs": [
    {
     "data": {
      "text/plain": [
       "<ortools.sat.python.cp_model.Constraint at 0x11abdf5d0>"
      ]
     },
     "execution_count": 6,
     "metadata": {},
     "output_type": "execute_result"
    }
   ],
   "source": [
    "model.Add(end_masonry <= start_carpentry)\n",
    "model.Add(end_masonry <= start_plumbing)\n",
    "model.Add(end_masonry <= start_ceiling)\n",
    "model.Add(end_carpentry <= start_roofing)\n",
    "model.Add(end_plumbing <= start_facade)\n",
    "model.Add(end_plumbing <= start_garden)\n",
    "model.Add(end_ceiling <= start_painting)\n",
    "model.Add(end_roofing <= start_windows)\n",
    "model.Add(end_roofing <= start_facade)\n",
    "model.Add(end_roofing <= start_garden)\n",
    "model.Add(end_windows <= start_moving)\n",
    "model.Add(end_facade <= start_moving)\n",
    "model.Add(end_garden <= start_moving)"
   ]
  },
  {
   "cell_type": "markdown",
   "metadata": {
    "hidden": true
   },
   "source": [
    "The objective is to make the shortest schedule which we can do my minimizing the largest end time.  To do this we create a new objective variable and use the `AddMaxEquality` constraint to set it equal to the maximum of the end times for all of the jobs.  Note that everything we've done to this point in this problem is just integer programming and could be handled by Pyomo, but Pyomo couldn't handle the objective function:"
   ]
  },
  {
   "cell_type": "code",
   "execution_count": 7,
   "metadata": {
    "hidden": true
   },
   "outputs": [],
   "source": [
    "obj_var = model.NewIntVar(0, horizon, 'makespan')\n",
    "model.AddMaxEquality(obj_var, [\n",
    "    end_masonry, end_carpentry, end_plumbing, end_ceiling, end_roofing,\n",
    "    end_painting, end_windows, end_facade, end_garden, end_moving\n",
    "])\n",
    "model.Minimize(obj_var)"
   ]
  },
  {
   "cell_type": "markdown",
   "metadata": {
    "hidden": true
   },
   "source": [
    "Solve the model:"
   ]
  },
  {
   "cell_type": "code",
   "execution_count": 8,
   "metadata": {
    "hidden": true
   },
   "outputs": [],
   "source": [
    "solver = cp_model.CpSolver()\n",
    "status = solver.Solve(model)"
   ]
  },
  {
   "cell_type": "markdown",
   "metadata": {
    "hidden": true
   },
   "source": [
    "Now we can display the total schedule and its length:"
   ]
  },
  {
   "cell_type": "code",
   "execution_count": 9,
   "metadata": {
    "hidden": true
   },
   "outputs": [
    {
     "name": "stdout",
     "output_type": "stream",
     "text": [
      "Optimal Schedule Length: 90.0\n",
      "Masonry start at 0 and end at 35\n",
      "Carpentry start at 35 and end at 50\n",
      "Plumbing start at 35 and end at 75\n",
      "Ceiling start at 35 and end at 50\n",
      "Roofing start at 50 and end at 55\n",
      "Painting start at 50 and end at 60\n",
      "Windows start at 55 and end at 60\n",
      "Facade start at 75 and end at 85\n",
      "Garden start at 75 and end at 80\n",
      "Moving start at 85 and end at 90\n"
     ]
    }
   ],
   "source": [
    "print(f'Optimal Schedule Length: {solver.ObjectiveValue()}')\n",
    "print(f'Masonry start at {solver.Value(start_masonry)} and end at {solver.Value(end_masonry)}')\n",
    "print(f'Carpentry start at {solver.Value(start_carpentry)} and end at {solver.Value(end_carpentry)}')\n",
    "print(f'Plumbing start at {solver.Value(start_plumbing)} and end at {solver.Value(end_plumbing)}')\n",
    "print(f'Ceiling start at {solver.Value(start_ceiling)} and end at {solver.Value(end_ceiling)}')\n",
    "print(f'Roofing start at {solver.Value(start_roofing)} and end at {solver.Value(end_roofing)}')\n",
    "print(f'Painting start at {solver.Value(start_painting)} and end at {solver.Value(end_painting)}')\n",
    "print(f'Windows start at {solver.Value(start_windows)} and end at {solver.Value(end_windows)}')\n",
    "print(f'Facade start at {solver.Value(start_facade)} and end at {solver.Value(end_facade)}')\n",
    "print(f'Garden start at {solver.Value(start_garden)} and end at {solver.Value(end_garden)}')\n",
    "print(f'Moving start at {solver.Value(start_moving)} and end at {solver.Value(end_moving)}')"
   ]
  },
  {
   "cell_type": "markdown",
   "metadata": {
    "hidden": true
   },
   "source": [
    "If the tasks were done in succession the total time would be 145, but by allowing tasks to overlap where possible we reduced the total time to 90.  However, we really didn't enjoy typing out all of those variables and constraints individually, this problem really should be formulated abstractly for anything more than a few tasks."
   ]
  },
  {
   "cell_type": "markdown",
   "metadata": {
    "hidden": true
   },
   "source": [
    "## A Generalizable CP-SAT solution"
   ]
  },
  {
   "cell_type": "code",
   "execution_count": 10,
   "metadata": {
    "hidden": true
   },
   "outputs": [
    {
     "name": "stdout",
     "output_type": "stream",
     "text": [
      "Optimal Schedule Length: 90.0\n",
      "masonry start at 0 and end at 35\n",
      "carpentry start at 35 and end at 50\n",
      "plumbing start at 35 and end at 75\n",
      "ceiling start at 35 and end at 50\n",
      "roofing start at 50 and end at 55\n",
      "painting start at 50 and end at 60\n",
      "windows start at 55 and end at 60\n",
      "facade start at 75 and end at 85\n",
      "garden start at 75 and end at 80\n",
      "moving start at 85 and end at 90\n"
     ]
    }
   ],
   "source": [
    "import numpy as np\n",
    "\n",
    "task_duration_dict = {\n",
    "    'masonry': 35,\n",
    "    'carpentry': 15,\n",
    "    'plumbing': 40,\n",
    "    'ceiling': 15,\n",
    "    'roofing': 5,\n",
    "    'painting': 10,\n",
    "    'windows': 5,\n",
    "    'facade': 10,\n",
    "    'garden': 5,\n",
    "    'moving': 5\n",
    "}\n",
    "task_names = list(task_duration_dict.keys())\n",
    "num_tasks = len(task_names)\n",
    "durations = list(task_duration_dict.values())\n",
    "\n",
    "# for each task we have a list of tasks that must go after\n",
    "# task:['these','tasks','after']\n",
    "precedence_dict = {\n",
    "    'masonry': ['carpentry', 'plumbing', 'ceiling'],\n",
    "    'carpentry': ['roofing'],\n",
    "    'plumbing': ['facade', 'garden'],\n",
    "    'ceiling': ['painting'],\n",
    "    'roofing': ['windows', 'facade', 'garden'],\n",
    "    'painting': ['moving'],\n",
    "    'windows': ['moving'],\n",
    "    'facade': ['moving'],\n",
    "    'garden': ['moving']\n",
    "}\n",
    "\n",
    "task_name_to_number_dict = dict(zip(task_names, np.arange(0, num_tasks)))\n",
    "\n",
    "horizon = sum(task_duration_dict.values())\n",
    "\n",
    "from ortools.sat.python import cp_model\n",
    "model = cp_model.CpModel()\n",
    "\n",
    "start_vars = [\n",
    "    model.NewIntVar(0, horizon, name=f'start_{t}') for t in task_names\n",
    "]\n",
    "end_vars = [model.NewIntVar(0, horizon, name=f'end_{t}') for t in task_names]\n",
    "\n",
    "# the `NewIntervalVar` are both variables and constraints, the internally enforce that start + duration = end\n",
    "intervals = [\n",
    "    model.NewIntervalVar(start_vars[i],\n",
    "                         durations[i],\n",
    "                         end_vars[i],\n",
    "                         name=f'interval_{task_names[i]}')\n",
    "    for i in range(num_tasks)\n",
    "]\n",
    "\n",
    "# precedence constraints\n",
    "for before in list(precedence_dict.keys()):\n",
    "    for after in precedence_dict[before]:\n",
    "        before_index = task_name_to_number_dict[before]\n",
    "        after_index = task_name_to_number_dict[after]\n",
    "        model.Add(end_vars[before_index] <= start_vars[after_index])\n",
    "\n",
    "obj_var = model.NewIntVar(0, horizon, 'largest_end_time')\n",
    "model.AddMaxEquality(obj_var, end_vars)\n",
    "model.Minimize(obj_var)\n",
    "\n",
    "solver = cp_model.CpSolver()\n",
    "status = solver.Solve(model)\n",
    "\n",
    "print(f'Optimal Schedule Length: {solver.ObjectiveValue()}')\n",
    "for i in range(num_tasks):\n",
    "    print(\n",
    "        f'{task_names[i]} start at {solver.Value(start_vars[i])} and end at {solver.Value(end_vars[i])}'\n",
    "    )"
   ]
  },
  {
   "cell_type": "markdown",
   "metadata": {
    "hidden": true
   },
   "source": [
    "## Visualizing a Schedule"
   ]
  },
  {
   "cell_type": "markdown",
   "metadata": {
    "hidden": true
   },
   "source": [
    "A horizontal bar-like graph called a Gantt chart is often used to visualize scheduled tasks:"
   ]
  },
  {
   "cell_type": "code",
   "execution_count": 11,
   "metadata": {
    "code_folding": [
     0
    ],
    "hidden": true
   },
   "outputs": [
    {
     "data": {
      "text/html": [
       "\n",
       "    <div class=\"bk-root\">\n",
       "        <a href=\"https://bokeh.org\" target=\"_blank\" class=\"bk-logo bk-logo-small bk-logo-notebook\"></a>\n",
       "        <span id=\"1001\">Loading BokehJS ...</span>\n",
       "    </div>"
      ]
     },
     "metadata": {},
     "output_type": "display_data"
    },
    {
     "data": {
      "application/javascript": [
       "\n",
       "(function(root) {\n",
       "  function now() {\n",
       "    return new Date();\n",
       "  }\n",
       "\n",
       "  var force = true;\n",
       "\n",
       "  if (typeof root._bokeh_onload_callbacks === \"undefined\" || force === true) {\n",
       "    root._bokeh_onload_callbacks = [];\n",
       "    root._bokeh_is_loading = undefined;\n",
       "  }\n",
       "\n",
       "  var JS_MIME_TYPE = 'application/javascript';\n",
       "  var HTML_MIME_TYPE = 'text/html';\n",
       "  var EXEC_MIME_TYPE = 'application/vnd.bokehjs_exec.v0+json';\n",
       "  var CLASS_NAME = 'output_bokeh rendered_html';\n",
       "\n",
       "  /**\n",
       "   * Render data to the DOM node\n",
       "   */\n",
       "  function render(props, node) {\n",
       "    var script = document.createElement(\"script\");\n",
       "    node.appendChild(script);\n",
       "  }\n",
       "\n",
       "  /**\n",
       "   * Handle when an output is cleared or removed\n",
       "   */\n",
       "  function handleClearOutput(event, handle) {\n",
       "    var cell = handle.cell;\n",
       "\n",
       "    var id = cell.output_area._bokeh_element_id;\n",
       "    var server_id = cell.output_area._bokeh_server_id;\n",
       "    // Clean up Bokeh references\n",
       "    if (id != null && id in Bokeh.index) {\n",
       "      Bokeh.index[id].model.document.clear();\n",
       "      delete Bokeh.index[id];\n",
       "    }\n",
       "\n",
       "    if (server_id !== undefined) {\n",
       "      // Clean up Bokeh references\n",
       "      var cmd = \"from bokeh.io.state import curstate; print(curstate().uuid_to_server['\" + server_id + \"'].get_sessions()[0].document.roots[0]._id)\";\n",
       "      cell.notebook.kernel.execute(cmd, {\n",
       "        iopub: {\n",
       "          output: function(msg) {\n",
       "            var id = msg.content.text.trim();\n",
       "            if (id in Bokeh.index) {\n",
       "              Bokeh.index[id].model.document.clear();\n",
       "              delete Bokeh.index[id];\n",
       "            }\n",
       "          }\n",
       "        }\n",
       "      });\n",
       "      // Destroy server and session\n",
       "      var cmd = \"import bokeh.io.notebook as ion; ion.destroy_server('\" + server_id + \"')\";\n",
       "      cell.notebook.kernel.execute(cmd);\n",
       "    }\n",
       "  }\n",
       "\n",
       "  /**\n",
       "   * Handle when a new output is added\n",
       "   */\n",
       "  function handleAddOutput(event, handle) {\n",
       "    var output_area = handle.output_area;\n",
       "    var output = handle.output;\n",
       "\n",
       "    // limit handleAddOutput to display_data with EXEC_MIME_TYPE content only\n",
       "    if ((output.output_type != \"display_data\") || (!output.data.hasOwnProperty(EXEC_MIME_TYPE))) {\n",
       "      return\n",
       "    }\n",
       "\n",
       "    var toinsert = output_area.element.find(\".\" + CLASS_NAME.split(' ')[0]);\n",
       "\n",
       "    if (output.metadata[EXEC_MIME_TYPE][\"id\"] !== undefined) {\n",
       "      toinsert[toinsert.length - 1].firstChild.textContent = output.data[JS_MIME_TYPE];\n",
       "      // store reference to embed id on output_area\n",
       "      output_area._bokeh_element_id = output.metadata[EXEC_MIME_TYPE][\"id\"];\n",
       "    }\n",
       "    if (output.metadata[EXEC_MIME_TYPE][\"server_id\"] !== undefined) {\n",
       "      var bk_div = document.createElement(\"div\");\n",
       "      bk_div.innerHTML = output.data[HTML_MIME_TYPE];\n",
       "      var script_attrs = bk_div.children[0].attributes;\n",
       "      for (var i = 0; i < script_attrs.length; i++) {\n",
       "        toinsert[toinsert.length - 1].firstChild.setAttribute(script_attrs[i].name, script_attrs[i].value);\n",
       "      }\n",
       "      // store reference to server id on output_area\n",
       "      output_area._bokeh_server_id = output.metadata[EXEC_MIME_TYPE][\"server_id\"];\n",
       "    }\n",
       "  }\n",
       "\n",
       "  function register_renderer(events, OutputArea) {\n",
       "\n",
       "    function append_mime(data, metadata, element) {\n",
       "      // create a DOM node to render to\n",
       "      var toinsert = this.create_output_subarea(\n",
       "        metadata,\n",
       "        CLASS_NAME,\n",
       "        EXEC_MIME_TYPE\n",
       "      );\n",
       "      this.keyboard_manager.register_events(toinsert);\n",
       "      // Render to node\n",
       "      var props = {data: data, metadata: metadata[EXEC_MIME_TYPE]};\n",
       "      render(props, toinsert[toinsert.length - 1]);\n",
       "      element.append(toinsert);\n",
       "      return toinsert\n",
       "    }\n",
       "\n",
       "    /* Handle when an output is cleared or removed */\n",
       "    events.on('clear_output.CodeCell', handleClearOutput);\n",
       "    events.on('delete.Cell', handleClearOutput);\n",
       "\n",
       "    /* Handle when a new output is added */\n",
       "    events.on('output_added.OutputArea', handleAddOutput);\n",
       "\n",
       "    /**\n",
       "     * Register the mime type and append_mime function with output_area\n",
       "     */\n",
       "    OutputArea.prototype.register_mime_type(EXEC_MIME_TYPE, append_mime, {\n",
       "      /* Is output safe? */\n",
       "      safe: true,\n",
       "      /* Index of renderer in `output_area.display_order` */\n",
       "      index: 0\n",
       "    });\n",
       "  }\n",
       "\n",
       "  // register the mime type if in Jupyter Notebook environment and previously unregistered\n",
       "  if (root.Jupyter !== undefined) {\n",
       "    var events = require('base/js/events');\n",
       "    var OutputArea = require('notebook/js/outputarea').OutputArea;\n",
       "\n",
       "    if (OutputArea.prototype.mime_types().indexOf(EXEC_MIME_TYPE) == -1) {\n",
       "      register_renderer(events, OutputArea);\n",
       "    }\n",
       "  }\n",
       "\n",
       "  \n",
       "  if (typeof (root._bokeh_timeout) === \"undefined\" || force === true) {\n",
       "    root._bokeh_timeout = Date.now() + 5000;\n",
       "    root._bokeh_failed_load = false;\n",
       "  }\n",
       "\n",
       "  var NB_LOAD_WARNING = {'data': {'text/html':\n",
       "     \"<div style='background-color: #fdd'>\\n\"+\n",
       "     \"<p>\\n\"+\n",
       "     \"BokehJS does not appear to have successfully loaded. If loading BokehJS from CDN, this \\n\"+\n",
       "     \"may be due to a slow or bad network connection. Possible fixes:\\n\"+\n",
       "     \"</p>\\n\"+\n",
       "     \"<ul>\\n\"+\n",
       "     \"<li>re-rerun `output_notebook()` to attempt to load from CDN again, or</li>\\n\"+\n",
       "     \"<li>use INLINE resources instead, as so:</li>\\n\"+\n",
       "     \"</ul>\\n\"+\n",
       "     \"<code>\\n\"+\n",
       "     \"from bokeh.resources import INLINE\\n\"+\n",
       "     \"output_notebook(resources=INLINE)\\n\"+\n",
       "     \"</code>\\n\"+\n",
       "     \"</div>\"}};\n",
       "\n",
       "  function display_loaded() {\n",
       "    var el = document.getElementById(\"1001\");\n",
       "    if (el != null) {\n",
       "      el.textContent = \"BokehJS is loading...\";\n",
       "    }\n",
       "    if (root.Bokeh !== undefined) {\n",
       "      if (el != null) {\n",
       "        el.textContent = \"BokehJS \" + root.Bokeh.version + \" successfully loaded.\";\n",
       "      }\n",
       "    } else if (Date.now() < root._bokeh_timeout) {\n",
       "      setTimeout(display_loaded, 100)\n",
       "    }\n",
       "  }\n",
       "\n",
       "\n",
       "  function run_callbacks() {\n",
       "    try {\n",
       "      root._bokeh_onload_callbacks.forEach(function(callback) {\n",
       "        if (callback != null)\n",
       "          callback();\n",
       "      });\n",
       "    } finally {\n",
       "      delete root._bokeh_onload_callbacks\n",
       "    }\n",
       "    console.debug(\"Bokeh: all callbacks have finished\");\n",
       "  }\n",
       "\n",
       "  function load_libs(css_urls, js_urls, callback) {\n",
       "    if (css_urls == null) css_urls = [];\n",
       "    if (js_urls == null) js_urls = [];\n",
       "\n",
       "    root._bokeh_onload_callbacks.push(callback);\n",
       "    if (root._bokeh_is_loading > 0) {\n",
       "      console.debug(\"Bokeh: BokehJS is being loaded, scheduling callback at\", now());\n",
       "      return null;\n",
       "    }\n",
       "    if (js_urls == null || js_urls.length === 0) {\n",
       "      run_callbacks();\n",
       "      return null;\n",
       "    }\n",
       "    console.debug(\"Bokeh: BokehJS not loaded, scheduling load and callback at\", now());\n",
       "    root._bokeh_is_loading = css_urls.length + js_urls.length;\n",
       "\n",
       "    function on_load() {\n",
       "      root._bokeh_is_loading--;\n",
       "      if (root._bokeh_is_loading === 0) {\n",
       "        console.debug(\"Bokeh: all BokehJS libraries/stylesheets loaded\");\n",
       "        run_callbacks()\n",
       "      }\n",
       "    }\n",
       "\n",
       "    function on_error() {\n",
       "      console.error(\"failed to load \" + url);\n",
       "    }\n",
       "\n",
       "    for (var i = 0; i < css_urls.length; i++) {\n",
       "      var url = css_urls[i];\n",
       "      const element = document.createElement(\"link\");\n",
       "      element.onload = on_load;\n",
       "      element.onerror = on_error;\n",
       "      element.rel = \"stylesheet\";\n",
       "      element.type = \"text/css\";\n",
       "      element.href = url;\n",
       "      console.debug(\"Bokeh: injecting link tag for BokehJS stylesheet: \", url);\n",
       "      document.body.appendChild(element);\n",
       "    }\n",
       "\n",
       "    for (var i = 0; i < js_urls.length; i++) {\n",
       "      var url = js_urls[i];\n",
       "      var element = document.createElement('script');\n",
       "      element.onload = on_load;\n",
       "      element.onerror = on_error;\n",
       "      element.async = false;\n",
       "      element.src = url;\n",
       "      console.debug(\"Bokeh: injecting script tag for BokehJS library: \", url);\n",
       "      document.head.appendChild(element);\n",
       "    }\n",
       "  };var element = document.getElementById(\"1001\");\n",
       "  if (element == null) {\n",
       "    console.error(\"Bokeh: ERROR: autoload.js configured with elementid '1001' but no matching script tag was found. \")\n",
       "    return false;\n",
       "  }\n",
       "\n",
       "  function inject_raw_css(css) {\n",
       "    const element = document.createElement(\"style\");\n",
       "    element.appendChild(document.createTextNode(css));\n",
       "    document.body.appendChild(element);\n",
       "  }\n",
       "\n",
       "  \n",
       "  var js_urls = [\"https://cdn.pydata.org/bokeh/release/bokeh-1.4.0.min.js\", \"https://cdn.pydata.org/bokeh/release/bokeh-widgets-1.4.0.min.js\", \"https://cdn.pydata.org/bokeh/release/bokeh-tables-1.4.0.min.js\", \"https://cdn.pydata.org/bokeh/release/bokeh-gl-1.4.0.min.js\"];\n",
       "  var css_urls = [];\n",
       "  \n",
       "\n",
       "  var inline_js = [\n",
       "    function(Bokeh) {\n",
       "      Bokeh.set_log_level(\"info\");\n",
       "    },\n",
       "    function(Bokeh) {\n",
       "    \n",
       "    \n",
       "    }\n",
       "  ];\n",
       "\n",
       "  function run_inline_js() {\n",
       "    \n",
       "    if (root.Bokeh !== undefined || force === true) {\n",
       "      \n",
       "    for (var i = 0; i < inline_js.length; i++) {\n",
       "      inline_js[i].call(root, root.Bokeh);\n",
       "    }\n",
       "    if (force === true) {\n",
       "        display_loaded();\n",
       "      }} else if (Date.now() < root._bokeh_timeout) {\n",
       "      setTimeout(run_inline_js, 100);\n",
       "    } else if (!root._bokeh_failed_load) {\n",
       "      console.log(\"Bokeh: BokehJS failed to load within specified timeout.\");\n",
       "      root._bokeh_failed_load = true;\n",
       "    } else if (force !== true) {\n",
       "      var cell = $(document.getElementById(\"1001\")).parents('.cell').data().cell;\n",
       "      cell.output_area.append_execute_result(NB_LOAD_WARNING)\n",
       "    }\n",
       "\n",
       "  }\n",
       "\n",
       "  if (root._bokeh_is_loading === 0) {\n",
       "    console.debug(\"Bokeh: BokehJS loaded, going straight to plotting\");\n",
       "    run_inline_js();\n",
       "  } else {\n",
       "    load_libs(css_urls, js_urls, function() {\n",
       "      console.debug(\"Bokeh: BokehJS plotting callback run at\", now());\n",
       "      run_inline_js();\n",
       "    });\n",
       "  }\n",
       "}(window));"
      ],
      "application/vnd.bokehjs_load.v0+json": "\n(function(root) {\n  function now() {\n    return new Date();\n  }\n\n  var force = true;\n\n  if (typeof root._bokeh_onload_callbacks === \"undefined\" || force === true) {\n    root._bokeh_onload_callbacks = [];\n    root._bokeh_is_loading = undefined;\n  }\n\n  \n\n  \n  if (typeof (root._bokeh_timeout) === \"undefined\" || force === true) {\n    root._bokeh_timeout = Date.now() + 5000;\n    root._bokeh_failed_load = false;\n  }\n\n  var NB_LOAD_WARNING = {'data': {'text/html':\n     \"<div style='background-color: #fdd'>\\n\"+\n     \"<p>\\n\"+\n     \"BokehJS does not appear to have successfully loaded. If loading BokehJS from CDN, this \\n\"+\n     \"may be due to a slow or bad network connection. Possible fixes:\\n\"+\n     \"</p>\\n\"+\n     \"<ul>\\n\"+\n     \"<li>re-rerun `output_notebook()` to attempt to load from CDN again, or</li>\\n\"+\n     \"<li>use INLINE resources instead, as so:</li>\\n\"+\n     \"</ul>\\n\"+\n     \"<code>\\n\"+\n     \"from bokeh.resources import INLINE\\n\"+\n     \"output_notebook(resources=INLINE)\\n\"+\n     \"</code>\\n\"+\n     \"</div>\"}};\n\n  function display_loaded() {\n    var el = document.getElementById(\"1001\");\n    if (el != null) {\n      el.textContent = \"BokehJS is loading...\";\n    }\n    if (root.Bokeh !== undefined) {\n      if (el != null) {\n        el.textContent = \"BokehJS \" + root.Bokeh.version + \" successfully loaded.\";\n      }\n    } else if (Date.now() < root._bokeh_timeout) {\n      setTimeout(display_loaded, 100)\n    }\n  }\n\n\n  function run_callbacks() {\n    try {\n      root._bokeh_onload_callbacks.forEach(function(callback) {\n        if (callback != null)\n          callback();\n      });\n    } finally {\n      delete root._bokeh_onload_callbacks\n    }\n    console.debug(\"Bokeh: all callbacks have finished\");\n  }\n\n  function load_libs(css_urls, js_urls, callback) {\n    if (css_urls == null) css_urls = [];\n    if (js_urls == null) js_urls = [];\n\n    root._bokeh_onload_callbacks.push(callback);\n    if (root._bokeh_is_loading > 0) {\n      console.debug(\"Bokeh: BokehJS is being loaded, scheduling callback at\", now());\n      return null;\n    }\n    if (js_urls == null || js_urls.length === 0) {\n      run_callbacks();\n      return null;\n    }\n    console.debug(\"Bokeh: BokehJS not loaded, scheduling load and callback at\", now());\n    root._bokeh_is_loading = css_urls.length + js_urls.length;\n\n    function on_load() {\n      root._bokeh_is_loading--;\n      if (root._bokeh_is_loading === 0) {\n        console.debug(\"Bokeh: all BokehJS libraries/stylesheets loaded\");\n        run_callbacks()\n      }\n    }\n\n    function on_error() {\n      console.error(\"failed to load \" + url);\n    }\n\n    for (var i = 0; i < css_urls.length; i++) {\n      var url = css_urls[i];\n      const element = document.createElement(\"link\");\n      element.onload = on_load;\n      element.onerror = on_error;\n      element.rel = \"stylesheet\";\n      element.type = \"text/css\";\n      element.href = url;\n      console.debug(\"Bokeh: injecting link tag for BokehJS stylesheet: \", url);\n      document.body.appendChild(element);\n    }\n\n    for (var i = 0; i < js_urls.length; i++) {\n      var url = js_urls[i];\n      var element = document.createElement('script');\n      element.onload = on_load;\n      element.onerror = on_error;\n      element.async = false;\n      element.src = url;\n      console.debug(\"Bokeh: injecting script tag for BokehJS library: \", url);\n      document.head.appendChild(element);\n    }\n  };var element = document.getElementById(\"1001\");\n  if (element == null) {\n    console.error(\"Bokeh: ERROR: autoload.js configured with elementid '1001' but no matching script tag was found. \")\n    return false;\n  }\n\n  function inject_raw_css(css) {\n    const element = document.createElement(\"style\");\n    element.appendChild(document.createTextNode(css));\n    document.body.appendChild(element);\n  }\n\n  \n  var js_urls = [\"https://cdn.pydata.org/bokeh/release/bokeh-1.4.0.min.js\", \"https://cdn.pydata.org/bokeh/release/bokeh-widgets-1.4.0.min.js\", \"https://cdn.pydata.org/bokeh/release/bokeh-tables-1.4.0.min.js\", \"https://cdn.pydata.org/bokeh/release/bokeh-gl-1.4.0.min.js\"];\n  var css_urls = [];\n  \n\n  var inline_js = [\n    function(Bokeh) {\n      Bokeh.set_log_level(\"info\");\n    },\n    function(Bokeh) {\n    \n    \n    }\n  ];\n\n  function run_inline_js() {\n    \n    if (root.Bokeh !== undefined || force === true) {\n      \n    for (var i = 0; i < inline_js.length; i++) {\n      inline_js[i].call(root, root.Bokeh);\n    }\n    if (force === true) {\n        display_loaded();\n      }} else if (Date.now() < root._bokeh_timeout) {\n      setTimeout(run_inline_js, 100);\n    } else if (!root._bokeh_failed_load) {\n      console.log(\"Bokeh: BokehJS failed to load within specified timeout.\");\n      root._bokeh_failed_load = true;\n    } else if (force !== true) {\n      var cell = $(document.getElementById(\"1001\")).parents('.cell').data().cell;\n      cell.output_area.append_execute_result(NB_LOAD_WARNING)\n    }\n\n  }\n\n  if (root._bokeh_is_loading === 0) {\n    console.debug(\"Bokeh: BokehJS loaded, going straight to plotting\");\n    run_inline_js();\n  } else {\n    load_libs(css_urls, js_urls, function() {\n      console.debug(\"Bokeh: BokehJS plotting callback run at\", now());\n      run_inline_js();\n    });\n  }\n}(window));"
     },
     "metadata": {},
     "output_type": "display_data"
    },
    {
     "data": {
      "text/html": [
       "\n",
       "\n",
       "\n",
       "\n",
       "\n",
       "\n",
       "  <div class=\"bk-root\" id=\"183b0b49-388b-4c67-9399-d33fcf52c30f\" data-root-id=\"1003\"></div>\n"
      ]
     },
     "metadata": {},
     "output_type": "display_data"
    },
    {
     "data": {
      "application/javascript": [
       "(function(root) {\n",
       "  function embed_document(root) {\n",
       "    \n",
       "  var docs_json = {\"22cdc3fe-9cf6-4f9d-9b39-49b6918d28d4\":{\"roots\":{\"references\":[{\"attributes\":{\"below\":[{\"id\":\"1014\",\"type\":\"LinearAxis\"}],\"center\":[{\"id\":\"1018\",\"type\":\"Grid\"},{\"id\":\"1022\",\"type\":\"Grid\"}],\"left\":[{\"id\":\"1019\",\"type\":\"CategoricalAxis\"}],\"plot_height\":350,\"renderers\":[{\"id\":\"1027\",\"type\":\"GlyphRenderer\"}],\"title\":{\"id\":\"1004\",\"type\":\"Title\"},\"toolbar\":{\"id\":\"1023\",\"type\":\"Toolbar\"},\"toolbar_location\":null,\"x_range\":{\"id\":\"1006\",\"type\":\"Range1d\"},\"x_scale\":{\"id\":\"1010\",\"type\":\"LinearScale\"},\"y_range\":{\"id\":\"1008\",\"type\":\"FactorRange\"},\"y_scale\":{\"id\":\"1012\",\"type\":\"CategoricalScale\"}},\"id\":\"1003\",\"subtype\":\"Figure\",\"type\":\"Plot\"},{\"attributes\":{},\"id\":\"1035\",\"type\":\"UnionRenderers\"},{\"attributes\":{\"source\":{\"id\":\"1002\",\"type\":\"ColumnDataSource\"}},\"id\":\"1028\",\"type\":\"CDSView\"},{\"attributes\":{\"fill_alpha\":{\"value\":0.1},\"fill_color\":{\"value\":\"#1f77b4\"},\"height\":{\"value\":0.9},\"left\":{\"field\":\"starts\"},\"line_alpha\":{\"value\":0.1},\"line_color\":{\"value\":\"#1f77b4\"},\"right\":{\"field\":\"ends\"},\"y\":{\"field\":\"tasks\"}},\"id\":\"1026\",\"type\":\"HBar\"},{\"attributes\":{\"callback\":null,\"end\":90.0},\"id\":\"1006\",\"type\":\"Range1d\"},{\"attributes\":{},\"id\":\"1012\",\"type\":\"CategoricalScale\"},{\"attributes\":{\"callback\":null,\"data\":{\"ends\":[35,50,75,50,55,60,60,85,80,90],\"starts\":[0,35,35,35,50,50,55,75,75,85],\"tasks\":[\"masonry\",\"carpentry\",\"plumbing\",\"ceiling\",\"roofing\",\"painting\",\"windows\",\"facade\",\"garden\",\"moving\"]},\"selected\":{\"id\":\"1034\",\"type\":\"Selection\"},\"selection_policy\":{\"id\":\"1035\",\"type\":\"UnionRenderers\"}},\"id\":\"1002\",\"type\":\"ColumnDataSource\"},{\"attributes\":{},\"id\":\"1010\",\"type\":\"LinearScale\"},{\"attributes\":{\"callback\":null,\"factors\":[\"masonry\",\"carpentry\",\"plumbing\",\"ceiling\",\"roofing\",\"painting\",\"windows\",\"facade\",\"garden\",\"moving\"]},\"id\":\"1008\",\"type\":\"FactorRange\"},{\"attributes\":{\"text\":\"Task Time Spans\"},\"id\":\"1004\",\"type\":\"Title\"},{\"attributes\":{\"axis_label\":\"Time\",\"formatter\":{\"id\":\"1032\",\"type\":\"BasicTickFormatter\"},\"ticker\":{\"id\":\"1015\",\"type\":\"BasicTicker\"}},\"id\":\"1014\",\"type\":\"LinearAxis\"},{\"attributes\":{},\"id\":\"1020\",\"type\":\"CategoricalTicker\"},{\"attributes\":{},\"id\":\"1015\",\"type\":\"BasicTicker\"},{\"attributes\":{\"ticker\":{\"id\":\"1015\",\"type\":\"BasicTicker\"}},\"id\":\"1018\",\"type\":\"Grid\"},{\"attributes\":{\"dimension\":1,\"grid_line_color\":null,\"ticker\":{\"id\":\"1020\",\"type\":\"CategoricalTicker\"}},\"id\":\"1022\",\"type\":\"Grid\"},{\"attributes\":{\"formatter\":{\"id\":\"1030\",\"type\":\"CategoricalTickFormatter\"},\"ticker\":{\"id\":\"1020\",\"type\":\"CategoricalTicker\"}},\"id\":\"1019\",\"type\":\"CategoricalAxis\"},{\"attributes\":{},\"id\":\"1030\",\"type\":\"CategoricalTickFormatter\"},{\"attributes\":{\"active_drag\":\"auto\",\"active_inspect\":\"auto\",\"active_multi\":null,\"active_scroll\":\"auto\",\"active_tap\":\"auto\"},\"id\":\"1023\",\"type\":\"Toolbar\"},{\"attributes\":{\"fill_color\":{\"value\":\"#1f77b4\"},\"height\":{\"value\":0.9},\"left\":{\"field\":\"starts\"},\"line_color\":{\"value\":\"#1f77b4\"},\"right\":{\"field\":\"ends\"},\"y\":{\"field\":\"tasks\"}},\"id\":\"1025\",\"type\":\"HBar\"},{\"attributes\":{},\"id\":\"1034\",\"type\":\"Selection\"},{\"attributes\":{\"data_source\":{\"id\":\"1002\",\"type\":\"ColumnDataSource\"},\"glyph\":{\"id\":\"1025\",\"type\":\"HBar\"},\"hover_glyph\":null,\"muted_glyph\":null,\"nonselection_glyph\":{\"id\":\"1026\",\"type\":\"HBar\"},\"selection_glyph\":null,\"view\":{\"id\":\"1028\",\"type\":\"CDSView\"}},\"id\":\"1027\",\"type\":\"GlyphRenderer\"},{\"attributes\":{},\"id\":\"1032\",\"type\":\"BasicTickFormatter\"}],\"root_ids\":[\"1003\"]},\"title\":\"Bokeh Application\",\"version\":\"1.4.0\"}};\n",
       "  var render_items = [{\"docid\":\"22cdc3fe-9cf6-4f9d-9b39-49b6918d28d4\",\"roots\":{\"1003\":\"183b0b49-388b-4c67-9399-d33fcf52c30f\"}}];\n",
       "  root.Bokeh.embed.embed_items_notebook(docs_json, render_items);\n",
       "\n",
       "  }\n",
       "  if (root.Bokeh !== undefined) {\n",
       "    embed_document(root);\n",
       "  } else {\n",
       "    var attempts = 0;\n",
       "    var timer = setInterval(function(root) {\n",
       "      if (root.Bokeh !== undefined) {\n",
       "        clearInterval(timer);\n",
       "        embed_document(root);\n",
       "      } else {\n",
       "        attempts++;\n",
       "        if (attempts > 100) {\n",
       "          clearInterval(timer);\n",
       "          console.log(\"Bokeh: ERROR: Unable to run BokehJS code because BokehJS library is missing\");\n",
       "        }\n",
       "      }\n",
       "    }, 10, root)\n",
       "  }\n",
       "})(window);"
      ],
      "application/vnd.bokehjs_exec.v0+json": ""
     },
     "metadata": {
      "application/vnd.bokehjs_exec.v0+json": {
       "id": "1003"
      }
     },
     "output_type": "display_data"
    }
   ],
   "source": [
    "# use bokeh to make a Gantt chart\n",
    "from bokeh.io import show, output_notebook\n",
    "from bokeh.models import ColumnDataSource\n",
    "from bokeh.plotting import figure\n",
    "\n",
    "output_notebook()\n",
    "starts = [solver.Value(start_vars[i]) for i in range(num_tasks)]\n",
    "ends = [solver.Value(end_vars[i]) for i in range(num_tasks)]\n",
    "\n",
    "source = ColumnDataSource(data=dict(tasks=task_names, starts = starts, ends=ends))\n",
    "\n",
    "p = figure(x_range=(0,solver.ObjectiveValue()), y_range=task_names, plot_height=350, title=\"Task Time Spans\",\n",
    "           toolbar_location=None, tools=\"\")\n",
    "\n",
    "p.hbar(y='tasks', left='starts', right='ends', height=0.9, source=source)\n",
    "\n",
    "p.xaxis.axis_label = \"Time\"\n",
    "p.ygrid.grid_line_color = None\n",
    "\n",
    "show(p)"
   ]
  },
  {
   "cell_type": "markdown",
   "metadata": {
    "hidden": true
   },
   "source": [
    "## <font color = \"blue\"> Self Assessment: Add a task</font>"
   ]
  },
  {
   "cell_type": "markdown",
   "metadata": {
    "hidden": true
   },
   "source": [
    "Suppose there is an additional housebuilding task to be included.  The \"insulation\" task has duration 15 and must be done before ceiling and after carpentry, and plumbing.  Add this task and compute the new schedule.  Use the generalizable code to add this task and also make a Gantt chart to visualize the new schedule. *Hopefully this will help convince you of the power of writing generalizable code!*"
   ]
  },
  {
   "cell_type": "markdown",
   "metadata": {
    "heading_collapsed": true
   },
   "source": [
    "# Traveling Salesman Problem"
   ]
  },
  {
   "cell_type": "markdown",
   "metadata": {
    "hidden": true
   },
   "source": [
    "This section is here just for fun and you needn't worry about solving a TSP for this lesson.  The Google or-tools package has tools for routing problems that are built on top of CP-SAT.  In particular they solve the TSP problems by a combination of a heuristic first search (like two-opt for instance) followed by some kind of local search.\n",
    "\n",
    "To learn more visit the or-tools documentation.  We <a href=\"https://developers.google.com/optimization/routing/tsp\">adapted the code from here</a> to solve the 48 capitals TSP we've seen previously.  Run the code below to see it come up with what we think is the optimal solution in about 30 seconds:"
   ]
  },
  {
   "cell_type": "code",
   "execution_count": 12,
   "metadata": {
    "hidden": true
   },
   "outputs": [
    {
     "name": "stdout",
     "output_type": "stream",
     "text": [
      "Objective: 17357.978 km\n",
      "Route for vehicle 0:\n",
      " 0 -> 7 -> 37 -> 30 -> 43 -> 17 -> 6 -> 27 -> 5 -> 36 -> 18 -> 26 -> 16 -> 42 -> 29 -> 35 -> 45 -> 32 -> 19 -> 46 -> 20 -> 31 -> 38 -> 47 -> 4 -> 41 -> 23 -> 9 -> 44 -> 34 -> 3 -> 25 -> 1 -> 28 -> 33 -> 40 -> 15 -> 21 -> 2 -> 22 -> 13 -> 24 -> 12 -> 10 -> 11 -> 14 -> 39 -> 8 -> 0\n",
      "\n"
     ]
    }
   ],
   "source": [
    "\"\"\"Simple travelling salesman problem between cities.\"\"\"\n",
    "\n",
    "from ortools.constraint_solver import routing_enums_pb2\n",
    "from ortools.constraint_solver import pywrapcp\n",
    "\n",
    "# imports\n",
    "import json\n",
    "\n",
    "def create_data_model():\n",
    "    # load data (this may have to be adapted for different problems)\n",
    "    with open(\"data/Caps48.json\", \"r\") as tsp_data:\n",
    "        tsp = json.load(tsp_data)\n",
    "    \"\"\"Stores the data for the problem.\"\"\"\n",
    "    data = {}\n",
    "    data['distance_matrix'] = tsp[\"DistanceMatrix\"]\n",
    "    data['num_vehicles'] = 1\n",
    "    data['depot'] = 0\n",
    "    return data\n",
    "\n",
    "def print_solution(manager, routing, assignment):\n",
    "    \"\"\"Prints assignment on console.\"\"\"\n",
    "    print('Objective: {} km'.format(assignment.ObjectiveValue()/1000))\n",
    "    index = routing.Start(0)\n",
    "    plan_output = 'Route for vehicle 0:\\n'\n",
    "    route_distance = 0\n",
    "    while not routing.IsEnd(index):\n",
    "        plan_output += ' {} ->'.format(manager.IndexToNode(index))\n",
    "        previous_index = index\n",
    "        index = assignment.Value(routing.NextVar(index))\n",
    "        route_distance += routing.GetArcCostForVehicle(previous_index, index, 0)\n",
    "    plan_output += ' {}\\n'.format(manager.IndexToNode(index))\n",
    "    print(plan_output)\n",
    "    plan_output += 'Route distance: {}kilometers\\n'.format(route_distance/1000)\n",
    "\n",
    "# Instantiate the data problem.\n",
    "data = create_data_model()\n",
    "\n",
    "# Create the routing index manager.\n",
    "manager = pywrapcp.RoutingIndexManager(len(data['distance_matrix']),\n",
    "                                       data['num_vehicles'], data['depot'])\n",
    "\n",
    "# Create Routing Model.\n",
    "routing = pywrapcp.RoutingModel(manager)\n",
    "\n",
    "def distance_callback(from_index, to_index):\n",
    "    \"\"\"Returns the distance between the two nodes.\"\"\"\n",
    "    # Convert from routing variable Index to distance matrix NodeIndex.\n",
    "    from_node = manager.IndexToNode(from_index)\n",
    "    to_node = manager.IndexToNode(to_index)\n",
    "    return data['distance_matrix'][from_node][to_node]\n",
    "\n",
    "transit_callback_index = routing.RegisterTransitCallback(distance_callback)\n",
    "\n",
    "# Define cost of each arc.\n",
    "routing.SetArcCostEvaluatorOfAllVehicles(transit_callback_index)\n",
    "\n",
    "# Setting first solution heuristic.\n",
    "search_parameters = pywrapcp.DefaultRoutingSearchParameters()\n",
    "search_parameters.first_solution_strategy = (\n",
    "    routing_enums_pb2.FirstSolutionStrategy.PATH_CHEAPEST_ARC)\n",
    "\n",
    "search_parameters.local_search_metaheuristic = (\n",
    "routing_enums_pb2.LocalSearchMetaheuristic.GUIDED_LOCAL_SEARCH)\n",
    "search_parameters.time_limit.seconds = 10\n",
    "search_parameters.log_search = True\n",
    "\n",
    "# Solve the problem.\n",
    "assignment = routing.SolveWithParameters(search_parameters)\n",
    "\n",
    "# Print solution on console.\n",
    "if assignment:\n",
    "    print_solution(manager, routing, assignment)"
   ]
  },
  {
   "cell_type": "markdown",
   "metadata": {
    "hidden": true
   },
   "source": [
    "That's pretty neat!"
   ]
  }
 ],
 "metadata": {
  "kernelspec": {
   "display_name": "anaconda3",
   "language": "python",
   "name": "anaconda3"
  },
  "language_info": {
   "codemirror_mode": {
    "name": "ipython",
    "version": 3
   },
   "file_extension": ".py",
   "mimetype": "text/x-python",
   "name": "python",
   "nbconvert_exporter": "python",
   "pygments_lexer": "ipython3",
   "version": "3.7.4"
  },
  "toc": {
   "base_numbering": 1,
   "nav_menu": {},
   "number_sections": true,
   "sideBar": true,
   "skip_h1_title": false,
   "title_cell": "Table of Contents",
   "title_sidebar": "Contents",
   "toc_cell": false,
   "toc_position": {},
   "toc_section_display": true,
   "toc_window_display": true
  },
  "varInspector": {
   "cols": {
    "lenName": 16,
    "lenType": 16,
    "lenVar": 40
   },
   "kernels_config": {
    "python": {
     "delete_cmd_postfix": "",
     "delete_cmd_prefix": "del ",
     "library": "var_list.py",
     "varRefreshCmd": "print(var_dic_list())"
    },
    "r": {
     "delete_cmd_postfix": ") ",
     "delete_cmd_prefix": "rm(",
     "library": "var_list.r",
     "varRefreshCmd": "cat(var_dic_list()) "
    }
   },
   "types_to_exclude": [
    "module",
    "function",
    "builtin_function_or_method",
    "instance",
    "_Feature"
   ],
   "window_display": false
  }
 },
 "nbformat": 4,
 "nbformat_minor": 2
}
