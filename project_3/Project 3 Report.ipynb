{
 "cells": [
  {
   "cell_type": "markdown",
   "metadata": {},
   "source": [
    "## Project 3 - Scheduling and Decision Analysis with Uncertainty\n",
    "\n",
    "*Deanna Schneider contributed the bulk of helped this project. THANK YOU Deanna. Don't blame her for the decision analysis though ... that was our idea.*\n",
    "\n",
    "For the final project, we're going to combine concepts from Lesson 7 (Constraint Programming), Lesson 8 (Simulation), and Lesson 9 (Decision Analysis). We'll do this by revisiting the scheduling problem from Lesson 7. But, we're going to make it a little more true-to-life by acknowledging some of the uncertainty in our estimates, and using simulation to help us come up with better estimates. We'll use our estimated profits to construct a payoff table and make a decision about how to proceed with the building project.\n",
    "\n",
    "When we originally created the problem, we used the following estimates for time that each task would take:\n",
    "\n",
    "<img src='images/reliable_table.png' width=\"450\"/>\n",
    "\n",
    "But based on past experience, we know that these are just the most likely estimates of the time needed for each task. Here's our estimated ranges of values (in days instead of weeks) for each task:\n",
    "\n",
    "<img src='images/reliable-estimate-ranges.png' width=\"450\"/>"
   ]
  },
  {
   "cell_type": "markdown",
   "metadata": {},
   "source": [
    "Further, we're going to consider the following factors:\n",
    "\n",
    "* The base amount that Reliable will earn is \\$5.4 million.\n",
    "* If Reliable completes the project in 280 days or less, they will get a bonus of \\$150,000.\n",
    "* If Reliable misses the deadline of 329 days, there will be a \\$25,000 penalty for each day over 329."
   ]
  },
  {
   "cell_type": "markdown",
   "metadata": {},
   "source": [
    "### Part One\n",
    "\n",
    "Create a simulation that uses a triangular distribution to estimate the duration for each of the activities. Use the Optimistic Estimate, Most Likely Estimate, and Pessimistic Estimate for the 3 parameters of your triangular distribution.   Use CP-SAT to find the minimal schedule length in each iteration.  Track the total weeks each simulation takes and the profit for the company.\n",
    "\n",
    "Put your simulation code in the cell below.  Use at least 1000 iterations.  Check your simulation results to make sure the tasks are being executed in the correct order!\n",
    "\n",
    "<font color = \"blue\"> *** 8 points -  answer in cell below *** (don't delete this cell) </font>"
   ]
  },
  {
   "cell_type": "markdown",
   "metadata": {},
   "source": [
    "### Define data"
   ]
  },
  {
   "cell_type": "code",
   "execution_count": 1,
   "metadata": {},
   "outputs": [],
   "source": [
    "import numpy as np\n",
    "\n",
    "activity_map = {\n",
    "    'A': 'excavate',\n",
    "    'B': 'lay_foundation',\n",
    "    'C': 'rough_wall',\n",
    "    'D': 'roof',\n",
    "    'E': 'exterior_plumbing',\n",
    "    'F': 'interior_plumbing',\n",
    "    'G': 'exterior_siding',\n",
    "    'H': 'exterior_painting',\n",
    "    'I': 'electrical_work',\n",
    "    'J': 'wallboard',\n",
    "    'K': 'flooring',\n",
    "    'L': 'interior_painting',\n",
    "    'M': 'exterior_fixtures',\n",
    "    'N': 'interior_fixtures'\n",
    "}\n",
    "\n",
    "activities = {\n",
    "    'A': '',\n",
    "    'B': 'A',\n",
    "    'C': 'B',\n",
    "    'D': 'C',\n",
    "    'E': 'C',\n",
    "    'F': 'E',\n",
    "    'G': 'D',\n",
    "    'H': ['E','G'],\n",
    "    'I': 'C',\n",
    "    'J': ['F','I'],\n",
    "    'K': 'J',\n",
    "    'L': 'J',\n",
    "    'M': 'H',\n",
    "    'N': ['K','L']\n",
    "}\n",
    "\n",
    "precedence_dict = {}\n",
    "\n",
    "# populate precedence dict with dependencies in reverse\n",
    "for k, v in activities.items():\n",
    "    for k2, v2 in activities.items():\n",
    "        if isinstance(v2, list):\n",
    "            if k in v2 or k == v2:\n",
    "                if activity_map[k] not in precedence_dict:\n",
    "                    precedence_dict[activity_map[k]] = [activity_map[k2]]\n",
    "                else:\n",
    "                    precedence_dict[activity_map[k]].append(activity_map[k2])\n",
    "        else:\n",
    "            if k == v2:\n",
    "                if activity_map[k] not in precedence_dict:\n",
    "                    precedence_dict[activity_map[k]] = [activity_map[k2]]\n",
    "                else:\n",
    "                    precedence_dict[activity_map[k]].append(activity_map[k2])"
   ]
  },
  {
   "cell_type": "markdown",
   "metadata": {},
   "source": [
    "### Define functions"
   ]
  },
  {
   "cell_type": "code",
   "execution_count": 2,
   "metadata": {},
   "outputs": [],
   "source": [
    "def simulate(artifacts_found = True, buy_insurance = False, print_schedule = False):\n",
    "    \"\"\"\n",
    "    function to simulate profit according to task duration and costs\n",
    "    \"\"\"\n",
    "    # days in a week\n",
    "    n = 7\n",
    "\n",
    "    min_schedule_ls = []\n",
    "    profit_ls = []\n",
    "\n",
    "    np.random.seed(6)\n",
    "    \n",
    "    if isinstance(artifacts_found, (int, float)):\n",
    "        prob_found = artifacts_found\n",
    "        prob_dist = (1-prob_found, prob_found)\n",
    "\n",
    "    for j in range(1000):\n",
    "        if prob_dist:\n",
    "            artifacts_found = np.random.choice([0,1], 1, p=[*prob_dist])\n",
    "\n",
    "        if artifacts_found == 1 or artifacts_found is True:\n",
    "            time_dist = int(np.random.triangular(7/n, 15/n, 365/n))\n",
    "        else:\n",
    "            time_dist = int(np.random.triangular(7/n, 14/n, 21/n))\n",
    "\n",
    "        task_duration_dict = {\n",
    "            'excavate': time_dist,\n",
    "            'lay_foundation': int(np.random.triangular(14/n, 21/n, 56/n)),\n",
    "            'rough_wall': int(np.random.triangular(42/n, 63/n, 126/n)),\n",
    "            'roof': int(np.random.triangular(28/n, 35/n, 70/n)),\n",
    "            'exterior_plumbing': int(np.random.triangular(7/n, 28/n, 35/n)),\n",
    "            'interior_plumbing': int(np.random.triangular(28/n, 35/n, 70/n)),\n",
    "            'exterior_siding': int(np.random.triangular(35/n, 42/n, 77/n)),\n",
    "            'exterior_painting': int(np.random.triangular(35/n, 56/n, 119/n)),\n",
    "            'electrical_work': int(np.random.triangular(21/n, 49/n, 63/n)),\n",
    "            'wallboard': int(np.random.triangular(21/n, 63/n, 63/n)),\n",
    "            'flooring': int(np.random.triangular(21/n, 28/n, 28/n)),\n",
    "            'interior_painting': int(np.random.triangular(7/n, 35/n, 49/n)),\n",
    "            'exterior_fixtures': int(np.random.triangular(7/n, 14/n, 21/n)),\n",
    "            'interior_fixtures': int(np.random.triangular(35/n, 35/n, 63/n))\n",
    "        }\n",
    "        task_names = list(task_duration_dict.keys())\n",
    "        num_tasks = len(task_names)\n",
    "        durations = list(task_duration_dict.values())\n",
    "\n",
    "        task_name_to_number_dict = dict(zip(task_names, np.arange(0, num_tasks)))\n",
    "\n",
    "        horizon = sum(task_duration_dict.values())\n",
    "\n",
    "        from ortools.sat.python import cp_model\n",
    "        model = cp_model.CpModel()\n",
    "\n",
    "        start_vars = [\n",
    "            model.NewIntVar(0, horizon, name=f'start_{t}') for t in task_names\n",
    "        ]\n",
    "        end_vars = [model.NewIntVar(0, horizon, name=f'end_{t}') for t in task_names]\n",
    "\n",
    "        # the `NewIntervalVar` are both variables and constraints, the internally enforce that start + duration = end\n",
    "        intervals = [\n",
    "            model.NewIntervalVar(start_vars[i],\n",
    "                                 durations[i],\n",
    "                                 end_vars[i],\n",
    "                                 name=f'interval_{task_names[i]}')\n",
    "            for i in range(num_tasks)\n",
    "        ]\n",
    "\n",
    "        # precedence constraints\n",
    "        for before in list(precedence_dict.keys()):\n",
    "            for after in precedence_dict[before]:\n",
    "                before_index = task_name_to_number_dict[before]\n",
    "                after_index = task_name_to_number_dict[after]\n",
    "                model.Add(end_vars[before_index] <= start_vars[after_index])\n",
    "\n",
    "        obj_var = model.NewIntVar(0, horizon, 'largest_end_time')\n",
    "        model.AddMaxEquality(obj_var, end_vars)\n",
    "        model.Minimize(obj_var)\n",
    "\n",
    "        solver = cp_model.CpSolver()\n",
    "        status = solver.Solve(model)\n",
    "        \n",
    "        # optimal schedule in days\n",
    "        osl_days = solver.ObjectiveValue()*n\n",
    "        \n",
    "        # append optimal schedule to list\n",
    "        min_schedule_ls.append(osl_days)\n",
    "        \n",
    "        import math\n",
    "        \n",
    "        base, bonus, penalty = 5400000, 0, 0\n",
    "\n",
    "        # define insurance costs\n",
    "        if buy_insurance == False:\n",
    "            insurance_cost = 0\n",
    "        else:\n",
    "            insurance_cost = 500000\n",
    "\n",
    "        # define artifact costs \n",
    "        if artifacts_found == 1 or artifacts_found == True:\n",
    "            if buy_insurance == False:\n",
    "                artifact_cost = np.random.exponential(scale=100000)\n",
    "            else:\n",
    "                artifact_cost = 0\n",
    "\n",
    "        else:\n",
    "            artifact_cost = 0\n",
    "\n",
    "        # define bonus and penalty for days over deadline\n",
    "        if math.ceil(osl_days) < 280:\n",
    "            bonus = 150000\n",
    "            \n",
    "        elif math.ceil(osl_days) > 329:\n",
    "            days_over = int(math.ceil(osl_days)) - 329\n",
    "            penalty = days_over * 25000\n",
    "        \n",
    "        # calculate profit\n",
    "        profit = base + bonus - (penalty + artifact_cost + insurance_cost)\n",
    "        profit_ls.append(profit)\n",
    "        \n",
    "    if print_schedule is True:\n",
    "        print(f'Optimal Schedule Length (weeks): {solver.ObjectiveValue()}')\n",
    "        for i in range(num_tasks):\n",
    "            print(\n",
    "                f'{task_names[i]} start at {solver.Value(start_vars[i])} and end at {solver.Value(end_vars[i])}'\n",
    "            )\n",
    "\n",
    "    return profit_ls, min_schedule_ls\n",
    "\n",
    "def return_stats(profit_ls, min_schedule_ls, show_summary = True):\n",
    "    \"\"\"\n",
    "    function to return simulation statistics\n",
    "    \"\"\"    \n",
    "    profit_ls = np.array(profit_ls)\n",
    "    min_schedule_ls = np.array(min_schedule_ls)\n",
    "\n",
    "    # calculate summary stats\n",
    "    mean_profit = int(np.mean(profit_ls))\n",
    "    less_than_280 = len(np.where(min_schedule_ls < 280)[0])/len(min_schedule_ls)\n",
    "    between_280_and_329 = len(np.intersect1d(np.where(min_schedule_ls >= 280)[0],np.where(min_schedule_ls <= 329)[0]))/len(min_schedule_ls)\n",
    "    over_329 = len(np.where(min_schedule_ls > 329)[0])/len(min_schedule_ls)\n",
    "\n",
    "    # print summary stats else return them\n",
    "    if show_summary is True:\n",
    "        print(f\"\"\"Summary Stats:\n",
    "        mean profit: ${mean_profit:,.2f}\n",
    "        prob less than 280 days: {round(less_than_280*100,2)}%\n",
    "        prob between 280 and 329 days: {round(between_280_and_329*100,2)}%\n",
    "        prob over 329 days: {round(over_329*100,2)}%\n",
    "        prob sum: {(less_than_280 + between_280_and_329 + over_329)*100}%\"\"\")\n",
    "\n",
    "    else:\n",
    "        return mean_profit\n",
    "\n",
    "def show_payoff_table(artifacts_found = .30):\n",
    "    \"\"\"\n",
    "    function to calculate payoff table for use in Bayes Decision Rule\n",
    "    \"\"\" \n",
    "    import pandas as pd\n",
    "\n",
    "    # define states, alternatives, and prior probs\n",
    "    alternatives = {'Buy_Insurance': True,'No_Insurance': False}\n",
    "    states =  {'Artifacts': True, 'No_Artifacts': False}\n",
    "    df  = pd.DataFrame(columns = list(states.keys()), index=list(alternatives.keys()))\n",
    "    prior_probs = [artifacts_found, 1-artifacts_found]\n",
    "\n",
    "    # populate payoff table\n",
    "    for alt_name, alt_val in alternatives.items():\n",
    "        for state_name, state_value in states.items():\n",
    "            profit_ls, min_schedule_ls = simulate(artifacts_found = state_value, buy_insurance = alt_val)\n",
    "            mean_profit = return_stats(profit_ls, min_schedule_ls, show_summary = False)\n",
    "            df.loc[alt_name][state_name] = round(mean_profit/1000000,1)\n",
    "\n",
    "    return df, prior_probs\n",
    "\n",
    "\n",
    "def bayes_calc(prior_probs, df):\n",
    "    \"\"\"\n",
    "    function to calculate expected payoffs and best alternative\n",
    "    \"\"\" \n",
    "    # create arrays of alternatives and prior probs\n",
    "    alt_states = np.array([df.loc[\"Buy_Insurance\"].tolist(),df.loc[\"No_Insurance\"].tolist()])\n",
    "    prior_probs = np.array(prior_probs)\n",
    "    expected_payoffs = {}\n",
    "\n",
    "    # calculate expected payoffs using Bayes' decision rule\n",
    "    for i, alt in enumerate(alt_states):\n",
    "        ep = sum(prior_probs * np.array(alt))\n",
    "        expected_payoffs[df.index[i]] = ep\n",
    "\n",
    "    # get maximum payoff and best alternative\n",
    "    best_alt = max(expected_payoffs, key=expected_payoffs.get)\n",
    "    max_val = expected_payoffs[best_alt]\n",
    "\n",
    "    return best_alt, max_val"
   ]
  },
  {
   "cell_type": "markdown",
   "metadata": {},
   "source": [
    "What is the probability that Reliable Company will finish the bid in less than 280 days, between 280 and 329 days, and over 329 days? What is their average profit?\n",
    "\n",
    "Include code to answer these questions with output below:\n",
    "\n",
    "<font color = \"blue\"> *** 2 points -  answer in cell below *** (don't delete this cell) </font>"
   ]
  },
  {
   "cell_type": "code",
   "execution_count": 3,
   "metadata": {},
   "outputs": [
    {
     "name": "stdout",
     "output_type": "stream",
     "text": [
      "Summary Stats:\n",
      "        mean profit: $5,410,850.00\n",
      "        prob less than 280 days: 27.3%\n",
      "        prob between 280 and 329 days: 65.0%\n",
      "        prob over 329 days: 7.7%\n",
      "        prob sum: 100.0%\n"
     ]
    }
   ],
   "source": [
    "profit_ls, min_schedule_ls = simulate(artifacts_found = False)\n",
    "return_stats(profit_ls, min_schedule_ls)"
   ]
  },
  {
   "cell_type": "markdown",
   "metadata": {},
   "source": [
    "### Part Two\n",
    "From past experience, we know that special artifacts are sometimes found in the area where Reliable Construction is planning this building project.  When special artifacts are found, the excavation phase takes considerably longer and the entire project costs more - sometimes much more. They're never quite sure how much longer it will take, but it averages around an extra 15 days, and takes at least an extra 7 days. They've seen some sites where relocating the special artifacts took as much as 365 extra days (yes - a whole year)! \n",
    "\n",
    "In addition, there are usually unanticipated costs that include fines and other things.  The accounting departments suggest that we model those costs with an exponential distribution with mean (scale) \\\\$100,000.\n",
    "\n",
    "\n",
    "Run a second simulation with these new parameters and using at least 1000 iterations.\n",
    "\n",
    "Put your simulation code in the cell below.\n",
    "\n",
    "<font color = \"blue\"> *** 8 points -  answer in cell below *** (don't delete this cell) </font>"
   ]
  },
  {
   "cell_type": "code",
   "execution_count": 4,
   "metadata": {},
   "outputs": [],
   "source": [
    "profit_ls, min_schedule_ls = simulate(artifacts_found = True)"
   ]
  },
  {
   "cell_type": "markdown",
   "metadata": {},
   "source": [
    "What is the probability of meeting the Under 280, 280-329 or over 329 cutoff points now? What's the average profit now?\n",
    "\n",
    "Include code to answer these questions with output below:\n",
    "\n",
    "<font color = \"blue\"> *** 2 points -  answer in cell below *** (don't delete this cell) </font>"
   ]
  },
  {
   "cell_type": "code",
   "execution_count": 5,
   "metadata": {
    "scrolled": true
   },
   "outputs": [
    {
     "name": "stdout",
     "output_type": "stream",
     "text": [
      "Summary Stats:\n",
      "        mean profit: $3,187,411.00\n",
      "        prob less than 280 days: 2.4%\n",
      "        prob between 280 and 329 days: 18.8%\n",
      "        prob over 329 days: 78.8%\n",
      "        prob sum: 100.0%\n"
     ]
    }
   ],
   "source": [
    "return_stats(profit_ls, min_schedule_ls)"
   ]
  },
  {
   "cell_type": "markdown",
   "metadata": {},
   "source": [
    "### Part Three\n",
    "\n",
    "Clearly dealing with artifacts can be very costly for Reliable Construction.  It is known from past experience that about 30% of building sites in this area contain special artifacts.  Fortunately, they can purchase an insurance policy - a quite expensive insurance policy. The insurance policy costs \\$500000, but it covers all fines and penalities for delays in the event that special artifacts are found that require remediation. Effectively, this means that Reliable could expect the same profit they would get if no artifacts were found (minus the cost of the policy).\n",
    "\n",
    "Given the estimated profit without artifacts, the estimated profit with artifacts, the cost of insurance, the 30% likelihood of finding artifacts, create a payoff table and use Baye's Decision Rule to determine what decision Reliable should make.  You should round the simulated costs to nearest \\\\$100,000 and use units of millions of dollars so that, for example, \\\\$8,675,309 is 8.7 million dollars.\n",
    "\n",
    "Provide appropriate evidence for the best decision such as a payoff table or picture of a suitable (small) decision tree.\n",
    "\n",
    "<font color = \"blue\"> *** 6 points -  answer in cell below *** (don't delete this cell) </font>"
   ]
  },
  {
   "cell_type": "code",
   "execution_count": 6,
   "metadata": {
    "scrolled": true
   },
   "outputs": [
    {
     "data": {
      "text/html": [
       "<style  type=\"text/css\" >\n",
       "</style><table id=\"T_f9f99c1a_0ff0_11ea_a9b4_784f43a442f4\" ><thead>    <tr>        <th class=\"blank level0\" ></th>        <th class=\"col_heading level0 col0\" >Artifacts</th>        <th class=\"col_heading level0 col1\" >No_Artifacts</th>    </tr></thead><tbody>\n",
       "                <tr>\n",
       "                        <th id=\"T_f9f99c1a_0ff0_11ea_a9b4_784f43a442f4level0_row0\" class=\"row_heading level0 row0\" >Buy_Insurance</th>\n",
       "                        <td id=\"T_f9f99c1a_0ff0_11ea_a9b4_784f43a442f4row0_col0\" class=\"data row0 col0\" >$2.7M</td>\n",
       "                        <td id=\"T_f9f99c1a_0ff0_11ea_a9b4_784f43a442f4row0_col1\" class=\"data row0 col1\" >$4.9M</td>\n",
       "            </tr>\n",
       "            <tr>\n",
       "                        <th id=\"T_f9f99c1a_0ff0_11ea_a9b4_784f43a442f4level0_row1\" class=\"row_heading level0 row1\" >No_Insurance</th>\n",
       "                        <td id=\"T_f9f99c1a_0ff0_11ea_a9b4_784f43a442f4row1_col0\" class=\"data row1 col0\" >$3.2M</td>\n",
       "                        <td id=\"T_f9f99c1a_0ff0_11ea_a9b4_784f43a442f4row1_col1\" class=\"data row1 col1\" >$5.4M</td>\n",
       "            </tr>\n",
       "    </tbody></table>"
      ],
      "text/plain": [
       "<pandas.io.formats.style.Styler at 0x11dd8fbd0>"
      ]
     },
     "execution_count": 6,
     "metadata": {},
     "output_type": "execute_result"
    }
   ],
   "source": [
    "df, prior_probs = show_payoff_table()\n",
    "df.style.format('${0:,.1f}M')"
   ]
  },
  {
   "cell_type": "markdown",
   "metadata": {},
   "source": [
    "Describe, in words, the best decision and the reason for that decision:\n",
    "\n",
    "<font color = \"blue\"> *** 2 points -  answer in cell below *** (don't delete this cell) </font>"
   ]
  },
  {
   "cell_type": "code",
   "execution_count": 7,
   "metadata": {},
   "outputs": [
    {
     "name": "stdout",
     "output_type": "stream",
     "text": [
      "The best decision for Reliable Construction is take No Insurance with an expected payoff of $4.74M.\n",
      "This is the best decision for Reliable C. given the simulated trials and prior probabilities of finding artifacts.\n"
     ]
    }
   ],
   "source": [
    "best_alt, max_val = bayes_calc(prior_probs, df)\n",
    "best_alt = best_alt.replace(\"_\",\" \")\n",
    "print(f\"\"\"The best decision for Reliable Construction is take {best_alt} with an expected payoff of ${max_val}M.\n",
    "This is the best decision for Reliable C. given the simulated trials and prior probabilities of finding artifacts.\"\"\")"
   ]
  },
  {
   "cell_type": "markdown",
   "metadata": {},
   "source": [
    "### Part 4\n",
    "Reliable has been contacted by an archeological consulting firm. They assess sites and predict whether special artifacts are present. They have a pretty solid track record of being right when they predict that artifacts are present - they get it right about 86% of the time. Their track record is less great when they predict there are no artifacts. They're right about 72% of the time.\n",
    "\n",
    "First find the posterior probabilities and provide evidence for how you got them (Silver Decisions screenshot or ?).\n",
    "\n",
    "<font color = \"blue\"> *** 6 points -  answer in cell below *** (don't delete this cell) </font>"
   ]
  },
  {
   "cell_type": "code",
   "execution_count": 8,
   "metadata": {},
   "outputs": [
    {
     "name": "stdout",
     "output_type": "stream",
     "text": [
      "Posterior probs are:\n",
      "P(s1|f1) (Predicted Artifact - Artifact i.e. True Positive) = 0.568\n",
      "P(s2|f1) (Predicted Artifact - No Artifact i.e. False Positive) = 0.432\n",
      "P(s1|f2) (Predicted No Artifact - Artifact i.e. False Negative) = 0.077\n",
      "P(s2|f2) (Predicted No Artifact - No Artifact i.e. True Negative)= 0.923\n"
     ]
    }
   ],
   "source": [
    "# prior probs\n",
    "pp1 = .30\n",
    "pp2 = .70\n",
    "\n",
    "f1 = (.86*pp1)+(.28*pp2)\n",
    "f2 = (.14*pp1)+(.72*pp2)\n",
    "\n",
    "# posterior probs\n",
    "p_s1_f1 = (.86*pp1)/f1\n",
    "p_s2_f1 = (.28*pp2)/f1\n",
    "\n",
    "p_s1_f2 = (.14*pp1)/f2\n",
    "p_s2_f2 = (.72*pp2)/f2\n",
    "\n",
    "# summary\n",
    "print(f\"\"\"Posterior probs are:\n",
    "P(s1|f1) (Predicted Artifact - Artifact i.e. True Positive) = {round(p_s1_f1,3)}\n",
    "P(s2|f1) (Predicted Artifact - No Artifact i.e. False Positive) = {round(p_s2_f1,3)}\n",
    "P(s1|f2) (Predicted No Artifact - Artifact i.e. False Negative) = {round(p_s1_f2,3)}\n",
    "P(s2|f2) (Predicted No Artifact - No Artifact i.e. True Negative)= {round(p_s2_f2,3)}\"\"\")"
   ]
  },
  {
   "cell_type": "markdown",
   "metadata": {},
   "source": [
    "The consulting fee for the site in question is \\$50,000. \n",
    "\n",
    "Construct a decision tree to help Reliable decide if they should hire the consulting firm or not and if they should buy insurance or not.  Again, you should round the simulated costs to nearest $100,000 and use units of millions of dollars (e.g. 3.8 million dollars) in your decision tree.\n",
    "\n",
    "Include a picture of the tree exported from Silver Decisions.\n",
    "\n",
    "<font color = \"blue\"> *** 10 points -  answer in cell below *** (don't delete this cell) </font>"
   ]
  },
  {
   "cell_type": "markdown",
   "metadata": {},
   "source": [
    "<img src='dt.png' width=100% height=100%/>"
   ]
  },
  {
   "cell_type": "markdown",
   "metadata": {},
   "source": [
    "Summarize the optimal policy in words here:\n",
    "\n",
    "<font color = \"blue\"> *** 2 points -  answer in cell below *** (don't delete this cell) </font>"
   ]
  },
  {
   "cell_type": "markdown",
   "metadata": {},
   "source": [
    "<font color = \"green\">\n",
    "The optimal policy for Reliable C. is not to hire a consulting firm and not to buy insurance.\n",
    "</font>"
   ]
  },
  {
   "cell_type": "markdown",
   "metadata": {},
   "source": [
    "### Part 5\n",
    "\n",
    "How confident do you feel about the results of your decision analysis? If you were being paid to complete this analysis, what further steps might you take to increase your confidence in your results?\n",
    "\n",
    "<font color = \"blue\"> *** 4 points -  answer in cell below *** (don't delete this cell) </font>"
   ]
  },
  {
   "cell_type": "markdown",
   "metadata": {},
   "source": [
    "<font color = \"green\">\n",
    "I feel fairly confident in my analysis. To increase my confidence in the results, I would further consider:\n",
    "\n",
    "* Running a sensitivity analysis\n",
    "* Running a parameter analysis (like in lesson 8) for 10 different percentiles (of finding artifacts)\n",
    "* Including geographic/location data to calculate a rough probability of finding artifacts\n",
    "* Running the exercise with different probability distributions for various variables and taking the average\n",
    "* Running the exercise with deviations to posterior probabilities\n",
    "* Increasing simulation size\n",
    "\n",
    "These are perhaps the primary ideas that come to mind.\n",
    "</font>"
   ]
  }
 ],
 "metadata": {
  "kernelspec": {
   "display_name": "anaconda3",
   "language": "python",
   "name": "anaconda3"
  },
  "language_info": {
   "codemirror_mode": {
    "name": "ipython",
    "version": 3
   },
   "file_extension": ".py",
   "mimetype": "text/x-python",
   "name": "python",
   "nbconvert_exporter": "python",
   "pygments_lexer": "ipython3",
   "version": "3.7.4"
  },
  "toc": {
   "base_numbering": 1,
   "nav_menu": {},
   "number_sections": true,
   "sideBar": true,
   "skip_h1_title": false,
   "title_cell": "Table of Contents",
   "title_sidebar": "Contents",
   "toc_cell": false,
   "toc_position": {},
   "toc_section_display": true,
   "toc_window_display": false
  },
  "varInspector": {
   "cols": {
    "lenName": 16,
    "lenType": 16,
    "lenVar": 40
   },
   "kernels_config": {
    "python": {
     "delete_cmd_postfix": "",
     "delete_cmd_prefix": "del ",
     "library": "var_list.py",
     "varRefreshCmd": "print(var_dic_list())"
    },
    "r": {
     "delete_cmd_postfix": ") ",
     "delete_cmd_prefix": "rm(",
     "library": "var_list.r",
     "varRefreshCmd": "cat(var_dic_list()) "
    }
   },
   "types_to_exclude": [
    "module",
    "function",
    "builtin_function_or_method",
    "instance",
    "_Feature"
   ],
   "window_display": false
  }
 },
 "nbformat": 4,
 "nbformat_minor": 2
}
